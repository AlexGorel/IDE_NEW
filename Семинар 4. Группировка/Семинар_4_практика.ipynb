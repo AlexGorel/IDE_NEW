{
  "cells": [
    {
      "cell_type": "code",
      "execution_count": 5,
      "metadata": {
        "id": "5ABDzOfUTjXO"
      },
      "outputs": [
        {
          "name": "stdout",
          "output_type": "stream",
          "text": [
            "<class 'pandas.core.frame.DataFrame'>\n",
            "RangeIndex: 271116 entries, 0 to 271115\n",
            "Data columns (total 15 columns):\n",
            " #   Column  Non-Null Count   Dtype  \n",
            "---  ------  --------------   -----  \n",
            " 0   ID      271116 non-null  int64  \n",
            " 1   Name    271116 non-null  object \n",
            " 2   Sex     271116 non-null  object \n",
            " 3   Age     261642 non-null  float64\n",
            " 4   Height  210945 non-null  float64\n",
            " 5   Weight  208241 non-null  float64\n",
            " 6   Team    271116 non-null  object \n",
            " 7   NOC     271116 non-null  object \n",
            " 8   Games   271116 non-null  object \n",
            " 9   Year    271116 non-null  int64  \n",
            " 10  Season  271116 non-null  object \n",
            " 11  City    271116 non-null  object \n",
            " 12  Sport   271116 non-null  object \n",
            " 13  Event   271116 non-null  object \n",
            " 14  Medal   39783 non-null   object \n",
            "dtypes: float64(3), int64(2), object(10)\n",
            "memory usage: 31.0+ MB\n"
          ]
        }
      ],
      "source": [
        "import pandas as pd\n",
        "\n",
        "df = pd.read_csv('C:\\скил\\DST-156\\IDE_NEW\\Семинар 4. Группировка/olymp.csv')\n",
        "df\n",
        "df.info()"
      ]
    },
    {
      "cell_type": "markdown",
      "metadata": {},
      "source": [
        "Вопрос 1\n",
        "\n",
        "Найдите год проведения Олимпиады, в который средний возраст атлетов был минимальный\n",
        "\n",
        "АЛГОРИТМ РЕШЕНИЯ\n",
        "\n",
        "1. Сгруппируйте данные: столбец группировки год/игра (Year/Games), столбец агрегирования возраст (Age), метод агрегирования среднее\n",
        "2. Отсортируйте данные по возрастанию с помощью .sort_values()"
      ]
    },
    {
      "cell_type": "code",
      "execution_count": 17,
      "metadata": {
        "colab": {
          "base_uri": "https://localhost:8080/"
        },
        "id": "GQ4Yf4ZLVOwx",
        "outputId": "e4e92dfd-b7b7-406a-f7f8-a5266a9d7827"
      },
      "outputs": [
        {
          "name": "stdout",
          "output_type": "stream",
          "text": [
            "Year\n",
            "1896    23.580645\n",
            "1980    23.694743\n",
            "1976    23.841818\n",
            "1984    23.898347\n",
            "1988    24.079432\n",
            "1968    24.248046\n",
            "1972    24.308607\n",
            "1992    24.318895\n",
            "1994    24.422103\n",
            "1996    24.915045\n",
            "1964    24.944397\n",
            "1998    25.163197\n",
            "1960    25.168848\n",
            "2000    25.422504\n",
            "2004    25.639515\n",
            "2008    25.734118\n",
            "2002    25.916281\n",
            "1956    25.926674\n",
            "2006    25.959151\n",
            "2012    25.961378\n",
            "2014    25.987324\n",
            "2010    26.124262\n",
            "1952    26.161546\n",
            "2016    26.207919\n",
            "1904    26.698150\n",
            "1908    26.970228\n",
            "1906    27.125253\n",
            "1936    27.530328\n",
            "1912    27.538620\n",
            "1924    28.373325\n",
            "1948    28.783947\n",
            "1900    29.034031\n",
            "1928    29.112557\n",
            "1920    29.290978\n",
            "1932    32.582080\n",
            "Name: Age, dtype: float64\n"
          ]
        }
      ],
      "source": [
        "avg_age_by_year = df.groupby('Year')['Age'].mean().sort_values()\n",
        "\n",
        "\n",
        "print(avg_age_by_year)\n"
      ]
    },
    {
      "cell_type": "code",
      "execution_count": 26,
      "metadata": {
        "colab": {
          "base_uri": "https://localhost:8080/",
          "height": 489
        },
        "id": "qK6WK9uCWDMg",
        "outputId": "f1b55590-bc5d-4daa-c2df-03c0d4ffa6cd"
      },
      "outputs": [
        {
          "data": {
            "text/plain": [
              "Sport\n",
              "Athletics        22071\n",
              "Swimming          8765\n",
              "Rowing            7687\n",
              "Football          6161\n",
              "Cycling           5819\n",
              "                 ...  \n",
              "Croquet             10\n",
              "Racquets             7\n",
              "Roque                4\n",
              "Basque Pelota        2\n",
              "Aeronautics          1\n",
              "Name: ID, Length: 66, dtype: int64"
            ]
          },
          "execution_count": 26,
          "metadata": {},
          "output_type": "execute_result"
        }
      ],
      "source": [
        "unique_athletes_per_sport = df.groupby('Sport')['ID'].nunique().sort_values(ascending=False)\n",
        "\n",
        "unique_athletes_per_sport"
      ]
    },
    {
      "cell_type": "code",
      "execution_count": 27,
      "metadata": {
        "colab": {
          "base_uri": "https://localhost:8080/",
          "height": 585
        },
        "id": "x0hsTmjhWeCI",
        "outputId": "ef7da058-fb1c-4d03-a5d2-8be243561045"
      },
      "outputs": [
        {
          "data": {
            "text/plain": [
              "Team\n",
              "Soviet Union       27\n",
              "Norway              6\n",
              "East Germany        6\n",
              "Sweden              5\n",
              "United States       4\n",
              "East Germany-1      4\n",
              "East Germany-2      2\n",
              "Soviet Union-1      2\n",
              "Italy               2\n",
              "Finland             2\n",
              "Great Britain-1     2\n",
              "West Germany-1      2\n",
              "Switzerland         2\n",
              "Canada              1\n",
              "West Germany        1\n",
              "Name: ID, dtype: int64"
            ]
          },
          "execution_count": 27,
          "metadata": {},
          "output_type": "execute_result"
        }
      ],
      "source": [
        "gold_medal_1984 = df[(df['Year'] == 1984) & (df['Season'] == 'Winter') & (df['Medal'] == 'Gold')]\n",
        "\n",
        "gold_medal_1984.groupby('Team')['ID'].nunique().sort_values(ascending=False)\n",
        "\n",
        "\n"
      ]
    },
    {
      "cell_type": "code",
      "execution_count": 28,
      "metadata": {
        "colab": {
          "base_uri": "https://localhost:8080/"
        },
        "id": "_yUnL-ffYcBI",
        "outputId": "59cfa874-2157-4b55-bb97-9339ebe6c3b5"
      },
      "outputs": [
        {
          "name": "stdout",
          "output_type": "stream",
          "text": [
            "     Height  Weight  New_feat\n",
            "NOC                          \n",
            "AFG   186.0   111.0      75.0\n",
            "AHO   193.0   120.0      73.0\n",
            "ALB   195.0   130.0      65.0\n",
            "ALG   200.0   125.0      75.0\n",
            "AND   189.0    90.0      99.0\n",
            "..      ...     ...       ...\n",
            "YEM   185.0    75.0     110.0\n",
            "YMD   175.0    71.0     104.0\n",
            "YUG   217.0   130.0      87.0\n",
            "ZAM   190.0    95.0      95.0\n",
            "ZIM   205.0   106.0      99.0\n",
            "\n",
            "[230 rows x 3 columns]\n"
          ]
        },
        {
          "data": {
            "text/plain": [
              "np.float64(21.0)"
            ]
          },
          "execution_count": 28,
          "metadata": {},
          "output_type": "execute_result"
        }
      ],
      "source": [
        "H_and_W = df.groupby(by='NOC')[['Height', \"Weight\"]].max()\n",
        "H_and_W['New_feat'] = abs(H_and_W['Height'] - H_and_W['Weight'])\n",
        "print(H_and_W)\n",
        "H_and_W['New_feat'].min()"
      ]
    },
    {
      "cell_type": "code",
      "execution_count": 29,
      "metadata": {
        "colab": {
          "base_uri": "https://localhost:8080/"
        },
        "id": "04dpcjR7cIMl",
        "outputId": "6ac34573-a512-4116-ea71-92985bc5f240"
      },
      "outputs": [
        {
          "name": "stdout",
          "output_type": "stream",
          "text": [
            "Number of athletes from the Soviet Union with a success rate at least 0.5: 1545\n"
          ]
        }
      ],
      "source": [
        "# Filter and select only athletes from the Soviet Union\n",
        "soviet_union_athletes = df[df['Team'] == 'Soviet Union']\n",
        "\n",
        "\n",
        "# Create a pivot table based on the filtered data to count the number of categories of sports disciplines and medals for each athlete\n",
        "grouped_data = soviet_union_athletes.groupby('ID').agg({'Event': 'nunique', 'Medal': 'count'})\n",
        "\n",
        "# Calculate the success rate for each athlete\n",
        "grouped_data['Success_Rate'] = grouped_data['Medal'] / grouped_data['Event']\n",
        "\n",
        "# Filter by success rate greater than or equal to 0.5\n",
        "athletes_success_rate_at_least_0_5 = grouped_data[grouped_data['Success_Rate'] >= 0.5]\n",
        "\n",
        "# Count the number of athletes with a success rate of at least 0.5\n",
        "num_athletes_success_rate_at_least_0_5 = len(athletes_success_rate_at_least_0_5)\n",
        "\n",
        "print(\"Number of athletes from the Soviet Union with a success rate at least 0.5:\", num_athletes_success_rate_at_least_0_5)"
      ]
    },
    {
      "cell_type": "code",
      "execution_count": 30,
      "metadata": {
        "colab": {
          "base_uri": "https://localhost:8080/"
        },
        "id": "S_b91TYMf71g",
        "outputId": "0b3d90f8-3977-4ed1-bb7b-bf5a0445c963"
      },
      "outputs": [
        {
          "name": "stdout",
          "output_type": "stream",
          "text": [
            "Number of athletes from the Soviet Union with a success rate at least 0.5: 1453\n"
          ]
        }
      ],
      "source": [
        "\n",
        "\n",
        "soviet_union_athletes = df[df['Team'] == 'Soviet Union']\n",
        "\n",
        "grouped_data = soviet_union_athletes.groupby('ID')[['Event', 'Medal']].count()\n",
        "\n",
        "grouped_data['Success_Rate'] = grouped_data['Medal'] / grouped_data['Event']\n",
        "\n",
        "athletes_success_rate_at_least_0_5 = grouped_data[grouped_data['Success_Rate'] >= 0.5]\n",
        "\n",
        "num_athletes_success_rate_at_least_0_5 = len(athletes_success_rate_at_least_0_5)\n",
        "\n",
        "print(\"Number of athletes from the Soviet Union with a success rate at least 0.5:\", num_athletes_success_rate_at_least_0_5)"
      ]
    },
    {
      "cell_type": "code",
      "execution_count": null,
      "metadata": {
        "colab": {
          "base_uri": "https://localhost:8080/"
        },
        "id": "LuzZdft_g3IE",
        "outputId": "777bd7fd-0013-4c78-fca5-8f3175699090"
      },
      "outputs": [
        {
          "name": "stdout",
          "output_type": "stream",
          "text": [
            "Number of Olympics where the proportion of women is greater than the average: 24\n"
          ]
        }
      ],
      "source": [
        "# Create a pivot table to count the number of unique athletes in each year\n",
        "pivot_table_total = df.groupby('Games')['ID'].nunique()\n",
        "\n",
        "# Create a pivot table for women to count the number of unique female athletes in each year\n",
        "pivot_table_women = df[df['Sex'] == 'F'].groupby('Games')['ID'].nunique()\n",
        "\n",
        "# Calculate the proportion of women in each year\n",
        "proportion_women = pivot_table_women / pivot_table_total\n",
        "\n",
        "# Find the Olympics where the proportion of women is greater than the average\n",
        "average_proportion_women = proportion_women.mean()\n",
        "\n",
        "olympics_greater_than_average = proportion_women[proportion_women > average_proportion_women]\n",
        "\n",
        "# Count the number of Olympics where the proportion of women is greater than the average\n",
        "num_olympics_greater_than_average = olympics_greater_than_average.count()\n",
        "\n",
        "print(\"Number of Olympics where the proportion of women is greater than the average:\", num_olympics_greater_than_average)"
      ]
    },
    {
      "cell_type": "code",
      "execution_count": 31,
      "metadata": {
        "id": "EUEbrviChybF"
      },
      "outputs": [],
      "source": [
        "def medal_weight(x):\n",
        "    if x == \"Gold\":\n",
        "        return 3\n",
        "    elif x == \"Silver\":\n",
        "        return 2\n",
        "    elif x == \"Bronze\":\n",
        "        return 1\n",
        "    else:\n",
        "        return 0"
      ]
    },
    {
      "cell_type": "code",
      "execution_count": 33,
      "metadata": {
        "id": "1xcfcrg8h4IF"
      },
      "outputs": [
        {
          "data": {
            "text/plain": [
              "0         0\n",
              "1         0\n",
              "2         0\n",
              "3         3\n",
              "4         0\n",
              "         ..\n",
              "271111    0\n",
              "271112    0\n",
              "271113    0\n",
              "271114    0\n",
              "271115    0\n",
              "Name: Medal_score, Length: 271116, dtype: int64"
            ]
          },
          "execution_count": 33,
          "metadata": {},
          "output_type": "execute_result"
        }
      ],
      "source": [
        "df[\"Medal_score\"] = df[\"Medal\"].apply(medal_weight)\n",
        "df[\"Medal_score\"]\n",
        "\n"
      ]
    },
    {
      "cell_type": "code",
      "execution_count": 35,
      "metadata": {
        "id": "LQHEpNk6iGhF"
      },
      "outputs": [
        {
          "name": "stdout",
          "output_type": "stream",
          "text": [
            "<class 'pandas.core.series.Series'>\n",
            "RangeIndex: 271116 entries, 0 to 271115\n",
            "Series name: Medal_score\n",
            "Non-Null Count   Dtype\n",
            "--------------   -----\n",
            "271116 non-null  int64\n",
            "dtypes: int64(1)\n",
            "memory usage: 2.1 MB\n"
          ]
        },
        {
          "data": {
            "text/plain": [
              "0         0\n",
              "1         0\n",
              "2         0\n",
              "3         3\n",
              "4         0\n",
              "         ..\n",
              "271111    0\n",
              "271112    0\n",
              "271113    0\n",
              "271114    0\n",
              "271115    0\n",
              "Name: Medal_score, Length: 271116, dtype: int64"
            ]
          },
          "execution_count": 35,
          "metadata": {},
          "output_type": "execute_result"
        }
      ],
      "source": [
        "#числовой дискретный\n",
        "df[\"Medal_score\"].info()\n",
        "df[\"Medal_score\"]"
      ]
    },
    {
      "cell_type": "code",
      "execution_count": 37,
      "metadata": {
        "colab": {
          "base_uri": "https://localhost:8080/",
          "height": 489
        },
        "id": "MnbPw6sEiHJt",
        "outputId": "1cf30c2f-5c5b-4069-867d-3979e96cf106"
      },
      "outputs": [
        {
          "data": {
            "text/plain": [
              "Name\n",
              "Michael Fred Phelps, II                    77\n",
              "Larysa Semenivna Latynina (Diriy-)         41\n",
              "Nikolay Yefimovich Andrianov               34\n",
              "Paavo Johannes Nurmi                       33\n",
              "Ole Einar Bjrndalen                        33\n",
              "                                           ..\n",
              "A. Hurtado Vargas                           0\n",
              "A. Hussain Ahmed                            0\n",
              "A. J. J. Fridt                              0\n",
              "A. J. Tyronne Benildus \"Benny\" Fernando     0\n",
              " Eleonora Margarida Josephina Scmitt        0\n",
              "Name: Medal_score, Length: 134732, dtype: int64"
            ]
          },
          "execution_count": 37,
          "metadata": {},
          "output_type": "execute_result"
        }
      ],
      "source": [
        "df.groupby(by=\"Name\")[\"Medal_score\"].sum().sort_values(ascending=False)"
      ]
    }
  ],
  "metadata": {
    "colab": {
      "provenance": []
    },
    "kernelspec": {
      "display_name": "Python 3",
      "name": "python3"
    },
    "language_info": {
      "codemirror_mode": {
        "name": "ipython",
        "version": 3
      },
      "file_extension": ".py",
      "mimetype": "text/x-python",
      "name": "python",
      "nbconvert_exporter": "python",
      "pygments_lexer": "ipython3",
      "version": "3.11.9"
    }
  },
  "nbformat": 4,
  "nbformat_minor": 0
}
