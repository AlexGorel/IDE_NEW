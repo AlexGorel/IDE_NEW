{
  "cells": [
    {
      "cell_type": "markdown",
      "metadata": {
        "id": "6vTCtTwtr3sB"
      },
      "source": [
        "# Pandas"
      ]
    },
    {
      "cell_type": "markdown",
      "metadata": {
        "id": "wrCa-uRvr3sE"
      },
      "source": [
        "На прошлом занятии мы познакомились с библиотекой `numpy`, которая позволяет удобно работать с многомерными однородными (одного типа) массивами. В реальности часто приходиться работать с разнородными (включающими разные типы) данными. Для работы с такими данными используется библиотека `pandas`."
      ]
    },
    {
      "cell_type": "markdown",
      "metadata": {
        "id": "2nIkN1Pwr3sF"
      },
      "source": [
        "Pandas не входит в [стандартную библиотеку Python](https://docs.python.org/3/library/), поэтому если вы работаете не в Colab ее необходимо будет установить. Информация об установке находится по [ссылке](https://pandas.pydata.org/docs/getting_started/index.html#installation).\n",
        "\n",
        "Мы же просто импортируем библиотеку. При импорте название `pandas` принято сокращать до `pd`."
      ]
    },
    {
      "cell_type": "code",
      "execution_count": 53,
      "metadata": {
        "id": "EXiFCelrr3sG"
      },
      "outputs": [],
      "source": [
        "import pandas as pd"
      ]
    },
    {
      "cell_type": "markdown",
      "metadata": {
        "id": "qhm9fTegr3sN"
      },
      "source": [
        "## CSV и чтение данных из файла"
      ]
    },
    {
      "cell_type": "markdown",
      "metadata": {
        "id": "B1nD3WOQr3sN"
      },
      "source": [
        "Мы посмотрели, как создать DataFrame или Series вручную. Но чаще всего мы будем работать с уже существующими данными. Чаще всего данные хранят в формате CSV."
      ]
    },
    {
      "cell_type": "markdown",
      "metadata": {
        "id": "sZu-EfVMr3sN"
      },
      "source": [
        "CSV (от английского Comma-Separated Values — значения, разделённые запятыми) — текстовый формат, предназначенный для представления данных в виде таблицы.\n",
        "Если вы откроете CSV файл в MS блокноте вы увидете что-то вроде:\n",
        "```\n",
        "Product A,Product B,Product C,\n",
        "30,21,9,\n",
        "35,34,1,\n",
        "41,11,11\n",
        "```\n",
        "\n",
        "\n"
      ]
    },
    {
      "cell_type": "markdown",
      "metadata": {
        "id": "iniA_Uoxr3sN"
      },
      "source": [
        "Попробуем загрузить реальные данные. Мы будем работать с датасетом [Титаник](https://www.kaggle.com/competitions/titanic/data). Чтобы считать CSV файл используем `pd.read_csv`."
      ]
    },
    {
      "cell_type": "code",
      "execution_count": null,
      "metadata": {},
      "outputs": [],
      "source": []
    },
    {
      "cell_type": "code",
      "execution_count": 54,
      "metadata": {
        "id": "M8CPL-qH_exg"
      },
      "outputs": [],
      "source": [
        "import pandas as pd"
      ]
    },
    {
      "cell_type": "code",
      "execution_count": 55,
      "metadata": {
        "colab": {
          "base_uri": "https://localhost:8080/",
          "height": 74
        },
        "id": "suqzXLQqLQIp",
        "outputId": "ab013bb8-fc93-4f67-d535-d163d3bddde3"
      },
      "outputs": [],
      "source": [
        "#from google.colab import files\n",
        "\n",
        "# создаем объект этого класса, применяем метод .upload()\n",
        "# загрузите файл titanic.csv\n",
        "#uploaded = files.upload()"
      ]
    },
    {
      "cell_type": "code",
      "execution_count": 56,
      "metadata": {
        "id": "s0eThZk_r3sN"
      },
      "outputs": [],
      "source": [
        "# Download the data and save it in a variable called data\n",
        "dataset = pd.read_csv('https://raw.githubusercontent.com/aaparshina/FCI_22-23_data_analysis/main/data/titanic.csv', index_col='PassengerId')\n",
        "#dataset = pd.read_csv('/content/titanic.csv', index_col='PassengerId')"
      ]
    },
    {
      "cell_type": "markdown",
      "metadata": {
        "id": "EGCSdDzXr3sN"
      },
      "source": [
        "Посмотрим на размер датасета:\n",
        "\n"
      ]
    },
    {
      "cell_type": "code",
      "execution_count": 57,
      "metadata": {
        "colab": {
          "base_uri": "https://localhost:8080/"
        },
        "id": "Fl3Lk1S9r3sP",
        "outputId": "62566c79-1c56-46e4-e877-a361668a873d"
      },
      "outputs": [
        {
          "data": {
            "text/plain": [
              "(891, 11)"
            ]
          },
          "execution_count": 57,
          "metadata": {},
          "output_type": "execute_result"
        }
      ],
      "source": [
        "dataset.shape"
      ]
    },
    {
      "cell_type": "markdown",
      "metadata": {
        "id": "LEqbWbY6r3sP"
      },
      "source": [
        "Посмотрим названия колонок и строк:"
      ]
    },
    {
      "cell_type": "code",
      "execution_count": 58,
      "metadata": {
        "colab": {
          "base_uri": "https://localhost:8080/"
        },
        "id": "RVoo4cA4r3sP",
        "outputId": "dfc46035-f990-4d70-e611-913ac36a23da"
      },
      "outputs": [
        {
          "data": {
            "text/plain": [
              "Index(['Survived', 'Pclass', 'Name', 'Sex', 'Age', 'SibSp', 'Parch', 'Ticket',\n",
              "       'Fare', 'Cabin', 'Embarked'],\n",
              "      dtype='object')"
            ]
          },
          "execution_count": 58,
          "metadata": {},
          "output_type": "execute_result"
        }
      ],
      "source": [
        "dataset.columns"
      ]
    },
    {
      "cell_type": "code",
      "execution_count": 59,
      "metadata": {
        "colab": {
          "base_uri": "https://localhost:8080/"
        },
        "id": "pYVLb-sAr3sP",
        "outputId": "fa15e650-b4c2-425a-ce68-2925712f4616"
      },
      "outputs": [
        {
          "data": {
            "text/plain": [
              "Index([  1,   2,   3,   4,   5,   6,   7,   8,   9,  10,\n",
              "       ...\n",
              "       882, 883, 884, 885, 886, 887, 888, 889, 890, 891],\n",
              "      dtype='int64', name='PassengerId', length=891)"
            ]
          },
          "execution_count": 59,
          "metadata": {},
          "output_type": "execute_result"
        }
      ],
      "source": [
        "dataset.index"
      ]
    },
    {
      "cell_type": "markdown",
      "metadata": {
        "id": "oIJFGZlVr3sP"
      },
      "source": [
        "Датасет состоит из 12 колонок и содержит 891 строку. Посмотрим первые 5 строк."
      ]
    },
    {
      "cell_type": "code",
      "execution_count": 60,
      "metadata": {
        "colab": {
          "base_uri": "https://localhost:8080/",
          "height": 272
        },
        "id": "F7IwpbuBr3sP",
        "outputId": "b7a58b03-e34e-4f4a-8119-8455777ce019"
      },
      "outputs": [
        {
          "data": {
            "text/html": [
              "<div>\n",
              "<style scoped>\n",
              "    .dataframe tbody tr th:only-of-type {\n",
              "        vertical-align: middle;\n",
              "    }\n",
              "\n",
              "    .dataframe tbody tr th {\n",
              "        vertical-align: top;\n",
              "    }\n",
              "\n",
              "    .dataframe thead th {\n",
              "        text-align: right;\n",
              "    }\n",
              "</style>\n",
              "<table border=\"1\" class=\"dataframe\">\n",
              "  <thead>\n",
              "    <tr style=\"text-align: right;\">\n",
              "      <th></th>\n",
              "      <th>Survived</th>\n",
              "      <th>Pclass</th>\n",
              "      <th>Name</th>\n",
              "      <th>Sex</th>\n",
              "      <th>Age</th>\n",
              "      <th>SibSp</th>\n",
              "      <th>Parch</th>\n",
              "      <th>Ticket</th>\n",
              "      <th>Fare</th>\n",
              "      <th>Cabin</th>\n",
              "      <th>Embarked</th>\n",
              "    </tr>\n",
              "    <tr>\n",
              "      <th>PassengerId</th>\n",
              "      <th></th>\n",
              "      <th></th>\n",
              "      <th></th>\n",
              "      <th></th>\n",
              "      <th></th>\n",
              "      <th></th>\n",
              "      <th></th>\n",
              "      <th></th>\n",
              "      <th></th>\n",
              "      <th></th>\n",
              "      <th></th>\n",
              "    </tr>\n",
              "  </thead>\n",
              "  <tbody>\n",
              "    <tr>\n",
              "      <th>1</th>\n",
              "      <td>0</td>\n",
              "      <td>3</td>\n",
              "      <td>Braund, Mr. Owen Harris</td>\n",
              "      <td>male</td>\n",
              "      <td>22.0</td>\n",
              "      <td>1</td>\n",
              "      <td>0</td>\n",
              "      <td>A/5 21171</td>\n",
              "      <td>7.2500</td>\n",
              "      <td>NaN</td>\n",
              "      <td>S</td>\n",
              "    </tr>\n",
              "    <tr>\n",
              "      <th>2</th>\n",
              "      <td>1</td>\n",
              "      <td>1</td>\n",
              "      <td>Cumings, Mrs. John Bradley (Florence Briggs Th...</td>\n",
              "      <td>female</td>\n",
              "      <td>38.0</td>\n",
              "      <td>1</td>\n",
              "      <td>0</td>\n",
              "      <td>PC 17599</td>\n",
              "      <td>71.2833</td>\n",
              "      <td>C85</td>\n",
              "      <td>C</td>\n",
              "    </tr>\n",
              "    <tr>\n",
              "      <th>3</th>\n",
              "      <td>1</td>\n",
              "      <td>3</td>\n",
              "      <td>Heikkinen, Miss. Laina</td>\n",
              "      <td>female</td>\n",
              "      <td>26.0</td>\n",
              "      <td>0</td>\n",
              "      <td>0</td>\n",
              "      <td>STON/O2. 3101282</td>\n",
              "      <td>7.9250</td>\n",
              "      <td>NaN</td>\n",
              "      <td>S</td>\n",
              "    </tr>\n",
              "    <tr>\n",
              "      <th>4</th>\n",
              "      <td>1</td>\n",
              "      <td>1</td>\n",
              "      <td>Futrelle, Mrs. Jacques Heath (Lily May Peel)</td>\n",
              "      <td>female</td>\n",
              "      <td>35.0</td>\n",
              "      <td>1</td>\n",
              "      <td>0</td>\n",
              "      <td>113803</td>\n",
              "      <td>53.1000</td>\n",
              "      <td>C123</td>\n",
              "      <td>S</td>\n",
              "    </tr>\n",
              "    <tr>\n",
              "      <th>5</th>\n",
              "      <td>0</td>\n",
              "      <td>3</td>\n",
              "      <td>Allen, Mr. William Henry</td>\n",
              "      <td>male</td>\n",
              "      <td>35.0</td>\n",
              "      <td>0</td>\n",
              "      <td>0</td>\n",
              "      <td>373450</td>\n",
              "      <td>8.0500</td>\n",
              "      <td>NaN</td>\n",
              "      <td>S</td>\n",
              "    </tr>\n",
              "  </tbody>\n",
              "</table>\n",
              "</div>"
            ],
            "text/plain": [
              "             Survived  Pclass  \\\n",
              "PassengerId                     \n",
              "1                   0       3   \n",
              "2                   1       1   \n",
              "3                   1       3   \n",
              "4                   1       1   \n",
              "5                   0       3   \n",
              "\n",
              "                                                          Name     Sex   Age  \\\n",
              "PassengerId                                                                    \n",
              "1                                      Braund, Mr. Owen Harris    male  22.0   \n",
              "2            Cumings, Mrs. John Bradley (Florence Briggs Th...  female  38.0   \n",
              "3                                       Heikkinen, Miss. Laina  female  26.0   \n",
              "4                 Futrelle, Mrs. Jacques Heath (Lily May Peel)  female  35.0   \n",
              "5                                     Allen, Mr. William Henry    male  35.0   \n",
              "\n",
              "             SibSp  Parch            Ticket     Fare Cabin Embarked  \n",
              "PassengerId                                                          \n",
              "1                1      0         A/5 21171   7.2500   NaN        S  \n",
              "2                1      0          PC 17599  71.2833   C85        C  \n",
              "3                0      0  STON/O2. 3101282   7.9250   NaN        S  \n",
              "4                1      0            113803  53.1000  C123        S  \n",
              "5                0      0            373450   8.0500   NaN        S  "
            ]
          },
          "execution_count": 60,
          "metadata": {},
          "output_type": "execute_result"
        }
      ],
      "source": [
        "dataset.head()"
      ]
    },
    {
      "cell_type": "markdown",
      "metadata": {
        "id": "szRaXdQXr3sP"
      },
      "source": [
        "Этот датасет содержит список пассажиров корабля Титаник и информацию о них.\n",
        "* Survived (0 = No; 1 = Yes) - выжил ли человек.\n",
        "* SibSp  == Number of Siblings/Spouses Aboard - количество братьев/сестер/супругов на борту Титаника.\n",
        "* Parch == Number of Parents/Children Aboard - количество родителей/детей на борту.\n",
        "* Embarked == Port of Embarkation (C = Cherbourg; Q = Queenstown; S = Southampton) - порт посадки."
      ]
    },
    {
      "cell_type": "markdown",
      "metadata": {
        "id": "ewK0bcZGr3sQ"
      },
      "source": [
        "Функция [`pd.read_csv()`](https://pandas.pydata.org/docs/reference/api/pandas.read_csv.html) имеет много необязательных параметров."
      ]
    },
    {
      "cell_type": "code",
      "execution_count": 61,
      "metadata": {
        "colab": {
          "base_uri": "https://localhost:8080/"
        },
        "id": "V1GxvCK0r3sQ",
        "outputId": "83f9f40d-5af4-47c4-9f23-f9d4f2776531"
      },
      "outputs": [
        {
          "name": "stdout",
          "output_type": "stream",
          "text": [
            "Help on function read_csv in module pandas.io.parsers.readers:\n",
            "\n",
            "read_csv(filepath_or_buffer: 'FilePath | ReadCsvBuffer[bytes] | ReadCsvBuffer[str]', *, sep: 'str | None | lib.NoDefault' = <no_default>, delimiter: 'str | None | lib.NoDefault' = None, header: \"int | Sequence[int] | None | Literal['infer']\" = 'infer', names: 'Sequence[Hashable] | None | lib.NoDefault' = <no_default>, index_col: 'IndexLabel | Literal[False] | None' = None, usecols: 'UsecolsArgType' = None, dtype: 'DtypeArg | None' = None, engine: 'CSVEngine | None' = None, converters: 'Mapping[Hashable, Callable] | None' = None, true_values: 'list | None' = None, false_values: 'list | None' = None, skipinitialspace: 'bool' = False, skiprows: 'list[int] | int | Callable[[Hashable], bool] | None' = None, skipfooter: 'int' = 0, nrows: 'int | None' = None, na_values: 'Hashable | Iterable[Hashable] | Mapping[Hashable, Iterable[Hashable]] | None' = None, keep_default_na: 'bool' = True, na_filter: 'bool' = True, verbose: 'bool | lib.NoDefault' = <no_default>, skip_blank_lines: 'bool' = True, parse_dates: 'bool | Sequence[Hashable] | None' = None, infer_datetime_format: 'bool | lib.NoDefault' = <no_default>, keep_date_col: 'bool | lib.NoDefault' = <no_default>, date_parser: 'Callable | lib.NoDefault' = <no_default>, date_format: 'str | dict[Hashable, str] | None' = None, dayfirst: 'bool' = False, cache_dates: 'bool' = True, iterator: 'bool' = False, chunksize: 'int | None' = None, compression: 'CompressionOptions' = 'infer', thousands: 'str | None' = None, decimal: 'str' = '.', lineterminator: 'str | None' = None, quotechar: 'str' = '\"', quoting: 'int' = 0, doublequote: 'bool' = True, escapechar: 'str | None' = None, comment: 'str | None' = None, encoding: 'str | None' = None, encoding_errors: 'str | None' = 'strict', dialect: 'str | csv.Dialect | None' = None, on_bad_lines: 'str' = 'error', delim_whitespace: 'bool | lib.NoDefault' = <no_default>, low_memory: 'bool' = True, memory_map: 'bool' = False, float_precision: \"Literal['high', 'legacy'] | None\" = None, storage_options: 'StorageOptions | None' = None, dtype_backend: 'DtypeBackend | lib.NoDefault' = <no_default>) -> 'DataFrame | TextFileReader'\n",
            "    Read a comma-separated values (csv) file into DataFrame.\n",
            "    \n",
            "    Also supports optionally iterating or breaking of the file\n",
            "    into chunks.\n",
            "    \n",
            "    Additional help can be found in the online docs for\n",
            "    `IO Tools <https://pandas.pydata.org/pandas-docs/stable/user_guide/io.html>`_.\n",
            "    \n",
            "    Parameters\n",
            "    ----------\n",
            "    filepath_or_buffer : str, path object or file-like object\n",
            "        Any valid string path is acceptable. The string could be a URL. Valid\n",
            "        URL schemes include http, ftp, s3, gs, and file. For file URLs, a host is\n",
            "        expected. A local file could be: file://localhost/path/to/table.csv.\n",
            "    \n",
            "        If you want to pass in a path object, pandas accepts any ``os.PathLike``.\n",
            "    \n",
            "        By file-like object, we refer to objects with a ``read()`` method, such as\n",
            "        a file handle (e.g. via builtin ``open`` function) or ``StringIO``.\n",
            "    sep : str, default ','\n",
            "        Character or regex pattern to treat as the delimiter. If ``sep=None``, the\n",
            "        C engine cannot automatically detect\n",
            "        the separator, but the Python parsing engine can, meaning the latter will\n",
            "        be used and automatically detect the separator from only the first valid\n",
            "        row of the file by Python's builtin sniffer tool, ``csv.Sniffer``.\n",
            "        In addition, separators longer than 1 character and different from\n",
            "        ``'\\s+'`` will be interpreted as regular expressions and will also force\n",
            "        the use of the Python parsing engine. Note that regex delimiters are prone\n",
            "        to ignoring quoted data. Regex example: ``'\\r\\t'``.\n",
            "    delimiter : str, optional\n",
            "        Alias for ``sep``.\n",
            "    header : int, Sequence of int, 'infer' or None, default 'infer'\n",
            "        Row number(s) containing column labels and marking the start of the\n",
            "        data (zero-indexed). Default behavior is to infer the column names: if no ``names``\n",
            "        are passed the behavior is identical to ``header=0`` and column\n",
            "        names are inferred from the first line of the file, if column\n",
            "        names are passed explicitly to ``names`` then the behavior is identical to\n",
            "        ``header=None``. Explicitly pass ``header=0`` to be able to\n",
            "        replace existing names. The header can be a list of integers that\n",
            "        specify row locations for a :class:`~pandas.MultiIndex` on the columns\n",
            "        e.g. ``[0, 1, 3]``. Intervening rows that are not specified will be\n",
            "        skipped (e.g. 2 in this example is skipped). Note that this\n",
            "        parameter ignores commented lines and empty lines if\n",
            "        ``skip_blank_lines=True``, so ``header=0`` denotes the first line of\n",
            "        data rather than the first line of the file.\n",
            "    names : Sequence of Hashable, optional\n",
            "        Sequence of column labels to apply. If the file contains a header row,\n",
            "        then you should explicitly pass ``header=0`` to override the column names.\n",
            "        Duplicates in this list are not allowed.\n",
            "    index_col : Hashable, Sequence of Hashable or False, optional\n",
            "      Column(s) to use as row label(s), denoted either by column labels or column\n",
            "      indices.  If a sequence of labels or indices is given, :class:`~pandas.MultiIndex`\n",
            "      will be formed for the row labels.\n",
            "    \n",
            "      Note: ``index_col=False`` can be used to force pandas to *not* use the first\n",
            "      column as the index, e.g., when you have a malformed file with delimiters at\n",
            "      the end of each line.\n",
            "    usecols : Sequence of Hashable or Callable, optional\n",
            "        Subset of columns to select, denoted either by column labels or column indices.\n",
            "        If list-like, all elements must either\n",
            "        be positional (i.e. integer indices into the document columns) or strings\n",
            "        that correspond to column names provided either by the user in ``names`` or\n",
            "        inferred from the document header row(s). If ``names`` are given, the document\n",
            "        header row(s) are not taken into account. For example, a valid list-like\n",
            "        ``usecols`` parameter would be ``[0, 1, 2]`` or ``['foo', 'bar', 'baz']``.\n",
            "        Element order is ignored, so ``usecols=[0, 1]`` is the same as ``[1, 0]``.\n",
            "        To instantiate a :class:`~pandas.DataFrame` from ``data`` with element order\n",
            "        preserved use ``pd.read_csv(data, usecols=['foo', 'bar'])[['foo', 'bar']]``\n",
            "        for columns in ``['foo', 'bar']`` order or\n",
            "        ``pd.read_csv(data, usecols=['foo', 'bar'])[['bar', 'foo']]``\n",
            "        for ``['bar', 'foo']`` order.\n",
            "    \n",
            "        If callable, the callable function will be evaluated against the column\n",
            "        names, returning names where the callable function evaluates to ``True``. An\n",
            "        example of a valid callable argument would be ``lambda x: x.upper() in\n",
            "        ['AAA', 'BBB', 'DDD']``. Using this parameter results in much faster\n",
            "        parsing time and lower memory usage.\n",
            "    dtype : dtype or dict of {Hashable : dtype}, optional\n",
            "        Data type(s) to apply to either the whole dataset or individual columns.\n",
            "        E.g., ``{'a': np.float64, 'b': np.int32, 'c': 'Int64'}``\n",
            "        Use ``str`` or ``object`` together with suitable ``na_values`` settings\n",
            "        to preserve and not interpret ``dtype``.\n",
            "        If ``converters`` are specified, they will be applied INSTEAD\n",
            "        of ``dtype`` conversion.\n",
            "    \n",
            "        .. versionadded:: 1.5.0\n",
            "    \n",
            "            Support for ``defaultdict`` was added. Specify a ``defaultdict`` as input where\n",
            "            the default determines the ``dtype`` of the columns which are not explicitly\n",
            "            listed.\n",
            "    engine : {'c', 'python', 'pyarrow'}, optional\n",
            "        Parser engine to use. The C and pyarrow engines are faster, while the python engine\n",
            "        is currently more feature-complete. Multithreading is currently only supported by\n",
            "        the pyarrow engine.\n",
            "    \n",
            "        .. versionadded:: 1.4.0\n",
            "    \n",
            "            The 'pyarrow' engine was added as an *experimental* engine, and some features\n",
            "            are unsupported, or may not work correctly, with this engine.\n",
            "    converters : dict of {Hashable : Callable}, optional\n",
            "        Functions for converting values in specified columns. Keys can either\n",
            "        be column labels or column indices.\n",
            "    true_values : list, optional\n",
            "        Values to consider as ``True`` in addition to case-insensitive variants of 'True'.\n",
            "    false_values : list, optional\n",
            "        Values to consider as ``False`` in addition to case-insensitive variants of 'False'.\n",
            "    skipinitialspace : bool, default False\n",
            "        Skip spaces after delimiter.\n",
            "    skiprows : int, list of int or Callable, optional\n",
            "        Line numbers to skip (0-indexed) or number of lines to skip (``int``)\n",
            "        at the start of the file.\n",
            "    \n",
            "        If callable, the callable function will be evaluated against the row\n",
            "        indices, returning ``True`` if the row should be skipped and ``False`` otherwise.\n",
            "        An example of a valid callable argument would be ``lambda x: x in [0, 2]``.\n",
            "    skipfooter : int, default 0\n",
            "        Number of lines at bottom of file to skip (Unsupported with ``engine='c'``).\n",
            "    nrows : int, optional\n",
            "        Number of rows of file to read. Useful for reading pieces of large files.\n",
            "    na_values : Hashable, Iterable of Hashable or dict of {Hashable : Iterable}, optional\n",
            "        Additional strings to recognize as ``NA``/``NaN``. If ``dict`` passed, specific\n",
            "        per-column ``NA`` values.  By default the following values are interpreted as\n",
            "        ``NaN``: \" \", \"#N/A\", \"#N/A N/A\", \"#NA\", \"-1.#IND\", \"-1.#QNAN\", \"-NaN\", \"-nan\",\n",
            "        \"1.#IND\", \"1.#QNAN\", \"<NA>\", \"N/A\", \"NA\", \"NULL\", \"NaN\", \"None\",\n",
            "        \"n/a\", \"nan\", \"null \".\n",
            "    \n",
            "    keep_default_na : bool, default True\n",
            "        Whether or not to include the default ``NaN`` values when parsing the data.\n",
            "        Depending on whether ``na_values`` is passed in, the behavior is as follows:\n",
            "    \n",
            "        * If ``keep_default_na`` is ``True``, and ``na_values`` are specified, ``na_values``\n",
            "          is appended to the default ``NaN`` values used for parsing.\n",
            "        * If ``keep_default_na`` is ``True``, and ``na_values`` are not specified, only\n",
            "          the default ``NaN`` values are used for parsing.\n",
            "        * If ``keep_default_na`` is ``False``, and ``na_values`` are specified, only\n",
            "          the ``NaN`` values specified ``na_values`` are used for parsing.\n",
            "        * If ``keep_default_na`` is ``False``, and ``na_values`` are not specified, no\n",
            "          strings will be parsed as ``NaN``.\n",
            "    \n",
            "        Note that if ``na_filter`` is passed in as ``False``, the ``keep_default_na`` and\n",
            "        ``na_values`` parameters will be ignored.\n",
            "    na_filter : bool, default True\n",
            "        Detect missing value markers (empty strings and the value of ``na_values``). In\n",
            "        data without any ``NA`` values, passing ``na_filter=False`` can improve the\n",
            "        performance of reading a large file.\n",
            "    verbose : bool, default False\n",
            "        Indicate number of ``NA`` values placed in non-numeric columns.\n",
            "    \n",
            "        .. deprecated:: 2.2.0\n",
            "    skip_blank_lines : bool, default True\n",
            "        If ``True``, skip over blank lines rather than interpreting as ``NaN`` values.\n",
            "    parse_dates : bool, list of Hashable, list of lists or dict of {Hashable : list}, default False\n",
            "        The behavior is as follows:\n",
            "    \n",
            "        * ``bool``. If ``True`` -> try parsing the index. Note: Automatically set to\n",
            "          ``True`` if ``date_format`` or ``date_parser`` arguments have been passed.\n",
            "        * ``list`` of ``int`` or names. e.g. If ``[1, 2, 3]`` -> try parsing columns 1, 2, 3\n",
            "          each as a separate date column.\n",
            "        * ``list`` of ``list``. e.g.  If ``[[1, 3]]`` -> combine columns 1 and 3 and parse\n",
            "          as a single date column. Values are joined with a space before parsing.\n",
            "        * ``dict``, e.g. ``{'foo' : [1, 3]}`` -> parse columns 1, 3 as date and call\n",
            "          result 'foo'. Values are joined with a space before parsing.\n",
            "    \n",
            "        If a column or index cannot be represented as an array of ``datetime``,\n",
            "        say because of an unparsable value or a mixture of timezones, the column\n",
            "        or index will be returned unaltered as an ``object`` data type. For\n",
            "        non-standard ``datetime`` parsing, use :func:`~pandas.to_datetime` after\n",
            "        :func:`~pandas.read_csv`.\n",
            "    \n",
            "        Note: A fast-path exists for iso8601-formatted dates.\n",
            "    infer_datetime_format : bool, default False\n",
            "        If ``True`` and ``parse_dates`` is enabled, pandas will attempt to infer the\n",
            "        format of the ``datetime`` strings in the columns, and if it can be inferred,\n",
            "        switch to a faster method of parsing them. In some cases this can increase\n",
            "        the parsing speed by 5-10x.\n",
            "    \n",
            "        .. deprecated:: 2.0.0\n",
            "            A strict version of this argument is now the default, passing it has no effect.\n",
            "    \n",
            "    keep_date_col : bool, default False\n",
            "        If ``True`` and ``parse_dates`` specifies combining multiple columns then\n",
            "        keep the original columns.\n",
            "    date_parser : Callable, optional\n",
            "        Function to use for converting a sequence of string columns to an array of\n",
            "        ``datetime`` instances. The default uses ``dateutil.parser.parser`` to do the\n",
            "        conversion. pandas will try to call ``date_parser`` in three different ways,\n",
            "        advancing to the next if an exception occurs: 1) Pass one or more arrays\n",
            "        (as defined by ``parse_dates``) as arguments; 2) concatenate (row-wise) the\n",
            "        string values from the columns defined by ``parse_dates`` into a single array\n",
            "        and pass that; and 3) call ``date_parser`` once for each row using one or\n",
            "        more strings (corresponding to the columns defined by ``parse_dates``) as\n",
            "        arguments.\n",
            "    \n",
            "        .. deprecated:: 2.0.0\n",
            "           Use ``date_format`` instead, or read in as ``object`` and then apply\n",
            "           :func:`~pandas.to_datetime` as-needed.\n",
            "    date_format : str or dict of column -> format, optional\n",
            "        Format to use for parsing dates when used in conjunction with ``parse_dates``.\n",
            "        The strftime to parse time, e.g. :const:`\"%d/%m/%Y\"`. See\n",
            "        `strftime documentation\n",
            "        <https://docs.python.org/3/library/datetime.html\n",
            "        #strftime-and-strptime-behavior>`_ for more information on choices, though\n",
            "        note that :const:`\"%f\"` will parse all the way up to nanoseconds.\n",
            "        You can also pass:\n",
            "    \n",
            "        - \"ISO8601\", to parse any `ISO8601 <https://en.wikipedia.org/wiki/ISO_8601>`_\n",
            "            time string (not necessarily in exactly the same format);\n",
            "        - \"mixed\", to infer the format for each element individually. This is risky,\n",
            "            and you should probably use it along with `dayfirst`.\n",
            "    \n",
            "        .. versionadded:: 2.0.0\n",
            "    dayfirst : bool, default False\n",
            "        DD/MM format dates, international and European format.\n",
            "    cache_dates : bool, default True\n",
            "        If ``True``, use a cache of unique, converted dates to apply the ``datetime``\n",
            "        conversion. May produce significant speed-up when parsing duplicate\n",
            "        date strings, especially ones with timezone offsets.\n",
            "    \n",
            "    iterator : bool, default False\n",
            "        Return ``TextFileReader`` object for iteration or getting chunks with\n",
            "        ``get_chunk()``.\n",
            "    chunksize : int, optional\n",
            "        Number of lines to read from the file per chunk. Passing a value will cause the\n",
            "        function to return a ``TextFileReader`` object for iteration.\n",
            "        See the `IO Tools docs\n",
            "        <https://pandas.pydata.org/pandas-docs/stable/io.html#io-chunking>`_\n",
            "        for more information on ``iterator`` and ``chunksize``.\n",
            "    \n",
            "    compression : str or dict, default 'infer'\n",
            "        For on-the-fly decompression of on-disk data. If 'infer' and 'filepath_or_buffer' is\n",
            "        path-like, then detect compression from the following extensions: '.gz',\n",
            "        '.bz2', '.zip', '.xz', '.zst', '.tar', '.tar.gz', '.tar.xz' or '.tar.bz2'\n",
            "        (otherwise no compression).\n",
            "        If using 'zip' or 'tar', the ZIP file must contain only one data file to be read in.\n",
            "        Set to ``None`` for no decompression.\n",
            "        Can also be a dict with key ``'method'`` set\n",
            "        to one of {``'zip'``, ``'gzip'``, ``'bz2'``, ``'zstd'``, ``'xz'``, ``'tar'``} and\n",
            "        other key-value pairs are forwarded to\n",
            "        ``zipfile.ZipFile``, ``gzip.GzipFile``,\n",
            "        ``bz2.BZ2File``, ``zstandard.ZstdDecompressor``, ``lzma.LZMAFile`` or\n",
            "        ``tarfile.TarFile``, respectively.\n",
            "        As an example, the following could be passed for Zstandard decompression using a\n",
            "        custom compression dictionary:\n",
            "        ``compression={'method': 'zstd', 'dict_data': my_compression_dict}``.\n",
            "    \n",
            "        .. versionadded:: 1.5.0\n",
            "            Added support for `.tar` files.\n",
            "    \n",
            "        .. versionchanged:: 1.4.0 Zstandard support.\n",
            "    \n",
            "    thousands : str (length 1), optional\n",
            "        Character acting as the thousands separator in numerical values.\n",
            "    decimal : str (length 1), default '.'\n",
            "        Character to recognize as decimal point (e.g., use ',' for European data).\n",
            "    lineterminator : str (length 1), optional\n",
            "        Character used to denote a line break. Only valid with C parser.\n",
            "    quotechar : str (length 1), optional\n",
            "        Character used to denote the start and end of a quoted item. Quoted\n",
            "        items can include the ``delimiter`` and it will be ignored.\n",
            "    quoting : {0 or csv.QUOTE_MINIMAL, 1 or csv.QUOTE_ALL, 2 or csv.QUOTE_NONNUMERIC, 3 or csv.QUOTE_NONE}, default csv.QUOTE_MINIMAL\n",
            "        Control field quoting behavior per ``csv.QUOTE_*`` constants. Default is\n",
            "        ``csv.QUOTE_MINIMAL`` (i.e., 0) which implies that only fields containing special\n",
            "        characters are quoted (e.g., characters defined in ``quotechar``, ``delimiter``,\n",
            "        or ``lineterminator``.\n",
            "    doublequote : bool, default True\n",
            "       When ``quotechar`` is specified and ``quoting`` is not ``QUOTE_NONE``, indicate\n",
            "       whether or not to interpret two consecutive ``quotechar`` elements INSIDE a\n",
            "       field as a single ``quotechar`` element.\n",
            "    escapechar : str (length 1), optional\n",
            "        Character used to escape other characters.\n",
            "    comment : str (length 1), optional\n",
            "        Character indicating that the remainder of line should not be parsed.\n",
            "        If found at the beginning\n",
            "        of a line, the line will be ignored altogether. This parameter must be a\n",
            "        single character. Like empty lines (as long as ``skip_blank_lines=True``),\n",
            "        fully commented lines are ignored by the parameter ``header`` but not by\n",
            "        ``skiprows``. For example, if ``comment='#'``, parsing\n",
            "        ``#empty\\na,b,c\\n1,2,3`` with ``header=0`` will result in ``'a,b,c'`` being\n",
            "        treated as the header.\n",
            "    encoding : str, optional, default 'utf-8'\n",
            "        Encoding to use for UTF when reading/writing (ex. ``'utf-8'``). `List of Python\n",
            "        standard encodings\n",
            "        <https://docs.python.org/3/library/codecs.html#standard-encodings>`_ .\n",
            "    \n",
            "    encoding_errors : str, optional, default 'strict'\n",
            "        How encoding errors are treated. `List of possible values\n",
            "        <https://docs.python.org/3/library/codecs.html#error-handlers>`_ .\n",
            "    \n",
            "        .. versionadded:: 1.3.0\n",
            "    \n",
            "    dialect : str or csv.Dialect, optional\n",
            "        If provided, this parameter will override values (default or not) for the\n",
            "        following parameters: ``delimiter``, ``doublequote``, ``escapechar``,\n",
            "        ``skipinitialspace``, ``quotechar``, and ``quoting``. If it is necessary to\n",
            "        override values, a ``ParserWarning`` will be issued. See ``csv.Dialect``\n",
            "        documentation for more details.\n",
            "    on_bad_lines : {'error', 'warn', 'skip'} or Callable, default 'error'\n",
            "        Specifies what to do upon encountering a bad line (a line with too many fields).\n",
            "        Allowed values are :\n",
            "    \n",
            "        - ``'error'``, raise an Exception when a bad line is encountered.\n",
            "        - ``'warn'``, raise a warning when a bad line is encountered and skip that line.\n",
            "        - ``'skip'``, skip bad lines without raising or warning when they are encountered.\n",
            "    \n",
            "        .. versionadded:: 1.3.0\n",
            "    \n",
            "        .. versionadded:: 1.4.0\n",
            "    \n",
            "            - Callable, function with signature\n",
            "              ``(bad_line: list[str]) -> list[str] | None`` that will process a single\n",
            "              bad line. ``bad_line`` is a list of strings split by the ``sep``.\n",
            "              If the function returns ``None``, the bad line will be ignored.\n",
            "              If the function returns a new ``list`` of strings with more elements than\n",
            "              expected, a ``ParserWarning`` will be emitted while dropping extra elements.\n",
            "              Only supported when ``engine='python'``\n",
            "    \n",
            "        .. versionchanged:: 2.2.0\n",
            "    \n",
            "            - Callable, function with signature\n",
            "              as described in `pyarrow documentation\n",
            "              <https://arrow.apache.org/docs/python/generated/pyarrow.csv.ParseOptions.html\n",
            "              #pyarrow.csv.ParseOptions.invalid_row_handler>`_ when ``engine='pyarrow'``\n",
            "    \n",
            "    delim_whitespace : bool, default False\n",
            "        Specifies whether or not whitespace (e.g. ``' '`` or ``'\\t'``) will be\n",
            "        used as the ``sep`` delimiter. Equivalent to setting ``sep='\\s+'``. If this option\n",
            "        is set to ``True``, nothing should be passed in for the ``delimiter``\n",
            "        parameter.\n",
            "    \n",
            "        .. deprecated:: 2.2.0\n",
            "            Use ``sep=\"\\s+\"`` instead.\n",
            "    low_memory : bool, default True\n",
            "        Internally process the file in chunks, resulting in lower memory use\n",
            "        while parsing, but possibly mixed type inference.  To ensure no mixed\n",
            "        types either set ``False``, or specify the type with the ``dtype`` parameter.\n",
            "        Note that the entire file is read into a single :class:`~pandas.DataFrame`\n",
            "        regardless, use the ``chunksize`` or ``iterator`` parameter to return the data in\n",
            "        chunks. (Only valid with C parser).\n",
            "    memory_map : bool, default False\n",
            "        If a filepath is provided for ``filepath_or_buffer``, map the file object\n",
            "        directly onto memory and access the data directly from there. Using this\n",
            "        option can improve performance because there is no longer any I/O overhead.\n",
            "    float_precision : {'high', 'legacy', 'round_trip'}, optional\n",
            "        Specifies which converter the C engine should use for floating-point\n",
            "        values. The options are ``None`` or ``'high'`` for the ordinary converter,\n",
            "        ``'legacy'`` for the original lower precision pandas converter, and\n",
            "        ``'round_trip'`` for the round-trip converter.\n",
            "    \n",
            "    storage_options : dict, optional\n",
            "        Extra options that make sense for a particular storage connection, e.g.\n",
            "        host, port, username, password, etc. For HTTP(S) URLs the key-value pairs\n",
            "        are forwarded to ``urllib.request.Request`` as header options. For other\n",
            "        URLs (e.g. starting with \"s3://\", and \"gcs://\") the key-value pairs are\n",
            "        forwarded to ``fsspec.open``. Please see ``fsspec`` and ``urllib`` for more\n",
            "        details, and for more examples on storage options refer `here\n",
            "        <https://pandas.pydata.org/docs/user_guide/io.html?\n",
            "        highlight=storage_options#reading-writing-remote-files>`_.\n",
            "    \n",
            "    dtype_backend : {'numpy_nullable', 'pyarrow'}, default 'numpy_nullable'\n",
            "        Back-end data type applied to the resultant :class:`DataFrame`\n",
            "        (still experimental). Behaviour is as follows:\n",
            "    \n",
            "        * ``\"numpy_nullable\"``: returns nullable-dtype-backed :class:`DataFrame`\n",
            "          (default).\n",
            "        * ``\"pyarrow\"``: returns pyarrow-backed nullable :class:`ArrowDtype`\n",
            "          DataFrame.\n",
            "    \n",
            "        .. versionadded:: 2.0\n",
            "    \n",
            "    Returns\n",
            "    -------\n",
            "    DataFrame or TextFileReader\n",
            "        A comma-separated values (csv) file is returned as two-dimensional\n",
            "        data structure with labeled axes.\n",
            "    \n",
            "    See Also\n",
            "    --------\n",
            "    DataFrame.to_csv : Write DataFrame to a comma-separated values (csv) file.\n",
            "    read_table : Read general delimited file into DataFrame.\n",
            "    read_fwf : Read a table of fixed-width formatted lines into DataFrame.\n",
            "    \n",
            "    Examples\n",
            "    --------\n",
            "    >>> pd.read_csv('data.csv')  # doctest: +SKIP\n",
            "\n"
          ]
        }
      ],
      "source": [
        "help(pd.read_csv)"
      ]
    },
    {
      "cell_type": "markdown",
      "metadata": {
        "id": "puvNmGjOr3sQ"
      },
      "source": [
        "Например можно указать, какой столбец использовать в качестве индекса с помощью параметра `index_col`"
      ]
    },
    {
      "cell_type": "code",
      "execution_count": 62,
      "metadata": {
        "id": "7C7iEwVWr3sQ"
      },
      "outputs": [
        {
          "data": {
            "text/html": [
              "<div>\n",
              "<style scoped>\n",
              "    .dataframe tbody tr th:only-of-type {\n",
              "        vertical-align: middle;\n",
              "    }\n",
              "\n",
              "    .dataframe tbody tr th {\n",
              "        vertical-align: top;\n",
              "    }\n",
              "\n",
              "    .dataframe thead th {\n",
              "        text-align: right;\n",
              "    }\n",
              "</style>\n",
              "<table border=\"1\" class=\"dataframe\">\n",
              "  <thead>\n",
              "    <tr style=\"text-align: right;\">\n",
              "      <th></th>\n",
              "      <th>Survived</th>\n",
              "      <th>Pclass</th>\n",
              "      <th>Name</th>\n",
              "      <th>Sex</th>\n",
              "      <th>Age</th>\n",
              "      <th>SibSp</th>\n",
              "      <th>Parch</th>\n",
              "      <th>Ticket</th>\n",
              "      <th>Fare</th>\n",
              "      <th>Cabin</th>\n",
              "      <th>Embarked</th>\n",
              "    </tr>\n",
              "    <tr>\n",
              "      <th>PassengerId</th>\n",
              "      <th></th>\n",
              "      <th></th>\n",
              "      <th></th>\n",
              "      <th></th>\n",
              "      <th></th>\n",
              "      <th></th>\n",
              "      <th></th>\n",
              "      <th></th>\n",
              "      <th></th>\n",
              "      <th></th>\n",
              "      <th></th>\n",
              "    </tr>\n",
              "  </thead>\n",
              "  <tbody>\n",
              "    <tr>\n",
              "      <th>1</th>\n",
              "      <td>0</td>\n",
              "      <td>3</td>\n",
              "      <td>Braund, Mr. Owen Harris</td>\n",
              "      <td>male</td>\n",
              "      <td>22.0</td>\n",
              "      <td>1</td>\n",
              "      <td>0</td>\n",
              "      <td>A/5 21171</td>\n",
              "      <td>7.2500</td>\n",
              "      <td>NaN</td>\n",
              "      <td>S</td>\n",
              "    </tr>\n",
              "    <tr>\n",
              "      <th>2</th>\n",
              "      <td>1</td>\n",
              "      <td>1</td>\n",
              "      <td>Cumings, Mrs. John Bradley (Florence Briggs Th...</td>\n",
              "      <td>female</td>\n",
              "      <td>38.0</td>\n",
              "      <td>1</td>\n",
              "      <td>0</td>\n",
              "      <td>PC 17599</td>\n",
              "      <td>71.2833</td>\n",
              "      <td>C85</td>\n",
              "      <td>C</td>\n",
              "    </tr>\n",
              "    <tr>\n",
              "      <th>3</th>\n",
              "      <td>1</td>\n",
              "      <td>3</td>\n",
              "      <td>Heikkinen, Miss. Laina</td>\n",
              "      <td>female</td>\n",
              "      <td>26.0</td>\n",
              "      <td>0</td>\n",
              "      <td>0</td>\n",
              "      <td>STON/O2. 3101282</td>\n",
              "      <td>7.9250</td>\n",
              "      <td>NaN</td>\n",
              "      <td>S</td>\n",
              "    </tr>\n",
              "    <tr>\n",
              "      <th>4</th>\n",
              "      <td>1</td>\n",
              "      <td>1</td>\n",
              "      <td>Futrelle, Mrs. Jacques Heath (Lily May Peel)</td>\n",
              "      <td>female</td>\n",
              "      <td>35.0</td>\n",
              "      <td>1</td>\n",
              "      <td>0</td>\n",
              "      <td>113803</td>\n",
              "      <td>53.1000</td>\n",
              "      <td>C123</td>\n",
              "      <td>S</td>\n",
              "    </tr>\n",
              "    <tr>\n",
              "      <th>5</th>\n",
              "      <td>0</td>\n",
              "      <td>3</td>\n",
              "      <td>Allen, Mr. William Henry</td>\n",
              "      <td>male</td>\n",
              "      <td>35.0</td>\n",
              "      <td>0</td>\n",
              "      <td>0</td>\n",
              "      <td>373450</td>\n",
              "      <td>8.0500</td>\n",
              "      <td>NaN</td>\n",
              "      <td>S</td>\n",
              "    </tr>\n",
              "  </tbody>\n",
              "</table>\n",
              "</div>"
            ],
            "text/plain": [
              "             Survived  Pclass  \\\n",
              "PassengerId                     \n",
              "1                   0       3   \n",
              "2                   1       1   \n",
              "3                   1       3   \n",
              "4                   1       1   \n",
              "5                   0       3   \n",
              "\n",
              "                                                          Name     Sex   Age  \\\n",
              "PassengerId                                                                    \n",
              "1                                      Braund, Mr. Owen Harris    male  22.0   \n",
              "2            Cumings, Mrs. John Bradley (Florence Briggs Th...  female  38.0   \n",
              "3                                       Heikkinen, Miss. Laina  female  26.0   \n",
              "4                 Futrelle, Mrs. Jacques Heath (Lily May Peel)  female  35.0   \n",
              "5                                     Allen, Mr. William Henry    male  35.0   \n",
              "\n",
              "             SibSp  Parch            Ticket     Fare Cabin Embarked  \n",
              "PassengerId                                                          \n",
              "1                1      0         A/5 21171   7.2500   NaN        S  \n",
              "2                1      0          PC 17599  71.2833   C85        C  \n",
              "3                0      0  STON/O2. 3101282   7.9250   NaN        S  \n",
              "4                1      0            113803  53.1000  C123        S  \n",
              "5                0      0            373450   8.0500   NaN        S  "
            ]
          },
          "execution_count": 62,
          "metadata": {},
          "output_type": "execute_result"
        }
      ],
      "source": [
        "dataset = pd.read_csv(\n",
        "    'https://raw.githubusercontent.com/aaparshina/FCI_22-23_data_analysis/main/data/titanic.csv', index_col='PassengerId'\n",
        ")\n",
        "\n",
        "dataset.head()"
      ]
    },
    {
      "cell_type": "markdown",
      "metadata": {
        "id": "ApU1wrVHr3sT"
      },
      "source": [
        "## Описание данных"
      ]
    },
    {
      "cell_type": "markdown",
      "metadata": {
        "id": "tEQMTbs-r3sU"
      },
      "source": [
        "В `padas` есть встроенная возможность получить информацию о типе данных в таблице, диапазоне значений, статистике и т.д."
      ]
    },
    {
      "cell_type": "code",
      "execution_count": 63,
      "metadata": {
        "colab": {
          "base_uri": "https://localhost:8080/",
          "height": 316
        },
        "id": "SYGPrpHyr3sU",
        "outputId": "8ae043cf-439a-4d36-846b-6d624412e213"
      },
      "outputs": [
        {
          "data": {
            "text/html": [
              "<div>\n",
              "<style scoped>\n",
              "    .dataframe tbody tr th:only-of-type {\n",
              "        vertical-align: middle;\n",
              "    }\n",
              "\n",
              "    .dataframe tbody tr th {\n",
              "        vertical-align: top;\n",
              "    }\n",
              "\n",
              "    .dataframe thead th {\n",
              "        text-align: right;\n",
              "    }\n",
              "</style>\n",
              "<table border=\"1\" class=\"dataframe\">\n",
              "  <thead>\n",
              "    <tr style=\"text-align: right;\">\n",
              "      <th></th>\n",
              "      <th>Survived</th>\n",
              "      <th>Pclass</th>\n",
              "      <th>Name</th>\n",
              "      <th>Sex</th>\n",
              "      <th>Age</th>\n",
              "      <th>SibSp</th>\n",
              "      <th>Parch</th>\n",
              "      <th>Ticket</th>\n",
              "      <th>Fare</th>\n",
              "      <th>Cabin</th>\n",
              "      <th>Embarked</th>\n",
              "    </tr>\n",
              "    <tr>\n",
              "      <th>PassengerId</th>\n",
              "      <th></th>\n",
              "      <th></th>\n",
              "      <th></th>\n",
              "      <th></th>\n",
              "      <th></th>\n",
              "      <th></th>\n",
              "      <th></th>\n",
              "      <th></th>\n",
              "      <th></th>\n",
              "      <th></th>\n",
              "      <th></th>\n",
              "    </tr>\n",
              "  </thead>\n",
              "  <tbody>\n",
              "    <tr>\n",
              "      <th>1</th>\n",
              "      <td>0</td>\n",
              "      <td>3</td>\n",
              "      <td>Braund, Mr. Owen Harris</td>\n",
              "      <td>male</td>\n",
              "      <td>22.0</td>\n",
              "      <td>1</td>\n",
              "      <td>0</td>\n",
              "      <td>A/5 21171</td>\n",
              "      <td>7.2500</td>\n",
              "      <td>NaN</td>\n",
              "      <td>S</td>\n",
              "    </tr>\n",
              "    <tr>\n",
              "      <th>2</th>\n",
              "      <td>1</td>\n",
              "      <td>1</td>\n",
              "      <td>Cumings, Mrs. John Bradley (Florence Briggs Th...</td>\n",
              "      <td>female</td>\n",
              "      <td>38.0</td>\n",
              "      <td>1</td>\n",
              "      <td>0</td>\n",
              "      <td>PC 17599</td>\n",
              "      <td>71.2833</td>\n",
              "      <td>C85</td>\n",
              "      <td>C</td>\n",
              "    </tr>\n",
              "    <tr>\n",
              "      <th>3</th>\n",
              "      <td>1</td>\n",
              "      <td>3</td>\n",
              "      <td>Heikkinen, Miss. Laina</td>\n",
              "      <td>female</td>\n",
              "      <td>26.0</td>\n",
              "      <td>0</td>\n",
              "      <td>0</td>\n",
              "      <td>STON/O2. 3101282</td>\n",
              "      <td>7.9250</td>\n",
              "      <td>NaN</td>\n",
              "      <td>S</td>\n",
              "    </tr>\n",
              "    <tr>\n",
              "      <th>4</th>\n",
              "      <td>1</td>\n",
              "      <td>1</td>\n",
              "      <td>Futrelle, Mrs. Jacques Heath (Lily May Peel)</td>\n",
              "      <td>female</td>\n",
              "      <td>35.0</td>\n",
              "      <td>1</td>\n",
              "      <td>0</td>\n",
              "      <td>113803</td>\n",
              "      <td>53.1000</td>\n",
              "      <td>C123</td>\n",
              "      <td>S</td>\n",
              "    </tr>\n",
              "    <tr>\n",
              "      <th>5</th>\n",
              "      <td>0</td>\n",
              "      <td>3</td>\n",
              "      <td>Allen, Mr. William Henry</td>\n",
              "      <td>male</td>\n",
              "      <td>35.0</td>\n",
              "      <td>0</td>\n",
              "      <td>0</td>\n",
              "      <td>373450</td>\n",
              "      <td>8.0500</td>\n",
              "      <td>NaN</td>\n",
              "      <td>S</td>\n",
              "    </tr>\n",
              "  </tbody>\n",
              "</table>\n",
              "</div>"
            ],
            "text/plain": [
              "             Survived  Pclass  \\\n",
              "PassengerId                     \n",
              "1                   0       3   \n",
              "2                   1       1   \n",
              "3                   1       3   \n",
              "4                   1       1   \n",
              "5                   0       3   \n",
              "\n",
              "                                                          Name     Sex   Age  \\\n",
              "PassengerId                                                                    \n",
              "1                                      Braund, Mr. Owen Harris    male  22.0   \n",
              "2            Cumings, Mrs. John Bradley (Florence Briggs Th...  female  38.0   \n",
              "3                                       Heikkinen, Miss. Laina  female  26.0   \n",
              "4                 Futrelle, Mrs. Jacques Heath (Lily May Peel)  female  35.0   \n",
              "5                                     Allen, Mr. William Henry    male  35.0   \n",
              "\n",
              "             SibSp  Parch            Ticket     Fare Cabin Embarked  \n",
              "PassengerId                                                          \n",
              "1                1      0         A/5 21171   7.2500   NaN        S  \n",
              "2                1      0          PC 17599  71.2833   C85        C  \n",
              "3                0      0  STON/O2. 3101282   7.9250   NaN        S  \n",
              "4                1      0            113803  53.1000  C123        S  \n",
              "5                0      0            373450   8.0500   NaN        S  "
            ]
          },
          "execution_count": 63,
          "metadata": {},
          "output_type": "execute_result"
        }
      ],
      "source": [
        "dataset = pd.read_csv(\n",
        "    'https://raw.githubusercontent.com/aaparshina/FCI_22-23_data_analysis/main/data/titanic.csv', index_col='PassengerId'\n",
        ")\n",
        "\n",
        "dataset.head()"
      ]
    },
    {
      "cell_type": "markdown",
      "metadata": {
        "id": "okxznZ8Or3sU"
      },
      "source": [
        "Посмотрим, что отдает нам `.info()`."
      ]
    },
    {
      "cell_type": "code",
      "execution_count": 64,
      "metadata": {
        "colab": {
          "base_uri": "https://localhost:8080/"
        },
        "id": "xoGL4BEir3sU",
        "outputId": "428a6e48-3f7c-420a-fb63-558e02f77f68"
      },
      "outputs": [
        {
          "name": "stdout",
          "output_type": "stream",
          "text": [
            "<class 'pandas.core.frame.DataFrame'>\n",
            "Index: 891 entries, 1 to 891\n",
            "Data columns (total 11 columns):\n",
            " #   Column    Non-Null Count  Dtype  \n",
            "---  ------    --------------  -----  \n",
            " 0   Survived  891 non-null    int64  \n",
            " 1   Pclass    891 non-null    int64  \n",
            " 2   Name      891 non-null    object \n",
            " 3   Sex       891 non-null    object \n",
            " 4   Age       714 non-null    float64\n",
            " 5   SibSp     891 non-null    int64  \n",
            " 6   Parch     891 non-null    int64  \n",
            " 7   Ticket    891 non-null    object \n",
            " 8   Fare      891 non-null    float64\n",
            " 9   Cabin     204 non-null    object \n",
            " 10  Embarked  889 non-null    object \n",
            "dtypes: float64(2), int64(4), object(5)\n",
            "memory usage: 83.5+ KB\n"
          ]
        }
      ],
      "source": [
        "dataset.info()"
      ]
    },
    {
      "cell_type": "markdown",
      "metadata": {
        "id": "R1sLqBUkr3sU"
      },
      "source": [
        "Мы можем увидеть, что в датасете 891 элемент проиндексированный от 1 до 891. 11 колонок из которых 6 принимают численные значения `int64` и `float64`), 5 принимают текстовые или смешанные значения (`object`). Также мы можем понять, что в наших данных есть пропущенные значения, например для колонки `Cabin` есть только 204 непустых (`non-null`) значения."
      ]
    },
    {
      "cell_type": "markdown",
      "metadata": {
        "id": "-VCF_Sfbr3sU"
      },
      "source": [
        "`.describe()` - показывает краткую статистическую сводку данных  (по умолчанию числовых)."
      ]
    },
    {
      "cell_type": "code",
      "execution_count": 65,
      "metadata": {
        "colab": {
          "base_uri": "https://localhost:8080/",
          "height": 300
        },
        "id": "BbROdxwar3sU",
        "outputId": "03ee6f5e-c5cf-4ffb-c08f-4f8973af2bb0"
      },
      "outputs": [
        {
          "data": {
            "text/html": [
              "<div>\n",
              "<style scoped>\n",
              "    .dataframe tbody tr th:only-of-type {\n",
              "        vertical-align: middle;\n",
              "    }\n",
              "\n",
              "    .dataframe tbody tr th {\n",
              "        vertical-align: top;\n",
              "    }\n",
              "\n",
              "    .dataframe thead th {\n",
              "        text-align: right;\n",
              "    }\n",
              "</style>\n",
              "<table border=\"1\" class=\"dataframe\">\n",
              "  <thead>\n",
              "    <tr style=\"text-align: right;\">\n",
              "      <th></th>\n",
              "      <th>Survived</th>\n",
              "      <th>Pclass</th>\n",
              "      <th>Age</th>\n",
              "      <th>SibSp</th>\n",
              "      <th>Parch</th>\n",
              "      <th>Fare</th>\n",
              "    </tr>\n",
              "  </thead>\n",
              "  <tbody>\n",
              "    <tr>\n",
              "      <th>count</th>\n",
              "      <td>891.000000</td>\n",
              "      <td>891.000000</td>\n",
              "      <td>714.000000</td>\n",
              "      <td>891.000000</td>\n",
              "      <td>891.000000</td>\n",
              "      <td>891.000000</td>\n",
              "    </tr>\n",
              "    <tr>\n",
              "      <th>mean</th>\n",
              "      <td>0.383838</td>\n",
              "      <td>2.308642</td>\n",
              "      <td>29.699118</td>\n",
              "      <td>0.523008</td>\n",
              "      <td>0.381594</td>\n",
              "      <td>32.204208</td>\n",
              "    </tr>\n",
              "    <tr>\n",
              "      <th>std</th>\n",
              "      <td>0.486592</td>\n",
              "      <td>0.836071</td>\n",
              "      <td>14.526497</td>\n",
              "      <td>1.102743</td>\n",
              "      <td>0.806057</td>\n",
              "      <td>49.693429</td>\n",
              "    </tr>\n",
              "    <tr>\n",
              "      <th>min</th>\n",
              "      <td>0.000000</td>\n",
              "      <td>1.000000</td>\n",
              "      <td>0.420000</td>\n",
              "      <td>0.000000</td>\n",
              "      <td>0.000000</td>\n",
              "      <td>0.000000</td>\n",
              "    </tr>\n",
              "    <tr>\n",
              "      <th>25%</th>\n",
              "      <td>0.000000</td>\n",
              "      <td>2.000000</td>\n",
              "      <td>20.125000</td>\n",
              "      <td>0.000000</td>\n",
              "      <td>0.000000</td>\n",
              "      <td>7.910400</td>\n",
              "    </tr>\n",
              "    <tr>\n",
              "      <th>50%</th>\n",
              "      <td>0.000000</td>\n",
              "      <td>3.000000</td>\n",
              "      <td>28.000000</td>\n",
              "      <td>0.000000</td>\n",
              "      <td>0.000000</td>\n",
              "      <td>14.454200</td>\n",
              "    </tr>\n",
              "    <tr>\n",
              "      <th>75%</th>\n",
              "      <td>1.000000</td>\n",
              "      <td>3.000000</td>\n",
              "      <td>38.000000</td>\n",
              "      <td>1.000000</td>\n",
              "      <td>0.000000</td>\n",
              "      <td>31.000000</td>\n",
              "    </tr>\n",
              "    <tr>\n",
              "      <th>max</th>\n",
              "      <td>1.000000</td>\n",
              "      <td>3.000000</td>\n",
              "      <td>80.000000</td>\n",
              "      <td>8.000000</td>\n",
              "      <td>6.000000</td>\n",
              "      <td>512.329200</td>\n",
              "    </tr>\n",
              "  </tbody>\n",
              "</table>\n",
              "</div>"
            ],
            "text/plain": [
              "         Survived      Pclass         Age       SibSp       Parch        Fare\n",
              "count  891.000000  891.000000  714.000000  891.000000  891.000000  891.000000\n",
              "mean     0.383838    2.308642   29.699118    0.523008    0.381594   32.204208\n",
              "std      0.486592    0.836071   14.526497    1.102743    0.806057   49.693429\n",
              "min      0.000000    1.000000    0.420000    0.000000    0.000000    0.000000\n",
              "25%      0.000000    2.000000   20.125000    0.000000    0.000000    7.910400\n",
              "50%      0.000000    3.000000   28.000000    0.000000    0.000000   14.454200\n",
              "75%      1.000000    3.000000   38.000000    1.000000    0.000000   31.000000\n",
              "max      1.000000    3.000000   80.000000    8.000000    6.000000  512.329200"
            ]
          },
          "execution_count": 65,
          "metadata": {},
          "output_type": "execute_result"
        }
      ],
      "source": [
        "dataset.describe()"
      ]
    },
    {
      "cell_type": "markdown",
      "metadata": {
        "id": "hvRLznn6r3sU"
      },
      "source": [
        "Из этой сводки можно узнать количество заполненных значений `count`, среднее значение `mean`,  стандартное отклонение `std`, минимальное `min` и максимальное `max` значение и значения на [квартилях](https://ru.wikipedia.org/wiki/%D0%9A%D0%B2%D0%B0%D0%BD%D1%82%D0%B8%D0%BB%D1%8C#%D0%9C%D0%B5%D0%B4%D0%B8%D0%B0%D0%BD%D0%B0_%D0%B8_%D0%BA%D0%B2%D0%B0%D1%80%D1%82%D0%B8%D0%BB%D0%B8).\n"
      ]
    },
    {
      "cell_type": "markdown",
      "metadata": {
        "id": "9460BvjKr3sV"
      },
      "source": [
        "Можно посмотреть на сводку по не числовым признакам."
      ]
    },
    {
      "cell_type": "code",
      "execution_count": 66,
      "metadata": {
        "colab": {
          "base_uri": "https://localhost:8080/",
          "height": 175
        },
        "id": "rICBY4eTr3sV",
        "outputId": "7f715ac5-d1d8-4f14-d5ca-59fbd87732a5"
      },
      "outputs": [
        {
          "data": {
            "text/html": [
              "<div>\n",
              "<style scoped>\n",
              "    .dataframe tbody tr th:only-of-type {\n",
              "        vertical-align: middle;\n",
              "    }\n",
              "\n",
              "    .dataframe tbody tr th {\n",
              "        vertical-align: top;\n",
              "    }\n",
              "\n",
              "    .dataframe thead th {\n",
              "        text-align: right;\n",
              "    }\n",
              "</style>\n",
              "<table border=\"1\" class=\"dataframe\">\n",
              "  <thead>\n",
              "    <tr style=\"text-align: right;\">\n",
              "      <th></th>\n",
              "      <th>Name</th>\n",
              "      <th>Sex</th>\n",
              "      <th>Ticket</th>\n",
              "      <th>Cabin</th>\n",
              "      <th>Embarked</th>\n",
              "    </tr>\n",
              "  </thead>\n",
              "  <tbody>\n",
              "    <tr>\n",
              "      <th>count</th>\n",
              "      <td>891</td>\n",
              "      <td>891</td>\n",
              "      <td>891</td>\n",
              "      <td>204</td>\n",
              "      <td>889</td>\n",
              "    </tr>\n",
              "    <tr>\n",
              "      <th>unique</th>\n",
              "      <td>891</td>\n",
              "      <td>2</td>\n",
              "      <td>681</td>\n",
              "      <td>147</td>\n",
              "      <td>3</td>\n",
              "    </tr>\n",
              "    <tr>\n",
              "      <th>top</th>\n",
              "      <td>Dooley, Mr. Patrick</td>\n",
              "      <td>male</td>\n",
              "      <td>347082</td>\n",
              "      <td>G6</td>\n",
              "      <td>S</td>\n",
              "    </tr>\n",
              "    <tr>\n",
              "      <th>freq</th>\n",
              "      <td>1</td>\n",
              "      <td>577</td>\n",
              "      <td>7</td>\n",
              "      <td>4</td>\n",
              "      <td>644</td>\n",
              "    </tr>\n",
              "  </tbody>\n",
              "</table>\n",
              "</div>"
            ],
            "text/plain": [
              "                       Name   Sex  Ticket Cabin Embarked\n",
              "count                   891   891     891   204      889\n",
              "unique                  891     2     681   147        3\n",
              "top     Dooley, Mr. Patrick  male  347082    G6        S\n",
              "freq                      1   577       7     4      644"
            ]
          },
          "execution_count": 66,
          "metadata": {},
          "output_type": "execute_result"
        }
      ],
      "source": [
        "dataset.describe(include=['O'])"
      ]
    },
    {
      "cell_type": "markdown",
      "metadata": {
        "id": "Ffsn3v3Nr3sV"
      },
      "source": [
        "Из этой сводки можно узнать количество заполненных значений `count`, количество уникальных значений `unique`, самое часто встречаемое значение `top` и как сколько раз это значение встретилось `freq`."
      ]
    },
    {
      "cell_type": "markdown",
      "metadata": {
        "id": "bYsP0qRCr3sV"
      },
      "source": [
        "Или по одному конкретному признаку (`Series`)."
      ]
    },
    {
      "cell_type": "code",
      "execution_count": 67,
      "metadata": {
        "colab": {
          "base_uri": "https://localhost:8080/"
        },
        "id": "dZbYG6gir3sV",
        "outputId": "1a5be3e6-439b-4e4a-ad01-7d1d9267cbf0"
      },
      "outputs": [
        {
          "data": {
            "text/plain": [
              "count    714.000000\n",
              "mean      29.699118\n",
              "std       14.526497\n",
              "min        0.420000\n",
              "25%       20.125000\n",
              "50%       28.000000\n",
              "75%       38.000000\n",
              "max       80.000000\n",
              "Name: Age, dtype: float64"
            ]
          },
          "execution_count": 67,
          "metadata": {},
          "output_type": "execute_result"
        }
      ],
      "source": [
        "dataset['Age'].describe()"
      ]
    },
    {
      "cell_type": "code",
      "execution_count": 68,
      "metadata": {
        "colab": {
          "base_uri": "https://localhost:8080/"
        },
        "id": "6NGCyQV2r3sV",
        "outputId": "11c992ac-1c48-4143-b92f-77ef04960eee"
      },
      "outputs": [
        {
          "data": {
            "text/plain": [
              "count     889\n",
              "unique      3\n",
              "top         S\n",
              "freq      644\n",
              "Name: Embarked, dtype: object"
            ]
          },
          "execution_count": 68,
          "metadata": {},
          "output_type": "execute_result"
        }
      ],
      "source": [
        "dataset['Embarked'].describe()"
      ]
    },
    {
      "cell_type": "markdown",
      "metadata": {
        "id": "4GjlTn2rr3sV"
      },
      "source": [
        "Можно получить различные описания отдельных колонок."
      ]
    },
    {
      "cell_type": "code",
      "execution_count": 69,
      "metadata": {
        "colab": {
          "base_uri": "https://localhost:8080/"
        },
        "id": "VXRBdbQnr3sV",
        "outputId": "80d621ed-ff95-4e31-cc41-6e52730bc09b"
      },
      "outputs": [
        {
          "data": {
            "text/plain": [
              "np.float64(29.69911764705882)"
            ]
          },
          "execution_count": 69,
          "metadata": {},
          "output_type": "execute_result"
        }
      ],
      "source": [
        "dataset['Age'].mean()"
      ]
    },
    {
      "cell_type": "code",
      "execution_count": 70,
      "metadata": {
        "colab": {
          "base_uri": "https://localhost:8080/"
        },
        "id": "wEtixwiJr3sV",
        "outputId": "866f4a9c-538c-4ccb-e56b-45fc41a165bd"
      },
      "outputs": [
        {
          "data": {
            "text/plain": [
              "array(['S', 'C', 'Q', nan], dtype=object)"
            ]
          },
          "execution_count": 70,
          "metadata": {},
          "output_type": "execute_result"
        }
      ],
      "source": [
        "dataset['Embarked'].unique()"
      ]
    },
    {
      "cell_type": "markdown",
      "metadata": {
        "id": "6yTTocd4r3sV"
      },
      "source": [
        "Или посмотреть количество значений для каждого уникального значения."
      ]
    },
    {
      "cell_type": "code",
      "execution_count": 71,
      "metadata": {
        "colab": {
          "base_uri": "https://localhost:8080/"
        },
        "id": "xsTX2OLmr3sV",
        "outputId": "a624b2e9-8cc1-4082-804f-f01f079b0601"
      },
      "outputs": [
        {
          "data": {
            "text/plain": [
              "Age\n",
              "24.00    30\n",
              "22.00    27\n",
              "18.00    26\n",
              "28.00    25\n",
              "30.00    25\n",
              "         ..\n",
              "24.50     1\n",
              "0.67      1\n",
              "0.42      1\n",
              "34.50     1\n",
              "74.00     1\n",
              "Name: count, Length: 88, dtype: int64"
            ]
          },
          "execution_count": 71,
          "metadata": {},
          "output_type": "execute_result"
        }
      ],
      "source": [
        "dataset['Age'].value_counts()"
      ]
    },
    {
      "cell_type": "code",
      "execution_count": 72,
      "metadata": {
        "colab": {
          "base_uri": "https://localhost:8080/"
        },
        "id": "z17CPGM1r3sV",
        "outputId": "eb3ae35a-a61c-4e57-f876-b4951606ef82"
      },
      "outputs": [
        {
          "data": {
            "text/plain": [
              "Embarked\n",
              "S    644\n",
              "C    168\n",
              "Q     77\n",
              "Name: count, dtype: int64"
            ]
          },
          "execution_count": 72,
          "metadata": {},
          "output_type": "execute_result"
        }
      ],
      "source": [
        "dataset['Embarked'].value_counts()"
      ]
    },
    {
      "cell_type": "markdown",
      "metadata": {
        "id": "9QKjVp8Pr3sW"
      },
      "source": [
        "При расчете статистики можно группироваться по значениям колонок при помощи `groupby()`."
      ]
    },
    {
      "cell_type": "code",
      "execution_count": 73,
      "metadata": {
        "colab": {
          "base_uri": "https://localhost:8080/",
          "height": 143
        },
        "id": "Akps1_err3sW",
        "outputId": "35076953-be71-414d-9528-9fc8172dd073"
      },
      "outputs": [
        {
          "data": {
            "text/html": [
              "<div>\n",
              "<style scoped>\n",
              "    .dataframe tbody tr th:only-of-type {\n",
              "        vertical-align: middle;\n",
              "    }\n",
              "\n",
              "    .dataframe tbody tr th {\n",
              "        vertical-align: top;\n",
              "    }\n",
              "\n",
              "    .dataframe thead th {\n",
              "        text-align: right;\n",
              "    }\n",
              "</style>\n",
              "<table border=\"1\" class=\"dataframe\">\n",
              "  <thead>\n",
              "    <tr style=\"text-align: right;\">\n",
              "      <th></th>\n",
              "      <th>Survived</th>\n",
              "    </tr>\n",
              "    <tr>\n",
              "      <th>Pclass</th>\n",
              "      <th></th>\n",
              "    </tr>\n",
              "  </thead>\n",
              "  <tbody>\n",
              "    <tr>\n",
              "      <th>1</th>\n",
              "      <td>0.629630</td>\n",
              "    </tr>\n",
              "    <tr>\n",
              "      <th>2</th>\n",
              "      <td>0.472826</td>\n",
              "    </tr>\n",
              "    <tr>\n",
              "      <th>3</th>\n",
              "      <td>0.242363</td>\n",
              "    </tr>\n",
              "  </tbody>\n",
              "</table>\n",
              "</div>"
            ],
            "text/plain": [
              "        Survived\n",
              "Pclass          \n",
              "1       0.629630\n",
              "2       0.472826\n",
              "3       0.242363"
            ]
          },
          "execution_count": 73,
          "metadata": {},
          "output_type": "execute_result"
        }
      ],
      "source": [
        "dataset[['Pclass', 'Survived']].groupby(['Pclass']).mean()"
      ]
    },
    {
      "cell_type": "code",
      "execution_count": 74,
      "metadata": {
        "colab": {
          "base_uri": "https://localhost:8080/",
          "height": 112
        },
        "id": "3Tb_WIiBr3sW",
        "outputId": "59089bf1-392a-4df3-eb60-cb959f87979b"
      },
      "outputs": [
        {
          "data": {
            "text/html": [
              "<div>\n",
              "<style scoped>\n",
              "    .dataframe tbody tr th:only-of-type {\n",
              "        vertical-align: middle;\n",
              "    }\n",
              "\n",
              "    .dataframe tbody tr th {\n",
              "        vertical-align: top;\n",
              "    }\n",
              "\n",
              "    .dataframe thead th {\n",
              "        text-align: right;\n",
              "    }\n",
              "</style>\n",
              "<table border=\"1\" class=\"dataframe\">\n",
              "  <thead>\n",
              "    <tr style=\"text-align: right;\">\n",
              "      <th></th>\n",
              "      <th>Survived</th>\n",
              "    </tr>\n",
              "    <tr>\n",
              "      <th>Sex</th>\n",
              "      <th></th>\n",
              "    </tr>\n",
              "  </thead>\n",
              "  <tbody>\n",
              "    <tr>\n",
              "      <th>female</th>\n",
              "      <td>0.742038</td>\n",
              "    </tr>\n",
              "    <tr>\n",
              "      <th>male</th>\n",
              "      <td>0.188908</td>\n",
              "    </tr>\n",
              "  </tbody>\n",
              "</table>\n",
              "</div>"
            ],
            "text/plain": [
              "        Survived\n",
              "Sex             \n",
              "female  0.742038\n",
              "male    0.188908"
            ]
          },
          "execution_count": 74,
          "metadata": {},
          "output_type": "execute_result"
        }
      ],
      "source": [
        "dataset[[\"Sex\", \"Survived\"]].groupby(['Sex']).mean()"
      ]
    },
    {
      "cell_type": "code",
      "execution_count": 75,
      "metadata": {
        "colab": {
          "base_uri": "https://localhost:8080/",
          "height": 269
        },
        "id": "mptX2N30r3sW",
        "outputId": "fa43451d-ffcd-48cc-abe0-43255e1d9ee8"
      },
      "outputs": [
        {
          "data": {
            "text/html": [
              "<div>\n",
              "<style scoped>\n",
              "    .dataframe tbody tr th:only-of-type {\n",
              "        vertical-align: middle;\n",
              "    }\n",
              "\n",
              "    .dataframe tbody tr th {\n",
              "        vertical-align: top;\n",
              "    }\n",
              "\n",
              "    .dataframe thead th {\n",
              "        text-align: right;\n",
              "    }\n",
              "</style>\n",
              "<table border=\"1\" class=\"dataframe\">\n",
              "  <thead>\n",
              "    <tr style=\"text-align: right;\">\n",
              "      <th></th>\n",
              "      <th>SibSp</th>\n",
              "      <th>Survived</th>\n",
              "    </tr>\n",
              "  </thead>\n",
              "  <tbody>\n",
              "    <tr>\n",
              "      <th>1</th>\n",
              "      <td>1</td>\n",
              "      <td>0.535885</td>\n",
              "    </tr>\n",
              "    <tr>\n",
              "      <th>2</th>\n",
              "      <td>2</td>\n",
              "      <td>0.464286</td>\n",
              "    </tr>\n",
              "    <tr>\n",
              "      <th>0</th>\n",
              "      <td>0</td>\n",
              "      <td>0.345395</td>\n",
              "    </tr>\n",
              "    <tr>\n",
              "      <th>3</th>\n",
              "      <td>3</td>\n",
              "      <td>0.250000</td>\n",
              "    </tr>\n",
              "    <tr>\n",
              "      <th>4</th>\n",
              "      <td>4</td>\n",
              "      <td>0.166667</td>\n",
              "    </tr>\n",
              "    <tr>\n",
              "      <th>5</th>\n",
              "      <td>5</td>\n",
              "      <td>0.000000</td>\n",
              "    </tr>\n",
              "    <tr>\n",
              "      <th>6</th>\n",
              "      <td>8</td>\n",
              "      <td>0.000000</td>\n",
              "    </tr>\n",
              "  </tbody>\n",
              "</table>\n",
              "</div>"
            ],
            "text/plain": [
              "   SibSp  Survived\n",
              "1      1  0.535885\n",
              "2      2  0.464286\n",
              "0      0  0.345395\n",
              "3      3  0.250000\n",
              "4      4  0.166667\n",
              "5      5  0.000000\n",
              "6      8  0.000000"
            ]
          },
          "execution_count": 75,
          "metadata": {},
          "output_type": "execute_result"
        }
      ],
      "source": [
        "dataset[[\"SibSp\", \"Survived\"]].groupby(['SibSp'], as_index=False).mean().sort_values(by='Survived', ascending=False)"
      ]
    },
    {
      "cell_type": "markdown",
      "metadata": {
        "id": "j31QpWpPLSKe"
      },
      "source": [
        "**Пример с ценами на дома**\n"
      ]
    },
    {
      "cell_type": "code",
      "execution_count": 76,
      "metadata": {
        "colab": {
          "base_uri": "https://localhost:8080/",
          "height": 226
        },
        "id": "TpK51SVQLWoF",
        "outputId": "205f7704-b2f7-446d-bcf8-653164f89b31"
      },
      "outputs": [
        {
          "data": {
            "text/html": [
              "<div>\n",
              "<style scoped>\n",
              "    .dataframe tbody tr th:only-of-type {\n",
              "        vertical-align: middle;\n",
              "    }\n",
              "\n",
              "    .dataframe tbody tr th {\n",
              "        vertical-align: top;\n",
              "    }\n",
              "\n",
              "    .dataframe thead th {\n",
              "        text-align: right;\n",
              "    }\n",
              "</style>\n",
              "<table border=\"1\" class=\"dataframe\">\n",
              "  <thead>\n",
              "    <tr style=\"text-align: right;\">\n",
              "      <th></th>\n",
              "      <th>longitude</th>\n",
              "      <th>latitude</th>\n",
              "      <th>housing_median_age</th>\n",
              "      <th>total_rooms</th>\n",
              "      <th>total_bedrooms</th>\n",
              "      <th>population</th>\n",
              "      <th>households</th>\n",
              "      <th>median_income</th>\n",
              "      <th>median_house_value</th>\n",
              "      <th>ocean_proximity</th>\n",
              "    </tr>\n",
              "  </thead>\n",
              "  <tbody>\n",
              "    <tr>\n",
              "      <th>0</th>\n",
              "      <td>-122.23</td>\n",
              "      <td>37.88</td>\n",
              "      <td>41.0</td>\n",
              "      <td>880.0</td>\n",
              "      <td>129.0</td>\n",
              "      <td>322.0</td>\n",
              "      <td>126.0</td>\n",
              "      <td>8.3252</td>\n",
              "      <td>452600.0</td>\n",
              "      <td>NEAR BAY</td>\n",
              "    </tr>\n",
              "    <tr>\n",
              "      <th>1</th>\n",
              "      <td>-122.22</td>\n",
              "      <td>37.86</td>\n",
              "      <td>21.0</td>\n",
              "      <td>7099.0</td>\n",
              "      <td>1106.0</td>\n",
              "      <td>2401.0</td>\n",
              "      <td>1138.0</td>\n",
              "      <td>8.3014</td>\n",
              "      <td>358500.0</td>\n",
              "      <td>NEAR BAY</td>\n",
              "    </tr>\n",
              "    <tr>\n",
              "      <th>2</th>\n",
              "      <td>-122.24</td>\n",
              "      <td>37.85</td>\n",
              "      <td>52.0</td>\n",
              "      <td>1467.0</td>\n",
              "      <td>190.0</td>\n",
              "      <td>496.0</td>\n",
              "      <td>177.0</td>\n",
              "      <td>7.2574</td>\n",
              "      <td>352100.0</td>\n",
              "      <td>NEAR BAY</td>\n",
              "    </tr>\n",
              "    <tr>\n",
              "      <th>3</th>\n",
              "      <td>-122.25</td>\n",
              "      <td>37.85</td>\n",
              "      <td>52.0</td>\n",
              "      <td>1274.0</td>\n",
              "      <td>235.0</td>\n",
              "      <td>558.0</td>\n",
              "      <td>219.0</td>\n",
              "      <td>5.6431</td>\n",
              "      <td>341300.0</td>\n",
              "      <td>NEAR BAY</td>\n",
              "    </tr>\n",
              "    <tr>\n",
              "      <th>4</th>\n",
              "      <td>-122.25</td>\n",
              "      <td>37.85</td>\n",
              "      <td>52.0</td>\n",
              "      <td>1627.0</td>\n",
              "      <td>280.0</td>\n",
              "      <td>565.0</td>\n",
              "      <td>259.0</td>\n",
              "      <td>3.8462</td>\n",
              "      <td>342200.0</td>\n",
              "      <td>NEAR BAY</td>\n",
              "    </tr>\n",
              "  </tbody>\n",
              "</table>\n",
              "</div>"
            ],
            "text/plain": [
              "   longitude  latitude  housing_median_age  total_rooms  total_bedrooms  \\\n",
              "0    -122.23     37.88                41.0        880.0           129.0   \n",
              "1    -122.22     37.86                21.0       7099.0          1106.0   \n",
              "2    -122.24     37.85                52.0       1467.0           190.0   \n",
              "3    -122.25     37.85                52.0       1274.0           235.0   \n",
              "4    -122.25     37.85                52.0       1627.0           280.0   \n",
              "\n",
              "   population  households  median_income  median_house_value ocean_proximity  \n",
              "0       322.0       126.0         8.3252            452600.0        NEAR BAY  \n",
              "1      2401.0      1138.0         8.3014            358500.0        NEAR BAY  \n",
              "2       496.0       177.0         7.2574            352100.0        NEAR BAY  \n",
              "3       558.0       219.0         5.6431            341300.0        NEAR BAY  \n",
              "4       565.0       259.0         3.8462            342200.0        NEAR BAY  "
            ]
          },
          "metadata": {},
          "output_type": "display_data"
        }
      ],
      "source": [
        "import pandas as pd\n",
        "df = pd.read_csv('C:\\скил\\DST-156\\IDE_NEW\\Семинар 4. Группировка/housing.csv')\n",
        "display(df.head())\n",
        "\n",
        "# Датасет: https://www.kaggle.com/datasets/camnugent/california-housing-prices"
      ]
    },
    {
      "cell_type": "code",
      "execution_count": 77,
      "metadata": {
        "colab": {
          "base_uri": "https://localhost:8080/",
          "height": 237
        },
        "id": "E40J3N1tLY-k",
        "outputId": "456de42e-d358-400f-d214-28b8117cb7c7"
      },
      "outputs": [
        {
          "data": {
            "text/html": [
              "<div>\n",
              "<style scoped>\n",
              "    .dataframe tbody tr th:only-of-type {\n",
              "        vertical-align: middle;\n",
              "    }\n",
              "\n",
              "    .dataframe tbody tr th {\n",
              "        vertical-align: top;\n",
              "    }\n",
              "\n",
              "    .dataframe thead th {\n",
              "        text-align: right;\n",
              "    }\n",
              "</style>\n",
              "<table border=\"1\" class=\"dataframe\">\n",
              "  <thead>\n",
              "    <tr style=\"text-align: right;\">\n",
              "      <th></th>\n",
              "      <th>median_house_value</th>\n",
              "    </tr>\n",
              "    <tr>\n",
              "      <th>ocean_proximity</th>\n",
              "      <th></th>\n",
              "    </tr>\n",
              "  </thead>\n",
              "  <tbody>\n",
              "    <tr>\n",
              "      <th>&lt;1H OCEAN</th>\n",
              "      <td>240084.285464</td>\n",
              "    </tr>\n",
              "    <tr>\n",
              "      <th>INLAND</th>\n",
              "      <td>124805.392001</td>\n",
              "    </tr>\n",
              "    <tr>\n",
              "      <th>ISLAND</th>\n",
              "      <td>380440.000000</td>\n",
              "    </tr>\n",
              "    <tr>\n",
              "      <th>NEAR BAY</th>\n",
              "      <td>259212.311790</td>\n",
              "    </tr>\n",
              "    <tr>\n",
              "      <th>NEAR OCEAN</th>\n",
              "      <td>249433.977427</td>\n",
              "    </tr>\n",
              "  </tbody>\n",
              "</table>\n",
              "</div>"
            ],
            "text/plain": [
              "                 median_house_value\n",
              "ocean_proximity                    \n",
              "<1H OCEAN             240084.285464\n",
              "INLAND                124805.392001\n",
              "ISLAND                380440.000000\n",
              "NEAR BAY              259212.311790\n",
              "NEAR OCEAN            249433.977427"
            ]
          },
          "execution_count": 77,
          "metadata": {},
          "output_type": "execute_result"
        }
      ],
      "source": [
        "df[['ocean_proximity', 'median_house_value']].groupby(['ocean_proximity']).mean()\n"
      ]
    },
    {
      "cell_type": "code",
      "execution_count": 78,
      "metadata": {
        "colab": {
          "base_uri": "https://localhost:8080/",
          "height": 545
        },
        "id": "oluE_7KvPTm2",
        "outputId": "7ee1d9c4-62c3-4f87-abf7-f8e71739bde8"
      },
      "outputs": [
        {
          "data": {
            "text/plain": [
              "<Axes: xlabel='ocean_proximity'>"
            ]
          },
          "execution_count": 78,
          "metadata": {},
          "output_type": "execute_result"
        },
        {
          "data": {
            "image/png": "[encoded data removed]",
            "text/plain": [
              "<Figure size 640x480 with 1 Axes>"
            ]
          },
          "metadata": {},
          "output_type": "display_data"
        }
      ],
      "source": [
        "df[['ocean_proximity', 'median_house_value']].groupby(['ocean_proximity']).mean().plot(kind='bar')"
      ]
    }
  ],
  "metadata": {
    "colab": {
      "provenance": []
    },
    "gpuClass": "standard",
    "kernelspec": {
      "display_name": "Python 3",
      "name": "python3"
    },
    "language_info": {
      "codemirror_mode": {
        "name": "ipython",
        "version": 3
      },
      "file_extension": ".py",
      "mimetype": "text/x-python",
      "name": "python",
      "nbconvert_exporter": "python",
      "pygments_lexer": "ipython3",
      "version": "3.11.9"
    }
  },
  "nbformat": 4,
  "nbformat_minor": 0
}
