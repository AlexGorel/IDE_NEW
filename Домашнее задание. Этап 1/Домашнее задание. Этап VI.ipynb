{
 "cells": [
  {
   "cell_type": "code",
   "execution_count": 2,
   "metadata": {},
   "outputs": [],
   "source": [
    "import pandas as pd\n",
    "import numpy as np"
   ]
  },
  {
   "cell_type": "code",
   "execution_count": 3,
   "metadata": {},
   "outputs": [
    {
     "data": {
      "text/html": [
       "<div>\n",
       "<style scoped>\n",
       "    .dataframe tbody tr th:only-of-type {\n",
       "        vertical-align: middle;\n",
       "    }\n",
       "\n",
       "    .dataframe tbody tr th {\n",
       "        vertical-align: top;\n",
       "    }\n",
       "\n",
       "    .dataframe thead th {\n",
       "        text-align: right;\n",
       "    }\n",
       "</style>\n",
       "<table border=\"1\" class=\"dataframe\">\n",
       "  <thead>\n",
       "    <tr style=\"text-align: right;\">\n",
       "      <th></th>\n",
       "      <th>title</th>\n",
       "      <th>authors</th>\n",
       "      <th>average_rating</th>\n",
       "      <th>language_code</th>\n",
       "      <th>num_pages</th>\n",
       "      <th>ratings_count</th>\n",
       "      <th>text_reviews_count</th>\n",
       "      <th>publication_date</th>\n",
       "      <th>publisher</th>\n",
       "      <th>title_ser</th>\n",
       "      <th>num_in_ser</th>\n",
       "      <th>month</th>\n",
       "      <th>day</th>\n",
       "      <th>year</th>\n",
       "      <th>century</th>\n",
       "      <th>num_coauthors</th>\n",
       "      <th>pages_category</th>\n",
       "      <th>ar_fillna</th>\n",
       "      <th>np_fillna</th>\n",
       "      <th>publisher_fillna</th>\n",
       "    </tr>\n",
       "  </thead>\n",
       "  <tbody>\n",
       "    <tr>\n",
       "      <th>0</th>\n",
       "      <td>Harry Potter and the Chamber of Secrets</td>\n",
       "      <td>J.K. Rowling</td>\n",
       "      <td>4.42</td>\n",
       "      <td>eng</td>\n",
       "      <td>352.0</td>\n",
       "      <td>6333</td>\n",
       "      <td>244</td>\n",
       "      <td>11/1/2003</td>\n",
       "      <td>Scholastic</td>\n",
       "      <td>Harry Potter</td>\n",
       "      <td>2</td>\n",
       "      <td>11</td>\n",
       "      <td>1</td>\n",
       "      <td>2003</td>\n",
       "      <td>21</td>\n",
       "      <td>1</td>\n",
       "      <td>от 100 до 500 стр.</td>\n",
       "      <td>4.42</td>\n",
       "      <td>352.0</td>\n",
       "      <td>Scholastic</td>\n",
       "    </tr>\n",
       "    <tr>\n",
       "      <th>1</th>\n",
       "      <td>Unauthorized Harry Potter Book Seven News: \"Ha...</td>\n",
       "      <td>W. Frederick Zimmerman</td>\n",
       "      <td>3.74</td>\n",
       "      <td>other</td>\n",
       "      <td>152.0</td>\n",
       "      <td>19</td>\n",
       "      <td>1</td>\n",
       "      <td>4/26/2005</td>\n",
       "      <td>Nimble Books</td>\n",
       "      <td>-</td>\n",
       "      <td>0</td>\n",
       "      <td>4</td>\n",
       "      <td>26</td>\n",
       "      <td>2005</td>\n",
       "      <td>21</td>\n",
       "      <td>1</td>\n",
       "      <td>от 100 до 500 стр.</td>\n",
       "      <td>3.74</td>\n",
       "      <td>152.0</td>\n",
       "      <td>Nimble Books</td>\n",
       "    </tr>\n",
       "    <tr>\n",
       "      <th>2</th>\n",
       "      <td>The Hitchhiker's Guide to the Galaxy</td>\n",
       "      <td>Douglas Adams</td>\n",
       "      <td>4.22</td>\n",
       "      <td>eng</td>\n",
       "      <td>215.0</td>\n",
       "      <td>4930</td>\n",
       "      <td>460</td>\n",
       "      <td>8/3/2004</td>\n",
       "      <td>Crown</td>\n",
       "      <td>Hitchhiker's Guide to the Galaxy</td>\n",
       "      <td>1</td>\n",
       "      <td>8</td>\n",
       "      <td>3</td>\n",
       "      <td>2004</td>\n",
       "      <td>21</td>\n",
       "      <td>1</td>\n",
       "      <td>от 100 до 500 стр.</td>\n",
       "      <td>4.22</td>\n",
       "      <td>215.0</td>\n",
       "      <td>Crown</td>\n",
       "    </tr>\n",
       "    <tr>\n",
       "      <th>3</th>\n",
       "      <td>Bill Bryson's African Diar</td>\n",
       "      <td>Bill Bryson</td>\n",
       "      <td>3.44</td>\n",
       "      <td>eng</td>\n",
       "      <td>55.0</td>\n",
       "      <td>7270</td>\n",
       "      <td>499</td>\n",
       "      <td>12/3/2002</td>\n",
       "      <td>Broadway Books</td>\n",
       "      <td>-</td>\n",
       "      <td>0</td>\n",
       "      <td>12</td>\n",
       "      <td>3</td>\n",
       "      <td>2002</td>\n",
       "      <td>21</td>\n",
       "      <td>1</td>\n",
       "      <td>до 100 стр.</td>\n",
       "      <td>3.44</td>\n",
       "      <td>55.0</td>\n",
       "      <td>Broadway Books</td>\n",
       "    </tr>\n",
       "    <tr>\n",
       "      <th>4</th>\n",
       "      <td>Bryson's Dictionary of Troublesome Words: A Wr...</td>\n",
       "      <td>Bill Bryson</td>\n",
       "      <td>3.87</td>\n",
       "      <td>eng</td>\n",
       "      <td>256.0</td>\n",
       "      <td>2088</td>\n",
       "      <td>131</td>\n",
       "      <td>9/14/2004</td>\n",
       "      <td>Broadway Books</td>\n",
       "      <td>-</td>\n",
       "      <td>0</td>\n",
       "      <td>9</td>\n",
       "      <td>14</td>\n",
       "      <td>2004</td>\n",
       "      <td>21</td>\n",
       "      <td>1</td>\n",
       "      <td>от 100 до 500 стр.</td>\n",
       "      <td>3.87</td>\n",
       "      <td>256.0</td>\n",
       "      <td>Broadway Books</td>\n",
       "    </tr>\n",
       "  </tbody>\n",
       "</table>\n",
       "</div>"
      ],
      "text/plain": [
       "                                               title                 authors  \\\n",
       "0            Harry Potter and the Chamber of Secrets            J.K. Rowling   \n",
       "1  Unauthorized Harry Potter Book Seven News: \"Ha...  W. Frederick Zimmerman   \n",
       "2               The Hitchhiker's Guide to the Galaxy           Douglas Adams   \n",
       "3                         Bill Bryson's African Diar             Bill Bryson   \n",
       "4  Bryson's Dictionary of Troublesome Words: A Wr...             Bill Bryson   \n",
       "\n",
       "   average_rating language_code  num_pages  ratings_count  text_reviews_count  \\\n",
       "0            4.42           eng      352.0           6333                 244   \n",
       "1            3.74         other      152.0             19                   1   \n",
       "2            4.22           eng      215.0           4930                 460   \n",
       "3            3.44           eng       55.0           7270                 499   \n",
       "4            3.87           eng      256.0           2088                 131   \n",
       "\n",
       "  publication_date       publisher                         title_ser  \\\n",
       "0        11/1/2003      Scholastic                      Harry Potter   \n",
       "1        4/26/2005    Nimble Books                                 -   \n",
       "2         8/3/2004           Crown  Hitchhiker's Guide to the Galaxy   \n",
       "3        12/3/2002  Broadway Books                                 -   \n",
       "4        9/14/2004  Broadway Books                                 -   \n",
       "\n",
       "   num_in_ser  month  day  year  century  num_coauthors      pages_category  \\\n",
       "0           2     11    1  2003       21              1  от 100 до 500 стр.   \n",
       "1           0      4   26  2005       21              1  от 100 до 500 стр.   \n",
       "2           1      8    3  2004       21              1  от 100 до 500 стр.   \n",
       "3           0     12    3  2002       21              1         до 100 стр.   \n",
       "4           0      9   14  2004       21              1  от 100 до 500 стр.   \n",
       "\n",
       "   ar_fillna  np_fillna publisher_fillna  \n",
       "0       4.42      352.0       Scholastic  \n",
       "1       3.74      152.0     Nimble Books  \n",
       "2       4.22      215.0            Crown  \n",
       "3       3.44       55.0   Broadway Books  \n",
       "4       3.87      256.0   Broadway Books  "
      ]
     },
     "execution_count": 3,
     "metadata": {},
     "output_type": "execute_result"
    }
   ],
   "source": [
    "df_clean = pd.read_csv(\"C:\\скил\\DST-156\\IDE_NEW\\Домашнее задание. Этап 1/books_v2.csv\")\n",
    "df_clean.head()"
   ]
  },
  {
   "cell_type": "markdown",
   "metadata": {},
   "source": [
    "Датасэт содержит данные о книгах с сайта Goodreaders. Описание колонок:\n",
    "\n",
    "title - название книги\n",
    "\n",
    "authors - автор книги\n",
    "\n",
    "average_rating - рейтинг книги по данным сайта Goodreaders\n",
    "\n",
    "language_code - язык книги (eng, other)\n",
    "\n",
    "num_pages - количество страниц\n",
    "\n",
    "ratings_count - количество пользователей поставивших оценку книге\n",
    "\n",
    "text_reviews_count - количество пользовательских рецензий на книгу\n",
    "\n",
    "publication_date - дата публикации (м/д/г)\n",
    "\n",
    "publisher - издатель\n",
    "\n",
    "title_ser - название серии (если книга не входит в серию, то -)\n",
    "\n",
    "num_in_ser - номер книги в серии (если книга не входит в серию, то 0)\n",
    "\n",
    "month - месяц публикации книги\n",
    "\n",
    "day - день публикации книги\n",
    "\n",
    "year - год публикации книги\n",
    "\n",
    "century - век публикации книги\n",
    "\n",
    "num_coauthors - количество соавторов книги\n",
    "\n",
    "pages_category - категория книги по количеству страниц (до 100 стр.;от 100 до 500 стр.;от 500 до 1000 стр.;от 1000 стр.)\n",
    "\n",
    "ar_fillna - признак с average_rating с замененными NaN\n",
    "\n",
    "np_fillna - признак с num_pages с замененными NaN\n",
    "\n",
    "publisher_fillna - признак с publisher с замененными NaN"
   ]
  },
  {
   "cell_type": "code",
   "execution_count": 4,
   "metadata": {},
   "outputs": [
    {
     "name": "stdout",
     "output_type": "stream",
     "text": [
      "<class 'pandas.core.frame.DataFrame'>\n",
      "RangeIndex: 8710 entries, 0 to 8709\n",
      "Data columns (total 20 columns):\n",
      " #   Column              Non-Null Count  Dtype  \n",
      "---  ------              --------------  -----  \n",
      " 0   title               8710 non-null   object \n",
      " 1   authors             8710 non-null   object \n",
      " 2   average_rating      7373 non-null   float64\n",
      " 3   language_code       8710 non-null   object \n",
      " 4   num_pages           7156 non-null   float64\n",
      " 5   ratings_count       8710 non-null   int64  \n",
      " 6   text_reviews_count  8710 non-null   int64  \n",
      " 7   publication_date    8710 non-null   object \n",
      " 8   publisher           8220 non-null   object \n",
      " 9   title_ser           8710 non-null   object \n",
      " 10  num_in_ser          8710 non-null   int64  \n",
      " 11  month               8710 non-null   int64  \n",
      " 12  day                 8710 non-null   int64  \n",
      " 13  year                8710 non-null   int64  \n",
      " 14  century             8710 non-null   int64  \n",
      " 15  num_coauthors       8710 non-null   int64  \n",
      " 16  pages_category      7156 non-null   object \n",
      " 17  ar_fillna           8710 non-null   float64\n",
      " 18  np_fillna           8710 non-null   float64\n",
      " 19  publisher_fillna    8710 non-null   object \n",
      "dtypes: float64(4), int64(8), object(8)\n",
      "memory usage: 1.3+ MB\n"
     ]
    }
   ],
   "source": [
    "df_clean.info()"
   ]
  },
  {
   "attachments": {
    "image.png": {
     "image/png": "[encoded data removed]"
    }
   },
   "cell_type": "markdown",
   "metadata": {},
   "source": [
    "Вопрос 1\n",
    "\n",
    "Оцените линейную регрессию, уравнение которой имеет следующий вид:\n",
    "\n",
    "ratings_counti=wo^+w1^⋅num_in_seri\n",
    "\n",
    "\n",
    "где нижние индексы обозначают значения соответствующих переменных для наблюдения i\n",
    "\n",
    "В ответ выпишите оценку коэффициента w0^\n",
    "\n",
    ". Ответ округлите до сотых.\n",
    "\n",
    "![image.png](attachment:image.png)"
   ]
  },
  {
   "cell_type": "code",
   "execution_count": 5,
   "metadata": {},
   "outputs": [],
   "source": [
    "import statsmodels.api as sm\n",
    "\n",
    "X = sm.add_constant(df_clean[['num_in_ser']])  # предиктор/независимая переменная\n",
    "Y = df_clean['ratings_count']                                       # целевая переменная/зависимая переменная\n",
    "model = sm.OLS(Y, X).fit()        "
   ]
  },
  {
   "cell_type": "code",
   "execution_count": 6,
   "metadata": {},
   "outputs": [
    {
     "data": {
      "text/plain": [
       "const         6263.69\n",
       "num_in_ser     153.54\n",
       "dtype: float64"
      ]
     },
     "execution_count": 6,
     "metadata": {},
     "output_type": "execute_result"
    }
   ],
   "source": [
    "round(model.params,2)"
   ]
  },
  {
   "attachments": {
    "image.png": {
     "image/png": "[encoded data removed]"
    }
   },
   "cell_type": "markdown",
   "metadata": {},
   "source": [
    "Вопрос 2\n",
    "\n",
    "![image.png](attachment:image.png)\n"
   ]
  },
  {
   "cell_type": "code",
   "execution_count": 7,
   "metadata": {},
   "outputs": [],
   "source": [
    "X_2 = sm.add_constant(df_clean[['np_fillna']])  # предиктор/независимая переменная\n",
    "Y_2 = df_clean['ratings_count']                                       # целевая переменная/зависимая переменная\n",
    "model_2 = sm.OLS(Y_2, X_2).fit()  "
   ]
  },
  {
   "cell_type": "code",
   "execution_count": 8,
   "metadata": {},
   "outputs": [
    {
     "data": {
      "text/plain": [
       "const        2736.19\n",
       "np_fillna      12.88\n",
       "dtype: float64"
      ]
     },
     "execution_count": 8,
     "metadata": {},
     "output_type": "execute_result"
    }
   ],
   "source": [
    "round(model_2.params,2)"
   ]
  },
  {
   "cell_type": "code",
   "execution_count": 9,
   "metadata": {},
   "outputs": [
    {
     "data": {
      "text/plain": [
       "0.01"
      ]
     },
     "execution_count": 9,
     "metadata": {},
     "output_type": "execute_result"
    }
   ],
   "source": [
    "round(model_2.rsquared,2) # R2"
   ]
  },
  {
   "cell_type": "code",
   "execution_count": 10,
   "metadata": {},
   "outputs": [
    {
     "data": {
      "text/plain": [
       "266584749.11"
      ]
     },
     "execution_count": 10,
     "metadata": {},
     "output_type": "execute_result"
    }
   ],
   "source": [
    "Y_pr_2 = model_2.predict(X_2)\n",
    "MSE_2 = sum((Y_2-Y_pr_2)**2)/len(Y_2)\n",
    "round(MSE_2,2)"
   ]
  },
  {
   "cell_type": "code",
   "execution_count": 11,
   "metadata": {},
   "outputs": [
    {
     "data": {
      "text/plain": [
       "8426.65"
      ]
     },
     "execution_count": 11,
     "metadata": {},
     "output_type": "execute_result"
    }
   ],
   "source": [
    "Y_pr_2 = model_2.predict(X_2)\n",
    "MAE_2 = sum(abs(Y_2-Y_pr_2))/len(Y_2)\n",
    "round(MAE_2,2)"
   ]
  },
  {
   "cell_type": "markdown",
   "metadata": {},
   "source": [
    "Самостоятельная работа IV"
   ]
  },
  {
   "cell_type": "code",
   "execution_count": 12,
   "metadata": {},
   "outputs": [
    {
     "data": {
      "text/html": [
       "<div>\n",
       "<style scoped>\n",
       "    .dataframe tbody tr th:only-of-type {\n",
       "        vertical-align: middle;\n",
       "    }\n",
       "\n",
       "    .dataframe tbody tr th {\n",
       "        vertical-align: top;\n",
       "    }\n",
       "\n",
       "    .dataframe thead th {\n",
       "        text-align: right;\n",
       "    }\n",
       "</style>\n",
       "<table border=\"1\" class=\"dataframe\">\n",
       "  <thead>\n",
       "    <tr style=\"text-align: right;\">\n",
       "      <th></th>\n",
       "      <th>Device Model</th>\n",
       "      <th>Operating System</th>\n",
       "      <th>App Usage Time (min/day)</th>\n",
       "      <th>Screen On Time (hours/day)</th>\n",
       "      <th>Battery Drain (mAh/day)</th>\n",
       "      <th>Number of Apps Installed</th>\n",
       "      <th>Data Usage (MB/day)</th>\n",
       "      <th>Age</th>\n",
       "      <th>Gender</th>\n",
       "      <th>User Behavior Class</th>\n",
       "    </tr>\n",
       "  </thead>\n",
       "  <tbody>\n",
       "    <tr>\n",
       "      <th>0</th>\n",
       "      <td>Google Pixel 5</td>\n",
       "      <td>1</td>\n",
       "      <td>393</td>\n",
       "      <td>6.4</td>\n",
       "      <td>1872</td>\n",
       "      <td>67</td>\n",
       "      <td>1122</td>\n",
       "      <td>40</td>\n",
       "      <td>0</td>\n",
       "      <td>4</td>\n",
       "    </tr>\n",
       "    <tr>\n",
       "      <th>1</th>\n",
       "      <td>OnePlus 9</td>\n",
       "      <td>1</td>\n",
       "      <td>268</td>\n",
       "      <td>4.7</td>\n",
       "      <td>1331</td>\n",
       "      <td>42</td>\n",
       "      <td>944</td>\n",
       "      <td>47</td>\n",
       "      <td>1</td>\n",
       "      <td>3</td>\n",
       "    </tr>\n",
       "    <tr>\n",
       "      <th>2</th>\n",
       "      <td>Xiaomi Mi 11</td>\n",
       "      <td>1</td>\n",
       "      <td>154</td>\n",
       "      <td>4.0</td>\n",
       "      <td>761</td>\n",
       "      <td>32</td>\n",
       "      <td>322</td>\n",
       "      <td>42</td>\n",
       "      <td>0</td>\n",
       "      <td>2</td>\n",
       "    </tr>\n",
       "    <tr>\n",
       "      <th>3</th>\n",
       "      <td>Google Pixel 5</td>\n",
       "      <td>1</td>\n",
       "      <td>239</td>\n",
       "      <td>4.8</td>\n",
       "      <td>1676</td>\n",
       "      <td>56</td>\n",
       "      <td>871</td>\n",
       "      <td>20</td>\n",
       "      <td>0</td>\n",
       "      <td>3</td>\n",
       "    </tr>\n",
       "    <tr>\n",
       "      <th>4</th>\n",
       "      <td>iPhone 12</td>\n",
       "      <td>0</td>\n",
       "      <td>187</td>\n",
       "      <td>4.3</td>\n",
       "      <td>1367</td>\n",
       "      <td>58</td>\n",
       "      <td>988</td>\n",
       "      <td>31</td>\n",
       "      <td>1</td>\n",
       "      <td>3</td>\n",
       "    </tr>\n",
       "  </tbody>\n",
       "</table>\n",
       "</div>"
      ],
      "text/plain": [
       "     Device Model  Operating System  App Usage Time (min/day)  \\\n",
       "0  Google Pixel 5                 1                       393   \n",
       "1       OnePlus 9                 1                       268   \n",
       "2    Xiaomi Mi 11                 1                       154   \n",
       "3  Google Pixel 5                 1                       239   \n",
       "4       iPhone 12                 0                       187   \n",
       "\n",
       "   Screen On Time (hours/day)  Battery Drain (mAh/day)  \\\n",
       "0                         6.4                     1872   \n",
       "1                         4.7                     1331   \n",
       "2                         4.0                      761   \n",
       "3                         4.8                     1676   \n",
       "4                         4.3                     1367   \n",
       "\n",
       "   Number of Apps Installed  Data Usage (MB/day)  Age  Gender  \\\n",
       "0                        67                 1122   40       0   \n",
       "1                        42                  944   47       1   \n",
       "2                        32                  322   42       0   \n",
       "3                        56                  871   20       0   \n",
       "4                        58                  988   31       1   \n",
       "\n",
       "   User Behavior Class  \n",
       "0                    4  \n",
       "1                    3  \n",
       "2                    2  \n",
       "3                    3  \n",
       "4                    3  "
      ]
     },
     "execution_count": 12,
     "metadata": {},
     "output_type": "execute_result"
    }
   ],
   "source": [
    "df_clean_11111 = pd.read_csv(\"C:\\скил\\DST-156\\IDE_NEW\\Домашнее задание. Этап 1/t5.csv\")\n",
    "df_clean_11111.head()"
   ]
  },
  {
   "cell_type": "markdown",
   "metadata": {},
   "source": [
    "Постройте модель линейной регрессии, которая показывает как количество приложений на телефоне (Number of Apps Installed) оказывает влияние на время проводимое в мобильных приложениях (App Usage Time (min/day)). Укажите в качестве ответов значение свободного коэффициента (С7) и коэффициент детерминации (R2) полученной регрессии (С8). \n",
    "\n",
    "Ответ округлите до двух знаков. Разделитель точка."
   ]
  },
  {
   "cell_type": "code",
   "execution_count": 13,
   "metadata": {},
   "outputs": [],
   "source": [
    "X_2_11 = sm.add_constant(df_clean_11111[['Number of Apps Installed']])  # предиктор/независимая переменная\n",
    "Y_2_11 = df_clean_11111['App Usage Time (min/day)']                                       # целевая переменная/зависимая переменная\n",
    "model_11 = sm.OLS(Y_2_11, X_2_11).fit()  "
   ]
  },
  {
   "cell_type": "code",
   "execution_count": 14,
   "metadata": {},
   "outputs": [
    {
     "data": {
      "text/plain": [
       "const                      -47.28\n",
       "Number of Apps Installed     6.28\n",
       "dtype: float64"
      ]
     },
     "execution_count": 14,
     "metadata": {},
     "output_type": "execute_result"
    }
   ],
   "source": [
    "round(model_11.params,2)"
   ]
  },
  {
   "cell_type": "code",
   "execution_count": 15,
   "metadata": {},
   "outputs": [
    {
     "data": {
      "text/plain": [
       "0.91"
      ]
     },
     "execution_count": 15,
     "metadata": {},
     "output_type": "execute_result"
    }
   ],
   "source": [
    "round(model_11.rsquared,2) # R2"
   ]
  }
 ],
 "metadata": {
  "kernelspec": {
   "display_name": "Python 3",
   "language": "python",
   "name": "python3"
  },
  "language_info": {
   "codemirror_mode": {
    "name": "ipython",
    "version": 3
   },
   "file_extension": ".py",
   "mimetype": "text/x-python",
   "name": "python",
   "nbconvert_exporter": "python",
   "pygments_lexer": "ipython3",
   "version": "3.11.9"
  }
 },
 "nbformat": 4,
 "nbformat_minor": 2
}
