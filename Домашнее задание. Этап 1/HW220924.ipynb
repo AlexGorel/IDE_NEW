{
 "cells": [
  {
   "cell_type": "code",
   "execution_count": 331,
   "metadata": {},
   "outputs": [
    {
     "data": {
      "text/html": [
       "<div>\n",
       "<style scoped>\n",
       "    .dataframe tbody tr th:only-of-type {\n",
       "        vertical-align: middle;\n",
       "    }\n",
       "\n",
       "    .dataframe tbody tr th {\n",
       "        vertical-align: top;\n",
       "    }\n",
       "\n",
       "    .dataframe thead th {\n",
       "        text-align: right;\n",
       "    }\n",
       "</style>\n",
       "<table border=\"1\" class=\"dataframe\">\n",
       "  <thead>\n",
       "    <tr style=\"text-align: right;\">\n",
       "      <th></th>\n",
       "      <th>title</th>\n",
       "      <th>authors</th>\n",
       "      <th>average_rating</th>\n",
       "      <th>language_code</th>\n",
       "      <th>num_pages</th>\n",
       "      <th>ratings_count</th>\n",
       "      <th>text_reviews_count</th>\n",
       "      <th>publication_date</th>\n",
       "      <th>publisher</th>\n",
       "      <th>title_ser</th>\n",
       "      <th>num_in_ser</th>\n",
       "    </tr>\n",
       "  </thead>\n",
       "  <tbody>\n",
       "    <tr>\n",
       "      <th>0</th>\n",
       "      <td>Harry Potter and the Half-Blood Prince</td>\n",
       "      <td>J.K. Rowling/Mary GrandPré</td>\n",
       "      <td>4.57</td>\n",
       "      <td>eng</td>\n",
       "      <td>652.0</td>\n",
       "      <td>2095690</td>\n",
       "      <td>27591</td>\n",
       "      <td>9/16/2006</td>\n",
       "      <td>Scholastic Inc.</td>\n",
       "      <td>Harry Potter</td>\n",
       "      <td>6</td>\n",
       "    </tr>\n",
       "    <tr>\n",
       "      <th>1</th>\n",
       "      <td>Harry Potter and the Order of the Phoenix</td>\n",
       "      <td>J.K. Rowling/Mary GrandPré</td>\n",
       "      <td>4.49</td>\n",
       "      <td>eng</td>\n",
       "      <td>870.0</td>\n",
       "      <td>2153167</td>\n",
       "      <td>29221</td>\n",
       "      <td>9/1/2004</td>\n",
       "      <td>Scholastic Inc.</td>\n",
       "      <td>Harry Potter</td>\n",
       "      <td>5</td>\n",
       "    </tr>\n",
       "    <tr>\n",
       "      <th>2</th>\n",
       "      <td>Harry Potter and the Chamber of Secrets</td>\n",
       "      <td>J.K. Rowling</td>\n",
       "      <td>4.42</td>\n",
       "      <td>eng</td>\n",
       "      <td>352.0</td>\n",
       "      <td>6333</td>\n",
       "      <td>244</td>\n",
       "      <td>11/1/2003</td>\n",
       "      <td>Scholastic</td>\n",
       "      <td>Harry Potter</td>\n",
       "      <td>2</td>\n",
       "    </tr>\n",
       "    <tr>\n",
       "      <th>3</th>\n",
       "      <td>Harry Potter and the Prisoner of Azkaban</td>\n",
       "      <td>J.K. Rowling/Mary GrandPré</td>\n",
       "      <td>4.56</td>\n",
       "      <td>eng</td>\n",
       "      <td>435.0</td>\n",
       "      <td>2339585</td>\n",
       "      <td>36325</td>\n",
       "      <td>5/1/2004</td>\n",
       "      <td>Scholastic Inc.</td>\n",
       "      <td>Harry Potter</td>\n",
       "      <td>3</td>\n",
       "    </tr>\n",
       "    <tr>\n",
       "      <th>4</th>\n",
       "      <td>Unauthorized Harry Potter Book Seven News: \"Ha...</td>\n",
       "      <td>W. Frederick Zimmerman</td>\n",
       "      <td>3.74</td>\n",
       "      <td>other</td>\n",
       "      <td>152.0</td>\n",
       "      <td>19</td>\n",
       "      <td>1</td>\n",
       "      <td>4/26/2005</td>\n",
       "      <td>Nimble Books</td>\n",
       "      <td>-</td>\n",
       "      <td>0</td>\n",
       "    </tr>\n",
       "    <tr>\n",
       "      <th>...</th>\n",
       "      <td>...</td>\n",
       "      <td>...</td>\n",
       "      <td>...</td>\n",
       "      <td>...</td>\n",
       "      <td>...</td>\n",
       "      <td>...</td>\n",
       "      <td>...</td>\n",
       "      <td>...</td>\n",
       "      <td>...</td>\n",
       "      <td>...</td>\n",
       "      <td>...</td>\n",
       "    </tr>\n",
       "    <tr>\n",
       "      <th>241</th>\n",
       "      <td>Le Réseau Kinakuta</td>\n",
       "      <td>Neal Stephenson</td>\n",
       "      <td>4.10</td>\n",
       "      <td>other</td>\n",
       "      <td>418.0</td>\n",
       "      <td>5</td>\n",
       "      <td>0</td>\n",
       "      <td>3/31/2001</td>\n",
       "      <td>Payot</td>\n",
       "      <td>Cryptonomicon</td>\n",
       "      <td>2</td>\n",
       "    </tr>\n",
       "    <tr>\n",
       "      <th>242</th>\n",
       "      <td>The Confusion</td>\n",
       "      <td>Neal Stephenson</td>\n",
       "      <td>4.26</td>\n",
       "      <td>other</td>\n",
       "      <td>815.0</td>\n",
       "      <td>19320</td>\n",
       "      <td>565</td>\n",
       "      <td>6/14/2005</td>\n",
       "      <td>William Morrow Paperbacks</td>\n",
       "      <td>The Baroque Cycle</td>\n",
       "      <td>2</td>\n",
       "    </tr>\n",
       "    <tr>\n",
       "      <th>243</th>\n",
       "      <td>Quicksilver</td>\n",
       "      <td>Neal Stephenson</td>\n",
       "      <td>3.93</td>\n",
       "      <td>eng</td>\n",
       "      <td>NaN</td>\n",
       "      <td>30872</td>\n",
       "      <td>1735</td>\n",
       "      <td>9/21/2004</td>\n",
       "      <td>HarperCollins Perennial</td>\n",
       "      <td>The Baroque Cycle</td>\n",
       "      <td>1</td>\n",
       "    </tr>\n",
       "    <tr>\n",
       "      <th>244</th>\n",
       "      <td>The Cobwe</td>\n",
       "      <td>Neal Stephenson/J. Frederick George</td>\n",
       "      <td>3.61</td>\n",
       "      <td>eng</td>\n",
       "      <td>448.0</td>\n",
       "      <td>2465</td>\n",
       "      <td>137</td>\n",
       "      <td>5/31/2005</td>\n",
       "      <td>Spectra Books</td>\n",
       "      <td>-</td>\n",
       "      <td>0</td>\n",
       "    </tr>\n",
       "    <tr>\n",
       "      <th>245</th>\n",
       "      <td>The Big</td>\n",
       "      <td>Neal Stephenson</td>\n",
       "      <td>3.25</td>\n",
       "      <td>other</td>\n",
       "      <td>308.0</td>\n",
       "      <td>4657</td>\n",
       "      <td>223</td>\n",
       "      <td>2/6/2001</td>\n",
       "      <td>William Morrow Paperbacks</td>\n",
       "      <td>-</td>\n",
       "      <td>0</td>\n",
       "    </tr>\n",
       "  </tbody>\n",
       "</table>\n",
       "<p>246 rows × 11 columns</p>\n",
       "</div>"
      ],
      "text/plain": [
       "                                                 title  \\\n",
       "0               Harry Potter and the Half-Blood Prince   \n",
       "1            Harry Potter and the Order of the Phoenix   \n",
       "2              Harry Potter and the Chamber of Secrets   \n",
       "3             Harry Potter and the Prisoner of Azkaban   \n",
       "4    Unauthorized Harry Potter Book Seven News: \"Ha...   \n",
       "..                                                 ...   \n",
       "241                                 Le Réseau Kinakuta   \n",
       "242                                      The Confusion   \n",
       "243                                        Quicksilver   \n",
       "244                                          The Cobwe   \n",
       "245                                            The Big   \n",
       "\n",
       "                                 authors  average_rating language_code  \\\n",
       "0             J.K. Rowling/Mary GrandPré            4.57           eng   \n",
       "1             J.K. Rowling/Mary GrandPré            4.49           eng   \n",
       "2                           J.K. Rowling            4.42           eng   \n",
       "3             J.K. Rowling/Mary GrandPré            4.56           eng   \n",
       "4                 W. Frederick Zimmerman            3.74         other   \n",
       "..                                   ...             ...           ...   \n",
       "241                      Neal Stephenson            4.10         other   \n",
       "242                      Neal Stephenson            4.26         other   \n",
       "243                      Neal Stephenson            3.93           eng   \n",
       "244  Neal Stephenson/J. Frederick George            3.61           eng   \n",
       "245                      Neal Stephenson            3.25         other   \n",
       "\n",
       "     num_pages  ratings_count  text_reviews_count publication_date  \\\n",
       "0        652.0        2095690               27591        9/16/2006   \n",
       "1        870.0        2153167               29221         9/1/2004   \n",
       "2        352.0           6333                 244        11/1/2003   \n",
       "3        435.0        2339585               36325         5/1/2004   \n",
       "4        152.0             19                   1        4/26/2005   \n",
       "..         ...            ...                 ...              ...   \n",
       "241      418.0              5                   0        3/31/2001   \n",
       "242      815.0          19320                 565        6/14/2005   \n",
       "243        NaN          30872                1735        9/21/2004   \n",
       "244      448.0           2465                 137        5/31/2005   \n",
       "245      308.0           4657                 223         2/6/2001   \n",
       "\n",
       "                     publisher          title_ser  num_in_ser  \n",
       "0              Scholastic Inc.       Harry Potter           6  \n",
       "1              Scholastic Inc.       Harry Potter           5  \n",
       "2                   Scholastic       Harry Potter           2  \n",
       "3              Scholastic Inc.       Harry Potter           3  \n",
       "4                 Nimble Books                  -           0  \n",
       "..                         ...                ...         ...  \n",
       "241                      Payot      Cryptonomicon           2  \n",
       "242  William Morrow Paperbacks  The Baroque Cycle           2  \n",
       "243    HarperCollins Perennial  The Baroque Cycle           1  \n",
       "244              Spectra Books                  -           0  \n",
       "245  William Morrow Paperbacks                  -           0  \n",
       "\n",
       "[246 rows x 11 columns]"
      ]
     },
     "execution_count": 331,
     "metadata": {},
     "output_type": "execute_result"
    }
   ],
   "source": [
    "import pandas as pd\n",
    "import numpy as np\n",
    "df = pd.read_csv(\"C:\\скил\\DST-156\\IDE_NEW\\Домашнее задание. Этап 1/books.csv\", index_col = \"Unnamed: 0\")\n",
    "df.head(246)"
   ]
  },
  {
   "cell_type": "code",
   "execution_count": 332,
   "metadata": {},
   "outputs": [
    {
     "name": "stdout",
     "output_type": "stream",
     "text": [
      "<class 'pandas.core.frame.DataFrame'>\n",
      "Index: 10063 entries, 0 to 10062\n",
      "Data columns (total 11 columns):\n",
      " #   Column              Non-Null Count  Dtype  \n",
      "---  ------              --------------  -----  \n",
      " 0   title               10063 non-null  object \n",
      " 1   authors             10063 non-null  object \n",
      " 2   average_rating      8591 non-null   float64\n",
      " 3   language_code       10063 non-null  object \n",
      " 4   num_pages           8379 non-null   float64\n",
      " 5   ratings_count       10063 non-null  int64  \n",
      " 6   text_reviews_count  10063 non-null  int64  \n",
      " 7   publication_date    10063 non-null  object \n",
      " 8   publisher           9508 non-null   object \n",
      " 9   title_ser           10063 non-null  object \n",
      " 10  num_in_ser          10063 non-null  int64  \n",
      "dtypes: float64(2), int64(3), object(6)\n",
      "memory usage: 943.4+ KB\n"
     ]
    }
   ],
   "source": [
    "df.info()"
   ]
  },
  {
   "cell_type": "code",
   "execution_count": 333,
   "metadata": {},
   "outputs": [
    {
     "data": {
      "text/plain": [
       "10063"
      ]
     },
     "execution_count": 333,
     "metadata": {},
     "output_type": "execute_result"
    }
   ],
   "source": [
    "df['title'].nunique()"
   ]
  },
  {
   "cell_type": "code",
   "execution_count": 334,
   "metadata": {},
   "outputs": [
    {
     "data": {
      "text/plain": [
       "8069"
      ]
     },
     "execution_count": 334,
     "metadata": {},
     "output_type": "execute_result"
    }
   ],
   "source": [
    "df_5=df[(df['language_code'] == 'eng')].shape[0]\n",
    "df_5"
   ]
  },
  {
   "cell_type": "code",
   "execution_count": 295,
   "metadata": {},
   "outputs": [
    {
     "data": {
      "text/plain": [
       "6330"
      ]
     },
     "execution_count": 295,
     "metadata": {},
     "output_type": "execute_result"
    }
   ],
   "source": [
    "mask_1=df[(df['language_code'] == 'eng') & (df['title_ser'] == '-')].shape[0]\n",
    "mask_1"
   ]
  },
  {
   "cell_type": "code",
   "execution_count": 296,
   "metadata": {},
   "outputs": [
    {
     "data": {
      "text/plain": [
       "10063"
      ]
     },
     "execution_count": 296,
     "metadata": {},
     "output_type": "execute_result"
    }
   ],
   "source": [
    "df['title'].nunique()"
   ]
  },
  {
   "cell_type": "code",
   "execution_count": 297,
   "metadata": {},
   "outputs": [
    {
     "data": {
      "text/plain": [
       "62.90371"
      ]
     },
     "execution_count": 297,
     "metadata": {},
     "output_type": "execute_result"
    }
   ],
   "source": [
    "round((mask_1/df['title'].nunique()*100),5)\n"
   ]
  },
  {
   "cell_type": "code",
   "execution_count": 298,
   "metadata": {},
   "outputs": [
    {
     "data": {
      "text/plain": [
       "62.9"
      ]
     },
     "execution_count": 298,
     "metadata": {},
     "output_type": "execute_result"
    }
   ],
   "source": [
    "round((df[   (df['language_code'] == 'eng') & (df['title_ser'] == '-')].shape[0])*100/(df['title'].nunique()),2)"
   ]
  },
  {
   "cell_type": "code",
   "execution_count": 299,
   "metadata": {},
   "outputs": [
    {
     "data": {
      "text/plain": [
       "0.1921892079896651"
      ]
     },
     "execution_count": 299,
     "metadata": {},
     "output_type": "execute_result"
    }
   ],
   "source": [
    "df[   (df['publisher'] == 'Penguin Classics') | (df['ratings_count'] >= 10000)].shape[0]/df['title'].nunique()"
   ]
  },
  {
   "cell_type": "code",
   "execution_count": 300,
   "metadata": {},
   "outputs": [
    {
     "data": {
      "text/plain": [
       "6335"
      ]
     },
     "execution_count": 300,
     "metadata": {},
     "output_type": "execute_result"
    }
   ],
   "source": [
    "df[   (df['language_code'] == 'eng') & (df['num_in_ser'] == 0)].shape[0]"
   ]
  },
  {
   "cell_type": "code",
   "execution_count": 301,
   "metadata": {},
   "outputs": [
    {
     "name": "stderr",
     "output_type": "stream",
     "text": [
      "C:\\Users\\molde\\AppData\\Local\\Temp\\ipykernel_26480\\3234866500.py:2: UserWarning: Boolean Series key will be reindexed to match DataFrame index.\n",
      "  df_3[  (df['title_ser'] == '-')].shape[0]\n"
     ]
    },
    {
     "data": {
      "text/plain": [
       "6330"
      ]
     },
     "execution_count": 301,
     "metadata": {},
     "output_type": "execute_result"
    }
   ],
   "source": [
    "df_3=df[df['language_code'] == 'eng']\n",
    "df_3[  (df['title_ser'] == '-')].shape[0]"
   ]
  },
  {
   "cell_type": "code",
   "execution_count": 302,
   "metadata": {},
   "outputs": [
    {
     "name": "stderr",
     "output_type": "stream",
     "text": [
      "C:\\Users\\molde\\AppData\\Local\\Temp\\ipykernel_26480\\679130471.py:1: UserWarning: Boolean Series key will be reindexed to match DataFrame index.\n",
      "  df_3[(df['num_in_ser'] == 0)].nunique()\n"
     ]
    },
    {
     "data": {
      "text/plain": [
       "title                 6335\n",
       "authors               4526\n",
       "average_rating         197\n",
       "language_code            1\n",
       "num_pages              810\n",
       "ratings_count         3463\n",
       "text_reviews_count    1340\n",
       "publication_date      2816\n",
       "publisher             1541\n",
       "title_ser                7\n",
       "num_in_ser               1\n",
       "dtype: int64"
      ]
     },
     "execution_count": 302,
     "metadata": {},
     "output_type": "execute_result"
    }
   ],
   "source": [
    "df_3[(df['num_in_ser'] == 0)].nunique()"
   ]
  },
  {
   "cell_type": "code",
   "execution_count": 303,
   "metadata": {},
   "outputs": [
    {
     "data": {
      "text/plain": [
       "6330"
      ]
     },
     "execution_count": 303,
     "metadata": {},
     "output_type": "execute_result"
    }
   ],
   "source": [
    "df[(df['language_code'] == 'eng') & (df['title_ser'] == '-')].shape[0]"
   ]
  },
  {
   "cell_type": "code",
   "execution_count": 304,
   "metadata": {},
   "outputs": [
    {
     "data": {
      "text/plain": [
       "10063"
      ]
     },
     "execution_count": 304,
     "metadata": {},
     "output_type": "execute_result"
    }
   ],
   "source": [
    "(df['title'].nunique())"
   ]
  },
  {
   "cell_type": "code",
   "execution_count": 305,
   "metadata": {},
   "outputs": [
    {
     "data": {
      "text/plain": [
       "62.9"
      ]
     },
     "execution_count": 305,
     "metadata": {},
     "output_type": "execute_result"
    }
   ],
   "source": [
    "round((df[   (df['language_code'] == 'eng') & (df['title_ser'] == '-')].shape[0])*100/(df['title'].nunique()),2)"
   ]
  },
  {
   "cell_type": "code",
   "execution_count": 306,
   "metadata": {},
   "outputs": [
    {
     "data": {
      "text/plain": [
       "(1934, 11)"
      ]
     },
     "execution_count": 306,
     "metadata": {},
     "output_type": "execute_result"
    }
   ],
   "source": [
    "df[   (df['publisher'] == 'Penguin Classics') | (df['ratings_count'] >= 10000)].shape"
   ]
  },
  {
   "cell_type": "code",
   "execution_count": 307,
   "metadata": {},
   "outputs": [
    {
     "data": {
      "text/plain": [
       "10063"
      ]
     },
     "execution_count": 307,
     "metadata": {},
     "output_type": "execute_result"
    }
   ],
   "source": [
    "df['title'].nunique()"
   ]
  },
  {
   "cell_type": "code",
   "execution_count": 308,
   "metadata": {},
   "outputs": [
    {
     "data": {
      "text/plain": [
       "12"
      ]
     },
     "execution_count": 308,
     "metadata": {},
     "output_type": "execute_result"
    }
   ],
   "source": [
    "df[    df['title_ser']== 'Stardust Crusaders'].shape[0]"
   ]
  },
  {
   "cell_type": "code",
   "execution_count": 309,
   "metadata": {},
   "outputs": [
    {
     "data": {
      "text/plain": [
       "133"
      ]
     },
     "execution_count": 309,
     "metadata": {},
     "output_type": "execute_result"
    }
   ],
   "source": [
    "df[   df['num_pages']>1000     ].shape[0]"
   ]
  },
  {
   "cell_type": "code",
   "execution_count": null,
   "metadata": {},
   "outputs": [],
   "source": []
  },
  {
   "cell_type": "code",
   "execution_count": 310,
   "metadata": {},
   "outputs": [
    {
     "data": {
      "text/plain": [
       "1081"
      ]
     },
     "execution_count": 310,
     "metadata": {},
     "output_type": "execute_result"
    }
   ],
   "source": [
    "df['title_ser'].nunique()"
   ]
  },
  {
   "cell_type": "code",
   "execution_count": 311,
   "metadata": {},
   "outputs": [
    {
     "data": {
      "text/plain": [
       "title                  object\n",
       "authors                object\n",
       "average_rating        float64\n",
       "language_code          object\n",
       "num_pages             float64\n",
       "ratings_count           int64\n",
       "text_reviews_count      int64\n",
       "publication_date       object\n",
       "publisher              object\n",
       "title_ser              object\n",
       "num_in_ser              int64\n",
       "dtype: object"
      ]
     },
     "execution_count": 311,
     "metadata": {},
     "output_type": "execute_result"
    }
   ],
   "source": [
    "df.dtypes"
   ]
  },
  {
   "cell_type": "code",
   "execution_count": 312,
   "metadata": {},
   "outputs": [
    {
     "data": {
      "text/plain": [
       "(10063, 11)"
      ]
     },
     "execution_count": 312,
     "metadata": {},
     "output_type": "execute_result"
    }
   ],
   "source": [
    "df.shape"
   ]
  },
  {
   "cell_type": "code",
   "execution_count": 313,
   "metadata": {},
   "outputs": [
    {
     "data": {
      "text/plain": [
       "Index(['title', 'authors', 'average_rating', 'language_code', 'num_pages',\n",
       "       'ratings_count', 'text_reviews_count', 'publication_date', 'publisher',\n",
       "       'title_ser', 'num_in_ser'],\n",
       "      dtype='object')"
      ]
     },
     "execution_count": 313,
     "metadata": {},
     "output_type": "execute_result"
    }
   ],
   "source": [
    "df.columns"
   ]
  },
  {
   "cell_type": "code",
   "execution_count": null,
   "metadata": {},
   "outputs": [],
   "source": []
  },
  {
   "cell_type": "markdown",
   "metadata": {},
   "source": [
    "Датасэт содержит данные о книгах с сайта Goodreaders. Описание колонок:\n",
    "\n",
    "title - название книги\n",
    "authors - автор книги\n",
    "average_rating - рейтинг книги по данным сайта Goodreaders\n",
    "language_code - язык книги (eng, other)\n",
    "num_pages - количество страниц\n",
    "ratings_count - количество пользователей поставивших оценку книге\n",
    "text_reviews_count - количество пользовательских рецензий на книгу\n",
    "publication_date - дата публикации (м/д/г)\n",
    "publisher - издатель\n",
    "title_ser - название серии (если книга не входит в серию, то -)\n",
    "num_in_ser - номер книги в серии (если книга не входит в серию, то 0)"
   ]
  },
  {
   "cell_type": "code",
   "execution_count": 314,
   "metadata": {},
   "outputs": [
    {
     "data": {
      "text/plain": [
       "title                    0\n",
       "authors                  0\n",
       "average_rating        1472\n",
       "language_code            0\n",
       "num_pages             1684\n",
       "ratings_count            0\n",
       "text_reviews_count       0\n",
       "publication_date         0\n",
       "publisher              555\n",
       "title_ser                0\n",
       "num_in_ser               0\n",
       "dtype: int64"
      ]
     },
     "execution_count": 314,
     "metadata": {},
     "output_type": "execute_result"
    }
   ],
   "source": [
    "df.isnull().sum()"
   ]
  },
  {
   "cell_type": "code",
   "execution_count": 315,
   "metadata": {},
   "outputs": [
    {
     "data": {
      "text/plain": [
       "0        2095690\n",
       "1        2153167\n",
       "2           6333\n",
       "3        2339585\n",
       "4             19\n",
       "          ...   \n",
       "10058        156\n",
       "10059        783\n",
       "10060        820\n",
       "10061        769\n",
       "10062        113\n",
       "Name: ratings_count, Length: 10063, dtype: int64"
      ]
     },
     "execution_count": 315,
     "metadata": {},
     "output_type": "execute_result"
    }
   ],
   "source": [
    "df['ratings_count']"
   ]
  },
  {
   "cell_type": "code",
   "execution_count": 316,
   "metadata": {},
   "outputs": [
    {
     "data": {
      "text/plain": [
       "'William Morrow Paperbacks'"
      ]
     },
     "execution_count": 316,
     "metadata": {},
     "output_type": "execute_result"
    }
   ],
   "source": [
    "df['publisher'][245]"
   ]
  },
  {
   "cell_type": "markdown",
   "metadata": {},
   "source": [
    "Отсортируйте книги по дате публикации (по убыванию) и узнайте название книги, которая выводится первой"
   ]
  },
  {
   "cell_type": "code",
   "execution_count": 317,
   "metadata": {},
   "outputs": [
    {
     "data": {
      "text/plain": [
       "publication_date\n",
       "9/9/2010     1\n",
       "9/9/2009     1\n",
       "9/9/2008     1\n",
       "9/9/2004     4\n",
       "9/9/2003    12\n",
       "            ..\n",
       "1/1/1921     2\n",
       "1/1/1919     1\n",
       "1/1/1914     1\n",
       "1/1/1913     1\n",
       "1/1/1900     1\n",
       "Name: count, Length: 3482, dtype: int64"
      ]
     },
     "execution_count": 317,
     "metadata": {},
     "output_type": "execute_result"
    }
   ],
   "source": [
    "df['publication_date'].value_counts().sort_index(ascending = False)"
   ]
  },
  {
   "cell_type": "code",
   "execution_count": 318,
   "metadata": {},
   "outputs": [
    {
     "data": {
      "text/html": [
       "<div>\n",
       "<style scoped>\n",
       "    .dataframe tbody tr th:only-of-type {\n",
       "        vertical-align: middle;\n",
       "    }\n",
       "\n",
       "    .dataframe tbody tr th {\n",
       "        vertical-align: top;\n",
       "    }\n",
       "\n",
       "    .dataframe thead th {\n",
       "        text-align: right;\n",
       "    }\n",
       "</style>\n",
       "<table border=\"1\" class=\"dataframe\">\n",
       "  <thead>\n",
       "    <tr style=\"text-align: right;\">\n",
       "      <th></th>\n",
       "      <th>publication_date</th>\n",
       "      <th>title</th>\n",
       "    </tr>\n",
       "  </thead>\n",
       "  <tbody>\n",
       "    <tr>\n",
       "      <th>6193</th>\n",
       "      <td>9/9/2010</td>\n",
       "      <td>The Postman Always Rings Twic</td>\n",
       "    </tr>\n",
       "    <tr>\n",
       "      <th>8006</th>\n",
       "      <td>9/9/2009</td>\n",
       "      <td>The Empty Envelope</td>\n",
       "    </tr>\n",
       "    <tr>\n",
       "      <th>8471</th>\n",
       "      <td>9/9/2008</td>\n",
       "      <td>The Tale of Despereau</td>\n",
       "    </tr>\n",
       "    <tr>\n",
       "      <th>8608</th>\n",
       "      <td>9/9/2004</td>\n",
       "      <td>The Art of the Start: The Time-Tested  Battle-...</td>\n",
       "    </tr>\n",
       "    <tr>\n",
       "      <th>9289</th>\n",
       "      <td>9/9/2004</td>\n",
       "      <td>The New Rules of High Schoo</td>\n",
       "    </tr>\n",
       "    <tr>\n",
       "      <th>...</th>\n",
       "      <td>...</td>\n",
       "      <td>...</td>\n",
       "    </tr>\n",
       "    <tr>\n",
       "      <th>384</th>\n",
       "      <td>1/1/1921</td>\n",
       "      <td>History of the Peloponnesian War: Bk. 5-</td>\n",
       "    </tr>\n",
       "    <tr>\n",
       "      <th>382</th>\n",
       "      <td>1/1/1919</td>\n",
       "      <td>History of the Peloponnesian War: Bk. 1-</td>\n",
       "    </tr>\n",
       "    <tr>\n",
       "      <th>6161</th>\n",
       "      <td>1/1/1914</td>\n",
       "      <td>Agricola / Germania / Dialogue on Orator</td>\n",
       "    </tr>\n",
       "    <tr>\n",
       "      <th>5848</th>\n",
       "      <td>1/1/1913</td>\n",
       "      <td>On Duties</td>\n",
       "    </tr>\n",
       "    <tr>\n",
       "      <th>8464</th>\n",
       "      <td>1/1/1900</td>\n",
       "      <td>Consider the Lilie</td>\n",
       "    </tr>\n",
       "  </tbody>\n",
       "</table>\n",
       "<p>10063 rows × 2 columns</p>\n",
       "</div>"
      ],
      "text/plain": [
       "     publication_date                                              title\n",
       "6193         9/9/2010                      The Postman Always Rings Twic\n",
       "8006         9/9/2009                                 The Empty Envelope\n",
       "8471         9/9/2008                              The Tale of Despereau\n",
       "8608         9/9/2004  The Art of the Start: The Time-Tested  Battle-...\n",
       "9289         9/9/2004                        The New Rules of High Schoo\n",
       "...               ...                                                ...\n",
       "384          1/1/1921           History of the Peloponnesian War: Bk. 5-\n",
       "382          1/1/1919           History of the Peloponnesian War: Bk. 1-\n",
       "6161         1/1/1914           Agricola / Germania / Dialogue on Orator\n",
       "5848         1/1/1913                                          On Duties\n",
       "8464         1/1/1900                                 Consider the Lilie\n",
       "\n",
       "[10063 rows x 2 columns]"
      ]
     },
     "execution_count": 318,
     "metadata": {},
     "output_type": "execute_result"
    }
   ],
   "source": [
    "df[['publication_date','title']].sort_values(['publication_date'],ascending = False)"
   ]
  },
  {
   "cell_type": "code",
   "execution_count": 319,
   "metadata": {},
   "outputs": [
    {
     "data": {
      "text/html": [
       "<div>\n",
       "<style scoped>\n",
       "    .dataframe tbody tr th:only-of-type {\n",
       "        vertical-align: middle;\n",
       "    }\n",
       "\n",
       "    .dataframe tbody tr th {\n",
       "        vertical-align: top;\n",
       "    }\n",
       "\n",
       "    .dataframe thead th {\n",
       "        text-align: right;\n",
       "    }\n",
       "</style>\n",
       "<table border=\"1\" class=\"dataframe\">\n",
       "  <thead>\n",
       "    <tr style=\"text-align: right;\">\n",
       "      <th></th>\n",
       "      <th>publisher</th>\n",
       "      <th>average_rating</th>\n",
       "    </tr>\n",
       "  </thead>\n",
       "  <tbody>\n",
       "    <tr>\n",
       "      <th>8609</th>\n",
       "      <td>Walter Foster Publishing</td>\n",
       "      <td>1.00</td>\n",
       "    </tr>\n",
       "    <tr>\n",
       "      <th>7233</th>\n",
       "      <td>Intercultural Publishing</td>\n",
       "      <td>1.67</td>\n",
       "    </tr>\n",
       "    <tr>\n",
       "      <th>4991</th>\n",
       "      <td>McDougal Littel</td>\n",
       "      <td>2.00</td>\n",
       "    </tr>\n",
       "    <tr>\n",
       "      <th>3544</th>\n",
       "      <td>University of Toronto Press</td>\n",
       "      <td>2.00</td>\n",
       "    </tr>\n",
       "    <tr>\n",
       "      <th>7337</th>\n",
       "      <td>Cengage Learning</td>\n",
       "      <td>2.00</td>\n",
       "    </tr>\n",
       "    <tr>\n",
       "      <th>...</th>\n",
       "      <td>...</td>\n",
       "      <td>...</td>\n",
       "    </tr>\n",
       "    <tr>\n",
       "      <th>3745</th>\n",
       "      <td>NaN</td>\n",
       "      <td>5.00</td>\n",
       "    </tr>\n",
       "    <tr>\n",
       "      <th>5098</th>\n",
       "      <td>Chartwell Books</td>\n",
       "      <td>5.00</td>\n",
       "    </tr>\n",
       "    <tr>\n",
       "      <th>5099</th>\n",
       "      <td>T&amp;T Clark Int'l</td>\n",
       "      <td>5.00</td>\n",
       "    </tr>\n",
       "    <tr>\n",
       "      <th>8380</th>\n",
       "      <td>University Press of New England</td>\n",
       "      <td>5.00</td>\n",
       "    </tr>\n",
       "    <tr>\n",
       "      <th>5629</th>\n",
       "      <td>Courage Books</td>\n",
       "      <td>5.00</td>\n",
       "    </tr>\n",
       "  </tbody>\n",
       "</table>\n",
       "<p>8569 rows × 2 columns</p>\n",
       "</div>"
      ],
      "text/plain": [
       "                            publisher  average_rating\n",
       "8609         Walter Foster Publishing            1.00\n",
       "7233         Intercultural Publishing            1.67\n",
       "4991                  McDougal Littel            2.00\n",
       "3544      University of Toronto Press            2.00\n",
       "7337                 Cengage Learning            2.00\n",
       "...                               ...             ...\n",
       "3745                              NaN            5.00\n",
       "5098                  Chartwell Books            5.00\n",
       "5099                  T&T Clark Int'l            5.00\n",
       "8380  University Press of New England            5.00\n",
       "5629                    Courage Books            5.00\n",
       "\n",
       "[8569 rows x 2 columns]"
      ]
     },
     "execution_count": 319,
     "metadata": {},
     "output_type": "execute_result"
    }
   ],
   "source": [
    "df = df.dropna(subset=['average_rating'])\n",
    "df_1=df[   df['average_rating']>0    ]\n",
    "\n",
    "df_1[['publisher','average_rating']].sort_values(['average_rating'],ascending = True)"
   ]
  },
  {
   "cell_type": "code",
   "execution_count": 320,
   "metadata": {},
   "outputs": [
    {
     "data": {
      "text/plain": [
       "0        True\n",
       "1        True\n",
       "2        True\n",
       "3        True\n",
       "4        True\n",
       "         ... \n",
       "10058    True\n",
       "10059    True\n",
       "10060    True\n",
       "10061    True\n",
       "10062    True\n",
       "Name: average_rating, Length: 8591, dtype: bool"
      ]
     },
     "execution_count": 320,
     "metadata": {},
     "output_type": "execute_result"
    }
   ],
   "source": [
    "df['average_rating']!=\"NaN\""
   ]
  },
  {
   "cell_type": "code",
   "execution_count": 321,
   "metadata": {},
   "outputs": [
    {
     "data": {
      "text/html": [
       "<div>\n",
       "<style scoped>\n",
       "    .dataframe tbody tr th:only-of-type {\n",
       "        vertical-align: middle;\n",
       "    }\n",
       "\n",
       "    .dataframe tbody tr th {\n",
       "        vertical-align: top;\n",
       "    }\n",
       "\n",
       "    .dataframe thead th {\n",
       "        text-align: right;\n",
       "    }\n",
       "</style>\n",
       "<table border=\"1\" class=\"dataframe\">\n",
       "  <thead>\n",
       "    <tr style=\"text-align: right;\">\n",
       "      <th></th>\n",
       "      <th>publisher</th>\n",
       "      <th>average_rating</th>\n",
       "    </tr>\n",
       "  </thead>\n",
       "  <tbody>\n",
       "    <tr>\n",
       "      <th>4338</th>\n",
       "      <td>Square One Publishers</td>\n",
       "      <td>5.0</td>\n",
       "    </tr>\n",
       "    <tr>\n",
       "      <th>4934</th>\n",
       "      <td>BBC Physical Audio</td>\n",
       "      <td>5.0</td>\n",
       "    </tr>\n",
       "    <tr>\n",
       "      <th>5629</th>\n",
       "      <td>Courage Books</td>\n",
       "      <td>5.0</td>\n",
       "    </tr>\n",
       "    <tr>\n",
       "      <th>705</th>\n",
       "      <td>Schirmer Mosel</td>\n",
       "      <td>5.0</td>\n",
       "    </tr>\n",
       "    <tr>\n",
       "      <th>4466</th>\n",
       "      <td>Vantage Press</td>\n",
       "      <td>5.0</td>\n",
       "    </tr>\n",
       "    <tr>\n",
       "      <th>...</th>\n",
       "      <td>...</td>\n",
       "      <td>...</td>\n",
       "    </tr>\n",
       "    <tr>\n",
       "      <th>4795</th>\n",
       "      <td>Arts Publications</td>\n",
       "      <td>0.0</td>\n",
       "    </tr>\n",
       "    <tr>\n",
       "      <th>6202</th>\n",
       "      <td>Hodder &amp; Stoughton Educational Division</td>\n",
       "      <td>0.0</td>\n",
       "    </tr>\n",
       "    <tr>\n",
       "      <th>6459</th>\n",
       "      <td>K.G. Saur Verlag</td>\n",
       "      <td>0.0</td>\n",
       "    </tr>\n",
       "    <tr>\n",
       "      <th>6220</th>\n",
       "      <td>Knopf Doubleday Publishing Group</td>\n",
       "      <td>0.0</td>\n",
       "    </tr>\n",
       "    <tr>\n",
       "      <th>7049</th>\n",
       "      <td>Beckett Media</td>\n",
       "      <td>0.0</td>\n",
       "    </tr>\n",
       "  </tbody>\n",
       "</table>\n",
       "<p>8591 rows × 2 columns</p>\n",
       "</div>"
      ],
      "text/plain": [
       "                                    publisher  average_rating\n",
       "4338                    Square One Publishers             5.0\n",
       "4934                       BBC Physical Audio             5.0\n",
       "5629                            Courage Books             5.0\n",
       "705                            Schirmer Mosel             5.0\n",
       "4466                            Vantage Press             5.0\n",
       "...                                       ...             ...\n",
       "4795                        Arts Publications             0.0\n",
       "6202  Hodder & Stoughton Educational Division             0.0\n",
       "6459                         K.G. Saur Verlag             0.0\n",
       "6220         Knopf Doubleday Publishing Group             0.0\n",
       "7049                            Beckett Media             0.0\n",
       "\n",
       "[8591 rows x 2 columns]"
      ]
     },
     "execution_count": 321,
     "metadata": {},
     "output_type": "execute_result"
    }
   ],
   "source": [
    "df[['publisher','average_rating']].sort_values(['average_rating'],ascending = False)"
   ]
  }
 ],
 "metadata": {
  "kernelspec": {
   "display_name": "Python 3",
   "language": "python",
   "name": "python3"
  },
  "language_info": {
   "codemirror_mode": {
    "name": "ipython",
    "version": 3
   },
   "file_extension": ".py",
   "mimetype": "text/x-python",
   "name": "python",
   "nbconvert_exporter": "python",
   "pygments_lexer": "ipython3",
   "version": "3.11.9"
  }
 },
 "nbformat": 4,
 "nbformat_minor": 2
}
