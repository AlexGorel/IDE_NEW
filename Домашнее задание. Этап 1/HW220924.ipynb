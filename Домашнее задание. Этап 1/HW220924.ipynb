{
 "cells": [
  {
   "cell_type": "code",
   "execution_count": 524,
   "metadata": {},
   "outputs": [
    {
     "data": {
      "text/html": [
       "<div>\n",
       "<style scoped>\n",
       "    .dataframe tbody tr th:only-of-type {\n",
       "        vertical-align: middle;\n",
       "    }\n",
       "\n",
       "    .dataframe tbody tr th {\n",
       "        vertical-align: top;\n",
       "    }\n",
       "\n",
       "    .dataframe thead th {\n",
       "        text-align: right;\n",
       "    }\n",
       "</style>\n",
       "<table border=\"1\" class=\"dataframe\">\n",
       "  <thead>\n",
       "    <tr style=\"text-align: right;\">\n",
       "      <th></th>\n",
       "      <th>title</th>\n",
       "      <th>authors</th>\n",
       "      <th>average_rating</th>\n",
       "      <th>language_code</th>\n",
       "      <th>num_pages</th>\n",
       "      <th>ratings_count</th>\n",
       "      <th>text_reviews_count</th>\n",
       "      <th>publication_date</th>\n",
       "      <th>publisher</th>\n",
       "      <th>title_ser</th>\n",
       "      <th>num_in_ser</th>\n",
       "    </tr>\n",
       "  </thead>\n",
       "  <tbody>\n",
       "    <tr>\n",
       "      <th>0</th>\n",
       "      <td>Harry Potter and the Half-Blood Prince</td>\n",
       "      <td>J.K. Rowling/Mary GrandPré</td>\n",
       "      <td>4.57</td>\n",
       "      <td>eng</td>\n",
       "      <td>652.0</td>\n",
       "      <td>2095690</td>\n",
       "      <td>27591</td>\n",
       "      <td>9/16/2006</td>\n",
       "      <td>Scholastic Inc.</td>\n",
       "      <td>Harry Potter</td>\n",
       "      <td>6</td>\n",
       "    </tr>\n",
       "    <tr>\n",
       "      <th>1</th>\n",
       "      <td>Harry Potter and the Order of the Phoenix</td>\n",
       "      <td>J.K. Rowling/Mary GrandPré</td>\n",
       "      <td>4.49</td>\n",
       "      <td>eng</td>\n",
       "      <td>870.0</td>\n",
       "      <td>2153167</td>\n",
       "      <td>29221</td>\n",
       "      <td>9/1/2004</td>\n",
       "      <td>Scholastic Inc.</td>\n",
       "      <td>Harry Potter</td>\n",
       "      <td>5</td>\n",
       "    </tr>\n",
       "    <tr>\n",
       "      <th>2</th>\n",
       "      <td>Harry Potter and the Chamber of Secrets</td>\n",
       "      <td>J.K. Rowling</td>\n",
       "      <td>4.42</td>\n",
       "      <td>eng</td>\n",
       "      <td>352.0</td>\n",
       "      <td>6333</td>\n",
       "      <td>244</td>\n",
       "      <td>11/1/2003</td>\n",
       "      <td>Scholastic</td>\n",
       "      <td>Harry Potter</td>\n",
       "      <td>2</td>\n",
       "    </tr>\n",
       "    <tr>\n",
       "      <th>3</th>\n",
       "      <td>Harry Potter and the Prisoner of Azkaban</td>\n",
       "      <td>J.K. Rowling/Mary GrandPré</td>\n",
       "      <td>4.56</td>\n",
       "      <td>eng</td>\n",
       "      <td>435.0</td>\n",
       "      <td>2339585</td>\n",
       "      <td>36325</td>\n",
       "      <td>5/1/2004</td>\n",
       "      <td>Scholastic Inc.</td>\n",
       "      <td>Harry Potter</td>\n",
       "      <td>3</td>\n",
       "    </tr>\n",
       "    <tr>\n",
       "      <th>4</th>\n",
       "      <td>Unauthorized Harry Potter Book Seven News: \"Ha...</td>\n",
       "      <td>W. Frederick Zimmerman</td>\n",
       "      <td>3.74</td>\n",
       "      <td>other</td>\n",
       "      <td>152.0</td>\n",
       "      <td>19</td>\n",
       "      <td>1</td>\n",
       "      <td>4/26/2005</td>\n",
       "      <td>Nimble Books</td>\n",
       "      <td>-</td>\n",
       "      <td>0</td>\n",
       "    </tr>\n",
       "  </tbody>\n",
       "</table>\n",
       "</div>"
      ],
      "text/plain": [
       "                                               title  \\\n",
       "0             Harry Potter and the Half-Blood Prince   \n",
       "1          Harry Potter and the Order of the Phoenix   \n",
       "2            Harry Potter and the Chamber of Secrets   \n",
       "3           Harry Potter and the Prisoner of Azkaban   \n",
       "4  Unauthorized Harry Potter Book Seven News: \"Ha...   \n",
       "\n",
       "                      authors  average_rating language_code  num_pages  \\\n",
       "0  J.K. Rowling/Mary GrandPré            4.57           eng      652.0   \n",
       "1  J.K. Rowling/Mary GrandPré            4.49           eng      870.0   \n",
       "2                J.K. Rowling            4.42           eng      352.0   \n",
       "3  J.K. Rowling/Mary GrandPré            4.56           eng      435.0   \n",
       "4      W. Frederick Zimmerman            3.74         other      152.0   \n",
       "\n",
       "   ratings_count  text_reviews_count publication_date        publisher  \\\n",
       "0        2095690               27591        9/16/2006  Scholastic Inc.   \n",
       "1        2153167               29221         9/1/2004  Scholastic Inc.   \n",
       "2           6333                 244        11/1/2003       Scholastic   \n",
       "3        2339585               36325         5/1/2004  Scholastic Inc.   \n",
       "4             19                   1        4/26/2005     Nimble Books   \n",
       "\n",
       "      title_ser  num_in_ser  \n",
       "0  Harry Potter           6  \n",
       "1  Harry Potter           5  \n",
       "2  Harry Potter           2  \n",
       "3  Harry Potter           3  \n",
       "4             -           0  "
      ]
     },
     "execution_count": 524,
     "metadata": {},
     "output_type": "execute_result"
    }
   ],
   "source": [
    "import pandas as pd\n",
    "import numpy as np\n",
    "df = pd.read_csv(\"C:\\скил\\DST-156\\IDE_NEW\\Домашнее задание. Этап 1/books.csv\", index_col = \"Unnamed: 0\")\n",
    "df.head()"
   ]
  },
  {
   "cell_type": "code",
   "execution_count": 525,
   "metadata": {},
   "outputs": [
    {
     "name": "stdout",
     "output_type": "stream",
     "text": [
      "<class 'pandas.core.frame.DataFrame'>\n",
      "Index: 10063 entries, 0 to 10062\n",
      "Data columns (total 11 columns):\n",
      " #   Column              Non-Null Count  Dtype  \n",
      "---  ------              --------------  -----  \n",
      " 0   title               10063 non-null  object \n",
      " 1   authors             10063 non-null  object \n",
      " 2   average_rating      8591 non-null   float64\n",
      " 3   language_code       10063 non-null  object \n",
      " 4   num_pages           8379 non-null   float64\n",
      " 5   ratings_count       10063 non-null  int64  \n",
      " 6   text_reviews_count  10063 non-null  int64  \n",
      " 7   publication_date    10063 non-null  object \n",
      " 8   publisher           9508 non-null   object \n",
      " 9   title_ser           10063 non-null  object \n",
      " 10  num_in_ser          10063 non-null  int64  \n",
      "dtypes: float64(2), int64(3), object(6)\n",
      "memory usage: 943.4+ KB\n"
     ]
    }
   ],
   "source": [
    "df.info()"
   ]
  },
  {
   "cell_type": "code",
   "execution_count": 526,
   "metadata": {},
   "outputs": [
    {
     "data": {
      "text/plain": [
       "10063"
      ]
     },
     "execution_count": 526,
     "metadata": {},
     "output_type": "execute_result"
    }
   ],
   "source": [
    "df['title'].nunique()"
   ]
  },
  {
   "cell_type": "code",
   "execution_count": 527,
   "metadata": {},
   "outputs": [
    {
     "data": {
      "text/plain": [
       "8069"
      ]
     },
     "execution_count": 527,
     "metadata": {},
     "output_type": "execute_result"
    }
   ],
   "source": [
    "df_5=df[(df['language_code'] == 'eng')].shape[0]\n",
    "df_5"
   ]
  },
  {
   "cell_type": "code",
   "execution_count": 528,
   "metadata": {},
   "outputs": [
    {
     "data": {
      "text/plain": [
       "6330"
      ]
     },
     "execution_count": 528,
     "metadata": {},
     "output_type": "execute_result"
    }
   ],
   "source": [
    "mask_1=df[(df['language_code'] == 'eng') & (df['title_ser'] == '-')].shape[0]\n",
    "mask_1"
   ]
  },
  {
   "cell_type": "code",
   "execution_count": 529,
   "metadata": {},
   "outputs": [
    {
     "data": {
      "text/plain": [
       "10063"
      ]
     },
     "execution_count": 529,
     "metadata": {},
     "output_type": "execute_result"
    }
   ],
   "source": [
    "df['title'].nunique()"
   ]
  },
  {
   "cell_type": "code",
   "execution_count": 530,
   "metadata": {},
   "outputs": [
    {
     "data": {
      "text/plain": [
       "62.90371"
      ]
     },
     "execution_count": 530,
     "metadata": {},
     "output_type": "execute_result"
    }
   ],
   "source": [
    "round((mask_1/df['title'].nunique()*100),5)\n"
   ]
  },
  {
   "cell_type": "code",
   "execution_count": 531,
   "metadata": {},
   "outputs": [
    {
     "data": {
      "text/plain": [
       "62.9"
      ]
     },
     "execution_count": 531,
     "metadata": {},
     "output_type": "execute_result"
    }
   ],
   "source": [
    "round((df[   (df['language_code'] == 'eng') & (df['title_ser'] == '-')].shape[0])*100/(df['title'].nunique()),2)"
   ]
  },
  {
   "cell_type": "code",
   "execution_count": 532,
   "metadata": {},
   "outputs": [
    {
     "data": {
      "text/plain": [
       "0.1921892079896651"
      ]
     },
     "execution_count": 532,
     "metadata": {},
     "output_type": "execute_result"
    }
   ],
   "source": [
    "df[   (df['publisher'] == 'Penguin Classics') | (df['ratings_count'] >= 10000)].shape[0]/df['title'].nunique()"
   ]
  },
  {
   "cell_type": "code",
   "execution_count": 533,
   "metadata": {},
   "outputs": [
    {
     "data": {
      "text/plain": [
       "6335"
      ]
     },
     "execution_count": 533,
     "metadata": {},
     "output_type": "execute_result"
    }
   ],
   "source": [
    "df[   (df['language_code'] == 'eng') & (df['num_in_ser'] == 0)].shape[0]"
   ]
  },
  {
   "cell_type": "code",
   "execution_count": 534,
   "metadata": {},
   "outputs": [
    {
     "name": "stderr",
     "output_type": "stream",
     "text": [
      "C:\\Users\\molde\\AppData\\Local\\Temp\\ipykernel_23656\\3234866500.py:2: UserWarning: Boolean Series key will be reindexed to match DataFrame index.\n",
      "  df_3[  (df['title_ser'] == '-')].shape[0]\n"
     ]
    },
    {
     "data": {
      "text/plain": [
       "6330"
      ]
     },
     "execution_count": 534,
     "metadata": {},
     "output_type": "execute_result"
    }
   ],
   "source": [
    "df_3=df[df['language_code'] == 'eng']\n",
    "df_3[  (df['title_ser'] == '-')].shape[0]"
   ]
  },
  {
   "cell_type": "code",
   "execution_count": 535,
   "metadata": {},
   "outputs": [
    {
     "name": "stderr",
     "output_type": "stream",
     "text": [
      "C:\\Users\\molde\\AppData\\Local\\Temp\\ipykernel_23656\\679130471.py:1: UserWarning: Boolean Series key will be reindexed to match DataFrame index.\n",
      "  df_3[(df['num_in_ser'] == 0)].nunique()\n"
     ]
    },
    {
     "data": {
      "text/plain": [
       "title                 6335\n",
       "authors               4526\n",
       "average_rating         197\n",
       "language_code            1\n",
       "num_pages              810\n",
       "ratings_count         3463\n",
       "text_reviews_count    1340\n",
       "publication_date      2816\n",
       "publisher             1541\n",
       "title_ser                7\n",
       "num_in_ser               1\n",
       "dtype: int64"
      ]
     },
     "execution_count": 535,
     "metadata": {},
     "output_type": "execute_result"
    }
   ],
   "source": [
    "df_3[(df['num_in_ser'] == 0)].nunique()"
   ]
  },
  {
   "cell_type": "code",
   "execution_count": 536,
   "metadata": {},
   "outputs": [
    {
     "data": {
      "text/plain": [
       "6330"
      ]
     },
     "execution_count": 536,
     "metadata": {},
     "output_type": "execute_result"
    }
   ],
   "source": [
    "df[(df['language_code'] == 'eng') & (df['title_ser'] == '-')].shape[0]"
   ]
  },
  {
   "cell_type": "code",
   "execution_count": 537,
   "metadata": {},
   "outputs": [
    {
     "data": {
      "text/plain": [
       "10063"
      ]
     },
     "execution_count": 537,
     "metadata": {},
     "output_type": "execute_result"
    }
   ],
   "source": [
    "(df['title'].nunique())"
   ]
  },
  {
   "cell_type": "code",
   "execution_count": 538,
   "metadata": {},
   "outputs": [
    {
     "data": {
      "text/plain": [
       "62.9"
      ]
     },
     "execution_count": 538,
     "metadata": {},
     "output_type": "execute_result"
    }
   ],
   "source": [
    "round((df[   (df['language_code'] == 'eng') & (df['title_ser'] == '-')].shape[0])*100/(df['title'].nunique()),2)"
   ]
  },
  {
   "cell_type": "code",
   "execution_count": 539,
   "metadata": {},
   "outputs": [
    {
     "data": {
      "text/plain": [
       "(1934, 11)"
      ]
     },
     "execution_count": 539,
     "metadata": {},
     "output_type": "execute_result"
    }
   ],
   "source": [
    "df[   (df['publisher'] == 'Penguin Classics') | (df['ratings_count'] >= 10000)].shape"
   ]
  },
  {
   "cell_type": "code",
   "execution_count": 540,
   "metadata": {},
   "outputs": [
    {
     "data": {
      "text/plain": [
       "10063"
      ]
     },
     "execution_count": 540,
     "metadata": {},
     "output_type": "execute_result"
    }
   ],
   "source": [
    "df['title'].nunique()"
   ]
  },
  {
   "cell_type": "code",
   "execution_count": 541,
   "metadata": {},
   "outputs": [
    {
     "data": {
      "text/plain": [
       "12"
      ]
     },
     "execution_count": 541,
     "metadata": {},
     "output_type": "execute_result"
    }
   ],
   "source": [
    "df[    df['title_ser']== 'Stardust Crusaders'].shape[0]"
   ]
  },
  {
   "cell_type": "code",
   "execution_count": 542,
   "metadata": {},
   "outputs": [
    {
     "data": {
      "text/plain": [
       "133"
      ]
     },
     "execution_count": 542,
     "metadata": {},
     "output_type": "execute_result"
    }
   ],
   "source": [
    "df[   df['num_pages']>1000     ].shape[0]"
   ]
  },
  {
   "cell_type": "code",
   "execution_count": null,
   "metadata": {},
   "outputs": [],
   "source": []
  },
  {
   "cell_type": "code",
   "execution_count": 543,
   "metadata": {},
   "outputs": [
    {
     "data": {
      "text/plain": [
       "1081"
      ]
     },
     "execution_count": 543,
     "metadata": {},
     "output_type": "execute_result"
    }
   ],
   "source": [
    "df['title_ser'].nunique()"
   ]
  },
  {
   "cell_type": "code",
   "execution_count": 544,
   "metadata": {},
   "outputs": [
    {
     "data": {
      "text/plain": [
       "title                  object\n",
       "authors                object\n",
       "average_rating        float64\n",
       "language_code          object\n",
       "num_pages             float64\n",
       "ratings_count           int64\n",
       "text_reviews_count      int64\n",
       "publication_date       object\n",
       "publisher              object\n",
       "title_ser              object\n",
       "num_in_ser              int64\n",
       "dtype: object"
      ]
     },
     "execution_count": 544,
     "metadata": {},
     "output_type": "execute_result"
    }
   ],
   "source": [
    "df.dtypes"
   ]
  },
  {
   "cell_type": "code",
   "execution_count": 545,
   "metadata": {},
   "outputs": [
    {
     "data": {
      "text/plain": [
       "(10063, 11)"
      ]
     },
     "execution_count": 545,
     "metadata": {},
     "output_type": "execute_result"
    }
   ],
   "source": [
    "df.shape"
   ]
  },
  {
   "cell_type": "code",
   "execution_count": 546,
   "metadata": {},
   "outputs": [
    {
     "data": {
      "text/plain": [
       "Index(['title', 'authors', 'average_rating', 'language_code', 'num_pages',\n",
       "       'ratings_count', 'text_reviews_count', 'publication_date', 'publisher',\n",
       "       'title_ser', 'num_in_ser'],\n",
       "      dtype='object')"
      ]
     },
     "execution_count": 546,
     "metadata": {},
     "output_type": "execute_result"
    }
   ],
   "source": [
    "df.columns"
   ]
  },
  {
   "cell_type": "code",
   "execution_count": null,
   "metadata": {},
   "outputs": [],
   "source": []
  },
  {
   "cell_type": "markdown",
   "metadata": {},
   "source": [
    "Датасэт содержит данные о книгах с сайта Goodreaders. Описание колонок:\n",
    "\n",
    "title - название книги\n",
    "authors - автор книги\n",
    "average_rating - рейтинг книги по данным сайта Goodreaders\n",
    "language_code - язык книги (eng, other)\n",
    "num_pages - количество страниц\n",
    "ratings_count - количество пользователей поставивших оценку книге\n",
    "text_reviews_count - количество пользовательских рецензий на книгу\n",
    "publication_date - дата публикации (м/д/г)\n",
    "publisher - издатель\n",
    "title_ser - название серии (если книга не входит в серию, то -)\n",
    "num_in_ser - номер книги в серии (если книга не входит в серию, то 0)"
   ]
  },
  {
   "cell_type": "code",
   "execution_count": 547,
   "metadata": {},
   "outputs": [
    {
     "data": {
      "text/plain": [
       "title                    0\n",
       "authors                  0\n",
       "average_rating        1472\n",
       "language_code            0\n",
       "num_pages             1684\n",
       "ratings_count            0\n",
       "text_reviews_count       0\n",
       "publication_date         0\n",
       "publisher              555\n",
       "title_ser                0\n",
       "num_in_ser               0\n",
       "dtype: int64"
      ]
     },
     "execution_count": 547,
     "metadata": {},
     "output_type": "execute_result"
    }
   ],
   "source": [
    "df.isnull().sum()"
   ]
  },
  {
   "cell_type": "code",
   "execution_count": 548,
   "metadata": {},
   "outputs": [
    {
     "data": {
      "text/plain": [
       "0        2095690\n",
       "1        2153167\n",
       "2           6333\n",
       "3        2339585\n",
       "4             19\n",
       "          ...   \n",
       "10058        156\n",
       "10059        783\n",
       "10060        820\n",
       "10061        769\n",
       "10062        113\n",
       "Name: ratings_count, Length: 10063, dtype: int64"
      ]
     },
     "execution_count": 548,
     "metadata": {},
     "output_type": "execute_result"
    }
   ],
   "source": [
    "df['ratings_count']"
   ]
  },
  {
   "cell_type": "code",
   "execution_count": 549,
   "metadata": {},
   "outputs": [
    {
     "data": {
      "text/plain": [
       "'William Morrow Paperbacks'"
      ]
     },
     "execution_count": 549,
     "metadata": {},
     "output_type": "execute_result"
    }
   ],
   "source": [
    "df['publisher'][245]"
   ]
  },
  {
   "cell_type": "markdown",
   "metadata": {},
   "source": [
    "Отсортируйте книги по дате публикации (по убыванию) и узнайте название книги, которая выводится первой"
   ]
  },
  {
   "cell_type": "code",
   "execution_count": 550,
   "metadata": {},
   "outputs": [
    {
     "data": {
      "text/plain": [
       "publication_date\n",
       "9/9/2010     1\n",
       "9/9/2009     1\n",
       "9/9/2008     1\n",
       "9/9/2004     4\n",
       "9/9/2003    12\n",
       "            ..\n",
       "1/1/1921     2\n",
       "1/1/1919     1\n",
       "1/1/1914     1\n",
       "1/1/1913     1\n",
       "1/1/1900     1\n",
       "Name: count, Length: 3482, dtype: int64"
      ]
     },
     "execution_count": 550,
     "metadata": {},
     "output_type": "execute_result"
    }
   ],
   "source": [
    "df['publication_date'].value_counts().sort_index(ascending = False)"
   ]
  },
  {
   "cell_type": "code",
   "execution_count": 551,
   "metadata": {},
   "outputs": [
    {
     "data": {
      "text/html": [
       "<div>\n",
       "<style scoped>\n",
       "    .dataframe tbody tr th:only-of-type {\n",
       "        vertical-align: middle;\n",
       "    }\n",
       "\n",
       "    .dataframe tbody tr th {\n",
       "        vertical-align: top;\n",
       "    }\n",
       "\n",
       "    .dataframe thead th {\n",
       "        text-align: right;\n",
       "    }\n",
       "</style>\n",
       "<table border=\"1\" class=\"dataframe\">\n",
       "  <thead>\n",
       "    <tr style=\"text-align: right;\">\n",
       "      <th></th>\n",
       "      <th>publication_date</th>\n",
       "      <th>title</th>\n",
       "    </tr>\n",
       "  </thead>\n",
       "  <tbody>\n",
       "    <tr>\n",
       "      <th>6193</th>\n",
       "      <td>9/9/2010</td>\n",
       "      <td>The Postman Always Rings Twic</td>\n",
       "    </tr>\n",
       "    <tr>\n",
       "      <th>8006</th>\n",
       "      <td>9/9/2009</td>\n",
       "      <td>The Empty Envelope</td>\n",
       "    </tr>\n",
       "    <tr>\n",
       "      <th>8471</th>\n",
       "      <td>9/9/2008</td>\n",
       "      <td>The Tale of Despereau</td>\n",
       "    </tr>\n",
       "    <tr>\n",
       "      <th>8608</th>\n",
       "      <td>9/9/2004</td>\n",
       "      <td>The Art of the Start: The Time-Tested  Battle-...</td>\n",
       "    </tr>\n",
       "    <tr>\n",
       "      <th>9289</th>\n",
       "      <td>9/9/2004</td>\n",
       "      <td>The New Rules of High Schoo</td>\n",
       "    </tr>\n",
       "    <tr>\n",
       "      <th>...</th>\n",
       "      <td>...</td>\n",
       "      <td>...</td>\n",
       "    </tr>\n",
       "    <tr>\n",
       "      <th>384</th>\n",
       "      <td>1/1/1921</td>\n",
       "      <td>History of the Peloponnesian War: Bk. 5-</td>\n",
       "    </tr>\n",
       "    <tr>\n",
       "      <th>382</th>\n",
       "      <td>1/1/1919</td>\n",
       "      <td>History of the Peloponnesian War: Bk. 1-</td>\n",
       "    </tr>\n",
       "    <tr>\n",
       "      <th>6161</th>\n",
       "      <td>1/1/1914</td>\n",
       "      <td>Agricola / Germania / Dialogue on Orator</td>\n",
       "    </tr>\n",
       "    <tr>\n",
       "      <th>5848</th>\n",
       "      <td>1/1/1913</td>\n",
       "      <td>On Duties</td>\n",
       "    </tr>\n",
       "    <tr>\n",
       "      <th>8464</th>\n",
       "      <td>1/1/1900</td>\n",
       "      <td>Consider the Lilie</td>\n",
       "    </tr>\n",
       "  </tbody>\n",
       "</table>\n",
       "<p>10063 rows × 2 columns</p>\n",
       "</div>"
      ],
      "text/plain": [
       "     publication_date                                              title\n",
       "6193         9/9/2010                      The Postman Always Rings Twic\n",
       "8006         9/9/2009                                 The Empty Envelope\n",
       "8471         9/9/2008                              The Tale of Despereau\n",
       "8608         9/9/2004  The Art of the Start: The Time-Tested  Battle-...\n",
       "9289         9/9/2004                        The New Rules of High Schoo\n",
       "...               ...                                                ...\n",
       "384          1/1/1921           History of the Peloponnesian War: Bk. 5-\n",
       "382          1/1/1919           History of the Peloponnesian War: Bk. 1-\n",
       "6161         1/1/1914           Agricola / Germania / Dialogue on Orator\n",
       "5848         1/1/1913                                          On Duties\n",
       "8464         1/1/1900                                 Consider the Lilie\n",
       "\n",
       "[10063 rows x 2 columns]"
      ]
     },
     "execution_count": 551,
     "metadata": {},
     "output_type": "execute_result"
    }
   ],
   "source": [
    "df[['publication_date','title']].sort_values(['publication_date'],ascending = False)"
   ]
  },
  {
   "cell_type": "code",
   "execution_count": 552,
   "metadata": {},
   "outputs": [
    {
     "data": {
      "text/html": [
       "<div>\n",
       "<style scoped>\n",
       "    .dataframe tbody tr th:only-of-type {\n",
       "        vertical-align: middle;\n",
       "    }\n",
       "\n",
       "    .dataframe tbody tr th {\n",
       "        vertical-align: top;\n",
       "    }\n",
       "\n",
       "    .dataframe thead th {\n",
       "        text-align: right;\n",
       "    }\n",
       "</style>\n",
       "<table border=\"1\" class=\"dataframe\">\n",
       "  <thead>\n",
       "    <tr style=\"text-align: right;\">\n",
       "      <th></th>\n",
       "      <th>publisher</th>\n",
       "      <th>average_rating</th>\n",
       "    </tr>\n",
       "  </thead>\n",
       "  <tbody>\n",
       "    <tr>\n",
       "      <th>8609</th>\n",
       "      <td>Walter Foster Publishing</td>\n",
       "      <td>1.00</td>\n",
       "    </tr>\n",
       "    <tr>\n",
       "      <th>7233</th>\n",
       "      <td>Intercultural Publishing</td>\n",
       "      <td>1.67</td>\n",
       "    </tr>\n",
       "    <tr>\n",
       "      <th>4991</th>\n",
       "      <td>McDougal Littel</td>\n",
       "      <td>2.00</td>\n",
       "    </tr>\n",
       "    <tr>\n",
       "      <th>3544</th>\n",
       "      <td>University of Toronto Press</td>\n",
       "      <td>2.00</td>\n",
       "    </tr>\n",
       "    <tr>\n",
       "      <th>7337</th>\n",
       "      <td>Cengage Learning</td>\n",
       "      <td>2.00</td>\n",
       "    </tr>\n",
       "    <tr>\n",
       "      <th>...</th>\n",
       "      <td>...</td>\n",
       "      <td>...</td>\n",
       "    </tr>\n",
       "    <tr>\n",
       "      <th>9281</th>\n",
       "      <td>Raintree</td>\n",
       "      <td>5.00</td>\n",
       "    </tr>\n",
       "    <tr>\n",
       "      <th>1119</th>\n",
       "      <td>Arcadia Publishing</td>\n",
       "      <td>5.00</td>\n",
       "    </tr>\n",
       "    <tr>\n",
       "      <th>4934</th>\n",
       "      <td>BBC Physical Audio</td>\n",
       "      <td>5.00</td>\n",
       "    </tr>\n",
       "    <tr>\n",
       "      <th>4932</th>\n",
       "      <td>BBC Physical Audio</td>\n",
       "      <td>5.00</td>\n",
       "    </tr>\n",
       "    <tr>\n",
       "      <th>767</th>\n",
       "      <td>Teaching Resources</td>\n",
       "      <td>5.00</td>\n",
       "    </tr>\n",
       "  </tbody>\n",
       "</table>\n",
       "<p>8569 rows × 2 columns</p>\n",
       "</div>"
      ],
      "text/plain": [
       "                        publisher  average_rating\n",
       "8609     Walter Foster Publishing            1.00\n",
       "7233     Intercultural Publishing            1.67\n",
       "4991              McDougal Littel            2.00\n",
       "3544  University of Toronto Press            2.00\n",
       "7337             Cengage Learning            2.00\n",
       "...                           ...             ...\n",
       "9281                     Raintree            5.00\n",
       "1119           Arcadia Publishing            5.00\n",
       "4934           BBC Physical Audio            5.00\n",
       "4932           BBC Physical Audio            5.00\n",
       "767            Teaching Resources            5.00\n",
       "\n",
       "[8569 rows x 2 columns]"
      ]
     },
     "execution_count": 552,
     "metadata": {},
     "output_type": "execute_result"
    }
   ],
   "source": [
    "#df = df.dropna(subset=['average_rating'])\n",
    "df_1=df[   df['average_rating']>0    ]\n",
    "\n",
    "df_1[['publisher','average_rating']].sort_values(['average_rating'],ascending = True)"
   ]
  },
  {
   "cell_type": "code",
   "execution_count": 553,
   "metadata": {},
   "outputs": [
    {
     "data": {
      "text/plain": [
       "0        True\n",
       "1        True\n",
       "2        True\n",
       "3        True\n",
       "4        True\n",
       "         ... \n",
       "10058    True\n",
       "10059    True\n",
       "10060    True\n",
       "10061    True\n",
       "10062    True\n",
       "Name: average_rating, Length: 10063, dtype: bool"
      ]
     },
     "execution_count": 553,
     "metadata": {},
     "output_type": "execute_result"
    }
   ],
   "source": [
    "df['average_rating']!=\"NaN\""
   ]
  },
  {
   "cell_type": "code",
   "execution_count": 554,
   "metadata": {},
   "outputs": [
    {
     "data": {
      "text/html": [
       "<div>\n",
       "<style scoped>\n",
       "    .dataframe tbody tr th:only-of-type {\n",
       "        vertical-align: middle;\n",
       "    }\n",
       "\n",
       "    .dataframe tbody tr th {\n",
       "        vertical-align: top;\n",
       "    }\n",
       "\n",
       "    .dataframe thead th {\n",
       "        text-align: right;\n",
       "    }\n",
       "</style>\n",
       "<table border=\"1\" class=\"dataframe\">\n",
       "  <thead>\n",
       "    <tr style=\"text-align: right;\">\n",
       "      <th></th>\n",
       "      <th>publisher</th>\n",
       "      <th>average_rating</th>\n",
       "    </tr>\n",
       "  </thead>\n",
       "  <tbody>\n",
       "    <tr>\n",
       "      <th>553</th>\n",
       "      <td>Oxford University Press  USA</td>\n",
       "      <td>5.0</td>\n",
       "    </tr>\n",
       "    <tr>\n",
       "      <th>9281</th>\n",
       "      <td>Raintree</td>\n",
       "      <td>5.0</td>\n",
       "    </tr>\n",
       "    <tr>\n",
       "      <th>705</th>\n",
       "      <td>Schirmer Mosel</td>\n",
       "      <td>5.0</td>\n",
       "    </tr>\n",
       "    <tr>\n",
       "      <th>5574</th>\n",
       "      <td>Oxford University Press  USA</td>\n",
       "      <td>5.0</td>\n",
       "    </tr>\n",
       "    <tr>\n",
       "      <th>5099</th>\n",
       "      <td>T&amp;T Clark Int'l</td>\n",
       "      <td>5.0</td>\n",
       "    </tr>\n",
       "    <tr>\n",
       "      <th>...</th>\n",
       "      <td>...</td>\n",
       "      <td>...</td>\n",
       "    </tr>\n",
       "    <tr>\n",
       "      <th>10042</th>\n",
       "      <td>Samuel French Ltd</td>\n",
       "      <td>NaN</td>\n",
       "    </tr>\n",
       "    <tr>\n",
       "      <th>10045</th>\n",
       "      <td>Punto de Lectura</td>\n",
       "      <td>NaN</td>\n",
       "    </tr>\n",
       "    <tr>\n",
       "      <th>10046</th>\n",
       "      <td>Planeta Publishing</td>\n",
       "      <td>NaN</td>\n",
       "    </tr>\n",
       "    <tr>\n",
       "      <th>10053</th>\n",
       "      <td>Editorial Presença</td>\n",
       "      <td>NaN</td>\n",
       "    </tr>\n",
       "    <tr>\n",
       "      <th>10056</th>\n",
       "      <td>Editorial Presença</td>\n",
       "      <td>NaN</td>\n",
       "    </tr>\n",
       "  </tbody>\n",
       "</table>\n",
       "<p>10063 rows × 2 columns</p>\n",
       "</div>"
      ],
      "text/plain": [
       "                          publisher  average_rating\n",
       "553    Oxford University Press  USA             5.0\n",
       "9281                       Raintree             5.0\n",
       "705                  Schirmer Mosel             5.0\n",
       "5574   Oxford University Press  USA             5.0\n",
       "5099                T&T Clark Int'l             5.0\n",
       "...                             ...             ...\n",
       "10042             Samuel French Ltd             NaN\n",
       "10045              Punto de Lectura             NaN\n",
       "10046            Planeta Publishing             NaN\n",
       "10053            Editorial Presença             NaN\n",
       "10056            Editorial Presença             NaN\n",
       "\n",
       "[10063 rows x 2 columns]"
      ]
     },
     "execution_count": 554,
     "metadata": {},
     "output_type": "execute_result"
    }
   ],
   "source": [
    "df[['publisher','average_rating']].sort_values(['average_rating'],ascending = False)"
   ]
  },
  {
   "cell_type": "code",
   "execution_count": 555,
   "metadata": {},
   "outputs": [
    {
     "data": {
      "text/html": [
       "<div>\n",
       "<style scoped>\n",
       "    .dataframe tbody tr th:only-of-type {\n",
       "        vertical-align: middle;\n",
       "    }\n",
       "\n",
       "    .dataframe tbody tr th {\n",
       "        vertical-align: top;\n",
       "    }\n",
       "\n",
       "    .dataframe thead th {\n",
       "        text-align: right;\n",
       "    }\n",
       "</style>\n",
       "<table border=\"1\" class=\"dataframe\">\n",
       "  <thead>\n",
       "    <tr style=\"text-align: right;\">\n",
       "      <th></th>\n",
       "      <th>title</th>\n",
       "      <th>authors</th>\n",
       "      <th>average_rating</th>\n",
       "      <th>language_code</th>\n",
       "      <th>num_pages</th>\n",
       "      <th>ratings_count</th>\n",
       "      <th>text_reviews_count</th>\n",
       "      <th>publication_date</th>\n",
       "      <th>publisher</th>\n",
       "      <th>title_ser</th>\n",
       "      <th>num_in_ser</th>\n",
       "      <th>month</th>\n",
       "      <th>day</th>\n",
       "      <th>year</th>\n",
       "    </tr>\n",
       "  </thead>\n",
       "  <tbody>\n",
       "    <tr>\n",
       "      <th>0</th>\n",
       "      <td>Harry Potter and the Half-Blood Prince</td>\n",
       "      <td>J.K. Rowling/Mary GrandPré</td>\n",
       "      <td>4.57</td>\n",
       "      <td>eng</td>\n",
       "      <td>652.0</td>\n",
       "      <td>2095690</td>\n",
       "      <td>27591</td>\n",
       "      <td>9/16/2006</td>\n",
       "      <td>Scholastic Inc.</td>\n",
       "      <td>Harry Potter</td>\n",
       "      <td>6</td>\n",
       "      <td>9</td>\n",
       "      <td>16</td>\n",
       "      <td>2006</td>\n",
       "    </tr>\n",
       "    <tr>\n",
       "      <th>1</th>\n",
       "      <td>Harry Potter and the Order of the Phoenix</td>\n",
       "      <td>J.K. Rowling/Mary GrandPré</td>\n",
       "      <td>4.49</td>\n",
       "      <td>eng</td>\n",
       "      <td>870.0</td>\n",
       "      <td>2153167</td>\n",
       "      <td>29221</td>\n",
       "      <td>9/1/2004</td>\n",
       "      <td>Scholastic Inc.</td>\n",
       "      <td>Harry Potter</td>\n",
       "      <td>5</td>\n",
       "      <td>9</td>\n",
       "      <td>1</td>\n",
       "      <td>2004</td>\n",
       "    </tr>\n",
       "    <tr>\n",
       "      <th>2</th>\n",
       "      <td>Harry Potter and the Chamber of Secrets</td>\n",
       "      <td>J.K. Rowling</td>\n",
       "      <td>4.42</td>\n",
       "      <td>eng</td>\n",
       "      <td>352.0</td>\n",
       "      <td>6333</td>\n",
       "      <td>244</td>\n",
       "      <td>11/1/2003</td>\n",
       "      <td>Scholastic</td>\n",
       "      <td>Harry Potter</td>\n",
       "      <td>2</td>\n",
       "      <td>11</td>\n",
       "      <td>1</td>\n",
       "      <td>2003</td>\n",
       "    </tr>\n",
       "    <tr>\n",
       "      <th>3</th>\n",
       "      <td>Harry Potter and the Prisoner of Azkaban</td>\n",
       "      <td>J.K. Rowling/Mary GrandPré</td>\n",
       "      <td>4.56</td>\n",
       "      <td>eng</td>\n",
       "      <td>435.0</td>\n",
       "      <td>2339585</td>\n",
       "      <td>36325</td>\n",
       "      <td>5/1/2004</td>\n",
       "      <td>Scholastic Inc.</td>\n",
       "      <td>Harry Potter</td>\n",
       "      <td>3</td>\n",
       "      <td>5</td>\n",
       "      <td>1</td>\n",
       "      <td>2004</td>\n",
       "    </tr>\n",
       "    <tr>\n",
       "      <th>4</th>\n",
       "      <td>Unauthorized Harry Potter Book Seven News: \"Ha...</td>\n",
       "      <td>W. Frederick Zimmerman</td>\n",
       "      <td>3.74</td>\n",
       "      <td>other</td>\n",
       "      <td>152.0</td>\n",
       "      <td>19</td>\n",
       "      <td>1</td>\n",
       "      <td>4/26/2005</td>\n",
       "      <td>Nimble Books</td>\n",
       "      <td>-</td>\n",
       "      <td>0</td>\n",
       "      <td>4</td>\n",
       "      <td>26</td>\n",
       "      <td>2005</td>\n",
       "    </tr>\n",
       "  </tbody>\n",
       "</table>\n",
       "</div>"
      ],
      "text/plain": [
       "                                               title  \\\n",
       "0             Harry Potter and the Half-Blood Prince   \n",
       "1          Harry Potter and the Order of the Phoenix   \n",
       "2            Harry Potter and the Chamber of Secrets   \n",
       "3           Harry Potter and the Prisoner of Azkaban   \n",
       "4  Unauthorized Harry Potter Book Seven News: \"Ha...   \n",
       "\n",
       "                      authors  average_rating language_code  num_pages  \\\n",
       "0  J.K. Rowling/Mary GrandPré            4.57           eng      652.0   \n",
       "1  J.K. Rowling/Mary GrandPré            4.49           eng      870.0   \n",
       "2                J.K. Rowling            4.42           eng      352.0   \n",
       "3  J.K. Rowling/Mary GrandPré            4.56           eng      435.0   \n",
       "4      W. Frederick Zimmerman            3.74         other      152.0   \n",
       "\n",
       "   ratings_count  text_reviews_count publication_date        publisher  \\\n",
       "0        2095690               27591        9/16/2006  Scholastic Inc.   \n",
       "1        2153167               29221         9/1/2004  Scholastic Inc.   \n",
       "2           6333                 244        11/1/2003       Scholastic   \n",
       "3        2339585               36325         5/1/2004  Scholastic Inc.   \n",
       "4             19                   1        4/26/2005     Nimble Books   \n",
       "\n",
       "      title_ser  num_in_ser month day  year  \n",
       "0  Harry Potter           6     9  16  2006  \n",
       "1  Harry Potter           5     9   1  2004  \n",
       "2  Harry Potter           2    11   1  2003  \n",
       "3  Harry Potter           3     5   1  2004  \n",
       "4             -           0     4  26  2005  "
      ]
     },
     "execution_count": 555,
     "metadata": {},
     "output_type": "execute_result"
    }
   ],
   "source": [
    "df[[\"month\",\"day\", \"year\"]] = df[\"publication_date\"].str.split(\"/\",expand=True)\n",
    "df.head()\n"
   ]
  },
  {
   "cell_type": "code",
   "execution_count": 556,
   "metadata": {},
   "outputs": [
    {
     "name": "stdout",
     "output_type": "stream",
     "text": [
      "<class 'pandas.core.frame.DataFrame'>\n",
      "Index: 10063 entries, 0 to 10062\n",
      "Data columns (total 14 columns):\n",
      " #   Column              Non-Null Count  Dtype  \n",
      "---  ------              --------------  -----  \n",
      " 0   title               10063 non-null  object \n",
      " 1   authors             10063 non-null  object \n",
      " 2   average_rating      8591 non-null   float64\n",
      " 3   language_code       10063 non-null  object \n",
      " 4   num_pages           8379 non-null   float64\n",
      " 5   ratings_count       10063 non-null  int64  \n",
      " 6   text_reviews_count  10063 non-null  int64  \n",
      " 7   publication_date    10063 non-null  object \n",
      " 8   publisher           9508 non-null   object \n",
      " 9   title_ser           10063 non-null  object \n",
      " 10  num_in_ser          10063 non-null  int64  \n",
      " 11  month               10063 non-null  object \n",
      " 12  day                 10063 non-null  object \n",
      " 13  year                10063 non-null  object \n",
      "dtypes: float64(2), int64(3), object(9)\n",
      "memory usage: 1.4+ MB\n"
     ]
    }
   ],
   "source": [
    "df.info()"
   ]
  },
  {
   "cell_type": "code",
   "execution_count": 557,
   "metadata": {},
   "outputs": [],
   "source": [
    "df[[\"month\",\"day\", \"year\"]] = df[[\"month\",\"day\", \"year\"]].astype(\"int64\")"
   ]
  },
  {
   "cell_type": "code",
   "execution_count": 558,
   "metadata": {},
   "outputs": [
    {
     "name": "stdout",
     "output_type": "stream",
     "text": [
      "<class 'pandas.core.frame.DataFrame'>\n",
      "Index: 10063 entries, 0 to 10062\n",
      "Data columns (total 14 columns):\n",
      " #   Column              Non-Null Count  Dtype  \n",
      "---  ------              --------------  -----  \n",
      " 0   title               10063 non-null  object \n",
      " 1   authors             10063 non-null  object \n",
      " 2   average_rating      8591 non-null   float64\n",
      " 3   language_code       10063 non-null  object \n",
      " 4   num_pages           8379 non-null   float64\n",
      " 5   ratings_count       10063 non-null  int64  \n",
      " 6   text_reviews_count  10063 non-null  int64  \n",
      " 7   publication_date    10063 non-null  object \n",
      " 8   publisher           9508 non-null   object \n",
      " 9   title_ser           10063 non-null  object \n",
      " 10  num_in_ser          10063 non-null  int64  \n",
      " 11  month               10063 non-null  int64  \n",
      " 12  day                 10063 non-null  int64  \n",
      " 13  year                10063 non-null  int64  \n",
      "dtypes: float64(2), int64(6), object(6)\n",
      "memory usage: 1.4+ MB\n"
     ]
    }
   ],
   "source": [
    "df.info()"
   ]
  },
  {
   "cell_type": "code",
   "execution_count": 559,
   "metadata": {},
   "outputs": [
    {
     "data": {
      "text/plain": [
       "3"
      ]
     },
     "execution_count": 559,
     "metadata": {},
     "output_type": "execute_result"
    }
   ],
   "source": [
    "df[\"century\"] = df[\"year\"].apply(lambda x:x//100 if x%100==0 else 1+(x//100) )\n",
    "#df.head(10)\n",
    "df['century'].nunique()\n"
   ]
  },
  {
   "cell_type": "code",
   "execution_count": 560,
   "metadata": {},
   "outputs": [
    {
     "name": "stdout",
     "output_type": "stream",
     "text": [
      "<class 'pandas.core.frame.DataFrame'>\n",
      "Index: 10063 entries, 0 to 10062\n",
      "Data columns (total 15 columns):\n",
      " #   Column              Non-Null Count  Dtype  \n",
      "---  ------              --------------  -----  \n",
      " 0   title               10063 non-null  object \n",
      " 1   authors             10063 non-null  object \n",
      " 2   average_rating      8591 non-null   float64\n",
      " 3   language_code       10063 non-null  object \n",
      " 4   num_pages           8379 non-null   float64\n",
      " 5   ratings_count       10063 non-null  int64  \n",
      " 6   text_reviews_count  10063 non-null  int64  \n",
      " 7   publication_date    10063 non-null  object \n",
      " 8   publisher           9508 non-null   object \n",
      " 9   title_ser           10063 non-null  object \n",
      " 10  num_in_ser          10063 non-null  int64  \n",
      " 11  month               10063 non-null  int64  \n",
      " 12  day                 10063 non-null  int64  \n",
      " 13  year                10063 non-null  int64  \n",
      " 14  century             10063 non-null  int64  \n",
      "dtypes: float64(2), int64(7), object(6)\n",
      "memory usage: 1.5+ MB\n"
     ]
    }
   ],
   "source": [
    "df.info()"
   ]
  },
  {
   "cell_type": "code",
   "execution_count": 561,
   "metadata": {},
   "outputs": [
    {
     "data": {
      "text/plain": [
       "6439"
      ]
     },
     "execution_count": 561,
     "metadata": {},
     "output_type": "execute_result"
    }
   ],
   "source": [
    "df[   (df['century'] == 21) ].shape[0]\n"
   ]
  },
  {
   "cell_type": "code",
   "execution_count": 562,
   "metadata": {},
   "outputs": [
    {
     "data": {
      "text/plain": [
       "1"
      ]
     },
     "execution_count": 562,
     "metadata": {},
     "output_type": "execute_result"
    }
   ],
   "source": [
    "df[   (df['century'] == 19) ].shape[0]"
   ]
  },
  {
   "cell_type": "code",
   "execution_count": 563,
   "metadata": {},
   "outputs": [
    {
     "data": {
      "text/plain": [
       "3623"
      ]
     },
     "execution_count": 563,
     "metadata": {},
     "output_type": "execute_result"
    }
   ],
   "source": [
    "df[   (df['century'] == 20) ].shape[0]"
   ]
  },
  {
   "cell_type": "code",
   "execution_count": 564,
   "metadata": {},
   "outputs": [
    {
     "data": {
      "text/plain": [
       "6440"
      ]
     },
     "execution_count": 564,
     "metadata": {},
     "output_type": "execute_result"
    }
   ],
   "source": [
    "df[   (df['century'] == 21)  | (df['century'] == 19) ].shape[0]"
   ]
  },
  {
   "cell_type": "markdown",
   "metadata": {},
   "source": [
    "## 3\n",
    "\n",
    "При помощи анонимной функции создайте новый признак num_coauthors, который будет содержать количество соавторов каждой книги.\n",
    "\n",
    "Пример:\n",
    "\n",
    "authors\n",
    "num_coauthors\n",
    "Автор 1\t1\n",
    "Автор 1/Автор 2\t2\n",
    "Автор 1/Автор 2/Автор 3\t3\n"
   ]
  },
  {
   "cell_type": "code",
   "execution_count": 565,
   "metadata": {},
   "outputs": [
    {
     "name": "stdout",
     "output_type": "stream",
     "text": [
      "<class 'pandas.core.frame.DataFrame'>\n",
      "Index: 10063 entries, 0 to 10062\n",
      "Data columns (total 16 columns):\n",
      " #   Column              Non-Null Count  Dtype  \n",
      "---  ------              --------------  -----  \n",
      " 0   title               10063 non-null  object \n",
      " 1   authors             10063 non-null  object \n",
      " 2   average_rating      8591 non-null   float64\n",
      " 3   language_code       10063 non-null  object \n",
      " 4   num_pages           8379 non-null   float64\n",
      " 5   ratings_count       10063 non-null  int64  \n",
      " 6   text_reviews_count  10063 non-null  int64  \n",
      " 7   publication_date    10063 non-null  object \n",
      " 8   publisher           9508 non-null   object \n",
      " 9   title_ser           10063 non-null  object \n",
      " 10  num_in_ser          10063 non-null  int64  \n",
      " 11  month               10063 non-null  int64  \n",
      " 12  day                 10063 non-null  int64  \n",
      " 13  year                10063 non-null  int64  \n",
      " 14  century             10063 non-null  int64  \n",
      " 15  num_coauthors       10063 non-null  int64  \n",
      "dtypes: float64(2), int64(8), object(6)\n",
      "memory usage: 1.6+ MB\n"
     ]
    }
   ],
   "source": [
    "df[\"num_coauthors\"] = df[\"authors\"].apply(lambda x:x.count('/')+1 )\n",
    "df[\"num_coauthors\"]\n",
    "df[\"num_coauthors\"].nunique()\n",
    "df.info()\n"
   ]
  },
  {
   "cell_type": "markdown",
   "metadata": {},
   "source": [
    "Укажите индекс книги, у которой 6 авторов и наибольшее количество пользовательских оценок."
   ]
  },
  {
   "cell_type": "code",
   "execution_count": 566,
   "metadata": {},
   "outputs": [
    {
     "data": {
      "text/plain": [
       "50"
      ]
     },
     "execution_count": 566,
     "metadata": {},
     "output_type": "execute_result"
    }
   ],
   "source": [
    "df[   (df['num_coauthors'] == 6) ].shape[0]"
   ]
  },
  {
   "cell_type": "code",
   "execution_count": 567,
   "metadata": {},
   "outputs": [
    {
     "data": {
      "text/html": [
       "<div>\n",
       "<style scoped>\n",
       "    .dataframe tbody tr th:only-of-type {\n",
       "        vertical-align: middle;\n",
       "    }\n",
       "\n",
       "    .dataframe tbody tr th {\n",
       "        vertical-align: top;\n",
       "    }\n",
       "\n",
       "    .dataframe thead th {\n",
       "        text-align: right;\n",
       "    }\n",
       "</style>\n",
       "<table border=\"1\" class=\"dataframe\">\n",
       "  <thead>\n",
       "    <tr style=\"text-align: right;\">\n",
       "      <th></th>\n",
       "      <th>title</th>\n",
       "      <th>authors</th>\n",
       "      <th>average_rating</th>\n",
       "      <th>language_code</th>\n",
       "      <th>num_pages</th>\n",
       "      <th>ratings_count</th>\n",
       "      <th>text_reviews_count</th>\n",
       "      <th>publication_date</th>\n",
       "      <th>publisher</th>\n",
       "      <th>title_ser</th>\n",
       "      <th>num_in_ser</th>\n",
       "      <th>month</th>\n",
       "      <th>day</th>\n",
       "      <th>year</th>\n",
       "      <th>century</th>\n",
       "      <th>num_coauthors</th>\n",
       "    </tr>\n",
       "  </thead>\n",
       "  <tbody>\n",
       "    <tr>\n",
       "      <th>598</th>\n",
       "      <td>Persuasio</td>\n",
       "      <td>Jane Austen/James Kinsley/Anna Massey/Richard ...</td>\n",
       "      <td>4.14</td>\n",
       "      <td>eng</td>\n",
       "      <td>249.0</td>\n",
       "      <td>441462</td>\n",
       "      <td>11308</td>\n",
       "      <td>3/18/2004</td>\n",
       "      <td>Oxford University Press</td>\n",
       "      <td>-</td>\n",
       "      <td>0</td>\n",
       "      <td>3</td>\n",
       "      <td>18</td>\n",
       "      <td>2004</td>\n",
       "      <td>21</td>\n",
       "      <td>6</td>\n",
       "    </tr>\n",
       "    <tr>\n",
       "      <th>5675</th>\n",
       "      <td>Preludes &amp; Nocturnes</td>\n",
       "      <td>Neil Gaiman/Sam Kieth/Mike Dringenberg/Malcolm...</td>\n",
       "      <td>4.24</td>\n",
       "      <td>eng</td>\n",
       "      <td>233.0</td>\n",
       "      <td>171841</td>\n",
       "      <td>3781</td>\n",
       "      <td>12/1/1998</td>\n",
       "      <td>Vertigo</td>\n",
       "      <td>The Sandman</td>\n",
       "      <td>1</td>\n",
       "      <td>12</td>\n",
       "      <td>1</td>\n",
       "      <td>1998</td>\n",
       "      <td>20</td>\n",
       "      <td>6</td>\n",
       "    </tr>\n",
       "    <tr>\n",
       "      <th>6041</th>\n",
       "      <td>Dream Country</td>\n",
       "      <td>Neil Gaiman/Kelley Jones/Charles Vess/Colleen ...</td>\n",
       "      <td>4.24</td>\n",
       "      <td>eng</td>\n",
       "      <td>111.0</td>\n",
       "      <td>84421</td>\n",
       "      <td>1201</td>\n",
       "      <td>2/5/1999</td>\n",
       "      <td>DC Comics</td>\n",
       "      <td>The Sandman</td>\n",
       "      <td>3</td>\n",
       "      <td>2</td>\n",
       "      <td>5</td>\n",
       "      <td>1999</td>\n",
       "      <td>20</td>\n",
       "      <td>6</td>\n",
       "    </tr>\n",
       "    <tr>\n",
       "      <th>1448</th>\n",
       "      <td>Anne Frank Beyond the Diary: A Photographic Re...</td>\n",
       "      <td>Ruud van der Rol/Rian Verhoeven/Anna Quindlen/...</td>\n",
       "      <td>NaN</td>\n",
       "      <td>eng</td>\n",
       "      <td>NaN</td>\n",
       "      <td>24181</td>\n",
       "      <td>242</td>\n",
       "      <td>5/1/1995</td>\n",
       "      <td>Puffin Books</td>\n",
       "      <td>-</td>\n",
       "      <td>0</td>\n",
       "      <td>5</td>\n",
       "      <td>1</td>\n",
       "      <td>1995</td>\n",
       "      <td>20</td>\n",
       "      <td>6</td>\n",
       "    </tr>\n",
       "    <tr>\n",
       "      <th>5166</th>\n",
       "      <td>Fables  Vol. 7: Arabian Nights</td>\n",
       "      <td>Bill Willingham/Mark Buckingham/Steve Leialoha...</td>\n",
       "      <td>NaN</td>\n",
       "      <td>eng</td>\n",
       "      <td>143.0</td>\n",
       "      <td>15575</td>\n",
       "      <td>547</td>\n",
       "      <td>7/5/2006</td>\n",
       "      <td>Vertigo</td>\n",
       "      <td>-</td>\n",
       "      <td>0</td>\n",
       "      <td>7</td>\n",
       "      <td>5</td>\n",
       "      <td>2006</td>\n",
       "      <td>21</td>\n",
       "      <td>6</td>\n",
       "    </tr>\n",
       "    <tr>\n",
       "      <th>4446</th>\n",
       "      <td>The Books of Magi</td>\n",
       "      <td>Neil Gaiman/John Bolton/Scott Hampton/Charles ...</td>\n",
       "      <td>4.08</td>\n",
       "      <td>eng</td>\n",
       "      <td>200.0</td>\n",
       "      <td>13850</td>\n",
       "      <td>481</td>\n",
       "      <td>4/14/1993</td>\n",
       "      <td>Vertigo</td>\n",
       "      <td>-</td>\n",
       "      <td>0</td>\n",
       "      <td>4</td>\n",
       "      <td>14</td>\n",
       "      <td>1993</td>\n",
       "      <td>20</td>\n",
       "      <td>6</td>\n",
       "    </tr>\n",
       "    <tr>\n",
       "      <th>9717</th>\n",
       "      <td>Vampire Chronicles: Interview with the Vampire...</td>\n",
       "      <td>Anne Rice/Robert O'Keefe/F. Murray Abraham/Mic...</td>\n",
       "      <td>4.27</td>\n",
       "      <td>eng</td>\n",
       "      <td>NaN</td>\n",
       "      <td>10350</td>\n",
       "      <td>120</td>\n",
       "      <td>11/17/1992</td>\n",
       "      <td>Random House Audio</td>\n",
       "      <td>-</td>\n",
       "      <td>0</td>\n",
       "      <td>11</td>\n",
       "      <td>17</td>\n",
       "      <td>1992</td>\n",
       "      <td>20</td>\n",
       "      <td>6</td>\n",
       "    </tr>\n",
       "    <tr>\n",
       "      <th>5364</th>\n",
       "      <td>Doom Patrol  Vol. 1: Crawling from the Wreckage</td>\n",
       "      <td>Grant Morrison/Richard Case/Doug Braithwaite/S...</td>\n",
       "      <td>4.08</td>\n",
       "      <td>eng</td>\n",
       "      <td>192.0</td>\n",
       "      <td>5447</td>\n",
       "      <td>235</td>\n",
       "      <td>4/17/2000</td>\n",
       "      <td>Vertigo</td>\n",
       "      <td>Doom Patrol</td>\n",
       "      <td>1</td>\n",
       "      <td>4</td>\n",
       "      <td>17</td>\n",
       "      <td>2000</td>\n",
       "      <td>20</td>\n",
       "      <td>6</td>\n",
       "    </tr>\n",
       "    <tr>\n",
       "      <th>7674</th>\n",
       "      <td>On the Shoulders of Giants: The Great Works of...</td>\n",
       "      <td>Stephen Hawking/Isaac Newton/Nicolaus Copernic...</td>\n",
       "      <td>4.20</td>\n",
       "      <td>eng</td>\n",
       "      <td>NaN</td>\n",
       "      <td>4151</td>\n",
       "      <td>33</td>\n",
       "      <td>1/1/2006</td>\n",
       "      <td>Penguin Books</td>\n",
       "      <td>-</td>\n",
       "      <td>0</td>\n",
       "      <td>1</td>\n",
       "      <td>1</td>\n",
       "      <td>2006</td>\n",
       "      <td>21</td>\n",
       "      <td>6</td>\n",
       "    </tr>\n",
       "    <tr>\n",
       "      <th>390</th>\n",
       "      <td>Euripides V: Electra / The Phoenician Women / ...</td>\n",
       "      <td>Euripides/David Grene/Richmond Lattimore/Emily...</td>\n",
       "      <td>4.21</td>\n",
       "      <td>eng</td>\n",
       "      <td>228.0</td>\n",
       "      <td>3334</td>\n",
       "      <td>46</td>\n",
       "      <td>1/15/1969</td>\n",
       "      <td>University of Chicago Press</td>\n",
       "      <td>-</td>\n",
       "      <td>0</td>\n",
       "      <td>1</td>\n",
       "      <td>15</td>\n",
       "      <td>1969</td>\n",
       "      <td>20</td>\n",
       "      <td>6</td>\n",
       "    </tr>\n",
       "    <tr>\n",
       "      <th>9707</th>\n",
       "      <td>Hellblazer: Setting Su</td>\n",
       "      <td>Warren Ellis/Frank Teran/Tim Bradstreet/Javier...</td>\n",
       "      <td>NaN</td>\n",
       "      <td>other</td>\n",
       "      <td>NaN</td>\n",
       "      <td>2583</td>\n",
       "      <td>35</td>\n",
       "      <td>10/1/2004</td>\n",
       "      <td>Vertigo</td>\n",
       "      <td>-</td>\n",
       "      <td>0</td>\n",
       "      <td>10</td>\n",
       "      <td>1</td>\n",
       "      <td>2004</td>\n",
       "      <td>21</td>\n",
       "      <td>6</td>\n",
       "    </tr>\n",
       "    <tr>\n",
       "      <th>3477</th>\n",
       "      <td>The Twelve Kingdoms: Sea of Shadow</td>\n",
       "      <td>Fuyumi Ono/小野 不由美/Akihiro Yamada/山田 章博/Elye J....</td>\n",
       "      <td>4.20</td>\n",
       "      <td>other</td>\n",
       "      <td>NaN</td>\n",
       "      <td>2504</td>\n",
       "      <td>172</td>\n",
       "      <td>3/13/2007</td>\n",
       "      <td>TokyoPop</td>\n",
       "      <td>The Twelve Kingdoms</td>\n",
       "      <td>1</td>\n",
       "      <td>3</td>\n",
       "      <td>13</td>\n",
       "      <td>2007</td>\n",
       "      <td>21</td>\n",
       "      <td>6</td>\n",
       "    </tr>\n",
       "    <tr>\n",
       "      <th>4175</th>\n",
       "      <td>Doyle Brunson's Super Syste</td>\n",
       "      <td>Doyle Brunson/Mike Caro/David  Reese/Joey Hawt...</td>\n",
       "      <td>3.94</td>\n",
       "      <td>eng</td>\n",
       "      <td>NaN</td>\n",
       "      <td>2080</td>\n",
       "      <td>73</td>\n",
       "      <td>12/31/2002</td>\n",
       "      <td>Cardoza</td>\n",
       "      <td>-</td>\n",
       "      <td>0</td>\n",
       "      <td>12</td>\n",
       "      <td>31</td>\n",
       "      <td>2002</td>\n",
       "      <td>21</td>\n",
       "      <td>6</td>\n",
       "    </tr>\n",
       "    <tr>\n",
       "      <th>1590</th>\n",
       "      <td>The Lives of Animal</td>\n",
       "      <td>J.M. Coetzee/Amy Gutmann/Peter Singer/Wendy Do...</td>\n",
       "      <td>NaN</td>\n",
       "      <td>eng</td>\n",
       "      <td>136.0</td>\n",
       "      <td>1930</td>\n",
       "      <td>139</td>\n",
       "      <td>5/6/2001</td>\n",
       "      <td>Princeton University Press</td>\n",
       "      <td>-</td>\n",
       "      <td>0</td>\n",
       "      <td>5</td>\n",
       "      <td>6</td>\n",
       "      <td>2001</td>\n",
       "      <td>21</td>\n",
       "      <td>6</td>\n",
       "    </tr>\n",
       "    <tr>\n",
       "      <th>5669</th>\n",
       "      <td>Nausicaä of the Valley of the Wind  Vol. 5</td>\n",
       "      <td>Hayao Miyazaki/Matt Thorn/Kaori Inoue/Joe Yama...</td>\n",
       "      <td>NaN</td>\n",
       "      <td>eng</td>\n",
       "      <td>151.0</td>\n",
       "      <td>1904</td>\n",
       "      <td>28</td>\n",
       "      <td>6/30/2004</td>\n",
       "      <td>VIZ Media</td>\n",
       "      <td>Nausicaä of the Valley of the Wind</td>\n",
       "      <td>5</td>\n",
       "      <td>6</td>\n",
       "      <td>30</td>\n",
       "      <td>2004</td>\n",
       "      <td>21</td>\n",
       "      <td>6</td>\n",
       "    </tr>\n",
       "    <tr>\n",
       "      <th>5668</th>\n",
       "      <td>Nausicaä of the Valley of the Wind  Vol. 6</td>\n",
       "      <td>Hayao Miyazaki/Matt Thorn/Kaori Inoue/Joe Yama...</td>\n",
       "      <td>4.62</td>\n",
       "      <td>eng</td>\n",
       "      <td>159.0</td>\n",
       "      <td>1776</td>\n",
       "      <td>33</td>\n",
       "      <td>8/10/2004</td>\n",
       "      <td>VIZ Media</td>\n",
       "      <td>Nausicaä of the Valley of the Wind</td>\n",
       "      <td>6</td>\n",
       "      <td>8</td>\n",
       "      <td>10</td>\n",
       "      <td>2004</td>\n",
       "      <td>21</td>\n",
       "      <td>6</td>\n",
       "    </tr>\n",
       "    <tr>\n",
       "      <th>5670</th>\n",
       "      <td>Nausicaä of the Valley of the Wind  Vol. 7</td>\n",
       "      <td>Hayao Miyazaki/Matt Thorn/Kaori Inoue/Joe Yama...</td>\n",
       "      <td>4.61</td>\n",
       "      <td>eng</td>\n",
       "      <td>NaN</td>\n",
       "      <td>1716</td>\n",
       "      <td>79</td>\n",
       "      <td>9/7/2004</td>\n",
       "      <td>VIZ Media</td>\n",
       "      <td>Nausicaä of the Valley of the Wind</td>\n",
       "      <td>7</td>\n",
       "      <td>9</td>\n",
       "      <td>7</td>\n",
       "      <td>2004</td>\n",
       "      <td>21</td>\n",
       "      <td>6</td>\n",
       "    </tr>\n",
       "    <tr>\n",
       "      <th>19</th>\n",
       "      <td>Agile Web Development with Rails: A Pragmatic ...</td>\n",
       "      <td>Dave Thomas/David Heinemeier Hansson/Leon Bree...</td>\n",
       "      <td>3.84</td>\n",
       "      <td>eng</td>\n",
       "      <td>558.0</td>\n",
       "      <td>1430</td>\n",
       "      <td>59</td>\n",
       "      <td>7/28/2005</td>\n",
       "      <td>Pragmatic Bookshelf</td>\n",
       "      <td>-</td>\n",
       "      <td>0</td>\n",
       "      <td>7</td>\n",
       "      <td>28</td>\n",
       "      <td>2005</td>\n",
       "      <td>21</td>\n",
       "      <td>6</td>\n",
       "    </tr>\n",
       "    <tr>\n",
       "      <th>5865</th>\n",
       "      <td>The Complete Monty Python's Flying Circus: All...</td>\n",
       "      <td>Graham Chapman/John Cleese/Terry Gilliam/Eric ...</td>\n",
       "      <td>4.44</td>\n",
       "      <td>eng</td>\n",
       "      <td>384.0</td>\n",
       "      <td>1212</td>\n",
       "      <td>18</td>\n",
       "      <td>11/12/1989</td>\n",
       "      <td>Pantheon</td>\n",
       "      <td>-</td>\n",
       "      <td>0</td>\n",
       "      <td>11</td>\n",
       "      <td>12</td>\n",
       "      <td>1989</td>\n",
       "      <td>20</td>\n",
       "      <td>6</td>\n",
       "    </tr>\n",
       "    <tr>\n",
       "      <th>3344</th>\n",
       "      <td>The Ode</td>\n",
       "      <td>Pindar/Cecil Maurice Bowra/Daniel C. Snell/Daw...</td>\n",
       "      <td>3.89</td>\n",
       "      <td>eng</td>\n",
       "      <td>256.0</td>\n",
       "      <td>1052</td>\n",
       "      <td>23</td>\n",
       "      <td>9/30/1982</td>\n",
       "      <td>Penguin Books</td>\n",
       "      <td>-</td>\n",
       "      <td>0</td>\n",
       "      <td>9</td>\n",
       "      <td>30</td>\n",
       "      <td>1982</td>\n",
       "      <td>20</td>\n",
       "      <td>6</td>\n",
       "    </tr>\n",
       "    <tr>\n",
       "      <th>6473</th>\n",
       "      <td>The Marvel Encyclopedi</td>\n",
       "      <td>Tom DeFalco/Peter Sanderson/Michael Teitelbaum...</td>\n",
       "      <td>4.37</td>\n",
       "      <td>eng</td>\n",
       "      <td>352.0</td>\n",
       "      <td>1049</td>\n",
       "      <td>43</td>\n",
       "      <td>10/16/2006</td>\n",
       "      <td>DK</td>\n",
       "      <td>-</td>\n",
       "      <td>0</td>\n",
       "      <td>10</td>\n",
       "      <td>16</td>\n",
       "      <td>2006</td>\n",
       "      <td>21</td>\n",
       "      <td>6</td>\n",
       "    </tr>\n",
       "    <tr>\n",
       "      <th>8952</th>\n",
       "      <td>Beach Blanket Bad Boy</td>\n",
       "      <td>Linda Lael Miller/Alison Kent/Lucy Monroe/Jill...</td>\n",
       "      <td>3.89</td>\n",
       "      <td>eng</td>\n",
       "      <td>352.0</td>\n",
       "      <td>1031</td>\n",
       "      <td>27</td>\n",
       "      <td>6/7/2005</td>\n",
       "      <td>Kensington</td>\n",
       "      <td>-</td>\n",
       "      <td>0</td>\n",
       "      <td>6</td>\n",
       "      <td>7</td>\n",
       "      <td>2005</td>\n",
       "      <td>21</td>\n",
       "      <td>6</td>\n",
       "    </tr>\n",
       "    <tr>\n",
       "      <th>6762</th>\n",
       "      <td>The Dragon Quinte</td>\n",
       "      <td>Marvin Kaye/Michael Swanwick/Orson Scott Card/...</td>\n",
       "      <td>NaN</td>\n",
       "      <td>other</td>\n",
       "      <td>304.0</td>\n",
       "      <td>573</td>\n",
       "      <td>39</td>\n",
       "      <td>5/2/2006</td>\n",
       "      <td>Tor Fantasy</td>\n",
       "      <td>-</td>\n",
       "      <td>0</td>\n",
       "      <td>5</td>\n",
       "      <td>2</td>\n",
       "      <td>2006</td>\n",
       "      <td>21</td>\n",
       "      <td>6</td>\n",
       "    </tr>\n",
       "    <tr>\n",
       "      <th>391</th>\n",
       "      <td>Euripides IV: Rhesus / The Suppliant Women / O...</td>\n",
       "      <td>Euripides/David Grene/Richmond Lattimore/Willi...</td>\n",
       "      <td>4.21</td>\n",
       "      <td>eng</td>\n",
       "      <td>NaN</td>\n",
       "      <td>560</td>\n",
       "      <td>8</td>\n",
       "      <td>11/15/1968</td>\n",
       "      <td>University of Chicago Press</td>\n",
       "      <td>-</td>\n",
       "      <td>0</td>\n",
       "      <td>11</td>\n",
       "      <td>15</td>\n",
       "      <td>1968</td>\n",
       "      <td>20</td>\n",
       "      <td>6</td>\n",
       "    </tr>\n",
       "    <tr>\n",
       "      <th>394</th>\n",
       "      <td>Euripides III: Hecuba / Andromache / The Troja...</td>\n",
       "      <td>Euripides/David Grene/Richmond Lattimore/Willi...</td>\n",
       "      <td>4.00</td>\n",
       "      <td>eng</td>\n",
       "      <td>255.0</td>\n",
       "      <td>541</td>\n",
       "      <td>15</td>\n",
       "      <td>1/15/1992</td>\n",
       "      <td>University of Chicago Press</td>\n",
       "      <td>Complete Greek Tragedies</td>\n",
       "      <td>7</td>\n",
       "      <td>1</td>\n",
       "      <td>15</td>\n",
       "      <td>1992</td>\n",
       "      <td>20</td>\n",
       "      <td>6</td>\n",
       "    </tr>\n",
       "    <tr>\n",
       "      <th>2983</th>\n",
       "      <td>Crime Novels: American Noir of the 1950</td>\n",
       "      <td>Robert Polito/Jim Thompson/Patricia Highsmith/...</td>\n",
       "      <td>4.37</td>\n",
       "      <td>eng</td>\n",
       "      <td>892.0</td>\n",
       "      <td>420</td>\n",
       "      <td>34</td>\n",
       "      <td>9/1/1997</td>\n",
       "      <td>Library of America</td>\n",
       "      <td>-</td>\n",
       "      <td>0</td>\n",
       "      <td>9</td>\n",
       "      <td>1</td>\n",
       "      <td>1997</td>\n",
       "      <td>20</td>\n",
       "      <td>6</td>\n",
       "    </tr>\n",
       "    <tr>\n",
       "      <th>9736</th>\n",
       "      <td>The Wood Boy / The Burning Ma</td>\n",
       "      <td>Raymond E. Feist/Tad Williams/Mat Broome/Robin...</td>\n",
       "      <td>3.63</td>\n",
       "      <td>eng</td>\n",
       "      <td>144.0</td>\n",
       "      <td>363</td>\n",
       "      <td>13</td>\n",
       "      <td>12/21/2005</td>\n",
       "      <td>Dabel Brothers Publishing</td>\n",
       "      <td>-</td>\n",
       "      <td>0</td>\n",
       "      <td>12</td>\n",
       "      <td>21</td>\n",
       "      <td>2005</td>\n",
       "      <td>21</td>\n",
       "      <td>6</td>\n",
       "    </tr>\n",
       "    <tr>\n",
       "      <th>7450</th>\n",
       "      <td>Star Wars Omnibus: X-Wing Rogue Squadron  Vol.</td>\n",
       "      <td>Michael A. Stackpole/Jan Strnad/Ryder Windham/...</td>\n",
       "      <td>3.88</td>\n",
       "      <td>eng</td>\n",
       "      <td>288.0</td>\n",
       "      <td>325</td>\n",
       "      <td>12</td>\n",
       "      <td>10/24/2006</td>\n",
       "      <td>Dark Horse Comics</td>\n",
       "      <td>-</td>\n",
       "      <td>0</td>\n",
       "      <td>10</td>\n",
       "      <td>24</td>\n",
       "      <td>2006</td>\n",
       "      <td>21</td>\n",
       "      <td>6</td>\n",
       "    </tr>\n",
       "    <tr>\n",
       "      <th>7188</th>\n",
       "      <td>The Communist Manifesto and Other Revolutionar...</td>\n",
       "      <td>Bob Blaisdell/Karl Marx/Jean-Paul Marat/Tom Pa...</td>\n",
       "      <td>NaN</td>\n",
       "      <td>eng</td>\n",
       "      <td>284.0</td>\n",
       "      <td>311</td>\n",
       "      <td>18</td>\n",
       "      <td>1/15/2003</td>\n",
       "      <td>Dover Publications</td>\n",
       "      <td>-</td>\n",
       "      <td>0</td>\n",
       "      <td>1</td>\n",
       "      <td>15</td>\n",
       "      <td>2003</td>\n",
       "      <td>21</td>\n",
       "      <td>6</td>\n",
       "    </tr>\n",
       "    <tr>\n",
       "      <th>5879</th>\n",
       "      <td>The Writer of Modern Life: Essays on Charles B...</td>\n",
       "      <td>Walter Benjamin/Michael W. Jennings/Rodney Liv...</td>\n",
       "      <td>4.30</td>\n",
       "      <td>eng</td>\n",
       "      <td>307.0</td>\n",
       "      <td>267</td>\n",
       "      <td>4</td>\n",
       "      <td>11/1/2006</td>\n",
       "      <td>Belknap Press</td>\n",
       "      <td>-</td>\n",
       "      <td>0</td>\n",
       "      <td>11</td>\n",
       "      <td>1</td>\n",
       "      <td>2006</td>\n",
       "      <td>21</td>\n",
       "      <td>6</td>\n",
       "    </tr>\n",
       "    <tr>\n",
       "      <th>578</th>\n",
       "      <td>The Future of Spacetim</td>\n",
       "      <td>Stephen Hawking/Kip S. Thorne/Igor Novikov/Tim...</td>\n",
       "      <td>3.94</td>\n",
       "      <td>eng</td>\n",
       "      <td>NaN</td>\n",
       "      <td>257</td>\n",
       "      <td>10</td>\n",
       "      <td>6/17/2003</td>\n",
       "      <td>W. W. Norton  Company</td>\n",
       "      <td>-</td>\n",
       "      <td>0</td>\n",
       "      <td>6</td>\n",
       "      <td>17</td>\n",
       "      <td>2003</td>\n",
       "      <td>21</td>\n",
       "      <td>6</td>\n",
       "    </tr>\n",
       "    <tr>\n",
       "      <th>4823</th>\n",
       "      <td>The Scarlet Letter and Other Writing</td>\n",
       "      <td>Nathaniel Hawthorne/Eugene Hudson Long/Seymour...</td>\n",
       "      <td>3.59</td>\n",
       "      <td>eng</td>\n",
       "      <td>443.0</td>\n",
       "      <td>237</td>\n",
       "      <td>17</td>\n",
       "      <td>2/1/1978</td>\n",
       "      <td>W. W. Norton &amp; Company</td>\n",
       "      <td>-</td>\n",
       "      <td>0</td>\n",
       "      <td>2</td>\n",
       "      <td>1</td>\n",
       "      <td>1978</td>\n",
       "      <td>20</td>\n",
       "      <td>6</td>\n",
       "    </tr>\n",
       "    <tr>\n",
       "      <th>8682</th>\n",
       "      <td>Introduction to Superstrings and M-Theor</td>\n",
       "      <td>Michio Kaku/Joseph L. Birman/H. Eugene Stanley...</td>\n",
       "      <td>4.27</td>\n",
       "      <td>eng</td>\n",
       "      <td>587.0</td>\n",
       "      <td>216</td>\n",
       "      <td>2</td>\n",
       "      <td>7/30/1999</td>\n",
       "      <td>Springer</td>\n",
       "      <td>-</td>\n",
       "      <td>0</td>\n",
       "      <td>7</td>\n",
       "      <td>30</td>\n",
       "      <td>1999</td>\n",
       "      <td>20</td>\n",
       "      <td>6</td>\n",
       "    </tr>\n",
       "    <tr>\n",
       "      <th>9757</th>\n",
       "      <td>The Church in Emerging Culture: Five Perspective</td>\n",
       "      <td>Leonard Sweet/Brian D. McLaren/Erwin Raphael M...</td>\n",
       "      <td>3.36</td>\n",
       "      <td>eng</td>\n",
       "      <td>272.0</td>\n",
       "      <td>190</td>\n",
       "      <td>6</td>\n",
       "      <td>10/19/2003</td>\n",
       "      <td>Zondervan</td>\n",
       "      <td>-</td>\n",
       "      <td>0</td>\n",
       "      <td>10</td>\n",
       "      <td>19</td>\n",
       "      <td>2003</td>\n",
       "      <td>21</td>\n",
       "      <td>6</td>\n",
       "    </tr>\n",
       "    <tr>\n",
       "      <th>5275</th>\n",
       "      <td>On the Road to Perdition — Oasis  Sanctuary  a...</td>\n",
       "      <td>Max Allan Collins/José Luis García-López/Steve...</td>\n",
       "      <td>3.66</td>\n",
       "      <td>eng</td>\n",
       "      <td>294.0</td>\n",
       "      <td>168</td>\n",
       "      <td>14</td>\n",
       "      <td>12/1/2004</td>\n",
       "      <td>DC Comics</td>\n",
       "      <td>Road to Perdition</td>\n",
       "      <td>2</td>\n",
       "      <td>12</td>\n",
       "      <td>1</td>\n",
       "      <td>2004</td>\n",
       "      <td>21</td>\n",
       "      <td>6</td>\n",
       "    </tr>\n",
       "    <tr>\n",
       "      <th>8187</th>\n",
       "      <td>Star Wars Complete Location</td>\n",
       "      <td>James Luceno/Kerrie Dougherty/Simon Beecroft/K...</td>\n",
       "      <td>4.31</td>\n",
       "      <td>eng</td>\n",
       "      <td>175.0</td>\n",
       "      <td>141</td>\n",
       "      <td>9</td>\n",
       "      <td>12/31/2005</td>\n",
       "      <td>DK Publishing (Dorling Kindersley)</td>\n",
       "      <td>-</td>\n",
       "      <td>0</td>\n",
       "      <td>12</td>\n",
       "      <td>31</td>\n",
       "      <td>2005</td>\n",
       "      <td>21</td>\n",
       "      <td>6</td>\n",
       "    </tr>\n",
       "    <tr>\n",
       "      <th>4284</th>\n",
       "      <td>Superman: Back in Actio</td>\n",
       "      <td>Kurt Busiek/Fabian Nicieiza/Len Wein/Gerry Con...</td>\n",
       "      <td>3.21</td>\n",
       "      <td>other</td>\n",
       "      <td>144.0</td>\n",
       "      <td>140</td>\n",
       "      <td>12</td>\n",
       "      <td>1/31/2007</td>\n",
       "      <td>DC Comics</td>\n",
       "      <td>-</td>\n",
       "      <td>0</td>\n",
       "      <td>1</td>\n",
       "      <td>31</td>\n",
       "      <td>2007</td>\n",
       "      <td>21</td>\n",
       "      <td>6</td>\n",
       "    </tr>\n",
       "    <tr>\n",
       "      <th>8123</th>\n",
       "      <td>Ellora's Cavemen: Dreams of the Oasis Volume I</td>\n",
       "      <td>Sylvia Day/B.J. McCall/Sahara Kelly/Elisa Adam...</td>\n",
       "      <td>3.63</td>\n",
       "      <td>eng</td>\n",
       "      <td>272.0</td>\n",
       "      <td>131</td>\n",
       "      <td>8</td>\n",
       "      <td>10/1/2005</td>\n",
       "      <td>Ellora's Cave</td>\n",
       "      <td>-</td>\n",
       "      <td>0</td>\n",
       "      <td>10</td>\n",
       "      <td>1</td>\n",
       "      <td>2005</td>\n",
       "      <td>21</td>\n",
       "      <td>6</td>\n",
       "    </tr>\n",
       "    <tr>\n",
       "      <th>6161</th>\n",
       "      <td>Agricola / Germania / Dialogue on Orator</td>\n",
       "      <td>Tacitus/Maurice Hutton/Robert Maxwell Ogilvie/...</td>\n",
       "      <td>3.95</td>\n",
       "      <td>other</td>\n",
       "      <td>384.0</td>\n",
       "      <td>87</td>\n",
       "      <td>7</td>\n",
       "      <td>1/1/1914</td>\n",
       "      <td>Harvard University Press</td>\n",
       "      <td>-</td>\n",
       "      <td>0</td>\n",
       "      <td>1</td>\n",
       "      <td>1</td>\n",
       "      <td>1914</td>\n",
       "      <td>20</td>\n",
       "      <td>6</td>\n",
       "    </tr>\n",
       "    <tr>\n",
       "      <th>5276</th>\n",
       "      <td>Oasis</td>\n",
       "      <td>Max Allan Collins/Steve Lieber/Josef Rubinstei...</td>\n",
       "      <td>NaN</td>\n",
       "      <td>eng</td>\n",
       "      <td>96.0</td>\n",
       "      <td>76</td>\n",
       "      <td>5</td>\n",
       "      <td>5/1/2003</td>\n",
       "      <td>DC Comics</td>\n",
       "      <td>On the Road to Perdition</td>\n",
       "      <td>1</td>\n",
       "      <td>5</td>\n",
       "      <td>1</td>\n",
       "      <td>2003</td>\n",
       "      <td>21</td>\n",
       "      <td>6</td>\n",
       "    </tr>\n",
       "    <tr>\n",
       "      <th>1959</th>\n",
       "      <td>Cattus Petasatus: The Cat in the Hat in Lati</td>\n",
       "      <td>Dr. Seuss/Jennifer Morrish Tunberg/Terence Tun...</td>\n",
       "      <td>4.17</td>\n",
       "      <td>other</td>\n",
       "      <td>75.0</td>\n",
       "      <td>63</td>\n",
       "      <td>9</td>\n",
       "      <td>5/6/2005</td>\n",
       "      <td>Bolchazy-Carducci Publishers</td>\n",
       "      <td>-</td>\n",
       "      <td>0</td>\n",
       "      <td>5</td>\n",
       "      <td>6</td>\n",
       "      <td>2005</td>\n",
       "      <td>21</td>\n",
       "      <td>6</td>\n",
       "    </tr>\n",
       "    <tr>\n",
       "      <th>3265</th>\n",
       "      <td>The Social Contract and The First and Second D...</td>\n",
       "      <td>Jean-Jacques Rousseau/Susan Dunn/Gita May/Robe...</td>\n",
       "      <td>3.83</td>\n",
       "      <td>eng</td>\n",
       "      <td>328.0</td>\n",
       "      <td>63</td>\n",
       "      <td>2</td>\n",
       "      <td>2/8/2002</td>\n",
       "      <td>Yale University Press</td>\n",
       "      <td>-</td>\n",
       "      <td>0</td>\n",
       "      <td>2</td>\n",
       "      <td>8</td>\n",
       "      <td>2002</td>\n",
       "      <td>21</td>\n",
       "      <td>6</td>\n",
       "    </tr>\n",
       "    <tr>\n",
       "      <th>1743</th>\n",
       "      <td>Welcome to the Monkey Hous</td>\n",
       "      <td>Kurt Vonnegut Jr./David Strathairn/Maria Tucci...</td>\n",
       "      <td>4.15</td>\n",
       "      <td>other</td>\n",
       "      <td>9.0</td>\n",
       "      <td>61</td>\n",
       "      <td>11</td>\n",
       "      <td>5/23/2006</td>\n",
       "      <td>Caedmon</td>\n",
       "      <td>-</td>\n",
       "      <td>0</td>\n",
       "      <td>5</td>\n",
       "      <td>23</td>\n",
       "      <td>2006</td>\n",
       "      <td>21</td>\n",
       "      <td>6</td>\n",
       "    </tr>\n",
       "    <tr>\n",
       "      <th>9415</th>\n",
       "      <td>Life Is a Dream and Other Spanish Classics</td>\n",
       "      <td>Pedro Calderón de la Barca/Miguel de Cervantes...</td>\n",
       "      <td>3.81</td>\n",
       "      <td>eng</td>\n",
       "      <td>298.0</td>\n",
       "      <td>61</td>\n",
       "      <td>4</td>\n",
       "      <td>4/1/2000</td>\n",
       "      <td>Applause Theatre &amp; Cinema Book Publishers</td>\n",
       "      <td>-</td>\n",
       "      <td>0</td>\n",
       "      <td>4</td>\n",
       "      <td>1</td>\n",
       "      <td>2000</td>\n",
       "      <td>20</td>\n",
       "      <td>6</td>\n",
       "    </tr>\n",
       "    <tr>\n",
       "      <th>6707</th>\n",
       "      <td>Realms of Dragons: The Universes of Margaret W...</td>\n",
       "      <td>Denise Little/J. Robert King/Margaret Weis/Tra...</td>\n",
       "      <td>4.06</td>\n",
       "      <td>other</td>\n",
       "      <td>218.0</td>\n",
       "      <td>49</td>\n",
       "      <td>0</td>\n",
       "      <td>10/1/1999</td>\n",
       "      <td>HarperCollins Publishers</td>\n",
       "      <td>-</td>\n",
       "      <td>0</td>\n",
       "      <td>10</td>\n",
       "      <td>1</td>\n",
       "      <td>1999</td>\n",
       "      <td>20</td>\n",
       "      <td>6</td>\n",
       "    </tr>\n",
       "    <tr>\n",
       "      <th>7374</th>\n",
       "      <td>A Pocket Full of Rye: A BBC Radio 4 Full-Cast ...</td>\n",
       "      <td>Agatha Christie/Michael Bakewell/June Whitfiel...</td>\n",
       "      <td>3.86</td>\n",
       "      <td>eng</td>\n",
       "      <td>2.0</td>\n",
       "      <td>38</td>\n",
       "      <td>3</td>\n",
       "      <td>4/1/2014</td>\n",
       "      <td>Blackstone Audiobooks</td>\n",
       "      <td>-</td>\n",
       "      <td>0</td>\n",
       "      <td>4</td>\n",
       "      <td>1</td>\n",
       "      <td>2014</td>\n",
       "      <td>21</td>\n",
       "      <td>6</td>\n",
       "    </tr>\n",
       "    <tr>\n",
       "      <th>8287</th>\n",
       "      <td>The Sgt. Rock Archives  Vol.</td>\n",
       "      <td>Robert Kanigher/Joe Kubert/Russ Heath/Mark Chi...</td>\n",
       "      <td>4.47</td>\n",
       "      <td>eng</td>\n",
       "      <td>224.0</td>\n",
       "      <td>19</td>\n",
       "      <td>2</td>\n",
       "      <td>8/1/2005</td>\n",
       "      <td>NaN</td>\n",
       "      <td>-</td>\n",
       "      <td>0</td>\n",
       "      <td>8</td>\n",
       "      <td>1</td>\n",
       "      <td>2005</td>\n",
       "      <td>21</td>\n",
       "      <td>6</td>\n",
       "    </tr>\n",
       "    <tr>\n",
       "      <th>7932</th>\n",
       "      <td>Swimming Upstream: Collaborative Approaches to...</td>\n",
       "      <td>Paul A. Sabatier/Will Focht/Mark Lubell/Zev Tr...</td>\n",
       "      <td>3.21</td>\n",
       "      <td>eng</td>\n",
       "      <td>344.0</td>\n",
       "      <td>13</td>\n",
       "      <td>1</td>\n",
       "      <td>4/29/2005</td>\n",
       "      <td>The MIT Press</td>\n",
       "      <td>-</td>\n",
       "      <td>0</td>\n",
       "      <td>4</td>\n",
       "      <td>29</td>\n",
       "      <td>2005</td>\n",
       "      <td>21</td>\n",
       "      <td>6</td>\n",
       "    </tr>\n",
       "    <tr>\n",
       "      <th>6547</th>\n",
       "      <td>Anesthesiology Revie</td>\n",
       "      <td>Ronald J. Faust/Roy F. Cucchiara/Denise J. Wed...</td>\n",
       "      <td>NaN</td>\n",
       "      <td>eng</td>\n",
       "      <td>595.0</td>\n",
       "      <td>12</td>\n",
       "      <td>0</td>\n",
       "      <td>9/21/2001</td>\n",
       "      <td>Churchill Livingstone</td>\n",
       "      <td>-</td>\n",
       "      <td>0</td>\n",
       "      <td>9</td>\n",
       "      <td>21</td>\n",
       "      <td>2001</td>\n",
       "      <td>21</td>\n",
       "      <td>6</td>\n",
       "    </tr>\n",
       "    <tr>\n",
       "      <th>9325</th>\n",
       "      <td>Billy Budd  Sailor and Other Uncompleted Writi...</td>\n",
       "      <td>Herman Melville/Hershel Parker/G. Thomas Tanse...</td>\n",
       "      <td>3.11</td>\n",
       "      <td>eng</td>\n",
       "      <td>1016.0</td>\n",
       "      <td>0</td>\n",
       "      <td>0</td>\n",
       "      <td>9/15/2017</td>\n",
       "      <td>Northwestern Univ Press</td>\n",
       "      <td>-</td>\n",
       "      <td>0</td>\n",
       "      <td>9</td>\n",
       "      <td>15</td>\n",
       "      <td>2017</td>\n",
       "      <td>21</td>\n",
       "      <td>6</td>\n",
       "    </tr>\n",
       "  </tbody>\n",
       "</table>\n",
       "</div>"
      ],
      "text/plain": [
       "                                                  title  \\\n",
       "598                                           Persuasio   \n",
       "5675                               Preludes & Nocturnes   \n",
       "6041                                      Dream Country   \n",
       "1448  Anne Frank Beyond the Diary: A Photographic Re...   \n",
       "5166                     Fables  Vol. 7: Arabian Nights   \n",
       "4446                                  The Books of Magi   \n",
       "9717  Vampire Chronicles: Interview with the Vampire...   \n",
       "5364    Doom Patrol  Vol. 1: Crawling from the Wreckage   \n",
       "7674  On the Shoulders of Giants: The Great Works of...   \n",
       "390   Euripides V: Electra / The Phoenician Women / ...   \n",
       "9707                             Hellblazer: Setting Su   \n",
       "3477                 The Twelve Kingdoms: Sea of Shadow   \n",
       "4175                        Doyle Brunson's Super Syste   \n",
       "1590                                The Lives of Animal   \n",
       "5669         Nausicaä of the Valley of the Wind  Vol. 5   \n",
       "5668         Nausicaä of the Valley of the Wind  Vol. 6   \n",
       "5670         Nausicaä of the Valley of the Wind  Vol. 7   \n",
       "19    Agile Web Development with Rails: A Pragmatic ...   \n",
       "5865  The Complete Monty Python's Flying Circus: All...   \n",
       "3344                                            The Ode   \n",
       "6473                             The Marvel Encyclopedi   \n",
       "8952                              Beach Blanket Bad Boy   \n",
       "6762                                  The Dragon Quinte   \n",
       "391   Euripides IV: Rhesus / The Suppliant Women / O...   \n",
       "394   Euripides III: Hecuba / Andromache / The Troja...   \n",
       "2983            Crime Novels: American Noir of the 1950   \n",
       "9736                      The Wood Boy / The Burning Ma   \n",
       "7450     Star Wars Omnibus: X-Wing Rogue Squadron  Vol.   \n",
       "7188  The Communist Manifesto and Other Revolutionar...   \n",
       "5879  The Writer of Modern Life: Essays on Charles B...   \n",
       "578                              The Future of Spacetim   \n",
       "4823               The Scarlet Letter and Other Writing   \n",
       "8682           Introduction to Superstrings and M-Theor   \n",
       "9757   The Church in Emerging Culture: Five Perspective   \n",
       "5275  On the Road to Perdition — Oasis  Sanctuary  a...   \n",
       "8187                        Star Wars Complete Location   \n",
       "4284                            Superman: Back in Actio   \n",
       "8123     Ellora's Cavemen: Dreams of the Oasis Volume I   \n",
       "6161           Agricola / Germania / Dialogue on Orator   \n",
       "5276                                              Oasis   \n",
       "1959       Cattus Petasatus: The Cat in the Hat in Lati   \n",
       "3265  The Social Contract and The First and Second D...   \n",
       "1743                         Welcome to the Monkey Hous   \n",
       "9415         Life Is a Dream and Other Spanish Classics   \n",
       "6707  Realms of Dragons: The Universes of Margaret W...   \n",
       "7374  A Pocket Full of Rye: A BBC Radio 4 Full-Cast ...   \n",
       "8287                       The Sgt. Rock Archives  Vol.   \n",
       "7932  Swimming Upstream: Collaborative Approaches to...   \n",
       "6547                               Anesthesiology Revie   \n",
       "9325  Billy Budd  Sailor and Other Uncompleted Writi...   \n",
       "\n",
       "                                                authors  average_rating  \\\n",
       "598   Jane Austen/James Kinsley/Anna Massey/Richard ...            4.14   \n",
       "5675  Neil Gaiman/Sam Kieth/Mike Dringenberg/Malcolm...            4.24   \n",
       "6041  Neil Gaiman/Kelley Jones/Charles Vess/Colleen ...            4.24   \n",
       "1448  Ruud van der Rol/Rian Verhoeven/Anna Quindlen/...             NaN   \n",
       "5166  Bill Willingham/Mark Buckingham/Steve Leialoha...             NaN   \n",
       "4446  Neil Gaiman/John Bolton/Scott Hampton/Charles ...            4.08   \n",
       "9717  Anne Rice/Robert O'Keefe/F. Murray Abraham/Mic...            4.27   \n",
       "5364  Grant Morrison/Richard Case/Doug Braithwaite/S...            4.08   \n",
       "7674  Stephen Hawking/Isaac Newton/Nicolaus Copernic...            4.20   \n",
       "390   Euripides/David Grene/Richmond Lattimore/Emily...            4.21   \n",
       "9707  Warren Ellis/Frank Teran/Tim Bradstreet/Javier...             NaN   \n",
       "3477  Fuyumi Ono/小野 不由美/Akihiro Yamada/山田 章博/Elye J....            4.20   \n",
       "4175  Doyle Brunson/Mike Caro/David  Reese/Joey Hawt...            3.94   \n",
       "1590  J.M. Coetzee/Amy Gutmann/Peter Singer/Wendy Do...             NaN   \n",
       "5669  Hayao Miyazaki/Matt Thorn/Kaori Inoue/Joe Yama...             NaN   \n",
       "5668  Hayao Miyazaki/Matt Thorn/Kaori Inoue/Joe Yama...            4.62   \n",
       "5670  Hayao Miyazaki/Matt Thorn/Kaori Inoue/Joe Yama...            4.61   \n",
       "19    Dave Thomas/David Heinemeier Hansson/Leon Bree...            3.84   \n",
       "5865  Graham Chapman/John Cleese/Terry Gilliam/Eric ...            4.44   \n",
       "3344  Pindar/Cecil Maurice Bowra/Daniel C. Snell/Daw...            3.89   \n",
       "6473  Tom DeFalco/Peter Sanderson/Michael Teitelbaum...            4.37   \n",
       "8952  Linda Lael Miller/Alison Kent/Lucy Monroe/Jill...            3.89   \n",
       "6762  Marvin Kaye/Michael Swanwick/Orson Scott Card/...             NaN   \n",
       "391   Euripides/David Grene/Richmond Lattimore/Willi...            4.21   \n",
       "394   Euripides/David Grene/Richmond Lattimore/Willi...            4.00   \n",
       "2983  Robert Polito/Jim Thompson/Patricia Highsmith/...            4.37   \n",
       "9736  Raymond E. Feist/Tad Williams/Mat Broome/Robin...            3.63   \n",
       "7450  Michael A. Stackpole/Jan Strnad/Ryder Windham/...            3.88   \n",
       "7188  Bob Blaisdell/Karl Marx/Jean-Paul Marat/Tom Pa...             NaN   \n",
       "5879  Walter Benjamin/Michael W. Jennings/Rodney Liv...            4.30   \n",
       "578   Stephen Hawking/Kip S. Thorne/Igor Novikov/Tim...            3.94   \n",
       "4823  Nathaniel Hawthorne/Eugene Hudson Long/Seymour...            3.59   \n",
       "8682  Michio Kaku/Joseph L. Birman/H. Eugene Stanley...            4.27   \n",
       "9757  Leonard Sweet/Brian D. McLaren/Erwin Raphael M...            3.36   \n",
       "5275  Max Allan Collins/José Luis García-López/Steve...            3.66   \n",
       "8187  James Luceno/Kerrie Dougherty/Simon Beecroft/K...            4.31   \n",
       "4284  Kurt Busiek/Fabian Nicieiza/Len Wein/Gerry Con...            3.21   \n",
       "8123  Sylvia Day/B.J. McCall/Sahara Kelly/Elisa Adam...            3.63   \n",
       "6161  Tacitus/Maurice Hutton/Robert Maxwell Ogilvie/...            3.95   \n",
       "5276  Max Allan Collins/Steve Lieber/Josef Rubinstei...             NaN   \n",
       "1959  Dr. Seuss/Jennifer Morrish Tunberg/Terence Tun...            4.17   \n",
       "3265  Jean-Jacques Rousseau/Susan Dunn/Gita May/Robe...            3.83   \n",
       "1743  Kurt Vonnegut Jr./David Strathairn/Maria Tucci...            4.15   \n",
       "9415  Pedro Calderón de la Barca/Miguel de Cervantes...            3.81   \n",
       "6707  Denise Little/J. Robert King/Margaret Weis/Tra...            4.06   \n",
       "7374  Agatha Christie/Michael Bakewell/June Whitfiel...            3.86   \n",
       "8287  Robert Kanigher/Joe Kubert/Russ Heath/Mark Chi...            4.47   \n",
       "7932  Paul A. Sabatier/Will Focht/Mark Lubell/Zev Tr...            3.21   \n",
       "6547  Ronald J. Faust/Roy F. Cucchiara/Denise J. Wed...             NaN   \n",
       "9325  Herman Melville/Hershel Parker/G. Thomas Tanse...            3.11   \n",
       "\n",
       "     language_code  num_pages  ratings_count  text_reviews_count  \\\n",
       "598            eng      249.0         441462               11308   \n",
       "5675           eng      233.0         171841                3781   \n",
       "6041           eng      111.0          84421                1201   \n",
       "1448           eng        NaN          24181                 242   \n",
       "5166           eng      143.0          15575                 547   \n",
       "4446           eng      200.0          13850                 481   \n",
       "9717           eng        NaN          10350                 120   \n",
       "5364           eng      192.0           5447                 235   \n",
       "7674           eng        NaN           4151                  33   \n",
       "390            eng      228.0           3334                  46   \n",
       "9707         other        NaN           2583                  35   \n",
       "3477         other        NaN           2504                 172   \n",
       "4175           eng        NaN           2080                  73   \n",
       "1590           eng      136.0           1930                 139   \n",
       "5669           eng      151.0           1904                  28   \n",
       "5668           eng      159.0           1776                  33   \n",
       "5670           eng        NaN           1716                  79   \n",
       "19             eng      558.0           1430                  59   \n",
       "5865           eng      384.0           1212                  18   \n",
       "3344           eng      256.0           1052                  23   \n",
       "6473           eng      352.0           1049                  43   \n",
       "8952           eng      352.0           1031                  27   \n",
       "6762         other      304.0            573                  39   \n",
       "391            eng        NaN            560                   8   \n",
       "394            eng      255.0            541                  15   \n",
       "2983           eng      892.0            420                  34   \n",
       "9736           eng      144.0            363                  13   \n",
       "7450           eng      288.0            325                  12   \n",
       "7188           eng      284.0            311                  18   \n",
       "5879           eng      307.0            267                   4   \n",
       "578            eng        NaN            257                  10   \n",
       "4823           eng      443.0            237                  17   \n",
       "8682           eng      587.0            216                   2   \n",
       "9757           eng      272.0            190                   6   \n",
       "5275           eng      294.0            168                  14   \n",
       "8187           eng      175.0            141                   9   \n",
       "4284         other      144.0            140                  12   \n",
       "8123           eng      272.0            131                   8   \n",
       "6161         other      384.0             87                   7   \n",
       "5276           eng       96.0             76                   5   \n",
       "1959         other       75.0             63                   9   \n",
       "3265           eng      328.0             63                   2   \n",
       "1743         other        9.0             61                  11   \n",
       "9415           eng      298.0             61                   4   \n",
       "6707         other      218.0             49                   0   \n",
       "7374           eng        2.0             38                   3   \n",
       "8287           eng      224.0             19                   2   \n",
       "7932           eng      344.0             13                   1   \n",
       "6547           eng      595.0             12                   0   \n",
       "9325           eng     1016.0              0                   0   \n",
       "\n",
       "     publication_date                                  publisher  \\\n",
       "598         3/18/2004                    Oxford University Press   \n",
       "5675        12/1/1998                                    Vertigo   \n",
       "6041         2/5/1999                                  DC Comics   \n",
       "1448         5/1/1995                               Puffin Books   \n",
       "5166         7/5/2006                                    Vertigo   \n",
       "4446        4/14/1993                                    Vertigo   \n",
       "9717       11/17/1992                         Random House Audio   \n",
       "5364        4/17/2000                                    Vertigo   \n",
       "7674         1/1/2006                              Penguin Books   \n",
       "390         1/15/1969                University of Chicago Press   \n",
       "9707        10/1/2004                                    Vertigo   \n",
       "3477        3/13/2007                                   TokyoPop   \n",
       "4175       12/31/2002                                    Cardoza   \n",
       "1590         5/6/2001                 Princeton University Press   \n",
       "5669        6/30/2004                                  VIZ Media   \n",
       "5668        8/10/2004                                  VIZ Media   \n",
       "5670         9/7/2004                                  VIZ Media   \n",
       "19          7/28/2005                        Pragmatic Bookshelf   \n",
       "5865       11/12/1989                                   Pantheon   \n",
       "3344        9/30/1982                              Penguin Books   \n",
       "6473       10/16/2006                                         DK   \n",
       "8952         6/7/2005                                 Kensington   \n",
       "6762         5/2/2006                                Tor Fantasy   \n",
       "391        11/15/1968                University of Chicago Press   \n",
       "394         1/15/1992                University of Chicago Press   \n",
       "2983         9/1/1997                         Library of America   \n",
       "9736       12/21/2005                  Dabel Brothers Publishing   \n",
       "7450       10/24/2006                          Dark Horse Comics   \n",
       "7188        1/15/2003                         Dover Publications   \n",
       "5879        11/1/2006                              Belknap Press   \n",
       "578         6/17/2003                      W. W. Norton  Company   \n",
       "4823         2/1/1978                     W. W. Norton & Company   \n",
       "8682        7/30/1999                                   Springer   \n",
       "9757       10/19/2003                                  Zondervan   \n",
       "5275        12/1/2004                                  DC Comics   \n",
       "8187       12/31/2005         DK Publishing (Dorling Kindersley)   \n",
       "4284        1/31/2007                                  DC Comics   \n",
       "8123        10/1/2005                              Ellora's Cave   \n",
       "6161         1/1/1914                   Harvard University Press   \n",
       "5276         5/1/2003                                  DC Comics   \n",
       "1959         5/6/2005               Bolchazy-Carducci Publishers   \n",
       "3265         2/8/2002                      Yale University Press   \n",
       "1743        5/23/2006                                    Caedmon   \n",
       "9415         4/1/2000  Applause Theatre & Cinema Book Publishers   \n",
       "6707        10/1/1999                   HarperCollins Publishers   \n",
       "7374         4/1/2014                      Blackstone Audiobooks   \n",
       "8287         8/1/2005                                        NaN   \n",
       "7932        4/29/2005                              The MIT Press   \n",
       "6547        9/21/2001                      Churchill Livingstone   \n",
       "9325        9/15/2017                    Northwestern Univ Press   \n",
       "\n",
       "                               title_ser  num_in_ser  month  day  year  \\\n",
       "598                                    -           0      3   18  2004   \n",
       "5675                         The Sandman           1     12    1  1998   \n",
       "6041                         The Sandman           3      2    5  1999   \n",
       "1448                                   -           0      5    1  1995   \n",
       "5166                                   -           0      7    5  2006   \n",
       "4446                                   -           0      4   14  1993   \n",
       "9717                                   -           0     11   17  1992   \n",
       "5364                         Doom Patrol           1      4   17  2000   \n",
       "7674                                   -           0      1    1  2006   \n",
       "390                                    -           0      1   15  1969   \n",
       "9707                                   -           0     10    1  2004   \n",
       "3477                 The Twelve Kingdoms           1      3   13  2007   \n",
       "4175                                   -           0     12   31  2002   \n",
       "1590                                   -           0      5    6  2001   \n",
       "5669  Nausicaä of the Valley of the Wind           5      6   30  2004   \n",
       "5668  Nausicaä of the Valley of the Wind           6      8   10  2004   \n",
       "5670  Nausicaä of the Valley of the Wind           7      9    7  2004   \n",
       "19                                     -           0      7   28  2005   \n",
       "5865                                   -           0     11   12  1989   \n",
       "3344                                   -           0      9   30  1982   \n",
       "6473                                   -           0     10   16  2006   \n",
       "8952                                   -           0      6    7  2005   \n",
       "6762                                   -           0      5    2  2006   \n",
       "391                                    -           0     11   15  1968   \n",
       "394             Complete Greek Tragedies           7      1   15  1992   \n",
       "2983                                   -           0      9    1  1997   \n",
       "9736                                   -           0     12   21  2005   \n",
       "7450                                   -           0     10   24  2006   \n",
       "7188                                   -           0      1   15  2003   \n",
       "5879                                   -           0     11    1  2006   \n",
       "578                                    -           0      6   17  2003   \n",
       "4823                                   -           0      2    1  1978   \n",
       "8682                                   -           0      7   30  1999   \n",
       "9757                                   -           0     10   19  2003   \n",
       "5275                   Road to Perdition           2     12    1  2004   \n",
       "8187                                   -           0     12   31  2005   \n",
       "4284                                   -           0      1   31  2007   \n",
       "8123                                   -           0     10    1  2005   \n",
       "6161                                   -           0      1    1  1914   \n",
       "5276            On the Road to Perdition           1      5    1  2003   \n",
       "1959                                   -           0      5    6  2005   \n",
       "3265                                   -           0      2    8  2002   \n",
       "1743                                   -           0      5   23  2006   \n",
       "9415                                   -           0      4    1  2000   \n",
       "6707                                   -           0     10    1  1999   \n",
       "7374                                   -           0      4    1  2014   \n",
       "8287                                   -           0      8    1  2005   \n",
       "7932                                   -           0      4   29  2005   \n",
       "6547                                   -           0      9   21  2001   \n",
       "9325                                   -           0      9   15  2017   \n",
       "\n",
       "      century  num_coauthors  \n",
       "598        21              6  \n",
       "5675       20              6  \n",
       "6041       20              6  \n",
       "1448       20              6  \n",
       "5166       21              6  \n",
       "4446       20              6  \n",
       "9717       20              6  \n",
       "5364       20              6  \n",
       "7674       21              6  \n",
       "390        20              6  \n",
       "9707       21              6  \n",
       "3477       21              6  \n",
       "4175       21              6  \n",
       "1590       21              6  \n",
       "5669       21              6  \n",
       "5668       21              6  \n",
       "5670       21              6  \n",
       "19         21              6  \n",
       "5865       20              6  \n",
       "3344       20              6  \n",
       "6473       21              6  \n",
       "8952       21              6  \n",
       "6762       21              6  \n",
       "391        20              6  \n",
       "394        20              6  \n",
       "2983       20              6  \n",
       "9736       21              6  \n",
       "7450       21              6  \n",
       "7188       21              6  \n",
       "5879       21              6  \n",
       "578        21              6  \n",
       "4823       20              6  \n",
       "8682       20              6  \n",
       "9757       21              6  \n",
       "5275       21              6  \n",
       "8187       21              6  \n",
       "4284       21              6  \n",
       "8123       21              6  \n",
       "6161       20              6  \n",
       "5276       21              6  \n",
       "1959       21              6  \n",
       "3265       21              6  \n",
       "1743       21              6  \n",
       "9415       20              6  \n",
       "6707       20              6  \n",
       "7374       21              6  \n",
       "8287       21              6  \n",
       "7932       21              6  \n",
       "6547       21              6  \n",
       "9325       21              6  "
      ]
     },
     "execution_count": 567,
     "metadata": {},
     "output_type": "execute_result"
    }
   ],
   "source": [
    "df[ (df['num_coauthors'] == 6) ].sort_values('ratings_count',ascending = False)"
   ]
  },
  {
   "cell_type": "markdown",
   "metadata": {},
   "source": [
    "Создайте функцию c_page, которая на основании столбца num_pages, определяет в какую категорию входит книга:\n",
    "\n",
    "до 100 стр.\n",
    "от 100 до 500 стр.\n",
    "от 500 до 1000 стр.\n",
    "от 1000 стр.\n",
    "если информации о количестве страниц нет (NaN), то вернуть само значение из столбца c количеством страниц"
   ]
  },
  {
   "cell_type": "code",
   "execution_count": 568,
   "metadata": {},
   "outputs": [],
   "source": [
    "def medal_weight(x):\n",
    "    if x == \"Gold\":\n",
    "        return 3\n",
    "    elif x == \"Silver\":\n",
    "        return 2\n",
    "    elif x == \"Bronze\":\n",
    "        return 1\n",
    "    else:\n",
    "        return 0"
   ]
  },
  {
   "cell_type": "code",
   "execution_count": 569,
   "metadata": {},
   "outputs": [],
   "source": [
    "def c_page(x):\n",
    "    if x < 100:\n",
    "        return \"до 100 стр.\"\n",
    "    elif 100 <= x <500:\n",
    "        return \"от 100 до 500 стр.\"\n",
    "    elif 500 <= x <1000:\n",
    "        return \"от 500 до 1000 стр.\"\n",
    "    elif 1000<=x:\n",
    "        return 'от 1000 стр.'\n",
    "    else:\n",
    "        return x\n"
   ]
  },
  {
   "cell_type": "markdown",
   "metadata": {},
   "source": [
    "Примените получившуюся функцию c_page к столбцу num_pages и создайте новый признак pages_category"
   ]
  },
  {
   "cell_type": "code",
   "execution_count": 570,
   "metadata": {},
   "outputs": [
    {
     "name": "stdout",
     "output_type": "stream",
     "text": [
      "<class 'pandas.core.frame.DataFrame'>\n",
      "Index: 10063 entries, 0 to 10062\n",
      "Data columns (total 17 columns):\n",
      " #   Column              Non-Null Count  Dtype  \n",
      "---  ------              --------------  -----  \n",
      " 0   title               10063 non-null  object \n",
      " 1   authors             10063 non-null  object \n",
      " 2   average_rating      8591 non-null   float64\n",
      " 3   language_code       10063 non-null  object \n",
      " 4   num_pages           8379 non-null   float64\n",
      " 5   ratings_count       10063 non-null  int64  \n",
      " 6   text_reviews_count  10063 non-null  int64  \n",
      " 7   publication_date    10063 non-null  object \n",
      " 8   publisher           9508 non-null   object \n",
      " 9   title_ser           10063 non-null  object \n",
      " 10  num_in_ser          10063 non-null  int64  \n",
      " 11  month               10063 non-null  int64  \n",
      " 12  day                 10063 non-null  int64  \n",
      " 13  year                10063 non-null  int64  \n",
      " 14  century             10063 non-null  int64  \n",
      " 15  num_coauthors       10063 non-null  int64  \n",
      " 16  pages_category      8379 non-null   object \n",
      "dtypes: float64(2), int64(8), object(7)\n",
      "memory usage: 1.6+ MB\n"
     ]
    }
   ],
   "source": [
    "df[\"pages_category\"] = df[\"num_pages\"].apply(c_page)\n",
    "df[\"pages_category\"]\n",
    "df.info()"
   ]
  },
  {
   "cell_type": "code",
   "execution_count": 571,
   "metadata": {},
   "outputs": [
    {
     "data": {
      "text/plain": [
       "count                   8379\n",
       "unique                     4\n",
       "top       от 100 до 500 стр.\n",
       "freq                    6435\n",
       "Name: pages_category, dtype: object"
      ]
     },
     "execution_count": 571,
     "metadata": {},
     "output_type": "execute_result"
    }
   ],
   "source": [
    "df['pages_category'].describe()"
   ]
  },
  {
   "cell_type": "code",
   "execution_count": 572,
   "metadata": {},
   "outputs": [
    {
     "data": {
      "text/plain": [
       "pages_category\n",
       "от 100 до 500 стр.     6435\n",
       "от 500 до 1000 стр.    1083\n",
       "до 100 стр.             728\n",
       "от 1000 стр.            133\n",
       "Name: count, dtype: int64"
      ]
     },
     "execution_count": 572,
     "metadata": {},
     "output_type": "execute_result"
    }
   ],
   "source": [
    "df['pages_category'].value_counts()"
   ]
  },
  {
   "cell_type": "markdown",
   "metadata": {},
   "source": [
    "Определите серию (title_ser), в которую входит книга, которая:\n",
    "\n",
    "находится в категорию от 100 до 500 стр. (pages_category)\n",
    "написана в 20 веке (century)\n",
    "имеет более 100 оценок пользователей (ratings_count)\n",
    "и имеет среди этих  книг максимальный рейтинг (average_rating)"
   ]
  },
  {
   "cell_type": "code",
   "execution_count": 573,
   "metadata": {},
   "outputs": [
    {
     "data": {
      "text/plain": [
       "6435"
      ]
     },
     "execution_count": 573,
     "metadata": {},
     "output_type": "execute_result"
    }
   ],
   "source": [
    "df[    (df['pages_category'] == 'от 100 до 500 стр.')    ].sort_values('average_rating',ascending = False).shape[0]"
   ]
  },
  {
   "cell_type": "code",
   "execution_count": 574,
   "metadata": {},
   "outputs": [
    {
     "data": {
      "text/plain": [
       "2281"
      ]
     },
     "execution_count": 574,
     "metadata": {},
     "output_type": "execute_result"
    }
   ],
   "source": [
    "df[    (df['pages_category'] == 'от 100 до 500 стр.') & (df['century'] == 20)    ].sort_values('average_rating',ascending = False).shape[0]"
   ]
  },
  {
   "cell_type": "code",
   "execution_count": 575,
   "metadata": {},
   "outputs": [
    {
     "data": {
      "text/plain": [
       "1678"
      ]
     },
     "execution_count": 575,
     "metadata": {},
     "output_type": "execute_result"
    }
   ],
   "source": [
    "df[    (df['pages_category'] == 'от 100 до 500 стр.') & (df['century'] == 20) & (df['ratings_count'] >100)   ].sort_values('average_rating',ascending = False).shape[0]"
   ]
  },
  {
   "cell_type": "code",
   "execution_count": 576,
   "metadata": {},
   "outputs": [
    {
     "data": {
      "text/html": [
       "<div>\n",
       "<style scoped>\n",
       "    .dataframe tbody tr th:only-of-type {\n",
       "        vertical-align: middle;\n",
       "    }\n",
       "\n",
       "    .dataframe tbody tr th {\n",
       "        vertical-align: top;\n",
       "    }\n",
       "\n",
       "    .dataframe thead th {\n",
       "        text-align: right;\n",
       "    }\n",
       "</style>\n",
       "<table border=\"1\" class=\"dataframe\">\n",
       "  <thead>\n",
       "    <tr style=\"text-align: right;\">\n",
       "      <th></th>\n",
       "      <th>publication_date</th>\n",
       "      <th>title</th>\n",
       "    </tr>\n",
       "  </thead>\n",
       "  <tbody>\n",
       "    <tr>\n",
       "      <th>6193</th>\n",
       "      <td>9/9/2010</td>\n",
       "      <td>The Postman Always Rings Twic</td>\n",
       "    </tr>\n",
       "    <tr>\n",
       "      <th>8006</th>\n",
       "      <td>9/9/2009</td>\n",
       "      <td>The Empty Envelope</td>\n",
       "    </tr>\n",
       "    <tr>\n",
       "      <th>8471</th>\n",
       "      <td>9/9/2008</td>\n",
       "      <td>The Tale of Despereau</td>\n",
       "    </tr>\n",
       "    <tr>\n",
       "      <th>8608</th>\n",
       "      <td>9/9/2004</td>\n",
       "      <td>The Art of the Start: The Time-Tested  Battle-...</td>\n",
       "    </tr>\n",
       "    <tr>\n",
       "      <th>9289</th>\n",
       "      <td>9/9/2004</td>\n",
       "      <td>The New Rules of High Schoo</td>\n",
       "    </tr>\n",
       "    <tr>\n",
       "      <th>...</th>\n",
       "      <td>...</td>\n",
       "      <td>...</td>\n",
       "    </tr>\n",
       "    <tr>\n",
       "      <th>384</th>\n",
       "      <td>1/1/1921</td>\n",
       "      <td>History of the Peloponnesian War: Bk. 5-</td>\n",
       "    </tr>\n",
       "    <tr>\n",
       "      <th>382</th>\n",
       "      <td>1/1/1919</td>\n",
       "      <td>History of the Peloponnesian War: Bk. 1-</td>\n",
       "    </tr>\n",
       "    <tr>\n",
       "      <th>6161</th>\n",
       "      <td>1/1/1914</td>\n",
       "      <td>Agricola / Germania / Dialogue on Orator</td>\n",
       "    </tr>\n",
       "    <tr>\n",
       "      <th>5848</th>\n",
       "      <td>1/1/1913</td>\n",
       "      <td>On Duties</td>\n",
       "    </tr>\n",
       "    <tr>\n",
       "      <th>8464</th>\n",
       "      <td>1/1/1900</td>\n",
       "      <td>Consider the Lilie</td>\n",
       "    </tr>\n",
       "  </tbody>\n",
       "</table>\n",
       "<p>10063 rows × 2 columns</p>\n",
       "</div>"
      ],
      "text/plain": [
       "     publication_date                                              title\n",
       "6193         9/9/2010                      The Postman Always Rings Twic\n",
       "8006         9/9/2009                                 The Empty Envelope\n",
       "8471         9/9/2008                              The Tale of Despereau\n",
       "8608         9/9/2004  The Art of the Start: The Time-Tested  Battle-...\n",
       "9289         9/9/2004                        The New Rules of High Schoo\n",
       "...               ...                                                ...\n",
       "384          1/1/1921           History of the Peloponnesian War: Bk. 5-\n",
       "382          1/1/1919           History of the Peloponnesian War: Bk. 1-\n",
       "6161         1/1/1914           Agricola / Germania / Dialogue on Orator\n",
       "5848         1/1/1913                                          On Duties\n",
       "8464         1/1/1900                                 Consider the Lilie\n",
       "\n",
       "[10063 rows x 2 columns]"
      ]
     },
     "execution_count": 576,
     "metadata": {},
     "output_type": "execute_result"
    }
   ],
   "source": [
    "df[['publication_date','title']].sort_values(['publication_date'],ascending = False)"
   ]
  },
  {
   "cell_type": "code",
   "execution_count": 577,
   "metadata": {},
   "outputs": [
    {
     "data": {
      "text/html": [
       "<div>\n",
       "<style scoped>\n",
       "    .dataframe tbody tr th:only-of-type {\n",
       "        vertical-align: middle;\n",
       "    }\n",
       "\n",
       "    .dataframe tbody tr th {\n",
       "        vertical-align: top;\n",
       "    }\n",
       "\n",
       "    .dataframe thead th {\n",
       "        text-align: right;\n",
       "    }\n",
       "</style>\n",
       "<table border=\"1\" class=\"dataframe\">\n",
       "  <thead>\n",
       "    <tr style=\"text-align: right;\">\n",
       "      <th></th>\n",
       "      <th>title_ser</th>\n",
       "      <th>average_rating</th>\n",
       "      <th>pages_category</th>\n",
       "      <th>century</th>\n",
       "      <th>ratings_count</th>\n",
       "    </tr>\n",
       "  </thead>\n",
       "  <tbody>\n",
       "    <tr>\n",
       "      <th>5945</th>\n",
       "      <td>Calvin and Hobbes</td>\n",
       "      <td>4.72</td>\n",
       "      <td>от 100 до 500 стр.</td>\n",
       "      <td>20</td>\n",
       "      <td>15365</td>\n",
       "    </tr>\n",
       "    <tr>\n",
       "      <th>5943</th>\n",
       "      <td>-</td>\n",
       "      <td>4.63</td>\n",
       "      <td>от 100 до 500 стр.</td>\n",
       "      <td>20</td>\n",
       "      <td>49122</td>\n",
       "    </tr>\n",
       "    <tr>\n",
       "      <th>936</th>\n",
       "      <td>-</td>\n",
       "      <td>4.59</td>\n",
       "      <td>от 100 до 500 стр.</td>\n",
       "      <td>20</td>\n",
       "      <td>641</td>\n",
       "    </tr>\n",
       "    <tr>\n",
       "      <th>6042</th>\n",
       "      <td>The Sandman</td>\n",
       "      <td>4.54</td>\n",
       "      <td>от 100 до 500 стр.</td>\n",
       "      <td>20</td>\n",
       "      <td>50951</td>\n",
       "    </tr>\n",
       "    <tr>\n",
       "      <th>6596</th>\n",
       "      <td>-</td>\n",
       "      <td>4.54</td>\n",
       "      <td>от 100 до 500 стр.</td>\n",
       "      <td>20</td>\n",
       "      <td>3604</td>\n",
       "    </tr>\n",
       "    <tr>\n",
       "      <th>...</th>\n",
       "      <td>...</td>\n",
       "      <td>...</td>\n",
       "      <td>...</td>\n",
       "      <td>...</td>\n",
       "      <td>...</td>\n",
       "    </tr>\n",
       "    <tr>\n",
       "      <th>9857</th>\n",
       "      <td>-</td>\n",
       "      <td>NaN</td>\n",
       "      <td>от 100 до 500 стр.</td>\n",
       "      <td>20</td>\n",
       "      <td>5961</td>\n",
       "    </tr>\n",
       "    <tr>\n",
       "      <th>9880</th>\n",
       "      <td>-</td>\n",
       "      <td>NaN</td>\n",
       "      <td>от 100 до 500 стр.</td>\n",
       "      <td>20</td>\n",
       "      <td>472</td>\n",
       "    </tr>\n",
       "    <tr>\n",
       "      <th>9919</th>\n",
       "      <td>-</td>\n",
       "      <td>NaN</td>\n",
       "      <td>от 100 до 500 стр.</td>\n",
       "      <td>20</td>\n",
       "      <td>255</td>\n",
       "    </tr>\n",
       "    <tr>\n",
       "      <th>9956</th>\n",
       "      <td>-</td>\n",
       "      <td>NaN</td>\n",
       "      <td>от 100 до 500 стр.</td>\n",
       "      <td>20</td>\n",
       "      <td>7019</td>\n",
       "    </tr>\n",
       "    <tr>\n",
       "      <th>9973</th>\n",
       "      <td>-</td>\n",
       "      <td>NaN</td>\n",
       "      <td>от 100 до 500 стр.</td>\n",
       "      <td>20</td>\n",
       "      <td>120</td>\n",
       "    </tr>\n",
       "  </tbody>\n",
       "</table>\n",
       "<p>1678 rows × 5 columns</p>\n",
       "</div>"
      ],
      "text/plain": [
       "              title_ser  average_rating      pages_category  century  \\\n",
       "5945  Calvin and Hobbes            4.72  от 100 до 500 стр.       20   \n",
       "5943                  -            4.63  от 100 до 500 стр.       20   \n",
       "936                   -            4.59  от 100 до 500 стр.       20   \n",
       "6042        The Sandman            4.54  от 100 до 500 стр.       20   \n",
       "6596                  -            4.54  от 100 до 500 стр.       20   \n",
       "...                 ...             ...                 ...      ...   \n",
       "9857                  -             NaN  от 100 до 500 стр.       20   \n",
       "9880                  -             NaN  от 100 до 500 стр.       20   \n",
       "9919                  -             NaN  от 100 до 500 стр.       20   \n",
       "9956                  -             NaN  от 100 до 500 стр.       20   \n",
       "9973                  -             NaN  от 100 до 500 стр.       20   \n",
       "\n",
       "      ratings_count  \n",
       "5945          15365  \n",
       "5943          49122  \n",
       "936             641  \n",
       "6042          50951  \n",
       "6596           3604  \n",
       "...             ...  \n",
       "9857           5961  \n",
       "9880            472  \n",
       "9919            255  \n",
       "9956           7019  \n",
       "9973            120  \n",
       "\n",
       "[1678 rows x 5 columns]"
      ]
     },
     "execution_count": 577,
     "metadata": {},
     "output_type": "execute_result"
    }
   ],
   "source": [
    "mask_2 = df[    (df['pages_category'] == 'от 100 до 500 стр.') & (df['century'] == 20) & (df['ratings_count'] >100)   ].sort_values('average_rating',ascending = False)\n",
    "mask_2[['title_ser','average_rating','pages_category','century','ratings_count']]\n",
    "#mask_2['ratings_count'].min()"
   ]
  },
  {
   "cell_type": "markdown",
   "metadata": {},
   "source": [
    "Постройте частотную таблицу по признаку pages_category. В ответ впишите название категории, которая встречается 728 раз\n",
    "\n",
    "Пример ответа: от 1000 стр."
   ]
  },
  {
   "cell_type": "code",
   "execution_count": 578,
   "metadata": {},
   "outputs": [
    {
     "data": {
      "text/plain": [
       "pages_category\n",
       "от 100 до 500 стр.     6435\n",
       "от 500 до 1000 стр.    1083\n",
       "до 100 стр.             728\n",
       "от 1000 стр.            133\n",
       "Name: count, dtype: int64"
      ]
     },
     "execution_count": 578,
     "metadata": {},
     "output_type": "execute_result"
    }
   ],
   "source": [
    "df['pages_category'].value_counts()"
   ]
  },
  {
   "cell_type": "code",
   "execution_count": 579,
   "metadata": {},
   "outputs": [
    {
     "data": {
      "text/plain": [
       "month\n",
       "9     0.117957\n",
       "10    0.108516\n",
       "1     0.093908\n",
       "4     0.090430\n",
       "5     0.082679\n",
       "6     0.077313\n",
       "11    0.076717\n",
       "8     0.076617\n",
       "3     0.073636\n",
       "7     0.070953\n",
       "2     0.067574\n",
       "12    0.063699\n",
       "Name: proportion, dtype: float64"
      ]
     },
     "execution_count": 579,
     "metadata": {},
     "output_type": "execute_result"
    }
   ],
   "source": [
    "df['month'].value_counts(normalize = True)"
   ]
  },
  {
   "cell_type": "code",
   "execution_count": 580,
   "metadata": {},
   "outputs": [
    {
     "data": {
      "text/plain": [
       "title_ser\n",
       "Long Price Quartet                1\n",
       "Hoke Mosely                       1\n",
       "Hoke Moseley                      1\n",
       "Dave Robicheaux                   1\n",
       "Monkeewrench                      1\n",
       "                               ... \n",
       "Anita Blake  Vampire Hunter      15\n",
       "Fullmetal Alchemist              16\n",
       "Hercule Poirot                   18\n",
       "Discworld                        20\n",
       "-                              7945\n",
       "Name: count, Length: 1081, dtype: int64"
      ]
     },
     "execution_count": 580,
     "metadata": {},
     "output_type": "execute_result"
    }
   ],
   "source": [
    "df['title_ser'].value_counts().sort_values()"
   ]
  },
  {
   "cell_type": "code",
   "execution_count": 581,
   "metadata": {},
   "outputs": [
    {
     "data": {
      "text/html": [
       "<div>\n",
       "<style scoped>\n",
       "    .dataframe tbody tr th:only-of-type {\n",
       "        vertical-align: middle;\n",
       "    }\n",
       "\n",
       "    .dataframe tbody tr th {\n",
       "        vertical-align: top;\n",
       "    }\n",
       "\n",
       "    .dataframe thead th {\n",
       "        text-align: right;\n",
       "    }\n",
       "</style>\n",
       "<table border=\"1\" class=\"dataframe\">\n",
       "  <thead>\n",
       "    <tr style=\"text-align: right;\">\n",
       "      <th></th>\n",
       "      <th>average_rating</th>\n",
       "      <th>num_pages</th>\n",
       "      <th>ratings_count</th>\n",
       "      <th>text_reviews_count</th>\n",
       "      <th>num_in_ser</th>\n",
       "      <th>month</th>\n",
       "      <th>day</th>\n",
       "      <th>year</th>\n",
       "      <th>century</th>\n",
       "      <th>num_coauthors</th>\n",
       "    </tr>\n",
       "  </thead>\n",
       "  <tbody>\n",
       "    <tr>\n",
       "      <th>count</th>\n",
       "      <td>8591.000000</td>\n",
       "      <td>8379.000000</td>\n",
       "      <td>1.006300e+04</td>\n",
       "      <td>10063.000000</td>\n",
       "      <td>10063.000000</td>\n",
       "      <td>10063.000000</td>\n",
       "      <td>10063.000000</td>\n",
       "      <td>10063.000000</td>\n",
       "      <td>10063.000000</td>\n",
       "      <td>10063.000000</td>\n",
       "    </tr>\n",
       "    <tr>\n",
       "      <th>mean</th>\n",
       "      <td>3.927411</td>\n",
       "      <td>330.640769</td>\n",
       "      <td>1.749583e+04</td>\n",
       "      <td>540.155818</td>\n",
       "      <td>1.088542</td>\n",
       "      <td>6.553612</td>\n",
       "      <td>11.247143</td>\n",
       "      <td>2000.138527</td>\n",
       "      <td>20.639769</td>\n",
       "      <td>1.716884</td>\n",
       "    </tr>\n",
       "    <tr>\n",
       "      <th>std</th>\n",
       "      <td>0.357752</td>\n",
       "      <td>223.622220</td>\n",
       "      <td>1.090267e+05</td>\n",
       "      <td>2533.873633</td>\n",
       "      <td>4.182624</td>\n",
       "      <td>3.408380</td>\n",
       "      <td>10.277749</td>\n",
       "      <td>8.226222</td>\n",
       "      <td>0.480298</td>\n",
       "      <td>1.865227</td>\n",
       "    </tr>\n",
       "    <tr>\n",
       "      <th>min</th>\n",
       "      <td>0.000000</td>\n",
       "      <td>1.000000</td>\n",
       "      <td>0.000000e+00</td>\n",
       "      <td>0.000000</td>\n",
       "      <td>0.000000</td>\n",
       "      <td>1.000000</td>\n",
       "      <td>1.000000</td>\n",
       "      <td>1900.000000</td>\n",
       "      <td>19.000000</td>\n",
       "      <td>1.000000</td>\n",
       "    </tr>\n",
       "    <tr>\n",
       "      <th>25%</th>\n",
       "      <td>3.770000</td>\n",
       "      <td>195.000000</td>\n",
       "      <td>1.100000e+02</td>\n",
       "      <td>9.000000</td>\n",
       "      <td>0.000000</td>\n",
       "      <td>4.000000</td>\n",
       "      <td>1.000000</td>\n",
       "      <td>1998.000000</td>\n",
       "      <td>20.000000</td>\n",
       "      <td>1.000000</td>\n",
       "    </tr>\n",
       "    <tr>\n",
       "      <th>50%</th>\n",
       "      <td>3.950000</td>\n",
       "      <td>296.000000</td>\n",
       "      <td>8.180000e+02</td>\n",
       "      <td>49.000000</td>\n",
       "      <td>0.000000</td>\n",
       "      <td>7.000000</td>\n",
       "      <td>8.000000</td>\n",
       "      <td>2003.000000</td>\n",
       "      <td>21.000000</td>\n",
       "      <td>1.000000</td>\n",
       "    </tr>\n",
       "    <tr>\n",
       "      <th>75%</th>\n",
       "      <td>4.130000</td>\n",
       "      <td>406.000000</td>\n",
       "      <td>5.410000e+03</td>\n",
       "      <td>251.000000</td>\n",
       "      <td>0.000000</td>\n",
       "      <td>9.000000</td>\n",
       "      <td>20.000000</td>\n",
       "      <td>2005.000000</td>\n",
       "      <td>21.000000</td>\n",
       "      <td>2.000000</td>\n",
       "    </tr>\n",
       "    <tr>\n",
       "      <th>max</th>\n",
       "      <td>5.000000</td>\n",
       "      <td>6576.000000</td>\n",
       "      <td>4.597666e+06</td>\n",
       "      <td>94265.000000</td>\n",
       "      <td>96.000000</td>\n",
       "      <td>12.000000</td>\n",
       "      <td>31.000000</td>\n",
       "      <td>2020.000000</td>\n",
       "      <td>21.000000</td>\n",
       "      <td>51.000000</td>\n",
       "    </tr>\n",
       "  </tbody>\n",
       "</table>\n",
       "</div>"
      ],
      "text/plain": [
       "       average_rating    num_pages  ratings_count  text_reviews_count  \\\n",
       "count     8591.000000  8379.000000   1.006300e+04        10063.000000   \n",
       "mean         3.927411   330.640769   1.749583e+04          540.155818   \n",
       "std          0.357752   223.622220   1.090267e+05         2533.873633   \n",
       "min          0.000000     1.000000   0.000000e+00            0.000000   \n",
       "25%          3.770000   195.000000   1.100000e+02            9.000000   \n",
       "50%          3.950000   296.000000   8.180000e+02           49.000000   \n",
       "75%          4.130000   406.000000   5.410000e+03          251.000000   \n",
       "max          5.000000  6576.000000   4.597666e+06        94265.000000   \n",
       "\n",
       "         num_in_ser         month           day          year       century  \\\n",
       "count  10063.000000  10063.000000  10063.000000  10063.000000  10063.000000   \n",
       "mean       1.088542      6.553612     11.247143   2000.138527     20.639769   \n",
       "std        4.182624      3.408380     10.277749      8.226222      0.480298   \n",
       "min        0.000000      1.000000      1.000000   1900.000000     19.000000   \n",
       "25%        0.000000      4.000000      1.000000   1998.000000     20.000000   \n",
       "50%        0.000000      7.000000      8.000000   2003.000000     21.000000   \n",
       "75%        0.000000      9.000000     20.000000   2005.000000     21.000000   \n",
       "max       96.000000     12.000000     31.000000   2020.000000     21.000000   \n",
       "\n",
       "       num_coauthors  \n",
       "count   10063.000000  \n",
       "mean        1.716884  \n",
       "std         1.865227  \n",
       "min         1.000000  \n",
       "25%         1.000000  \n",
       "50%         1.000000  \n",
       "75%         2.000000  \n",
       "max        51.000000  "
      ]
     },
     "execution_count": 581,
     "metadata": {},
     "output_type": "execute_result"
    }
   ],
   "source": [
    "df.describe()"
   ]
  },
  {
   "cell_type": "code",
   "execution_count": 582,
   "metadata": {},
   "outputs": [
    {
     "data": {
      "text/plain": [
       "<Axes: ylabel='Frequency'>"
      ]
     },
     "execution_count": 582,
     "metadata": {},
     "output_type": "execute_result"
    },
    {
     "data": {
      "image/png": "[encoded data removed]",
      "text/plain": [
       "<Figure size 640x480 with 1 Axes>"
      ]
     },
     "metadata": {},
     "output_type": "display_data"
    }
   ],
   "source": [
    "df[\"average_rating\"].plot(kind = 'hist')"
   ]
  },
  {
   "cell_type": "code",
   "execution_count": 583,
   "metadata": {},
   "outputs": [],
   "source": [
    "filter = df[df[\"pages_category\"] == \"от 500 до 1000 стр.\"]"
   ]
  },
  {
   "cell_type": "code",
   "execution_count": 584,
   "metadata": {},
   "outputs": [
    {
     "data": {
      "text/plain": [
       "<Axes: ylabel='count'>"
      ]
     },
     "execution_count": 584,
     "metadata": {},
     "output_type": "execute_result"
    },
    {
     "data": {
      "image/png": "[encoded data removed]",
      "text/plain": [
       "<Figure size 640x480 with 1 Axes>"
      ]
     },
     "metadata": {},
     "output_type": "display_data"
    }
   ],
   "source": [
    "filter[\"language_code\"].value_counts().plot(kind = 'pie')"
   ]
  },
  {
   "cell_type": "code",
   "execution_count": 585,
   "metadata": {},
   "outputs": [],
   "source": [
    "#data['Pclass'].value_counts().index"
   ]
  },
  {
   "cell_type": "code",
   "execution_count": 586,
   "metadata": {},
   "outputs": [
    {
     "data": {
      "text/plain": [
       "month\n",
       "9     1187\n",
       "10    1092\n",
       "1      945\n",
       "4      910\n",
       "5      832\n",
       "6      778\n",
       "11     772\n",
       "8      771\n",
       "3      741\n",
       "7      714\n",
       "2      680\n",
       "12     641\n",
       "Name: count, dtype: int64"
      ]
     },
     "execution_count": 586,
     "metadata": {},
     "output_type": "execute_result"
    }
   ],
   "source": [
    "mask_3=df[\"month\"].value_counts(ascending=False)\n",
    "mask_3"
   ]
  },
  {
   "cell_type": "code",
   "execution_count": 587,
   "metadata": {},
   "outputs": [
    {
     "data": {
      "text/plain": [
       "<Axes: xlabel='month'>"
      ]
     },
     "execution_count": 587,
     "metadata": {},
     "output_type": "execute_result"
    },
    {
     "data": {
      "image/png": "[encoded data removed]",
      "text/plain": [
       "<Figure size 640x480 with 1 Axes>"
      ]
     },
     "metadata": {},
     "output_type": "display_data"
    }
   ],
   "source": [
    "df[\"month\"].value_counts().sort_index().plot()"
   ]
  },
  {
   "cell_type": "code",
   "execution_count": 588,
   "metadata": {},
   "outputs": [
    {
     "data": {
      "text/html": [
       "<div>\n",
       "<style scoped>\n",
       "    .dataframe tbody tr th:only-of-type {\n",
       "        vertical-align: middle;\n",
       "    }\n",
       "\n",
       "    .dataframe tbody tr th {\n",
       "        vertical-align: top;\n",
       "    }\n",
       "\n",
       "    .dataframe thead th {\n",
       "        text-align: right;\n",
       "    }\n",
       "</style>\n",
       "<table border=\"1\" class=\"dataframe\">\n",
       "  <thead>\n",
       "    <tr style=\"text-align: right;\">\n",
       "      <th></th>\n",
       "      <th>Product Type</th>\n",
       "      <th>Net Quantity</th>\n",
       "      <th>Gross Sales</th>\n",
       "      <th>Discounts</th>\n",
       "      <th>Returns</th>\n",
       "      <th>Total Net Sales</th>\n",
       "    </tr>\n",
       "  </thead>\n",
       "  <tbody>\n",
       "    <tr>\n",
       "      <th>0</th>\n",
       "      <td>Art &amp; Sculpture</td>\n",
       "      <td>34</td>\n",
       "      <td>14935.0</td>\n",
       "      <td>-594.00</td>\n",
       "      <td>-1609.0</td>\n",
       "      <td>12732.00</td>\n",
       "    </tr>\n",
       "    <tr>\n",
       "      <th>1</th>\n",
       "      <td>Basket</td>\n",
       "      <td>13</td>\n",
       "      <td>3744.0</td>\n",
       "      <td>-316.80</td>\n",
       "      <td>0.0</td>\n",
       "      <td>3427.20</td>\n",
       "    </tr>\n",
       "    <tr>\n",
       "      <th>2</th>\n",
       "      <td>Basket</td>\n",
       "      <td>12</td>\n",
       "      <td>3825.0</td>\n",
       "      <td>-201.60</td>\n",
       "      <td>-288.0</td>\n",
       "      <td>3335.40</td>\n",
       "    </tr>\n",
       "    <tr>\n",
       "      <th>3</th>\n",
       "      <td>Basket</td>\n",
       "      <td>17</td>\n",
       "      <td>3035.0</td>\n",
       "      <td>-63.25</td>\n",
       "      <td>0.0</td>\n",
       "      <td>2971.75</td>\n",
       "    </tr>\n",
       "    <tr>\n",
       "      <th>4</th>\n",
       "      <td>Art &amp; Sculpture</td>\n",
       "      <td>47</td>\n",
       "      <td>2696.8</td>\n",
       "      <td>-44.16</td>\n",
       "      <td>0.0</td>\n",
       "      <td>2652.64</td>\n",
       "    </tr>\n",
       "  </tbody>\n",
       "</table>\n",
       "</div>"
      ],
      "text/plain": [
       "      Product Type  Net Quantity  Gross Sales  Discounts  Returns  \\\n",
       "0  Art & Sculpture            34      14935.0    -594.00  -1609.0   \n",
       "1           Basket            13       3744.0    -316.80      0.0   \n",
       "2           Basket            12       3825.0    -201.60   -288.0   \n",
       "3           Basket            17       3035.0     -63.25      0.0   \n",
       "4  Art & Sculpture            47       2696.8     -44.16      0.0   \n",
       "\n",
       "   Total Net Sales  \n",
       "0         12732.00  \n",
       "1          3427.20  \n",
       "2          3335.40  \n",
       "3          2971.75  \n",
       "4          2652.64  "
      ]
     },
     "execution_count": 588,
     "metadata": {},
     "output_type": "execute_result"
    }
   ],
   "source": [
    "dff = pd.read_csv(\"C:\\скил\\DST-156\\IDE_NEW\\Домашнее задание. Этап 1/retailsales.csv\")\n",
    "dff.head()"
   ]
  },
  {
   "cell_type": "code",
   "execution_count": 589,
   "metadata": {},
   "outputs": [
    {
     "data": {
      "text/plain": [
       "max    1744.583333\n",
       "min      23.788889\n",
       "dtype: float64"
      ]
     },
     "execution_count": 589,
     "metadata": {},
     "output_type": "execute_result"
    }
   ],
   "source": [
    "dff.groupby(\"Product Type\")[\"Gross Sales\"].agg(['max', 'min']).mean()"
   ]
  },
  {
   "cell_type": "code",
   "execution_count": 590,
   "metadata": {},
   "outputs": [
    {
     "name": "stdout",
     "output_type": "stream",
     "text": [
      "1720.79\n"
     ]
    }
   ],
   "source": [
    "mask_4=dff.groupby(\"Product Type\")[\"Gross Sales\"].max().mean()\n",
    "mask_5=dff.groupby(\"Product Type\")[\"Gross Sales\"].min().mean()\n",
    "mask_6=mask_4-mask_5\n",
    "print(round(mask_6,2))"
   ]
  },
  {
   "cell_type": "markdown",
   "metadata": {},
   "source": [
    "Домашнее задание. Этап III"
   ]
  },
  {
   "cell_type": "code",
   "execution_count": 591,
   "metadata": {},
   "outputs": [
    {
     "name": "stdout",
     "output_type": "stream",
     "text": [
      "<class 'pandas.core.frame.DataFrame'>\n",
      "Index: 10063 entries, 0 to 10062\n",
      "Data columns (total 17 columns):\n",
      " #   Column              Non-Null Count  Dtype  \n",
      "---  ------              --------------  -----  \n",
      " 0   title               10063 non-null  object \n",
      " 1   authors             10063 non-null  object \n",
      " 2   average_rating      8591 non-null   float64\n",
      " 3   language_code       10063 non-null  object \n",
      " 4   num_pages           8379 non-null   float64\n",
      " 5   ratings_count       10063 non-null  int64  \n",
      " 6   text_reviews_count  10063 non-null  int64  \n",
      " 7   publication_date    10063 non-null  object \n",
      " 8   publisher           9508 non-null   object \n",
      " 9   title_ser           10063 non-null  object \n",
      " 10  num_in_ser          10063 non-null  int64  \n",
      " 11  month               10063 non-null  int64  \n",
      " 12  day                 10063 non-null  int64  \n",
      " 13  year                10063 non-null  int64  \n",
      " 14  century             10063 non-null  int64  \n",
      " 15  num_coauthors       10063 non-null  int64  \n",
      " 16  pages_category      8379 non-null   object \n",
      "dtypes: float64(2), int64(8), object(7)\n",
      "memory usage: 1.6+ MB\n"
     ]
    }
   ],
   "source": [
    "df.info()"
   ]
  },
  {
   "cell_type": "markdown",
   "metadata": {},
   "source": [
    "Вопрос 1\n",
    "\n",
    "Определите среднее значение признака ratings_count, для книг c не более чем 3 авторами (num_coauthors). Ответ округлите до двух знаков\n",
    "\n"
   ]
  },
  {
   "cell_type": "code",
   "execution_count": 592,
   "metadata": {},
   "outputs": [
    {
     "data": {
      "text/plain": [
       "np.float64(17802.78)"
      ]
     },
     "execution_count": 592,
     "metadata": {},
     "output_type": "execute_result"
    }
   ],
   "source": [
    "round  (df['ratings_count']   [df['num_coauthors'] <=3 ]  . mean(),2)"
   ]
  },
  {
   "cell_type": "markdown",
   "metadata": {},
   "source": [
    "Вопрос 2\n",
    "\n",
    "Какой наименьший рейтинг (average_rating) у книги Agatha Christie (authors)"
   ]
  },
  {
   "cell_type": "code",
   "execution_count": 593,
   "metadata": {},
   "outputs": [
    {
     "data": {
      "text/plain": [
       "np.float64(3.66)"
      ]
     },
     "execution_count": 593,
     "metadata": {},
     "output_type": "execute_result"
    }
   ],
   "source": [
    "df['average_rating']   [df['authors'] =='Agatha Christie' ]  . min()"
   ]
  },
  {
   "cell_type": "code",
   "execution_count": 594,
   "metadata": {},
   "outputs": [
    {
     "data": {
      "text/plain": [
       "4100    3.66\n",
       "7372    3.70\n",
       "4105    3.77\n",
       "7370    3.80\n",
       "4119    3.83\n",
       "4113    3.83\n",
       "4111    3.83\n",
       "4102    3.85\n",
       "4112    3.87\n",
       "4093    3.92\n",
       "7380    3.94\n",
       "4115    3.94\n",
       "4096    3.95\n",
       "4099    3.97\n",
       "4094    3.98\n",
       "4104    4.01\n",
       "4101    4.04\n",
       "4103    4.05\n",
       "4109    4.05\n",
       "4118    4.10\n",
       "4098    4.17\n",
       "4151    4.21\n",
       "4106    4.24\n",
       "4095    4.26\n",
       "7375    4.32\n",
       "7371    4.39\n",
       "4110     NaN\n",
       "4114     NaN\n",
       "4137     NaN\n",
       "7373     NaN\n",
       "Name: average_rating, dtype: float64"
      ]
     },
     "execution_count": 594,
     "metadata": {},
     "output_type": "execute_result"
    }
   ],
   "source": [
    "df['average_rating']   [df['authors'] =='Agatha Christie' ].sort_values(ascending=True)"
   ]
  },
  {
   "cell_type": "markdown",
   "metadata": {},
   "source": [
    "Вопрос 3\n",
    "\n",
    "Общее количество пользователей поставивших оценку книгам (ratings_count) издательства HarperCollins (publisher)"
   ]
  },
  {
   "cell_type": "code",
   "execution_count": 595,
   "metadata": {},
   "outputs": [
    {
     "data": {
      "text/plain": [
       "np.int64(1037984)"
      ]
     },
     "execution_count": 595,
     "metadata": {},
     "output_type": "execute_result"
    }
   ],
   "source": [
    "df['ratings_count']   [df['publisher'] =='HarperCollins' ].sum()"
   ]
  },
  {
   "cell_type": "markdown",
   "metadata": {},
   "source": [
    "Вопрос 4\n",
    "\n",
    "Создайте отсортированный по алфавиту список уникальных авторов (authors) опубликованных в 1975 году (year)."
   ]
  },
  {
   "cell_type": "code",
   "execution_count": 596,
   "metadata": {},
   "outputs": [
    {
     "data": {
      "text/plain": [
       "array(['Arthur Bennett', 'Carolyn Haywood',\n",
       "       'Charles A. Peek/CliffsNotes/Joseph Heller', 'Elena N. Mahlow',\n",
       "       'Enid Blyton', 'George Balanchine/Francis Mason',\n",
       "       'H.G. Wells/E.F. Bleiler', 'John Brunner',\n",
       "       'Lady Sarashina/Ivan Morris', 'Piers Anthony', 'Robert A. Caro',\n",
       "       'Walter Kaufmann', 'Zilpha Keatley Snyder/Alton Raible'],\n",
       "      dtype=object)"
      ]
     },
     "execution_count": 596,
     "metadata": {},
     "output_type": "execute_result"
    }
   ],
   "source": [
    "df['authors']   [df['year'] ==1975 ].sort_values(ascending=True).unique()"
   ]
  },
  {
   "cell_type": "code",
   "execution_count": 597,
   "metadata": {},
   "outputs": [
    {
     "data": {
      "text/plain": [
       "['Arthur Bennett',\n",
       " 'Carolyn Haywood',\n",
       " 'Charles A. Peek/CliffsNotes/Joseph Heller',\n",
       " 'Elena N. Mahlow',\n",
       " 'Enid Blyton',\n",
       " 'George Balanchine/Francis Mason',\n",
       " 'H.G. Wells/E.F. Bleiler',\n",
       " 'John Brunner',\n",
       " 'Lady Sarashina/Ivan Morris',\n",
       " 'Piers Anthony',\n",
       " 'Robert A. Caro',\n",
       " 'Walter Kaufmann',\n",
       " 'Zilpha Keatley Snyder/Alton Raible']"
      ]
     },
     "execution_count": 597,
     "metadata": {},
     "output_type": "execute_result"
    }
   ],
   "source": [
    "list(df['authors']   [df['year'] ==1975 ].sort_values(ascending=True))"
   ]
  },
  {
   "cell_type": "markdown",
   "metadata": {},
   "source": [
    "Вопрос 5\n",
    "\n",
    "Создайте сводную таблицу: в рядах должны быть года публикации книг (year), в колонке количество оценок пользователей (ratings_count), в ячейках — среднее количество пользовательских оценок. Для книг какого года публикации количество пользовательский оценок минимально."
   ]
  },
  {
   "cell_type": "code",
   "execution_count": 598,
   "metadata": {},
   "outputs": [
    {
     "data": {
      "text/plain": [
       "year\n",
       "1922         0.000000\n",
       "1931         4.000000\n",
       "1935        15.000000\n",
       "1925        19.000000\n",
       "1921        29.500000\n",
       "            ...      \n",
       "2003     26759.392557\n",
       "2020     35275.000000\n",
       "2010     35857.441176\n",
       "2013     44058.142857\n",
       "1952    117630.500000\n",
       "Name: ratings_count, Length: 86, dtype: float64"
      ]
     },
     "execution_count": 598,
     "metadata": {},
     "output_type": "execute_result"
    }
   ],
   "source": [
    "df.groupby(\"year\")[\"ratings_count\"].mean().sort_values(ascending=True)"
   ]
  },
  {
   "cell_type": "markdown",
   "metadata": {},
   "source": [
    "Вопрос 6\n",
    "\n",
    "Создайте сводную таблицу: в рядах должны быть категории книг по количеству страниц (pages_category) и язык на котором написана книга (language_code), в колонке рейтинг книги (average_rating), в ячейках — сумма по признаку рейтинг для каждой категории и языка. Укажите какой суммарный рейтинг для книг в категории от 1000 стр., написанных на английском. Ответ округлите до двух знаков."
   ]
  },
  {
   "cell_type": "code",
   "execution_count": 599,
   "metadata": {},
   "outputs": [
    {
     "data": {
      "text/plain": [
       "pages_category       language_code\n",
       "до 100 стр.          eng               1941.96\n",
       "                     other              471.35\n",
       "от 100 до 500 стр.   eng              17374.46\n",
       "                     other             4154.08\n",
       "от 1000 стр.         eng                396.80\n",
       "                     other               87.13\n",
       "от 500 до 1000 стр.  eng               2971.99\n",
       "                     other              718.77\n",
       "Name: average_rating, dtype: float64"
      ]
     },
     "execution_count": 599,
     "metadata": {},
     "output_type": "execute_result"
    }
   ],
   "source": [
    "df.groupby(['pages_category', 'language_code'])['average_rating'].sum()"
   ]
  },
  {
   "cell_type": "code",
   "execution_count": 600,
   "metadata": {},
   "outputs": [
    {
     "data": {
      "text/plain": [
       "np.float64(396.79999999999995)"
      ]
     },
     "execution_count": 600,
     "metadata": {},
     "output_type": "execute_result"
    }
   ],
   "source": [
    "df['average_rating']   [(df['pages_category'] =='от 1000 стр.' )&   (df['language_code'] =='eng')].sum()"
   ]
  },
  {
   "cell_type": "markdown",
   "metadata": {},
   "source": [
    "Вопрос 7\n",
    "\n",
    "Создайте сводную таблицу: в рядах должны быть издательства (publisher), в колонках максимальное и минимальное количество оценок пользователей на книги каждого издательства (ratings_count).  Найдите разницу между максимальным и минимальным количеством оценок пользователей для каждого издательства. В ответ укажите издательство для которого разница между максимальным и минимальным количеством оценок наибольшая."
   ]
  },
  {
   "cell_type": "code",
   "execution_count": 601,
   "metadata": {},
   "outputs": [
    {
     "data": {
      "text/html": [
       "<div>\n",
       "<style scoped>\n",
       "    .dataframe tbody tr th:only-of-type {\n",
       "        vertical-align: middle;\n",
       "    }\n",
       "\n",
       "    .dataframe tbody tr th {\n",
       "        vertical-align: top;\n",
       "    }\n",
       "\n",
       "    .dataframe thead th {\n",
       "        text-align: right;\n",
       "    }\n",
       "</style>\n",
       "<table border=\"1\" class=\"dataframe\">\n",
       "  <thead>\n",
       "    <tr style=\"text-align: right;\">\n",
       "      <th></th>\n",
       "      <th>max</th>\n",
       "      <th>min</th>\n",
       "    </tr>\n",
       "    <tr>\n",
       "      <th>publisher</th>\n",
       "      <th></th>\n",
       "      <th></th>\n",
       "    </tr>\n",
       "  </thead>\n",
       "  <tbody>\n",
       "    <tr>\n",
       "      <th>10/18</th>\n",
       "      <td>6</td>\n",
       "      <td>6</td>\n",
       "    </tr>\n",
       "    <tr>\n",
       "      <th>1st Book Library</th>\n",
       "      <td>54</td>\n",
       "      <td>54</td>\n",
       "    </tr>\n",
       "    <tr>\n",
       "      <th>A &amp; C Black (Childrens books)</th>\n",
       "      <td>5</td>\n",
       "      <td>5</td>\n",
       "    </tr>\n",
       "    <tr>\n",
       "      <th>A Harvest Book/Harcourt  Inc.</th>\n",
       "      <td>244</td>\n",
       "      <td>244</td>\n",
       "    </tr>\n",
       "    <tr>\n",
       "      <th>A K PETERS</th>\n",
       "      <td>17</td>\n",
       "      <td>17</td>\n",
       "    </tr>\n",
       "    <tr>\n",
       "      <th>...</th>\n",
       "      <td>...</td>\n",
       "      <td>...</td>\n",
       "    </tr>\n",
       "    <tr>\n",
       "      <th>聯經出版事業股份有限公司</th>\n",
       "      <td>26</td>\n",
       "      <td>24</td>\n",
       "    </tr>\n",
       "    <tr>\n",
       "      <th>英文漢聲出版股份有限公司</th>\n",
       "      <td>27</td>\n",
       "      <td>27</td>\n",
       "    </tr>\n",
       "    <tr>\n",
       "      <th>角川書店 (Kadokawa Shoten)</th>\n",
       "      <td>2</td>\n",
       "      <td>2</td>\n",
       "    </tr>\n",
       "    <tr>\n",
       "      <th>講談社</th>\n",
       "      <td>6</td>\n",
       "      <td>6</td>\n",
       "    </tr>\n",
       "    <tr>\n",
       "      <th>集英社</th>\n",
       "      <td>331</td>\n",
       "      <td>8</td>\n",
       "    </tr>\n",
       "  </tbody>\n",
       "</table>\n",
       "<p>2110 rows × 2 columns</p>\n",
       "</div>"
      ],
      "text/plain": [
       "                               max  min\n",
       "publisher                              \n",
       "10/18                            6    6\n",
       "1st Book Library                54   54\n",
       "A & C Black (Childrens books)    5    5\n",
       "A Harvest Book/Harcourt  Inc.  244  244\n",
       "A K PETERS                      17   17\n",
       "...                            ...  ...\n",
       "聯經出版事業股份有限公司                    26   24\n",
       "英文漢聲出版股份有限公司                    27   27\n",
       "角川書店 (Kadokawa Shoten)           2    2\n",
       "講談社                              6    6\n",
       "集英社                            331    8\n",
       "\n",
       "[2110 rows x 2 columns]"
      ]
     },
     "execution_count": 601,
     "metadata": {},
     "output_type": "execute_result"
    }
   ],
   "source": [
    "df.groupby('publisher')['ratings_count'].agg(['max','min'])"
   ]
  },
  {
   "cell_type": "code",
   "execution_count": 602,
   "metadata": {},
   "outputs": [
    {
     "data": {
      "text/plain": [
       "publisher\n",
       "Little  Brown and Company       4597666\n",
       "Houghton Mifflin                2530894\n",
       "Back Bay Books                  2457092\n",
       "Pocket Books                    2418736\n",
       "Scholastic Inc.                 2339585\n",
       "                                 ...   \n",
       "Raintree                              0\n",
       "Rosenberg Publishing                  0\n",
       "Arts Publications                     0\n",
       "Salem Press Inc                       0\n",
       "Random House Puzzles & Games          0\n",
       "Name: ratings_count, Length: 2110, dtype: int64"
      ]
     },
     "execution_count": 602,
     "metadata": {},
     "output_type": "execute_result"
    }
   ],
   "source": [
    "mask_7=df.groupby('publisher')['ratings_count'].max()\n",
    "mask_7.sort_values(ascending=False)"
   ]
  },
  {
   "cell_type": "code",
   "execution_count": 603,
   "metadata": {},
   "outputs": [
    {
     "data": {
      "text/plain": [
       "publisher\n",
       "Disney Hyperion Books                     1766725\n",
       "HarperPerennial / Perennial Classics      1247221\n",
       "Random House: Modern Library               760717\n",
       "William Morrow; 1ST edition                414947\n",
       "W.W. Norton & Company (NYC)                388782\n",
       "                                           ...   \n",
       "BBC Physical Audio                              0\n",
       "McGraw-Hill Companies                           0\n",
       "小学館 [Shōgakukan]                               0\n",
       "Métailié                                        0\n",
       "William B. Eerdmans Publishing Company          0\n",
       "Name: ratings_count, Length: 2110, dtype: int64"
      ]
     },
     "execution_count": 603,
     "metadata": {},
     "output_type": "execute_result"
    }
   ],
   "source": [
    "mask_8=df.groupby('publisher')['ratings_count'].min()\n",
    "mask_8.sort_values(ascending=False)"
   ]
  },
  {
   "cell_type": "code",
   "execution_count": 604,
   "metadata": {},
   "outputs": [
    {
     "data": {
      "text/plain": [
       "publisher\n",
       "Little  Brown and Company        4597442\n",
       "Houghton Mifflin                 2530894\n",
       "Back Bay Books                   2456898\n",
       "Pocket Books                     2418731\n",
       "Scholastic Inc.                  2339585\n",
       "                                  ...   \n",
       "Ace Book                               0\n",
       "Academy Chicago Publishers             0\n",
       "Academica Press                        0\n",
       "Academic Press                         0\n",
       "A Harvest Book/Harcourt  Inc.          0\n",
       "Name: ratings_count, Length: 2110, dtype: int64"
      ]
     },
     "execution_count": 604,
     "metadata": {},
     "output_type": "execute_result"
    }
   ],
   "source": [
    "(mask_7-mask_8).sort_values(ascending=False)"
   ]
  },
  {
   "cell_type": "markdown",
   "metadata": {},
   "source": [
    "Вопрос 8\n",
    "\n",
    "Постройте сводную таблицу по книгам, у которых количество оценок и пользовательских рецензий (ratings_count и text_reviews_count) не равно 0: в рядах должны быть авторы (authors), в колонках количество пользователей, поставивших оценку книге (ratings_count), и  пользовательских рецензий на книгу (text_reviews_count), в ячейках — среднее по переменным  ratings_count и text_reviews_count. Укажите сколько авторов имеют максимальное cоотношение text_reviews_count/ratings_count. \n"
   ]
  },
  {
   "cell_type": "code",
   "execution_count": 605,
   "metadata": {},
   "outputs": [],
   "source": [
    "mask_9=df [(df['ratings_count'] != 0 )   &   (df['text_reviews_count'] != 0)]\n",
    "#mask_9['ratings_count'].sort_values(ascending=True).min()"
   ]
  },
  {
   "cell_type": "code",
   "execution_count": 623,
   "metadata": {},
   "outputs": [
    {
     "data": {
      "text/plain": [
       "authors\n",
       "Stephenie Meyer                                                   4597666.00\n",
       "George Orwell/Boris Grabnar/Peter Škerl                           2111750.00\n",
       "William Shakespeare/Paul Werstine/Barbara A. Mowat                1893917.00\n",
       "J.K. Rowling/Mary GrandPré                                        1647147.25\n",
       "Markus Zusak/Cao Xuân Việt Khương                                 1516367.00\n",
       "                                                                     ...    \n",
       "Robin Lane  Fox/Vita Sackville-West/Freda Titford/Ken Kirkwood          1.00\n",
       "Richard W. Bulliet/Pamela Kyle Crossley/Steven Hirsch                   1.00\n",
       "Anthony Mcreavy                                                         1.00\n",
       "Theocritus/Kenneth James Dover                                          1.00\n",
       "Gregory Maguire/Mechtild Sandberg-Ciletti                               1.00\n",
       "Name: ratings_count, Length: 5838, dtype: float64"
      ]
     },
     "execution_count": 623,
     "metadata": {},
     "output_type": "execute_result"
    }
   ],
   "source": [
    "mask_9_1=mask_9.groupby('authors')['ratings_count'].mean().sort_values(ascending=False)\n",
    "mask_9_1"
   ]
  },
  {
   "cell_type": "code",
   "execution_count": 624,
   "metadata": {},
   "outputs": [
    {
     "data": {
      "text/plain": [
       "authors\n",
       "Stephenie Meyer                                            94265.0\n",
       "Markus Zusak/Cao Xuân Việt Khương                          86881.0\n",
       "Sara Gruen                                                 52759.0\n",
       "Jeannette Walls                                            46176.0\n",
       "George Orwell/Boris Grabnar/Peter Škerl                    29677.0\n",
       "                                                            ...   \n",
       "Carl Hiaasen/Edward Asner                                      1.0\n",
       "Loree Lough                                                    1.0\n",
       "Michael K. Brett-Surman/Thomas R. Holtz Jr./Bob Walters        1.0\n",
       "FASA Corporation/Ian Lemke/Louis J. Prosperi                   1.0\n",
       "Frances Stonor Saunders                                        1.0\n",
       "Name: text_reviews_count, Length: 5838, dtype: float64"
      ]
     },
     "execution_count": 624,
     "metadata": {},
     "output_type": "execute_result"
    }
   ],
   "source": [
    "mask_9_2=mask_9.groupby('authors')['text_reviews_count'].mean().sort_values(ascending=False)\n",
    "mask_9_2"
   ]
  },
  {
   "cell_type": "code",
   "execution_count": 630,
   "metadata": {},
   "outputs": [
    {
     "data": {
      "text/plain": [
       "authors\n",
       "Robin Lane  Fox/Vita Sackville-West/Freda Titford/Ken Kirkwood    1.000000\n",
       "Richard W. Bulliet/Pamela Kyle Crossley/Steven Hirsch             1.000000\n",
       "Chet Green                                                        1.000000\n",
       "Chris    Green/Chris Wright/Paul Douglas Gardner                  1.000000\n",
       "Theocritus/Kenneth James Dover                                    1.000000\n",
       "William C. Dowling                                                1.000000\n",
       "Anthony Mcreavy                                                   1.000000\n",
       "Gregory Maguire/Mechtild Sandberg-Ciletti                         1.000000\n",
       "Brian Braithwaite/Noelle Walsh/Glyn Davies                        1.000000\n",
       "Mymi Doinet/Benjamin Chaud                                        1.000000\n",
       "Doug McClelland/Ted Sennett                                       0.666667\n",
       "dtype: float64"
      ]
     },
     "execution_count": 630,
     "metadata": {},
     "output_type": "execute_result"
    }
   ],
   "source": [
    "mask_9_3=(mask_9_2/mask_9_1).sort_values(ascending=False)\n",
    "mask_9_3.head(11)"
   ]
  },
  {
   "cell_type": "code",
   "execution_count": 617,
   "metadata": {},
   "outputs": [
    {
     "data": {
      "text/html": [
       "<div>\n",
       "<style scoped>\n",
       "    .dataframe tbody tr th:only-of-type {\n",
       "        vertical-align: middle;\n",
       "    }\n",
       "\n",
       "    .dataframe tbody tr th {\n",
       "        vertical-align: top;\n",
       "    }\n",
       "\n",
       "    .dataframe thead tr th {\n",
       "        text-align: left;\n",
       "    }\n",
       "\n",
       "    .dataframe thead tr:last-of-type th {\n",
       "        text-align: right;\n",
       "    }\n",
       "</style>\n",
       "<table border=\"1\" class=\"dataframe\">\n",
       "  <thead>\n",
       "    <tr>\n",
       "      <th></th>\n",
       "      <th>ratings_count</th>\n",
       "      <th>text_reviews_count</th>\n",
       "    </tr>\n",
       "    <tr>\n",
       "      <th></th>\n",
       "      <th>mean</th>\n",
       "      <th>mean</th>\n",
       "    </tr>\n",
       "    <tr>\n",
       "      <th>authors</th>\n",
       "      <th></th>\n",
       "      <th></th>\n",
       "    </tr>\n",
       "  </thead>\n",
       "  <tbody>\n",
       "    <tr>\n",
       "      <th>A.B. Yehoshua/Hillel Halkin</th>\n",
       "      <td>654.0</td>\n",
       "      <td>88.0</td>\n",
       "    </tr>\n",
       "    <tr>\n",
       "      <th>A.D.P. Briggs/Leo Tolstoy/Fyodor Dostoyevsky</th>\n",
       "      <td>17.0</td>\n",
       "      <td>1.0</td>\n",
       "    </tr>\n",
       "    <tr>\n",
       "      <th>A.E. Cunningham/Harlan Ellison/Charles F. Miller/Terry Dowling/Paul Rhoads/Jack Vance/Tom Shippey/Gene Wolfe/David Langford/Dan Simmons/David Mathew</th>\n",
       "      <td>13.0</td>\n",
       "      <td>2.0</td>\n",
       "    </tr>\n",
       "    <tr>\n",
       "      <th>A.J. Jacobs</th>\n",
       "      <td>24243.0</td>\n",
       "      <td>2326.0</td>\n",
       "    </tr>\n",
       "    <tr>\n",
       "      <th>A.M. Homes</th>\n",
       "      <td>3282.0</td>\n",
       "      <td>518.0</td>\n",
       "    </tr>\n",
       "    <tr>\n",
       "      <th>...</th>\n",
       "      <td>...</td>\n",
       "      <td>...</td>\n",
       "    </tr>\n",
       "    <tr>\n",
       "      <th>Émile Zola/Henri Mitterand</th>\n",
       "      <td>6293.0</td>\n",
       "      <td>152.0</td>\n",
       "    </tr>\n",
       "    <tr>\n",
       "      <th>Émile Zola/Robert Lethbridge/Elinor Dorday</th>\n",
       "      <td>821.0</td>\n",
       "      <td>52.0</td>\n",
       "    </tr>\n",
       "    <tr>\n",
       "      <th>Émile Zola/Robin Buss/Brian  Nelson</th>\n",
       "      <td>5525.0</td>\n",
       "      <td>342.0</td>\n",
       "    </tr>\n",
       "    <tr>\n",
       "      <th>Émile Zola/Roger Pearson</th>\n",
       "      <td>12555.5</td>\n",
       "      <td>425.5</td>\n",
       "    </tr>\n",
       "    <tr>\n",
       "      <th>Éric-Emmanuel Schmitt</th>\n",
       "      <td>975.0</td>\n",
       "      <td>62.0</td>\n",
       "    </tr>\n",
       "  </tbody>\n",
       "</table>\n",
       "<p>5838 rows × 2 columns</p>\n",
       "</div>"
      ],
      "text/plain": [
       "                                                   ratings_count  \\\n",
       "                                                            mean   \n",
       "authors                                                            \n",
       "A.B. Yehoshua/Hillel Halkin                                654.0   \n",
       "A.D.P. Briggs/Leo Tolstoy/Fyodor Dostoyevsky                17.0   \n",
       "A.E. Cunningham/Harlan Ellison/Charles F. Mille...          13.0   \n",
       "A.J. Jacobs                                              24243.0   \n",
       "A.M. Homes                                                3282.0   \n",
       "...                                                          ...   \n",
       "Émile Zola/Henri Mitterand                                6293.0   \n",
       "Émile Zola/Robert Lethbridge/Elinor Dorday                 821.0   \n",
       "Émile Zola/Robin Buss/Brian  Nelson                       5525.0   \n",
       "Émile Zola/Roger Pearson                                 12555.5   \n",
       "Éric-Emmanuel Schmitt                                      975.0   \n",
       "\n",
       "                                                   text_reviews_count  \n",
       "                                                                 mean  \n",
       "authors                                                                \n",
       "A.B. Yehoshua/Hillel Halkin                                      88.0  \n",
       "A.D.P. Briggs/Leo Tolstoy/Fyodor Dostoyevsky                      1.0  \n",
       "A.E. Cunningham/Harlan Ellison/Charles F. Mille...                2.0  \n",
       "A.J. Jacobs                                                    2326.0  \n",
       "A.M. Homes                                                      518.0  \n",
       "...                                                               ...  \n",
       "Émile Zola/Henri Mitterand                                      152.0  \n",
       "Émile Zola/Robert Lethbridge/Elinor Dorday                       52.0  \n",
       "Émile Zola/Robin Buss/Brian  Nelson                             342.0  \n",
       "Émile Zola/Roger Pearson                                        425.5  \n",
       "Éric-Emmanuel Schmitt                                            62.0  \n",
       "\n",
       "[5838 rows x 2 columns]"
      ]
     },
     "execution_count": 617,
     "metadata": {},
     "output_type": "execute_result"
    }
   ],
   "source": [
    "#mask_9.groupby('authors')[['ratings_count','text_reviews_count']].agg(['mean'])"
   ]
  }
 ],
 "metadata": {
  "kernelspec": {
   "display_name": "Python 3",
   "language": "python",
   "name": "python3"
  },
  "language_info": {
   "codemirror_mode": {
    "name": "ipython",
    "version": 3
   },
   "file_extension": ".py",
   "mimetype": "text/x-python",
   "name": "python",
   "nbconvert_exporter": "python",
   "pygments_lexer": "ipython3",
   "version": "3.11.9"
  }
 },
 "nbformat": 4,
 "nbformat_minor": 2
}
