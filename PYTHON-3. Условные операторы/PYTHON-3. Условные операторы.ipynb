{
 "cells": [
  {
   "cell_type": "code",
   "execution_count": 6,
   "metadata": {},
   "outputs": [
    {
     "name": "stdout",
     "output_type": "stream",
     "text": [
      "70\n",
      "102\n"
     ]
    }
   ],
   "source": [
    "print(ord('F'))\n",
    "print(ord('f'))\n"
   ]
  },
  {
   "cell_type": "code",
   "execution_count": 3,
   "metadata": {},
   "outputs": [
    {
     "name": "stdout",
     "output_type": "stream",
     "text": [
      "False\n",
      "True\n"
     ]
    }
   ],
   "source": [
    "name_user_1029='Andrey'\n",
    "name_user_1040='Vladimir'\n",
    "name_user_1042='Andrey'\n",
    "\n",
    "print(name_user_1029==name_user_1040)\n",
    "print(name_user_1029==name_user_1042)"
   ]
  },
  {
   "cell_type": "code",
   "execution_count": 7,
   "metadata": {},
   "outputs": [
    {
     "name": "stdout",
     "output_type": "stream",
     "text": [
      "True\n"
     ]
    }
   ],
   "source": [
    "# Создаём 2 идентичных списка\n",
    "languages_list_1 = ['Python', 'C++', 'C#', 'Java']\n",
    "languages_list_2 = ['Python', 'C++', 'C#', 'Java']\n",
    "# Проверяем их равенство\n",
    "print(languages_list_1 == languages_list_2)"
   ]
  },
  {
   "cell_type": "code",
   "execution_count": 8,
   "metadata": {},
   "outputs": [
    {
     "name": "stdout",
     "output_type": "stream",
     "text": [
      "True\n"
     ]
    }
   ],
   "source": [
    "# Создаём 2 идентичных словаря, различающихся порядком записи ключей\n",
    "store_dict_1 = {'Яблоки': 158, 'Мандарины': 178, 'Хлеб': 56}\n",
    "store_dict_2 = {'Хлеб': 56, 'Яблоки': 158, 'Мандарины': 178}\n",
    "# Проверяем их равенство\n",
    "print(store_dict_1 == store_dict_2)\n",
    "## True"
   ]
  },
  {
   "cell_type": "markdown",
   "metadata": {},
   "source": [
    "Задание 2.4 (External resource)\n",
    "\n",
    "Напишите условие, которое проверяет, является ли строка палиндромом.\n",
    "\n",
    "Палиндром читается одинаково слева направо и справа налево. Например: \"шалаш\", \"казак\", \"мадам\", \"коту тащат уток\".\n",
    "\n",
    "Строка, которую мы хотим проверить, находится в переменной target_string.\n",
    "\n",
    "Важно: Обратите внимание, что результат работы программы не должен зависеть от пробелов, а также регистра символов, поэтому алгоритм решения задачи будет следующим:\n",
    "\n",
    "привести строку к нижнему (или верхнему) регистру (это можно сделать с помощью методов lower() и upper())\n",
    "\n",
    "убрать из нее все пробелы (это можно сделать с помощью метода replace(), передав в него первым аргументом символ пробела ' ', а вторым аргументом символ пустой строки — '')\n",
    "\n",
    "проверить равенство полученной строки с её развернутым аналогом (развернуть строку можно с помощью срезов с отрицательным шагом — target_string[::-1])\n",
    "\n",
    "Результатом работы условия должно стать булево значение — True или False, в зависимости от того, является ли строка палиндромом. Занесите этот результат в переменную result."
   ]
  },
  {
   "cell_type": "code",
   "execution_count": null,
   "metadata": {},
   "outputs": [
    {
     "data": {
      "text/plain": [
       "False"
      ]
     },
     "execution_count": 17,
     "metadata": {},
     "output_type": "execute_result"
    }
   ],
   "source": [
    "target_string = 'Коту тащат уток'\n",
    "target_string=target_string.lower()\n",
    "target_string=target_string.replace(' ','')\n",
    "target_string_add=target_string[::-1]\n",
    "result=(target_string==target_string_add)\n",
    "result"
   ]
  },
  {
   "cell_type": "code",
   "execution_count": 18,
   "metadata": {},
   "outputs": [
    {
     "name": "stdout",
     "output_type": "stream",
     "text": [
      "False\n",
      "True\n",
      "True\n",
      "False\n"
     ]
    }
   ],
   "source": [
    "print(not True)\n",
    "## False\n",
    "print(not False)\n",
    "## True\n",
    "print(not (5 == 10))\n",
    "## True\n",
    "print(not ('abc' != 'bca'))\n",
    "## False"
   ]
  },
  {
   "cell_type": "code",
   "execution_count": 19,
   "metadata": {},
   "outputs": [
    {
     "name": "stdout",
     "output_type": "stream",
     "text": [
      "True\n"
     ]
    }
   ],
   "source": [
    "a = 1\n",
    "# Создаём первое условие\n",
    "cond1 = 0 < a \n",
    "# Создаём второе условие\n",
    "cond2 = 4 > a\n",
    "# Проверяем, будут ли выполняться два условия одновременно\n",
    "print(cond1 and cond2)"
   ]
  },
  {
   "cell_type": "code",
   "execution_count": 22,
   "metadata": {},
   "outputs": [
    {
     "name": "stdout",
     "output_type": "stream",
     "text": [
      "False\n"
     ]
    }
   ],
   "source": [
    "sym = 't'\n",
    "# Проверяем, содержится ли символ в строке \"python\"\n",
    "cond3 = sym in \"python\"\n",
    "# Проверяем, содержится ли символ в строке \"django\"\n",
    "cond4 = sym in \"django\"\n",
    "# Проверяем, содержится ли символ в обеих строках\n",
    "print(cond3 and cond4)\n",
    "## False"
   ]
  },
  {
   "cell_type": "code",
   "execution_count": 24,
   "metadata": {},
   "outputs": [
    {
     "name": "stdout",
     "output_type": "stream",
     "text": [
      "True\n"
     ]
    }
   ],
   "source": [
    "# Проверяем, что символ 't' есть хотя бы в одной из строк\n",
    "print(('t' in \"python\") or ('t' in \"django\"))\n",
    "## True"
   ]
  },
  {
   "cell_type": "code",
   "execution_count": 23,
   "metadata": {},
   "outputs": [
    {
     "name": "stdout",
     "output_type": "stream",
     "text": [
      "True\n"
     ]
    }
   ],
   "source": [
    "word1 = 'Institute'\n",
    "word2 = 'University'\n",
    "target_string = \"I graduated from the Moscow Aviation Institute in 2015, after which I got a job at…\"\n",
    "# Проверяем, содержится хотя бы одна из строк word1 или word2 в строке target_string\n",
    "# Для проверки принадлежности используем оператор in\n",
    "print((word1 in target_string) or (word2 in target_string))\n",
    "## True"
   ]
  },
  {
   "cell_type": "code",
   "execution_count": 25,
   "metadata": {},
   "outputs": [
    {
     "name": "stdout",
     "output_type": "stream",
     "text": [
      "False\n"
     ]
    }
   ],
   "source": [
    "print(not True or (True and not True))"
   ]
  },
  {
   "cell_type": "code",
   "execution_count": 26,
   "metadata": {},
   "outputs": [
    {
     "name": "stdout",
     "output_type": "stream",
     "text": [
      "True\n"
     ]
    }
   ],
   "source": [
    "print(     not\n",
    "      False\n",
    "      and\n",
    "      True\n",
    "      or\n",
    "      False\n",
    "      and\n",
    "      not\n",
    "      True)"
   ]
  },
  {
   "cell_type": "code",
   "execution_count": 28,
   "metadata": {},
   "outputs": [
    {
     "name": "stdout",
     "output_type": "stream",
     "text": [
      "True True False\n"
     ]
    }
   ],
   "source": [
    "x = 10\n",
    "y = 100\n",
    "z = (x % 2 == 0) and (y >= 100)\n",
    "v = (x % 2 == 0) or (y >= 100)\n",
    "w = not(x % 2 == 0) or not(y >= 100)\n",
    "print(z,v,w)"
   ]
  },
  {
   "cell_type": "markdown",
   "metadata": {},
   "source": [
    "Задание 2.8 (External resource)"
   ]
  },
  {
   "cell_type": "markdown",
   "metadata": {},
   "source": [
    "Напишите условие, которое проверяет, что значение переменной a, возведенное в квадрат строго больше, чем значение переменных b и c одновременно.\n",
    "\n",
    "Результатом работы условия должно стать булево значение — True или False, в зависимости от выполнения заданного условия.\n",
    "\n",
    "Занесите этот результат в переменную result.\n",
    "\n",
    "Примеры работы программы:\n",
    "\n",
    "\n",
    "a, b, c = 2, 5, 10\n",
    "result = False\n",
    "\n",
    "a, b, c = 3, 5, 8\n",
    "result = True\n",
    "Примечание: Обратите внимание, что для отправки кода на проверку переменные a, b и `c объявлять не нужно. Не забудьте удалить строку кода с их объявлением перед тем как отправить код на тестирование."
   ]
  },
  {
   "cell_type": "code",
   "execution_count": 38,
   "metadata": {},
   "outputs": [
    {
     "name": "stdout",
     "output_type": "stream",
     "text": [
      "True\n"
     ]
    }
   ],
   "source": [
    "a, b, c = 3, 5, 8\n",
    "print((a**2>b) and (a**2>c))"
   ]
  },
  {
   "cell_type": "markdown",
   "metadata": {},
   "source": [
    "Задание 2.9 (External resource)\n",
    "\n",
    "Представьте, что вы работаете аналитиком данных в больнице. Пусть переменные diagnosis_1, diagnosis_2 и diagnosis_3 хранят информацию о наличии у пациента различных хронических заболеваний (yes — да, no — нет). Реализуйте условие, которое проверяет, страдает ли пациент хотя бы от одного из них?\n",
    "\n",
    "Результатом должно стать булево значение — True или False. Занесите этот результат в переменную result.\n",
    "\n",
    "Примеры работы программы:\n",
    "\n",
    "\n",
    "` diagnosis_1, diagnosis_2 и diagnosis_3 = 'yes', 'yes', 'no'\n",
    "\n",
    "` result = True\n",
    "\n",
    "` diagnosis_1, diagnosis_2 и diagnosis_3 = 'no', 'no', 'no'\n",
    "\n",
    "` result = False"
   ]
  },
  {
   "cell_type": "code",
   "execution_count": 43,
   "metadata": {},
   "outputs": [
    {
     "data": {
      "text/plain": [
       "True"
      ]
     },
     "execution_count": 43,
     "metadata": {},
     "output_type": "execute_result"
    }
   ],
   "source": [
    "diagnosis_1, diagnosis_2, diagnosis_3 = 'yes', 'no', 'no'\n",
    "result=(diagnosis_1==\"yes\" or diagnosis_3==\"yes\" or diagnosis_3==\"yes\")\n",
    "result"
   ]
  },
  {
   "cell_type": "code",
   "execution_count": 44,
   "metadata": {},
   "outputs": [
    {
     "name": "stdout",
     "output_type": "stream",
     "text": [
      "1886974944688\n"
     ]
    }
   ],
   "source": [
    "a = 'Hello world!'\n",
    "print(id(a))\n",
    "## 1887879822657"
   ]
  },
  {
   "cell_type": "code",
   "execution_count": 45,
   "metadata": {},
   "outputs": [
    {
     "name": "stdout",
     "output_type": "stream",
     "text": [
      "1886975282928\n"
     ]
    }
   ],
   "source": [
    "a = 'Hello world!'\n",
    "print(id(a))\n",
    "## 1887879822657"
   ]
  },
  {
   "cell_type": "code",
   "execution_count": 46,
   "metadata": {},
   "outputs": [
    {
     "name": "stdout",
     "output_type": "stream",
     "text": [
      "1886969500528 1886969500528\n"
     ]
    }
   ],
   "source": [
    "a = 'simple string'\n",
    "b = a\n",
    "# Смотрим на идентификаторы переменных a и b\n",
    "print(id(a), id(b))\n",
    "## 140227942415216 140227942415216"
   ]
  },
  {
   "cell_type": "code",
   "execution_count": 47,
   "metadata": {},
   "outputs": [
    {
     "name": "stdout",
     "output_type": "stream",
     "text": [
      "True\n",
      "True\n"
     ]
    }
   ],
   "source": [
    "# Проверяем равенство идентификаторов\n",
    "print(id(a) == id(b))\n",
    "## True\n",
    "\n",
    "# Проверяем эквивалентность двух объектов\n",
    "print(a is b)\n",
    "## True"
   ]
  },
  {
   "cell_type": "code",
   "execution_count": 48,
   "metadata": {},
   "outputs": [
    {
     "name": "stdout",
     "output_type": "stream",
     "text": [
      "140718775956328\n",
      "140718775956520\n",
      "False\n"
     ]
    }
   ],
   "source": [
    "c = 3\n",
    "d = 9\n",
    "# Смотрим на идентификатор переменной c\n",
    "\n",
    "print(id(c))\n",
    "## 1889303357808\n",
    "# Смотрим на идентификатор переменной d\n",
    "print(id(d))\n",
    "## 1889303358000\n",
    "# Проверяем эквивалентность двух объектов\n",
    "print(c is d)\n",
    "## False"
   ]
  },
  {
   "cell_type": "code",
   "execution_count": 49,
   "metadata": {},
   "outputs": [
    {
     "name": "stdout",
     "output_type": "stream",
     "text": [
      "1886974990416\n",
      "1886967453008\n",
      "True\n",
      "False\n"
     ]
    }
   ],
   "source": [
    "x = 15.35\n",
    "\n",
    "y = 15.35\n",
    "\n",
    "# Смотрим на идентификатор переменной x\n",
    "print(id(x))\n",
    "## 1887879819984\n",
    "\n",
    "# Смотрим на идентификатор переменной y\n",
    "print(id(y))\n",
    "## 1887879822608\n",
    "\n",
    "# Проверяем равенство двух объектов\n",
    "print(x == y)\n",
    "## True\n",
    "\n",
    "# Проверяем эквивалентность двух объектов\n",
    "print(x is y)\n",
    "## False"
   ]
  },
  {
   "cell_type": "code",
   "execution_count": 53,
   "metadata": {},
   "outputs": [
    {
     "name": "stdout",
     "output_type": "stream",
     "text": [
      "True True\n",
      "True False\n"
     ]
    }
   ],
   "source": [
    "x = 256\n",
    "y = 256\n",
    "\n",
    "# Проверяем равенство и эквивалентность двух объектов\n",
    "print(x == y, x is y)\n",
    "## True True\n",
    "\n",
    "w =257\n",
    "v =257\n",
    "\n",
    "# Проверяем равенство и эквивалентность двух объектов\n",
    "print(w == v, w is v)\n",
    "## True False"
   ]
  },
  {
   "cell_type": "markdown",
   "metadata": {},
   "source": [
    "Задание 2.10"
   ]
  },
  {
   "cell_type": "code",
   "execution_count": 54,
   "metadata": {},
   "outputs": [
    {
     "name": "stdout",
     "output_type": "stream",
     "text": [
      "True True True False\n"
     ]
    }
   ],
   "source": [
    "a = [1, 2, 3]\n",
    "b = a\n",
    "c = [1, 2, 3]\n",
    "print(a == b, a == c, a is b, a is c)"
   ]
  },
  {
   "cell_type": "code",
   "execution_count": null,
   "metadata": {},
   "outputs": [
    {
     "name": "stdout",
     "output_type": "stream",
     "text": [
      "True\n"
     ]
    }
   ],
   "source": [
    "orders = {\n",
    "    '2022-10-10': ['F124', 'D89D', '142L'],\n",
    "    '2022-10-11': ['H241', 'OR24', 'BE14', '348F'],\n",
    "    '2022-10-12': ['H429', 'JAS2']\n",
    "}\n",
    "target_order = 'BE14'\n",
    "result=((target_order in orders['2022-10-10']) or\n",
    "(target_order in orders['2022-10-11']) or\n",
    "(target_order in orders['2022-10-10']))\n",
    "print(result)"
   ]
  },
  {
   "cell_type": "code",
   "execution_count": 71,
   "metadata": {},
   "outputs": [
    {
     "data": {
      "text/plain": [
       "False"
      ]
     },
     "execution_count": 71,
     "metadata": {},
     "output_type": "execute_result"
    }
   ],
   "source": [
    "message = 14093530013530593\n",
    "result=('5' not in str(message)[:6])\n",
    "result"
   ]
  },
  {
   "cell_type": "markdown",
   "metadata": {},
   "source": [
    "Задание 3.1 (External resource)\n",
    "\n",
    "Дано n-значное целое число N. Напишите условие для проверки того, входят ли в заданное число цифры 3 и 7.\n",
    "\n",
    "Результатом выполнения условия должно стать значение True или False. Занесите этот результат в переменную contains."
   ]
  },
  {
   "cell_type": "code",
   "execution_count": 74,
   "metadata": {},
   "outputs": [
    {
     "data": {
      "text/plain": [
       "False"
      ]
     },
     "execution_count": 74,
     "metadata": {},
     "output_type": "execute_result"
    }
   ],
   "source": [
    "N = 59005085801\n",
    "contains=('3' in str(N) and '7' in str(N) )\n",
    "contains\n",
    "# contains = True"
   ]
  },
  {
   "cell_type": "markdown",
   "metadata": {},
   "source": [
    "Задание 3.2 (External resource) \n",
    "\n",
    "Координатам по горизонтальной и вертикальной осям шахматной доски, в которые должна переместиться фигура, соответствуют переменные x и y:\n",
    "\n",
    "\n",
    "x, y = 'F', 7\n",
    "Напишите условие проверки корректности хода. Ход считается корректным, если новые координаты фигуры не выходят за пределы шахматной доски.\n",
    "\n",
    "Результат работы условия присвойте переменной move_is_correct, в которой должно содержаться значение True или False в зависимости от того, является ли ход корректным.\n",
    "\n",
    "Примеры работы программы:\n",
    "\n",
    "\n",
    "x, y = 'F', 7 \n",
    "`move_is_correct = True\n",
    "\n",
    "x, y = 'K', 1\n",
    "`move_is_correct = False\n",
    "\n"
   ]
  },
  {
   "cell_type": "code",
   "execution_count": null,
   "metadata": {},
   "outputs": [
    {
     "data": {
      "text/plain": [
       "False"
      ]
     },
     "execution_count": 88,
     "metadata": {},
     "output_type": "execute_result"
    }
   ],
   "source": [
    "x, y = 'F', 7\n",
    "move_is_correct= (  ((x in ['A','B','C','D','E','F','G','H']) or (x in ['a','b','c','d','e','f','g','h']))     and (str(y) in ['1','2','3','4','5','6','7','8'])) \n",
    "move_is_correct"
   ]
  },
  {
   "cell_type": "code",
   "execution_count": 91,
   "metadata": {},
   "outputs": [
    {
     "name": "stdout",
     "output_type": "stream",
     "text": [
      "False\n"
     ]
    }
   ],
   "source": [
    "available_packages = 105\n",
    "total_count = 1677\n",
    "condition1= total_count%13==0\n",
    "condition2=total_count//13<=available_packages\n",
    "print(condition1 and condition2)"
   ]
  },
  {
   "cell_type": "markdown",
   "metadata": {},
   "source": [
    "Задание 3.3 (External resource)\n",
    "\n",
    "Дано n-значное целое число N. Реализуйте условие для проверки того, начинается ли число N с четной цифры.\n",
    "\n",
    "Результатом работы условия должно стать булево значение True или False. Занесите этот результат в переменную first_is_even.\n",
    "\n",
    "*Примеры работы программы:\n",
    "\n",
    "\n",
    "N = 782\n",
    "` first_is_even = False\n",
    "N = 45901\n",
    "` first_is_even = True\n",
    "Подсказка: Преобразуйте число N в тип данных str, извлеките первый символ, а затем преобразуйте его в целое число int. Проверьте, что полученное число делится на 2 без остатка.\n",
    "\n",
    "Примечание: Для отправки кода на проверку переменную N объявлять не нужно. Не забудьте удалить строку кода её объявлением перед тестированием."
   ]
  },
  {
   "cell_type": "code",
   "execution_count": 99,
   "metadata": {},
   "outputs": [
    {
     "data": {
      "text/plain": [
       "True"
      ]
     },
     "execution_count": 99,
     "metadata": {},
     "output_type": "execute_result"
    }
   ],
   "source": [
    "N = 682\n",
    "first_is_even=(int((str(N))[0]))%2==0\n",
    "first_is_even"
   ]
  },
  {
   "cell_type": "markdown",
   "metadata": {},
   "source": [
    "Задание 3.4 (External resource)\n",
    "\n",
    "Напишите условие, которое проверяет, что год является високосным.\n",
    "\n",
    "Известно, что год является високосным при выполнении хотя бы одного из следующих условий:\n",
    "\n",
    "Номер года делится (без остатка) на 400.\n",
    "Номер года делится (без остатка) на 4 и не делится на 100 одновременно.\n",
    "Номер года находится в переменной year.\n",
    "\n",
    "Результат выполнения условия занесите в переменную year_is_leap. Её значение должно быть равно True или False, в зависимости от того, является ли заданный год високосным.\n",
    "\n",
    "Примеры работы программы:\n",
    "\n",
    "\n",
    "year = 2000\n",
    " year_is_leap = True\n",
    "\n",
    "year = 1900\n",
    " year_is_leap = False\n",
    "\n",
    "year = 2015\n",
    " year_is_leap = False\n",
    "Примечание: Для отправки кода на проверку переменную year объявлять не нужно. Не забудьте удалить строку кода её объявлением перед тестированием."
   ]
  },
  {
   "cell_type": "code",
   "execution_count": 102,
   "metadata": {},
   "outputs": [
    {
     "data": {
      "text/plain": [
       "False"
      ]
     },
     "execution_count": 102,
     "metadata": {},
     "output_type": "execute_result"
    }
   ],
   "source": [
    "year = 1900\n",
    "con1=year%400==0\n",
    "con2=year%4==0 and year%100!=0\n",
    "year_is_leap= con1 or con2\n",
    "year_is_leap"
   ]
  },
  {
   "cell_type": "markdown",
   "metadata": {},
   "source": [
    "Задание 3.5 (External resource)\n",
    "\n",
    "Шоколадка имеет вид прямоугольника размером n * m долек. Шоколадку можно один раз разломить по прямой на две части.\n",
    "\n",
    "Необходимо реализовать условие, проверяющее, можно ли таким образом отломить от шоколадки часть, состоящую ровно из k долек. Два примера таких разделений — по горизонтали и вертикали — приведены на рисунке.\n",
    "\n",
    "Пример\n",
    "\n",
    "Информация о количестве долек в ширину и длину шоколадки, а также количество долек, которое должно получиться после разделения, содержится в переменных n, m и k соответственно.\n",
    "\n",
    "Не забудьте также учесть, что количество долек, получаемое в остатке, должно быть строго меньше, чем общее количество долек, из которых состоит шоколадка.\n",
    "\n",
    "Результат работы условия занесите в переменную result, значение которой равно True или False в зависимости от выполнения условия.\n",
    "\n",
    "Примеры работы программы:\n",
    "\n",
    "\n",
    "n, m, k = 5, 4, 8\n",
    "` result = True\n",
    "\n",
    "n, m, k = 5, 4, 3\n",
    "` result = False\n",
    "\n",
    "n, m, k = 5, 4, 25\n",
    "` result = False\n"
   ]
  },
  {
   "cell_type": "code",
   "execution_count": 107,
   "metadata": {},
   "outputs": [
    {
     "data": {
      "text/plain": [
       "False"
      ]
     },
     "execution_count": 107,
     "metadata": {},
     "output_type": "execute_result"
    }
   ],
   "source": [
    "n, m, k = 5, 4, 3\n",
    "\n",
    "result=(n*m>k and k%2==0) \n",
    "result"
   ]
  },
  {
   "cell_type": "code",
   "execution_count": 112,
   "metadata": {},
   "outputs": [
    {
     "name": "stdout",
     "output_type": "stream",
     "text": [
      "True\n",
      "True\n",
      "True\n"
     ]
    }
   ],
   "source": [
    "name = None\n",
    "surname = None\n",
    "second_name = None\n",
    "print(id(name) == id(surname) and id(name) == id(second_name))\n",
    "# Плохо, так лучше не делать\n",
    "print(second_name == None)\n",
    "## True\n",
    "# Хорошо\n",
    "print(second_name is None)\n",
    "## True"
   ]
  },
  {
   "cell_type": "markdown",
   "metadata": {},
   "source": [
    "Задание 3.6 (External resource)\n",
    "\n",
    "Представьте, что вы обрабатываете заполненные пользователями онлайн-заявки. Переменная phone в виде строки хранит указанный пользователем номер телефона и None, если соответствующее поле в анкете заполнено не было.\n",
    "\n",
    "Реализуйте условие, которое проверит, оставил ли пользователь номер телефона. Результатом работы условия должно стать булево значение True или False в зависимости от того, заполнено ли поле с номером телефона.\n",
    "\n",
    "Результат занесите в переменную phone_is_defined.\n",
    "\n",
    "Примеры работы программы:\n",
    "\n",
    "\n",
    "phone = '+7 927 124 42 12'\n",
    "` phone_is_defined = True\n",
    "\n",
    "phone = None\n",
    "` phone_is_defined = False\n",
    "Примечание: Для отправки кода на проверку переменную phone объявлять не нужно. Не забудьте удалить строку кода с её объявлением перед тестированием.\n"
   ]
  },
  {
   "cell_type": "code",
   "execution_count": 117,
   "metadata": {},
   "outputs": [
    {
     "data": {
      "text/plain": [
       "True"
      ]
     },
     "execution_count": 117,
     "metadata": {},
     "output_type": "execute_result"
    }
   ],
   "source": [
    "phone = '+7 927 124 42 12'\n",
    "phone_is_defined = phone is not None\n",
    "phone_is_defined\n"
   ]
  },
  {
   "cell_type": "code",
   "execution_count": 118,
   "metadata": {},
   "outputs": [
    {
     "data": {
      "text/plain": [
       "False"
      ]
     },
     "execution_count": 118,
     "metadata": {},
     "output_type": "execute_result"
    }
   ],
   "source": [
    "phone = None\n",
    "phone_is_defined = phone is not None\n",
    "phone_is_defined"
   ]
  },
  {
   "cell_type": "code",
   "execution_count": 119,
   "metadata": {},
   "outputs": [
    {
     "name": "stdout",
     "output_type": "stream",
     "text": [
      "['C++', 'Python', 'Java', 'JavaScript']\n",
      "None\n"
     ]
    }
   ],
   "source": [
    "lst = ['C++', 'Python', 'Java']\n",
    "append_result = lst.append('JavaScript')\n",
    "print(lst)\n",
    "## ['C++', 'Python', 'Java', 'JavaScript']\n",
    "print(append_result)\n",
    "## None"
   ]
  },
  {
   "cell_type": "code",
   "execution_count": 120,
   "metadata": {},
   "outputs": [
    {
     "name": "stdout",
     "output_type": "stream",
     "text": [
      "15\n",
      "None\n"
     ]
    }
   ],
   "source": [
    "product_dict = {'Сок яблочный': 15, 'Сок тыквенный': 10, 'Сок ананасовый': 5}\n",
    "value = product_dict.get('Сок яблочный')\n",
    "print(value)\n",
    "## 15\n",
    "value = product_dict.get('Сок вишневый')\n",
    "print(value)\n",
    "## None"
   ]
  },
  {
   "cell_type": "markdown",
   "metadata": {},
   "source": [
    "Задание 3.7 (External resource)\n",
    "\n",
    "В словаре arrival_of_goods хранится информация о приходах товара на склад интернет-магазина. Ключами этого словаря являются номера накладных, а значениями — словари, в которых содержится информация о товаре и его количестве в каждой из накладной.\n",
    "\n",
    "\n",
    "arrival_of_goods = {\n",
    "    '148902': {\n",
    "        'Футболка с принтом': 180,\n",
    "        'Свитшот черный': 245,\n",
    "        'Джинсы серые': 252\n",
    "    },\n",
    "    '893516': {\n",
    "        'Футболка с принтом': 43,\n",
    "        'Свитшот черный': 64,\n",
    "        'Джинсы черные': 102\n",
    "    },\n",
    "    '893481': {\n",
    "        'Кружка керамическая': 35,\n",
    "        'Свитшот черный': 10,\n",
    "        'Джинсы сервые': 14\n",
    "    }\n",
    "}\n",
    "Мы проводим аналитику прихода товара на склад. В переменной invoice_number содержится номер накладной, который мы хотим найти.\n",
    "\n",
    "С помощью метода словарей get() и проверки на None реализуйте условие, которое проверяет, есть ли в истории прихода накладная с указанным в переменной invoice_number номером.\n",
    "\n",
    "Результатом работы условия должна стать булева переменная со значением True или False в зависимости от того, существует ли в системе указанная накладная.\n",
    "\n",
    "Результат занесите в переменную invoice_exists.\n",
    "\n",
    "Примеры работы программы:\n",
    "\n",
    "\n",
    "invoice_number = '148902'\n",
    "` invoice_exists = True\n",
    "\n",
    "invoice_number = '892421'\n",
    "` invoice_exists = False\n",
    "\n",
    "\n"
   ]
  },
  {
   "cell_type": "code",
   "execution_count": 123,
   "metadata": {},
   "outputs": [
    {
     "data": {
      "text/plain": [
       "True"
      ]
     },
     "execution_count": 123,
     "metadata": {},
     "output_type": "execute_result"
    }
   ],
   "source": [
    "arrival_of_goods = {\n",
    "    '148902': {\n",
    "        'Футболка с принтом': 180,\n",
    "        'Свитшот черный': 245,\n",
    "        'Джинсы серые': 252\n",
    "    },\n",
    "    '893516': {\n",
    "        'Футболка с принтом': 43,\n",
    "        'Свитшот черный': 64,\n",
    "        'Джинсы черные': 102\n",
    "    },\n",
    "    '893481': {\n",
    "        'Кружка керамическая': 35,\n",
    "        'Свитшот черный': 10,\n",
    "        'Джинсы сервые': 14\n",
    "    }\n",
    "}\n",
    "invoice_number = '148902'\n",
    "value = arrival_of_goods.get(invoice_number)\n",
    "invoice_exists= value is not None\n",
    "invoice_exists"
   ]
  },
  {
   "cell_type": "code",
   "execution_count": 125,
   "metadata": {},
   "outputs": [
    {
     "name": "stdout",
     "output_type": "stream",
     "text": [
      "Don't take an umbrella\n"
     ]
    }
   ],
   "source": [
    "is_rainy = False  # дождь будет\n",
    " \n",
    "# Реализуем условный оператор\n",
    "# В блок if помещаем условие \n",
    "if is_rainy:\n",
    "    # брать зонт\n",
    "    print(\"Take an umbrella\") \n",
    "else:\n",
    "    # не брать зонт\n",
    "    print(\"Don't take an umbrella\") \n",
    " \n",
    "## Брать зонт"
   ]
  },
  {
   "cell_type": "code",
   "execution_count": 127,
   "metadata": {},
   "outputs": [
    {
     "name": "stdout",
     "output_type": "stream",
     "text": [
      "Value of variable a > value of variable b\n"
     ]
    }
   ],
   "source": [
    "a = 2 ** 10\n",
    "b = 3 ** 5\n",
    "if a > b:\n",
    "    # значение a > значения b\n",
    "    print('Value of variable a > value of variable b')"
   ]
  },
  {
   "cell_type": "code",
   "execution_count": 130,
   "metadata": {},
   "outputs": [
    {
     "name": "stdout",
     "output_type": "stream",
     "text": [
      "Value of variable a > value of variable b\n"
     ]
    }
   ],
   "source": [
    "a = 2 ** 10\n",
    "b = 3 ** 5\n",
    "# Реализуем условный оператор if-else\n",
    "# В блок if помещаем условие\n",
    "if a > b:\n",
    "    # значение a > значения b\n",
    "    print('Value of variable a > value of variable b') \n",
    "else:\n",
    "    # значение a <= значения b\n",
    "    print('Value of variable a <= value of variable b')"
   ]
  },
  {
   "cell_type": "code",
   "execution_count": 134,
   "metadata": {},
   "outputs": [
    {
     "name": "stdout",
     "output_type": "stream",
     "text": [
      "on — target_word\n",
      "['and', 'or', 'not'] — list of words\n"
     ]
    }
   ],
   "source": [
    "#target_word = 'and'\n",
    "target_word = 'on'\n",
    "words = ['and', 'or', 'not']\n",
    "# Проверяем, что строка target_word есть в списке words\n",
    "if target_word in words:\n",
    "    # целевое слово есть в списке\n",
    "    print('String \"{}\" is in list'.format(target_word))\n",
    "## String \"and\" is in list\n",
    "print('{} — target_word'.format(target_word))\n",
    "print('{} — list of words'.format(words))"
   ]
  },
  {
   "cell_type": "code",
   "execution_count": 135,
   "metadata": {},
   "outputs": [
    {
     "name": "stdout",
     "output_type": "stream",
     "text": [
      "15\n"
     ]
    }
   ],
   "source": [
    "s = 5\n",
    "a = 10\n",
    "if a > 0:\n",
    "   s = s + a\n",
    "else:\n",
    "   s = s - a\n",
    " \n",
    "print(s)"
   ]
  },
  {
   "cell_type": "markdown",
   "metadata": {},
   "source": [
    "Задание 4.3 (External resource)\n",
    "\n",
    "Начинающий программист торопился и допустил в своей программе несколько синтаксических ошибок. Ваша задача — исправить код так, чтобы он отработал без синтаксических ошибок\n",
    "\n",
    "\n",
    "mx = 0\n",
    "s = 0\n",
    "\n",
    "    x = -5\n",
    "    if x < 0\n",
    "        s = x\n",
    "\n",
    "if x > mx\n",
    "    mx = x\n",
    "\n",
    "print(s)\n",
    "print(mx)"
   ]
  },
  {
   "cell_type": "code",
   "execution_count": 136,
   "metadata": {},
   "outputs": [
    {
     "name": "stdout",
     "output_type": "stream",
     "text": [
      "-5\n",
      "0\n"
     ]
    }
   ],
   "source": [
    "mx = 0\n",
    "s = 0\n",
    "x = -5\n",
    "if x < 0:\n",
    "    s = x\n",
    "if x > mx:\n",
    "    mx = x\n",
    "print(s)\n",
    "print(mx)"
   ]
  },
  {
   "cell_type": "markdown",
   "metadata": {},
   "source": [
    "Задание 4.4 (External resource)\n",
    "\n",
    "Вам необходимо запрограммировать сенсор в общественном помещении, который определяет количество человек.\n",
    "\n",
    "Если людей в помещении меньше 10, то на табло должно гореть сообщение «Добро пожаловать!», а в противном случае — «Всё занято. Подождите!».\n",
    "\n",
    "Количество человек в помещении хранится в переменной people_count. Организуйте вывод на табло с помощью функции print().\n",
    "\n",
    "Примеры работы программы:\n",
    "\n",
    "\n",
    "people_count = 5\n",
    "` Добро пожаловать!\n",
    "\n",
    "people_count = 10\n",
    "` Всё занято. Подождите!"
   ]
  },
  {
   "cell_type": "code",
   "execution_count": 140,
   "metadata": {},
   "outputs": [
    {
     "name": "stdout",
     "output_type": "stream",
     "text": [
      "Всё занято. Подождите!\n"
     ]
    }
   ],
   "source": [
    "people_count = 15\n",
    "if people_count <10:\n",
    "    print('Добро пожаловать!')\n",
    "else:\n",
    "    print('Всё занято. Подождите!')"
   ]
  },
  {
   "cell_type": "markdown",
   "metadata": {},
   "source": [
    "Задание 4.5 (External resource)\n",
    "\n",
    "Представьте, что вам нужно написать программу, которая запрашивает у пользователя пароль для входа и проверяет, верен ли он. Верный пароль хранится в переменной password. Пароль, который вводит пользователь, хранится в переменной answer.\n",
    "\n",
    "Напишите часть кода, которая отвечает за проверку ввода пароля: если верный, то выводится информация «Добро пожаловать!», если неверный, то «Вы ввели неверный пароль!».\n",
    "\n",
    "Примеры работы программы:\n",
    "\n",
    "\n",
    "password = '879f2aabS'\n",
    "answer = '879f2aabS'\n",
    "` Добро пожаловать!\n",
    "\n",
    "password = '879f2aabS'\n",
    "answer = '879f2aabs'\n",
    "` Вы ввели неверный пароль!"
   ]
  },
  {
   "cell_type": "code",
   "execution_count": null,
   "metadata": {},
   "outputs": [
    {
     "name": "stdout",
     "output_type": "stream",
     "text": [
      "Вы ввели неверный пароль!\n"
     ]
    }
   ],
   "source": [
    "password = '879f2aabS'\n",
    "answer = '879f2aabS'\n",
    "if password == answer:\n",
    "    print('Добро пожаловать!')\n",
    "else:\n",
    "    print('Вы ввели неверный пароль!')\n",
    "# Добро пожаловать!"
   ]
  },
  {
   "cell_type": "markdown",
   "metadata": {},
   "source": [
    "Задание 4.6 (External resource)\n",
    "\n",
    "Пользователь вводит своё имя и возраст, их значения хранятся в переменных name и age соответственно.\n",
    "\n",
    "Если возраст пользователя больше либо равен 18, то программа должна вывести строку \"Добрый вечер, <name>!\", меньше — \"Привет, <name>! Приносим свои извинения, но вы не можете гулять после 22:00\".\n",
    "\n",
    "Примеры работы программы:\n",
    "\n",
    "\n",
    "name = 'Андрей'\n",
    "age = 21\n",
    "` \"Добрый вечер, Андрей!\"\n"
   ]
  },
  {
   "cell_type": "code",
   "execution_count": 147,
   "metadata": {},
   "outputs": [
    {
     "name": "stdout",
     "output_type": "stream",
     "text": [
      "Привет, Андрей! Приносим свои извинения, но вы не можете гулять после 22:00\n"
     ]
    }
   ],
   "source": [
    "name = 'Андрей'\n",
    "age = 11\n",
    "if age >= 18:\n",
    "    print('Добрый вечер, {}!'.format(name))\n",
    "else:\n",
    "    print('Привет, {}! Приносим свои извинения, но вы не можете гулять после 22:00'.format(name))"
   ]
  },
  {
   "cell_type": "code",
   "execution_count": 148,
   "metadata": {},
   "outputs": [
    {
     "name": "stdout",
     "output_type": "stream",
     "text": [
      "Put on a raincoat\n"
     ]
    }
   ],
   "source": [
    "is_rainy = True  # дождь будет\n",
    "heavy_rain = False  # не сильный дождь\n",
    "\n",
    "if is_rainy:\n",
    "    # в данный блок дописали ещё один условный оператор\n",
    "    if heavy_rain:\n",
    "        #брать зонт\n",
    "        print(\"Take an umbrella\")  \n",
    "    else:\n",
    "        #надеть дождевик\n",
    "        print(\"Put on a raincoat\") \n",
    "else:\n",
    "    #не брать зонт\n",
    "    print(\"Don't take an umbrella\") \n",
    "\n",
    "## Put on a raincoat"
   ]
  },
  {
   "cell_type": "code",
   "execution_count": 151,
   "metadata": {},
   "outputs": [
    {
     "name": "stdout",
     "output_type": "stream",
     "text": [
      "Not to issue a loan\n"
     ]
    }
   ],
   "source": [
    "credit_history = 'bad' #кредитная история\n",
    "deposit = True # есть ли залог\n",
    "guarantors = False # есть ли поручители\n",
    "credit = 500.0 #сумма долга\n",
    "if credit_history == 'bad':\n",
    "    if deposit:\n",
    "        if guarantors:\n",
    "            print('Issue a loan')\n",
    "        else:\n",
    "            print('Not to issue a loan')\n",
    "    else:\n",
    "        print('Not to issue a loan')\n",
    "else:\n",
    "    if credit < 1000:\n",
    "        print('Issue a loan')\n",
    "    else:\n",
    "        print('Not to issue a loan')"
   ]
  },
  {
   "cell_type": "markdown",
   "metadata": {},
   "source": [
    "Задание 4.7 (External resource)\n",
    "\n",
    "Используя вложенный условный оператор, напишите программу, которая проверяет, что число number делится на 2 и на 5 без остатка.\n",
    "\n",
    "Если число делится на 2 и на 5, программа должна выводить на экран фразу \"<число> делится на 2 и на 5\".\n",
    "\n",
    "Если число делится на 2, но не делится на 5 — программа должна выводить на экран фразу \"<число> делится на 2, но не делится на 5\".\n",
    "\n",
    "Если число не делится на 2, но делится на 5 — программа должна выводить на экран фразу \"<число> не делится на 2, но делится на 5\".\n",
    "\n",
    "Если число не делится ни на 2, ни на 5 — программа должна выводить на экран фразу \"<число> не делится ни на 2, ни на 5\".\n",
    "\n",
    "Примеры работы программы:\n",
    "\n",
    "\n",
    "number = 200\n",
    "` 200 делится на 2 и на 5\n",
    "\n",
    "number = 8\n",
    "` 8 делится на 2, но не делится на 5\n",
    "\n",
    "number = 15\n",
    "` 15 не делится на 2, но делится на 5\n",
    "\n",
    "number = 27\n",
    "` 27 не делится ни на 2, ни на 5"
   ]
  }
 ],
 "metadata": {
  "kernelspec": {
   "display_name": "Python 3",
   "language": "python",
   "name": "python3"
  },
  "language_info": {
   "codemirror_mode": {
    "name": "ipython",
    "version": 3
   },
   "file_extension": ".py",
   "mimetype": "text/x-python",
   "name": "python",
   "nbconvert_exporter": "python",
   "pygments_lexer": "ipython3",
   "version": "3.11.9"
  }
 },
 "nbformat": 4,
 "nbformat_minor": 2
}
