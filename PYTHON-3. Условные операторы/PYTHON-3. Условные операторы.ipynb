{
 "cells": [
  {
   "cell_type": "code",
   "execution_count": 196,
   "metadata": {},
   "outputs": [
    {
     "name": "stdout",
     "output_type": "stream",
     "text": [
      "70\n",
      "102\n"
     ]
    }
   ],
   "source": [
    "print(ord('F'))\n",
    "print(ord('f'))\n"
   ]
  },
  {
   "cell_type": "code",
   "execution_count": 197,
   "metadata": {},
   "outputs": [
    {
     "name": "stdout",
     "output_type": "stream",
     "text": [
      "False\n",
      "True\n"
     ]
    }
   ],
   "source": [
    "name_user_1029='Andrey'\n",
    "name_user_1040='Vladimir'\n",
    "name_user_1042='Andrey'\n",
    "\n",
    "print(name_user_1029==name_user_1040)\n",
    "print(name_user_1029==name_user_1042)"
   ]
  },
  {
   "cell_type": "code",
   "execution_count": 198,
   "metadata": {},
   "outputs": [
    {
     "name": "stdout",
     "output_type": "stream",
     "text": [
      "True\n"
     ]
    }
   ],
   "source": [
    "# Создаём 2 идентичных списка\n",
    "languages_list_1 = ['Python', 'C++', 'C#', 'Java']\n",
    "languages_list_2 = ['Python', 'C++', 'C#', 'Java']\n",
    "# Проверяем их равенство\n",
    "print(languages_list_1 == languages_list_2)"
   ]
  },
  {
   "cell_type": "code",
   "execution_count": 199,
   "metadata": {},
   "outputs": [
    {
     "name": "stdout",
     "output_type": "stream",
     "text": [
      "True\n"
     ]
    }
   ],
   "source": [
    "# Создаём 2 идентичных словаря, различающихся порядком записи ключей\n",
    "store_dict_1 = {'Яблоки': 158, 'Мандарины': 178, 'Хлеб': 56}\n",
    "store_dict_2 = {'Хлеб': 56, 'Яблоки': 158, 'Мандарины': 178}\n",
    "# Проверяем их равенство\n",
    "print(store_dict_1 == store_dict_2)\n",
    "## True"
   ]
  },
  {
   "cell_type": "markdown",
   "metadata": {},
   "source": [
    "Задание 2.4 (External resource)\n",
    "\n",
    "Напишите условие, которое проверяет, является ли строка палиндромом.\n",
    "\n",
    "Палиндром читается одинаково слева направо и справа налево. Например: \"шалаш\", \"казак\", \"мадам\", \"коту тащат уток\".\n",
    "\n",
    "Строка, которую мы хотим проверить, находится в переменной target_string.\n",
    "\n",
    "Важно: Обратите внимание, что результат работы программы не должен зависеть от пробелов, а также регистра символов, поэтому алгоритм решения задачи будет следующим:\n",
    "\n",
    "привести строку к нижнему (или верхнему) регистру (это можно сделать с помощью методов lower() и upper())\n",
    "\n",
    "убрать из нее все пробелы (это можно сделать с помощью метода replace(), передав в него первым аргументом символ пробела ' ', а вторым аргументом символ пустой строки — '')\n",
    "\n",
    "проверить равенство полученной строки с её развернутым аналогом (развернуть строку можно с помощью срезов с отрицательным шагом — target_string[::-1])\n",
    "\n",
    "Результатом работы условия должно стать булево значение — True или False, в зависимости от того, является ли строка палиндромом. Занесите этот результат в переменную result."
   ]
  },
  {
   "cell_type": "code",
   "execution_count": 200,
   "metadata": {},
   "outputs": [
    {
     "data": {
      "text/plain": [
       "True"
      ]
     },
     "execution_count": 200,
     "metadata": {},
     "output_type": "execute_result"
    }
   ],
   "source": [
    "target_string = 'Коту тащат уток'\n",
    "target_string=target_string.lower()\n",
    "target_string=target_string.replace(' ','')\n",
    "target_string_add=target_string[::-1]\n",
    "result=(target_string==target_string_add)\n",
    "result"
   ]
  },
  {
   "cell_type": "code",
   "execution_count": 201,
   "metadata": {},
   "outputs": [
    {
     "name": "stdout",
     "output_type": "stream",
     "text": [
      "False\n",
      "True\n",
      "True\n",
      "False\n"
     ]
    }
   ],
   "source": [
    "print(not True)\n",
    "## False\n",
    "print(not False)\n",
    "## True\n",
    "print(not (5 == 10))\n",
    "## True\n",
    "print(not ('abc' != 'bca'))\n",
    "## False"
   ]
  },
  {
   "cell_type": "code",
   "execution_count": 202,
   "metadata": {},
   "outputs": [
    {
     "name": "stdout",
     "output_type": "stream",
     "text": [
      "True\n"
     ]
    }
   ],
   "source": [
    "a = 1\n",
    "# Создаём первое условие\n",
    "cond1 = 0 < a \n",
    "# Создаём второе условие\n",
    "cond2 = 4 > a\n",
    "# Проверяем, будут ли выполняться два условия одновременно\n",
    "print(cond1 and cond2)"
   ]
  },
  {
   "cell_type": "code",
   "execution_count": 203,
   "metadata": {},
   "outputs": [
    {
     "name": "stdout",
     "output_type": "stream",
     "text": [
      "False\n"
     ]
    }
   ],
   "source": [
    "sym = 't'\n",
    "# Проверяем, содержится ли символ в строке \"python\"\n",
    "cond3 = sym in \"python\"\n",
    "# Проверяем, содержится ли символ в строке \"django\"\n",
    "cond4 = sym in \"django\"\n",
    "# Проверяем, содержится ли символ в обеих строках\n",
    "print(cond3 and cond4)\n",
    "## False"
   ]
  },
  {
   "cell_type": "code",
   "execution_count": 204,
   "metadata": {},
   "outputs": [
    {
     "name": "stdout",
     "output_type": "stream",
     "text": [
      "True\n"
     ]
    }
   ],
   "source": [
    "# Проверяем, что символ 't' есть хотя бы в одной из строк\n",
    "print(('t' in \"python\") or ('t' in \"django\"))\n",
    "## True"
   ]
  },
  {
   "cell_type": "code",
   "execution_count": 205,
   "metadata": {},
   "outputs": [
    {
     "name": "stdout",
     "output_type": "stream",
     "text": [
      "True\n"
     ]
    }
   ],
   "source": [
    "word1 = 'Institute'\n",
    "word2 = 'University'\n",
    "target_string = \"I graduated from the Moscow Aviation Institute in 2015, after which I got a job at…\"\n",
    "# Проверяем, содержится хотя бы одна из строк word1 или word2 в строке target_string\n",
    "# Для проверки принадлежности используем оператор in\n",
    "print((word1 in target_string) or (word2 in target_string))\n",
    "## True"
   ]
  },
  {
   "cell_type": "code",
   "execution_count": 206,
   "metadata": {},
   "outputs": [
    {
     "name": "stdout",
     "output_type": "stream",
     "text": [
      "False\n"
     ]
    }
   ],
   "source": [
    "print(not True or (True and not True))"
   ]
  },
  {
   "cell_type": "code",
   "execution_count": 207,
   "metadata": {},
   "outputs": [
    {
     "name": "stdout",
     "output_type": "stream",
     "text": [
      "True\n"
     ]
    }
   ],
   "source": [
    "print(     not\n",
    "      False\n",
    "      and\n",
    "      True\n",
    "      or\n",
    "      False\n",
    "      and\n",
    "      not\n",
    "      True)"
   ]
  },
  {
   "cell_type": "code",
   "execution_count": 208,
   "metadata": {},
   "outputs": [
    {
     "name": "stdout",
     "output_type": "stream",
     "text": [
      "True True False\n"
     ]
    }
   ],
   "source": [
    "x = 10\n",
    "y = 100\n",
    "z = (x % 2 == 0) and (y >= 100)\n",
    "v = (x % 2 == 0) or (y >= 100)\n",
    "w = not(x % 2 == 0) or not(y >= 100)\n",
    "print(z,v,w)"
   ]
  },
  {
   "cell_type": "markdown",
   "metadata": {},
   "source": [
    "Задание 2.8 (External resource)"
   ]
  },
  {
   "cell_type": "markdown",
   "metadata": {},
   "source": [
    "Напишите условие, которое проверяет, что значение переменной a, возведенное в квадрат строго больше, чем значение переменных b и c одновременно.\n",
    "\n",
    "Результатом работы условия должно стать булево значение — True или False, в зависимости от выполнения заданного условия.\n",
    "\n",
    "Занесите этот результат в переменную result.\n",
    "\n",
    "Примеры работы программы:\n",
    "\n",
    "\n",
    "a, b, c = 2, 5, 10\n",
    "result = False\n",
    "\n",
    "a, b, c = 3, 5, 8\n",
    "result = True\n",
    "Примечание: Обратите внимание, что для отправки кода на проверку переменные a, b и `c объявлять не нужно. Не забудьте удалить строку кода с их объявлением перед тем как отправить код на тестирование."
   ]
  },
  {
   "cell_type": "code",
   "execution_count": 209,
   "metadata": {},
   "outputs": [
    {
     "name": "stdout",
     "output_type": "stream",
     "text": [
      "True\n"
     ]
    }
   ],
   "source": [
    "a, b, c = 3, 5, 8\n",
    "print((a**2>b) and (a**2>c))"
   ]
  },
  {
   "cell_type": "markdown",
   "metadata": {},
   "source": [
    "Задание 2.9 (External resource)\n",
    "\n",
    "Представьте, что вы работаете аналитиком данных в больнице. Пусть переменные diagnosis_1, diagnosis_2 и diagnosis_3 хранят информацию о наличии у пациента различных хронических заболеваний (yes — да, no — нет). Реализуйте условие, которое проверяет, страдает ли пациент хотя бы от одного из них?\n",
    "\n",
    "Результатом должно стать булево значение — True или False. Занесите этот результат в переменную result.\n",
    "\n",
    "Примеры работы программы:\n",
    "\n",
    "\n",
    "` diagnosis_1, diagnosis_2 и diagnosis_3 = 'yes', 'yes', 'no'\n",
    "\n",
    "` result = True\n",
    "\n",
    "` diagnosis_1, diagnosis_2 и diagnosis_3 = 'no', 'no', 'no'\n",
    "\n",
    "` result = False"
   ]
  },
  {
   "cell_type": "code",
   "execution_count": 210,
   "metadata": {},
   "outputs": [
    {
     "data": {
      "text/plain": [
       "True"
      ]
     },
     "execution_count": 210,
     "metadata": {},
     "output_type": "execute_result"
    }
   ],
   "source": [
    "diagnosis_1, diagnosis_2, diagnosis_3 = 'yes', 'no', 'no'\n",
    "result=(diagnosis_1==\"yes\" or diagnosis_3==\"yes\" or diagnosis_3==\"yes\")\n",
    "result"
   ]
  },
  {
   "cell_type": "code",
   "execution_count": 211,
   "metadata": {},
   "outputs": [
    {
     "name": "stdout",
     "output_type": "stream",
     "text": [
      "2817371318320\n"
     ]
    }
   ],
   "source": [
    "a = 'Hello world!'\n",
    "print(id(a))\n",
    "## 1887879822657"
   ]
  },
  {
   "cell_type": "code",
   "execution_count": 212,
   "metadata": {},
   "outputs": [
    {
     "name": "stdout",
     "output_type": "stream",
     "text": [
      "2817371255152\n"
     ]
    }
   ],
   "source": [
    "a = 'Hello world!'\n",
    "print(id(a))\n",
    "## 1887879822657"
   ]
  },
  {
   "cell_type": "code",
   "execution_count": 213,
   "metadata": {},
   "outputs": [
    {
     "name": "stdout",
     "output_type": "stream",
     "text": [
      "2817379133872 2817379133872\n"
     ]
    }
   ],
   "source": [
    "a = 'simple string'\n",
    "b = a\n",
    "# Смотрим на идентификаторы переменных a и b\n",
    "print(id(a), id(b))\n",
    "## 140227942415216 140227942415216"
   ]
  },
  {
   "cell_type": "code",
   "execution_count": 214,
   "metadata": {},
   "outputs": [
    {
     "name": "stdout",
     "output_type": "stream",
     "text": [
      "True\n",
      "True\n"
     ]
    }
   ],
   "source": [
    "# Проверяем равенство идентификаторов\n",
    "print(id(a) == id(b))\n",
    "## True\n",
    "\n",
    "# Проверяем эквивалентность двух объектов\n",
    "print(a is b)\n",
    "## True"
   ]
  },
  {
   "cell_type": "code",
   "execution_count": 215,
   "metadata": {},
   "outputs": [
    {
     "name": "stdout",
     "output_type": "stream",
     "text": [
      "140707762565992\n",
      "140707762566184\n",
      "False\n"
     ]
    }
   ],
   "source": [
    "c = 3\n",
    "d = 9\n",
    "# Смотрим на идентификатор переменной c\n",
    "\n",
    "print(id(c))\n",
    "## 1889303357808\n",
    "# Смотрим на идентификатор переменной d\n",
    "print(id(d))\n",
    "## 1889303358000\n",
    "# Проверяем эквивалентность двух объектов\n",
    "print(c is d)\n",
    "## False"
   ]
  },
  {
   "cell_type": "code",
   "execution_count": 216,
   "metadata": {},
   "outputs": [
    {
     "name": "stdout",
     "output_type": "stream",
     "text": [
      "2817378793136\n",
      "2817378782320\n",
      "True\n",
      "False\n"
     ]
    }
   ],
   "source": [
    "x = 15.35\n",
    "\n",
    "y = 15.35\n",
    "\n",
    "# Смотрим на идентификатор переменной x\n",
    "print(id(x))\n",
    "## 1887879819984\n",
    "\n",
    "# Смотрим на идентификатор переменной y\n",
    "print(id(y))\n",
    "## 1887879822608\n",
    "\n",
    "# Проверяем равенство двух объектов\n",
    "print(x == y)\n",
    "## True\n",
    "\n",
    "# Проверяем эквивалентность двух объектов\n",
    "print(x is y)\n",
    "## False"
   ]
  },
  {
   "cell_type": "code",
   "execution_count": 217,
   "metadata": {},
   "outputs": [
    {
     "name": "stdout",
     "output_type": "stream",
     "text": [
      "True True\n",
      "True False\n"
     ]
    }
   ],
   "source": [
    "x = 256\n",
    "y = 256\n",
    "\n",
    "# Проверяем равенство и эквивалентность двух объектов\n",
    "print(x == y, x is y)\n",
    "## True True\n",
    "\n",
    "w =257\n",
    "v =257\n",
    "\n",
    "# Проверяем равенство и эквивалентность двух объектов\n",
    "print(w == v, w is v)\n",
    "## True False"
   ]
  },
  {
   "cell_type": "markdown",
   "metadata": {},
   "source": [
    "Задание 2.10"
   ]
  },
  {
   "cell_type": "code",
   "execution_count": 218,
   "metadata": {},
   "outputs": [
    {
     "name": "stdout",
     "output_type": "stream",
     "text": [
      "True True True False\n"
     ]
    }
   ],
   "source": [
    "a = [1, 2, 3]\n",
    "b = a\n",
    "c = [1, 2, 3]\n",
    "print(a == b, a == c, a is b, a is c)"
   ]
  },
  {
   "cell_type": "code",
   "execution_count": 219,
   "metadata": {},
   "outputs": [
    {
     "name": "stdout",
     "output_type": "stream",
     "text": [
      "True\n"
     ]
    }
   ],
   "source": [
    "orders = {\n",
    "    '2022-10-10': ['F124', 'D89D', '142L'],\n",
    "    '2022-10-11': ['H241', 'OR24', 'BE14', '348F'],\n",
    "    '2022-10-12': ['H429', 'JAS2']\n",
    "}\n",
    "target_order = 'BE14'\n",
    "result=((target_order in orders['2022-10-10']) or\n",
    "(target_order in orders['2022-10-11']) or\n",
    "(target_order in orders['2022-10-10']))\n",
    "print(result)"
   ]
  },
  {
   "cell_type": "code",
   "execution_count": 220,
   "metadata": {},
   "outputs": [
    {
     "data": {
      "text/plain": [
       "False"
      ]
     },
     "execution_count": 220,
     "metadata": {},
     "output_type": "execute_result"
    }
   ],
   "source": [
    "message = 14093530013530593\n",
    "result=('5' not in str(message)[:6])\n",
    "result"
   ]
  },
  {
   "cell_type": "markdown",
   "metadata": {},
   "source": [
    "Задание 3.1 (External resource)\n",
    "\n",
    "Дано n-значное целое число N. Напишите условие для проверки того, входят ли в заданное число цифры 3 и 7.\n",
    "\n",
    "Результатом выполнения условия должно стать значение True или False. Занесите этот результат в переменную contains."
   ]
  },
  {
   "cell_type": "code",
   "execution_count": 221,
   "metadata": {},
   "outputs": [
    {
     "data": {
      "text/plain": [
       "False"
      ]
     },
     "execution_count": 221,
     "metadata": {},
     "output_type": "execute_result"
    }
   ],
   "source": [
    "N = 59005085801\n",
    "contains=('3' in str(N) and '7' in str(N) )\n",
    "contains\n",
    "# contains = True"
   ]
  },
  {
   "cell_type": "markdown",
   "metadata": {},
   "source": [
    "Задание 3.2 (External resource) \n",
    "\n",
    "Координатам по горизонтальной и вертикальной осям шахматной доски, в которые должна переместиться фигура, соответствуют переменные x и y:\n",
    "\n",
    "\n",
    "x, y = 'F', 7\n",
    "Напишите условие проверки корректности хода. Ход считается корректным, если новые координаты фигуры не выходят за пределы шахматной доски.\n",
    "\n",
    "Результат работы условия присвойте переменной move_is_correct, в которой должно содержаться значение True или False в зависимости от того, является ли ход корректным.\n",
    "\n",
    "Примеры работы программы:\n",
    "\n",
    "\n",
    "x, y = 'F', 7 \n",
    "`move_is_correct = True\n",
    "\n",
    "x, y = 'K', 1\n",
    "`move_is_correct = False\n",
    "\n"
   ]
  },
  {
   "cell_type": "code",
   "execution_count": 222,
   "metadata": {},
   "outputs": [
    {
     "data": {
      "text/plain": [
       "True"
      ]
     },
     "execution_count": 222,
     "metadata": {},
     "output_type": "execute_result"
    }
   ],
   "source": [
    "x, y = 'F', 7\n",
    "move_is_correct= (  ((x in ['A','B','C','D','E','F','G','H']) or (x in ['a','b','c','d','e','f','g','h']))     and (str(y) in ['1','2','3','4','5','6','7','8'])) \n",
    "move_is_correct"
   ]
  },
  {
   "cell_type": "code",
   "execution_count": 223,
   "metadata": {},
   "outputs": [
    {
     "name": "stdout",
     "output_type": "stream",
     "text": [
      "False\n"
     ]
    }
   ],
   "source": [
    "available_packages = 105\n",
    "total_count = 1677\n",
    "condition1= total_count%13==0\n",
    "condition2=total_count//13<=available_packages\n",
    "print(condition1 and condition2)"
   ]
  },
  {
   "cell_type": "markdown",
   "metadata": {},
   "source": [
    "Задание 3.3 (External resource)\n",
    "\n",
    "Дано n-значное целое число N. Реализуйте условие для проверки того, начинается ли число N с четной цифры.\n",
    "\n",
    "Результатом работы условия должно стать булево значение True или False. Занесите этот результат в переменную first_is_even.\n",
    "\n",
    "*Примеры работы программы:\n",
    "\n",
    "\n",
    "N = 782\n",
    "` first_is_even = False\n",
    "N = 45901\n",
    "` first_is_even = True\n",
    "Подсказка: Преобразуйте число N в тип данных str, извлеките первый символ, а затем преобразуйте его в целое число int. Проверьте, что полученное число делится на 2 без остатка.\n",
    "\n",
    "Примечание: Для отправки кода на проверку переменную N объявлять не нужно. Не забудьте удалить строку кода её объявлением перед тестированием."
   ]
  },
  {
   "cell_type": "code",
   "execution_count": 224,
   "metadata": {},
   "outputs": [
    {
     "data": {
      "text/plain": [
       "True"
      ]
     },
     "execution_count": 224,
     "metadata": {},
     "output_type": "execute_result"
    }
   ],
   "source": [
    "N = 682\n",
    "first_is_even=(int((str(N))[0]))%2==0\n",
    "first_is_even"
   ]
  },
  {
   "cell_type": "markdown",
   "metadata": {},
   "source": [
    "Задание 3.4 (External resource)\n",
    "\n",
    "Напишите условие, которое проверяет, что год является високосным.\n",
    "\n",
    "Известно, что год является високосным при выполнении хотя бы одного из следующих условий:\n",
    "\n",
    "Номер года делится (без остатка) на 400.\n",
    "Номер года делится (без остатка) на 4 и не делится на 100 одновременно.\n",
    "Номер года находится в переменной year.\n",
    "\n",
    "Результат выполнения условия занесите в переменную year_is_leap. Её значение должно быть равно True или False, в зависимости от того, является ли заданный год високосным.\n",
    "\n",
    "Примеры работы программы:\n",
    "\n",
    "\n",
    "year = 2000\n",
    " year_is_leap = True\n",
    "\n",
    "year = 1900\n",
    " year_is_leap = False\n",
    "\n",
    "year = 2015\n",
    " year_is_leap = False\n",
    "Примечание: Для отправки кода на проверку переменную year объявлять не нужно. Не забудьте удалить строку кода её объявлением перед тестированием."
   ]
  },
  {
   "cell_type": "code",
   "execution_count": 225,
   "metadata": {},
   "outputs": [
    {
     "data": {
      "text/plain": [
       "False"
      ]
     },
     "execution_count": 225,
     "metadata": {},
     "output_type": "execute_result"
    }
   ],
   "source": [
    "year = 1900\n",
    "con1=year%400==0\n",
    "con2=year%4==0 and year%100!=0\n",
    "year_is_leap= con1 or con2\n",
    "year_is_leap"
   ]
  },
  {
   "cell_type": "markdown",
   "metadata": {},
   "source": [
    "Задание 3.5 (External resource)\n",
    "\n",
    "Шоколадка имеет вид прямоугольника размером n * m долек. Шоколадку можно один раз разломить по прямой на две части.\n",
    "\n",
    "Необходимо реализовать условие, проверяющее, можно ли таким образом отломить от шоколадки часть, состоящую ровно из k долек. Два примера таких разделений — по горизонтали и вертикали — приведены на рисунке.\n",
    "\n",
    "Пример\n",
    "\n",
    "Информация о количестве долек в ширину и длину шоколадки, а также количество долек, которое должно получиться после разделения, содержится в переменных n, m и k соответственно.\n",
    "\n",
    "Не забудьте также учесть, что количество долек, получаемое в остатке, должно быть строго меньше, чем общее количество долек, из которых состоит шоколадка.\n",
    "\n",
    "Результат работы условия занесите в переменную result, значение которой равно True или False в зависимости от выполнения условия.\n",
    "\n",
    "Примеры работы программы:\n",
    "\n",
    "\n",
    "n, m, k = 5, 4, 8\n",
    "` result = True\n",
    "\n",
    "n, m, k = 5, 4, 3\n",
    "` result = False\n",
    "\n",
    "n, m, k = 5, 4, 25\n",
    "` result = False\n"
   ]
  },
  {
   "cell_type": "code",
   "execution_count": 226,
   "metadata": {},
   "outputs": [
    {
     "data": {
      "text/plain": [
       "False"
      ]
     },
     "execution_count": 226,
     "metadata": {},
     "output_type": "execute_result"
    }
   ],
   "source": [
    "n, m, k = 5, 4, 3\n",
    "\n",
    "result=(n*m>k and k%2==0) \n",
    "result"
   ]
  },
  {
   "cell_type": "code",
   "execution_count": 227,
   "metadata": {},
   "outputs": [
    {
     "name": "stdout",
     "output_type": "stream",
     "text": [
      "True\n",
      "True\n",
      "True\n"
     ]
    }
   ],
   "source": [
    "name = None\n",
    "surname = None\n",
    "second_name = None\n",
    "print(id(name) == id(surname) and id(name) == id(second_name))\n",
    "# Плохо, так лучше не делать\n",
    "print(second_name == None)\n",
    "## True\n",
    "# Хорошо\n",
    "print(second_name is None)\n",
    "## True"
   ]
  },
  {
   "cell_type": "markdown",
   "metadata": {},
   "source": [
    "Задание 3.6 (External resource)\n",
    "\n",
    "Представьте, что вы обрабатываете заполненные пользователями онлайн-заявки. Переменная phone в виде строки хранит указанный пользователем номер телефона и None, если соответствующее поле в анкете заполнено не было.\n",
    "\n",
    "Реализуйте условие, которое проверит, оставил ли пользователь номер телефона. Результатом работы условия должно стать булево значение True или False в зависимости от того, заполнено ли поле с номером телефона.\n",
    "\n",
    "Результат занесите в переменную phone_is_defined.\n",
    "\n",
    "Примеры работы программы:\n",
    "\n",
    "\n",
    "phone = '+7 927 124 42 12'\n",
    "` phone_is_defined = True\n",
    "\n",
    "phone = None\n",
    "` phone_is_defined = False\n",
    "Примечание: Для отправки кода на проверку переменную phone объявлять не нужно. Не забудьте удалить строку кода с её объявлением перед тестированием.\n"
   ]
  },
  {
   "cell_type": "code",
   "execution_count": 228,
   "metadata": {},
   "outputs": [
    {
     "data": {
      "text/plain": [
       "True"
      ]
     },
     "execution_count": 228,
     "metadata": {},
     "output_type": "execute_result"
    }
   ],
   "source": [
    "phone = '+7 927 124 42 12'\n",
    "phone_is_defined = phone is not None\n",
    "phone_is_defined\n"
   ]
  },
  {
   "cell_type": "code",
   "execution_count": 229,
   "metadata": {},
   "outputs": [
    {
     "data": {
      "text/plain": [
       "False"
      ]
     },
     "execution_count": 229,
     "metadata": {},
     "output_type": "execute_result"
    }
   ],
   "source": [
    "phone = None\n",
    "phone_is_defined = phone is not None\n",
    "phone_is_defined"
   ]
  },
  {
   "cell_type": "code",
   "execution_count": 230,
   "metadata": {},
   "outputs": [
    {
     "name": "stdout",
     "output_type": "stream",
     "text": [
      "['C++', 'Python', 'Java', 'JavaScript']\n",
      "None\n"
     ]
    }
   ],
   "source": [
    "lst = ['C++', 'Python', 'Java']\n",
    "append_result = lst.append('JavaScript')\n",
    "print(lst)\n",
    "## ['C++', 'Python', 'Java', 'JavaScript']\n",
    "print(append_result)\n",
    "## None"
   ]
  },
  {
   "cell_type": "code",
   "execution_count": 231,
   "metadata": {},
   "outputs": [
    {
     "name": "stdout",
     "output_type": "stream",
     "text": [
      "15\n",
      "None\n"
     ]
    }
   ],
   "source": [
    "product_dict = {'Сок яблочный': 15, 'Сок тыквенный': 10, 'Сок ананасовый': 5}\n",
    "value = product_dict.get('Сок яблочный')\n",
    "print(value)\n",
    "## 15\n",
    "value = product_dict.get('Сок вишневый')\n",
    "print(value)\n",
    "## None"
   ]
  },
  {
   "cell_type": "markdown",
   "metadata": {},
   "source": [
    "Задание 3.7 (External resource)\n",
    "\n",
    "В словаре arrival_of_goods хранится информация о приходах товара на склад интернет-магазина. Ключами этого словаря являются номера накладных, а значениями — словари, в которых содержится информация о товаре и его количестве в каждой из накладной.\n",
    "\n",
    "\n",
    "arrival_of_goods = {\n",
    "    '148902': {\n",
    "        'Футболка с принтом': 180,\n",
    "        'Свитшот черный': 245,\n",
    "        'Джинсы серые': 252\n",
    "    },\n",
    "    '893516': {\n",
    "        'Футболка с принтом': 43,\n",
    "        'Свитшот черный': 64,\n",
    "        'Джинсы черные': 102\n",
    "    },\n",
    "    '893481': {\n",
    "        'Кружка керамическая': 35,\n",
    "        'Свитшот черный': 10,\n",
    "        'Джинсы сервые': 14\n",
    "    }\n",
    "}\n",
    "Мы проводим аналитику прихода товара на склад. В переменной invoice_number содержится номер накладной, который мы хотим найти.\n",
    "\n",
    "С помощью метода словарей get() и проверки на None реализуйте условие, которое проверяет, есть ли в истории прихода накладная с указанным в переменной invoice_number номером.\n",
    "\n",
    "Результатом работы условия должна стать булева переменная со значением True или False в зависимости от того, существует ли в системе указанная накладная.\n",
    "\n",
    "Результат занесите в переменную invoice_exists.\n",
    "\n",
    "Примеры работы программы:\n",
    "\n",
    "\n",
    "invoice_number = '148902'\n",
    "` invoice_exists = True\n",
    "\n",
    "invoice_number = '892421'\n",
    "` invoice_exists = False\n",
    "\n",
    "\n"
   ]
  },
  {
   "cell_type": "code",
   "execution_count": 232,
   "metadata": {},
   "outputs": [
    {
     "data": {
      "text/plain": [
       "True"
      ]
     },
     "execution_count": 232,
     "metadata": {},
     "output_type": "execute_result"
    }
   ],
   "source": [
    "arrival_of_goods = {\n",
    "    '148902': {\n",
    "        'Футболка с принтом': 180,\n",
    "        'Свитшот черный': 245,\n",
    "        'Джинсы серые': 252\n",
    "    },\n",
    "    '893516': {\n",
    "        'Футболка с принтом': 43,\n",
    "        'Свитшот черный': 64,\n",
    "        'Джинсы черные': 102\n",
    "    },\n",
    "    '893481': {\n",
    "        'Кружка керамическая': 35,\n",
    "        'Свитшот черный': 10,\n",
    "        'Джинсы сервые': 14\n",
    "    }\n",
    "}\n",
    "invoice_number = '148902'\n",
    "value = arrival_of_goods.get(invoice_number)\n",
    "invoice_exists= value is not None\n",
    "invoice_exists"
   ]
  },
  {
   "cell_type": "code",
   "execution_count": 233,
   "metadata": {},
   "outputs": [
    {
     "name": "stdout",
     "output_type": "stream",
     "text": [
      "Don't take an umbrella\n"
     ]
    }
   ],
   "source": [
    "is_rainy = False  # дождь будет\n",
    " \n",
    "# Реализуем условный оператор\n",
    "# В блок if помещаем условие \n",
    "if is_rainy:\n",
    "    # брать зонт\n",
    "    print(\"Take an umbrella\") \n",
    "else:\n",
    "    # не брать зонт\n",
    "    print(\"Don't take an umbrella\") \n",
    " \n",
    "## Брать зонт"
   ]
  },
  {
   "cell_type": "code",
   "execution_count": 234,
   "metadata": {},
   "outputs": [
    {
     "name": "stdout",
     "output_type": "stream",
     "text": [
      "Value of variable a > value of variable b\n"
     ]
    }
   ],
   "source": [
    "a = 2 ** 10\n",
    "b = 3 ** 5\n",
    "if a > b:\n",
    "    # значение a > значения b\n",
    "    print('Value of variable a > value of variable b')"
   ]
  },
  {
   "cell_type": "code",
   "execution_count": 235,
   "metadata": {},
   "outputs": [
    {
     "name": "stdout",
     "output_type": "stream",
     "text": [
      "Value of variable a > value of variable b\n"
     ]
    }
   ],
   "source": [
    "a = 2 ** 10\n",
    "b = 3 ** 5\n",
    "# Реализуем условный оператор if-else\n",
    "# В блок if помещаем условие\n",
    "if a > b:\n",
    "    # значение a > значения b\n",
    "    print('Value of variable a > value of variable b') \n",
    "else:\n",
    "    # значение a <= значения b\n",
    "    print('Value of variable a <= value of variable b')"
   ]
  },
  {
   "cell_type": "code",
   "execution_count": 236,
   "metadata": {},
   "outputs": [
    {
     "name": "stdout",
     "output_type": "stream",
     "text": [
      "on — target_word\n",
      "['and', 'or', 'not'] — list of words\n"
     ]
    }
   ],
   "source": [
    "#target_word = 'and'\n",
    "target_word = 'on'\n",
    "words = ['and', 'or', 'not']\n",
    "# Проверяем, что строка target_word есть в списке words\n",
    "if target_word in words:\n",
    "    # целевое слово есть в списке\n",
    "    print('String \"{}\" is in list'.format(target_word))\n",
    "## String \"and\" is in list\n",
    "print('{} — target_word'.format(target_word))\n",
    "print('{} — list of words'.format(words))"
   ]
  },
  {
   "cell_type": "code",
   "execution_count": 237,
   "metadata": {},
   "outputs": [
    {
     "name": "stdout",
     "output_type": "stream",
     "text": [
      "15\n"
     ]
    }
   ],
   "source": [
    "s = 5\n",
    "a = 10\n",
    "if a > 0:\n",
    "   s = s + a\n",
    "else:\n",
    "   s = s - a\n",
    " \n",
    "print(s)"
   ]
  },
  {
   "cell_type": "markdown",
   "metadata": {},
   "source": [
    "Задание 4.3 (External resource)\n",
    "\n",
    "Начинающий программист торопился и допустил в своей программе несколько синтаксических ошибок. Ваша задача — исправить код так, чтобы он отработал без синтаксических ошибок\n",
    "\n",
    "\n",
    "mx = 0\n",
    "s = 0\n",
    "\n",
    "    x = -5\n",
    "    if x < 0\n",
    "        s = x\n",
    "\n",
    "if x > mx\n",
    "    mx = x\n",
    "\n",
    "print(s)\n",
    "print(mx)"
   ]
  },
  {
   "cell_type": "code",
   "execution_count": 238,
   "metadata": {},
   "outputs": [
    {
     "name": "stdout",
     "output_type": "stream",
     "text": [
      "-5\n",
      "0\n"
     ]
    }
   ],
   "source": [
    "mx = 0\n",
    "s = 0\n",
    "x = -5\n",
    "if x < 0:\n",
    "    s = x\n",
    "if x > mx:\n",
    "    mx = x\n",
    "print(s)\n",
    "print(mx)"
   ]
  },
  {
   "cell_type": "markdown",
   "metadata": {},
   "source": [
    "Задание 4.4 (External resource)\n",
    "\n",
    "Вам необходимо запрограммировать сенсор в общественном помещении, который определяет количество человек.\n",
    "\n",
    "Если людей в помещении меньше 10, то на табло должно гореть сообщение «Добро пожаловать!», а в противном случае — «Всё занято. Подождите!».\n",
    "\n",
    "Количество человек в помещении хранится в переменной people_count. Организуйте вывод на табло с помощью функции print().\n",
    "\n",
    "Примеры работы программы:\n",
    "\n",
    "\n",
    "people_count = 5\n",
    "` Добро пожаловать!\n",
    "\n",
    "people_count = 10\n",
    "` Всё занято. Подождите!"
   ]
  },
  {
   "cell_type": "code",
   "execution_count": 239,
   "metadata": {},
   "outputs": [
    {
     "name": "stdout",
     "output_type": "stream",
     "text": [
      "Всё занято. Подождите!\n"
     ]
    }
   ],
   "source": [
    "people_count = 15\n",
    "if people_count <10:\n",
    "    print('Добро пожаловать!')\n",
    "else:\n",
    "    print('Всё занято. Подождите!')"
   ]
  },
  {
   "cell_type": "markdown",
   "metadata": {},
   "source": [
    "Задание 4.5 (External resource)\n",
    "\n",
    "Представьте, что вам нужно написать программу, которая запрашивает у пользователя пароль для входа и проверяет, верен ли он. Верный пароль хранится в переменной password. Пароль, который вводит пользователь, хранится в переменной answer.\n",
    "\n",
    "Напишите часть кода, которая отвечает за проверку ввода пароля: если верный, то выводится информация «Добро пожаловать!», если неверный, то «Вы ввели неверный пароль!».\n",
    "\n",
    "Примеры работы программы:\n",
    "\n",
    "\n",
    "password = '879f2aabS'\n",
    "answer = '879f2aabS'\n",
    "` Добро пожаловать!\n",
    "\n",
    "password = '879f2aabS'\n",
    "answer = '879f2aabs'\n",
    "` Вы ввели неверный пароль!"
   ]
  },
  {
   "cell_type": "code",
   "execution_count": 240,
   "metadata": {},
   "outputs": [
    {
     "name": "stdout",
     "output_type": "stream",
     "text": [
      "Добро пожаловать!\n"
     ]
    }
   ],
   "source": [
    "password = '879f2aabS'\n",
    "answer = '879f2aabS'\n",
    "if password == answer:\n",
    "    print('Добро пожаловать!')\n",
    "else:\n",
    "    print('Вы ввели неверный пароль!')\n",
    "# Добро пожаловать!"
   ]
  },
  {
   "cell_type": "markdown",
   "metadata": {},
   "source": [
    "Задание 4.6 (External resource)\n",
    "\n",
    "Пользователь вводит своё имя и возраст, их значения хранятся в переменных name и age соответственно.\n",
    "\n",
    "Если возраст пользователя больше либо равен 18, то программа должна вывести строку \"Добрый вечер, <name>!\", меньше — \"Привет, <name>! Приносим свои извинения, но вы не можете гулять после 22:00\".\n",
    "\n",
    "Примеры работы программы:\n",
    "\n",
    "\n",
    "name = 'Андрей'\n",
    "age = 21\n",
    "` \"Добрый вечер, Андрей!\"\n"
   ]
  },
  {
   "cell_type": "code",
   "execution_count": 241,
   "metadata": {},
   "outputs": [
    {
     "name": "stdout",
     "output_type": "stream",
     "text": [
      "Привет, Андрей! Приносим свои извинения, но вы не можете гулять после 22:00\n"
     ]
    }
   ],
   "source": [
    "name = 'Андрей'\n",
    "age = 11\n",
    "if age >= 18:\n",
    "    print('Добрый вечер, {}!'.format(name))\n",
    "else:\n",
    "    print('Привет, {}! Приносим свои извинения, но вы не можете гулять после 22:00'.format(name))"
   ]
  },
  {
   "cell_type": "code",
   "execution_count": 242,
   "metadata": {},
   "outputs": [
    {
     "name": "stdout",
     "output_type": "stream",
     "text": [
      "Put on a raincoat\n"
     ]
    }
   ],
   "source": [
    "is_rainy = True  # дождь будет\n",
    "heavy_rain = False  # не сильный дождь\n",
    "\n",
    "if is_rainy:\n",
    "    # в данный блок дописали ещё один условный оператор\n",
    "    if heavy_rain:\n",
    "        #брать зонт\n",
    "        print(\"Take an umbrella\")  \n",
    "    else:\n",
    "        #надеть дождевик\n",
    "        print(\"Put on a raincoat\") \n",
    "else:\n",
    "    #не брать зонт\n",
    "    print(\"Don't take an umbrella\") \n",
    "\n",
    "## Put on a raincoat"
   ]
  },
  {
   "cell_type": "code",
   "execution_count": 243,
   "metadata": {},
   "outputs": [
    {
     "name": "stdout",
     "output_type": "stream",
     "text": [
      "Not to issue a loan\n"
     ]
    }
   ],
   "source": [
    "credit_history = 'bad' #кредитная история\n",
    "deposit = True # есть ли залог\n",
    "guarantors = False # есть ли поручители\n",
    "credit = 500.0 #сумма долга\n",
    "if credit_history == 'bad':\n",
    "    if deposit:\n",
    "        if guarantors:\n",
    "            print('Issue a loan')\n",
    "        else:\n",
    "            print('Not to issue a loan')\n",
    "    else:\n",
    "        print('Not to issue a loan')\n",
    "else:\n",
    "    if credit < 1000:\n",
    "        print('Issue a loan')\n",
    "    else:\n",
    "        print('Not to issue a loan')"
   ]
  },
  {
   "cell_type": "markdown",
   "metadata": {},
   "source": [
    "Задание 4.7 (External resource)\n",
    "\n",
    "Используя вложенный условный оператор, напишите программу, которая проверяет, что число number делится на 2 и на 5 без остатка.\n",
    "\n",
    "Если число делится на 2 и на 5, программа должна выводить на экран фразу \"<число> делится на 2 и на 5\".\n",
    "\n",
    "Если число делится на 2, но не делится на 5 — программа должна выводить на экран фразу \"<число> делится на 2, но не делится на 5\".\n",
    "\n",
    "Если число не делится на 2, но делится на 5 — программа должна выводить на экран фразу \"<число> не делится на 2, но делится на 5\".\n",
    "\n",
    "Если число не делится ни на 2, ни на 5 — программа должна выводить на экран фразу \"<число> не делится ни на 2, ни на 5\".\n",
    "\n",
    "Примеры работы программы:\n",
    "\n",
    "\n",
    "number = 200\n",
    "` 200 делится на 2 и на 5\n",
    "\n",
    "number = 8\n",
    "` 8 делится на 2, но не делится на 5\n",
    "\n",
    "number = 15\n",
    "` 15 не делится на 2, но делится на 5\n",
    "\n",
    "number = 27\n",
    "` 27 не делится ни на 2, ни на 5"
   ]
  },
  {
   "cell_type": "code",
   "execution_count": 244,
   "metadata": {},
   "outputs": [
    {
     "name": "stdout",
     "output_type": "stream",
     "text": [
      "10 делится на 2 и на 5\n"
     ]
    }
   ],
   "source": [
    "number = 10\n",
    "if number%2==0 and number%5==0 :\n",
    "    print(\"{} делится на 2 и на 5\".format(number))\n",
    "if number%2==0 and number%5!=0:\n",
    "    print(\"{} делится на 2, но не делится на 5\".format(number))\n",
    "if number%2!=0 and number%5==0:\n",
    "    print(\"{} не делится на 2, но делится на 5\".format(number))\n",
    "if number%2!=0 and number%5!=0:\n",
    "    print(\"{} не делится ни на 2, ни на 5\".format(number))\n"
   ]
  },
  {
   "cell_type": "code",
   "execution_count": 245,
   "metadata": {},
   "outputs": [
    {
     "name": "stdout",
     "output_type": "stream",
     "text": [
      "True True False\n"
     ]
    }
   ],
   "source": [
    "print(bool(893), bool(-8), bool(0)) \n",
    "##True True False"
   ]
  },
  {
   "cell_type": "code",
   "execution_count": 246,
   "metadata": {},
   "outputs": [
    {
     "name": "stdout",
     "output_type": "stream",
     "text": [
      "Goodbye, world!\n"
     ]
    }
   ],
   "source": [
    "if {}:\n",
    "    print(\"Hello, world!\")\n",
    "else:\n",
    "    print(\"Goodbye, world!\")\n",
    "\n",
    "## Hello, world!"
   ]
  },
  {
   "cell_type": "code",
   "execution_count": 247,
   "metadata": {},
   "outputs": [
    {
     "name": "stdout",
     "output_type": "stream",
     "text": [
      "1.0\n"
     ]
    }
   ],
   "source": [
    "if number != 0:\n",
    "   print(10 / number)\n",
    "else:\n",
    "   print(\"You can't divide by zero\")"
   ]
  },
  {
   "cell_type": "code",
   "execution_count": 248,
   "metadata": {},
   "outputs": [
    {
     "name": "stdout",
     "output_type": "stream",
     "text": [
      "5.0\n"
     ]
    }
   ],
   "source": [
    "number=2\n",
    "if number:\n",
    "   print(10 / number )\n",
    "else:\n",
    "   print(\"You can't divide by zero\")"
   ]
  },
  {
   "cell_type": "code",
   "execution_count": 249,
   "metadata": {},
   "outputs": [
    {
     "name": "stdout",
     "output_type": "stream",
     "text": [
      "True False\n"
     ]
    }
   ],
   "source": [
    "print(bool(\"Hello, world\"), bool(\"\"))\n",
    "## True False"
   ]
  },
  {
   "cell_type": "code",
   "execution_count": 250,
   "metadata": {},
   "outputs": [
    {
     "name": "stdout",
     "output_type": "stream",
     "text": [
      "11\n",
      "10\n"
     ]
    }
   ],
   "source": [
    "result = 10\n",
    "my_dict = {'key_1': 10}\n",
    "item = my_dict.pop('key_1')\n",
    "if my_dict:\n",
    "    result = result + item\n",
    "else:\n",
    "    result = result + 1\n",
    " \n",
    "print(result)\n",
    "\n",
    "print(item)"
   ]
  },
  {
   "cell_type": "code",
   "execution_count": 251,
   "metadata": {},
   "outputs": [
    {
     "name": "stdout",
     "output_type": "stream",
     "text": [
      "42\n"
     ]
    }
   ],
   "source": [
    "a = 42\n",
    "b = 41\n",
    "\n",
    "if a > b:\n",
    "    result = a\n",
    "else:\n",
    "    result = b\n",
    "\n",
    "print(result)\n",
    "## 42"
   ]
  },
  {
   "cell_type": "code",
   "execution_count": 252,
   "metadata": {},
   "outputs": [
    {
     "data": {
      "text/plain": [
       "42"
      ]
     },
     "execution_count": 252,
     "metadata": {},
     "output_type": "execute_result"
    }
   ],
   "source": [
    "result= a if a>b else b\n",
    "result"
   ]
  },
  {
   "cell_type": "code",
   "execution_count": 253,
   "metadata": {},
   "outputs": [
    {
     "name": "stdout",
     "output_type": "stream",
     "text": [
      "Not eligible for discount\n"
     ]
    }
   ],
   "source": [
    "cust_age = 40\n",
    "# Проверяем условие: возраст больше 60 \n",
    "if cust_age >= 60:\n",
    "    # условие выполняется\n",
    "    print(\"Eligible for discount\")\n",
    "else:\n",
    "    # условие не выполняется\n",
    "    print(\"Not eligible for discount\")\n",
    "## Not eligible for discount"
   ]
  },
  {
   "cell_type": "code",
   "execution_count": 254,
   "metadata": {},
   "outputs": [
    {
     "name": "stdout",
     "output_type": "stream",
     "text": [
      "Not eligible for discount\n"
     ]
    }
   ],
   "source": [
    "print(\"Eligible for discount\" if cust_age>=60 else \"Not eligible for discount\" )"
   ]
  },
  {
   "cell_type": "code",
   "execution_count": 255,
   "metadata": {},
   "outputs": [
    {
     "name": "stdout",
     "output_type": "stream",
     "text": [
      "Not eligible for discount\n"
     ]
    }
   ],
   "source": [
    "answer_dict = {\n",
    "    True: \"Eligible for discount\",\n",
    "    False: \"Not eligible for discount\"\n",
    "}\n",
    "cust_age = 40\n",
    "print(answer_dict[cust_age >= 60])\n",
    "## Not eligible for discount"
   ]
  },
  {
   "cell_type": "markdown",
   "metadata": {},
   "source": [
    "Задание 4.9"
   ]
  },
  {
   "cell_type": "code",
   "execution_count": 256,
   "metadata": {},
   "outputs": [
    {
     "name": "stdout",
     "output_type": "stream",
     "text": [
      "None\n",
      "None\n"
     ]
    }
   ],
   "source": [
    "lst = ['a', 'b', 'c']\n",
    "if 'f' in lst:\n",
    "    x = 5\n",
    "else:\n",
    "    x = None\n",
    "print(x)\n",
    "\n",
    "print(x if 'f' in lst else None )"
   ]
  },
  {
   "cell_type": "markdown",
   "metadata": {},
   "source": [
    "Задание 4.10 (External resource)\n",
    "\n",
    "Нам нужно установить конкретную ставку скидки в зависимости от того, соответствует ли клиент критериям. По умолчанию наше приложение для бронирования мероприятий предоставляет всем клиентам скидку 10%; однако клиенты в возрасте 60 лет и старше имеют право на скидку 20%.\n",
    "\n",
    "С помощью тернарного оператора напишите программу, которая определяет скидку клиента. Возраст клиента хранится в переменной cust_age.\n",
    "\n",
    "Значение скидки занесите в переменную cust_discount.\n",
    "\n",
    "Примеры работы программы:\n",
    "\n",
    "\n",
    "cust_age = 40\n",
    "` cust_discount  = 10\n",
    "\n",
    "cust_age = 68\n",
    "` cust_discount  = 20"
   ]
  },
  {
   "cell_type": "code",
   "execution_count": 257,
   "metadata": {},
   "outputs": [],
   "source": [
    "cust_age = 40\n",
    "cust_discount='10' if cust_age <= 60 else '20'"
   ]
  },
  {
   "cell_type": "code",
   "execution_count": 258,
   "metadata": {},
   "outputs": [
    {
     "name": "stdout",
     "output_type": "stream",
     "text": [
      "Morning\n"
     ]
    }
   ],
   "source": [
    "now = '11:24:39'\n",
    "hour,minute,second= now.split(':')\n",
    "hour,minute,second = int(hour),int(minute),int(second),\n",
    "hour,minute,second\n",
    "if 6<=hour <12:\n",
    "    print('Morning')\n"
   ]
  },
  {
   "cell_type": "code",
   "execution_count": 259,
   "metadata": {},
   "outputs": [
    {
     "name": "stdout",
     "output_type": "stream",
     "text": [
      "3 quarter\n"
     ]
    }
   ],
   "source": [
    "x, y = (-6.3, -5.3)\n",
    "if x>0:\n",
    "    if y>0:\n",
    "        print('1 quarter')\n",
    "    else:\n",
    "        print('4 quarter')\n",
    "if x<0:\n",
    "    if y<0:\n",
    "        print('3 quarter')\n",
    "    else:\n",
    "        print('2 quarter')\n",
    "\n",
    "        "
   ]
  },
  {
   "cell_type": "code",
   "execution_count": 260,
   "metadata": {},
   "outputs": [
    {
     "name": "stdout",
     "output_type": "stream",
     "text": [
      "3 quarter\n"
     ]
    }
   ],
   "source": [
    "if x>0 and y>0:\n",
    "    print('1 quarter')\n",
    "if x>0 and y<0:\n",
    "    print('4 quarter')\n",
    "if x<0 and y<0:\n",
    "    print('3 quarter')\n",
    "if x<0 and y>0:\n",
    "    print('2 quarter')\n",
    "\n"
   ]
  },
  {
   "cell_type": "markdown",
   "metadata": {},
   "source": [
    "Задание 5.1 (External resource)\n",
    "\n",
    "Пользователь вводит целое число — текущее время в часах, значение которого хранится в переменной time. Если количество часов находится между 7 и 10 (включая обе границы), то программа должна вывести строку «Пора вставать!», иначе выведется строка «Ты проспал!».\n",
    "\n",
    "Примечание: В рамках данной задачи условимся, что пользователь считается проспавшим в любое время, отличное от указанного интервала.\n",
    "\n",
    "Примеры:\n",
    "\n",
    "\n",
    "time = 8\n",
    "` Пора вставать!\n",
    "\n",
    "time = 12\n",
    "` Ты проспал!"
   ]
  },
  {
   "cell_type": "code",
   "execution_count": 261,
   "metadata": {},
   "outputs": [
    {
     "name": "stdout",
     "output_type": "stream",
     "text": [
      "Ты проспал!\n"
     ]
    }
   ],
   "source": [
    "time=6\n",
    "if 7<=time<10:\n",
    "    print('Пора вставать!')\n",
    "else:\n",
    "    print('Ты проспал!')"
   ]
  },
  {
   "cell_type": "markdown",
   "metadata": {},
   "source": [
    "Задание 5.2 (External resource)\n",
    "\n",
    "Считается, что буквы q и z встречается в английском языке реже остальных букв. Вы решили написать программу, которая позволяет пользователям вводить слова и проверяет, можно считать это слово редким или нет. Интересующее вас слово содержится в переменной target_word.\n",
    "\n",
    "Пусть эта программа выводит на экран одну из двух фраз: «Ух ты! Вы ввели редкое слово!», если в слове есть буква q или букву z, или «Это не очень редкое слово...», если в нём этих букв нет.\n",
    "\n",
    "Примеры:\n",
    "\n",
    "\n",
    "target_word = \"quantity\"\n",
    "` Ух ты! Вы ввели редкое слово!\n",
    "\n",
    "target_word = \"apply\"\n",
    "` Это не очень редкое слово..."
   ]
  },
  {
   "cell_type": "code",
   "execution_count": 262,
   "metadata": {},
   "outputs": [
    {
     "name": "stdout",
     "output_type": "stream",
     "text": [
      "Это не очень редкое слово...\n"
     ]
    }
   ],
   "source": [
    "target_word = \"apply\"\n",
    "if ('q' in target_word) or ('z' in target_word):\n",
    "    print('Ух ты! Вы ввели редкое слово!')\n",
    "else:\n",
    "    print('Это не очень редкое слово...')"
   ]
  },
  {
   "cell_type": "markdown",
   "metadata": {},
   "source": [
    "Задание 5.3 (External resource)\n",
    "\n",
    "Вы работаете в агентстве знакомств. К вам обратилась некая Алла, которая ищет мужчину ростом строго выше 180 см, весом строго менее 80 кг. Также Алла верит в гороскопы и согласно гороскопу ей подходят только весы, дева, овен и козерог.\n",
    "\n",
    "Напишите условие, которое позволит определить, подходит ли Алле тот или иной кандидат. В результате работы программы на экран должно быть введено:\n",
    "\n",
    "«Ваша половинка нашлась!» — если кандидат подходит Алле по параметрам.\n",
    "\n",
    "«Попробуем поискать еще!» — если кандидат не подходит Алле по параметрам.\n",
    "\n",
    "Примеры работы программы:\n",
    "\n",
    "\n",
    "height = 183\n",
    "weight = 78\n",
    "zodiac_sign = 'козерог'\n",
    "` \"Ваша половинка нашлась!\"\n",
    "\n",
    "height = 171\n",
    "weight = 75\n",
    "zodiac_sign = 'весы'\n",
    "` \"Попробуем поискать еще!\""
   ]
  },
  {
   "cell_type": "code",
   "execution_count": 263,
   "metadata": {},
   "outputs": [
    {
     "name": "stdout",
     "output_type": "stream",
     "text": [
      "Ваша половинка нашлась!\n"
     ]
    }
   ],
   "source": [
    "height = 183\n",
    "weight = 78\n",
    "zodiac_sign = 'козерог'\n",
    "zodiac_list=['весы', 'дева', 'овен', 'козерог']\n",
    "type(zodiac_list)\n",
    "if (height>=180) and (weight<80) and (zodiac_sign in zodiac_list):\n",
    "    print('Ваша половинка нашлась!')\n",
    "else:\n",
    "    print(\"Попробуем поискать еще!\")\n"
   ]
  },
  {
   "cell_type": "code",
   "execution_count": 264,
   "metadata": {},
   "outputs": [
    {
     "name": "stdout",
     "output_type": "stream",
     "text": [
      "a is more than 10\n"
     ]
    }
   ],
   "source": [
    "a=10.6\n",
    "if a == 10:   # a равно 10  \n",
    "    print('a equals 10') \n",
    "elif a < 10:  # a меньше 10\n",
    "    print('a is less than 10') \n",
    "else:         # a больше 10\n",
    "    print('a is more than 10')"
   ]
  },
  {
   "cell_type": "code",
   "execution_count": 265,
   "metadata": {},
   "outputs": [
    {
     "name": "stdout",
     "output_type": "stream",
     "text": [
      "III quarter\n"
     ]
    }
   ],
   "source": [
    "if x > 0 and y > 0:        # x > 0, y > 0\n",
    "    print(\"I quarter\")     # Первая четверть\n",
    "elif x < 0 and y > 0:      # x < 0, y > 0 \n",
    "    print(\"II quarter\")    # Вторая четверть\n",
    "elif x < 0 and y < 0:      # x < 0, y < 0\n",
    "    print(\"III quarter\")   # Третья четверть\n",
    "elif x > 0 and y < 0:      # x > 0, y < 0\n",
    "    print(\"IV quarter\")    # Четвёртая четверть"
   ]
  },
  {
   "cell_type": "code",
   "execution_count": 266,
   "metadata": {},
   "outputs": [
    {
     "name": "stdout",
     "output_type": "stream",
     "text": [
      "Autumn\n"
     ]
    }
   ],
   "source": [
    "month=9\n",
    "if month in range(3,6):\n",
    "    print('Spring')\n",
    "elif month in range(6,9):\n",
    "    print('Summer')\n",
    "elif month in range(9,12):\n",
    "    print('Autumn')\n",
    "elif month in [12,1,2]:\n",
    "    print('Winter')\n",
    "else:\n",
    "    print(\"Incorrect month number\")"
   ]
  },
  {
   "cell_type": "markdown",
   "metadata": {},
   "source": [
    "Задание 5.4 (External resource)\n",
    "\n",
    "Необходимо реализовать условный оператор, который печатает на экран характеристику ветра и его класс (от 1 до 4) в зависимости от его характера:\n",
    "\n",
    "\"weak [1]\" — от 1 до 4 м/с\n",
    "\n",
    "\"moderate [2]\" — от 5 до 10 м/c\n",
    "\n",
    "\"strong [3]\" — от 11 до 18 м/c\n",
    "\n",
    "\"hurricane [4]\" — от 19 м/c\n",
    "\n",
    "Скорость ветра хранится в переменной speed.\n",
    "\n",
    "Примеры работы программы:\n",
    "\n",
    "\n",
    "speed = 4\n",
    "` \"weak [1]\"\n",
    "\n",
    "speed = 10\n",
    "`  \"moderate [2]\" \n",
    "\n",
    "speed = 14\n",
    "` \"strong [3]\"\n",
    "\n",
    "speed = 25\n",
    "` \"hurricane [4]\" "
   ]
  },
  {
   "cell_type": "code",
   "execution_count": 267,
   "metadata": {},
   "outputs": [],
   "source": [
    "speed = -8\n",
    "if speed in range(1,5):\n",
    "    print(\"weak [1]\")\n",
    "elif speed in range(5,11):\n",
    "    print(\"moderate [2]\")\n",
    "elif speed in range(11,19):\n",
    "    print(\"strong [3]\")\n",
    "elif speed >= 19:\n",
    "    print(\"hurricane [4]\")"
   ]
  },
  {
   "cell_type": "markdown",
   "metadata": {},
   "source": [
    "Задание 5.5 (External resource)\n",
    "Друг, зная, что вы отличный программист, попросил вас запрограммировать игру «Камень, ножницы, бумага» для своего младшего брата. Правила игры всем известны: камень побеждает ножницы; ножницы — бумагу; бумага — камень.\n",
    "\n",
    "Жесты, выполняемые первым и вторым игроками находятся в переменных player_1 и player_2 соответственно. Обратите внимание, что названия жестов должны быть написаны строчными буквами.\n",
    "\n",
    "Напишите программу, которая определяет победителя. Если побеждает первый игрок, то выводится сообщение «Первый игрок — победитель!». Если второй — «Второй игрок — победитель!». Если ничья — выводится «Ничья!».\n",
    "\n",
    "Примеры работы программы:\n",
    "\n",
    "\n",
    "player_1 = 'камень'\n",
    "player_2 = 'камень'\n",
    "` Ничья!\n",
    "\n",
    "player_1 = 'ножницы'\n",
    "player_2 = 'бумага'\n",
    "` Первый игрок — победитель!\n",
    "\n",
    "player_1 = 'камень'\n",
    "player_2 = 'бумага'\n",
    "` Второй игрок — победитель!"
   ]
  },
  {
   "cell_type": "code",
   "execution_count": 268,
   "metadata": {},
   "outputs": [
    {
     "name": "stdout",
     "output_type": "stream",
     "text": [
      "Ничья!\n"
     ]
    }
   ],
   "source": [
    "player_1 = 'камень'\n",
    "player_2 = 'камень'\n",
    "if player_1=='камень' and player_2 == 'ножницы':\n",
    "    print('Первый игрок — победитель!')\n",
    "elif player_2=='ножницы' and player_1 == 'камень':\n",
    "    print('Второй игрок — победитель!')\n",
    "elif player_1=='ножницы' and player_2 == 'бумага':\n",
    "    print('Первый игрок — победитель!')\n",
    "elif player_2=='ножницы' and player_1 == 'бумага':\n",
    "    print('Второй игрок — победитель!')\n",
    "elif player_1=='бумага' and player_2 == 'камень':\n",
    "    print('Первый игрок — победитель!')\n",
    "elif player_2=='бумага' and player_1 == 'камень':\n",
    "    print('Второй игрок — победитель!')\n",
    "else:\n",
    "    print(\"Ничья!\")\n"
   ]
  },
  {
   "cell_type": "code",
   "execution_count": 269,
   "metadata": {},
   "outputs": [
    {
     "name": "stdout",
     "output_type": "stream",
     "text": [
      "Курьер задержится на 8 минут\n"
     ]
    }
   ],
   "source": [
    "dish_time_dict = {\n",
    "    'Рамен с говядиной': 15,\n",
    "    'Суши': 18,\n",
    "    'Лагман с курицей': 20,\n",
    "    'Лагман с говядиной': 24,\n",
    "    'Плов с курицей': 28\n",
    "}\n",
    "street_time_dict  = {\n",
    "    'Дзержинский': 39,\n",
    "    'Солнечный': 40,\n",
    "    'Заводской': 27,\n",
    "    'Гагаринский': 43,\n",
    "    'Кировский': 37,\n",
    "    'Октябрьский': 34\n",
    "}\n",
    "#dish, street = 'Рамен с говядиной', 'Заводской'\n",
    "#dish, street = 'Рамен с говядиной', 'Левобережный'\n",
    "dish, street = 'Плов с курицей', 'Солнечный'\n",
    "#dish, street = 'Бургер с говядиной', 'Солнечный'\n",
    "if street not in street_time_dict:\n",
    "    print('Доставка в ваш район недоступна')\n",
    "elif dish not in dish_time_dict:\n",
    "    print(\"Блюдо недоступно, закажите что-то другое\")\n",
    "else:\n",
    "    dish_time=dish_time_dict[dish]\n",
    "    street_time=street_time_dict[street]\n",
    "    full_time=dish_time+street_time\n",
    "    full_time\n",
    "    delay=full_time-60\n",
    "    delay\n",
    "    if delay <=0:\n",
    "        print('Заказ будет доставлен вовремя')\n",
    "    else:\n",
    "        print('Курьер задержится на {} минут'.format(delay))\n",
    "\n"
   ]
  },
  {
   "cell_type": "code",
   "execution_count": 270,
   "metadata": {},
   "outputs": [
    {
     "name": "stdout",
     "output_type": "stream",
     "text": [
      "Пароль идеален!\n"
     ]
    }
   ],
   "source": [
    "password=\"Aafaf*al\"\n",
    "errors_dict = {\n",
    "    'length': 'Длина пароля не равна 8 символам',\n",
    "    'digits': 'Пароль состоит только из цифр',\n",
    "    'letters': 'Пароль состоит только из букв',\n",
    "    'upper': 'Отсутствуют заглавные буквы',\n",
    "    'lower': 'Отсутствуют строчные буквы',\n",
    "    'spec': 'Отсутствуют спецсимволы в пароле',\n",
    "    'bad_symbols': 'В пароле использованы непредусмотренные символы'\n",
    "}\n",
    "bad_symbols = ['!', '@', '$', '%', '^', '`', '&', '(', ')', '+', '=', '_', '~']\n",
    "if len(password) ==8:\n",
    "    errors_dict.pop('length')\n",
    "\n",
    "if not password.isdigit():\n",
    "    errors_dict.pop('digits')\n",
    "if not password.isalpha():\n",
    "    errors_dict.pop('letters')\n",
    "if password.lower() != password:\n",
    "    errors_dict.pop('upper')\n",
    "if password.upper() != password:\n",
    "    errors_dict.pop('lower')\n",
    "if '*' in password or '-' in password or '#' in password:\n",
    "    errors_dict.pop('spec')\n",
    "    if password.count('*') > 1 or password.count('-') > 1 or password.count('#') > 1:\n",
    "        errors_dict['spec_count'] = 'Какой-то из спецсимволов в пароле использован более одного раза'\n",
    "if len(set(password).intersection(set(bad_symbols))) == 0:\n",
    "    errors_dict.pop('bad_symbols')\n",
    "if len(errors_dict) > 0:\n",
    "    print(list(errors_dict.values()))\n",
    "else:\n",
    "    print('Пароль идеален!')"
   ]
  },
  {
   "cell_type": "markdown",
   "metadata": {},
   "source": [
    "Задание 5.6 (External resource)\n",
    "\n",
    "Обдумывая акцию для распродажи, владелец компании пришёл к выводу, что продавать все кроссовки по акции на сайте компании невыгодно. Поэтому была придумана новая схема: если клиент покупает одновременно кроссовки двух разных брендов, то его общая скидка составит 5 %, если две пары от одного бренда — то 10 %.\n",
    "\n",
    "Для упрощения задачи будем считать, что покупатель в любом случае купит не более двух пар кроссовок. Список товаров в корзине хранится в переменной purchases и может быть пустым.\n",
    "\n",
    "Также будем считать, что для всех товаров бренда действует одна и та же цена. Расценки товаров хранятся в словаре prices:\n",
    "\n",
    "\n",
    "prices = {'Adidas': 4298, 'Nike': 6550, 'Puma': 4490, 'Asics': 3879}\n",
    "Напишите программу, которая:\n",
    "\n",
    "Выводит на экран информацию об ошибке, если список покупок пуст в виде строки: Ваша корзина пуста\n",
    "\n",
    "Выводит на экран информацию об общей стоимости товара, если куплен только один товар Стоимость заказа составила: <стоимость заказа>\n",
    "\n",
    "Выводит на экран информацию о полученной скидке, сумме оплаты без скидки и сумму со скидкой в следующем формате:\n",
    "\n",
    "\n",
    "Стоимость заказа составила: <стоимость заказа без скидки>. С учетом скидки в <размер скидки>% — <стоимость заказа со скидкой>\n",
    "Примечание: Для отправки кода на проверку переменную purchases объявлять не нужно. Не забудьте удалить строку кода с её объявлением перед тестированием.\n",
    "\n",
    "Примеры работы программы:\n",
    "\n",
    "\n",
    "purchases = [\"Adidas\", \"Nike\"]\n",
    "` Стоимость заказа составила: 10848. С учетом скидки в 5% — 10305.6\n",
    "\n",
    "purchases = [\"Nike\", \"Nike\"]\n",
    "` Стоимость заказа составила: 13100. С учетом скидки в 10% — 11790.0\n",
    "\n",
    "purchases = []\n",
    "` Ваша корзина пуста"
   ]
  },
  {
   "cell_type": "code",
   "execution_count": 271,
   "metadata": {},
   "outputs": [
    {
     "name": "stdout",
     "output_type": "stream",
     "text": [
      "Стоимость заказа составила: 13100. С учетом скидки в 10% — 11790.0\n"
     ]
    }
   ],
   "source": [
    "prices = {'Adidas': 4298, 'Nike': 6550, 'Puma': 4490, 'Asics': 3879}\n",
    "#purchases = [\"Adidas\", \"Nike\"]\n",
    "purchases = [\"Nike\", \"Nike\"]\n",
    "#purchases = [\"Nike\"]\n",
    "#purchases = []\n",
    "if purchases:\n",
    "    #print(\"Ваша корзина не пуста\")\n",
    "    if len(purchases)==1:\n",
    "        cost=prices[purchases[0]]\n",
    "        print('Стоимость заказа составила: {}'.format(cost))\n",
    "    elif len(purchases)==2:\n",
    "        if len(set(purchases))==2:\n",
    "            discount=5\n",
    "        else:\n",
    "            discount=10\n",
    "        cost = prices[purchases[0]] + prices[purchases[1]]\n",
    "        discount_price=cost-cost/100*discount\n",
    "        print('Стоимость заказа составила: {}. С учетом скидки в {}% — {}'.format(cost,discount,discount_price))\n",
    "else:\n",
    "    print('Ваша корзина пуста')\n"
   ]
  },
  {
   "cell_type": "markdown",
   "metadata": {},
   "source": [
    "Задание 5.7 (External resource)\n",
    "\n",
    "При составлении резюме на платформе поиска работы автоматически указывается дата обновления этого резюме. Дата содержится в поле date.\n",
    "\n",
    "Примеры:\n",
    "\n",
    "\n",
    "date = '16.04.2019 15:59'\n",
    "date = '12.05.2019 08:42'\n",
    "date = '05.07.2018 20:15'\n",
    "Мы распределяем резюме по категориям:\n",
    "\n",
    "Категория 1 — резюме, обновленные в мае 2019\n",
    "\n",
    "Категория 2 — резюме, обновленные в период с января по май (не включая май) 2019 года\n",
    "\n",
    "Категория 3 — резюме, составленные раньше, чем 1 января 2019 года\n",
    "\n",
    "Напишите программу, которая определяет категорию резюме. Категорию занесите целым числом в переменную category.\n",
    "\n",
    "Известно, что в базе нет резюме, обновлённых после 1 июня 2019 года. Формат строки date одинаков для всех записей из базы данных, вы можете воспользоваться им.\n",
    "\n",
    "Примеры работы программы:\n",
    "\n",
    "\n",
    "date = '16.04.2019 15:59'\n",
    "` category = 2\n",
    "\n",
    "date = '12.05.2019 08:42'\n",
    "` category = 1\n",
    "\n",
    "date = '05.07.2018 20:15'\n",
    "` category = 3"
   ]
  },
  {
   "cell_type": "code",
   "execution_count": 272,
   "metadata": {},
   "outputs": [
    {
     "name": "stdout",
     "output_type": "stream",
     "text": [
      "2\n"
     ]
    }
   ],
   "source": [
    "date = '16.04.2019 15:59'\n",
    "#date = '12.05.2019 08:42'\n",
    "#date = '05.07.2018 20:15'\n",
    "date_split=date.split()\n",
    "date_split_split=date_split[0].split('.')\n",
    "date_split_split\n",
    "if date_split_split[1]=='05' and date_split_split[2]=='2019':\n",
    "    print(1)\n",
    "elif date_split_split[1]=='01' or date_split_split[1]=='02' or date_split_split[1]=='03' or date_split_split[1]=='04' and date_split_split[2]=='2019':\n",
    "    print(2)\n",
    "else:\n",
    "    print(3)"
   ]
  },
  {
   "cell_type": "code",
   "execution_count": 273,
   "metadata": {},
   "outputs": [],
   "source": [
    "# Разделяем строку на части по пробелу и берем первую из них\n",
    "day_month_year = date.split(' ')[0]\n",
    "# Разделяем строку по символу '.' и создаем соответствующие переменные\n",
    "day, month, year = day_month_year.split('.')\n",
    "# Проверяем, что резюме обновлено в 2019 году\n",
    "if year == '2019':\n",
    "    # Проверяем, что резюме обновлено в мае\n",
    "    if month == '05':\n",
    "        # Присваиваем 1-ую категорию\n",
    "        category = 1\n",
    "    else:\n",
    "        # Присваиваем 2-ую категорию\n",
    "        category = 2\n",
    "else:\n",
    "    # Присваиваем 3-ью категорию\n",
    "    category = 3"
   ]
  },
  {
   "cell_type": "markdown",
   "metadata": {},
   "source": [
    "Задание 5.8 (External resource)\n",
    "\n",
    "Мы занимаемся обработкой и анализом базы данных, содержащей резюме соискателей. Напишем скрипт для автоматического извлечение информации о городе, в котором проживает соискатель.\n",
    "\n",
    "В поле city_info содержится информация о городе, а также о готовности соискателя к переезду и командировкам.\n",
    "\n",
    "Примеры переменной city_info:\n",
    "\n",
    "city_info = \"Москва , не готов к переезду , готов к командировкам\"\n",
    "city_info = \"Москва , м. Беломорская , не готов к переезду, не готов к командировкам\"\n",
    "city_info = \"Санкт-Петербург , готов к переезду (Сочи, Москва) , готов к командировкам\"\n",
    "city_info = \"Новосибирск , готов к переезду, не готов к командировкам\"\n",
    "Нас интересует только город. Причём мы не хотим учитывать все города. Разделим их на 4 категории:\n",
    "\n",
    "\"Москва\"\n",
    "\n",
    "\"Санкт-Петербург\"\n",
    "\n",
    "\"Город миллионник\"\n",
    "\n",
    "\"Другое\"\n",
    "\n",
    "Напишите программу, которая в переменную city записывает одну из четырёх категорий городов, приведённых выше (в точности как указано в задании) на основе информации, содержащейся в переменной city_info.\n",
    "\n",
    "Чтобы отделить город от ненужной информации обратите внимание на структуру строки: город, готовность к командировкам и переезду разделены последовательностью символов ' , '.\n",
    "\n",
    "Также вам понадобится список городов-миллионников:\n",
    "\n",
    "million_cities = ['Новосибирск', 'Екатеринбург', 'Нижний Новгород', 'Казань', 'Челябинск', 'Омск', 'Самара', 'Ростов-на-Дону', 'Уфа', 'Красноярск', 'Пермь', 'Воронеж', 'Волгоград']\n",
    "Примеры работы программы:\n",
    "\n",
    "\n",
    "city_info = \"Москва , не готов к переезду , готов к командировкам\"\n",
    "` 'Москва'\n",
    "\n",
    "city_info = \"Иваново , готов к переезду (Сочи, Москва, Санкт-Петербург) , готов к командировкам\"\n",
    "` 'Другое'\n",
    "\n",
    "city_info = \"Санкт-Петербург , готов к переезду (Сочи, Москва) , готов к командировкам\"\n",
    "` 'Санкт-Петербург'\n",
    "\n",
    "city_info = \"Новосибирск , готов к переезду, не готов к командировкам\"\n",
    "` 'Город миллионник'\n",
    "\n"
   ]
  },
  {
   "cell_type": "code",
   "execution_count": 274,
   "metadata": {},
   "outputs": [
    {
     "data": {
      "text/plain": [
       "'Другое'"
      ]
     },
     "execution_count": 274,
     "metadata": {},
     "output_type": "execute_result"
    }
   ],
   "source": [
    "\n",
    "#city_info = \"Москва , не готов к переезду , готов к командировкам\"\n",
    "#city_info = \"Москва , м. Беломорская , не готов к переезду, не готов к командировкам\"\n",
    "#city_info = \"Санкт-Петербург , готов к переезду (Сочи, Москва) , готов к командировкам\"\n",
    "#city_info = \"Новосибирск , готов к переезду, не готов к командировкам\"\n",
    "city_info = \"Орша , готов к переезду, не готов к командировкам\"\n",
    "million_cities = ['Новосибирск', 'Екатеринбург', 'Нижний Новгород', 'Казань', 'Челябинск', 'Омск', 'Самара', 'Ростов-на-Дону', 'Уфа', 'Красноярск', 'Пермь', 'Воронеж', 'Волгоград']\n",
    "city_split=city_info.split(' , ')\n",
    "city=city_split[0]\n",
    "if city_split[0]==\"Москва\":\n",
    "    city=city_split[0]\n",
    "elif city_split[0]==\"Санкт-Петербург\":\n",
    "    city=city_split[0]\n",
    "elif city_split[0] in million_cities:\n",
    "    city=\"Город миллионник\"\n",
    "else:\n",
    "    city='Другое'\n",
    "\n",
    "city"
   ]
  },
  {
   "cell_type": "code",
   "execution_count": 275,
   "metadata": {},
   "outputs": [],
   "source": [
    "million_cities = ['Новосибирск', 'Екатеринбург', 'Нижний Новгород', 'Казань', 'Челябинск', 'Омск', 'Самара', 'Ростов-на-Дону', 'Уфа', 'Красноярск', 'Пермь', 'Воронеж', 'Волгоград']\n",
    "# Разделяем строку по символу ' , ' и выделяем подстроку с городом\n",
    "temp_city = city_info.split(' , ')[0]\n",
    "# Проверяем, что город — Москва или Санкт-Петербург\n",
    "if (temp_city == 'Москва') or (temp_city == 'Санкт-Петербург'):\n",
    "    city = temp_city\n",
    "# Проверяем, что город из списка-городов миллионников\n",
    "elif temp_city in million_cities:\n",
    "    city = 'Город миллионник'\n",
    "# Если ни одно из условий не было выполнено\n",
    "else:\n",
    "    city = 'Другое'"
   ]
  },
  {
   "cell_type": "code",
   "execution_count": 276,
   "metadata": {},
   "outputs": [
    {
     "name": "stdout",
     "output_type": "stream",
     "text": [
      "Before exception\n",
      "1.0\n",
      "After after exception\n"
     ]
    }
   ],
   "source": [
    "# Добавляем конструкцию try-except для отлова нашей ошибки\n",
    "try: \n",
    "    print(\"Before exception\")\n",
    "    # Теперь пользователь сам вводит числа для деления\n",
    "    a = int(input(\"a: \"))\n",
    "    b = int(input(\"b: \"))\n",
    "    # Здесь может возникнуть исключение деления на ноль\n",
    "    c = a / b\n",
    "    # Печатаем c = a / b если всё хорошо\n",
    "    print(c) \n",
    "# Добавляем тип именно той ошибки которую хотим отловить.     \n",
    "except ZeroDivisionError as e: \n",
    "    # Выводим информацию об ошибке\n",
    "    print(e) \n",
    "    print(\"After exception\")\n",
    " \n",
    "print(\"After after exception\")"
   ]
  },
  {
   "cell_type": "code",
   "execution_count": 277,
   "metadata": {},
   "outputs": [
    {
     "name": "stdout",
     "output_type": "stream",
     "text": [
      "Before exception\n",
      "1.0\n",
      "Everything's fine!\n",
      "Finally finished!\n",
      "After After exception\n"
     ]
    }
   ],
   "source": [
    "# Добавляем конструкцию try-except для отлова нашей ошибки\n",
    "try:\n",
    "    print(\"Before exception\") # Перед исключением\n",
    "    # Теперь пользователь сам вводит числа для деления\n",
    "    a = int(input(\"a: \"))\n",
    "    b = int(input(\"b: \"))\n",
    "    c = a / b\n",
    "    # Печатаем c = a / b, если всё хорошо\n",
    "    print(c) \n",
    "# Добавляем тип именно той ошибки которую хотим отловить. \n",
    "except ZeroDivisionError as e:\n",
    "    print(\"After exception\") # После исключения\n",
    "# код в блоке else выполняется только в том случае, если код в блоке try выполнился успешно (т. е. не произошло никакого исключения)\n",
    "else: \n",
    "    print(\"Everything's fine!\")# Всё отлично!\n",
    "# код в блоке finally выполнится в любом случае при выходе из try-except \n",
    "finally: \n",
    "    print(\"Finally finished!\") # Наконец-то завершено!\n",
    " \n",
    "print(\"After After exception\") # После после исключения"
   ]
  },
  {
   "cell_type": "code",
   "execution_count": 280,
   "metadata": {},
   "outputs": [
    {
     "name": "stdout",
     "output_type": "stream",
     "text": [
      "Image id: 215251\n"
     ]
    }
   ],
   "source": [
    "\n",
    "index=10\n",
    "images_db = [101252, 521929, 215251]\n",
    "try:\n",
    "    img_id = images_db[index]\n",
    "except:\n",
    "    img_id = images_db[-1]\n",
    "print(f'Image id: {img_id}')"
   ]
  },
  {
   "cell_type": "code",
   "execution_count": 295,
   "metadata": {},
   "outputs": [
    {
     "name": "stdout",
     "output_type": "stream",
     "text": [
      "Не верное преобразование типов\n"
     ]
    },
    {
     "data": {
      "text/plain": [
       "15.214"
      ]
     },
     "execution_count": 295,
     "metadata": {},
     "output_type": "execute_result"
    }
   ],
   "source": [
    "\n",
    "key_1, key_2 = 'a', 'c'\n",
    "my_dict = {'a': 10, 'b': '5.214', 'c': 'simple_string'}\n",
    "try:\n",
    "    value_1 = my_dict[key_1]\n",
    "    value_2 = my_dict[key_2]\n",
    "    value_1, value_2 = float(value_1), float(value_2)\n",
    "    new_value = value_1 + value_2\n",
    "except KeyError:\n",
    "    print(\"Введен не верный ключ\")\n",
    "except ValueError:\n",
    "    print(\"Не верное преобразование типов\")\n",
    "new_value"
   ]
  },
  {
   "cell_type": "code",
   "execution_count": 297,
   "metadata": {},
   "outputs": [
    {
     "name": "stdout",
     "output_type": "stream",
     "text": [
      "код завершился с ошибкой:could not convert string to float: 'simple_string'\n"
     ]
    }
   ],
   "source": [
    "try:\n",
    "    value_1 = my_dict[key_1]\n",
    "    value_2 = my_dict[key_2]\n",
    "    value_1, value_2 = float(value_1), float(value_2)\n",
    "    new_value = value_1 + value_2\n",
    "except Exception as e:\n",
    "    print('код завершился с ошибкой:{}'.format(e))"
   ]
  },
  {
   "cell_type": "markdown",
   "metadata": {},
   "source": [
    "Задание 6.5 (External resource)\n",
    "\n",
    "Задан словарь medicines с ценами на лекарства в онлайн-аптеке и строка name.\n",
    "\n",
    "С помощью конструкции try-except реализуйте программу, которая печатает на экран значение, хранящееся по ключу из переменной name. Если строка name не является ключом словаря, то на экран через print выводится сообщение «Такого ключа в словаре нет».\n",
    "\n",
    "Примеры работы программы:\n",
    "\n",
    "\n",
    "medicines = {'Ибупрофен': 99, 'Эспумизан': 279, 'Пенталгин': 119}\n",
    "name = 'Визин'\n",
    "' Такого ключа в словаре нет\n",
    "\n",
    "medicines = {'Ибупрофен': 99, 'Эспумизан': 279, 'Пенталгин': 119}\n",
    "name = 'Ибупрофен'\n"
   ]
  },
  {
   "cell_type": "code",
   "execution_count": 303,
   "metadata": {},
   "outputs": [
    {
     "name": "stdout",
     "output_type": "stream",
     "text": [
      "99\n"
     ]
    }
   ],
   "source": [
    "medicines = {'Ибупрофен': 99, 'Эспумизан': 279, 'Пенталгин': 119}\n",
    "name = 'Ибупрофен'\n",
    "try:\n",
    "    print(medicines[name])\n",
    "except KeyError:\n",
    "    print(\"Такого ключа в словаре нет\")\n"
   ]
  },
  {
   "cell_type": "code",
   "execution_count": 306,
   "metadata": {},
   "outputs": [
    {
     "name": "stdout",
     "output_type": "stream",
     "text": [
      "Wrong age\n"
     ]
    }
   ],
   "source": [
    "try:\n",
    "    age=int(input('How old are you?'))\n",
    "    if age >100 or age <=0:\n",
    "        raise ValueError(\"You are too old or don't exist\")\n",
    "except ValueError:\n",
    "    print(\"Wrong age\")\n",
    "else:\n",
    "    print(\"You are {} years old!\".format(age))"
   ]
  },
  {
   "cell_type": "markdown",
   "metadata": {},
   "source": [
    "Задание 6.7 (External resource)\n",
    "\n",
    "В переменной number хранится некоторое число.\n",
    "\n",
    "Напишите программу со следующим условием: если число number не ноль, то программа делит 10 на введённое число и записывает результат, округлённый до трёх знаков после запятой, в переменную result. Если же в переменной number хранится ноль, то программа должна выбросить исключение ZeroDivisionError с фразой \"Вы собираетесь делить на 0\" с помощью ключевого слова raise.\n",
    "\n",
    "Примеры работы программы:\n",
    "\n",
    "\n",
    "number = 20\n",
    "` result = 0.5\n",
    "\n",
    "number = 7\n",
    "` result = 1.429\n",
    "\n",
    "number = 0\n",
    "` ZeroDivisionError: Вы собираетесь делить на 0\n",
    "Подсказка: для округления чисел можно воспользоваться встроенной функцией round().\n",
    "\n",
    "Важно: Для отправки кода на проверку переменную number объявлять не нужно. Не забудьте удалить строку кода с её объявлением перед тестированием."
   ]
  },
  {
   "cell_type": "code",
   "execution_count": null,
   "metadata": {},
   "outputs": [
    {
     "ename": "SyntaxError",
     "evalue": "expected 'except' or 'finally' block (2029581955.py, line 8)",
     "output_type": "error",
     "traceback": [
      "\u001b[1;36m  Cell \u001b[1;32mIn[316], line 8\u001b[1;36m\u001b[0m\n\u001b[1;33m    else:\u001b[0m\n\u001b[1;37m    ^\u001b[0m\n\u001b[1;31mSyntaxError\u001b[0m\u001b[1;31m:\u001b[0m expected 'except' or 'finally' block\n"
     ]
    }
   ],
   "source": [
    "number = 0\n",
    "# result = 0.5\n",
    "try:\n",
    "    result= round(10/number,3)\n",
    "    if number==0:\n",
    "        raise ZeroDivisionError(\"Вы собираетесь делить на 0\")\n"
   ]
  },
  {
   "cell_type": "code",
   "execution_count": 315,
   "metadata": {},
   "outputs": [
    {
     "ename": "ZeroDivisionError",
     "evalue": "Вы собираетесь делить на 0",
     "output_type": "error",
     "traceback": [
      "\u001b[1;31m---------------------------------------------------------------------------\u001b[0m",
      "\u001b[1;31mZeroDivisionError\u001b[0m                         Traceback (most recent call last)",
      "Cell \u001b[1;32mIn[315], line 2\u001b[0m\n\u001b[0;32m      1\u001b[0m \u001b[38;5;28;01mif\u001b[39;00m number \u001b[38;5;241m==\u001b[39m \u001b[38;5;241m0\u001b[39m:\n\u001b[1;32m----> 2\u001b[0m     \u001b[38;5;28;01mraise\u001b[39;00m \u001b[38;5;167;01mZeroDivisionError\u001b[39;00m(\u001b[38;5;124m'\u001b[39m\u001b[38;5;124mВы собираетесь делить на 0\u001b[39m\u001b[38;5;124m'\u001b[39m)\n\u001b[0;32m      3\u001b[0m \u001b[38;5;28;01melse\u001b[39;00m:\n\u001b[0;32m      4\u001b[0m     result \u001b[38;5;241m=\u001b[39m \u001b[38;5;28mround\u001b[39m(\u001b[38;5;241m10\u001b[39m\u001b[38;5;241m/\u001b[39mnumber, \u001b[38;5;241m3\u001b[39m)\n",
      "\u001b[1;31mZeroDivisionError\u001b[0m: Вы собираетесь делить на 0"
     ]
    }
   ],
   "source": [
    "if number == 0:\n",
    "    raise ZeroDivisionError('Вы собираетесь делить на 0')\n",
    "else:\n",
    "    result = round(10/number, 3)"
   ]
  }
 ],
 "metadata": {
  "kernelspec": {
   "display_name": "Python 3",
   "language": "python",
   "name": "python3"
  },
  "language_info": {
   "codemirror_mode": {
    "name": "ipython",
    "version": 3
   },
   "file_extension": ".py",
   "mimetype": "text/x-python",
   "name": "python",
   "nbconvert_exporter": "python",
   "pygments_lexer": "ipython3",
   "version": "3.11.9"
  }
 },
 "nbformat": 4,
 "nbformat_minor": 2
}
