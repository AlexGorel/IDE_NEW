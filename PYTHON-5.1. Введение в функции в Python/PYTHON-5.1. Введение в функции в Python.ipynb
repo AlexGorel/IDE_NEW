{
 "cells": [
  {
   "cell_type": "markdown",
   "metadata": {},
   "source": [
    "функция- это фрагмент кода к которому можно обратиться из другого места программы"
   ]
  },
  {
   "cell_type": "code",
   "execution_count": 1,
   "metadata": {},
   "outputs": [
    {
     "data": {
      "text/plain": [
       "[12, 14, 25, (36, 43)]"
      ]
     },
     "execution_count": 1,
     "metadata": {},
     "output_type": "execute_result"
    }
   ],
   "source": [
    "my_list= [12,14,25]\n",
    "my_list.append((36,43))\n",
    "my_list"
   ]
  },
  {
   "cell_type": "code",
   "execution_count": 2,
   "metadata": {},
   "outputs": [
    {
     "name": "stdout",
     "output_type": "stream",
     "text": [
      "HELLO!\n",
      "HELLO!\n"
     ]
    }
   ],
   "source": [
    "def first_function():\n",
    "    print('HELLO!')\n",
    "first_function ()\n",
    "first_function ()"
   ]
  },
  {
   "cell_type": "code",
   "execution_count": 3,
   "metadata": {},
   "outputs": [
    {
     "name": "stdout",
     "output_type": "stream",
     "text": [
      "HELLO!\n"
     ]
    }
   ],
   "source": [
    "first_function ()"
   ]
  },
  {
   "cell_type": "code",
   "execution_count": 4,
   "metadata": {},
   "outputs": [
    {
     "name": "stdout",
     "output_type": "stream",
     "text": [
      "Hello world!\n",
      "Line 2\n",
      "Hello world!\n",
      "Line 2\n"
     ]
    }
   ],
   "source": [
    "def first_function():\n",
    "    # первая строка функции\n",
    "    print(\"Hello world!\")\n",
    "    # вторая строка функции\n",
    "    print(\"Line 2\")\n",
    "# Отступ вернулся на прежний уровень, значит\n",
    "# код функции закончился.\n",
    "first_function ()\n",
    "first_function ()"
   ]
  },
  {
   "cell_type": "code",
   "execution_count": 5,
   "metadata": {},
   "outputs": [
    {
     "name": "stdout",
     "output_type": "stream",
     "text": [
      "Hours: 2\n",
      "Minutes left: 0\n"
     ]
    }
   ],
   "source": [
    "def print_hours(minutes):\n",
    "    hours =minutes//60\n",
    "    left_minutes =minutes % 60\n",
    "    print('Hours:',hours)\n",
    "    print('Minutes left:', left_minutes)\n",
    "print_hours(120)"
   ]
  },
  {
   "cell_type": "code",
   "execution_count": 6,
   "metadata": {},
   "outputs": [
    {
     "data": {
      "text/plain": [
       "2"
      ]
     },
     "execution_count": 6,
     "metadata": {},
     "output_type": "execute_result"
    }
   ],
   "source": [
    "def get_time(distance,speed):\n",
    "    result=distance/speed\n",
    "    return result\n",
    "\n",
    "\n",
    "time=int(get_time(120,60))\n",
    "time"
   ]
  },
  {
   "cell_type": "code",
   "execution_count": 7,
   "metadata": {},
   "outputs": [
    {
     "name": "stdout",
     "output_type": "stream",
     "text": [
      "Travel time will be: 2 hours\n"
     ]
    }
   ],
   "source": [
    "print(\"Travel time will be:\",time,\"hours\" )"
   ]
  },
  {
   "cell_type": "code",
   "execution_count": 8,
   "metadata": {},
   "outputs": [
    {
     "data": {
      "text/plain": [
       "2.0"
      ]
     },
     "execution_count": 8,
     "metadata": {},
     "output_type": "execute_result"
    }
   ],
   "source": [
    "get_time(120,60)"
   ]
  },
  {
   "cell_type": "code",
   "execution_count": 9,
   "metadata": {},
   "outputs": [
    {
     "name": "stdout",
     "output_type": "stream",
     "text": [
      "(1, 12)\n",
      "Hours to travel: 1\n",
      "Minutes to travel: 12\n"
     ]
    }
   ],
   "source": [
    "def get_time_tuple(distance,speed):\n",
    "    hours=distance//speed\n",
    "    distance_left=distance%speed\n",
    "    kms_per_minute=speed/60\n",
    "    minutes = round(distance_left/kms_per_minute)\n",
    "    return hours, minutes\n",
    "\n",
    "result=get_time_tuple(120,100)\n",
    "print(result)\n",
    "print(\"Hours to travel:\", result[0])\n",
    "print(\"Minutes to travel:\", result[1])\n"
   ]
  },
  {
   "cell_type": "code",
   "execution_count": 10,
   "metadata": {},
   "outputs": [
    {
     "name": "stdout",
     "output_type": "stream",
     "text": [
      "1 12\n",
      "Hours to travel: 1\n",
      "Minutes to travel: 12\n"
     ]
    }
   ],
   "source": [
    "hours,minutes=get_time_tuple(120,100)\n",
    "print(hours,minutes)\n",
    "print(\"Hours to travel:\", hours)\n",
    "print(\"Minutes to travel:\", minutes)\n"
   ]
  },
  {
   "cell_type": "code",
   "execution_count": 11,
   "metadata": {},
   "outputs": [
    {
     "name": "stdout",
     "output_type": "stream",
     "text": [
      "2.0\n",
      "Travel time will be: None hours\n"
     ]
    }
   ],
   "source": [
    "def get_time(distance,speed):\n",
    "    result=distance/speed\n",
    "    print(result)\n",
    "\n",
    "time = (get_time(120,60))\n",
    "print(\"Travel time will be:\", time, \"hours\")\n"
   ]
  },
  {
   "cell_type": "code",
   "execution_count": 12,
   "metadata": {},
   "outputs": [],
   "source": [
    "def in_list (list_in,obj):\n",
    "    for elem in list_in:\n",
    "        if obj == elem:\n",
    "            print(\"Element is found!\")\n",
    "            return True\n",
    "            print(\"This won't be printed\")\n",
    "    print(\"Element is not found!\")\n",
    "    return False\n",
    "    print(\"This will not be printed either\")"
   ]
  },
  {
   "cell_type": "code",
   "execution_count": 13,
   "metadata": {},
   "outputs": [
    {
     "name": "stdout",
     "output_type": "stream",
     "text": [
      "Element is not found!\n",
      "False\n",
      "Element is found!\n",
      "True\n"
     ]
    }
   ],
   "source": [
    "my_list = [ 1,2,5,7,10]\n",
    "result = in_list(my_list,3)\n",
    "print(result)\n",
    "result = in_list(my_list,7)\n",
    "print(result)\n"
   ]
  },
  {
   "cell_type": "markdown",
   "metadata": {},
   "source": [
    "Задание 2.3 (External resource)\n",
    "\n",
    "Напишите функцию get_total(units, price), которая принимает на вход число единиц товара и стоимость каждой единицы. Функция возвращает одно число — общую стоимость данного числа товаров.\n",
    "\n",
    "Пример: print(get_total(15, 50))"
   ]
  },
  {
   "cell_type": "code",
   "execution_count": 14,
   "metadata": {},
   "outputs": [
    {
     "name": "stdout",
     "output_type": "stream",
     "text": [
      "750\n"
     ]
    }
   ],
   "source": [
    "def get_total(units,price):\n",
    "    result=units*price\n",
    "    return result\n",
    "print(get_total(15,50))"
   ]
  },
  {
   "cell_type": "markdown",
   "metadata": {},
   "source": [
    "# 3. Проверка аргументов. Аргументы по умолчанию"
   ]
  },
  {
   "cell_type": "code",
   "execution_count": 15,
   "metadata": {},
   "outputs": [
    {
     "name": "stdout",
     "output_type": "stream",
     "text": [
      "5\n",
      "None\n",
      "5\n"
     ]
    }
   ],
   "source": [
    "grades={'Ivanov':5, 'Smirnov':3,'Kuznetsova':4,'Tihonova':5,}\n",
    "print(grades['Ivanov'])\n",
    "print(grades.get('Pavlov'))\n",
    "print(grades.get('Ivanov'))"
   ]
  },
  {
   "cell_type": "code",
   "execution_count": 16,
   "metadata": {},
   "outputs": [
    {
     "name": "stdout",
     "output_type": "stream",
     "text": [
      "Student's mark was not found!\n"
     ]
    }
   ],
   "source": [
    "# создадим тот же словарь \n",
    "grades={'Ivanov':5, 'Smirnov':3,'Kuznetsova':4,'Tihonova':5,}\n",
    "# только попробуем напечатать оценку студента, которого нет в словаре\n",
    "try:\n",
    "    print(grades['Pavlov'])\n",
    "    # а если возникнет ошибка в ключе, скажем что студента нет в словаре\n",
    "except KeyError:\n",
    "    print(\"Student's mark was not found!\")"
   ]
  },
  {
   "cell_type": "markdown",
   "metadata": {},
   "source": [
    "После того как вы повторили обработку исключенией, настало время научиться генерировать исключния самостоятельно. Давате вспомним функцию из предыдущего юнита, которая считала время пути для заданного расстояния и скорости"
   ]
  },
  {
   "cell_type": "code",
   "execution_count": 17,
   "metadata": {},
   "outputs": [],
   "source": [
    "def get_time(distance, speed):\n",
    "    result = distance / speed\n",
    "    return result"
   ]
  },
  {
   "cell_type": "markdown",
   "metadata": {},
   "source": [
    "Пока что не имеет значения, какие значения подаются на вход функции: если они являются числами (int или float), а скорость не равна 0 (иначе возникает деление на 0 и питон выдаст ошибку ZeroDivisionError), то функция сработает и выдаст результат. Однако, вам понятно, что растояние, как и скорость, не могут быть отрицательными. Инаяе расчет времени в пути противоречит здравому смымлу: что же значит отрицательное время в пути?"
   ]
  },
  {
   "cell_type": "markdown",
   "metadata": {},
   "source": [
    "Чтобы не передать в функцию некорректные аргументы и не допустить ошибку, добавляем их проверку. Если окажется, что аргументы меньше нуля, вызовем ValueError с помощью оператора raise"
   ]
  },
  {
   "cell_type": "markdown",
   "metadata": {},
   "source": [
    "После встречи с raise, как и вслучае с return , интерпретатор прекращает исполнение кода функции."
   ]
  },
  {
   "cell_type": "code",
   "execution_count": 18,
   "metadata": {},
   "outputs": [
    {
     "data": {
      "text/plain": [
       "10"
      ]
     },
     "execution_count": 18,
     "metadata": {},
     "output_type": "execute_result"
    }
   ],
   "source": [
    "def get_time(distance,speed):\n",
    "    # если растояние или скорость отрицательные, то возвращаем ошибку\n",
    "    if distance<0 or speed <0:\n",
    "        # оператор raise возвращает /поднимает объект исключение. В данном \n",
    "        # случае ValueError. Дополнительно в скобках после ValueError пишем\n",
    "        # текст сообщениея об ошибке, чтобы сразу было понятно , чем вызвана ошибка.\n",
    "        raise ValueError (\"Distance or speed can't be below 0!\")\n",
    "    if speed == 0:\n",
    "        raise ValueError (\"Speed can't be equal to 0!\")\n",
    "    result=distance/speed\n",
    "    return result\n",
    "\n",
    "\n",
    "time=int(get_time(100,10))\n",
    "time"
   ]
  },
  {
   "cell_type": "markdown",
   "metadata": {},
   "source": [
    "### Аргументы по умолчанию"
   ]
  },
  {
   "cell_type": "markdown",
   "metadata": {},
   "source": [
    "Представьте, что вы пришли в ресторан быстрого питания с золотой буквой M на логотипе и заказали колу среднего размера. Скорее всего, продавец не спросит вас, добавлять ли в напиток лёд, но при этом в газировке лёд будет.\n",
    "Допустим, вы хотели напиток безо льда, но не сообщили об этом. К сожалению, в этом случае вы по умолчанию получили колу со льдом. А ведь вам всего-то нужно было сказать, что лёд не требуется!\n",
    "Точно так же можно создавать функции, в которые можно передавать не все аргументы, а, например, задать часть аргументов (или даже все) аргументами по умолчанию, то есть сообщить функции, какие данные использовать, если они не были переданы в функцию извне.\n",
    "\n",
    "Очень важный пример использования аргументов по умолчанию — обработка даты.\n",
    "\n",
    "По долгу службы вам предстоит обрабатывать даты, записанные в различных форматах, например, чтобы оценить популярность какого-либо сервиса в зависимости от месяца. Чаще всего, находясь в России или Европе, вы будете сталкиваться с привычным форматом вроде 19.05.2021 (то есть дд.мм.гггг). Однако в США, например, дату записывают по-другому: 05.19.2021 (то есть мм.дд.гггг). Когда вы будете писать функцию, чтобы узнать номер месяца из даты, будет удобно по умолчанию использовать привычный формат, но при этом оставить возможность при необходимости передать в функцию необычный формат даты.\n",
    "\n",
    "Аргументы по умолчанию задаются в Python очень просто: достаточно после названия переменной сразу же прописать знак = (равно) и то значение, которое вы бы хотели присвоить по умолчанию.\n",
    "\n",
    "Давайте напишем шуточную функцию get_cola, которая принимает на вход только один аргумент — ice. ice будет принимать значения True или False, причём по умолчанию будет задано True. В зависимости от True или False функция будет печатать \"Кола со льдом готова!\" или \"Кола безо льда готова!\", соответственно.\n",
    "\n",
    "Вот её исходный код:"
   ]
  },
  {
   "cell_type": "code",
   "execution_count": 19,
   "metadata": {},
   "outputs": [],
   "source": [
    "# С помощью оператора '=' присвоим\n",
    "# переменной ice значение True по умолчанию\n",
    "def get_cola(ice=True):\n",
    "    if ice == True:\n",
    "        print(\"Cola with ice is ready!\")\n",
    "    else:\n",
    "        print(\"Cola without ice is ready!\")"
   ]
  },
  {
   "cell_type": "markdown",
   "metadata": {},
   "source": [
    "Теперь запустим функцию с аргументами ДА и НЕТ"
   ]
  },
  {
   "cell_type": "code",
   "execution_count": 20,
   "metadata": {},
   "outputs": [
    {
     "name": "stdout",
     "output_type": "stream",
     "text": [
      "Cola with ice is ready!\n"
     ]
    }
   ],
   "source": [
    "get_cola(True)"
   ]
  },
  {
   "cell_type": "code",
   "execution_count": 21,
   "metadata": {},
   "outputs": [
    {
     "name": "stdout",
     "output_type": "stream",
     "text": [
      "Cola without ice is ready!\n"
     ]
    }
   ],
   "source": [
    "get_cola(False)"
   ]
  },
  {
   "cell_type": "markdown",
   "metadata": {},
   "source": [
    "Как видите, а поведении функции пока что нет ничего необычного, однако давайте запустим функцию без аргументов:"
   ]
  },
  {
   "cell_type": "code",
   "execution_count": 22,
   "metadata": {},
   "outputs": [
    {
     "name": "stdout",
     "output_type": "stream",
     "text": [
      "Cola with ice is ready!\n"
     ]
    }
   ],
   "source": [
    "get_cola()"
   ]
  },
  {
   "cell_type": "markdown",
   "metadata": {},
   "source": [
    "Посмотрим теперь, что бы произошло, если бы мы не указали при создании функции значение по умолчанию для аргумента ice:"
   ]
  },
  {
   "cell_type": "code",
   "execution_count": 23,
   "metadata": {},
   "outputs": [],
   "source": [
    "# # Аргументу ice не присваиваем значение по умолчанию:\n",
    "# def get_cola(ice):\n",
    "#     if ice == True:\n",
    "#         print(\"Cola with ice is ready!\")\n",
    "#     else:\n",
    "#         print(\"Cola without ice is ready!\")\n",
    " \n",
    "# get_cola()"
   ]
  },
  {
   "cell_type": "markdown",
   "metadata": {},
   "source": [
    "Вы заметили, что произошла ошибка. Она переводится так: В функции не хватает одного обязательного позиционного аргумента "
   ]
  },
  {
   "cell_type": "markdown",
   "metadata": {},
   "source": [
    "Итак, использование аргументов по умолчанию позволяет передавать в функцию не все аргументы и получатть из-за этого сообщение об ошибке. Можно сказать, что если у аргумента есть значение по умолчанию, он становится НЕОБЯЗАТЕЛЬНЫМ."
   ]
  },
  {
   "cell_type": "markdown",
   "metadata": {},
   "source": [
    "Теперь напишем более серьезную функцию: она будет извлекать корень н-ой степени из заданного числа. Назовем функцию root. Она будет принимать на вход value (число, из которого необходимо извлечь корень и n ( степень корня))"
   ]
  },
  {
   "cell_type": "markdown",
   "metadata": {},
   "source": [
    "Давайте вспомним, что для возведения в степень в ПИТОН используется оператор **"
   ]
  },
  {
   "cell_type": "code",
   "execution_count": 24,
   "metadata": {},
   "outputs": [
    {
     "name": "stdout",
     "output_type": "stream",
     "text": [
      "16\n"
     ]
    }
   ],
   "source": [
    "print(2**4)"
   ]
  },
  {
   "cell_type": "markdown",
   "metadata": {},
   "source": [
    "Также важное утверждение из математики: чтобы извлечь из числа Х корень n-ой степени, то есть получить такое число, при возведении которого в степень N получится такое число Х, дотаточно возвести число Х в степень 1/n"
   ]
  },
  {
   "cell_type": "code",
   "execution_count": 25,
   "metadata": {},
   "outputs": [
    {
     "name": "stdout",
     "output_type": "stream",
     "text": [
      "2.0\n"
     ]
    }
   ],
   "source": [
    "print(16**(1/4))"
   ]
  },
  {
   "cell_type": "markdown",
   "metadata": {},
   "source": [
    "В самом деле- корень четвертой степени из 16 равен двум. Давайте наконец напишем функцию root:"
   ]
  },
  {
   "cell_type": "code",
   "execution_count": 26,
   "metadata": {},
   "outputs": [
    {
     "name": "stdout",
     "output_type": "stream",
     "text": [
      "3.0\n"
     ]
    }
   ],
   "source": [
    "# в функцию должны передаваться два значения :\n",
    "#  число и степень корня\n",
    "def root (value,n):\n",
    "    result= value**(1/n)\n",
    "    return result\n",
    "print(root(27,3))"
   ]
  },
  {
   "cell_type": "markdown",
   "metadata": {},
   "source": [
    "Итак, теперь у нас есть функция, которая может считать корень любой степени из числа. Однако на практике мы сталкиваемся с квадратными корнями гороздо чаще, чем остальными. Даже когда мы говорим КОРЕНЬ ИЗ ДВАДЦАТИ ПЯТИ РАВЕН ПЯТЬ, мы имеем ввиду квадратный корень, то есть корень степени два."
   ]
  },
  {
   "cell_type": "markdown",
   "metadata": {},
   "source": [
    "Задание 3.2 (на самопроверку)\n",
    "\n",
    "Модифицируйте функцию root так, чтобы передавать степень корня было необязательно. Если степень корня не передана, функция должна возвращать значение квадратного корня.\n",
    "\n",
    "Проверьте своё решение, вызвав функцию root:"
   ]
  },
  {
   "cell_type": "code",
   "execution_count": 27,
   "metadata": {},
   "outputs": [
    {
     "name": "stdout",
     "output_type": "stream",
     "text": [
      "9.0\n"
     ]
    }
   ],
   "source": [
    "def root (value,n=2):\n",
    "    result= value**(1/n)\n",
    "    return result\n",
    "print(root(81))"
   ]
  },
  {
   "cell_type": "markdown",
   "metadata": {},
   "source": [
    "Важное замечание. Указывать аргументам значение по умолчанию можно только после того, как в функции перечислены все обязательные аргументы.\n",
    "Поменям в модифицированной функции root порядок аргументов:"
   ]
  },
  {
   "cell_type": "code",
   "execution_count": 28,
   "metadata": {},
   "outputs": [],
   "source": [
    "# def wrong_root(n=2, value):\n",
    "#     result = value ** (1/n)\n",
    "#     return result\n",
    "# # Возникнет ошибка:\n",
    "# # SyntaxError: non-default argument follows default argument"
   ]
  },
  {
   "cell_type": "markdown",
   "metadata": {},
   "source": [
    "Эта ошибка переводится так: СИНТАКСИЧЕСКАЯ ОШИБКА. АРГУМЕНТ БЕЗ ЗНАЧЕНИЯ ПО УМОЛЧАНИЮ СЛЕДУЕТ ПОСЛЕ АРГУМЕНТА ПО УМОЛЧАНИЮ. Чтобы ее избежать, необходимо указывать аргументы по умолчанию только после обязательных."
   ]
  },
  {
   "cell_type": "markdown",
   "metadata": {},
   "source": [
    "### ОПАСНОСТЬ АРГУМЕНТОВ ПО УМОЛЧАНИЮ"
   ]
  },
  {
   "cell_type": "markdown",
   "metadata": {},
   "source": [
    "Использование аргументов по умолчанию призвано упростить жизнь разработчику. Но, к сожалению, их некорректное использование может приводить к крайне неожиданным последствиям.\n",
    "\n",
    "Создадим функцию, поведение которой будет неверным (и заодно повторим использование словарей).\n",
    "\n",
    "Функция add_mark будет записывать оценку студента в словарь. Словарь не требуется обязательно передавать в функцию: будем использовать пустой словарь в качестве аргумента по умолчанию (СЕЙЧАС БУДЕТ ПРИМЕР ТОГО, КАК ДЕЛАТЬ НЕ НАДО)\n",
    "\n",
    "Итак, получим функцию:"
   ]
  },
  {
   "cell_type": "code",
   "execution_count": 29,
   "metadata": {},
   "outputs": [],
   "source": [
    "# функция принимает обязательные аргументы ИМЯ, ОЦЕНКА. \n",
    "# Необязательным аргументом является ЖУРНАЛ ОЦЕНОК,\n",
    "#  который по умолчанию является пустым словарем.\n",
    "def add_mark(name,mark,journal={}):\n",
    "    # присваиваем имени в журнале переданную оценку\n",
    "    journal[name]=mark\n",
    "    return journal"
   ]
  },
  {
   "cell_type": "code",
   "execution_count": 30,
   "metadata": {},
   "outputs": [
    {
     "name": "stdout",
     "output_type": "stream",
     "text": [
      "{'Ivanov': 5, 'Tihonova': 4}\n"
     ]
    }
   ],
   "source": [
    "# создадим пустой словарь, в который будет сохранять оценки группы 1\n",
    "group1={}\n",
    "# добавим оценки двух студентов\n",
    "group1=add_mark(\"Ivanov\",5,group1)\n",
    "group1=add_mark(\"Tihonova\",4,group1)\n",
    "print(group1)\n"
   ]
  },
  {
   "cell_type": "markdown",
   "metadata": {},
   "source": [
    "Поведение функции выглядит именно так, как мы и задумывали: в новый журнал оценок (тип данных - словарь) добавляем оценки студентов, причем пустой журнал мы создали в основном скрипте, а не использовалт его из значения по умолчанию.\n",
    "\n",
    "А теперь не будем передавать пустой журнал изначально в качестве аргумента - он ведь и так создается по умолчанию:"
   ]
  },
  {
   "cell_type": "code",
   "execution_count": 31,
   "metadata": {},
   "outputs": [
    {
     "name": "stdout",
     "output_type": "stream",
     "text": [
      "{'Smirnov': 3}\n",
      "{'Smirnov': 3, 'Kuznetsova': 5}\n"
     ]
    }
   ],
   "source": [
    "# Добавим в журнал для новой группы оценку Смирнову.\n",
    "# Сам журнал не передаем в виде аргумента. \n",
    "# Пустой журнал будет использован как аргумент по умолчанию\n",
    "group2 = add_mark('Smirnov', 3)\n",
    "print(group2)\n",
    "# Будет напечатано:\n",
    "# {'Smirnov': 3}\n",
    "\n",
    "# аналогично для новой группы 3 добавим оценку Кузнецовой\n",
    "group3 = add_mark('Kuznetsova', 5)\n",
    "print(group3)\n",
    "# Будет напечатано:\n",
    "# {'Kuznetsova': 5}\n"
   ]
  },
  {
   "cell_type": "markdown",
   "metadata": {},
   "source": [
    "Очень неожиданно, не так ли? Мы думали, что по умолчанию используется пустоц словарь для группы 3, но в нем почеу-то уже оказались оценки для второй группы. Как же так?\n",
    "\n",
    "Дело в том, что пустой словарь был присвоен как новый объект аргументу journal только один раз: когда интерпретатор впервые прочитал объявление функции в коде. В аргументе journal по умолчанию теперь хранится указатель на созданный при прочтении функции словарь. В первый раз [group2 = add_mark('Смирнов', 3)] мы действительно воспользовались новым словарём. А вот при повторном использовании данного словаря в качестве аргумента по умолчанию [group3 = add_mark('Кузнецова', 5)], мы модифицировали уже созданный ранее словарь."
   ]
  },
  {
   "cell_type": "markdown",
   "metadata": {},
   "source": [
    "Звучит сложно, не правда ли?\n",
    "\n",
    "Если вы не поняли предыдущее объяснение, попробуйте осознать следующую иллюстрацию и сопоставить её с описанной выше проблемой.\n",
    "\n",
    "Допустим, в учебную часть пришел преподаватель и спросил, куда ставить оценки за экзамен, если в кабинете нет ведомости. Ему сказали, что новая ведомость лежит в третьем ящике стола у входа (то есть преподаватель получил указатель на пустую ведомость, узнал, где она должна храниться).\n",
    "\n",
    "Преподаватель пришёл на экзамен, ведомости не было, поэтому он взял ведомость из третьего ящика стола (перешёл по указателю), вписал туда оценки (изменил данный объект) и вернул ведомость на место.\n",
    "\n",
    "Этот же преподаватель пришёл принимать экзамен у ещё одной группы. Ведомость снова никто не принёс, но он помнит, что в таком случае необходимо использовать ведомость из третьего ящика стола (снова переходит по указателю). Преподаватель внёс в эту ведомость новые оценки и вернул её на место.\n",
    "\n",
    "Что же теперь записано в ведомости? Оценки обеих групп! Преподаватель только один раз получил указания, где брать ведомость, если её нет, и записывал оценки только в неё.\n",
    "\n",
    "То же самое происходит и с пустым словарём, который мы установили в виде аргумента по умолчанию: он был создан только 1 раз, а затем он только модифицировался функцией, а не создавался пустым заново."
   ]
  },
  {
   "cell_type": "markdown",
   "metadata": {},
   "source": [
    "Давайте  сделаем так, чтобы каждый раз при запуске функции без словаря все-таки создавался пустой словарь, а не использовался однажды созданный. Для этого изначально присвоим аргументу ЖУРНАЛ значение по умолчанию none и уже непосредственно в теле функции будем создавать пустой словарь, если ЖУРНАЛ является None:"
   ]
  },
  {
   "cell_type": "code",
   "execution_count": 32,
   "metadata": {},
   "outputs": [],
   "source": [
    "def add_mark (name, mark, journal=None):\n",
    "    # если журнал является None  запишем в журнал пустой словарь\n",
    "    if journal is None:\n",
    "        journal={}\n",
    "    journal[name]=mark\n",
    "    return"
   ]
  },
  {
   "cell_type": "markdown",
   "metadata": {},
   "source": [
    "сразу запустим фрагмент кода, который вызвал неожиданное поведение функции:"
   ]
  },
  {
   "cell_type": "code",
   "execution_count": 33,
   "metadata": {},
   "outputs": [
    {
     "name": "stdout",
     "output_type": "stream",
     "text": [
      "None\n",
      "None\n"
     ]
    }
   ],
   "source": [
    "group2 = add_mark('Smirnov', 3)\n",
    "print(group2)\n",
    "# Будет напечатано:\n",
    "# {'Smirnov': 3}\n",
    " \n",
    "group3 = add_mark('Kuznetsova', 5)\n",
    "print(group3)\n",
    "# Будет напечатано:\n",
    "# {'Kuznetsova': 5}"
   ]
  },
  {
   "cell_type": "markdown",
   "metadata": {},
   "source": [
    "Как видите, теперь все стало н свои места: оценки для новых групп теперь действительно записываются в новый словарь, а не добавляются в ранее созданный"
   ]
  },
  {
   "cell_type": "markdown",
   "metadata": {},
   "source": [
    "Теперь остается понять какие объекты н рекоментдуется использовать в качестве аргументов по умолчанию."
   ]
  },
  {
   "cell_type": "markdown",
   "metadata": {},
   "source": [
    "К сожалению, полностью осознать ответ на этот вопрос можно будет только после изучения объектно-ориентированного программирования, то есть через несколько модулей.\n",
    "\n",
    "Пока что вам стоит запомнить, что в качестве аргументов по умолчанию некорректно использовать изменяемые типы данных: списки, словари, множества… У всех из них есть собственные функции и методы, с помощью которых происходят изменения этих объектов (например, append, add и т. д.) непосредственно внутри объекта.\n",
    "\n",
    "В качестве аргументов по умолчанию точно можно использовать «простые» типы данных, которые не содержат в себе дополнительные значения, такие как int, float, str, bool, None."
   ]
  },
  {
   "cell_type": "markdown",
   "metadata": {},
   "source": [
    "Остальные типы данных, скорее всего, состоят из перечисленных ПРОСТЫХ и птому являются СЛОЖНЫМИ, например списки могут состоять из всех перечисленных выше ПРОСТЫХ элементов.\n",
    "\n",
    "Ввиду особенностей работы со СЛОЖНЫМИ типами данных, они являются изменяемыми, поэтому использование их в качестве аргументов по умолчанию нежелательно.\n",
    "\n",
    "Чтобы избежать ошибок, связанных с изменяемыми типами данных, исподьзуйте None в качестве значения аргумента по умолчанию и создавайте новый объект уже в теле функции, как это было сделано в примере выше."
   ]
  },
  {
   "cell_type": "markdown",
   "metadata": {},
   "source": [
    "✍ В этом юните вы:\n",
    "\n",
    "* узнали, что исключения — это полезный инструмент, с помощью которого можно указать пользователю, которым можете быть и вы сами, на допущенную ошибку в данных;\n",
    "* научились возвращать исключение в случае некорректных аргументов;\n",
    "* научились задавать аргументы по умолчанию и использовать их, чтобы не прописывать каждый раз часто повторяющиеся аргументы;\n",
    "* поняли, что аргументы по умолчанию необходимо использовать на практике с осторожностью, чтобы не возникали ошибки; вместо изменяемых типов данных в качестве аргумента по умолчанию необходимо использовать None."
   ]
  },
  {
   "cell_type": "markdown",
   "metadata": {},
   "source": [
    "Задание 3.3\n",
    "\n",
    "Выберите тип ошибки, которую принято возвращать, если в функцию переданы некорректные аргументы:\n",
    "* ZeroDivisionError\n",
    "* KeyError\n",
    "* ValueError  ВЕРНО\n",
    "* NameError\n",
    "\n",
    "Верно:В данном юните мы возвращали эту ошибку, чтобы сообщить, что аргументы некорректны."
   ]
  },
  {
   "cell_type": "code",
   "execution_count": null,
   "metadata": {},
   "outputs": [],
   "source": []
  },
  {
   "cell_type": "markdown",
   "metadata": {},
   "source": [
    "Задание 3.5 (External resource)\n",
    "\n",
    "Дана функция add_mark:\n",
    "\n",
    "\n",
    "def add_mark(name, mark, journal=None):\n",
    "   ` Добавьте здесь проверку аргумента mark\n",
    "   if journal is None:\n",
    "       journal = {}\n",
    "   journal[name] = mark\n",
    "   return journal\n",
    "Дополните её код таким образом, чтобы возникала ошибка ValueError с текстом \"Invalid Mark!\" при попытке поставить оценку не из списка: 2, 3, 4 или 5.\n",
    "\n",
    "Пример\n",
    "\n",
    "\n",
    "add_mark('Ivanov', 6)\n",
    "` ValueError: Invalid Mark!\n",
    "\n"
   ]
  },
  {
   "cell_type": "code",
   "execution_count": 34,
   "metadata": {},
   "outputs": [],
   "source": [
    "def add_mark(name, mark, journal=None):\n",
    "   if mark <2 or mark >5:\n",
    "        raise ValueError(\"Invalid Mark!\") \n",
    "   if journal is None:\n",
    "       journal = {}\n",
    "   journal[name] = mark\n",
    "   return journal"
   ]
  },
  {
   "cell_type": "markdown",
   "metadata": {},
   "source": [
    "# 4. Продвинутая передача аргументов"
   ]
  },
  {
   "cell_type": "markdown",
   "metadata": {},
   "source": [
    "✍ В предыдущем юните вы:\n",
    "\n",
    "* научились задавать аргументы по умолчанию;\n",
    "* узнали, что существуют изменяемые типы данных, которые нежелательно использовать в качестве аргументов по умолчанию;\n",
    "* научились проверять переданные аргументы на корректность и возвращать сообщение об ошибке, если переданы неправильные значения аргументов.\n",
    "Все полученные знания и умения из предыдущего раздела очень пригодятся в данном юните!\n",
    "\n",
    "✍ В этом юните вы:\n",
    "\n",
    "* научитесь передавать аргументы в функцию различными способами;\n",
    "* узнаете, что такое порядковые и именованные аргументы."
   ]
  },
  {
   "cell_type": "markdown",
   "metadata": {},
   "source": [
    "### СПОСОБЫ ПЕРЕДАЧИ АРГУМЕНТОВ В ПИТОН"
   ]
  },
  {
   "cell_type": "markdown",
   "metadata": {},
   "source": [
    "В предыдущем юните мы создали функцию root , которую вы затем доработали, чтобы она автоматически считала квадратный корень. Вот она:"
   ]
  },
  {
   "cell_type": "code",
   "execution_count": 35,
   "metadata": {},
   "outputs": [],
   "source": [
    "def root(value, n=2):\n",
    "    result = value ** (1/n)\n",
    "    return result"
   ]
  },
  {
   "cell_type": "markdown",
   "metadata": {},
   "source": [
    "Эта функция написана так, что она возвращает результат в исходный код основного скипта. Давайте сделаем ее более разговорчивой: пусть функция печатает на экран, какие действия она выполнила, если мы укажем ей в качестве парметра слово VERBOSE со значением True. Чаще всего такой функционал будет излишним, поэтому зададим этому параметру значение по умолчанию False. Получим такую функцию:"
   ]
  },
  {
   "cell_type": "code",
   "execution_count": 40,
   "metadata": {},
   "outputs": [],
   "source": [
    "def root(value, n=2, verbose=False):\n",
    "    result = value ** (1/n)\n",
    "    if verbose:\n",
    "        # Аргументы в функции print,\n",
    "        # перечисленные через запятую,\n",
    "        # печатаются через пробел\n",
    "        print('Root of power', n, 'from',\n",
    "            value, 'equals', result)\n",
    "    return result\n",
    "\n"
   ]
  },
  {
   "cell_type": "markdown",
   "metadata": {},
   "source": [
    "Теперь давайте запустим новую функцию различными способами. Будем по порядку передавать в нее аргументы, которые функция ожидает получить (такие аргументы назовем порядковыми):"
   ]
  },
  {
   "cell_type": "code",
   "execution_count": null,
   "metadata": {},
   "outputs": [
    {
     "name": "stdout",
     "output_type": "stream",
     "text": [
      "5.0\n",
      "3.0\n",
      "Root of power 3 from 27 equals 3.0\n",
      "3.0\n",
      "Root of power 2 from 81 equals 9.0\n",
      "9.0\n"
     ]
    }
   ],
   "source": [
    "# посчитаем корень из 25 с аргументами по умолчанию\n",
    "print(root(25))\n",
    "# посчитаем кубический корень из 27 с verbose по умолчанию\n",
    "print(root(27,3))\n",
    "# посчитаем кубический корень из 27 с verbose = True\n",
    "print(root(27,3, True))\n"
   ]
  },
  {
   "cell_type": "markdown",
   "metadata": {},
   "source": [
    "Поведение фукции выглядит совершенно ожидаемым: когда мы передали аргумент verbose=True , функция подробно напечатала результат выполнения.\n",
    "\n",
    "А что делать, если мы хотим поменять только аргумент verbose, а степень корня оставить по умолчанию?\n",
    "\n",
    "Достаточно при передачи аргументов указать название того параметра, которому мы хотим присвоить значение, и передать это значение через = (равно) вот так:\n"
   ]
  },
  {
   "cell_type": "code",
   "execution_count": 42,
   "metadata": {},
   "outputs": [
    {
     "name": "stdout",
     "output_type": "stream",
     "text": [
      "Root of power 2 from 81 equals 9.0\n",
      "9.0\n"
     ]
    }
   ],
   "source": [
    "print(root(81, verbose= True))"
   ]
  },
  {
   "cell_type": "markdown",
   "metadata": {},
   "source": [
    "Только что мы применили второй способ передвчи аргументов - по ключевым словам. Такие аргументы называются именоваными, поскольку мы можем написать имя аргумента и присвоить ему значение.\n",
    "\n",
    "на самом деле, мы сейчас использовали оба способа передачи аргументов:по порядку, так как функция root ожидает на первом месте получить аргумент value, и по ключевым словам.\n",
    "\n",
    "теперь необходимо уточнить в каком порядке необходимо сочетать порядковые и именованные аргументы.\n",
    "\n",
    "Посмотрим, что будет, если передать в функуию сначала именованные аргументы а потом только порядковые"
   ]
  },
  {
   "cell_type": "code",
   "execution_count": 44,
   "metadata": {},
   "outputs": [],
   "source": [
    "# print(root(verbose=True, 25))\n",
    "# Будет напечатано:\n",
    "# SyntaxError: positional argument follows keyword argument"
   ]
  },
  {
   "cell_type": "markdown",
   "metadata": {},
   "source": [
    "Интерпритатор сообщил нам об ошибке. Ее текст переводится так: СИНТАКСИЧЕСКАЯ ОШИБКА: ПОЗИЦИОННЫЙ АРГУМЕНТ СЛЕДУЕТ ПОСЛЕ ИМЕНОВАННОГО АРГУМЕНТА "
   ]
  },
  {
   "cell_type": "markdown",
   "metadata": {},
   "source": [
    "Можно ли менять местами именованные аргументы? \n",
    "\n",
    "Да, можно. Давайте так и сделаем:"
   ]
  },
  {
   "cell_type": "code",
   "execution_count": 46,
   "metadata": {},
   "outputs": [
    {
     "name": "stdout",
     "output_type": "stream",
     "text": [
      "Root of power 4 from 81 equals 3.0\n",
      "3.0\n"
     ]
    }
   ],
   "source": [
    "# Подробно считаем корень степени 4 из 81\n",
    "print(root(81, verbose=True, n=4))\n",
    "# Будет напечатано:\n",
    "# Root of power 4 from 81 equals 3.0\n",
    "# 3.0"
   ]
  },
  {
   "cell_type": "markdown",
   "metadata": {},
   "source": [
    "Как видите, порядок именованных аргументов никак не повлиял на работу программы.\n",
    "\n",
    "Есть небольшое исключение: можно записать порядковый аргумент после именованных, но для этого необходимо подать его в виде именованного - с помощью знака РАВНО. Вот так:"
   ]
  },
  {
   "cell_type": "code",
   "execution_count": 47,
   "metadata": {},
   "outputs": [
    {
     "name": "stdout",
     "output_type": "stream",
     "text": [
      "Root of power 4 from 81 equals 3.0\n",
      "3.0\n"
     ]
    }
   ],
   "source": [
    "# Написали value=81 после именованных:\n",
    "print(root(verbose=True, n=4, value=81))\n",
    "# Будет напечатано:\n",
    "# Root of power 4 from 81 equals 3.0\n",
    "# 3.0"
   ]
  },
  {
   "cell_type": "markdown",
   "metadata": {},
   "source": [
    "### Аргументы по умолчанию в функции print"
   ]
  },
  {
   "cell_type": "markdown",
   "metadata": {},
   "source": [
    "Функция print, с которой вы познакомились в самом начале курса, на самом деле имеет множество дополнительных параметров, которыми бывает удобно пользоваться. Да, достаточно написать print(\"Hello world!\") и сразу получить результат выполнения первой программы, но можно передать в функцию дополнительные именованные аргументы и изменить вывод\n",
    "\n",
    "удобно использовать следующие аргументы:\n",
    "\n",
    "#### sep  \n",
    "\n",
    "Этот аргумент задает строку, которая будет разделять позиционные аргументы переданные на печать (по умолчанию это пробел)\n",
    "\n",
    "например, мы хотим напечатать три числа. Их можно сразу передать в print через запятую вот так: "
   ]
  },
  {
   "cell_type": "code",
   "execution_count": 48,
   "metadata": {},
   "outputs": [
    {
     "name": "stdout",
     "output_type": "stream",
     "text": [
      "25 125 625\n"
     ]
    }
   ],
   "source": [
    "print(25, 125, 625)\n",
    "# Будет напечатано:\n",
    "# 25 125 625"
   ]
  },
  {
   "cell_type": "markdown",
   "metadata": {},
   "source": [
    "Но по умолчанию числа будут напечатаны через пробел. Давайте добавим параметр: "
   ]
  },
  {
   "cell_type": "code",
   "execution_count": 49,
   "metadata": {},
   "outputs": [
    {
     "name": "stdout",
     "output_type": "stream",
     "text": [
      "25, 125, 625\n"
     ]
    }
   ],
   "source": [
    "print(25, 125, 625, sep=', ')\n",
    "# Будет напечатано:\n",
    "# 25, 125, 625"
   ]
  },
  {
   "cell_type": "markdown",
   "metadata": {},
   "source": [
    "##### end\n",
    "\n",
    "Этот аргумент задает символ, которым заканчивается печатаемая строка (по умолчанию это перенос на новую строку - символ `/n` )\n",
    "\n",
    "Давайте напечатаем список покупок:"
   ]
  },
  {
   "cell_type": "code",
   "execution_count": 50,
   "metadata": {},
   "outputs": [
    {
     "name": "stdout",
     "output_type": "stream",
     "text": [
      "Shopping list:\n",
      "bread butter eggs\n"
     ]
    }
   ],
   "source": [
    "print(\"Shopping list:\")\n",
    "print(\"bread\", \"butter\", \"eggs\")\n",
    "# Будет напечатано:\n",
    "# Shopping list:\n",
    "# bread butter eggs"
   ]
  },
  {
   "cell_type": "markdown",
   "metadata": {},
   "source": [
    "Мы напечатали фразу СПИСОК ПОКУПОК  на одной строке, а сами продукты - на строке ниже. Теперь же не будем переносить названия продуетов на новую строку, а поставим в конце строки пробел с помощью `end=' '`"
   ]
  },
  {
   "cell_type": "code",
   "execution_count": 51,
   "metadata": {},
   "outputs": [
    {
     "name": "stdout",
     "output_type": "stream",
     "text": [
      "Shopping list: bread butter eggs\n"
     ]
    }
   ],
   "source": [
    "print(\"Shopping list:\", end=' ')\n",
    "print(\"bread\", \"butter\", \"eggs\")\n",
    "# Будет напечатано:\n",
    "# Shopping list: bread butter eggs"
   ]
  },
  {
   "cell_type": "markdown",
   "metadata": {},
   "source": [
    "Теперь мы напечатали текст в одну строку."
   ]
  },
  {
   "cell_type": "markdown",
   "metadata": {},
   "source": [
    "Задание 4.1 (на самопроверку)\n",
    "\n",
    "Сделайте так, чтобы покупки из предыдущего примера со списком выводились через запятую."
   ]
  },
  {
   "cell_type": "code",
   "execution_count": null,
   "metadata": {},
   "outputs": [
    {
     "name": "stdout",
     "output_type": "stream",
     "text": [
      "Shopping list: bread,butter,eggs\n"
     ]
    }
   ],
   "source": [
    "print(\"Shopping list:\", end=' ')\n",
    "print(\"bread\", \"butter\", \"eggs\", sep=', ')"
   ]
  },
  {
   "cell_type": "code",
   "execution_count": 37,
   "metadata": {},
   "outputs": [
    {
     "name": "stdout",
     "output_type": "stream",
     "text": [
      "12***125***500\n"
     ]
    }
   ],
   "source": [
    "print(12,125,500, sep='***')"
   ]
  },
  {
   "cell_type": "markdown",
   "metadata": {},
   "source": [
    "# 5. Продвинутая обработка аргументов"
   ]
  },
  {
   "cell_type": "markdown",
   "metadata": {},
   "source": [
    "В предыдущем юните вы научились передавать аргументы в функцию в провильном порядке: вначале необходимо передать порядковые аргументы, а затем именованные.\n",
    "\n",
    "В этом юните вы научитесь обрабатывать неизвестное заранее число аргументов, а также использовать функцию print на продвинутом уровне! "
   ]
  },
  {
   "cell_type": "markdown",
   "metadata": {},
   "source": [
    "### ОБРАБОТКА НЕИЗВЕСТНОГО ЗАРАНЕЕ ЧИСЛА АРГУМЕНТОВ В ПИТОН"
   ]
  },
  {
   "cell_type": "markdown",
   "metadata": {},
   "source": [
    "Как же функция print понимает, сколько аргументов ей передали н печать? \n",
    "\n",
    "Сейчас мы напишем функцию"
   ]
  },
  {
   "cell_type": "code",
   "execution_count": 39,
   "metadata": {},
   "outputs": [
    {
     "name": "stdout",
     "output_type": "stream",
     "text": [
      "4.0\n"
     ]
    }
   ],
   "source": [
    "# В массив args будут записаны все переданные\n",
    "# порядковые аргументы\n",
    "def mean(*args):\n",
    "    # Среднее значение — это сумма всех значений,\n",
    "    # делённая на число этих значений\n",
    "    # Функция sum — встроенная, она возвращает\n",
    "    # сумму чисел\n",
    "    result = sum(args) / len(args)\n",
    "    return result\n",
    " \n",
    "# Передадим аргументы в функцию через запятую,\n",
    "# чтобы посчитать их среднее\n",
    "print(mean(5,4,4,3))\n",
    "# Будет напечатано\n",
    "# 4.0"
   ]
  }
 ],
 "metadata": {
  "kernelspec": {
   "display_name": "Python 3",
   "language": "python",
   "name": "python3"
  },
  "language_info": {
   "codemirror_mode": {
    "name": "ipython",
    "version": 3
   },
   "file_extension": ".py",
   "mimetype": "text/x-python",
   "name": "python",
   "nbconvert_exporter": "python",
   "pygments_lexer": "ipython3",
   "version": "3.11.9"
  }
 },
 "nbformat": 4,
 "nbformat_minor": 2
}
