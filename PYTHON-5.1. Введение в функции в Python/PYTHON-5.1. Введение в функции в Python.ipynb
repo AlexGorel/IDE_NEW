{
 "cells": [
  {
   "cell_type": "markdown",
   "metadata": {},
   "source": [
    "# PYTHON-5.1. Введение в функции в Python\n",
    "\n",
    "### 0. Повторение — мать учения"
   ]
  },
  {
   "cell_type": "markdown",
   "metadata": {},
   "source": [
    "Добро пожаловать в новый модуль по программированию на ПИТОН, который посвящен освоению функций и функционального програмирования.\n",
    "\n",
    "Это очень важный раздел при изучении любого языка программирования, однако для его освоения необходимо хорошо ориентироваться в уже пройденном материале. Поэтосу давайте начнем с небольших заданий-если вы успешно усвоили знания мз предыдущих модулей, этот короткий тест на вызовет у вас затруднений."
   ]
  },
  {
   "cell_type": "markdown",
   "metadata": {},
   "source": [
    "Задание 0.1\n",
    "\n",
    "какая конструкция в питон позволяет обрабатывать возникшие исключения\n",
    "* if ... else ...\n",
    "* try ... except ...  = верно\n",
    "* for ... else ...\n",
    "* while ... break ...\n",
    "\n",
    "верно. Данная конструкция необходима для обработки исключений"
   ]
  },
  {
   "cell_type": "markdown",
   "metadata": {},
   "source": [
    "Задание 0.2 \n",
    "\n",
    "Какие из указанных ниже конструкций позволяют создавать список?\n",
    "* A ()\n",
    "* B {}\n",
    "* C []\n",
    "* D set()\n",
    "* E tuple()\n",
    "* F list()\n",
    "* G dict()\n",
    "\n",
    "Верно:\n",
    "* C С помощью [] создаётся список.\n",
    "* F С помощью list() создаётся с\n"
   ]
  },
  {
   "cell_type": "markdown",
   "metadata": {},
   "source": [
    "Задание 0.3\n",
    "\n",
    "Какое действие вызовет ошибку при работе с кортежем tup = (13,45,79)\n",
    "* print(tup[5:])\n",
    "* print(tup[2])\n",
    "* tup[2] = 10 = верно\n",
    "* tup[2] == 10\n",
    "\n",
    "Верно. Возникнет ошибка, так как нельзя изменять элементы в кортеже. \n"
   ]
  },
  {
   "cell_type": "code",
   "execution_count": 185,
   "metadata": {},
   "outputs": [
    {
     "name": "stdout",
     "output_type": "stream",
     "text": [
      "79\n"
     ]
    },
    {
     "data": {
      "text/plain": [
       "False"
      ]
     },
     "execution_count": 185,
     "metadata": {},
     "output_type": "execute_result"
    }
   ],
   "source": [
    "tup = (13,45,79)\n",
    "print(tup[2])\n",
    "\n",
    "tup[2] == 10"
   ]
  },
  {
   "cell_type": "markdown",
   "metadata": {},
   "source": [
    "Задание 0.4\n",
    "\n",
    "Что будет выведено на экран в результате выполнения кода ниже? Постарайтесь выполнить задание, не запуская код в какой-либо среде выполнения.\n",
    "\n",
    "my_list = [['Smirnov', 'Ivan', 23], ['Kuznetsova', 'Maria', 27]]\n",
    "\n",
    "print(len(my_list))\n",
    "\n",
    "верно. my_list - это список из двух элементов. В данном случае каждый элемент является списком из трех элементов, однако оператор len выдает число элементов только в том списке, к которому он применяется.\n"
   ]
  },
  {
   "cell_type": "code",
   "execution_count": 184,
   "metadata": {},
   "outputs": [
    {
     "name": "stdout",
     "output_type": "stream",
     "text": [
      "3\n",
      "3\n",
      "2\n"
     ]
    }
   ],
   "source": [
    "my_list = [['Smirnov', 'Ivan', 23], ['Kuznetsova', 'Maria', 27]]\n",
    "print(len(my_list[1]))\n",
    "print(len(my_list[0]))\n",
    "print(len(my_list))"
   ]
  },
  {
   "cell_type": "markdown",
   "metadata": {},
   "source": [
    "# 1. Введение\n",
    "\n",
    "## ЧТО ТАКОЕ ФУНКЦИЯ\n",
    "\n",
    "В жизни мы часто сталкиваемся с инструкциями. Например, если вы водите машину или ездите на такси, вы слышали, ка навигатор сообщает водителю: \"Через 300 метров поверните направо\". В данном случае подразумевается, что водитель умеет поворачивать и ему не требуются дополнительные указания вроде ПОВЕРНИТЕ РУЛЬ ПО ЧАСОВОЙ СТРЕЛКЕ НА ПОЛОВИНУ ОБОРОТА, ПОСЛЕ НАЧАЛА ПОВОРОТА ПЛАВНО ВЫРАВНИВАЙТЕ РУЛЬ, хотя при обчении в автошколе примерно токие указания начинающийводитель и получал от инструктора. Умелому водителю уже достаточно прочто назвать действие, которое необ"
   ]
  },
  {
   "cell_type": "code",
   "execution_count": 91,
   "metadata": {},
   "outputs": [
    {
     "data": {
      "text/plain": [
       "[12, 14, 25, (36, 43)]"
      ]
     },
     "execution_count": 91,
     "metadata": {},
     "output_type": "execute_result"
    }
   ],
   "source": [
    "my_list= [12,14,25]\n",
    "my_list.append((36,43))\n",
    "my_list"
   ]
  },
  {
   "cell_type": "code",
   "execution_count": 92,
   "metadata": {},
   "outputs": [
    {
     "name": "stdout",
     "output_type": "stream",
     "text": [
      "HELLO!\n",
      "HELLO!\n"
     ]
    }
   ],
   "source": [
    "def first_function():\n",
    "    print('HELLO!')\n",
    "first_function ()\n",
    "first_function ()"
   ]
  },
  {
   "cell_type": "code",
   "execution_count": 93,
   "metadata": {},
   "outputs": [
    {
     "name": "stdout",
     "output_type": "stream",
     "text": [
      "HELLO!\n"
     ]
    }
   ],
   "source": [
    "first_function ()"
   ]
  },
  {
   "cell_type": "code",
   "execution_count": 94,
   "metadata": {},
   "outputs": [
    {
     "name": "stdout",
     "output_type": "stream",
     "text": [
      "Hello world!\n",
      "Line 2\n",
      "Hello world!\n",
      "Line 2\n"
     ]
    }
   ],
   "source": [
    "def first_function():\n",
    "    # первая строка функции\n",
    "    print(\"Hello world!\")\n",
    "    # вторая строка функции\n",
    "    print(\"Line 2\")\n",
    "# Отступ вернулся на прежний уровень, значит\n",
    "# код функции закончился.\n",
    "first_function ()\n",
    "first_function ()"
   ]
  },
  {
   "cell_type": "code",
   "execution_count": 95,
   "metadata": {},
   "outputs": [
    {
     "name": "stdout",
     "output_type": "stream",
     "text": [
      "Hours: 2\n",
      "Minutes left: 0\n"
     ]
    }
   ],
   "source": [
    "def print_hours(minutes):\n",
    "    hours =minutes//60\n",
    "    left_minutes =minutes % 60\n",
    "    print('Hours:',hours)\n",
    "    print('Minutes left:', left_minutes)\n",
    "print_hours(120)"
   ]
  },
  {
   "cell_type": "code",
   "execution_count": 96,
   "metadata": {},
   "outputs": [
    {
     "data": {
      "text/plain": [
       "2"
      ]
     },
     "execution_count": 96,
     "metadata": {},
     "output_type": "execute_result"
    }
   ],
   "source": [
    "def get_time(distance,speed):\n",
    "    result=distance/speed\n",
    "    return result\n",
    "\n",
    "\n",
    "time=int(get_time(120,60))\n",
    "time"
   ]
  },
  {
   "cell_type": "code",
   "execution_count": 97,
   "metadata": {},
   "outputs": [
    {
     "name": "stdout",
     "output_type": "stream",
     "text": [
      "Travel time will be: 2 hours\n"
     ]
    }
   ],
   "source": [
    "print(\"Travel time will be:\",time,\"hours\" )"
   ]
  },
  {
   "cell_type": "code",
   "execution_count": 98,
   "metadata": {},
   "outputs": [
    {
     "data": {
      "text/plain": [
       "2.0"
      ]
     },
     "execution_count": 98,
     "metadata": {},
     "output_type": "execute_result"
    }
   ],
   "source": [
    "get_time(120,60)"
   ]
  },
  {
   "cell_type": "code",
   "execution_count": 99,
   "metadata": {},
   "outputs": [
    {
     "name": "stdout",
     "output_type": "stream",
     "text": [
      "(1, 12)\n",
      "Hours to travel: 1\n",
      "Minutes to travel: 12\n"
     ]
    }
   ],
   "source": [
    "def get_time_tuple(distance,speed):\n",
    "    hours=distance//speed\n",
    "    distance_left=distance%speed\n",
    "    kms_per_minute=speed/60\n",
    "    minutes = round(distance_left/kms_per_minute)\n",
    "    return hours, minutes\n",
    "\n",
    "result=get_time_tuple(120,100)\n",
    "print(result)\n",
    "print(\"Hours to travel:\", result[0])\n",
    "print(\"Minutes to travel:\", result[1])\n"
   ]
  },
  {
   "cell_type": "code",
   "execution_count": 100,
   "metadata": {},
   "outputs": [
    {
     "name": "stdout",
     "output_type": "stream",
     "text": [
      "1 12\n",
      "Hours to travel: 1\n",
      "Minutes to travel: 12\n"
     ]
    }
   ],
   "source": [
    "hours,minutes=get_time_tuple(120,100)\n",
    "print(hours,minutes)\n",
    "print(\"Hours to travel:\", hours)\n",
    "print(\"Minutes to travel:\", minutes)\n"
   ]
  },
  {
   "cell_type": "code",
   "execution_count": 101,
   "metadata": {},
   "outputs": [
    {
     "name": "stdout",
     "output_type": "stream",
     "text": [
      "2.0\n",
      "Travel time will be: None hours\n"
     ]
    }
   ],
   "source": [
    "def get_time(distance,speed):\n",
    "    result=distance/speed\n",
    "    print(result)\n",
    "\n",
    "time = (get_time(120,60))\n",
    "print(\"Travel time will be:\", time, \"hours\")\n"
   ]
  },
  {
   "cell_type": "code",
   "execution_count": 102,
   "metadata": {},
   "outputs": [],
   "source": [
    "def in_list (list_in,obj):\n",
    "    for elem in list_in:\n",
    "        if obj == elem:\n",
    "            print(\"Element is found!\")\n",
    "            return True\n",
    "            print(\"This won't be printed\")\n",
    "    print(\"Element is not found!\")\n",
    "    return False\n",
    "    print(\"This will not be printed either\")"
   ]
  },
  {
   "cell_type": "code",
   "execution_count": 103,
   "metadata": {},
   "outputs": [
    {
     "name": "stdout",
     "output_type": "stream",
     "text": [
      "Element is not found!\n",
      "False\n",
      "Element is found!\n",
      "True\n"
     ]
    }
   ],
   "source": [
    "my_list = [ 1,2,5,7,10]\n",
    "result = in_list(my_list,3)\n",
    "print(result)\n",
    "result = in_list(my_list,7)\n",
    "print(result)\n"
   ]
  },
  {
   "cell_type": "markdown",
   "metadata": {},
   "source": [
    "Задание 2.3 (External resource)\n",
    "\n",
    "Напишите функцию get_total(units, price), которая принимает на вход число единиц товара и стоимость каждой единицы. Функция возвращает одно число — общую стоимость данного числа товаров.\n",
    "\n",
    "Пример: print(get_total(15, 50))"
   ]
  },
  {
   "cell_type": "code",
   "execution_count": 104,
   "metadata": {},
   "outputs": [
    {
     "name": "stdout",
     "output_type": "stream",
     "text": [
      "750\n"
     ]
    }
   ],
   "source": [
    "def get_total(units,price):\n",
    "    result=units*price\n",
    "    return result\n",
    "print(get_total(15,50))"
   ]
  },
  {
   "cell_type": "markdown",
   "metadata": {},
   "source": [
    "# 3. Проверка аргументов. Аргументы по умолчанию"
   ]
  },
  {
   "cell_type": "code",
   "execution_count": 105,
   "metadata": {},
   "outputs": [
    {
     "name": "stdout",
     "output_type": "stream",
     "text": [
      "5\n",
      "None\n",
      "5\n"
     ]
    }
   ],
   "source": [
    "grades={'Ivanov':5, 'Smirnov':3,'Kuznetsova':4,'Tihonova':5,}\n",
    "print(grades['Ivanov'])\n",
    "print(grades.get('Pavlov'))\n",
    "print(grades.get('Ivanov'))"
   ]
  },
  {
   "cell_type": "code",
   "execution_count": 106,
   "metadata": {},
   "outputs": [
    {
     "name": "stdout",
     "output_type": "stream",
     "text": [
      "Student's mark was not found!\n"
     ]
    }
   ],
   "source": [
    "# создадим тот же словарь \n",
    "grades={'Ivanov':5, 'Smirnov':3,'Kuznetsova':4,'Tihonova':5,}\n",
    "# только попробуем напечатать оценку студента, которого нет в словаре\n",
    "try:\n",
    "    print(grades['Pavlov'])\n",
    "    # а если возникнет ошибка в ключе, скажем что студента нет в словаре\n",
    "except KeyError:\n",
    "    print(\"Student's mark was not found!\")"
   ]
  },
  {
   "cell_type": "markdown",
   "metadata": {},
   "source": [
    "После того как вы повторили обработку исключенией, настало время научиться генерировать исключния самостоятельно. Давате вспомним функцию из предыдущего юнита, которая считала время пути для заданного расстояния и скорости"
   ]
  },
  {
   "cell_type": "code",
   "execution_count": 107,
   "metadata": {},
   "outputs": [],
   "source": [
    "def get_time(distance, speed):\n",
    "    result = distance / speed\n",
    "    return result"
   ]
  },
  {
   "cell_type": "markdown",
   "metadata": {},
   "source": [
    "Пока что не имеет значения, какие значения подаются на вход функции: если они являются числами (int или float), а скорость не равна 0 (иначе возникает деление на 0 и питон выдаст ошибку ZeroDivisionError), то функция сработает и выдаст результат. Однако, вам понятно, что растояние, как и скорость, не могут быть отрицательными. Инаяе расчет времени в пути противоречит здравому смымлу: что же значит отрицательное время в пути?"
   ]
  },
  {
   "cell_type": "markdown",
   "metadata": {},
   "source": [
    "Чтобы не передать в функцию некорректные аргументы и не допустить ошибку, добавляем их проверку. Если окажется, что аргументы меньше нуля, вызовем ValueError с помощью оператора raise"
   ]
  },
  {
   "cell_type": "markdown",
   "metadata": {},
   "source": [
    "После встречи с raise, как и вслучае с return , интерпретатор прекращает исполнение кода функции."
   ]
  },
  {
   "cell_type": "code",
   "execution_count": 108,
   "metadata": {},
   "outputs": [
    {
     "data": {
      "text/plain": [
       "10"
      ]
     },
     "execution_count": 108,
     "metadata": {},
     "output_type": "execute_result"
    }
   ],
   "source": [
    "def get_time(distance,speed):\n",
    "    # если растояние или скорость отрицательные, то возвращаем ошибку\n",
    "    if distance<0 or speed <0:\n",
    "        # оператор raise возвращает /поднимает объект исключение. В данном \n",
    "        # случае ValueError. Дополнительно в скобках после ValueError пишем\n",
    "        # текст сообщениея об ошибке, чтобы сразу было понятно , чем вызвана ошибка.\n",
    "        raise ValueError (\"Distance or speed can't be below 0!\")\n",
    "    if speed == 0:\n",
    "        raise ValueError (\"Speed can't be equal to 0!\")\n",
    "    result=distance/speed\n",
    "    return result\n",
    "\n",
    "\n",
    "time=int(get_time(100,10))\n",
    "time"
   ]
  },
  {
   "cell_type": "markdown",
   "metadata": {},
   "source": [
    "### Аргументы по умолчанию"
   ]
  },
  {
   "cell_type": "markdown",
   "metadata": {},
   "source": [
    "Представьте, что вы пришли в ресторан быстрого питания с золотой буквой M на логотипе и заказали колу среднего размера. Скорее всего, продавец не спросит вас, добавлять ли в напиток лёд, но при этом в газировке лёд будет.\n",
    "Допустим, вы хотели напиток безо льда, но не сообщили об этом. К сожалению, в этом случае вы по умолчанию получили колу со льдом. А ведь вам всего-то нужно было сказать, что лёд не требуется!\n",
    "Точно так же можно создавать функции, в которые можно передавать не все аргументы, а, например, задать часть аргументов (или даже все) аргументами по умолчанию, то есть сообщить функции, какие данные использовать, если они не были переданы в функцию извне.\n",
    "\n",
    "Очень важный пример использования аргументов по умолчанию — обработка даты.\n",
    "\n",
    "По долгу службы вам предстоит обрабатывать даты, записанные в различных форматах, например, чтобы оценить популярность какого-либо сервиса в зависимости от месяца. Чаще всего, находясь в России или Европе, вы будете сталкиваться с привычным форматом вроде 19.05.2021 (то есть дд.мм.гггг). Однако в США, например, дату записывают по-другому: 05.19.2021 (то есть мм.дд.гггг). Когда вы будете писать функцию, чтобы узнать номер месяца из даты, будет удобно по умолчанию использовать привычный формат, но при этом оставить возможность при необходимости передать в функцию необычный формат даты.\n",
    "\n",
    "Аргументы по умолчанию задаются в Python очень просто: достаточно после названия переменной сразу же прописать знак = (равно) и то значение, которое вы бы хотели присвоить по умолчанию.\n",
    "\n",
    "Давайте напишем шуточную функцию get_cola, которая принимает на вход только один аргумент — ice. ice будет принимать значения True или False, причём по умолчанию будет задано True. В зависимости от True или False функция будет печатать \"Кола со льдом готова!\" или \"Кола безо льда готова!\", соответственно.\n",
    "\n",
    "Вот её исходный код:"
   ]
  },
  {
   "cell_type": "code",
   "execution_count": 109,
   "metadata": {},
   "outputs": [],
   "source": [
    "# С помощью оператора '=' присвоим\n",
    "# переменной ice значение True по умолчанию\n",
    "def get_cola(ice=True):\n",
    "    if ice == True:\n",
    "        print(\"Cola with ice is ready!\")\n",
    "    else:\n",
    "        print(\"Cola without ice is ready!\")"
   ]
  },
  {
   "cell_type": "markdown",
   "metadata": {},
   "source": [
    "Теперь запустим функцию с аргументами ДА и НЕТ"
   ]
  },
  {
   "cell_type": "code",
   "execution_count": 110,
   "metadata": {},
   "outputs": [
    {
     "name": "stdout",
     "output_type": "stream",
     "text": [
      "Cola with ice is ready!\n"
     ]
    }
   ],
   "source": [
    "get_cola(True)"
   ]
  },
  {
   "cell_type": "code",
   "execution_count": 111,
   "metadata": {},
   "outputs": [
    {
     "name": "stdout",
     "output_type": "stream",
     "text": [
      "Cola without ice is ready!\n"
     ]
    }
   ],
   "source": [
    "get_cola(False)"
   ]
  },
  {
   "cell_type": "markdown",
   "metadata": {},
   "source": [
    "Как видите, а поведении функции пока что нет ничего необычного, однако давайте запустим функцию без аргументов:"
   ]
  },
  {
   "cell_type": "code",
   "execution_count": 112,
   "metadata": {},
   "outputs": [
    {
     "name": "stdout",
     "output_type": "stream",
     "text": [
      "Cola with ice is ready!\n"
     ]
    }
   ],
   "source": [
    "get_cola()"
   ]
  },
  {
   "cell_type": "markdown",
   "metadata": {},
   "source": [
    "Посмотрим теперь, что бы произошло, если бы мы не указали при создании функции значение по умолчанию для аргумента ice:"
   ]
  },
  {
   "cell_type": "code",
   "execution_count": 113,
   "metadata": {},
   "outputs": [],
   "source": [
    "# # Аргументу ice не присваиваем значение по умолчанию:\n",
    "# def get_cola(ice):\n",
    "#     if ice == True:\n",
    "#         print(\"Cola with ice is ready!\")\n",
    "#     else:\n",
    "#         print(\"Cola without ice is ready!\")\n",
    " \n",
    "# get_cola()"
   ]
  },
  {
   "cell_type": "markdown",
   "metadata": {},
   "source": [
    "Вы заметили, что произошла ошибка. Она переводится так: В функции не хватает одного обязательного позиционного аргумента "
   ]
  },
  {
   "cell_type": "markdown",
   "metadata": {},
   "source": [
    "Итак, использование аргументов по умолчанию позволяет передавать в функцию не все аргументы и получатть из-за этого сообщение об ошибке. Можно сказать, что если у аргумента есть значение по умолчанию, он становится НЕОБЯЗАТЕЛЬНЫМ."
   ]
  },
  {
   "cell_type": "markdown",
   "metadata": {},
   "source": [
    "Теперь напишем более серьезную функцию: она будет извлекать корень н-ой степени из заданного числа. Назовем функцию root. Она будет принимать на вход value (число, из которого необходимо извлечь корень и n ( степень корня))"
   ]
  },
  {
   "cell_type": "markdown",
   "metadata": {},
   "source": [
    "Давайте вспомним, что для возведения в степень в ПИТОН используется оператор **"
   ]
  },
  {
   "cell_type": "code",
   "execution_count": 114,
   "metadata": {},
   "outputs": [
    {
     "name": "stdout",
     "output_type": "stream",
     "text": [
      "16\n"
     ]
    }
   ],
   "source": [
    "print(2**4)"
   ]
  },
  {
   "cell_type": "markdown",
   "metadata": {},
   "source": [
    "Также важное утверждение из математики: чтобы извлечь из числа Х корень n-ой степени, то есть получить такое число, при возведении которого в степень N получится такое число Х, дотаточно возвести число Х в степень 1/n"
   ]
  },
  {
   "cell_type": "code",
   "execution_count": 115,
   "metadata": {},
   "outputs": [
    {
     "name": "stdout",
     "output_type": "stream",
     "text": [
      "2.0\n"
     ]
    }
   ],
   "source": [
    "print(16**(1/4))"
   ]
  },
  {
   "cell_type": "markdown",
   "metadata": {},
   "source": [
    "В самом деле- корень четвертой степени из 16 равен двум. Давайте наконец напишем функцию root:"
   ]
  },
  {
   "cell_type": "code",
   "execution_count": 116,
   "metadata": {},
   "outputs": [
    {
     "name": "stdout",
     "output_type": "stream",
     "text": [
      "3.0\n"
     ]
    }
   ],
   "source": [
    "# в функцию должны передаваться два значения :\n",
    "#  число и степень корня\n",
    "def root (value,n):\n",
    "    result= value**(1/n)\n",
    "    return result\n",
    "print(root(27,3))"
   ]
  },
  {
   "cell_type": "markdown",
   "metadata": {},
   "source": [
    "Итак, теперь у нас есть функция, которая может считать корень любой степени из числа. Однако на практике мы сталкиваемся с квадратными корнями гороздо чаще, чем остальными. Даже когда мы говорим КОРЕНЬ ИЗ ДВАДЦАТИ ПЯТИ РАВЕН ПЯТЬ, мы имеем ввиду квадратный корень, то есть корень степени два."
   ]
  },
  {
   "cell_type": "markdown",
   "metadata": {},
   "source": [
    "Задание 3.2 (на самопроверку)\n",
    "\n",
    "Модифицируйте функцию root так, чтобы передавать степень корня было необязательно. Если степень корня не передана, функция должна возвращать значение квадратного корня.\n",
    "\n",
    "Проверьте своё решение, вызвав функцию root:"
   ]
  },
  {
   "cell_type": "code",
   "execution_count": 117,
   "metadata": {},
   "outputs": [
    {
     "name": "stdout",
     "output_type": "stream",
     "text": [
      "9.0\n"
     ]
    }
   ],
   "source": [
    "def root (value,n=2):\n",
    "    result= value**(1/n)\n",
    "    return result\n",
    "print(root(81))"
   ]
  },
  {
   "cell_type": "markdown",
   "metadata": {},
   "source": [
    "Важное замечание. Указывать аргументам значение по умолчанию можно только после того, как в функции перечислены все обязательные аргументы.\n",
    "Поменям в модифицированной функции root порядок аргументов:"
   ]
  },
  {
   "cell_type": "code",
   "execution_count": 118,
   "metadata": {},
   "outputs": [],
   "source": [
    "# def wrong_root(n=2, value):\n",
    "#     result = value ** (1/n)\n",
    "#     return result\n",
    "# # Возникнет ошибка:\n",
    "# # SyntaxError: non-default argument follows default argument"
   ]
  },
  {
   "cell_type": "markdown",
   "metadata": {},
   "source": [
    "Эта ошибка переводится так: СИНТАКСИЧЕСКАЯ ОШИБКА. АРГУМЕНТ БЕЗ ЗНАЧЕНИЯ ПО УМОЛЧАНИЮ СЛЕДУЕТ ПОСЛЕ АРГУМЕНТА ПО УМОЛЧАНИЮ. Чтобы ее избежать, необходимо указывать аргументы по умолчанию только после обязательных."
   ]
  },
  {
   "cell_type": "markdown",
   "metadata": {},
   "source": [
    "### ОПАСНОСТЬ АРГУМЕНТОВ ПО УМОЛЧАНИЮ"
   ]
  },
  {
   "cell_type": "markdown",
   "metadata": {},
   "source": [
    "Использование аргументов по умолчанию призвано упростить жизнь разработчику. Но, к сожалению, их некорректное использование может приводить к крайне неожиданным последствиям.\n",
    "\n",
    "Создадим функцию, поведение которой будет неверным (и заодно повторим использование словарей).\n",
    "\n",
    "Функция add_mark будет записывать оценку студента в словарь. Словарь не требуется обязательно передавать в функцию: будем использовать пустой словарь в качестве аргумента по умолчанию (СЕЙЧАС БУДЕТ ПРИМЕР ТОГО, КАК ДЕЛАТЬ НЕ НАДО)\n",
    "\n",
    "Итак, получим функцию:"
   ]
  },
  {
   "cell_type": "code",
   "execution_count": 119,
   "metadata": {},
   "outputs": [],
   "source": [
    "# функция принимает обязательные аргументы ИМЯ, ОЦЕНКА. \n",
    "# Необязательным аргументом является ЖУРНАЛ ОЦЕНОК,\n",
    "#  который по умолчанию является пустым словарем.\n",
    "def add_mark(name,mark,journal={}):\n",
    "    # присваиваем имени в журнале переданную оценку\n",
    "    journal[name]=mark\n",
    "    return journal"
   ]
  },
  {
   "cell_type": "code",
   "execution_count": 120,
   "metadata": {},
   "outputs": [
    {
     "name": "stdout",
     "output_type": "stream",
     "text": [
      "{'Ivanov': 5, 'Tihonova': 4}\n"
     ]
    }
   ],
   "source": [
    "# создадим пустой словарь, в который будет сохранять оценки группы 1\n",
    "group1={}\n",
    "# добавим оценки двух студентов\n",
    "group1=add_mark(\"Ivanov\",5,group1)\n",
    "group1=add_mark(\"Tihonova\",4,group1)\n",
    "print(group1)\n"
   ]
  },
  {
   "cell_type": "markdown",
   "metadata": {},
   "source": [
    "Поведение функции выглядит именно так, как мы и задумывали: в новый журнал оценок (тип данных - словарь) добавляем оценки студентов, причем пустой журнал мы создали в основном скрипте, а не использовалт его из значения по умолчанию.\n",
    "\n",
    "А теперь не будем передавать пустой журнал изначально в качестве аргумента - он ведь и так создается по умолчанию:"
   ]
  },
  {
   "cell_type": "code",
   "execution_count": 121,
   "metadata": {},
   "outputs": [
    {
     "name": "stdout",
     "output_type": "stream",
     "text": [
      "{'Smirnov': 3}\n",
      "{'Smirnov': 3, 'Kuznetsova': 5}\n"
     ]
    }
   ],
   "source": [
    "# Добавим в журнал для новой группы оценку Смирнову.\n",
    "# Сам журнал не передаем в виде аргумента. \n",
    "# Пустой журнал будет использован как аргумент по умолчанию\n",
    "group2 = add_mark('Smirnov', 3)\n",
    "print(group2)\n",
    "# Будет напечатано:\n",
    "# {'Smirnov': 3}\n",
    "\n",
    "# аналогично для новой группы 3 добавим оценку Кузнецовой\n",
    "group3 = add_mark('Kuznetsova', 5)\n",
    "print(group3)\n",
    "# Будет напечатано:\n",
    "# {'Kuznetsova': 5}\n"
   ]
  },
  {
   "cell_type": "markdown",
   "metadata": {},
   "source": [
    "Очень неожиданно, не так ли? Мы думали, что по умолчанию используется пустоц словарь для группы 3, но в нем почеу-то уже оказались оценки для второй группы. Как же так?\n",
    "\n",
    "Дело в том, что пустой словарь был присвоен как новый объект аргументу journal только один раз: когда интерпретатор впервые прочитал объявление функции в коде. В аргументе journal по умолчанию теперь хранится указатель на созданный при прочтении функции словарь. В первый раз [group2 = add_mark('Смирнов', 3)] мы действительно воспользовались новым словарём. А вот при повторном использовании данного словаря в качестве аргумента по умолчанию [group3 = add_mark('Кузнецова', 5)], мы модифицировали уже созданный ранее словарь."
   ]
  },
  {
   "cell_type": "markdown",
   "metadata": {},
   "source": [
    "Звучит сложно, не правда ли?\n",
    "\n",
    "Если вы не поняли предыдущее объяснение, попробуйте осознать следующую иллюстрацию и сопоставить её с описанной выше проблемой.\n",
    "\n",
    "Допустим, в учебную часть пришел преподаватель и спросил, куда ставить оценки за экзамен, если в кабинете нет ведомости. Ему сказали, что новая ведомость лежит в третьем ящике стола у входа (то есть преподаватель получил указатель на пустую ведомость, узнал, где она должна храниться).\n",
    "\n",
    "Преподаватель пришёл на экзамен, ведомости не было, поэтому он взял ведомость из третьего ящика стола (перешёл по указателю), вписал туда оценки (изменил данный объект) и вернул ведомость на место.\n",
    "\n",
    "Этот же преподаватель пришёл принимать экзамен у ещё одной группы. Ведомость снова никто не принёс, но он помнит, что в таком случае необходимо использовать ведомость из третьего ящика стола (снова переходит по указателю). Преподаватель внёс в эту ведомость новые оценки и вернул её на место.\n",
    "\n",
    "Что же теперь записано в ведомости? Оценки обеих групп! Преподаватель только один раз получил указания, где брать ведомость, если её нет, и записывал оценки только в неё.\n",
    "\n",
    "То же самое происходит и с пустым словарём, который мы установили в виде аргумента по умолчанию: он был создан только 1 раз, а затем он только модифицировался функцией, а не создавался пустым заново."
   ]
  },
  {
   "cell_type": "markdown",
   "metadata": {},
   "source": [
    "Давайте  сделаем так, чтобы каждый раз при запуске функции без словаря все-таки создавался пустой словарь, а не использовался однажды созданный. Для этого изначально присвоим аргументу ЖУРНАЛ значение по умолчанию none и уже непосредственно в теле функции будем создавать пустой словарь, если ЖУРНАЛ является None:"
   ]
  },
  {
   "cell_type": "code",
   "execution_count": 122,
   "metadata": {},
   "outputs": [],
   "source": [
    "def add_mark (name, mark, journal=None):\n",
    "    # если журнал является None  запишем в журнал пустой словарь\n",
    "    if journal is None:\n",
    "        journal={}\n",
    "    journal[name]=mark\n",
    "    return"
   ]
  },
  {
   "cell_type": "markdown",
   "metadata": {},
   "source": [
    "сразу запустим фрагмент кода, который вызвал неожиданное поведение функции:"
   ]
  },
  {
   "cell_type": "code",
   "execution_count": 123,
   "metadata": {},
   "outputs": [
    {
     "name": "stdout",
     "output_type": "stream",
     "text": [
      "None\n",
      "None\n"
     ]
    }
   ],
   "source": [
    "group2 = add_mark('Smirnov', 3)\n",
    "print(group2)\n",
    "# Будет напечатано:\n",
    "# {'Smirnov': 3}\n",
    " \n",
    "group3 = add_mark('Kuznetsova', 5)\n",
    "print(group3)\n",
    "# Будет напечатано:\n",
    "# {'Kuznetsova': 5}"
   ]
  },
  {
   "cell_type": "markdown",
   "metadata": {},
   "source": [
    "Как видите, теперь все стало н свои места: оценки для новых групп теперь действительно записываются в новый словарь, а не добавляются в ранее созданный"
   ]
  },
  {
   "cell_type": "markdown",
   "metadata": {},
   "source": [
    "Теперь остается понять какие объекты н рекоментдуется использовать в качестве аргументов по умолчанию."
   ]
  },
  {
   "cell_type": "markdown",
   "metadata": {},
   "source": [
    "К сожалению, полностью осознать ответ на этот вопрос можно будет только после изучения объектно-ориентированного программирования, то есть через несколько модулей.\n",
    "\n",
    "Пока что вам стоит запомнить, что в качестве аргументов по умолчанию некорректно использовать изменяемые типы данных: списки, словари, множества… У всех из них есть собственные функции и методы, с помощью которых происходят изменения этих объектов (например, append, add и т. д.) непосредственно внутри объекта.\n",
    "\n",
    "В качестве аргументов по умолчанию точно можно использовать «простые» типы данных, которые не содержат в себе дополнительные значения, такие как int, float, str, bool, None."
   ]
  },
  {
   "cell_type": "markdown",
   "metadata": {},
   "source": [
    "Остальные типы данных, скорее всего, состоят из перечисленных ПРОСТЫХ и птому являются СЛОЖНЫМИ, например списки могут состоять из всех перечисленных выше ПРОСТЫХ элементов.\n",
    "\n",
    "Ввиду особенностей работы со СЛОЖНЫМИ типами данных, они являются изменяемыми, поэтому использование их в качестве аргументов по умолчанию нежелательно.\n",
    "\n",
    "Чтобы избежать ошибок, связанных с изменяемыми типами данных, исподьзуйте None в качестве значения аргумента по умолчанию и создавайте новый объект уже в теле функции, как это было сделано в примере выше."
   ]
  },
  {
   "cell_type": "markdown",
   "metadata": {},
   "source": [
    "✍ В этом юните вы:\n",
    "\n",
    "* узнали, что исключения — это полезный инструмент, с помощью которого можно указать пользователю, которым можете быть и вы сами, на допущенную ошибку в данных;\n",
    "* научились возвращать исключение в случае некорректных аргументов;\n",
    "* научились задавать аргументы по умолчанию и использовать их, чтобы не прописывать каждый раз часто повторяющиеся аргументы;\n",
    "* поняли, что аргументы по умолчанию необходимо использовать на практике с осторожностью, чтобы не возникали ошибки; вместо изменяемых типов данных в качестве аргумента по умолчанию необходимо использовать None."
   ]
  },
  {
   "cell_type": "markdown",
   "metadata": {},
   "source": [
    "Задание 3.3\n",
    "\n",
    "Выберите тип ошибки, которую принято возвращать, если в функцию переданы некорректные аргументы:\n",
    "* ZeroDivisionError\n",
    "* KeyError\n",
    "* ValueError  ВЕРНО\n",
    "* NameError\n",
    "\n",
    "Верно:В данном юните мы возвращали эту ошибку, чтобы сообщить, что аргументы некорректны."
   ]
  },
  {
   "cell_type": "code",
   "execution_count": null,
   "metadata": {},
   "outputs": [],
   "source": []
  },
  {
   "cell_type": "markdown",
   "metadata": {},
   "source": [
    "Задание 3.5 (External resource)\n",
    "\n",
    "Дана функция add_mark:\n",
    "\n",
    "\n",
    "def add_mark(name, mark, journal=None):\n",
    "   ` Добавьте здесь проверку аргумента mark\n",
    "   if journal is None:\n",
    "       journal = {}\n",
    "   journal[name] = mark\n",
    "   return journal\n",
    "Дополните её код таким образом, чтобы возникала ошибка ValueError с текстом \"Invalid Mark!\" при попытке поставить оценку не из списка: 2, 3, 4 или 5.\n",
    "\n",
    "Пример\n",
    "\n",
    "\n",
    "add_mark('Ivanov', 6)\n",
    "` ValueError: Invalid Mark!\n",
    "\n"
   ]
  },
  {
   "cell_type": "code",
   "execution_count": 124,
   "metadata": {},
   "outputs": [],
   "source": [
    "def add_mark(name, mark, journal=None):\n",
    "   if mark <2 or mark >5:\n",
    "        raise ValueError(\"Invalid Mark!\") \n",
    "   if journal is None:\n",
    "       journal = {}\n",
    "   journal[name] = mark\n",
    "   return journal"
   ]
  },
  {
   "cell_type": "markdown",
   "metadata": {},
   "source": [
    "# 4. Продвинутая передача аргументов"
   ]
  },
  {
   "cell_type": "markdown",
   "metadata": {},
   "source": [
    "✍ В предыдущем юните вы:\n",
    "\n",
    "* научились задавать аргументы по умолчанию;\n",
    "* узнали, что существуют изменяемые типы данных, которые нежелательно использовать в качестве аргументов по умолчанию;\n",
    "* научились проверять переданные аргументы на корректность и возвращать сообщение об ошибке, если переданы неправильные значения аргументов.\n",
    "Все полученные знания и умения из предыдущего раздела очень пригодятся в данном юните!\n",
    "\n",
    "✍ В этом юните вы:\n",
    "\n",
    "* научитесь передавать аргументы в функцию различными способами;\n",
    "* узнаете, что такое порядковые и именованные аргументы."
   ]
  },
  {
   "cell_type": "markdown",
   "metadata": {},
   "source": [
    "### СПОСОБЫ ПЕРЕДАЧИ АРГУМЕНТОВ В ПИТОН"
   ]
  },
  {
   "cell_type": "markdown",
   "metadata": {},
   "source": [
    "В предыдущем юните мы создали функцию root , которую вы затем доработали, чтобы она автоматически считала квадратный корень. Вот она:"
   ]
  },
  {
   "cell_type": "code",
   "execution_count": 125,
   "metadata": {},
   "outputs": [],
   "source": [
    "def root(value, n=2):\n",
    "    result = value ** (1/n)\n",
    "    return result"
   ]
  },
  {
   "cell_type": "markdown",
   "metadata": {},
   "source": [
    "Эта функция написана так, что она возвращает результат в исходный код основного скипта. Давайте сделаем ее более разговорчивой: пусть функция печатает на экран, какие действия она выполнила, если мы укажем ей в качестве парметра слово VERBOSE со значением True. Чаще всего такой функционал будет излишним, поэтому зададим этому параметру значение по умолчанию False. Получим такую функцию:"
   ]
  },
  {
   "cell_type": "code",
   "execution_count": 126,
   "metadata": {},
   "outputs": [],
   "source": [
    "def root(value, n=2, verbose=False):\n",
    "    result = value ** (1/n)\n",
    "    if verbose:\n",
    "        # Аргументы в функции print,\n",
    "        # перечисленные через запятую,\n",
    "        # печатаются через пробел\n",
    "        print('Root of power', n, 'from',\n",
    "            value, 'equals', result)\n",
    "    return result\n",
    "\n"
   ]
  },
  {
   "cell_type": "markdown",
   "metadata": {},
   "source": [
    "Теперь давайте запустим новую функцию различными способами. Будем по порядку передавать в нее аргументы, которые функция ожидает получить (такие аргументы назовем порядковыми):"
   ]
  },
  {
   "cell_type": "code",
   "execution_count": 127,
   "metadata": {},
   "outputs": [
    {
     "name": "stdout",
     "output_type": "stream",
     "text": [
      "5.0\n",
      "3.0\n",
      "Root of power 3 from 27 equals 3.0\n",
      "3.0\n"
     ]
    }
   ],
   "source": [
    "# посчитаем корень из 25 с аргументами по умолчанию\n",
    "print(root(25))\n",
    "# посчитаем кубический корень из 27 с verbose по умолчанию\n",
    "print(root(27,3))\n",
    "# посчитаем кубический корень из 27 с verbose = True\n",
    "print(root(27,3, True))\n"
   ]
  },
  {
   "cell_type": "markdown",
   "metadata": {},
   "source": [
    "Поведение фукции выглядит совершенно ожидаемым: когда мы передали аргумент verbose=True , функция подробно напечатала результат выполнения.\n",
    "\n",
    "А что делать, если мы хотим поменять только аргумент verbose, а степень корня оставить по умолчанию?\n",
    "\n",
    "Достаточно при передачи аргументов указать название того параметра, которому мы хотим присвоить значение, и передать это значение через = (равно) вот так:\n"
   ]
  },
  {
   "cell_type": "code",
   "execution_count": 128,
   "metadata": {},
   "outputs": [
    {
     "name": "stdout",
     "output_type": "stream",
     "text": [
      "Root of power 2 from 81 equals 9.0\n",
      "9.0\n"
     ]
    }
   ],
   "source": [
    "print(root(81, verbose= True))"
   ]
  },
  {
   "cell_type": "markdown",
   "metadata": {},
   "source": [
    "Только что мы применили второй способ передвчи аргументов - по ключевым словам. Такие аргументы называются именоваными, поскольку мы можем написать имя аргумента и присвоить ему значение.\n",
    "\n",
    "на самом деле, мы сейчас использовали оба способа передачи аргументов:по порядку, так как функция root ожидает на первом месте получить аргумент value, и по ключевым словам.\n",
    "\n",
    "теперь необходимо уточнить в каком порядке необходимо сочетать порядковые и именованные аргументы.\n",
    "\n",
    "Посмотрим, что будет, если передать в функуию сначала именованные аргументы а потом только порядковые"
   ]
  },
  {
   "cell_type": "code",
   "execution_count": 129,
   "metadata": {},
   "outputs": [],
   "source": [
    "# print(root(verbose=True, 25))\n",
    "# Будет напечатано:\n",
    "# SyntaxError: positional argument follows keyword argument"
   ]
  },
  {
   "cell_type": "markdown",
   "metadata": {},
   "source": [
    "Интерпритатор сообщил нам об ошибке. Ее текст переводится так: СИНТАКСИЧЕСКАЯ ОШИБКА: ПОЗИЦИОННЫЙ АРГУМЕНТ СЛЕДУЕТ ПОСЛЕ ИМЕНОВАННОГО АРГУМЕНТА "
   ]
  },
  {
   "cell_type": "markdown",
   "metadata": {},
   "source": [
    "Можно ли менять местами именованные аргументы? \n",
    "\n",
    "Да, можно. Давайте так и сделаем:"
   ]
  },
  {
   "cell_type": "code",
   "execution_count": 130,
   "metadata": {},
   "outputs": [
    {
     "name": "stdout",
     "output_type": "stream",
     "text": [
      "Root of power 4 from 81 equals 3.0\n",
      "3.0\n"
     ]
    }
   ],
   "source": [
    "# Подробно считаем корень степени 4 из 81\n",
    "print(root(81, verbose=True, n=4))\n",
    "# Будет напечатано:\n",
    "# Root of power 4 from 81 equals 3.0\n",
    "# 3.0"
   ]
  },
  {
   "cell_type": "markdown",
   "metadata": {},
   "source": [
    "Как видите, порядок именованных аргументов никак не повлиял на работу программы.\n",
    "\n",
    "Есть небольшое исключение: можно записать порядковый аргумент после именованных, но для этого необходимо подать его в виде именованного - с помощью знака РАВНО. Вот так:"
   ]
  },
  {
   "cell_type": "code",
   "execution_count": 131,
   "metadata": {},
   "outputs": [
    {
     "name": "stdout",
     "output_type": "stream",
     "text": [
      "Root of power 4 from 81 equals 3.0\n",
      "3.0\n"
     ]
    }
   ],
   "source": [
    "# Написали value=81 после именованных:\n",
    "print(root(verbose=True, n=4, value=81))\n",
    "# Будет напечатано:\n",
    "# Root of power 4 from 81 equals 3.0\n",
    "# 3.0"
   ]
  },
  {
   "cell_type": "markdown",
   "metadata": {},
   "source": [
    "### Аргументы по умолчанию в функции print"
   ]
  },
  {
   "cell_type": "markdown",
   "metadata": {},
   "source": [
    "Функция print, с которой вы познакомились в самом начале курса, на самом деле имеет множество дополнительных параметров, которыми бывает удобно пользоваться. Да, достаточно написать print(\"Hello world!\") и сразу получить результат выполнения первой программы, но можно передать в функцию дополнительные именованные аргументы и изменить вывод\n",
    "\n",
    "удобно использовать следующие аргументы:\n",
    "\n",
    "#### sep  \n",
    "\n",
    "Этот аргумент задает строку, которая будет разделять позиционные аргументы переданные на печать (по умолчанию это пробел)\n",
    "\n",
    "например, мы хотим напечатать три числа. Их можно сразу передать в print через запятую вот так: "
   ]
  },
  {
   "cell_type": "code",
   "execution_count": 132,
   "metadata": {},
   "outputs": [
    {
     "name": "stdout",
     "output_type": "stream",
     "text": [
      "25 125 625\n"
     ]
    }
   ],
   "source": [
    "print(25, 125, 625)\n",
    "# Будет напечатано:\n",
    "# 25 125 625"
   ]
  },
  {
   "cell_type": "markdown",
   "metadata": {},
   "source": [
    "Но по умолчанию числа будут напечатаны через пробел. Давайте добавим параметр: "
   ]
  },
  {
   "cell_type": "code",
   "execution_count": 133,
   "metadata": {},
   "outputs": [
    {
     "name": "stdout",
     "output_type": "stream",
     "text": [
      "25, 125, 625\n"
     ]
    }
   ],
   "source": [
    "print(25, 125, 625, sep=', ')\n",
    "# Будет напечатано:\n",
    "# 25, 125, 625"
   ]
  },
  {
   "cell_type": "markdown",
   "metadata": {},
   "source": [
    "##### end\n",
    "\n",
    "Этот аргумент задает символ, которым заканчивается печатаемая строка (по умолчанию это перенос на новую строку - символ `/n` )\n",
    "\n",
    "Давайте напечатаем список покупок:"
   ]
  },
  {
   "cell_type": "code",
   "execution_count": 134,
   "metadata": {},
   "outputs": [
    {
     "name": "stdout",
     "output_type": "stream",
     "text": [
      "Shopping list:\n",
      "bread butter eggs\n"
     ]
    }
   ],
   "source": [
    "print(\"Shopping list:\")\n",
    "print(\"bread\", \"butter\", \"eggs\")\n",
    "# Будет напечатано:\n",
    "# Shopping list:\n",
    "# bread butter eggs"
   ]
  },
  {
   "cell_type": "markdown",
   "metadata": {},
   "source": [
    "Мы напечатали фразу СПИСОК ПОКУПОК  на одной строке, а сами продукты - на строке ниже. Теперь же не будем переносить названия продуетов на новую строку, а поставим в конце строки пробел с помощью `end=' '`"
   ]
  },
  {
   "cell_type": "code",
   "execution_count": 135,
   "metadata": {},
   "outputs": [
    {
     "name": "stdout",
     "output_type": "stream",
     "text": [
      "Shopping list: bread butter eggs\n"
     ]
    }
   ],
   "source": [
    "print(\"Shopping list:\", end=' ')\n",
    "print(\"bread\", \"butter\", \"eggs\")\n",
    "# Будет напечатано:\n",
    "# Shopping list: bread butter eggs"
   ]
  },
  {
   "cell_type": "markdown",
   "metadata": {},
   "source": [
    "Теперь мы напечатали текст в одну строку."
   ]
  },
  {
   "cell_type": "markdown",
   "metadata": {},
   "source": [
    "Задание 4.1 (на самопроверку)\n",
    "\n",
    "Сделайте так, чтобы покупки из предыдущего примера со списком выводились через запятую."
   ]
  },
  {
   "cell_type": "code",
   "execution_count": 136,
   "metadata": {},
   "outputs": [
    {
     "name": "stdout",
     "output_type": "stream",
     "text": [
      "Shopping list: bread, butter, eggs\n"
     ]
    }
   ],
   "source": [
    "print(\"Shopping list:\", end=' ')\n",
    "print(\"bread\", \"butter\", \"eggs\", sep=', ')"
   ]
  },
  {
   "cell_type": "code",
   "execution_count": 137,
   "metadata": {},
   "outputs": [
    {
     "name": "stdout",
     "output_type": "stream",
     "text": [
      "12***125***500\n"
     ]
    }
   ],
   "source": [
    "print(12,125,500, sep='***')"
   ]
  },
  {
   "cell_type": "markdown",
   "metadata": {},
   "source": [
    "# 5. Продвинутая обработка аргументов"
   ]
  },
  {
   "cell_type": "markdown",
   "metadata": {},
   "source": [
    "В предыдущем юните вы научились передавать аргументы в функцию в провильном порядке: вначале необходимо передать порядковые аргументы, а затем именованные.\n",
    "\n",
    "В этом юните вы научитесь обрабатывать неизвестное заранее число аргументов, а также использовать функцию print на продвинутом уровне! "
   ]
  },
  {
   "cell_type": "markdown",
   "metadata": {},
   "source": [
    "### ОБРАБОТКА НЕИЗВЕСТНОГО ЗАРАНЕЕ ЧИСЛА АРГУМЕНТОВ В ПИТОН"
   ]
  },
  {
   "cell_type": "markdown",
   "metadata": {},
   "source": [
    "Как же функция print понимает, сколько аргументов ей передали н печать? \n",
    "\n",
    "Сейчас мы напишем функцию,которая принимает неизвестное заранее число аргументов для обработки, чтобы вы тоже научились создавать подобные функции. \n",
    "\n",
    "Пусть функция mean принимает на вход неограниченно колличество чисел через запятую, а в конце возвращает их среднее значение. Она выглядит так:\n"
   ]
  },
  {
   "cell_type": "code",
   "execution_count": 138,
   "metadata": {},
   "outputs": [
    {
     "name": "stdout",
     "output_type": "stream",
     "text": [
      "4.0\n"
     ]
    }
   ],
   "source": [
    "# В массив args будут записаны все переданные\n",
    "# порядковые аргументы\n",
    "def mean(*args):\n",
    "    # Среднее значение — это сумма всех значений,\n",
    "    # делённая на число этих значений\n",
    "    # Функция sum — встроенная, она возвращает\n",
    "    # сумму чисел\n",
    "    result = sum(args) / len(args)\n",
    "    return result\n",
    " \n",
    "# Передадим аргументы в функцию через запятую,\n",
    "# чтобы посчитать их среднее\n",
    "print(mean(5,4,4,3))\n",
    "# Будет напечатано\n",
    "# 4.0"
   ]
  },
  {
   "cell_type": "markdown",
   "metadata": {},
   "source": [
    "Только что вы увидели в аргументах запись *args. Здесь *- это не символ умножения, а оператор распаковки (он показывает интерпритатору, что тот должен ожидать не один порядковый аргумент, а несколько). Все порядковые аргументы будут записаны в переменную args. Args - это принятое в ПИТОН обозначение для порядковых аргументов, однако можно называть эту переменную любым другим подходящим образом. Например, конкретно для функции mean логично переименовать переменную args в number "
   ]
  },
  {
   "cell_type": "code",
   "execution_count": 139,
   "metadata": {},
   "outputs": [
    {
     "name": "stdout",
     "output_type": "stream",
     "text": [
      "4.0\n"
     ]
    }
   ],
   "source": [
    "def mean (*numbers):\n",
    "    result=sum(numbers)/len(numbers)\n",
    "    return result\n",
    "print(mean(5,4,4,3))\n",
    "# Будет напечатано\n",
    "# 4.0"
   ]
  },
  {
   "cell_type": "markdown",
   "metadata": {},
   "source": [
    "Как видите, от переименования аргумента поведение функции не изменилось и ошибки не возникло.\n",
    "\n",
    "Какой же тип данных скрывается за объектом numbers в теле функции?\n",
    "\n",
    "\n",
    "\n"
   ]
  },
  {
   "cell_type": "markdown",
   "metadata": {},
   "source": [
    "Это кортеж (tuple)"
   ]
  },
  {
   "cell_type": "code",
   "execution_count": 140,
   "metadata": {},
   "outputs": [
    {
     "name": "stdout",
     "output_type": "stream",
     "text": [
      "True\n",
      "(5, 4, 4, 3)\n",
      "4.0\n"
     ]
    }
   ],
   "source": [
    "def mean (*numbers):\n",
    "    # С помощью встроенной функции isinstance\n",
    "    # проверим, что numbers — это tuple\n",
    "    print (isinstance(numbers,tuple))\n",
    "    # напечатаем содержимое объекта numbers\n",
    "    print(numbers)\n",
    "    result=sum(numbers)/len(numbers)\n",
    "    return result\n",
    "print(mean(5,4,4,3))\n",
    "# Будет напечатано\n",
    "# True\n",
    "# (5, 4, 4, 3)\n",
    "# 4.0"
   ]
  },
  {
   "cell_type": "markdown",
   "metadata": {},
   "source": [
    "Необязательно записывать все порядковые аргументы через *args. Пусть функция mean_mark теперь печатает среднюю оценку для конкретного студента:"
   ]
  },
  {
   "cell_type": "code",
   "execution_count": 141,
   "metadata": {},
   "outputs": [
    {
     "name": "stdout",
     "output_type": "stream",
     "text": [
      "Ivanov: 4.75\n",
      "Petrov: 4.25\n"
     ]
    }
   ],
   "source": [
    "# В качестве первого аргумента принимаем фамилию студента, а затем уже его оценки через запятую\n",
    "def mean_mark(name,*marks):\n",
    "    result=sum(marks)/len(marks)\n",
    "    # не возвращаем результат, а печатаем его\n",
    "    print(name+':', result)\n",
    "\n",
    "mean_mark(\"Ivanov\",5,5,5,4)\n",
    "mean_mark(\"Petrov\",5,3,5,4)\n",
    "# Будет напечатано:\n",
    "# Ivanov: 4.75\n",
    "# Petrov: 4.25"
   ]
  },
  {
   "cell_type": "markdown",
   "metadata": {},
   "source": [
    "Как видите, первый аргумент мы заняли под строковое значение - имя студента, а дальнейшие аргументы записали уже в marks."
   ]
  },
  {
   "cell_type": "markdown",
   "metadata": {},
   "source": [
    "**После аргументов, записанных через *args, не могут идти другие порядковые аргументы:**"
   ]
  },
  {
   "cell_type": "code",
   "execution_count": 142,
   "metadata": {},
   "outputs": [],
   "source": [
    "# поменяем местами *marks, name\n",
    "def mean_mark_wrong(*marks,name):\n",
    "    result=sum(marks)/len(marks)\n",
    "    print(name+':', result)\n",
    "\n",
    "#mean_mark_wrong(5,5,5,4,\"Ivanov\")\n",
    "\n",
    "# Будет напечатано:\n",
    "# TypeError: mean_mark_wrong() missing 1 required keyword-only argument: 'name'"
   ]
  },
  {
   "cell_type": "markdown",
   "metadata": {},
   "source": [
    "Возникла ошибка. Она переводится так: *ОШИБКА ТИПОВ: В ФУНКЦИИ mean_mark_wrong ОТСУТСТВУЕТ ОДИН ОБЯЗАТЕЛЬНЫЙ АРГУМЕНТ name, КОТОРЫЙ МОЖНО ПЕРЕДАТЬ ЧЕРЕЗ КЛЮЧЕВЫЕ СЛОВА*. Это означает, что аргумент name автоматически стал именованным. К тому же он является обязательным, поскольку не имеет значения по умолчанию.\n",
    "\n",
    "Передать фамилию студента при таком порядке аргументов можно только вот так:"
   ]
  },
  {
   "cell_type": "code",
   "execution_count": 143,
   "metadata": {},
   "outputs": [
    {
     "name": "stdout",
     "output_type": "stream",
     "text": [
      "Ivanov: 4.75\n"
     ]
    }
   ],
   "source": [
    "# воспользуемся названием name, чтобы передать фамилию в этот аргумент\n",
    "mean_mark_wrong(5,5,5,4,name=\"Ivanov\")\n",
    "# Будет напечатано:\n",
    "# Ivanov: 4.75\n"
   ]
  },
  {
   "cell_type": "markdown",
   "metadata": {},
   "source": [
    "Теперь функция сработала без ошибок, однако аргумент name стал именованным.\n",
    "\n",
    "Необходимо запомнить, что все аргументы с оператором *, считаются именованными"
   ]
  },
  {
   "cell_type": "markdown",
   "metadata": {},
   "source": [
    "Задание 5.1 (External resource)\n",
    "\n",
    "Напишите функцию mult, которая считает произведение переданных в неё чисел через запятую.\n",
    "\n",
    "Примечание. Посчитайте результат с использованием цикла for.\n",
    "\n",
    "Пример:\n",
    "\n",
    "\n",
    "print(mult(3,5,10))\n",
    "\n",
    "Должно быть напечатано:\n",
    "\n",
    "150"
   ]
  },
  {
   "cell_type": "code",
   "execution_count": 144,
   "metadata": {},
   "outputs": [
    {
     "name": "stdout",
     "output_type": "stream",
     "text": [
      "150\n"
     ]
    }
   ],
   "source": [
    "def mult(*args):\n",
    "    result=1\n",
    "    for num in args:\n",
    "        result=result*num\n",
    "    return result\n",
    "print(mult(3,5,10))\n"
   ]
  },
  {
   "cell_type": "markdown",
   "metadata": {},
   "source": [
    "Оператор распаковки * можно импользовать и для передачи значений из списка в функцию.\n",
    "\n",
    "Рассмотрим эту возможность на примере функции print. У нас есть список:"
   ]
  },
  {
   "cell_type": "code",
   "execution_count": 145,
   "metadata": {},
   "outputs": [],
   "source": [
    "langs=['Python', 'SQL', 'Machine Learning', 'Statistics']"
   ]
  },
  {
   "cell_type": "markdown",
   "metadata": {},
   "source": [
    "Напечатаем его разными способами. Самый простой:"
   ]
  },
  {
   "cell_type": "code",
   "execution_count": 146,
   "metadata": {},
   "outputs": [
    {
     "name": "stdout",
     "output_type": "stream",
     "text": [
      "['Python', 'SQL', 'Machine Learning', 'Statistics']\n"
     ]
    }
   ],
   "source": [
    "print(langs)\n",
    "\n",
    "# Будет напечатано:\n",
    "# ['Python', 'SQL', 'Machine Learning', 'Statistics']"
   ]
  },
  {
   "cell_type": "markdown",
   "metadata": {},
   "source": [
    "В данном случае список был напечатан с характерными для него квадратными скобками на границах и кавычками у строк. Так список превращается в строку по умолчанию.\n",
    "\n",
    "Чтобы напечатать слова в списке langs через пробел, достаточно в функции print перед langs поставить * как оператор распаковки:"
   ]
  },
  {
   "cell_type": "code",
   "execution_count": 147,
   "metadata": {},
   "outputs": [
    {
     "name": "stdout",
     "output_type": "stream",
     "text": [
      "Python SQL Machine Learning Statistics\n"
     ]
    }
   ],
   "source": [
    "print(*langs)\n",
    "\n",
    "# Будет напечатано:\n",
    "# Python SQL Machine Learning Statistics"
   ]
  },
  {
   "cell_type": "markdown",
   "metadata": {},
   "source": [
    "Получается, что теперь функция print получила аргумент уже не в виде списка, а в виде перечисленных в функции нескольких порядковых аргументов.\n",
    "\n",
    "Оператор * удобно использовать для печати списков в более читабельном виде."
   ]
  },
  {
   "cell_type": "markdown",
   "metadata": {},
   "source": [
    "Задание 5.2 (на самопроверку)\n",
    "\n",
    "Напечатайте список langs с использованием *, как в примере выше, но через запятую с пробелом.\n",
    "\n",
    "Должно быть напечатано:\n",
    "\n",
    "Python, SQL, Machine Learning, Statistics"
   ]
  },
  {
   "cell_type": "code",
   "execution_count": 148,
   "metadata": {},
   "outputs": [
    {
     "name": "stdout",
     "output_type": "stream",
     "text": [
      "Python, SQL, Machine Learning, Statistics\n"
     ]
    }
   ],
   "source": [
    "print(*langs, sep=', ')"
   ]
  },
  {
   "cell_type": "markdown",
   "metadata": {},
   "source": [
    "Задание 5.3 (на самопроверку)\n",
    "\n",
    "Создайте список оценок студента:\n",
    "\n",
    "marks = [4,5,5,5,5,3,4,4,5,4,5]\n",
    "\n",
    "Передайте в функцию mean_mark, которая была создана в начале данного подраздела юнита, этот список, а также фамилию студента Kuznetsov с помощью оператора распаковки.\n",
    "\n",
    "Функция mean_mark продублирована:\n",
    "\n",
    "def mean_mark(name, *marks):\n",
    "\n",
    "    result = sum(marks) / len(marks)\n",
    "\n",
    "    # Не возвращаем результат, а печатаем его\n",
    "\n",
    "    print(name+':', result)\n",
    "\n",
    "\n",
    "Пример:\n",
    "\n",
    "Должно быть напечатано:\n",
    "\n",
    "Kuznetsov: 4.454545454545454"
   ]
  },
  {
   "cell_type": "code",
   "execution_count": 149,
   "metadata": {},
   "outputs": [
    {
     "name": "stdout",
     "output_type": "stream",
     "text": [
      "Kuznetsov: 4.454545454545454\n"
     ]
    }
   ],
   "source": [
    "marks = [4,5,5,5,5,3,4,4,5,4,5]\n",
    "def mean_mark(name, *marks):\n",
    "    result = sum(marks) / len(marks)\n",
    "    # Не возвращаем результат, а печатаем его\n",
    "    print(name+':', result)\n",
    "\n",
    "mean_mark(\"Kuznetsov\",*marks)\n"
   ]
  },
  {
   "cell_type": "code",
   "execution_count": 150,
   "metadata": {},
   "outputs": [
    {
     "name": "stdout",
     "output_type": "stream",
     "text": [
      "Kuznetsov: 4.454545454545454\n"
     ]
    }
   ],
   "source": [
    "marks = [4,5,5,5,5,3,4,4,5,4,5]\n",
    "def mean_mark(*marks, name,):\n",
    "    result = sum(marks) / len(marks)\n",
    "    # Не возвращаем результат, а печатаем его\n",
    "    print(name+':', result)\n",
    "\n",
    "mean_mark(*marks, name=\"Kuznetsov\")"
   ]
  },
  {
   "cell_type": "markdown",
   "metadata": {},
   "source": [
    "Только что мы разобрались с передачей переменного числа порядковых аргументов.\n",
    "\n",
    "Оказывается, можно передавать разное число именованных аргументов с помощью еще одного оператора распакавки - двух звездочек подряд (**)\n",
    "\n",
    "Переменная kwargs -стандартное название для совокупности именованных аргументов в ПИТОН (keyword arguments - именованные аргументы)\n",
    "\n",
    "Однако вместо kwargs можно использовать любое другое адекватное название переменной.\n",
    "\n",
    "Напишем функцию schedule, которая будет печатать расписание по дням. Для начала узнаем, что будет храниться в переменной kwargs после использования оператора **:"
   ]
  },
  {
   "cell_type": "code",
   "execution_count": 151,
   "metadata": {},
   "outputs": [
    {
     "name": "stdout",
     "output_type": "stream",
     "text": [
      "True\n",
      "{'monday': 'Python', 'tuesday': 'SQL', 'friday': 'ML'}\n"
     ]
    }
   ],
   "source": [
    "# В переменную kwargs будут записаны все именованые аргументы\n",
    "def schedule (** kwargs):\n",
    "    # kwargs -это словарь, проверим его с помощью isinstance\n",
    "    print(isinstance(kwargs,dict))\n",
    "    # напечатаем объект kwargs\n",
    "    print(kwargs)\n",
    "schedule(monday='Python', tuesday='SQL', friday='ML')\n",
    "# Будет напечатано:\n",
    "# True\n",
    "# {'monday': 'Python', 'tuesday': 'SQL', 'friday': 'ML'}\n"
   ]
  },
  {
   "cell_type": "markdown",
   "metadata": {},
   "source": [
    "Итак, kwargs является словарем, в котором ключами являются имена аргументов, а значениями- пераданные аргументам значения.\n",
    "\n",
    "Следует понимать, что все-таки изначально в функцию передается не словарь: те объекты, которые могли бы быть ключами словаря (например, числа), при передаче в качестве аргумента вызовут ошибку:"
   ]
  },
  {
   "cell_type": "code",
   "execution_count": 152,
   "metadata": {},
   "outputs": [],
   "source": [
    "# schedule(monday='Python', tuesday='SQL', 5='ML')\n",
    "# Будет напечатано:\n",
    "# SyntaxError: keyword can't be an expression"
   ]
  },
  {
   "cell_type": "markdown",
   "metadata": {},
   "source": [
    "Эта ошибка переводится так: \"синтаксическая ошибка: ключевое слово не может быть выражением\". То есть ключевое слово должно удовлетворять тем же требованиям, что и переменные.\n",
    "\n",
    "Обращаться к значениям в kwargs можно так же, как и к значениям в обычном словаре. Расширим функцию schudule так чтобы она печатала более презентабельно переданные значения:"
   ]
  },
  {
   "cell_type": "code",
   "execution_count": 153,
   "metadata": {},
   "outputs": [
    {
     "name": "stdout",
     "output_type": "stream",
     "text": [
      "Week schedule:\n",
      "monday - Python\n",
      "tuesday - SQL\n",
      "friday - ML\n"
     ]
    }
   ],
   "source": [
    "def schedule(**kwargs):\n",
    "    print('Week schedule:')\n",
    "    for key in kwargs:\n",
    "        print(key, kwargs[key],sep=\" - \")\n",
    "        \n",
    "schedule(monday='Python', tuesday='SQL', friday='ML')\n",
    "\n",
    "# Будет напечатано:\n",
    "# Week schedule:\n",
    "# monday — Python\n",
    "# tuesday — SQL\n",
    "# friday — ML"
   ]
  },
  {
   "cell_type": "markdown",
   "metadata": {},
   "source": [
    "С помощью оператора ** можно передавать в функцию несколько аргументов. Он используется для передачи именованных аргументов с помощью словаря, который в дальнейшем будет распакован. Кроме того, оператор ** является оператором распаковки, только для словарей. Ключами словаря выступают названия аргументов, а значениями - те значения аргументов, которые должны быть им присвоены."
   ]
  },
  {
   "cell_type": "markdown",
   "metadata": {},
   "source": [
    "Создадим словарь lessons (уроки) и передадим его в функцию schedule, описанную выше:"
   ]
  },
  {
   "cell_type": "code",
   "execution_count": 154,
   "metadata": {},
   "outputs": [
    {
     "name": "stdout",
     "output_type": "stream",
     "text": [
      "Week schedule:\n",
      "Wednesday - Maths\n",
      "Thursday - SQL\n",
      "Friday - Statistics\n"
     ]
    }
   ],
   "source": [
    "lessons = {\n",
    "    'Wednesday': 'Maths',\n",
    "    'Thursday': 'SQL',\n",
    "    'Friday': 'Statistics'\n",
    "}\n",
    "# используем оператор ** для распаковки словаря в набор значений именованных аргументов\n",
    "schedule(**lessons)\n",
    "# Будет напечатано:\n",
    "# Week schedule:\n",
    "# Wednesday — Maths\n",
    "# Thursday — SQL\n",
    "# Friday — Statistics"
   ]
  },
  {
   "cell_type": "markdown",
   "metadata": {},
   "source": [
    "Принцип совместного использования *args  и **kwargs логично вытекает из принципа перечисления аргументов: сначала - порядковые, затем- именованные.\n",
    "\n",
    "Вот функция, которая просто печатает все переданные в нее аргументы:"
   ]
  },
  {
   "cell_type": "code",
   "execution_count": 155,
   "metadata": {},
   "outputs": [
    {
     "name": "stdout",
     "output_type": "stream",
     "text": [
      "(1, 4, 5, 7)\n",
      "{'name': 'Ivanov', 'age': 19, 'city': 'Moscow'}\n"
     ]
    }
   ],
   "source": [
    "def print_args(*args, **kwargs):\n",
    "    print(args)\n",
    "    print(kwargs)\n",
    " \n",
    "print_args(1,4,5,7, name='Ivanov', age=19, city='Moscow')\n",
    "# Будет напечатано:\n",
    "# (1, 4, 5, 7)\n",
    "# {'name': 'Ivanov', 'age': 19, 'city': 'Moscow'}"
   ]
  },
  {
   "cell_type": "markdown",
   "metadata": {},
   "source": [
    "Если поменять местами * и ** то возникнет ошибка:"
   ]
  },
  {
   "cell_type": "code",
   "execution_count": 156,
   "metadata": {},
   "outputs": [],
   "source": [
    "#def print_args_wrong(**kwargs, *args):\n",
    "#     print(args)\n",
    "#     print(kwargs)\n",
    " \n",
    "# print_args_wrong(1,4,5,7, name='Ivanov', age=19, city='Moscow')\n",
    "# # Будет напечатано:\n",
    "# # SyntaxError: invalid syntax\n",
    "# # Синтаксическая ошибка: неверный синтаксис"
   ]
  },
  {
   "cell_type": "markdown",
   "metadata": {},
   "source": [
    "Также в функцию можно передавать и порядковые, и именованные аргументы через операторы распаковки.\n",
    "\n",
    "Напечатем три списка с помощью print : значения внутри списка разделим запятой, а сами списки - точкой с зарятой. Для этого один раз создадим словарь how, в котором будут храниться значения присваиваемые в дальнейшем аргументам sep и end.\n",
    "\n",
    "Когда мы распакаем словарь в print , поведение функции будет аналогично тому, что мы бы получили при использовании функции print в виде:"
   ]
  },
  {
   "cell_type": "code",
   "execution_count": 157,
   "metadata": {},
   "outputs": [
    {
     "name": "stdout",
     "output_type": "stream",
     "text": [
      "1, 4, 6, 8; 12, 45, 56, 190, 111; Python, Functions; "
     ]
    }
   ],
   "source": [
    "list1 = [1,4,6,8]\n",
    "list2 = [12, 45, 56, 190, 111]\n",
    "list3 = ['Python', 'Functions']\n",
    "\n",
    "# Один раз запишем в словарь параметры для печати\n",
    "# через print: разделитель — запятая,\n",
    "# окончание строки — точка с запятой\n",
    "how = {'sep': ', ', 'end': '; '}\n",
    " \n",
    "# Распаковываем и список, и словарь how\n",
    "print(*list1, **how)\n",
    "print(*list2, **how)\n",
    "print(*list3, **how)\n",
    " \n",
    "#Будет напечатано:\n",
    "# 1, 4, 6, 8; 12, 45, 56, 190, 111; Python, Functions;"
   ]
  },
  {
   "cell_type": "markdown",
   "metadata": {},
   "source": [
    "В этом юните вы научились:\n",
    "* обрабатывать в функции переменное число как порядковых, так и именованых аргументов с помощью операторов аспаковки * и **;\n",
    "* передавать переменное число аргументов из списков и словарей с помощью * и **;\n",
    "* использовать дополнительные возможности print, такие как печать элементов списка, изменение разделителя через аргумент sep  и символа оконания строки через and"
   ]
  },
  {
   "cell_type": "markdown",
   "metadata": {},
   "source": [
    "Задание 5.4\n",
    "\n",
    "\n",
    "Выберите верные утверждения:\n",
    "\n",
    "* A Сначала необходимо передавать порядковые аргументы, а затем — именованные\n",
    "* B При передаче именованных аргументов в словарь **kwargs допустимо использовать математические выражения в названии аргументов\n",
    "* C Оператор * может использоваться как для распаковки аргументов из списка в несколько порядковых, так и для обработки функцией сразу нескольких порядковых аргументов в виде одного кортежа\n",
    "* D Оператор * перед названием списка используется для перемножения элементов в списке\n",
    "* E С объектом kwargs, который функция получает с помощью **kwargs, можно совершать те же действия, что и со списком\n",
    "\n",
    "Верно:\n",
    "* A Иначе возникает синтаксическая ошибка.\n",
    "* C Поведение оператора зависит от контекста, в котором он применяется.\n",
    "\n",
    "\n",
    "Задание 5.5\n",
    "\n",
    "Что напечатает код, приведённый ниже?\n",
    "\n",
    "print(sep=', ', end=';', [12, 23, 45])\n",
    "\n",
    "* 12, 23, 45;\n",
    "* [12, 23, 45];\n",
    "* sep=', ', end=';', [12, 23, 45]\n",
    "* Возникнет ошибка, так как порядковый аргумент указан после именованных = ВЕРНО\n",
    "\n",
    "Верно:Следовало указать список для печати до именованных аргументов.\n"
   ]
  },
  {
   "cell_type": "markdown",
   "metadata": {},
   "source": [
    "# 6. Lambda-функции"
   ]
  },
  {
   "cell_type": "markdown",
   "metadata": {},
   "source": [
    "В предыдущем юните вы научились передавать в функцию динамическое число аргументов с помощью операторов распаковки * и **. Оператор * используется для передачи порядковых аргументов, а ** - для передачи именованых.\n",
    "\n",
    "Возможно вы заметили что часть функций, которае мы создавали ранее, были предельно простыми: функция принимала один или несколько аргументов, в одно действие получала результат и сразу же возвращала полученный результат в исходный код. В таких случаях иногда бывает удобнее записать функцию особым образом, чтобы не прописывать def, круглые скобки, двоеточие и оператор return в конце.\n",
    "\n",
    "В этом юните вы узнаете: \n",
    "* как создавать функции с упращенным синтаксисом -lambda-функции;\n",
    "* какие преимущества и недостатки имеют такие функции;\n",
    "* в каких случаях и каким образом удобнее применять ЛАМБДА ФЦНКЦИИ на практике\n",
    "\n",
    "Итак, в ПИТОН есть особый класс временных или анонимных функций- ЛАМБДА функций. Он позволяет быстро создавать короткие однострочные функции, для которых нет необходимости прописывать целиком сигнатуру и оператор return."
   ]
  },
  {
   "cell_type": "markdown",
   "metadata": {},
   "source": [
    "### LAMBDA-ФУНКЦИИ"
   ]
  },
  {
   "cell_type": "markdown",
   "metadata": {},
   "source": [
    "Сразу разберем пример. Допустим, мы хотим создать функцию, считающую квадратный корень из числа. Можно это сделать классическим способом:"
   ]
  },
  {
   "cell_type": "code",
   "execution_count": 158,
   "metadata": {},
   "outputs": [],
   "source": [
    "def root(num):\n",
    "    # Напоминание: в Python используется оператор **\n",
    "    # для возведения числа в степень.\n",
    "    # В математике возведение в степень ½ соответствует\n",
    "    # вычислению квадратного корня.\n",
    "    return num ** (1/2)"
   ]
  },
  {
   "cell_type": "markdown",
   "metadata": {},
   "source": [
    "а теперь запишем тоже самое в помощью ЛАМБДА функции"
   ]
  },
  {
   "cell_type": "code",
   "execution_count": 159,
   "metadata": {},
   "outputs": [],
   "source": [
    "root=lambda num: num**(1/2)"
   ]
  },
  {
   "cell_type": "markdown",
   "metadata": {},
   "source": [
    "В переменной root теперь хранится функция, которая выполняет то же самое действие, которое мы описали с помощью классической функции def.\n",
    "\n",
    "Разберем особенности синтаксиса:\n",
    "1) сначала пишется слово lambda, которое сообщает компьютеру, что далее следует lambda функция.\n",
    "2) Затем пишутся названия аргументов, которые функция будет обрабатывать (если аргументов несколько, они перечисляются через запятую)\n",
    "3) Далее ставится двоеточие, и на той же строке записывается значение, которое возвращает функция в зависимости от условий. В данном случае функция возвращает результат возведения num в степень 1/2/\n",
    "\n",
    "Обобщим нашу функцию на корень произвольной степени:"
   ]
  },
  {
   "cell_type": "code",
   "execution_count": 160,
   "metadata": {},
   "outputs": [],
   "source": [
    "# Для получения корня произвольной степени от числа (например, корня степени 4) необходимо возвести исходное число в степень, равную единице, деленной на желаемую степень корня\n",
    "nth_root = lambda num, n: num ** (1/n)"
   ]
  },
  {
   "cell_type": "markdown",
   "metadata": {},
   "source": [
    "Чтобы воспользоваться этой функцией, можно написать, например"
   ]
  },
  {
   "cell_type": "code",
   "execution_count": 161,
   "metadata": {},
   "outputs": [
    {
     "name": "stdout",
     "output_type": "stream",
     "text": [
      "2.0\n"
     ]
    }
   ],
   "source": [
    "print(nth_root(16,4))\n",
    "# Будет напечатано:\n",
    "# 2.0"
   ]
  },
  {
   "cell_type": "markdown",
   "metadata": {},
   "source": [
    "В lambda функции можно использовать условия.\n",
    "\n",
    "Например напишем lambda функцию, которая определяет, является ли число четным и возвращает слово \"четное\" или \"нечетное\""
   ]
  },
  {
   "cell_type": "code",
   "execution_count": 162,
   "metadata": {},
   "outputs": [
    {
     "name": "stdout",
     "output_type": "stream",
     "text": [
      "odd\n"
     ]
    }
   ],
   "source": [
    "# напоминание: оператор % используется для получения остатка от деления. Если остаток от деления на 2 равен 0, то число является четным.\n",
    "# обратный слеш(\\) используется в ПИТОН для того чтобы перенести одну строку кода на следующую строку. Получается, что компьютер интерпритирует записанное ниже как одну строку.\n",
    "is_even=lambda num: 'even' if num % 2 ==0 else 'odd'\n",
    "print(is_even(164641613))"
   ]
  },
  {
   "cell_type": "markdown",
   "metadata": {},
   "source": [
    "lambda функции не лишены возможности применения операторов распаковки в своем коде.\n",
    "\n",
    "Вот lambda функция, которая принимает на вход переменное число порядковых аргументов и возвращает кортеж из них:"
   ]
  },
  {
   "cell_type": "code",
   "execution_count": 163,
   "metadata": {},
   "outputs": [
    {
     "name": "stdout",
     "output_type": "stream",
     "text": [
      "(1, 4, 6, 7)\n"
     ]
    }
   ],
   "source": [
    "func_args = lambda *args: args\n",
    " \n",
    "print(func_args(1,4,6,7))\n",
    "# Будет напечатано:\n",
    "# (1, 4, 6, 7)"
   ]
  },
  {
   "cell_type": "markdown",
   "metadata": {},
   "source": [
    "Наконец, можно принимать и args и kwargs одновременно, как в обычной функции.\n",
    "\n",
    "Вот функция, принимающая полный набор аргументов:"
   ]
  },
  {
   "cell_type": "code",
   "execution_count": 164,
   "metadata": {},
   "outputs": [
    {
     "name": "stdout",
     "output_type": "stream",
     "text": [
      "((1, 5, 6, 7), {'name': 'Ivan', 'age': 25})\n"
     ]
    }
   ],
   "source": [
    "full_func = lambda *args, **kwargs: (args, kwargs)\n",
    " \n",
    "print(full_func(1,5,6,7,name='Ivan', age=25))\n",
    "# Будет напечатано:\n",
    "# ((1, 5, 6, 7), {'name': 'Ivan', 'age': 25})"
   ]
  },
  {
   "cell_type": "markdown",
   "metadata": {},
   "source": [
    "Однако не стоит использовать слишком сложные ЛАМБДА функции, так как это сделает код не читаемым.\n",
    "\n",
    "Посмтрите, как будет выглядеть функция, которая определяет, делится ли число на 2 или на 3 (не волнуйтесь, если не совсем понимаете, что в ней происходит- функция написана так специально, чтобы показать, что так лучше не делать):"
   ]
  },
  {
   "cell_type": "code",
   "execution_count": 165,
   "metadata": {},
   "outputs": [],
   "source": [
    "scary_func = lambda num: 'divided by 2 and 3' \\\n",
    "    if num % 6 == 0 \\\n",
    "    else 'divided by 2' if num % 2 == 0 \\\n",
    "    else 'divided by 3' if num % 3 == 0 \\\n",
    "    else 'not divided by 2 nor 3'"
   ]
  },
  {
   "cell_type": "markdown",
   "metadata": {},
   "source": [
    "Данная функция записана синтаксически верно, однако человеку, впервые читающему ваш код, разобраться в ней будет непросто. Да и вы сами спустя некоторое время с трудом сможете понять, что здесь происходит.\n",
    "\n",
    "Для чего же тогда использовать ламбда функуции, и почему они вообще называбтся анонимными, если мы постоянно присваиваем им имена с помощью переменных?\n",
    "\n",
    "На самом деле использовать ламбда функцию удобно, если требуется передать простую функцию в качестве аргумента другой функции.\n",
    "\n",
    "Мы с вами еще познакомимся с некоторыми такими ситуациями, а пока что давайте применим ламбда функцию для сортировки списка.\n",
    "\n",
    "Создадим список имен:"
   ]
  },
  {
   "cell_type": "code",
   "execution_count": 166,
   "metadata": {},
   "outputs": [],
   "source": [
    "names = ['Ivan', 'Kim', 'German', 'Margarita', 'Simon']"
   ]
  },
  {
   "cell_type": "markdown",
   "metadata": {},
   "source": [
    "Отсортируем список с помощью функции sort() и напечатаем его содержимое:"
   ]
  },
  {
   "cell_type": "code",
   "execution_count": 167,
   "metadata": {},
   "outputs": [
    {
     "name": "stdout",
     "output_type": "stream",
     "text": [
      "['German', 'Ivan', 'Kim', 'Margarita', 'Simon']\n"
     ]
    }
   ],
   "source": [
    "names.sort()\n",
    "print(names)"
   ]
  },
  {
   "cell_type": "markdown",
   "metadata": {},
   "source": [
    "А теперь представим, что необходимо отсортировать слова в списке не по алфавиту, а по их длинне. Для этого как раз будет удобно воспользоваться короткой ламбда функцией, которую мы передадим в качестве параметра key. Теперь функция сортировки уже не будет сравнивать не слова в алфавитном порядке, а их длинны:"
   ]
  },
  {
   "cell_type": "code",
   "execution_count": 168,
   "metadata": {},
   "outputs": [
    {
     "name": "stdout",
     "output_type": "stream",
     "text": [
      "['Kim', 'Ivan', 'Simon', 'German', 'Margarita']\n"
     ]
    }
   ],
   "source": [
    "names.sort(key=lambda name: len(name))\n",
    "print(names)"
   ]
  },
  {
   "cell_type": "markdown",
   "metadata": {},
   "source": [
    "Как видите, слова действительно оказались отсортированы по возрастанию количества букв в них. При этом функуия ламбда действительно оказадаст одноразовой: мы не сможем снова воспользоваться ее из кода скрипта."
   ]
  },
  {
   "cell_type": "markdown",
   "metadata": {},
   "source": [
    "Задание 6.1 (на самопроверку)"
   ]
  },
  {
   "cell_type": "markdown",
   "metadata": {},
   "source": [
    "В качестве упражнения попробуйте переписать использованную lambda-функцию в классический вид (с def). Назовите её get_length.\n",
    "\n",
    "Затем воспользуйтесь полученной функцией для сортировки списка:\n",
    "\n",
    "new_list = ['bbb', 'ababa','aaa', 'aaaaa',  'cc']\n",
    "\n",
    "new_list.sort(key=get_length)\n",
    "\n",
    "print(new_list)\n",
    "\n",
    "***** Должно быть напечатано: *****\n",
    "*** ['cc', 'bbb', 'aaa', 'ababa', 'aaaaa']***"
   ]
  },
  {
   "cell_type": "markdown",
   "metadata": {},
   "source": []
  },
  {
   "cell_type": "code",
   "execution_count": 169,
   "metadata": {},
   "outputs": [
    {
     "name": "stdout",
     "output_type": "stream",
     "text": [
      "['cc', 'bbb', 'aaa', 'ababa', 'aaaaa']\n"
     ]
    }
   ],
   "source": [
    "def get_length(simbol):\n",
    "    result= len(simbol)\n",
    "    return result\n",
    "\n",
    "new_list = ['bbb', 'ababa','aaa', 'aaaaa',  'cc']\n",
    "\n",
    "new_list.sort(key=get_length)\n",
    "\n",
    "print(new_list)"
   ]
  },
  {
   "cell_type": "markdown",
   "metadata": {},
   "source": [
    "Что делать в случае, если мы хотим отсортировать список сразу по нескольким условиям: например, сначала по длинне слова, а потом - для слов с одинаковой длинной- уже по алфавиту? \n",
    "\n",
    "ПРИМЕЧАНИЕ. Метод sort() в случае строк сотирует сначала заглавные буквы, а затем строчные.\n",
    "\n",
    "Для этого достаточно написать функцию, которая возвращает кортеж из нескольких элементов, которые будут сравниваться. В начале будут сравниваться первые элементы кортежа, при их совпадении- вторые, и так далее.\n",
    "\n",
    "Создадим список:"
   ]
  },
  {
   "cell_type": "code",
   "execution_count": 170,
   "metadata": {},
   "outputs": [],
   "source": [
    "new_list = ['bbb', 'ababa','aaa', 'aaaaa',  'cc']"
   ]
  },
  {
   "cell_type": "markdown",
   "metadata": {},
   "source": [
    "Отсортируем его по длинне слов:"
   ]
  },
  {
   "cell_type": "code",
   "execution_count": 171,
   "metadata": {},
   "outputs": [
    {
     "name": "stdout",
     "output_type": "stream",
     "text": [
      "['cc', 'bbb', 'aaa', 'ababa', 'aaaaa']\n"
     ]
    }
   ],
   "source": [
    "new_list.sort(key=lambda word: len(word))\n",
    "print(new_list)\n",
    "# Будет напечатано:\n",
    "# ['cc', 'bbb', 'aaa', 'ababa', 'aaaaa']"
   ]
  },
  {
   "cell_type": "markdown",
   "metadata": {},
   "source": [
    "Как видите, слова отсортированы по длинне, но слова одинаковой длинны при этом не отсортированы по алфавиту, потому что мы прямо не указывали функции sort() на это требование.\n",
    "\n",
    "Теперь отсортируем этот список с помощью ламбда функции, которая возвращает кортеж, где в качестве первого значения указана длинна слова, а в качестве второго- само слово:"
   ]
  },
  {
   "cell_type": "code",
   "execution_count": 172,
   "metadata": {},
   "outputs": [
    {
     "name": "stdout",
     "output_type": "stream",
     "text": [
      "['cc', 'aaa', 'bbb', 'aaaaa', 'ababa']\n"
     ]
    }
   ],
   "source": [
    "new_list.sort(key=lambda word: (len(word), word))\n",
    "print(new_list)\n",
    "# Будет напечатано:\n",
    "# ['cc', 'aaa', 'bbb', 'aaaaa', 'ababa']"
   ]
  },
  {
   "cell_type": "markdown",
   "metadata": {},
   "source": [
    "Теперь слова отсортированы и по длинне, и по алфавиту.\n",
    "\n",
    "Обратите внимание, что в случае с ламбда функцией при возврате нескольких значений круглые скобки для обозначения кортежа обязательны!\n",
    "\n",
    "В этом юните вы узнали о новом классе функций в ПИТОН-lambda-функциях, а также научились:\n",
    "* создавать lambda-функции для различного числа аргументов\n",
    "* применять условный оператор в lambda-функциях\n",
    "* использовать lambda-функции для описания правил сортировки списков, в том числе сразу по нескольким пареметрам."
   ]
  },
  {
   "cell_type": "markdown",
   "metadata": {},
   "source": [
    "### Задание 6.2\n",
    "\n",
    "В какой ситуации уместно использовать lambda-функцию?\n",
    "\n",
    "* Для усиления быстродействия программы\n",
    "* Для создания коротких одноразовых функций = ВЕРНО\n",
    "* Для записи сложных разветвлённых функций в одну строку\n",
    "* Для улучшения читабельности кода\n",
    "\n",
    "Верно:Для этого lambda-функции и предназначены.\n",
    " "
   ]
  },
  {
   "cell_type": "markdown",
   "metadata": {},
   "source": [
    "### Задание 6.3 (External resource)\n",
    "\n",
    "Напишите lambda-функцию для расчёта гипотенузы прямоугольного треугольника: она принимает на вход длины двух катетов и возвращает длину гипотенузы (третьей, самой длинной стороны прямоугольного треугольника).\n",
    "\n",
    "Формула: c = (a**2 + b**2) ** (1/2), где a и b — длины катетов, — длина гипотенузы. Сохраните эту функцию в переменную hyp.\n",
    "\n",
    "Пример работы функции\n",
    "\n",
    "\n",
    "print(hyp(3,4))\n",
    "print(hyp(1,9))\n",
    "\n",
    "`***5.0***\n",
    "\n",
    "`***9.055385138137417***\n"
   ]
  },
  {
   "cell_type": "code",
   "execution_count": 173,
   "metadata": {},
   "outputs": [
    {
     "name": "stdout",
     "output_type": "stream",
     "text": [
      "5.0\n"
     ]
    }
   ],
   "source": [
    "hyp=lambda a,b: (a**2 + b**2) ** (1/2)\n",
    "print(hyp(3,4))"
   ]
  },
  {
   "cell_type": "markdown",
   "metadata": {},
   "source": [
    "### Задание 6.4 (External resource)"
   ]
  },
  {
   "cell_type": "markdown",
   "metadata": {},
   "source": [
    "Напишите функцию sort_sides(l_in), которая сортирует переданный в неё список l_in.\n",
    "\n",
    "Входной список состоит из кортежей с парами чисел — длинами катетов прямоугольных треугольников.\n",
    "\n",
    "Функция должна возвращать список, отсортированный по возрастанию длин гипотенуз треугольников.\n",
    "\n",
    "Примечание. Вам пригодится lambda-функция из предыдущего задания. При этом вам потребуется заменить lambda от двух аргументов на lambda от одного аргумента и обращаться к элементам кортежа уже при вычислении гипотенузы.\n",
    "\n",
    "Пример работы функции\n",
    "\n",
    "\n",
    "print(sort_sides([(3,4), (1,2), (10,10)]))\n",
    "\n",
    "~[(1, 2), (3, 4), (10, 10)]"
   ]
  },
  {
   "cell_type": "markdown",
   "metadata": {},
   "source": [
    "### 7. Закрепление знаний"
   ]
  },
  {
   "cell_type": "markdown",
   "metadata": {},
   "source": [
    "Настало время закрепить знания и навыки полученные в предыдущих юнитах на практике.\n",
    "\n",
    "В первой части вам предстоит пройти тест по изученной теории, во второй - решить практические задачи на написание кода.\n",
    "\n",
    "ЧАСТЬ 1 "
   ]
  },
  {
   "cell_type": "markdown",
   "metadata": {},
   "source": [
    "Задание 7.1\n",
    "\n",
    "Какой оператор позволяет оставить функцию пустой\n",
    "* break \n",
    "* pass = ВЕРНО\n",
    "* return \n",
    "* yield\n",
    "\n",
    "Верно:\n",
    "pass позволяет не прописывать код функции сразу"
   ]
  },
  {
   "cell_type": "markdown",
   "metadata": {},
   "source": [
    "Задание 7.2 \n",
    "\n",
    "Выберете верное утверждение об операторе return\n",
    "\n",
    "* позволяет вернуть только одно значение\n",
    "* используется для печати результа на экран\n",
    "* завершает выполнение функции = ВЕРНО\n",
    "* завершает выполнеие исходного кода основного скрипта\n",
    "\n",
    "ВЕРНО. Инструкции, следующие после return, не выполняются."
   ]
  },
  {
   "attachments": {
    "image.png": {
     "image/png": "[encoded data removed]"
    }
   },
   "cell_type": "markdown",
   "metadata": {},
   "source": [
    "ЗАДАНИЕ 7.3\n",
    "\n",
    "По окончании выполнения задания нажмите на синюю кнопку с галочкой в правом нижнем углу — так вы поймёте, верно ли выполнено задание.\n",
    "\n",
    "![image.png](attachment:image.png)"
   ]
  },
  {
   "cell_type": "markdown",
   "metadata": {},
   "source": [
    "Задание 7.4\n",
    "\n",
    "Выберете верное утверждение об использовании аргументов по умолчанию\n",
    "\n",
    "* аргументы по умолчанию могут быть указаны в ввсигнатуре функции только после обязательных= ВЕРНО\n",
    "* в качестве аргументов по умолчанию корректно использовать изменяемые типы данных\n",
    "* значение аргумента по умолчанию невозможно задать при запуске функции\n",
    "* если при запуске функции функции не передать значения аргументов поумолчанию, возникнет ошибка.\n",
    "\n",
    "верно. Иначе возникнет синтаксическая ошибка"
   ]
  },
  {
   "cell_type": "markdown",
   "metadata": {},
   "source": [
    "Задание 7.5.\n",
    "Для чего в сигнатуре функции используется конструкция *args, **kwargs?\n",
    "\n",
    "Например, def my_func(*args, **kwargs): ...\n",
    "* чтобы записать все порядковые аргументы в kwargs а именованные в  args\n",
    "* чтобы записать все порядковые аргументы в args, а именованные  - kwargs = ВЕРНО\n",
    "* чтобы распаковать значения из списка нескольких переменных\n",
    "* чтобы указать фиксированное ччисло входных параметров\n",
    "\n",
    "верно. С помощью этой конструкции сохраняют все именованные аргументы в kwargs, а порядковые - в args\n"
   ]
  },
  {
   "cell_type": "markdown",
   "metadata": {},
   "source": [
    "Задание 7.6\n",
    "\n",
    "Выберите вариант, где lambda-функция создана правильным образом:\n",
    " \n",
    "* lambda x: return len(x)\n",
    "* lambda x, y; x*y\n",
    "* lambda x+y: x,y\n",
    "* lambda *args: sum(args)/len(args) = ВЕРНО\n",
    "\n",
    "верно: lambda-функция позволяет принимать кортеж из порядковых аргументов. В данном случае этафункция считает среднее из чисел.\n"
   ]
  },
  {
   "cell_type": "markdown",
   "metadata": {},
   "source": [
    "Задание 7.7\n",
    "\n",
    "С помощью какого оператора можно вернуть ошибку из функции, если переданы некоректные аргументы, и остановить выполнение скрмпта?\n",
    "* return\n",
    "* raise = ВЕРНО\n",
    "* yield\n",
    "* try\n",
    "\n",
    "верно. После raise следует объект с указанием ошибки, которая возникла"
   ]
  },
  {
   "cell_type": "markdown",
   "metadata": {},
   "source": [
    "Залание 7.8\n",
    "\n",
    "Каким образом c помощью print можно напечатать список чисел my_list через запятую?\n",
    "\n",
    "* print(my_list, sep=', ')\n",
    "* print(*my_list, end=', ')\n",
    "* print(my_list, end=', ')\n",
    "* print(*my_list, sep=', ') = ВЕРНО\n",
    "\n",
    "Верно. Будут напечатаны элементы из списка через запятую."
   ]
  },
  {
   "cell_type": "code",
   "execution_count": 174,
   "metadata": {},
   "outputs": [
    {
     "name": "stdout",
     "output_type": "stream",
     "text": [
      "1, 5, 9, 10\n",
      "(1, 5, 9, 10)\n"
     ]
    }
   ],
   "source": [
    "my_list= 1,5,9,10\n",
    "print(*my_list, sep=', ')\n",
    "print(my_list)"
   ]
  },
  {
   "cell_type": "markdown",
   "metadata": {},
   "source": [
    "# 8. ИТОГИ"
   ]
  },
  {
   "cell_type": "markdown",
   "metadata": {},
   "source": [
    "Итак вы завершили модуль по функциям в ПИТОН.\n",
    "\n",
    "Вы научились:\n",
    "* создавать функции и передавать в них аргументы\n",
    "* возвращать результаты вычислений в исходный код основного скрипта или другой функции\n",
    "* передавать и обрабатывать переменное число аргументов и присваивать аргументам значения по умолчанию\n",
    "* создавать короткие lambda-функции"
   ]
  },
  {
   "cell_type": "markdown",
   "metadata": {},
   "source": [
    "# 9.ЭТАЛОННЫЕ ОТВЕТЫ К ЗАДАНИЯМ МОДУЛЯ "
   ]
  },
  {
   "cell_type": "code",
   "execution_count": 175,
   "metadata": {},
   "outputs": [
    {
     "name": "stdout",
     "output_type": "stream",
     "text": [
      "Shopping list: bread, butter, eggs\n",
      "Python, SQL, Machine Learning, Statistics\n",
      "Kuznetsov: 4.454545454545454\n"
     ]
    }
   ],
   "source": [
    "# 2. Функции в Python\n",
    "# ЗАДАНИЕ 2.3\n",
    "def get_total(units, price):\n",
    "    return units * price\n",
    "# 3. Проверка аргументов. Аргументы по умолчанию\n",
    "# ЗАДАНИЕ 3.1\n",
    "def get_time(distance, speed):\n",
    "    if distance < 0 or speed < 0:\n",
    "        raise ValueError('Distance or speed cannot be below 0!')\n",
    "    if speed == 0:\n",
    "        raise ValueError('Speed cannot be equal to 0!')\n",
    "    result = distance / speed\n",
    "    return result\n",
    "# Альтернативный вариант решения:\n",
    "def get_time(distance, speed):\n",
    "    if speed == 0:\n",
    "        raise ValueError('Speed cannot be equal to 0!')\n",
    "    if distance < 0 or speed < 0:\n",
    "        raise ValueError('Distance or speed cannot be below 0!')\n",
    "    result = distance / speed\n",
    "    return result\n",
    "# ЗАДАНИЕ 3.2\n",
    "# Необходимо добавить только n=2,\n",
    "# чтобы задать параметру n значение по умолчанию\n",
    "def root(value, n=2):\n",
    "    result = value ** (1/n)\n",
    "    return result\n",
    "# ЗАДАНИЕ 3.5\n",
    "def add_mark(name, mark, journal=None):\n",
    "    if mark not in [2, 3, 4, 5]:\n",
    "        raise ValueError('Invalid Mark!')\n",
    "    if journal is None:\n",
    "        journal = {}\n",
    "    journal[name] = mark\n",
    "    return journal\n",
    "# 4. Продвинутая передача аргументов\n",
    "# ЗАДАНИЕ 4.1\n",
    "print(\"Shopping list:\", end=' ')\n",
    "# Достаточно добавить параметр sep=', '\n",
    "print(\"bread\", \"butter\", \"eggs\", sep=', ')\n",
    "# Будет напечатано:\n",
    "# Shopping list: bread, butter, eggs\n",
    "# 5. Продвинутая обработка аргументов\n",
    "# ЗАДАНИЕ 5.1\n",
    "def mult(*args):\n",
    "    result = 1\n",
    "    for num in args:\n",
    "        result *= num\n",
    "    return result\n",
    "# ЗАДАНИЕ 5.2\n",
    "print(*langs, sep=', ')\n",
    "# Будет напечатано:\n",
    "# Python, SQL, Machine Learning, Statistics\n",
    "# ЗАДАНИЕ 5.3\n",
    "marks = [4,5,5,5,5,3,4,4,5,4,5]\n",
    "def mean_mark(name, *marks):\n",
    "    result = sum(marks) / len(marks)\n",
    "    # Не возвращаем результат, а печатаем его\n",
    "    print(name+':', result)\n",
    "mean_mark('Kuznetsov', *marks)\n",
    "# Должно быть напечатано:\n",
    "# Kuznetsov: 4.454545454545454\n",
    "# ЗАДАНИЕ 5.6\n",
    "def print_lists(*lists, **how):\n",
    "    for l in lists:\n",
    "        print(*l, **how)\n",
    "# 6. Lambda-функции\n",
    "# ЗАДАНИЕ 6.1\n",
    "def get_length(line):\n",
    "    return len(line)\n",
    "# ЗАДАНИЕ 6.3\n",
    "hyp = lambda a, b: (a**2 + b**2) ** (1/2)\n",
    "# ЗАДАНИЕ 6.4\n",
    "def sort_sides(l_in):\n",
    "    l_in.sort(key=lambda x: (x[0]**2 + x[1]**2) ** (1/2))\n",
    "    return l_in\n",
    "# 7. Закрепление знаний\n",
    "# ЗАДАНИЕ 7.9\n",
    "def get_less(list_in, num):\n",
    "    for i in list_in:\n",
    "        if i < num:\n",
    "            return i\n",
    "    return None\n",
    "# ЗАДАНИЕ 7.10\n",
    "def split_date(date):\n",
    "    day, month, year = date[:2], date[2:4], date[4:]\n",
    "    return int(day), int(month), int(year)\n",
    "# ЗАДАНИЕ 7.11\n",
    "def is_prime(num):\n",
    "    if num == 1:\n",
    "        return False\n",
    "    for i in range(2, num):\n",
    "        if num % i == 0:\n",
    "            return False\n",
    "    return True\n",
    "# ЗАДАНИЕ 7.12\n",
    "def between_min_max(*nums):\n",
    "    mn = min(nums)\n",
    "    mx = max(nums)\n",
    "    return (mn + mx) / 2\n",
    "# ЗАДАНИЕ 7.13\n",
    "def best_student(**students):\n",
    "    best_name = None\n",
    "    best_rating = None\n",
    "    for (student, rating) in students.items():\n",
    "        if best_name is None:\n",
    "            best_name = student\n",
    "            best_rating = rating\n",
    "        if rating < best_rating:\n",
    "            best_rating = rating\n",
    "            best_name = student\n",
    "    return best_name\n",
    "# ЗАДАНИЕ 7.14\n",
    "is_palindrom = lambda x: 'yes' if x == x[::-1] else 'no'\n",
    "# ЗАДАНИЕ 7.15\n",
    "area = lambda a, b: a*b\n",
    "# ЗАДАНИЕ 7.16\n",
    "between_min_max = lambda *nums: (min(nums) + max(nums)) / 2\n",
    "# ЗАДАНИЕ 7.17\n",
    "def sort_ignore_case(ls):\n",
    "    ls.sort(key=lambda x: x.lower())\n",
    "    return ls\n",
    "# ЗАДАНИЕ 7.18\n",
    "def exchange(usd=None, rub=None, rate=None):\n",
    "    check = [usd, rub, rate].count(None)\n",
    "    check_lst = ['Too many arguments', None, 'Not enough arguments', 'Not enough arguments']\n",
    "    if check != 1: raise ValueError(check_lst[check])\n",
    "    \n",
    "    if usd is None:\n",
    "        usd = rub / rate\n",
    "        return usd\n",
    "    if rub is None:\n",
    "        rub = usd * rate\n",
    "        return rub\n",
    "    if rate is None:\n",
    "        rate = rub / usd\n",
    "        return rateexchange(usd=None, rub=None, rate=None)\n",
    "\n"
   ]
  }
 ],
 "metadata": {
  "kernelspec": {
   "display_name": "Python 3",
   "language": "python",
   "name": "python3"
  },
  "language_info": {
   "codemirror_mode": {
    "name": "ipython",
    "version": 3
   },
   "file_extension": ".py",
   "mimetype": "text/x-python",
   "name": "python",
   "nbconvert_exporter": "python",
   "pygments_lexer": "ipython3",
   "version": "3.11.9"
  }
 },
 "nbformat": 4,
 "nbformat_minor": 2
}
