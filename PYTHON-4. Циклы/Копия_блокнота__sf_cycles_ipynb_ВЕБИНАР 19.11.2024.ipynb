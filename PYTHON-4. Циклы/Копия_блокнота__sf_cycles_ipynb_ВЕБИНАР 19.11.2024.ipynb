{
  "cells": [
    {
      "cell_type": "markdown",
      "metadata": {
        "id": "E1ZR1FHYMsJh"
      },
      "source": [
        "# Циклы"
      ]
    },
    {
      "cell_type": "markdown",
      "metadata": {
        "id": "8ONOFUcIEeYK"
      },
      "source": [
        "Автор: **Булыгин Олег**\n",
        "* [Я в LinkedIn](https://www.linkedin.com/in/obulygin/)  \n",
        "* [Мой канал в ТГ по Python](https://t.me/pythontalk_ru)\n",
        "* [Чат канала](https://t.me/pythontalk_chat)\n",
        "* [Блог в Телетайпе](https://teletype.in/@pythontalk)\n"
      ]
    },
    {
      "cell_type": "markdown",
      "metadata": {
        "id": "Vw4ia5wCEeYL"
      },
      "source": [
        "## План\n",
        "- цикл for\n",
        "- функции range и enumerate\n",
        "- цикл while\n",
        "- операторы break и continue\n",
        "- else с циклам\n",
        "- вложенные циклы"
      ]
    },
    {
      "cell_type": "markdown",
      "metadata": {
        "id": "TO6qJiIUPdTy"
      },
      "source": [
        "## Циклы\n",
        "Циклы позволяют организовать повторение выполнения участков кода. В Python существует два типа циклов: цикл **for** и цикл **while**.\n"
      ]
    },
    {
      "cell_type": "markdown",
      "metadata": {
        "id": "mTox4sr2MsKs"
      },
      "source": [
        "## Цикл `for`\n",
        "\n",
        "Цикл `for` организуется следующим образом:\n",
        "```\n",
        "for value in iterator:\n",
        "    # Начало блока кода с телом цикла\n",
        "    ...\n",
        "    ...\n",
        "    ...\n",
        "    # Конец блока кода с телом цикла\n",
        "# Код, который будет выполняться после цикла\n",
        "```\n",
        "\n",
        "`value` — переменная цикла (может иметь другое название), в которой на каждой итерации содержится текущее значение из итерируемого объекта `iterator`.\n",
        "\n",
        "`iterator` — итерируемый объект, из которого на каждой итерации достаются элементы (например, список, словарь, кортеж, строка и т. д.).\n"
      ]
    },
    {
      "cell_type": "code",
      "execution_count": 10,
      "metadata": {
        "id": "kwPNp-WzEeYT"
      },
      "outputs": [
        {
          "name": "stdout",
          "output_type": "stream",
          "text": [
            "*S**k**i**l**l**F**a**c**t**o**r**y*"
          ]
        }
      ],
      "source": [
        "# итерация по строкам\n",
        "company_name = 'SkillFactory'\n",
        "# мы сами задаем имя переменной в которую будут последовательно помещаться каждый элемент нашего объекта\n",
        "for letter in company_name:\n",
        "    # print(letter)\n",
        "    print(f'*{letter}*', end='')\n"
      ]
    },
    {
      "cell_type": "markdown",
      "metadata": {
        "id": "MuIrVPjv4Awm"
      },
      "source": [
        "Выведем информацию о компаниях, которые харанятся во вложенных списках в виде:\n",
        "`Компания *** имеет капитализацию *** триллионов кредитов.`"
      ]
    },
    {
      "cell_type": "code",
      "execution_count": 11,
      "metadata": {
        "id": "zIIJF5BZfzo0"
      },
      "outputs": [
        {
          "name": "stdout",
          "output_type": "stream",
          "text": [
            "Компания Апельсин имеет капитализацию 1.3 триллионов кредитов.\n",
            "Компания Максисофт имеет капитализацию 1.5 триллионов кредитов.\n",
            "Компания Головакнига имеет капитализацию 0.8 триллионов кредитов.\n",
            "Компания Никола имеет капитализацию 2.2 триллионов кредитов.\n"
          ]
        }
      ],
      "source": [
        "companies_capitalization = [\n",
        "    ['Апельсин', 1.3],\n",
        "    ['Максисофт', 1.5],\n",
        "    ['Головакнига', 0.8],\n",
        "    ['Никола', 2.2]\n",
        "]\n",
        "\n",
        "for company in companies_capitalization:\n",
        "    # print(company)\n",
        "    print(f'Компания {company[0]} имеет капитализацию {company[1]} триллионов кредитов.')"
      ]
    },
    {
      "cell_type": "code",
      "execution_count": 12,
      "metadata": {},
      "outputs": [
        {
          "name": "stdout",
          "output_type": "stream",
          "text": [
            "Компания Апельсин имеет капитализацию 1.3 триллионов кредитов!\n",
            "Компания Максисофт имеет капитализацию 1.5 триллионов кредитов!\n",
            "Компания Головакнига имеет капитализацию 0.8 триллионов кредитов!\n",
            "Компания Никола имеет капитализацию 2.2 триллионов кредитов!\n"
          ]
        }
      ],
      "source": [
        "companies_capitalization = [\n",
        "    ['Апельсин', 1.3,'!'],\n",
        "    ['Максисофт', 1.5,'!'],\n",
        "    ['Головакнига', 0.8,'!'],\n",
        "    ['Никола', 2.2,'!']\n",
        "]\n",
        "\n",
        "for company in companies_capitalization:\n",
        "    # print(company)\n",
        "    print(f'Компания {company[0]} имеет капитализацию {company[1]} триллионов кредитов{company[2]}')"
      ]
    },
    {
      "cell_type": "markdown",
      "metadata": {
        "id": "T6ovLfhv4G33"
      },
      "source": [
        "Мы можем распаковать элементы прямо в списке"
      ]
    },
    {
      "cell_type": "code",
      "execution_count": 13,
      "metadata": {
        "id": "z63fHl3mfzo1"
      },
      "outputs": [
        {
          "name": "stdout",
          "output_type": "stream",
          "text": [
            "Компания Апельсин имеет капитализацию 1.3 триллионов кредитов.\n",
            "Компания Максисофт имеет капитализацию 1.5 триллионов кредитов.\n",
            "Компания Головакнига имеет капитализацию 0.8 триллионов кредитов.\n",
            "Компания Никола имеет капитализацию 2.2 триллионов кредитов.\n"
          ]
        }
      ],
      "source": [
        "companies_capitalization = [\n",
        "    ['Апельсин', 1.3],\n",
        "    ['Максисофт', 1.5],\n",
        "    ['Головакнига', 0.8],\n",
        "    ['Никола', 2.2]\n",
        "]\n",
        "\n",
        "for name, cap in companies_capitalization:\n",
        "    print(f'Компания {name} имеет капитализацию {cap} триллионов кредитов.')"
      ]
    },
    {
      "cell_type": "code",
      "execution_count": 14,
      "metadata": {},
      "outputs": [
        {
          "name": "stdout",
          "output_type": "stream",
          "text": [
            "Компания Апельсин имеет капитализацию 1.3 триллионов кредитов!\n",
            "Компания Максисофт имеет капитализацию 1.5 триллионов кредитов!\n",
            "Компания Головакнига имеет капитализацию 0.8 триллионов кредитов!\n",
            "Компания Никола имеет капитализацию 2.2 триллионов кредитов!\n"
          ]
        }
      ],
      "source": [
        "companies_capitalization = [\n",
        "    ['Апельсин', 1.3,'!'],\n",
        "    ['Максисофт', 1.5,'!'],\n",
        "    ['Головакнига', 0.8,'!'],\n",
        "    ['Никола', 2.2,'!']\n",
        "]\n",
        "\n",
        "for name, cap, i in companies_capitalization:\n",
        "    print(f'Компания {name} имеет капитализацию {cap} триллионов кредитов{i}')"
      ]
    },
    {
      "cell_type": "markdown",
      "metadata": {
        "id": "HQ_0HW2Kfzo6"
      },
      "source": [
        "Посчитаем сумму элементов по главной диагонали квадратной матрицы"
      ]
    },
    {
      "cell_type": "code",
      "execution_count": 19,
      "metadata": {
        "id": "aikBFIlufzo7"
      },
      "outputs": [
        {
          "data": {
            "text/plain": [
              "561"
            ]
          },
          "execution_count": 19,
          "metadata": {},
          "output_type": "execute_result"
        }
      ],
      "source": [
        "data = [\n",
        "    [13, 25, 23, 34],\n",
        "    [45, 32, 44, 47],\n",
        "    [12, 33, 23, 95],\n",
        "    [13, 53, 34, 35]\n",
        "]\n",
        "s==data[0][0]+data[1][1]+data[2][2]+data[3][3]\n",
        "s"
      ]
    },
    {
      "cell_type": "code",
      "execution_count": 39,
      "metadata": {},
      "outputs": [
        {
          "name": "stdout",
          "output_type": "stream",
          "text": [
            "103\n"
          ]
        }
      ],
      "source": [
        "sum_=0\n",
        "index=0\n",
        "for row in data:\n",
        "    #print(row)\n",
        "    sum_+=row[index]\n",
        "    index+=1\n",
        "    #print(sum_)\n",
        "print(sum_)\n"
      ]
    },
    {
      "cell_type": "markdown",
      "metadata": {},
      "source": [
        "сумма по обратной диагонали"
      ]
    },
    {
      "cell_type": "code",
      "execution_count": 48,
      "metadata": {
        "id": "PU5guc6iPrvE"
      },
      "outputs": [
        {
          "name": "stdout",
          "output_type": "stream",
          "text": [
            "34\n",
            "78\n",
            "111\n",
            "124\n",
            "124\n"
          ]
        }
      ],
      "source": [
        "sum_=0\n",
        "index=-1 # берем последний элемент (-1)= всегда последний элемент последовательности \n",
        "for row in data:\n",
        "    #print(row)\n",
        "    sum_+=row[index]\n",
        "    index+=-1 #индексы считаем в обратном порядке\n",
        "    print(sum_)\n",
        "print(sum_)\n"
      ]
    },
    {
      "cell_type": "markdown",
      "metadata": {
        "id": "Lt3Dv_J23QA0"
      },
      "source": [
        "Выведём на экран список всех слов длиннее `n` букв из текста"
      ]
    },
    {
      "cell_type": "code",
      "execution_count": 93,
      "metadata": {
        "id": "FLVx7M7l3QA0"
      },
      "outputs": [],
      "source": [
        "text = '1234567890*Python — высокоуровневый язык программирования, ориентированный на повышение производительности разработчика и читаемости кода.*887'\n",
        "n = 6\n",
        "#text=text.split()\n",
        "#text=text.strip('*.1234567890')\n",
        "#text"
      ]
    },
    {
      "cell_type": "code",
      "execution_count": 101,
      "metadata": {
        "id": "EEdb9HpetuoT"
      },
      "outputs": [
        {
          "name": "stdout",
          "output_type": "stream",
          "text": [
            "Слово 'высокоуровневый' имеет длинну 15 символов\n",
            "Слово 'программирования' имеет длинну 16 символов\n",
            "Слово 'ориентированный' имеет длинну 15 символов\n",
            "Слово 'повышение' имеет длинну 9 символов\n",
            "Слово 'производительности' имеет длинну 18 символов\n",
            "Слово 'разработчика' имеет длинну 12 символов\n",
            "Слово 'читаемости' имеет длинну 10 символов\n",
            "['высокоуровневый', 'программирования', 'ориентированный', 'повышение', 'производительности', 'разработчика', 'читаемости']\n"
          ]
        }
      ],
      "source": [
        "res = []\n",
        "list_='.,!?—-*1234567890 '\n",
        "\n",
        "for word in text.split():\n",
        "    #print(word)\n",
        "    word = word.strip(list_)  \n",
        "    #print(word)\n",
        "    if len(word) > n:\n",
        "        res.append(word)\n",
        "        print (\"Слово '{}' имеет длинну {} символов\".format(word,len(word)))\n",
        "\n",
        "print(res)"
      ]
    },
    {
      "cell_type": "markdown",
      "metadata": {},
      "source": [
        "**повторение словарей"
      ]
    },
    {
      "cell_type": "code",
      "execution_count": 125,
      "metadata": {},
      "outputs": [
        {
          "name": "stdout",
          "output_type": "stream",
          "text": [
            "2\n",
            "Обезьяна в словаре!\n",
            "{'dog': 2, 'monkey': 3, 'horse': 4}\n",
            "dict_keys(['dog', 'monkey', 'horse']) dict_values([2, 3, 4])\n",
            "Ключ:dog, Значение:2\n",
            "Ключ:monkey, Значение:3\n",
            "Ключ:horse, Значение:4\n"
          ]
        }
      ],
      "source": [
        "pets={} #Создаём пустой словарь.\n",
        "pets = {'dog': 2, 'monkey': 3, 'cat': 5} #Прописываем в него три элемента.\n",
        "pets['horse'] =4 #Добавляем ещё один новый элемент.\n",
        "print(pets['dog']) #По ключу 'dog' получаем значение из словаря.\n",
        "if 'monkey' in pets: print('Обезьяна в словаре!') #Проверяем, что ключ есть в словаре.\n",
        "del pets['cat'] #Удаляем элемент с котом. \n",
        "print(pets) \n",
        "keys,values=pets.keys(),pets.values()#Получим все ключи и значения.\n",
        "print(keys,values)\n",
        "for keys, values in pets.items():#Попробуем перебрать элементы словаря.\n",
        "    print(f'Ключ:{keys}, Значение:{values}')\n"
      ]
    },
    {
      "cell_type": "markdown",
      "metadata": {},
      "source": [
        "Основные методы работы со словарями в Python"
      ]
    },
    {
      "cell_type": "markdown",
      "metadata": {},
      "source": [
        "### Update"
      ]
    },
    {
      "cell_type": "code",
      "execution_count": 126,
      "metadata": {},
      "outputs": [
        {
          "name": "stdout",
          "output_type": "stream",
          "text": [
            "Исходный словарь: {'спорт': 'финская ходьба длиной около 10 километров', 'индивид': 'отдельное лицо', 'ботинок': 'обувь, отличающаяся от сапога'}\n",
            "Обновлённый словарь: {'спорт': 'финская ходьба длиной около 10 километров', 'индивид': 'отдельное лицо', 'ботинок': 'обувь, отличающаяся от сапога', 'ходил': 'ходить в будущем времени', 'ботинки': 'ботинок в единственном числе'}\n"
          ]
        }
      ],
      "source": [
        "#Update: Метод Update добавляет или обновляет пары «ключ — значение». \n",
        "#Вы можете обновить или добавить любое количество пар.\n",
        "# Создаём словарь:\n",
        "dictionary = {'спорт': 'финская ходьба длиной около 10 километров', 'индивид': 'отдельное лицо', 'ботинок': 'обувь, отличающаяся от сапога'}\n",
        "# Выводим исходный словарь:\n",
        "print(\"Исходный словарь:\", dictionary)\n",
        "# Допишем значения в словарь методом update:\n",
        "dictionary.update({'ходил': 'ходить в будущем времени', 'ботинки': 'ботинок в единственном числе'})\n",
        "# Выводим обновлённый словарь:\n",
        "print(\"Обновлённый словарь:\", dictionary)"
      ]
    },
    {
      "cell_type": "markdown",
      "metadata": {},
      "source": [
        "### Get"
      ]
    },
    {
      "cell_type": "code",
      "execution_count": 130,
      "metadata": {},
      "outputs": [
        {
          "name": "stdout",
          "output_type": "stream",
          "text": [
            "0\n",
            "None\n"
          ]
        }
      ],
      "source": [
        "#Метод get применяется для получения значения по ключу из словаря. \n",
        "# Если ключ отсутствует, метод возвращает None. Разработчик может указать альтернативное значение, \n",
        "# которое метод вернёт при отсутствии ключа.\n",
        "#Разработчик может прописать значение, которое должен вернуть метод при его отсутствии.\n",
        "\n",
        "book_count = {'один': 1,'два': 2,'три': 3,'семь': 7}\n",
        "result = book_count.get('четыре', 0)\n",
        "result_1 = book_count.get('четыре')\n",
        "print(result)  # Выведет: 0 как значение по умолчанию\n",
        "print(result_1)"
      ]
    },
    {
      "cell_type": "markdown",
      "metadata": {},
      "source": [
        "### Pop"
      ]
    },
    {
      "cell_type": "code",
      "execution_count": 133,
      "metadata": {},
      "outputs": [
        {
          "name": "stdout",
          "output_type": "stream",
          "text": [
            "1\n",
            "{'два': 2, 'три': 3, 'семь': 7}\n"
          ]
        }
      ],
      "source": [
        "#С помощью метода Pop можно удалить ключ из словаря и вернуть его значение. \n",
        "# Когда ключа нет, то будет вызвано исключение, если не указано значение по умолчанию для возврата.\n",
        "\n",
        "book_count = {'один': 1, 'два': 2,'три': 3,'семь': 7}\n",
        "print(book_count.pop('один')) # удаляем один\n",
        "print(book_count)  # Выведет: {'два': 2, 'три': 3, 'семь': 7}"
      ]
    },
    {
      "cell_type": "markdown",
      "metadata": {},
      "source": [
        "### Keys"
      ]
    },
    {
      "cell_type": "code",
      "execution_count": 134,
      "metadata": {},
      "outputs": [
        {
          "name": "stdout",
          "output_type": "stream",
          "text": [
            "dict_keys(['один', 'два', 'три', 'семь'])\n"
          ]
        }
      ],
      "source": [
        "#Метод Keys используют для получения всех ключей из словаря в виде «представления ключей» (view).\n",
        "#  Это не является обычным списком, но его можно легко преобразовать в список или итерироваться по нему.\n",
        "\n",
        "book_count = {'один': 1,'два': 2,'три': 3,'семь': 7}\n",
        "# Используем метод keys() для получения списка всех ключей из словаря.\n",
        "keys_list = book_count.keys()\n",
        "print(keys_list) # Выведет: dict_keys(['один', 'два', 'три', 'семь'])"
      ]
    },
    {
      "cell_type": "markdown",
      "metadata": {},
      "source": [
        "### Values"
      ]
    },
    {
      "cell_type": "code",
      "execution_count": 135,
      "metadata": {},
      "outputs": [
        {
          "name": "stdout",
          "output_type": "stream",
          "text": [
            "dict_values([1, 2, 3, 7])\n"
          ]
        }
      ],
      "source": [
        "#Values() — метод словарей в Python. Он возвращает итерируемый объект (особый DictView объект), \n",
        "# позволяющий получить значения словаря.\n",
        "\n",
        "book_count = {'один': 1,'два': 2,'три': 3,'семь': 7}\n",
        "values_list = book_count.values()\n",
        "print(values_list)  # Выведет: dict_values([1, 2, 3, 7])"
      ]
    },
    {
      "cell_type": "markdown",
      "metadata": {},
      "source": [
        "### Items"
      ]
    },
    {
      "cell_type": "code",
      "execution_count": 136,
      "metadata": {},
      "outputs": [
        {
          "name": "stdout",
          "output_type": "stream",
          "text": [
            "dict_items([('Имя', 'Анна'), ('Возраст', 28), ('Город', 'Москва'), ('Профессия', 'Инженер')])\n"
          ]
        }
      ],
      "source": [
        "#items — метод словарей в Python, который возвращает список кортежей, \n",
        "# где каждый кортеж состоит из пары «ключ — значение». Этот список представляет собой объект dict_items, \n",
        "# который можно итерировать.\n",
        "\n",
        "user_info = {'Имя': 'Анна','Возраст': 28,'Город': 'Москва','Профессия': 'Инженер'}\n",
        "# Используем метод items() для получения списка пар «ключ — значение» из словаря user_info. \n",
        "items_list = user_info.items() \n",
        "print(items_list) \n",
        "# Выведет: dict_items([('Имя', 'Анна'), ('Возраст', 28), ('Город', 'Москва'), ('Профессия', 'Инженер')])"
      ]
    },
    {
      "cell_type": "markdown",
      "metadata": {},
      "source": [
        "### Copy"
      ]
    },
    {
      "cell_type": "code",
      "execution_count": 137,
      "metadata": {},
      "outputs": [
        {
          "name": "stdout",
          "output_type": "stream",
          "text": [
            "{'Сергей': 170, 'Иван': 164, 'Андрей': 182}\n",
            "{'Сергей': 170, 'Иван': 174, 'Андрей': 182}\n",
            "{'Сергей': [170, 62], 'Иван': [180, 70], 'Андрей': [182, 76]}\n"
          ]
        }
      ],
      "source": [
        "#Метод создаёт поверхностную копию словаря. Необходимо быть осторожными при работе с вложенными структурами \n",
        "# данных (например, другими словарями или списками) внутри словаря. Изменения во вложенных объектах копии \n",
        "# словаря также будут отражены в оригинальном словаре, поскольку поверхностная копия создаёт новый словарь, \n",
        "# но ссылки на вложенные объекты остаются теми же.\n",
        "\n",
        "# В нём мы увидим, что параметры «вес» и «рост» содержат только ссылки вместо дубликатов. \n",
        "# Для получения дубликатов используйте глубинную копию, которую можно получить функцией deepcopy.\n",
        "employees = {'Сергей': 170, 'Иван': 164, 'Андрей': 182}\n",
        "employees_2 = employees.copy()  # поверхностная копия\n",
        "employees_2['Иван'] = 174\n",
        "print(employees)\n",
        "print(employees_2)\n",
        "employees_weights = {'Сергей': [170, 62], 'Иван': [164, 70], 'Андрей': [182, 76]}\n",
        "employees_weights_2 = employees_weights.copy()\n",
        "employees_weights_2['Иван'][0] = 180\n",
        "print(employees_weights)"
      ]
    },
    {
      "cell_type": "markdown",
      "metadata": {},
      "source": [
        "### Len"
      ]
    },
    {
      "cell_type": "code",
      "execution_count": 138,
      "metadata": {},
      "outputs": [
        {
          "name": "stdout",
          "output_type": "stream",
          "text": [
            "3\n"
          ]
        }
      ],
      "source": [
        "#Используя len, вы определяете длину объекта или количество элементов в контейнере. \n",
        "# В контексте словаря len возвращает количество пар «ключ — значение».\n",
        "\n",
        "# Создаём словарь.\n",
        "employees = {'Сергей': 170, 'Иван': 164, 'Андрей': 182}\n",
        "# Определяем длину словаря.\n",
        "print(len(employees))#вернёт 3"
      ]
    },
    {
      "cell_type": "markdown",
      "metadata": {
        "id": "N48ikJJQApD2"
      },
      "source": [
        "Выведем информацию о странах и столициах в виде:  \n",
        " `Страна:  ..., столица: город ...`"
      ]
    },
    {
      "cell_type": "code",
      "execution_count": 110,
      "metadata": {
        "id": "vCv-tCPrA2Gp"
      },
      "outputs": [
        {
          "data": {
            "text/plain": [
              "dict_items([('испания', {'столица': 'мадрид'}), ('франция', {'столица': 'париж'}), ('германия', {'столица': 'берлин'}), ('норвегия', {'столица': 'осло'})])"
            ]
          },
          "execution_count": 110,
          "metadata": {},
          "output_type": "execute_result"
        }
      ],
      "source": [
        "europe = {'испания': {'столица': 'мадрид'},\n",
        "           'франция': {'столица': 'париж'},\n",
        "           'германия': {'столица': 'берлин'},\n",
        "           'норвегия': {'столица': 'осло'}}\n",
        "europe.items()"
      ]
    },
    {
      "cell_type": "code",
      "execution_count": 99,
      "metadata": {
        "id": "6RFPa8fbipLh"
      },
      "outputs": [
        {
          "name": "stdout",
          "output_type": "stream",
          "text": [
            "Страна: Испания, столица: город Мадрид\n",
            "Страна: Франция, столица: город Париж\n",
            "Страна: Германия, столица: город Берлин\n",
            "Страна: Норвегия, столица: город Осло\n"
          ]
        }
      ],
      "source": [
        "for country, info in europe.items():\n",
        "    print(f'Страна: {country.capitalize()}, столица: город {info[\"столица\"].capitalize()}')"
      ]
    },
    {
      "cell_type": "code",
      "execution_count": 157,
      "metadata": {},
      "outputs": [
        {
          "name": "stdout",
          "output_type": "stream",
          "text": [
            "Первый Символ Теперь Помещается В Заглавный А Не В Верхний Регистр "
          ]
        }
      ],
      "source": [
        "x = 'первый символ теперь пОмещается в Заглавный, а не в верХний регистр'\n",
        "for word in x.split():\n",
        "    word=word.strip(',')\n",
        "    print(word.capitalize(),end=' ')\n",
        "\n"
      ]
    },
    {
      "cell_type": "markdown",
      "metadata": {
        "id": "M_J5Soup_9eI"
      },
      "source": [
        "\n",
        "Посчитаем средний возраст в коллективе"
      ]
    },
    {
      "cell_type": "code",
      "execution_count": 163,
      "metadata": {
        "id": "1p9kq0qx__sL"
      },
      "outputs": [],
      "source": [
        "people = {1: {'имя': 'Олег', 'возраст': '33', 'пол': 'м'},\n",
        "          2: {'имя': 'Екатерина', 'возраст': '21', 'пол': 'ж'},\n",
        "          3: {'имя': 'Кира', 'возраст': '24', 'пол': 'м'},\n",
        "          4: {'имя': 'Владимир', 'возраст': '36', 'пол': 'ж'}}"
      ]
    },
    {
      "cell_type": "code",
      "execution_count": 179,
      "metadata": {
        "id": "4YVmySMeV_X9"
      },
      "outputs": [
        {
          "name": "stdout",
          "output_type": "stream",
          "text": [
            "33\n",
            "54\n",
            "78\n",
            "114\n",
            "28.5\n"
          ]
        }
      ],
      "source": [
        "mean_age=0\n",
        "for number, info in people.items():\n",
        "    #print(f'Номер: {number}, имя: {info[\"имя\"]}, возраст: {info[\"возраст\"]}, пол: {info[\"пол\"]}')\n",
        "    #print(info[\"возраст\"])\n",
        "    mean_age+=int(info[\"возраст\"])\n",
        "    print(mean_age)\n",
        "print(mean_age/len(people))\n",
        "    "
      ]
    },
    {
      "cell_type": "markdown",
      "metadata": {
        "id": "sHhdgs0DEeYY"
      },
      "source": [
        "## Функция range"
      ]
    },
    {
      "cell_type": "markdown",
      "metadata": {
        "id": "zCZIEde1QeDD"
      },
      "source": [
        "range() позволяет генерировать ряд чисел в рамках заданного диапазона.\n",
        "В зависимости от того, как много аргументов вы передаете в функцию, вы можете решить, где этот ряд чисел начнется и закончится, а также сможете определить шаг последовательности."
      ]
    },
    {
      "cell_type": "markdown",
      "metadata": {
        "id": "lNvezEpOMsNV"
      },
      "source": [
        "Есть три способа вызова range():\n",
        "\n",
        "- range(стоп) берет один аргумент\n",
        "- range(старт, стоп) берет два аргумента\n",
        "- range(старт, стоп, шаг) берет три аргумента"
      ]
    },
    {
      "cell_type": "code",
      "execution_count": 175,
      "metadata": {
        "id": "U-_X698REeYZ"
      },
      "outputs": [
        {
          "data": {
            "text/plain": [
              "range(0, 10)"
            ]
          },
          "execution_count": 175,
          "metadata": {},
          "output_type": "execute_result"
        }
      ],
      "source": [
        "range(10)"
      ]
    },
    {
      "cell_type": "code",
      "execution_count": 176,
      "metadata": {
        "id": "Z96EkFKaEeYZ"
      },
      "outputs": [
        {
          "name": "stdout",
          "output_type": "stream",
          "text": [
            "0\n",
            "1\n",
            "2\n",
            "3\n",
            "4\n",
            "5\n",
            "6\n",
            "7\n",
            "8\n",
            "9\n"
          ]
        }
      ],
      "source": [
        "for i in range(10):\n",
        "    print(i)"
      ]
    },
    {
      "cell_type": "code",
      "execution_count": 177,
      "metadata": {
        "id": "imfdGkRXEeYa"
      },
      "outputs": [
        {
          "name": "stdout",
          "output_type": "stream",
          "text": [
            "3\n",
            "4\n",
            "5\n",
            "6\n",
            "7\n",
            "8\n",
            "9\n"
          ]
        }
      ],
      "source": [
        "# с указанием левой и правой границы\n",
        "for i in range(3, 10):\n",
        "    print(i)"
      ]
    },
    {
      "cell_type": "code",
      "execution_count": 182,
      "metadata": {
        "id": "Q5FJVw6iEeYa"
      },
      "outputs": [
        {
          "name": "stdout",
          "output_type": "stream",
          "text": [
            "3\n",
            "8\n",
            "13\n",
            "18\n"
          ]
        }
      ],
      "source": [
        "# третий аргумент - шаг\n",
        "for i in range(3, 20,5):\n",
        "    print(i)"
      ]
    },
    {
      "cell_type": "markdown",
      "metadata": {
        "id": "Bz8pKr5nEeYa"
      },
      "source": [
        "Напишем программу, которая считает сумму квадратов n натуральных чисел.\n",
        "n запрашиваем у пользователя"
      ]
    },
    {
      "cell_type": "code",
      "execution_count": 186,
      "metadata": {
        "id": "ln0fLulzEeYa"
      },
      "outputs": [
        {
          "name": "stdout",
          "output_type": "stream",
          "text": [
            "Сумма на шаге 1 равна 1\n",
            "Сумма на шаге 2 равна 5\n",
            "Сумма на шаге 3 равна 14\n",
            "Сумма на шаге 4 равна 30\n",
            "Сумма на шаге 5 равна 55\n",
            "55\n"
          ]
        }
      ],
      "source": [
        "n=int(input('Введите число'))\n",
        "sum_=0\n",
        "for num in range(1,n+1):\n",
        "    sum_+=num**2\n",
        "    print(f'Сумма на шаге {num} равна {sum_}')\n",
        "print(sum_)"
      ]
    },
    {
      "cell_type": "markdown",
      "metadata": {
        "id": "iJAkazM1EeYb"
      },
      "source": [
        "\n",
        "Напишем программу, которая рассчитаем факториал числа n. n запрашиваем у пользователя"
      ]
    },
    {
      "cell_type": "code",
      "execution_count": 190,
      "metadata": {
        "id": "hTx9i6nN2bGW"
      },
      "outputs": [
        {
          "name": "stdout",
          "output_type": "stream",
          "text": [
            "Факториал на шаге 1 равен 1\n",
            "Факториал на шаге 2 равен 2\n",
            "Факториал на шаге 3 равен 6\n",
            "6\n"
          ]
        }
      ],
      "source": [
        "n=int(input('Введите число'))\n",
        "fact=1\n",
        "for num in range(1,n+1):\n",
        "    fact*=num\n",
        "    print(f'Факториал на шаге {num} равен {fact}')\n",
        "print(fact)"
      ]
    },
    {
      "cell_type": "markdown",
      "metadata": {
        "id": "nRL8nM6hEeYc"
      },
      "source": [
        "## Функция enumerate"
      ]
    },
    {
      "cell_type": "markdown",
      "metadata": {
        "id": "QMuWrheREeYc"
      },
      "source": [
        "enumerate позволяет получать индекс каждого элемента в объекте"
      ]
    },
    {
      "cell_type": "code",
      "execution_count": 192,
      "metadata": {
        "id": "iZl9-joHEeYc"
      },
      "outputs": [
        {
          "data": {
            "text/plain": [
              "<enumerate at 0x1669244b6f0>"
            ]
          },
          "execution_count": 192,
          "metadata": {},
          "output_type": "execute_result"
        }
      ],
      "source": [
        "enumerate('1,2,3,4,5')"
      ]
    },
    {
      "cell_type": "code",
      "execution_count": 193,
      "metadata": {
        "id": "G18OpLgqEeYc"
      },
      "outputs": [
        {
          "name": "stdout",
          "output_type": "stream",
          "text": [
            "0 1\n",
            "1 ,\n",
            "2 2\n",
            "3 ,\n",
            "4 3\n",
            "5 ,\n",
            "6 4\n",
            "7 ,\n",
            "8 5\n"
          ]
        }
      ],
      "source": [
        "for i, el in enumerate('1,2,3,4,5'):  # в цикле можем сразу перебирать индексы и сами элементы\n",
        "    print(i, el)"
      ]
    },
    {
      "cell_type": "code",
      "execution_count": 194,
      "metadata": {
        "id": "fjmqpJKxEeYc"
      },
      "outputs": [
        {
          "name": "stdout",
          "output_type": "stream",
          "text": [
            "Позиция символа \"S\" - 1\n",
            "Позиция символа \"k\" - 2\n",
            "Позиция символа \"i\" - 3\n",
            "Позиция символа \"l\" - 4\n",
            "Позиция символа \"l\" - 5\n",
            "Позиция символа \"F\" - 6\n",
            "Позиция символа \"a\" - 7\n",
            "Позиция символа \"c\" - 8\n",
            "Позиция символа \"t\" - 9\n",
            "Позиция символа \"o\" - 10\n",
            "Позиция символа \"r\" - 11\n",
            "Позиция символа \"y\" - 12\n"
          ]
        }
      ],
      "source": [
        "company_name = 'SkillFactory'\n",
        "for i, letter in enumerate(company_name):\n",
        "    print(f'Позиция символа \"{letter}\" - {i+1}')"
      ]
    },
    {
      "cell_type": "markdown",
      "metadata": {
        "id": "YZplGdfcfzpB"
      },
      "source": [
        "\n",
        "Решим задачу с квадратной матрицей при помощи enumerate"
      ]
    },
    {
      "cell_type": "code",
      "execution_count": null,
      "metadata": {
        "id": "mCb2AbBpfzpB"
      },
      "outputs": [],
      "source": [
        "data = [\n",
        "    [13, 25, 23, 34],\n",
        "    [45, 32, 44, 47],\n",
        "    [12, 33, 23, 95],\n",
        "    [13, 53, 34, 35]\n",
        "]"
      ]
    },
    {
      "cell_type": "code",
      "execution_count": 195,
      "metadata": {
        "id": "P0o7KOdX9Q8-"
      },
      "outputs": [
        {
          "name": "stdout",
          "output_type": "stream",
          "text": [
            "103\n"
          ]
        }
      ],
      "source": [
        "sum_=0\n",
        "index=0\n",
        "for row in data:\n",
        "    #print(row)\n",
        "    sum_+=row[index]\n",
        "    index+=1\n",
        "    #print(sum_)\n",
        "print(sum_)"
      ]
    },
    {
      "cell_type": "code",
      "execution_count": 196,
      "metadata": {
        "id": "JfJgoQtODkML"
      },
      "outputs": [
        {
          "name": "stdout",
          "output_type": "stream",
          "text": [
            "103\n"
          ]
        }
      ],
      "source": [
        "sum_=0\n",
        "for i,j in enumerate(data):\n",
        "    sum_+=j[i]\n",
        "print(sum_)    \n"
      ]
    },
    {
      "cell_type": "markdown",
      "metadata": {
        "id": "gOerjvEAMsJp"
      },
      "source": [
        "## Цикл `while`\n",
        "\n",
        "Выполняется до тех пор, пока истинно указанное условие. Как только оно становится ложным, цикл прерывается.\n",
        "```python\n",
        "while условие:\n",
        "    # Начало блока кода с телом цикла\n",
        "    # Пока условие истинно, цикл выполняется\n",
        "    ...\n",
        "    ...\n",
        "    ...\n",
        "    # Конец блока кода с телом цикла\n",
        "# Код, который будет выполняться после цикла\n",
        "```\n"
      ]
    },
    {
      "cell_type": "markdown",
      "metadata": {
        "id": "CsXqEUsDlP_z"
      },
      "source": [
        "Предположим, что мы положили 100000 у.е. в банк под 5% годовых (то есть в конце каждого года на счету будет на 5% больше денег, чем в его начале). Через сколько лет деньги удвоятся?"
      ]
    },
    {
      "cell_type": "code",
      "execution_count": 197,
      "metadata": {
        "id": "f9FZPM5ElRmV"
      },
      "outputs": [
        {
          "name": "stdout",
          "output_type": "stream",
          "text": [
            "Год 1: денег будет 105000.00\n",
            "Год 2: денег будет 110250.00\n",
            "Год 3: денег будет 115762.50\n",
            "Год 4: денег будет 121550.62\n",
            "Год 5: денег будет 127628.16\n",
            "Год 6: денег будет 134009.56\n",
            "Год 7: денег будет 140710.04\n",
            "Год 8: денег будет 147745.54\n",
            "Год 9: денег будет 155132.82\n",
            "Год 10: денег будет 162889.46\n",
            "Год 11: денег будет 171033.94\n",
            "Год 12: денег будет 179585.63\n",
            "Год 13: денег будет 188564.91\n",
            "Год 14: денег будет 197993.16\n",
            "Год 15: денег будет 207892.82\n",
            "Деньги удвоятся через 15 лет.\n"
          ]
        }
      ],
      "source": [
        "money = 100000\n",
        "year = 0\n",
        "yearly_multiplier = 1.05\n",
        "money_target = money * 2\n",
        "\n",
        "while money < money_target:\n",
        "    money *= yearly_multiplier\n",
        "    year += 1\n",
        "    print(f'Год {year}: денег будет {money :.2f}')\n",
        "\n",
        "print(f'Деньги удвоятся через {year} лет.')"
      ]
    },
    {
      "cell_type": "markdown",
      "metadata": {
        "id": "Q7pnLz-5lGUd"
      },
      "source": [
        "Для успешного выполнения цикла условие должно быть построено таким образом, чтобы оно когда-нибудь стало ложным, то есть переменные, участвующие в условии, должны изменяться в теле цикла. Иначе мы уйдём в бесконечный цикл (infinite loop)."
      ]
    },
    {
      "cell_type": "code",
      "execution_count": null,
      "metadata": {
        "id": "NTG0FqW23QAr"
      },
      "outputs": [],
      "source": [
        "money = 100000\n",
        "year = 0\n",
        "yearly_multiplier = 1.05\n",
        "money_target = money * 2\n",
        "\n",
        "while money < money_target:\n",
        "    money /= yearly_multiplier  # тут перепутали действие\n",
        "    year += 1\n",
        "    year = year + 1\n",
        "    print(f'Год {year}: денег будет {money :.2f}')\n",
        "\n",
        "print(f'Деньги удвоятся через {year} лет.')"
      ]
    },
    {
      "cell_type": "markdown",
      "metadata": {
        "id": "7VYZb1pQ3QAv"
      },
      "source": [
        "[Гипотеза Коллатца](https://ru.wikipedia.org/wiki/Гипотеза_Коллатца) гласит, что любое натуральное число сводится к единице при следующих действиях над ним:\n",
        "\n",
        "а) если число четное, то разделить его пополам,\n",
        "\n",
        "б) если число нечетное, то умножить его на 3, прибавить 1 и результат разделить на 2.\n",
        "\n",
        "Над вновь полученным числом вновь повторить действия `a` или `б` в зависимости от чётности числа. Рано или поздно число станет равным 1.\n",
        "\n",
        "Кому интересно, можно ещё посмотреть ролик на [YouTube](\n",
        "https://www.youtube.com/watch?v=QgzBDZwanWA).\n",
        "\n",
        "Напишем программу, проверяющую гипотезу Коллатца. Пусть пользователь вводит любое натуральное число. Будем выполнять в цикле над ним вышеуказанные действия, пока оно не станет равным 1. Если гипотеза верна, то рано или поздно цикл закончится, а если нет - то произойдет зацикливание программы."
      ]
    },
    {
      "cell_type": "code",
      "execution_count": 208,
      "metadata": {
        "id": "7mRmI9YY3QAx"
      },
      "outputs": [
        {
          "name": "stdout",
          "output_type": "stream",
          "text": [
            "получим единицу после 583 итераций\n"
          ]
        }
      ],
      "source": [
        "n=int(input('Введите число'))\n",
        "count=0\n",
        "while n!=1:\n",
        "    if n%2==0:\n",
        "        n=n//2\n",
        "    else:\n",
        "        n=(n*3+1)//2\n",
        "    count += 1    \n",
        "    #print(n)\n",
        "print(f'получим единицу после {count} итераций')\n",
        "\n"
      ]
    },
    {
      "cell_type": "markdown",
      "metadata": {
        "id": "7aMMFJfPEeYV"
      },
      "source": [
        "## Операторы break и continue\n",
        "break – прерывает исполнение цикла\n",
        "continue – прерывает только текущую итерацию и сразу переходит к следующей.  \n",
        "Работают и с **while**, и с **for**"
      ]
    },
    {
      "cell_type": "code",
      "execution_count": 209,
      "metadata": {
        "id": "cZ6fnaCREeYW"
      },
      "outputs": [],
      "source": [
        "phrase = '640Кб должно хватить для любых задач. Билл Гейтс (по легенде)'"
      ]
    },
    {
      "cell_type": "code",
      "execution_count": 214,
      "metadata": {
        "id": "cN40gvIvEeYW"
      },
      "outputs": [
        {
          "name": "stdout",
          "output_type": "stream",
          "text": [
            "640Кб должно "
          ]
        }
      ],
      "source": [
        "for letter in phrase:\n",
        "    if letter == 'х':\n",
        "        break\n",
        "    print(letter, end='')"
      ]
    },
    {
      "cell_type": "markdown",
      "metadata": {
        "id": "79SPyFH9A0Jm"
      },
      "source": [
        "Делаем инвентарь для персонажа, который может уместить только 3 предмета. Пусть изначально инвентарь пуст. Будем его наполнять до тех пор, пока места не закончится."
      ]
    },
    {
      "cell_type": "code",
      "execution_count": 215,
      "metadata": {
        "id": "nhmHhDIoBAer"
      },
      "outputs": [
        {
          "name": "stdout",
          "output_type": "stream",
          "text": [
            "Места больше нет!\n",
            "['Мокасины скорости', 'Маска-лицехват', 'Шапочка из фольги']\n"
          ]
        }
      ],
      "source": [
        "to_inventory = ['Мокасины скорости', 'Маска-лицехват', 'Шапочка из фольги', 'Философский камень']\n",
        "\n",
        "inventory = []\n",
        "\n",
        "for item in to_inventory:\n",
        "    if len(inventory) == 3:\n",
        "        print('Места больше нет!')\n",
        "        # Завершаем работу цикла\n",
        "        break\n",
        "    inventory.append(item)\n",
        "\n",
        "print(inventory)"
      ]
    },
    {
      "cell_type": "code",
      "execution_count": 218,
      "metadata": {
        "id": "aZ2Qg_r7EeYW"
      },
      "outputs": [
        {
          "name": "stdout",
          "output_type": "stream",
          "text": [
            "640Кбдолжнохватитьдлялюбыхзадач.БиллГейтс(полегенде)"
          ]
        }
      ],
      "source": [
        "phrase = '640Кб должно хватить для любых задач. Билл Гейтс (по легенде)'\n",
        "\n",
        "for letter in phrase:\n",
        "    if letter == ' ':\n",
        "        continue\n",
        "    print(letter, end='')"
      ]
    },
    {
      "cell_type": "markdown",
      "metadata": {
        "id": "xXeh9lTbFHc2"
      },
      "source": [
        "У нас есть список с разными объектами. Нам нужно просуммировать только чётные числа."
      ]
    },
    {
      "cell_type": "code",
      "execution_count": 219,
      "metadata": {
        "id": "efbyn4PQFMDs"
      },
      "outputs": [
        {
          "name": "stdout",
          "output_type": "stream",
          "text": [
            "Элемент abc не является числом\n",
            "Сумма четных чисел: 32\n"
          ]
        }
      ],
      "source": [
        "some_els = [10, 5, 8, 2, \"abc\", 12, 3]\n",
        "\n",
        "result = 0\n",
        "for el in some_els:\n",
        "    if type(el) != int:\n",
        "        print(f\"Элемент {el} не является числом\")\n",
        "        continue\n",
        "    if el % 2 == 0:\n",
        "        result += el\n",
        "\n",
        "print(\"Сумма четных чисел:\", result)"
      ]
    },
    {
      "cell_type": "markdown",
      "metadata": {
        "id": "E6ywQi0G5-o1"
      },
      "source": [
        "## `else` и циклы\n",
        "\n",
        "`else` выполняется после завершения цикла, если цикл не был прерван инструкцией `break`. Если же в цикле отрабатывает `break`, то `else` не исполнится."
      ]
    },
    {
      "cell_type": "markdown",
      "metadata": {
        "id": "rrt2CXpIxlJz"
      },
      "source": [
        "Напишем игру \"Угадай число\""
      ]
    },
    {
      "cell_type": "code",
      "execution_count": 222,
      "metadata": {
        "id": "8oU2aES0g53U"
      },
      "outputs": [
        {
          "name": "stdout",
          "output_type": "stream",
          "text": [
            "38\n",
            "Загаданное число меньше\n",
            "Загаданное число больше\n",
            "Загаданное число больше\n",
            "Загаданное число больше\n",
            "Загаданное число больше\n",
            "Загаданное число больше\n",
            "Загаданное число больше\n",
            "Загаданное число больше\n",
            "Загаданное число больше\n",
            "Загаданное число больше\n",
            "Загаданное число больше\n",
            "Ты проиграл\n",
            "Было загадано число: 38\n"
          ]
        }
      ],
      "source": [
        "import random\n",
        "\n",
        "number = random.randint(1, 100)\n",
        "print(number)\n",
        "max_tries = 11\n",
        "tries = 0\n",
        "\n",
        "while tries < max_tries:\n",
        "    guess = int(input('Назови свой вариант'))\n",
        "    if guess < number:\n",
        "        print('Загаданное число больше')\n",
        "    elif guess > number:\n",
        "        print('Загаданное число меньше')\n",
        "    else:\n",
        "        print('Ты победил!')\n",
        "        break\n",
        "    tries += 1\n",
        "else:\n",
        "    print('Ты проиграл')\n",
        "    print(f'Было загадано число: {number}')"
      ]
    },
    {
      "cell_type": "markdown",
      "metadata": {
        "id": "9wAk7cHLI3lD"
      },
      "source": [
        "Напишем программу для проверки логина и пароля\n",
        "\n",
        "1) логин и пароль пользователя хранится в переменной\n",
        "\n",
        "2) будем давать пользователю k попыток на ввод логина и пароля\n",
        "\n",
        "3) если после трех попыток вверного ввода не было, то заблокируем вход - вывести на экран сообщение \"Вход заблокирован\"\n",
        "\n",
        "4) если пароль и логин были введены верно, то вывести на экран сообщение \"Добро пожаловать!\""
      ]
    },
    {
      "cell_type": "code",
      "execution_count": null,
      "metadata": {
        "id": "Qbi4rQ1SI3lD"
      },
      "outputs": [],
      "source": [
        "login_correct = 'admin'\n",
        "pswd_correct = 'admin'\n",
        "k = 3\n",
        "\n",
        "for attempt in range(k, 0, -1):\n",
        "    login = input('Ввелите логин')\n",
        "    pswd = input('Введите пароль')\n",
        "    if login != login_correct or pswd != pswd_correct:\n",
        "        print(f'Осталось попыток: {attempt-1}')\n",
        "    else:\n",
        "        print('Добро пожаловать!')\n",
        "        break\n",
        "else:\n",
        "    print('Вход заблокирован')"
      ]
    },
    {
      "cell_type": "markdown",
      "metadata": {
        "id": "UBfqWckSEeYd"
      },
      "source": [
        "## Вложенные циклы\n",
        "\n",
        "Вас не должно смущать, что циклы могут находится внутри других циклов. Все элементы языка можно комбинировать друг с другом, как захотим"
      ]
    },
    {
      "cell_type": "markdown",
      "metadata": {
        "id": "pJUjBZvGfzpU"
      },
      "source": [
        "Выведем фамилии построчно с указанием профессии в формате:\n",
        "\n",
        "```\n",
        "IT:\n",
        "Гейтс\n",
        "Джобс\n",
        "Возняк\n",
        "\n",
        "Искусство:\n",
        "Пикассо\n",
        "Моне\n",
        "Ван Гог\n",
        "\n",
        "...\n",
        "```"
      ]
    },
    {
      "cell_type": "code",
      "execution_count": 228,
      "metadata": {
        "id": "z_vxMDG4fzpU"
      },
      "outputs": [],
      "source": [
        "professions = ['IT', 'Искусство', 'Спорт', 'Музыка']\n",
        "persons = [['Гейтс', 'Джобс', 'Возняк'], ['Пикассо', 'Моне', 'Ван Гог'], ['Федерер', 'Надаль'], ['Моцарт', 'Бах']]"
      ]
    },
    {
      "cell_type": "markdown",
      "metadata": {
        "id": "FguctYLb2f_M"
      },
      "source": [
        "Для решения нам поможет функция [zip](https://t.me/pythontalk_ru/536)"
      ]
    },
    {
      "cell_type": "code",
      "execution_count": 229,
      "metadata": {
        "id": "eTnEhBnZJpYv"
      },
      "outputs": [
        {
          "data": {
            "text/plain": [
              "{'IT': ['Гейтс', 'Джобс', 'Возняк'],\n",
              " 'Искусство': ['Пикассо', 'Моне', 'Ван Гог'],\n",
              " 'Спорт': ['Федерер', 'Надаль'],\n",
              " 'Музыка': ['Моцарт', 'Бах']}"
            ]
          },
          "execution_count": 229,
          "metadata": {},
          "output_type": "execute_result"
        }
      ],
      "source": [
        "dict(zip(professions, persons))"
      ]
    },
    {
      "cell_type": "code",
      "execution_count": 230,
      "metadata": {},
      "outputs": [
        {
          "name": "stdout",
          "output_type": "stream",
          "text": [
            "('IT', ['Гейтс', 'Джобс', 'Возняк'])\n",
            "('Искусство', ['Пикассо', 'Моне', 'Ван Гог'])\n",
            "('Спорт', ['Федерер', 'Надаль'])\n",
            "('Музыка', ['Моцарт', 'Бах'])\n"
          ]
        }
      ],
      "source": [
        "for el in dict(zip(professions, persons)).items():\n",
        "    print(el)"
      ]
    },
    {
      "cell_type": "code",
      "execution_count": 237,
      "metadata": {
        "id": "F1SypBEBfzpU"
      },
      "outputs": [
        {
          "name": "stdout",
          "output_type": "stream",
          "text": [
            "IT:\n",
            "Гейтс\n",
            "Джобс\n",
            "Возняк\n",
            "\n",
            "Искусство:\n",
            "Пикассо\n",
            "Моне\n",
            "Ван Гог\n",
            "\n",
            "Спорт:\n",
            "Федерер\n",
            "Надаль\n",
            "\n",
            "Музыка:\n",
            "Моцарт\n",
            "Бах\n",
            "\n"
          ]
        }
      ],
      "source": [
        "for pro, names in zip(professions, persons):\n",
        "    print(f'{pro}:')\n",
        "    for name in names:\n",
        "        print(name)\n",
        "    print()"
      ]
    },
    {
      "cell_type": "markdown",
      "metadata": {
        "id": "eACPDSwF2nrl"
      },
      "source": [
        "Вспоминаем один из принципов PEP20: Flat is better than nested\n",
        "\n",
        "Если ваша задача решается без использования вложенных списков, то лучше обойтись без них."
      ]
    },
    {
      "cell_type": "code",
      "execution_count": 245,
      "metadata": {
        "id": "wFjyyvhKzMYE"
      },
      "outputs": [
        {
          "name": "stdout",
          "output_type": "stream",
          "text": [
            "IT:\n",
            "Гейтс\n",
            "Джобс\n",
            "Возняк\n",
            "\n",
            "Искусство:\n",
            "Пикассо\n",
            "Моне\n",
            "Ван Гог\n",
            "\n",
            "Спорт:\n",
            "Федерер\n",
            "Надаль\n",
            "\n",
            "Музыка:\n",
            "Моцарт\n",
            "Бах\n",
            "\n"
          ]
        }
      ],
      "source": [
        "for pro, names in zip(professions, persons):\n",
        "    print(f'{pro}:')\n",
        "    print('\\n'.join(names))\n",
        "    print()"
      ]
    },
    {
      "cell_type": "markdown",
      "metadata": {
        "id": "ceNE2LFpEeYf"
      },
      "source": [
        "Напишем программу, которая выведет на экран таблицу умножения (Таблица Пифагора)"
      ]
    },
    {
      "cell_type": "code",
      "execution_count": 253,
      "metadata": {
        "id": "7U4WCKDFEeYf",
        "scrolled": true
      },
      "outputs": [
        {
          "name": "stdout",
          "output_type": "stream",
          "text": [
            "1\t2\t3\t4\t5\t6\t7\t8\t9\t\n",
            "2\t4\t6\t8\t10\t12\t14\t16\t18\t\n",
            "3\t6\t9\t12\t15\t18\t21\t24\t27\t\n",
            "4\t8\t12\t16\t20\t24\t28\t32\t36\t\n",
            "5\t10\t15\t20\t25\t30\t35\t40\t45\t\n",
            "6\t12\t18\t24\t30\t36\t42\t48\t54\t\n",
            "7\t14\t21\t28\t35\t42\t49\t56\t63\t\n",
            "8\t16\t24\t32\t40\t48\t56\t64\t72\t\n",
            "9\t18\t27\t36\t45\t54\t63\t72\t81\t\n"
          ]
        }
      ],
      "source": [
        "for i in range(1, 10):\n",
        "    for j in range(1, 10):\n",
        "        print(i * j, end='\\t')\n",
        "    print()"
      ]
    },
    {
      "cell_type": "markdown",
      "metadata": {
        "id": "z1qLRsaafzpJ"
      },
      "source": [
        "Проблема изменения длины объекта во время итерации по нему\n",
        "\n",
        "Дан список с визитами по городам и странам.  Напишем код, который возвращает отфильтрованный список geo_logs, содержащий только визиты из России.\n"
      ]
    },
    {
      "cell_type": "code",
      "execution_count": 289,
      "metadata": {
        "id": "QIDUEySefzpK"
      },
      "outputs": [],
      "source": [
        "geo_logs = [\n",
        "    {'visit1': ['Москва', 'Россия']},\n",
        "    {'visit2': ['Дели', 'Индия']},\n",
        "    {'visit3': ['Владимир', 'Россия']},\n",
        "    {'visit4': ['Лиссабон', 'Португалия']},\n",
        "    {'visit5': ['Париж', 'Франция']},\n",
        "    {'visit6': ['Тула', 'Россия']},\n",
        "    {'visit7': ['Курск', 'Россия']},\n",
        "    {'visit8': ['Архангельск', 'Россия']}\n",
        "]\n",
        "\n",
        "target_country = 'Россия'"
      ]
    },
    {
      "cell_type": "code",
      "execution_count": 301,
      "metadata": {
        "id": "5R4dYiyL7KLF"
      },
      "outputs": [
        {
          "name": "stdout",
          "output_type": "stream",
          "text": [
            "['Москва', 'Россия']\n",
            "['Дели', 'Индия']\n",
            "['Владимир', 'Россия']\n",
            "['Лиссабон', 'Португалия']\n",
            "['Париж', 'Франция']\n",
            "['Тула', 'Россия']\n",
            "['Курск', 'Россия']\n",
            "['Архангельск', 'Россия']\n"
          ]
        },
        {
          "data": {
            "text/plain": [
              "[{'visit1': ['Москва', 'Россия']},\n",
              " {'visit3': ['Владимир', 'Россия']},\n",
              " {'visit6': ['Тула', 'Россия']},\n",
              " {'visit7': ['Курск', 'Россия']},\n",
              " {'visit8': ['Архангельск', 'Россия']}]"
            ]
          },
          "execution_count": 301,
          "metadata": {},
          "output_type": "execute_result"
        }
      ],
      "source": [
        "res=[]\n",
        "for log in geo_logs:\n",
        "    print((list(log.values()))[0])\n",
        "    if target_country in tuple(log.values())[0]:\n",
        "        res.append(log)\n",
        "res"
      ]
    },
    {
      "cell_type": "code",
      "execution_count": null,
      "metadata": {
        "id": "cuGByYmKMpix"
      },
      "outputs": [],
      "source": []
    },
    {
      "cell_type": "markdown",
      "metadata": {
        "id": "HrCwjJziO_3t"
      },
      "source": [
        "Имеется структура данных cook_book, в которой хранится информация об ингредиентах блюд и их количестве в расчете на одну порцию.\n",
        "\n",
        "Необходимо вывести пользователю список покупок необходимого количества ингредиентов для приготовления блюд на определенное число персон в следующем виде:\n",
        "```\n",
        "Салат:\n",
        "картофель, 500гр.\n",
        "морковь, 250гр.\n",
        "огурцы, 250гр.\n",
        "горошек, 150гр.\n",
        "майонез, 350мл.\n",
        "\n",
        "Пицца:\n",
        "сыр, 250гр.\n",
        "томаты, 250гр.\n",
        "тесто, 500гр.\n",
        "бекон, 150гр.\n",
        "колбаса, 150гр.\n",
        "грибы, 100гр.\n",
        "\n",
        "Фруктовый десерт:\n",
        "хурма, 300гр.\n",
        "киви, 300гр.\n",
        "творог, 300гр.\n",
        "сахар, 50гр.\n",
        "мед, 250мл.\n",
        "```"
      ]
    },
    {
      "cell_type": "code",
      "execution_count": 332,
      "metadata": {
        "id": "89Kjy1rpC4Ul"
      },
      "outputs": [],
      "source": [
        "cook_book = [\n",
        "  ['салат',\n",
        "      [\n",
        "        ['картофель', 100, 'гр.'],\n",
        "        ['морковь', 50, 'гр.'],\n",
        "        ['огурцы', 50, 'гр.'],\n",
        "        ['горошек', 30, 'гр.'],\n",
        "        ['майонез', 70, 'мл.'],\n",
        "      ]\n",
        "  ],\n",
        "  ['пицца',\n",
        "      [\n",
        "        ['сыр', 50, 'гр.'],\n",
        "        ['томаты', 50, 'гр.'],\n",
        "        ['тесто', 100, 'гр.'],\n",
        "        ['бекон', 30, 'гр.'],\n",
        "        ['колбаса', 30, 'гр.'],\n",
        "        ['грибы', 20, 'гр.'],\n",
        "      ],\n",
        "  ],\n",
        "  ['фруктовый десерт',\n",
        "      [\n",
        "        ['хурма', 60, 'гр.'],\n",
        "        ['киви', 60, 'гр.'],\n",
        "        ['творог', 60, 'гр.'],\n",
        "        ['сахар', 10, 'гр.'],\n",
        "        ['мед', 50, 'мл.'],\n",
        "      ]\n",
        "  ]\n",
        "]\n",
        "\n",
        "person = 54"
      ]
    },
    {
      "cell_type": "code",
      "execution_count": 333,
      "metadata": {
        "id": "LZbLtH1VoILr"
      },
      "outputs": [
        {
          "name": "stdout",
          "output_type": "stream",
          "text": [
            "салат:\n",
            "картофель 5400 гр.\n",
            "морковь 2700 гр.\n",
            "огурцы 2700 гр.\n",
            "горошек 1620 гр.\n",
            "майонез 3780 мл.\n",
            "\n",
            "пицца:\n",
            "сыр 2700 гр.\n",
            "томаты 2700 гр.\n",
            "тесто 5400 гр.\n",
            "бекон 1620 гр.\n",
            "колбаса 1620 гр.\n",
            "грибы 1080 гр.\n",
            "\n",
            "фруктовый десерт:\n",
            "хурма 3240 гр.\n",
            "киви 3240 гр.\n",
            "творог 3240 гр.\n",
            "сахар 540 гр.\n",
            "мед 2700 мл.\n",
            "\n"
          ]
        }
      ],
      "source": [
        "for dish, ingrs in cook_book:\n",
        "    print(f'{dish}:')\n",
        "    for ingr, q, measure in ingrs:\n",
        "        print(f'{ingr} {person*q} {measure}')\n",
        "    print()"
      ]
    },
    {
      "cell_type": "code",
      "execution_count": null,
      "metadata": {
        "id": "V4WAsXT6RZ3m"
      },
      "outputs": [],
      "source": []
    },
    {
      "cell_type": "markdown",
      "metadata": {
        "id": "8n1tSQLIOsED"
      },
      "source": [
        "Дана книга рецептов с информацией о том, сколько ингредиентов нужно для приготовления блюда в расчете на одну порцию (пример данных представлен ниже).\n",
        "Напишите программу, которая будет запрашивать у пользователя количество порций для приготовления этих блюд и отображать информацию о суммарном количестве требуемых ингредиентов в указанном виде:\n",
        "\n",
        "```\n",
        "Сыр: 210 гр\n",
        "Томаты: 6 шт\n",
        "Огурцы: 60 гр\n",
        "Маслины: 30 гр\n",
        "Оливковое масло: 60 мл\n",
        "Салат: 30 гр\n",
        "Перец: 60 гр\n",
        "Колбаса: 90 гр\n",
        "Бекон: 90 гр\n",
        "Оливки: 30 гр\n",
        "Томаты: 60 гр\n",
        "Тесто: 300 гр\n",
        "Лимон: 3 шт\n",
        "Вода: 600 мл\n",
        "Сахар: 30 гр\n",
        "Лайм: 60 гр\n",
        "```\n",
        "Внимание! Одинаковые ингредиенты с разными размерностями нужно считать раздельно!"
      ]
    },
    {
      "cell_type": "code",
      "execution_count": 334,
      "metadata": {
        "id": "1eWc6XmyDGd_"
      },
      "outputs": [],
      "source": [
        "cook_book = {\n",
        "  'салат': [\n",
        "     {'ingredient_name': 'сыр', 'quantity': 50, 'measure': 'гр'},\n",
        "     {'ingredient_name': 'томаты', 'quantity': 2, 'measure': 'шт'},\n",
        "     {'ingredient_name': 'огурцы', 'quantity': 20, 'measure': 'гр'},\n",
        "     {'ingredient_name': 'маслины', 'quantity': 10, 'measure': 'гр'},\n",
        "     {'ingredient_name': 'оливковое масло', 'quantity': 20, 'measure': 'мл'},\n",
        "     {'ingredient_name': 'салат', 'quantity': 10, 'measure': 'гр'},\n",
        "     {'ingredient_name': 'перец', 'quantity': 20, 'measure': 'гр'}\n",
        "    ],\n",
        "  'пицца': [\n",
        "     {'ingredient_name': 'сыр', 'quantity': 20, 'measure': 'гр'},\n",
        "     {'ingredient_name': 'колбаса', 'quantity': 30, 'measure': 'гр'},\n",
        "     {'ingredient_name': 'бекон', 'quantity': 30, 'measure': 'гр'},\n",
        "     {'ingredient_name': 'оливки', 'quantity': 10, 'measure': 'гр'},\n",
        "     {'ingredient_name': 'томаты', 'quantity': 20, 'measure': 'гр'},\n",
        "     {'ingredient_name': 'тесто', 'quantity': 100, 'measure': 'гр'},\n",
        "    ],\n",
        "  'лимонад': [\n",
        "     {'ingredient_name': 'лимон', 'quantity': 1, 'measure': 'шт'},\n",
        "     {'ingredient_name': 'вода', 'quantity': 200, 'measure': 'мл'},\n",
        "     {'ingredient_name': 'сахар', 'quantity': 10, 'measure': 'гр'},\n",
        "     {'ingredient_name': 'лайм', 'quantity': 20, 'measure': 'гр'},\n",
        "    ]\n",
        "}"
      ]
    },
    {
      "cell_type": "code",
      "execution_count": 357,
      "metadata": {},
      "outputs": [
        {
          "ename": "NameError",
          "evalue": "name 'split' is not defined",
          "output_type": "error",
          "traceback": [
            "\u001b[1;31m---------------------------------------------------------------------------\u001b[0m",
            "\u001b[1;31mNameError\u001b[0m                                 Traceback (most recent call last)",
            "Cell \u001b[1;32mIn[357], line 1\u001b[0m\n\u001b[1;32m----> 1\u001b[0m help(\u001b[43msplit\u001b[49m)\n",
            "\u001b[1;31mNameError\u001b[0m: name 'split' is not defined"
          ]
        }
      ],
      "source": [
        "help(split)"
      ]
    },
    {
      "cell_type": "code",
      "execution_count": 348,
      "metadata": {
        "id": "GiChM_8sP31g"
      },
      "outputs": [
        {
          "name": "stdout",
          "output_type": "stream",
          "text": [
            "сыр \t 350 \t гр\n",
            "томаты \t 10 \t шт\n",
            "огурцы \t 100 \t гр\n",
            "маслины \t 50 \t гр\n",
            "оливковое масло \t 100 \t мл\n",
            "салат \t 50 \t гр\n",
            "перец \t 100 \t гр\n",
            "колбаса \t 150 \t гр\n",
            "бекон \t 150 \t гр\n",
            "оливки \t 50 \t гр\n",
            "томаты \t 100 \t гр\n",
            "тесто \t 500 \t гр\n",
            "лимон \t 5 \t шт\n",
            "вода \t 1000 \t мл\n",
            "сахар \t 50 \t гр\n",
            "лайм \t 100 \t гр\n"
          ]
        }
      ],
      "source": [
        "res={}\n",
        "person =5\n",
        "for dish in cook_book.values():\n",
        "    for ingrs in dish:\n",
        "        #print(ingrs)\n",
        "        key=(ingrs['ingredient_name'],ingrs['measure'])\n",
        "        #print(key)\n",
        "        res.setdefault(key,0)\n",
        "        res[key]+=ingrs['quantity']*person\n",
        "for key, value in res.items():\n",
        "    print (f'{key[0]} \\t {value} \\t {key[1]}') "
      ]
    },
    {
      "cell_type": "code",
      "execution_count": null,
      "metadata": {
        "id": "dwJxr1cVP347"
      },
      "outputs": [],
      "source": []
    },
    {
      "cell_type": "markdown",
      "metadata": {
        "id": "28As4JUxWkVm"
      },
      "source": [
        "**Спасибо за внимание буду рад ответить на ваши вопросы!**\n",
        "Ссылка на форму ОС:\n",
        "https://docs.google.com/forms/u/0/d/1wOMnRQ9EfN9_70HhwJISgAexeVCD2H4cuigFClCZDbM/viewform?edit_requested=true"
      ]
    },
    {
      "cell_type": "markdown",
      "metadata": {},
      "source": [
        "ДОПОЛНИТЕЛЬНАЯ ИНФОРМАЦИЯ"
      ]
    },
    {
      "cell_type": "markdown",
      "metadata": {},
      "source": [
        "https://silvertests.ru/GuideView.aspx?id=32169"
      ]
    },
    {
      "cell_type": "code",
      "execution_count": 349,
      "metadata": {},
      "outputs": [
        {
          "name": "stdout",
          "output_type": "stream",
          "text": [
            "The Zen of Python, by Tim Peters\n",
            "\n",
            "Beautiful is better than ugly.\n",
            "Explicit is better than implicit.\n",
            "Simple is better than complex.\n",
            "Complex is better than complicated.\n",
            "Flat is better than nested.\n",
            "Sparse is better than dense.\n",
            "Readability counts.\n",
            "Special cases aren't special enough to break the rules.\n",
            "Although practicality beats purity.\n",
            "Errors should never pass silently.\n",
            "Unless explicitly silenced.\n",
            "In the face of ambiguity, refuse the temptation to guess.\n",
            "There should be one-- and preferably only one --obvious way to do it.\n",
            "Although that way may not be obvious at first unless you're Dutch.\n",
            "Now is better than never.\n",
            "Although never is often better than *right* now.\n",
            "If the implementation is hard to explain, it's a bad idea.\n",
            "If the implementation is easy to explain, it may be a good idea.\n",
            "Namespaces are one honking great idea -- let's do more of those!\n"
          ]
        }
      ],
      "source": [
        "import this"
      ]
    },
    {
      "cell_type": "markdown",
      "metadata": {},
      "source": [
        "семинар \n",
        "\n",
        "Условия и циклы в Python\n",
        "\n",
        "Спикер\tМарина Архипцева\n",
        "\n",
        "Дата проведения вебинара\t10.09.24"
      ]
    },
    {
      "cell_type": "code",
      "execution_count": 14,
      "metadata": {},
      "outputs": [
        {
          "name": "stdout",
          "output_type": "stream",
          "text": [
            "False\n",
            "False\n",
            "True\n",
            "\n",
            "False\n",
            "False\n",
            "False\n",
            "True\n",
            "True\n",
            "True\n",
            "\n",
            "False\n",
            "False\n",
            "False\n",
            "False\n"
          ]
        }
      ],
      "source": [
        "# falsy объекты\n",
        "print(bool(False))\n",
        "print(bool(None))                                               \n",
        "print(bool(True))\n",
        "print()\n",
        "\n",
        "\n",
        "# числовые нули\n",
        "print(bool(0))\n",
        "print(bool(0.0))\n",
        "print(bool(0j))\n",
        "print(bool(1))\n",
        "print(bool(1.0))\n",
        "print(bool(1j))\n",
        "print()\n",
        "\n",
        "# пустые последовательности и их коллекции\n",
        "print(bool(''))\n",
        "print(bool([]))\n",
        "print(bool({}))\n",
        "print(bool(set()))\n"
      ]
    },
    {
      "cell_type": "code",
      "execution_count": 16,
      "metadata": {},
      "outputs": [
        {
          "data": {
            "text/plain": [
              "2"
            ]
          },
          "execution_count": 16,
          "metadata": {},
          "output_type": "execute_result"
        }
      ],
      "source": [
        "True+True"
      ]
    },
    {
      "cell_type": "code",
      "execution_count": 17,
      "metadata": {},
      "outputs": [
        {
          "data": {
            "text/plain": [
              "1"
            ]
          },
          "execution_count": 17,
          "metadata": {},
          "output_type": "execute_result"
        }
      ],
      "source": [
        "False+True"
      ]
    },
    {
      "cell_type": "code",
      "execution_count": 18,
      "metadata": {},
      "outputs": [
        {
          "data": {
            "text/plain": [
              "0"
            ]
          },
          "execution_count": 18,
          "metadata": {},
          "output_type": "execute_result"
        }
      ],
      "source": [
        "False+False"
      ]
    },
    {
      "cell_type": "code",
      "execution_count": 21,
      "metadata": {},
      "outputs": [
        {
          "name": "stdout",
          "output_type": "stream",
          "text": [
            "(1+2j)\n"
          ]
        }
      ],
      "source": [
        "print((complex(1,2)))"
      ]
    },
    {
      "cell_type": "code",
      "execution_count": 20,
      "metadata": {},
      "outputs": [
        {
          "name": "stdout",
          "output_type": "stream",
          "text": [
            "True\n",
            "True\n",
            "True\n",
            "True\n",
            "True\n",
            "True\n",
            "True\n"
          ]
        }
      ],
      "source": [
        "# trythy объекты\n",
        "\n",
        "print(bool(True))\n",
        "print(bool(100))\n",
        "print(bool(-1.25))\n",
        "print(bool(complex(1,2)))\n",
        "print(bool('qwerty'))\n",
        "print(bool([1,5,10]))\n",
        "print(bool({-4,2,6}))\n"
      ]
    },
    {
      "cell_type": "code",
      "execution_count": 22,
      "metadata": {},
      "outputs": [
        {
          "name": "stdout",
          "output_type": "stream",
          "text": [
            "test 0 result False\n",
            "test -3 result True\n",
            "test [] result False\n",
            "test {1, 2, 3} result True\n"
          ]
        }
      ],
      "source": [
        "for test_bool in (0,-3,[],{1,2,3}):\n",
        "    print(f'test {test_bool} result {True if test_bool else False}')"
      ]
    },
    {
      "cell_type": "code",
      "execution_count": 27,
      "metadata": {},
      "outputs": [
        {
          "name": "stdout",
          "output_type": "stream",
          "text": [
            "0\n",
            "5\n",
            "pyton\n",
            "2\n"
          ]
        }
      ],
      "source": [
        "print(None or 0)\n",
        "print(0 or 5)\n",
        "print('pyton' or None)\n",
        "print(2 or 5)\n"
      ]
    },
    {
      "cell_type": "code",
      "execution_count": 31,
      "metadata": {},
      "outputs": [
        {
          "name": "stdout",
          "output_type": "stream",
          "text": [
            "None\n",
            "0\n",
            "{}\n",
            "10\n"
          ]
        }
      ],
      "source": [
        "print(None and 10)\n",
        "print(5 and 0)\n",
        "print('pyton' and {})\n",
        "print(9 and 10)\n"
      ]
    },
    {
      "cell_type": "code",
      "execution_count": 36,
      "metadata": {},
      "outputs": [
        {
          "name": "stdout",
          "output_type": "stream",
          "text": [
            "100//10=10\n"
          ]
        }
      ],
      "source": [
        "x=10\n",
        "y=100\n",
        "\n",
        "if x!=0:\n",
        "    print(f'{y}//{x}={y//x}')"
      ]
    },
    {
      "cell_type": "code",
      "execution_count": 33,
      "metadata": {},
      "outputs": [
        {
          "name": "stdout",
          "output_type": "stream",
          "text": [
            "True\n"
          ]
        }
      ],
      "source": [
        "x=11\n",
        "y=x>0\n",
        "print(y)"
      ]
    },
    {
      "cell_type": "code",
      "execution_count": 41,
      "metadata": {},
      "outputs": [
        {
          "name": "stdout",
          "output_type": "stream",
          "text": [
            "х отрицательное число\n",
            "конец проверки\n",
            "результат преобразования = 4 \n"
          ]
        }
      ],
      "source": [
        "x=-4\n",
        "if x>0:\n",
        "    print('x- положительное число')\n",
        "    print('тогда умножим его на 5')\n",
        "    x*=5\n",
        "elif not x:\n",
        "    print('x равен нулю')\n",
        "elif x<-5:\n",
        "    pass\n",
        "else:\n",
        "    print(\"х отрицательное число\")\n",
        "    x=abs(x)\n",
        "print('конец проверки')\n",
        "print(f'результат преобразования = {x} ')\n"
      ]
    },
    {
      "cell_type": "code",
      "execution_count": 43,
      "metadata": {},
      "outputs": [
        {
          "name": "stdout",
          "output_type": "stream",
          "text": [
            "Работаем\n"
          ]
        }
      ],
      "source": [
        "gender='ж'\n",
        "age=10\n",
        "if gender=='м' and age>=65 or gender=='ж' and age>=60:\n",
        "    print('пора отдыхать')\n",
        "else:\n",
        "    print('Работаем')"
      ]
    },
    {
      "cell_type": "code",
      "execution_count": 45,
      "metadata": {},
      "outputs": [
        {
          "data": {
            "text/plain": [
              "8"
            ]
          },
          "execution_count": 45,
          "metadata": {},
          "output_type": "execute_result"
        }
      ],
      "source": [
        "2+2*2\n",
        "(2+2)*2"
      ]
    },
    {
      "cell_type": "code",
      "execution_count": 48,
      "metadata": {},
      "outputs": [
        {
          "data": {
            "text/plain": [
              "'х отрицательное число'"
            ]
          },
          "execution_count": 48,
          "metadata": {},
          "output_type": "execute_result"
        }
      ],
      "source": [
        "x=-5\n",
        "result = 'x положительное число'  if x>0 else 'х отрицательное число'\n",
        "result"
      ]
    },
    {
      "cell_type": "code",
      "execution_count": null,
      "metadata": {},
      "outputs": [
        {
          "name": "stdout",
          "output_type": "stream",
          "text": [
            "Остаток от деления 17 на 3 равен 2\n"
          ]
        }
      ],
      "source": [
        "x=17\n",
        "y=3\n",
        "n=x%y\n",
        "if not n: # x==0\n",
        "    print(f'{x} делится на {y} без остатка')\n",
        "else:\n",
        "    print(f'Остаток от деления {x} на {y} равен {n}')"
      ]
    },
    {
      "cell_type": "code",
      "execution_count": 54,
      "metadata": {},
      "outputs": [
        {
          "name": "stdout",
          "output_type": "stream",
          "text": [
            "Остаток от деления 17 на 3 равен 2\n"
          ]
        }
      ],
      "source": [
        "x=17\n",
        "y=3\n",
        "if (n:=x%y)==0:\n",
        "    print(f'{x} делится на {y} без остатка')\n",
        "else:\n",
        "    print(f'Остаток от деления {x} на {y} равен {n}')"
      ]
    },
    {
      "cell_type": "code",
      "execution_count": 56,
      "metadata": {},
      "outputs": [
        {
          "name": "stdout",
          "output_type": "stream",
          "text": [
            "Значение 85 добавлено в список\n",
            "[85]\n"
          ]
        }
      ],
      "source": [
        "nums=[]\n",
        "num=input()\n",
        "while num !='0':\n",
        "    if num.isdigit():\n",
        "        nums.append(int(num))\n",
        "        print(f'Значение {num} добавлено в список')\n",
        "    num=input()\n",
        "print(nums)"
      ]
    },
    {
      "cell_type": "code",
      "execution_count": 57,
      "metadata": {},
      "outputs": [
        {
          "name": "stdout",
          "output_type": "stream",
          "text": [
            "Значение 56 добавлено в список\n",
            "[56]\n"
          ]
        }
      ],
      "source": [
        "nums=[]\n",
        "while (num:=input()) !='0':\n",
        "    if num.isdigit():\n",
        "        nums.append(int(num))\n",
        "        print(f'Значение {num} добавлено в список')\n",
        "    num=input()\n",
        "print(nums)"
      ]
    },
    {
      "cell_type": "code",
      "execution_count": 59,
      "metadata": {},
      "outputs": [
        {
          "data": {
            "text/plain": [
              "'3.11.9 (tags/v3.11.9:de54cf5, Apr  2 2024, 10:12:12) [MSC v.1938 64 bit (AMD64)]'"
            ]
          },
          "execution_count": 59,
          "metadata": {},
          "output_type": "execute_result"
        }
      ],
      "source": [
        "import sys\n",
        "sys.version"
      ]
    },
    {
      "cell_type": "code",
      "execution_count": 64,
      "metadata": {},
      "outputs": [
        {
          "name": "stdout",
          "output_type": "stream",
          "text": [
            "answer\n",
            "answer\n"
          ]
        }
      ],
      "source": [
        "number=42\n",
        "match number:\n",
        "    case 42:\n",
        "        print('answer')\n",
        "    case 43:\n",
        "        print('not answer')\n",
        "\n",
        "if number == 42:\n",
        "    print('answer')\n",
        "elif number ==43:\n",
        "    print('not answer')\n"
      ]
    },
    {
      "cell_type": "code",
      "execution_count": 66,
      "metadata": {},
      "outputs": [
        {
          "name": "stdout",
          "output_type": "stream",
          "text": [
            "case 3, y: 200\n"
          ]
        }
      ],
      "source": [
        "flag= False\n",
        "match (100,200):\n",
        "    case (100,300):\n",
        "        print('case 1')\n",
        "    case (100,200) if flag:\n",
        "        print('case 2')\n",
        "    case (100,y):\n",
        "        print(f'case 3, y: {y}')\n",
        "    case _:\n",
        "        print('case 4, I match anything')"
      ]
    },
    {
      "cell_type": "code",
      "execution_count": 68,
      "metadata": {},
      "outputs": [
        {
          "name": "stdout",
          "output_type": "stream",
          "text": [
            "ночь 4\n",
            "улица 5\n",
            "фонарь 6\n",
            "аптека 6\n"
          ]
        }
      ],
      "source": [
        "word = ['ночь','улица','фонарь','аптека']\n",
        "for w in word:\n",
        "    print(w,len(w))"
      ]
    },
    {
      "cell_type": "code",
      "execution_count": 69,
      "metadata": {},
      "outputs": [
        {
          "name": "stdout",
          "output_type": "stream",
          "text": [
            "ночь индекс 0\n",
            "улица индекс 1\n",
            "фонарь индекс 2\n",
            "аптека индекс 3\n"
          ]
        }
      ],
      "source": [
        "for item in range(len(word)):\n",
        "    print(f'{word[item]} индекс {item}')\n",
        "          "
      ]
    },
    {
      "cell_type": "code",
      "execution_count": null,
      "metadata": {},
      "outputs": [],
      "source": [
        "my_set= {1,2,3}\n"
      ]
    },
    {
      "cell_type": "code",
      "execution_count": 90,
      "metadata": {},
      "outputs": [
        {
          "data": {
            "text/plain": [
              "[5, 3, -2, -5, -6, 5, -3, -2, -4, -7, -1, -9, 6, -3, 8, 2, 5, 10, 0, -4]"
            ]
          },
          "execution_count": 90,
          "metadata": {},
          "output_type": "execute_result"
        }
      ],
      "source": [
        "import random\n",
        "lst = [random.randint(-10,10) for ___ in range(20) ]\n",
        "lst"
      ]
    },
    {
      "cell_type": "code",
      "execution_count": 88,
      "metadata": {},
      "outputs": [],
      "source": [
        "# for x in lst:\n",
        "#     if x<0:\n",
        "#         lst.remove(x)\n",
        "# lst"
      ]
    },
    {
      "cell_type": "code",
      "execution_count": 91,
      "metadata": {},
      "outputs": [
        {
          "data": {
            "text/plain": [
              "[5, 3, 5, 6, 8, 2, 5, 10, 0]"
            ]
          },
          "execution_count": 91,
          "metadata": {},
          "output_type": "execute_result"
        }
      ],
      "source": [
        "for x in lst.copy():\n",
        "    if x<0:\n",
        "        lst.remove(x)\n",
        "lst"
      ]
    },
    {
      "cell_type": "code",
      "execution_count": 92,
      "metadata": {},
      "outputs": [
        {
          "data": {
            "text/plain": [
              "[5, 3, 5, 6, 8, 2, 5, 10, 0]"
            ]
          },
          "execution_count": 92,
          "metadata": {},
          "output_type": "execute_result"
        }
      ],
      "source": [
        "result=[]\n",
        "for x in lst:\n",
        "    if x>=0:\n",
        "        result.append(x)\n",
        "result"
      ]
    },
    {
      "cell_type": "code",
      "execution_count": 95,
      "metadata": {},
      "outputs": [
        {
          "name": "stdout",
          "output_type": "stream",
          "text": [
            "chetnoe chislo 2\n",
            "nechetnoe chislo 3\n",
            "chetnoe chislo 4\n",
            "nechetnoe chislo 5\n",
            "chetnoe chislo 6\n",
            "nechetnoe chislo 7\n",
            "chetnoe chislo 8\n",
            "nechetnoe chislo 9\n"
          ]
        }
      ],
      "source": [
        "for num in range(2,10):\n",
        "    if num % 2==0:\n",
        "        print('chetnoe chislo',num)\n",
        "        continue\n",
        "    print('nechetnoe chislo',num)"
      ]
    },
    {
      "cell_type": "code",
      "execution_count": null,
      "metadata": {},
      "outputs": [
        {
          "data": {
            "text/plain": [
              "False"
            ]
          },
          "execution_count": 103,
          "metadata": {},
          "output_type": "execute_result"
        }
      ],
      "source": [
        "lst_=[1,2,3]\n",
        "isinstance(lst_,int)\n",
        "isinstance()"
      ]
    },
    {
      "cell_type": "code",
      "execution_count": 106,
      "metadata": {},
      "outputs": [
        {
          "name": "stdout",
          "output_type": "stream",
          "text": [
            "naydeno chislo 25\n"
          ]
        }
      ],
      "source": [
        "numbers=[17,10,25,24,9,36,13]\n",
        "for number in numbers:\n",
        "    if number **0.5 == int(number**0.5):\n",
        "        print(f'naydeno chislo {number}')\n",
        "        break\n",
        "\n",
        "\n"
      ]
    },
    {
      "cell_type": "code",
      "execution_count": 126,
      "metadata": {},
      "outputs": [
        {
          "name": "stdout",
          "output_type": "stream",
          "text": [
            "True\n"
          ]
        }
      ],
      "source": [
        "s='А лис, он умен - крыса сыр к нему носила!'\n",
        "start, end = 0, len(s)-1\n",
        "start\n",
        "end\n",
        "while start < end:\n",
        "    startchar, endchar= s[start].lower(),s[end].lower()\n",
        "    if startchar.isalnum()and endchar.isalnum():\n",
        "        if startchar != endchar:\n",
        "            print(False)\n",
        "            break\n",
        "        else:\n",
        "            start,end= start+1, end-1\n",
        "            continue\n",
        "    start=start+(not startchar.isalnum())\n",
        "    end=end-(not endchar.isalnum())\n",
        "else:\n",
        "    print(True)"
      ]
    },
    {
      "cell_type": "code",
      "execution_count": 127,
      "metadata": {},
      "outputs": [
        {
          "data": {
            "text/plain": [
              "[0, 1, 4, 9, 16, 25, 36, 49, 64, 81]"
            ]
          },
          "execution_count": 127,
          "metadata": {},
          "output_type": "execute_result"
        }
      ],
      "source": [
        "squares=[]\n",
        "for x in range (10):\n",
        "    squares.append(x**2)\n",
        "squares\n"
      ]
    },
    {
      "cell_type": "code",
      "execution_count": 129,
      "metadata": {},
      "outputs": [
        {
          "data": {
            "text/plain": [
              "[0, 1, 4, 9, 16, 25, 36, 49, 64, 81]"
            ]
          },
          "execution_count": 129,
          "metadata": {},
          "output_type": "execute_result"
        }
      ],
      "source": [
        "squares=[number **2 for number in range (10)]\n",
        "squares"
      ]
    },
    {
      "cell_type": "code",
      "execution_count": 131,
      "metadata": {},
      "outputs": [
        {
          "data": {
            "text/plain": [
              "{0: 0, 1: 1, 2: 4, 3: 9, 4: 16, 5: 25, 6: 36, 7: 49, 8: 64, 9: 81}"
            ]
          },
          "execution_count": 131,
          "metadata": {},
          "output_type": "execute_result"
        }
      ],
      "source": [
        "{x: x**2 for x in range(10)}"
      ]
    }
  ],
  "metadata": {
    "colab": {
      "provenance": []
    },
    "kernelspec": {
      "display_name": "Python 3",
      "language": "python",
      "name": "python3"
    },
    "language_info": {
      "codemirror_mode": {
        "name": "ipython",
        "version": 3
      },
      "file_extension": ".py",
      "mimetype": "text/x-python",
      "name": "python",
      "nbconvert_exporter": "python",
      "pygments_lexer": "ipython3",
      "version": "3.11.9"
    }
  },
  "nbformat": 4,
  "nbformat_minor": 0
}
