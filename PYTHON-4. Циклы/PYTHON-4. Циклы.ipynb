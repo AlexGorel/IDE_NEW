{
 "cells": [
  {
   "cell_type": "code",
   "execution_count": 5,
   "metadata": {},
   "outputs": [
    {
     "name": "stdout",
     "output_type": "stream",
     "text": [
      "90\n",
      "343\n",
      "3\n"
     ]
    }
   ],
   "source": [
    "lst=[90, 230, 23]\n",
    "print(lst[0])\n",
    "print(sum(lst))\n",
    "print(len(lst))\n",
    "#print(count(lst))"
   ]
  },
  {
   "cell_type": "code",
   "execution_count": 9,
   "metadata": {},
   "outputs": [
    {
     "name": "stdout",
     "output_type": "stream",
     "text": [
      "EAST OR WEST HOME IS BEST\n",
      "east or west home is best\n",
      "['East', 'or', 'West', 'home', 'is', 'best']\n"
     ]
    }
   ],
   "source": [
    "sentences = 'East or West home is best'\n",
    "print(sentences.upper())\n",
    "print(sentences.lower())\n",
    "print(sentences.split())"
   ]
  },
  {
   "cell_type": "code",
   "execution_count": 13,
   "metadata": {},
   "outputs": [
    {
     "name": "stdout",
     "output_type": "stream",
     "text": [
      "East or Wes Длинна=11\n",
      "East or We Длинна=10\n",
      "East or W Длинна=9\n",
      "st home is best Длинна=15\n"
     ]
    }
   ],
   "source": [
    "sentences = 'East or West home is best'\n",
    "print(sentences[:11],\"Длинна={}\".format(len(sentences[:11])))\n",
    "print(sentences[:10],\"Длинна={}\".format(len(sentences[:10])))\n",
    "print(sentences[:9],\"Длинна={}\".format(len(sentences[:9])))\n",
    "print(sentences[10:],\"Длинна={}\".format(len(sentences[10:])))"
   ]
  },
  {
   "cell_type": "code",
   "execution_count": 17,
   "metadata": {},
   "outputs": [
    {
     "name": "stdout",
     "output_type": "stream",
     "text": [
      "Element_new 15\n",
      "Element_new 19\n",
      "Element_new 29\n"
     ]
    }
   ],
   "source": [
    "my_list=[5,9, 19]\n",
    "for elements in my_list:\n",
    "    elements += 10\n",
    "    print('Element_new', elements)"
   ]
  },
  {
   "cell_type": "code",
   "execution_count": 26,
   "metadata": {},
   "outputs": [
    {
     "name": "stdout",
     "output_type": "stream",
     "text": [
      "Current income 120\n",
      "Current S 0\n",
      "New s 120\n",
      "\n",
      "Current income 38.5\n",
      "Current S 120\n",
      "New s 158.5\n",
      "\n",
      "Current income 40.5\n",
      "Current S 158.5\n",
      "New s 199.0\n",
      "\n",
      "Current income 80\n",
      "Current S 199.0\n",
      "New s 279.0\n",
      "\n",
      "Answer: s= 279.0\n"
     ]
    }
   ],
   "source": [
    "incomes = [120, 38.5, 40.5, 80]\n",
    "s=0\n",
    "for income in incomes:\n",
    "    print('Current income', income)\n",
    "    print('Current S', s)\n",
    "    s+=income\n",
    "    print('New s', s)\n",
    "    print()\n",
    "print(\"Answer: s=\", s)"
   ]
  },
  {
   "cell_type": "code",
   "execution_count": 23,
   "metadata": {},
   "outputs": [
    {
     "data": {
      "text/plain": [
       "279.0"
      ]
     },
     "execution_count": 23,
     "metadata": {},
     "output_type": "execute_result"
    }
   ],
   "source": [
    "S = sum(incomes)\n",
    "S"
   ]
  },
  {
   "cell_type": "markdown",
   "metadata": {},
   "source": [
    "Задание 2.2 (External resource)\n",
    "\n",
    "Напишите программу, которая находит произведение элементов списка num_list. В качестве начального значения произведения задайте 1. Далее в цикле перебирайте элементы списка num_list и умножайте значение произведения на элемент списка.\n",
    "\n",
    "Результирующее произведение занесите в переменную p.\n",
    "\n",
    "Примеры работы программы:\n",
    "\n",
    "\n",
    "num_list = [98, 24, 23, 12, 3]\n",
    "` p = 1947456\n",
    "\n",
    "num_list = [1, 10, 0.5, 21, 0.13]\n",
    "` p = 13.65\n",
    "\n"
   ]
  },
  {
   "cell_type": "code",
   "execution_count": 29,
   "metadata": {},
   "outputs": [
    {
     "name": "stdout",
     "output_type": "stream",
     "text": [
      "current number 98\n",
      "current p 1\n",
      "new p 98\n",
      "\n",
      "current number 24\n",
      "current p 98\n",
      "new p 2352\n",
      "\n",
      "current number 23\n",
      "current p 2352\n",
      "new p 54096\n",
      "\n",
      "current number 12\n",
      "current p 54096\n",
      "new p 649152\n",
      "\n",
      "current number 3\n",
      "current p 649152\n",
      "new p 1947456\n",
      "\n"
     ]
    },
    {
     "data": {
      "text/plain": [
       "1947456"
      ]
     },
     "execution_count": 29,
     "metadata": {},
     "output_type": "execute_result"
    }
   ],
   "source": [
    "num_list = [98, 24, 23, 12, 3]\n",
    "p=1\n",
    "for number in num_list:\n",
    "    print ('current number', number)\n",
    "    print ('current p', p)\n",
    "    p*=number\n",
    "    print('new p', p)\n",
    "    print()\n",
    "p\n",
    "\n",
    "\n"
   ]
  },
  {
   "cell_type": "code",
   "execution_count": 30,
   "metadata": {},
   "outputs": [
    {
     "name": "stdout",
     "output_type": "stream",
     "text": [
      "[0, 1, 2, 3, 4]\n"
     ]
    }
   ],
   "source": [
    "print(list(range(5)))"
   ]
  },
  {
   "cell_type": "code",
   "execution_count": 31,
   "metadata": {},
   "outputs": [
    {
     "name": "stdout",
     "output_type": "stream",
     "text": [
      "[2, 3, 4]\n"
     ]
    }
   ],
   "source": [
    "print(list(range(2, 5)))"
   ]
  },
  {
   "cell_type": "code",
   "execution_count": 34,
   "metadata": {},
   "outputs": [
    {
     "name": "stdout",
     "output_type": "stream",
     "text": [
      "249\n"
     ]
    }
   ],
   "source": [
    "print(len(list(range(2, 500, 2))))"
   ]
  },
  {
   "cell_type": "code",
   "execution_count": 36,
   "metadata": {},
   "outputs": [
    {
     "data": {
      "text/plain": [
       "125250"
      ]
     },
     "execution_count": 36,
     "metadata": {},
     "output_type": "execute_result"
    }
   ],
   "source": [
    "s=0\n",
    "n=500\n",
    "for i in range(1,n+1):\n",
    "    s+=i\n",
    "s"
   ]
  },
  {
   "cell_type": "code",
   "execution_count": 1,
   "metadata": {},
   "outputs": [
    {
     "name": "stdout",
     "output_type": "stream",
     "text": [
      "Current s: 0\n",
      "Current number: 1\n",
      "Sum after addition: 1\n",
      "\n",
      "Current s: 1\n",
      "Current number: 2\n",
      "Sum after addition: 3\n",
      "\n",
      "Current s: 3\n",
      "Current number: 3\n",
      "Sum after addition: 6\n",
      "\n",
      "Current s: 6\n",
      "Current number: 4\n",
      "Sum after addition: 10\n",
      "\n",
      "Current s: 10\n",
      "Current number: 5\n",
      "Sum after addition: 15\n",
      "\n",
      "Current s: 15\n",
      "Current number: 6\n",
      "Sum after addition: 21\n",
      "\n",
      "Current s: 21\n",
      "Current number: 7\n",
      "Sum after addition: 28\n",
      "\n",
      "Current s: 28\n",
      "Current number: 8\n",
      "Sum after addition: 36\n",
      "\n",
      "Current s: 36\n",
      "Current number: 9\n",
      "Sum after addition: 45\n",
      "\n",
      "Current s: 45\n",
      "Current number: 10\n",
      "Sum after addition: 55\n",
      "\n",
      "Current s: 55\n",
      "Current number: 11\n",
      "Sum after addition: 66\n",
      "\n",
      "Current s: 66\n",
      "Current number: 12\n",
      "Sum after addition: 78\n",
      "\n",
      "Current s: 78\n",
      "Current number: 13\n",
      "Sum after addition: 91\n",
      "\n",
      "Current s: 91\n",
      "Current number: 14\n",
      "Sum after addition: 105\n",
      "\n",
      "Current s: 105\n",
      "Current number: 15\n",
      "Sum after addition: 120\n",
      "\n",
      "Current s: 120\n",
      "Current number: 16\n",
      "Sum after addition: 136\n",
      "\n",
      "Current s: 136\n",
      "Current number: 17\n",
      "Sum after addition: 153\n",
      "\n",
      "Current s: 153\n",
      "Current number: 18\n",
      "Sum after addition: 171\n",
      "\n",
      "Current s: 171\n",
      "Current number: 19\n",
      "Sum after addition: 190\n",
      "\n",
      "Current s: 190\n",
      "Current number: 20\n",
      "Sum after addition: 210\n",
      "\n",
      "Current s: 210\n",
      "Current number: 21\n",
      "Sum after addition: 231\n",
      "\n",
      "Current s: 231\n",
      "Current number: 22\n",
      "Sum after addition: 253\n",
      "\n",
      "Current s: 253\n",
      "Current number: 23\n",
      "Sum after addition: 276\n",
      "\n",
      "Current s: 276\n",
      "Current number: 24\n",
      "Sum after addition: 300\n",
      "\n",
      "Current s: 300\n",
      "Current number: 25\n",
      "Sum after addition: 325\n",
      "\n",
      "Current s: 325\n",
      "Current number: 26\n",
      "Sum after addition: 351\n",
      "\n",
      "Current s: 351\n",
      "Current number: 27\n",
      "Sum after addition: 378\n",
      "\n",
      "Current s: 378\n",
      "Current number: 28\n",
      "Sum after addition: 406\n",
      "\n",
      "Current s: 406\n",
      "Current number: 29\n",
      "Sum after addition: 435\n",
      "\n",
      "Current s: 435\n",
      "Current number: 30\n",
      "Sum after addition: 465\n",
      "\n",
      "Current s: 465\n",
      "Current number: 31\n",
      "Sum after addition: 496\n",
      "\n",
      "Current s: 496\n",
      "Current number: 32\n",
      "Sum after addition: 528\n",
      "\n",
      "Current s: 528\n",
      "Current number: 33\n",
      "Sum after addition: 561\n",
      "\n",
      "Current s: 561\n",
      "Current number: 34\n",
      "Sum after addition: 595\n",
      "\n",
      "Current s: 595\n",
      "Current number: 35\n",
      "Sum after addition: 630\n",
      "\n",
      "Current s: 630\n",
      "Current number: 36\n",
      "Sum after addition: 666\n",
      "\n",
      "Current s: 666\n",
      "Current number: 37\n",
      "Sum after addition: 703\n",
      "\n",
      "Current s: 703\n",
      "Current number: 38\n",
      "Sum after addition: 741\n",
      "\n",
      "Current s: 741\n",
      "Current number: 39\n",
      "Sum after addition: 780\n",
      "\n",
      "Current s: 780\n",
      "Current number: 40\n",
      "Sum after addition: 820\n",
      "\n",
      "Current s: 820\n",
      "Current number: 41\n",
      "Sum after addition: 861\n",
      "\n",
      "Current s: 861\n",
      "Current number: 42\n",
      "Sum after addition: 903\n",
      "\n",
      "Current s: 903\n",
      "Current number: 43\n",
      "Sum after addition: 946\n",
      "\n",
      "Current s: 946\n",
      "Current number: 44\n",
      "Sum after addition: 990\n",
      "\n",
      "Current s: 990\n",
      "Current number: 45\n",
      "Sum after addition: 1035\n",
      "\n",
      "Current s: 1035\n",
      "Current number: 46\n",
      "Sum after addition: 1081\n",
      "\n",
      "Current s: 1081\n",
      "Current number: 47\n",
      "Sum after addition: 1128\n",
      "\n",
      "Current s: 1128\n",
      "Current number: 48\n",
      "Sum after addition: 1176\n",
      "\n",
      "Current s: 1176\n",
      "Current number: 49\n",
      "Sum after addition: 1225\n",
      "\n",
      "Current s: 1225\n",
      "Current number: 50\n",
      "Sum after addition: 1275\n",
      "\n",
      "Answer: sum= 1275\n"
     ]
    }
   ],
   "source": [
    "s=0\n",
    "n=50\n",
    "for i in range(1,n+1):\n",
    "    print('Current s:',s)\n",
    "    print('Current number:',i)\n",
    "    s+=i\n",
    "    print('Sum after addition:',s)\n",
    "    print()\n",
    "print('Answer: sum=',s)"
   ]
  },
  {
   "cell_type": "markdown",
   "metadata": {},
   "source": [
    "Задание 2.4 (External resource)\n",
    "В математике факториал числа n — это произведение чисел от 1 до n включительно. Это записывается как:\n",
    "\n",
    "n! = 1 · 2 · 3 · ... · (n-1) · n\n",
    "\n",
    "Например:\n",
    "\n",
    "3! = 1 · 2 · 3 = 6\n",
    "\n",
    "5! = 1 · 2 · 3 · 4 · 5 = 120\n",
    "\n",
    "Факториал часто применяется в высшей математике, например в комбинаторике, теории вероятностей и дифференциальном исчислении.\n",
    "\n",
    "В переменной n хранится натуральное число. Напишите программу для вычисления факториала числа n. Результат запишите в переменную p.\n",
    "\n",
    "Пример работы программы:\n",
    "\n",
    "\n",
    "n = 3\n",
    "` p = 6\n",
    "n = 5\n",
    "` p = 120\n",
    "n = 10\n",
    "` p = 3628800"
   ]
  },
  {
   "cell_type": "code",
   "execution_count": 4,
   "metadata": {},
   "outputs": [
    {
     "data": {
      "text/plain": [
       "120"
      ]
     },
     "execution_count": 4,
     "metadata": {},
     "output_type": "execute_result"
    }
   ],
   "source": [
    "n = 5\n",
    "p=1\n",
    "## p = 120\n",
    "for num in range (1, n+1):\n",
    "    p*=num\n",
    "p"
   ]
  },
  {
   "cell_type": "markdown",
   "metadata": {},
   "source": [
    "Задание 2.5 (External resource)\n",
    "\n",
    "Напишите программу, которая будет печатать «лесенку» из символов '*' в зависимости от значения переменной n. Число n может быть любым натуральным числом (1, 2, 3…) и задаётся внешней программой при тестировании.\n",
    "\n",
    "Примеры работы программы:\n",
    "\n",
    "\n",
    "n = 3\n",
    "*\n",
    "**\n",
    "***\n",
    "\n",
    "n = 4\n",
    "*\n",
    "**\n",
    "***\n",
    "****"
   ]
  },
  {
   "cell_type": "code",
   "execution_count": 11,
   "metadata": {},
   "outputs": [
    {
     "name": "stdout",
     "output_type": "stream",
     "text": [
      "*\n",
      "**\n",
      "***\n",
      "****\n",
      "*****\n",
      "******\n",
      "*******\n",
      "********\n",
      "*********\n",
      "**********\n"
     ]
    }
   ],
   "source": [
    "n=10\n",
    "for i in range(1, n+1):\n",
    "    print('*'*i)"
   ]
  },
  {
   "cell_type": "code",
   "execution_count": 14,
   "metadata": {},
   "outputs": [
    {
     "name": "stdout",
     "output_type": "stream",
     "text": [
      "Product 1, weight: 10 -passenger car\n",
      "Product 2, weight: 42.4 -passenger car\n",
      "Product 3, weight: 240.1 -truck\n",
      "Product 4, weight: 101.5 -truck\n",
      "Product 5, weight: 98 -passenger car\n",
      "Product 6, weight: 0.4 -passenger car\n",
      "Product 7, weight: 0.3 -passenger car\n",
      "Product 8, weight: 15 -passenger car\n"
     ]
    }
   ],
   "source": [
    "weight_of_products= [10, 42.4, 240.1, 101.5, 98, 0.4, 0.3, 15]\n",
    "max_weight=100\n",
    "num=1\n",
    "for weight in weight_of_products:\n",
    "    if weight <= max_weight:\n",
    "        print('Product {}, weight: {} -passenger car'.format(num, weight))\n",
    "    else:\n",
    "        print('Product {}, weight: {} -truck'.format(num, weight))\n",
    "    num+=1"
   ]
  },
  {
   "cell_type": "code",
   "execution_count": null,
   "metadata": {},
   "outputs": [],
   "source": [
    "# Задаём список значений массы товаров\n",
    "weight_of_products = [10, 42.4, 240.1, 101.5, 98, 0.4, 0.3, 15] \n",
    "# Задаём максимальное значение веса груза\n",
    "max_weight = 100 \n",
    "# Вычисляем длину списка\n",
    "N = len(weight_of_products) \n",
    "# Создаём цикл по последовательности чисел от 0 до N (не включая N)\n",
    "# i — текущее значение последовательности\n",
    "for i in range(N): \n",
    "    # Обращаемся к элементу по индексу и сравниваем его с максимумом\n",
    "    if weight_of_products[i] < max_weight:\n",
    "        # Если текущий вес меньше максимального,\n",
    "        # выводим номер груза, его массу и отправляем его в легковую машину.\n",
    "        print('Product {}, weight: {} -passenger car'.format(i+1, weight_of_products[i])) \n",
    "    else:\n",
    "        # В противном случае\n",
    "        # выводим номер груза, его массу и отправляем его в грузовую машину\n",
    "        print('Product {}, weight: {} -truck'.format(i+1, weight_of_products[i]))"
   ]
  },
  {
   "cell_type": "code",
   "execution_count": 16,
   "metadata": {},
   "outputs": [
    {
     "name": "stdout",
     "output_type": "stream",
     "text": [
      "Product 1, weight: 10 -passenger car\n",
      "Product 2, weight: 42.4 -passenger car\n",
      "Product 3, weight: 240.1 -track\n",
      "Product 4, weight: 101.5 -track\n",
      "Product 5, weight: 98 -passenger car\n",
      "Product 6, weight: 0.4 -passenger car\n",
      "Product 7, weight: 0.3 -passenger car\n",
      "Product 8, weight: 15 -passenger car\n"
     ]
    }
   ],
   "source": [
    "weight_of_products = [10, 42.4, 240.1, 101.5, 98, 0.4, 0.3, 15]\n",
    "max_weight=100\n",
    "N=len(weight_of_products)\n",
    "for i in range(N):\n",
    "    if weight_of_products[i] <100:\n",
    "        print('Product {}, weight: {} -passenger car'.format(i+1, weight_of_products[i]))\n",
    "    else:\n",
    "        V=print('Product {}, weight: {} -track'.format(i+1, weight_of_products[i]))\n"
   ]
  },
  {
   "cell_type": "code",
   "execution_count": 20,
   "metadata": {},
   "outputs": [
    {
     "name": "stdout",
     "output_type": "stream",
     "text": [
      "['Red Square', 'Swallow Nest', 'Niagara Falls', 'Grand Canyon', 'Louvre', 'Hermitage']\n"
     ]
    }
   ],
   "source": [
    "places = [\n",
    "    'Red Square',\n",
    "    'Swallow Nest',\n",
    "    'Niagara Falls',\n",
    "    'Grand Canyon',\n",
    "    'Louvre',\n",
    "    'Hermitage'\n",
    "]\n",
    "location = {\n",
    "    'Red Square': 'Russia',\n",
    "    'Swallow Nest': 'Russia',\n",
    "    'Niagara Falls': 'USA',\n",
    "    'Grand Canyon': 'USA',\n",
    "    'Louvre': 'France',\n",
    "    'Hermitage': 'Russia'\n",
    "}\n",
    "for place in places:\n",
    "    country= location[place]\n",
    "    if country != 'Russia':\n",
    "        place='Unavailable'\n",
    "print(places)"
   ]
  },
  {
   "cell_type": "code",
   "execution_count": 26,
   "metadata": {},
   "outputs": [
    {
     "name": "stdout",
     "output_type": "stream",
     "text": [
      "['Red Square', 'Swallow Nest', 'Unavailable', 'Unavailable', 'Unavailable', 'Hermitage']\n"
     ]
    }
   ],
   "source": [
    "N=len(places)\n",
    "for i in range(N):\n",
    "    country= location[places[i]]\n",
    "    if country != 'Russia':\n",
    "        places[i]='Unavailable'\n",
    "print(places)"
   ]
  },
  {
   "cell_type": "code",
   "execution_count": 29,
   "metadata": {},
   "outputs": [
    {
     "data": {
      "text/plain": [
       "[0, 1, 4, 9, 16, 25, 36, 49, 64, 81]"
      ]
     },
     "execution_count": 29,
     "metadata": {},
     "output_type": "execute_result"
    }
   ],
   "source": [
    "my_list = []\n",
    "for number in range(0, 10):\n",
    "    my_list.append(number**2)\n",
    "my_list"
   ]
  },
  {
   "cell_type": "code",
   "execution_count": 39,
   "metadata": {},
   "outputs": [
    {
     "data": {
      "text/plain": [
       "[1, 2, 4, 8, 16, 32, 64, 128, 256, 512, 1024]"
      ]
     },
     "execution_count": 39,
     "metadata": {},
     "output_type": "execute_result"
    }
   ],
   "source": [
    "my_list = [1]\n",
    "for i in range(10):\n",
    "    my_list.append(my_list[i] * 2)\n",
    "my_list"
   ]
  },
  {
   "cell_type": "markdown",
   "metadata": {},
   "source": [
    "Задание 2.9 (External resource)\n",
    "\n",
    "Вам задан список num_list, состоящий из чисел (int и float) например:\n",
    "\n",
    "\n",
    "num_list = [1, 10, 3, -5].\n",
    "Отсортируйте его с помощью метода sort() для списков, а затем последовательно выведите на экран элементы этого списка с помощью цикла for в следующем формате: \"element {i}: {elem}\", где i - индекс элемента в списке, elem - элемент.\n",
    "\n",
    "Пример работы программы:\n",
    "\n",
    "\n",
    "num_list = [1, 10, 3, -5]\n",
    "` element 0: -5\n",
    "` element 1: 1\n",
    "` element 2: 3\n",
    "` element 3: 10\n",
    "\n"
   ]
  },
  {
   "cell_type": "code",
   "execution_count": null,
   "metadata": {},
   "outputs": [
    {
     "name": "stdout",
     "output_type": "stream",
     "text": [
      "[-5, 1, 3, 10]\n",
      "element 0:-5\n",
      "element 1:1\n",
      "element 2:3\n",
      "element 3:10\n"
     ]
    }
   ],
   "source": [
    "num_list = [1, 10, 3, -5]\n",
    "num_list.sort()\n",
    "N=len(num_list)\n",
    "for i in range(N):\n",
    "    print(\"element {}:{}\".format(i,num_list[i]))\n",
    "    N+=1"
   ]
  },
  {
   "cell_type": "code",
   "execution_count": 47,
   "metadata": {},
   "outputs": [
    {
     "name": "stdout",
     "output_type": "stream",
     "text": [
      "element 0: -5\n",
      "element 1: 1\n",
      "element 2: 3\n",
      "element 3: 10\n"
     ]
    }
   ],
   "source": [
    "num_list.sort()\n",
    "N=len(num_list)\n",
    "for i in range(N): \n",
    "    print('element {}: {}'.format(i, num_list[i]))"
   ]
  },
  {
   "cell_type": "markdown",
   "metadata": {},
   "source": [
    "Задание 2.10 (External resource)\n",
    "\n",
    "Дан список num_list, состоящий из целых чисел (int). Например:\n",
    "\n",
    "\n",
    "num_list = list(range(0, 100, 3)) \n",
    "С помощью цикла for посчитайте количество чётных элементов в списке. Результат запишите в переменную count_even.\n",
    "\n",
    "Примеры работы программы:\n",
    "\n",
    "\n",
    "num_list = list(range(0, 100, 3)) \n",
    "` count_even = 17\n",
    "\n",
    "num_list = [10, 4, 4, 21, 2, 0, -10]\n",
    "` count_even = 6\n",
    "\n",
    "num_list = list(range(0, 81, 5)) \n",
    "` count_even = 9\n"
   ]
  },
  {
   "cell_type": "code",
   "execution_count": 52,
   "metadata": {},
   "outputs": [
    {
     "name": "stdout",
     "output_type": "stream",
     "text": [
      "9\n"
     ]
    }
   ],
   "source": [
    "#num_list = list(range(0, 100, 3))\n",
    "#num_list = [10, 4, 4, 21, 2, 0, -10]\n",
    "## count_even = 6\n",
    "\n",
    "num_list = list(range(0, 81, 5)) \n",
    "## count_even = 9\n",
    "count_even=0\n",
    "for num in num_list:\n",
    "    if num%2==0:\n",
    "        count_even+=1\n",
    "print(count_even)\n",
    "\n"
   ]
  },
  {
   "cell_type": "markdown",
   "metadata": {},
   "source": [
    "Задание 2.11 (External resource)\n",
    "\n",
    "Дан список mixture_list, элементами которого могут являться любые типы данных Python. Например:\n",
    "\n",
    "\n",
    "mixture_list = [True, 1, -10, 'hello', False, 'string_1', 123, 2.5, [1, 2], 'another'] \n",
    "С помощью цикла for посчитайте количество элементов типа str в списке. Результат запишите в переменную count_str.\n",
    "\n",
    "Примеры работы программы:\n",
    "\n",
    "\n",
    "mixture_list = [True, 1, -10, 'hello', False, 'string_1', 123, 2.5, [1, 2], 'another'] \n",
    "` count_str = 3\n",
    "\n",
    "mixture_list = ['My', 'Simple', -10, True, 'False', 'string_1', False, 2.5, [1, 2], 'True'] \n",
    "` count_str = 5"
   ]
  },
  {
   "cell_type": "code",
   "execution_count": 54,
   "metadata": {},
   "outputs": [
    {
     "data": {
      "text/plain": [
       "3"
      ]
     },
     "execution_count": 54,
     "metadata": {},
     "output_type": "execute_result"
    }
   ],
   "source": [
    "mixture_list = [True, 1, -10, 'hello', False, 'string_1', 123, 2.5, [1, 2], 'another'] \n",
    "## count_str = 3\n",
    "count_str=0\n",
    "for el in mixture_list:\n",
    "    if type(el)==str:\n",
    "        count_str+=1\n",
    "count_str"
   ]
  },
  {
   "cell_type": "markdown",
   "metadata": {},
   "source": [
    "Задание 2.12 (External resource)\n",
    "\n",
    "Мы генерируем текст с помощью нейронной сети. В списке word_list в виде строк задана сгенерированная нейронной сетью последовательность слов. Например:\n",
    "\n",
    "\n",
    "word_list = [\"My\", \"name\", \"is\", \"Sergei\", \"EOS\", \"I'm\", \"from\", \"Moscow\", \"EOS\"] \n",
    "Напишите программу для объединения строк из списка word_list в предложения.\n",
    "\n",
    "Гарантируется, что конец каждого предложения обозначается специальной последовательностью символов — \"EOS\" (End Of Sentence). Вместо этого символа в предложении ставится точка — \".\". Для простоты условимся, что другие знаки препинания (запятые, восклицательные знаки и т. д.) нейронная сеть генерировать не умеет.\n",
    "\n",
    "Для решения задачи воспользуйтесь циклом for. Результирующий текст запишите в переменную text.\n",
    "\n",
    "Примеры работы программы:\n",
    "\n",
    "\n",
    "word_list = [\"My\", \"name\", \"is\", \"Sergei\", \"EOS\", \"I'm\", \"from\", \"Moscow\", \"EOS\"]\n",
    "` text = \"My name is Sergei. I'm from Moscow.\"\n",
    "\n",
    "word_list = [\"Человек\", \"он\", \"умный\", \"EOS\", \"Но\", \"чтоб\", \"умно\", \"поступать\", \"одного\", \"ума\", \"мало\", \"EOS\"]\n",
    "` \"Человек он умный. Но чтоб умно поступать одного ума мало.\"\n",
    "Примечание: При составлении строки обратите внимание на то, как добавляется символ точки в конец предложения: пробел ставится только после точки, перед точкой пробела нет. Например, из строк \"My name is Sergei. I'm from Moscow.\" и \"My name is Sergei . I'm from Moscow .\" правильным будет первый вариант. Подумайте, как реализовать это в коде. В решении задачи вам помочь метод strip(), который удаляет лишние пробелы с левой и правой стороны от строки. Например:\n",
    "\n",
    "\n",
    "string = \"     I'm from Moscow.   \"\n",
    "string = string.strip()\n",
    "` string = \"I'm from Moscow.\"\n"
   ]
  },
  {
   "cell_type": "code",
   "execution_count": 80,
   "metadata": {},
   "outputs": [
    {
     "data": {
      "text/plain": [
       "\"My name is Sergei. I'm from Moscow.\""
      ]
     },
     "execution_count": 80,
     "metadata": {},
     "output_type": "execute_result"
    }
   ],
   "source": [
    "word_list = [\"My\", \"name\", \"is\", \"Sergei\", \"EOS\", \"I'm\", \"from\", \"Moscow\", \"EOS\"]\n",
    "## text = \"My name is Sergei. I'm from Moscow.\"\n",
    "text=''\n",
    "for word in word_list:\n",
    "    if word != \"EOS\":\n",
    "        text +=word+' '\n",
    "    else:\n",
    "        text=text[:-1] + \".\" + ' '\n",
    "text.strip()"
   ]
  },
  {
   "cell_type": "code",
   "execution_count": 88,
   "metadata": {},
   "outputs": [
    {
     "name": "stdout",
     "output_type": "stream",
     "text": [
      "['b', 'c', 'd', 'e']\n",
      "['c', 'd', 'e']\n",
      "['d', 'e']\n",
      "Result ['d', 'e']\n"
     ]
    }
   ],
   "source": [
    "lst = ['a', 'b', 'c', 'd', 'e']\n",
    "while len(lst) > 2:\n",
    "    lst.pop(0)\n",
    "    print(lst)\n",
    "print(\"Result\",lst)"
   ]
  },
  {
   "cell_type": "code",
   "execution_count": 89,
   "metadata": {},
   "outputs": [
    {
     "name": "stdout",
     "output_type": "stream",
     "text": [
      "Number of iteratins 17\n"
     ]
    }
   ],
   "source": [
    "x=21\n",
    "y=55\n",
    "count=0\n",
    "while x<y:\n",
    "    x+=2\n",
    "    count+=1\n",
    "print('Number of iteratins',count)"
   ]
  },
  {
   "cell_type": "code",
   "execution_count": 93,
   "metadata": {},
   "outputs": [
    {
     "name": "stdout",
     "output_type": "stream",
     "text": [
      "Curent sum weight 67\n",
      "Curent sum weight 134\n",
      "Curent sum weight 201\n",
      "Curent sum weight 268\n",
      "Curent sum weight 335\n",
      "Curent sum weight 402\n",
      "Overweight 2 kg\n"
     ]
    }
   ],
   "source": [
    "weight=67\n",
    "number=0\n",
    "while weight*number <400:\n",
    "    number+=1\n",
    "    print('Curent sum weight',weight*number)\n",
    "print('Overweight {} kg'.format(weight*number-400))"
   ]
  },
  {
   "cell_type": "markdown",
   "metadata": {},
   "source": [
    "Задание 3.2 (External resource)\n",
    "\n",
    "Сосуд вмещает в себя ровно volume литров жидкости. Каждый раз в него вливается 0.0033 кубических метра жидкости. Понятно, что в какой-то момент сосуд наполнится до краёв, и жидкость начнёт выливаться из него. В тот момент, когда жидкость начинает выливаться (заполненный объём становится больше, чем вместимость сосуда), наполнение сосуда прекращается.\n",
    "\n",
    "С помощью цикла while опишите данный процесс и найдите, сколько литров жидкости выльется из сосуда. Результат запишите в переменную cost.\n",
    "\n",
    "Учтите, что 1 кубический метр равен 1 000 литрам (0.0033 * 1000 = 3.3).\n",
    "\n",
    "Примеры работы программы:\n",
    "\n",
    "\n",
    "volume = 10\n",
    "` cost = 3.1999999999999993\n",
    "\n",
    "volume = 15\n",
    "` cost = 1.5"
   ]
  },
  {
   "cell_type": "code",
   "execution_count": 98,
   "metadata": {},
   "outputs": [
    {
     "name": "stdout",
     "output_type": "stream",
     "text": [
      "5.684341886080802e-14\n"
     ]
    }
   ],
   "source": [
    "volume=165\n",
    "v=0.0033*1000\n",
    "vol=0\n",
    "while vol<volume:\n",
    "    vol+=v \n",
    "cost = vol -volume\n",
    "print(cost) "
   ]
  },
  {
   "cell_type": "code",
   "execution_count": 100,
   "metadata": {},
   "outputs": [
    {
     "name": "stdout",
     "output_type": "stream",
     "text": [
      "Still counting...\n",
      "Still counting...\n",
      "Still counting...\n",
      "Still counting...\n",
      "Still counting...\n",
      "Still counting...\n",
      "Still counting...\n",
      "Still counting...\n",
      "Still counting...\n",
      "Still counting...\n",
      "Still counting...\n",
      "Still counting...\n",
      "Still counting...\n",
      "Still counting...\n",
      "Still counting...\n",
      "Still counting...\n",
      "Still counting...\n",
      "Still counting...\n",
      "Still counting...\n",
      "Still counting...\n",
      "Still counting...\n",
      "Still counting...\n",
      "Still counting...\n",
      "Still counting...\n",
      "Still counting...\n",
      "Still counting...\n",
      "Still counting...\n",
      "Still counting...\n",
      "Still counting...\n",
      "Still counting...\n",
      "Still counting...\n",
      "Still counting...\n",
      "\n",
      "Sum is: 528\n",
      "Number total: 32\n"
     ]
    }
   ],
   "source": [
    "s=0\n",
    "n=1\n",
    "while s<500:\n",
    "    s+=n \n",
    "    n+=1\n",
    "    print('Still counting...')\n",
    "print()\n",
    "print('Sum is:',s)\n",
    "print(\"Number total:\", n-1)"
   ]
  },
  {
   "cell_type": "markdown",
   "metadata": {},
   "source": [
    "Задание 3.3 (External resource)\n",
    "\n",
    "Напишите цикл while, который находит минимальное натуральное число number, квадрат которого больше некоторого заданного value.\n",
    "\n",
    "Результирующий ответ запишите в переменную number.\n",
    "\n",
    "Примеры работы программы:\n",
    "\n",
    "\n",
    "value = 10\n",
    "` number = 4\n",
    "\n",
    "value = 159\n",
    "` number = 13\n",
    "\n",
    "value = 1000\n",
    "` number = 32\n"
   ]
  },
  {
   "cell_type": "code",
   "execution_count": 105,
   "metadata": {},
   "outputs": [
    {
     "name": "stdout",
     "output_type": "stream",
     "text": [
      "32\n"
     ]
    }
   ],
   "source": [
    "value=1000\n",
    "number=0\n",
    "n=1\n",
    "while number < value:\n",
    "    number=n**2\n",
    "    n+=1\n",
    "number=n-1\n",
    "print (number)"
   ]
  },
  {
   "cell_type": "code",
   "execution_count": 108,
   "metadata": {},
   "outputs": [],
   "source": [
    "# Плохо\n",
    "n = 1\n",
    "# В этой программе условие всегда True, цикл будет бесконечным.\n",
    "while n > 10:  \n",
    "    print(\"Hello World\")"
   ]
  },
  {
   "cell_type": "code",
   "execution_count": 111,
   "metadata": {},
   "outputs": [
    {
     "name": "stdout",
     "output_type": "stream",
     "text": [
      "New client!\n",
      "New client!\n",
      "New client!\n",
      "New client!\n",
      "New client!\n",
      "New client!\n",
      "New client!\n",
      "New client!\n",
      "New client!\n",
      "New client!\n"
     ]
    }
   ],
   "source": [
    "n=1\n",
    "while True:\n",
    "    print('New client!')\n",
    "    n+=1\n",
    "    if n>10:\n",
    "        break"
   ]
  },
  {
   "cell_type": "code",
   "execution_count": 113,
   "metadata": {},
   "outputs": [
    {
     "name": "stdout",
     "output_type": "stream",
     "text": [
      "Wrong name\n",
      "Wrong password\n",
      "Wrong name\n",
      "Welcome\n"
     ]
    }
   ],
   "source": [
    "secret_passwords = {\n",
    "    'Enot': 'ulybaka',\n",
    "    'Agent12': '1password1',\n",
    "    'MouseLulu': 'myshkanaruhka'\n",
    "}\n",
    "while True:\n",
    "    name=input('Enter your name:  ')\n",
    "    if name in secret_passwords:\n",
    "        password = input('Enter your password: ')\n",
    "        if password == secret_passwords[name]:\n",
    "            print('Welcome')\n",
    "            break\n",
    "        else:\n",
    "            print(\"Wrong password\")\n",
    "    else:\n",
    "        print('Wrong name')"
   ]
  },
  {
   "cell_type": "code",
   "execution_count": null,
   "metadata": {},
   "outputs": [],
   "source": [
    "value=1000\n",
    "number=0\n",
    "n=1\n",
    "while number < value:\n",
    "    number=n**2\n",
    "    n+=1\n",
    "number=n-1\n",
    "print (number)"
   ]
  },
  {
   "cell_type": "code",
   "execution_count": 118,
   "metadata": {},
   "outputs": [
    {
     "name": "stdout",
     "output_type": "stream",
     "text": [
      "32\n"
     ]
    }
   ],
   "source": [
    "value = 1000\n",
    "number=1\n",
    "while True:\n",
    "    if number**2> value:\n",
    "        break\n",
    "    else:\n",
    "        number+=1\n",
    "print(number)\n",
    "\n"
   ]
  },
  {
   "cell_type": "markdown",
   "metadata": {},
   "source": [
    "Задание 3.5"
   ]
  },
  {
   "cell_type": "code",
   "execution_count": 120,
   "metadata": {},
   "outputs": [
    {
     "data": {
      "text/plain": [
       "5"
      ]
     },
     "execution_count": 120,
     "metadata": {},
     "output_type": "execute_result"
    }
   ],
   "source": [
    "i = 0\n",
    "while i < 5:\n",
    "    i += 1\n",
    "i"
   ]
  },
  {
   "cell_type": "code",
   "execution_count": 122,
   "metadata": {},
   "outputs": [
    {
     "name": "stdout",
     "output_type": "stream",
     "text": [
      "1\n",
      "2\n",
      "3\n",
      "4\n",
      "5\n",
      "6\n",
      "7\n",
      "8\n",
      "9\n"
     ]
    }
   ],
   "source": [
    "a=1\n",
    "while a < 10:\n",
    "    print(a)\n",
    "    a += 1"
   ]
  },
  {
   "cell_type": "code",
   "execution_count": 124,
   "metadata": {},
   "outputs": [
    {
     "data": {
      "text/plain": [
       "10"
      ]
     },
     "execution_count": 124,
     "metadata": {},
     "output_type": "execute_result"
    }
   ],
   "source": [
    "i = 10\n",
    "while i < 10:\n",
    "    print(\"Hello, fellow students!\")\n",
    "i"
   ]
  },
  {
   "cell_type": "code",
   "execution_count": 128,
   "metadata": {},
   "outputs": [
    {
     "name": "stdout",
     "output_type": "stream",
     "text": [
      "Hello\n",
      "Hello\n",
      "Hello\n",
      "Hello\n",
      "Hello\n",
      "Hello\n",
      "Hello\n",
      "Hello\n"
     ]
    }
   ],
   "source": [
    "n=8\n",
    "i = 0\n",
    "while i < n:\n",
    "    i+=1\n",
    "    print('Hello')"
   ]
  },
  {
   "cell_type": "code",
   "execution_count": 130,
   "metadata": {},
   "outputs": [
    {
     "name": "stdout",
     "output_type": "stream",
     "text": [
      "10\n"
     ]
    }
   ],
   "source": [
    "n=10\n",
    "x = 1\n",
    "while x ** 2 % n != 0:\n",
    "    x+= 1\n",
    "print(x)"
   ]
  },
  {
   "cell_type": "code",
   "execution_count": 133,
   "metadata": {},
   "outputs": [
    {
     "name": "stdout",
     "output_type": "stream",
     "text": [
      "720\n"
     ]
    }
   ],
   "source": [
    "value=178\n",
    "n=1\n",
    "p=1\n",
    "while p<value:\n",
    "    p*=n\n",
    "    n+=1\n",
    "print (p) "
   ]
  },
  {
   "cell_type": "markdown",
   "metadata": {},
   "source": [
    "Задание 3.11 (External resource)\n",
    "\n",
    "Олег положил money рублей в банк под 8 % годовых с ежегодной капитализацией процентов. Через сколько лет у него на счету будет не менее target_money рублей?\n",
    "\n",
    "Запишите ответ в переменную year_count.\n",
    "\n",
    "Для моделирования процесса увеличения денежной суммы на счёте воспользуйтесь циклом while. В случае, когда значение target_money < money, в переменной year_count должен содержаться 0.\n",
    "\n",
    "Примеры работы программы:\n",
    "\n",
    "\n",
    "money = 1000\n",
    "target_money = 3000\n",
    "` year_count = 15\n",
    "\n",
    "money = 8000\n",
    "target_money = 15000\n",
    "` year_count = 9\n",
    "\n",
    "money = 1500\n",
    "target_money = 300\n",
    "` year_count = 0 \n",
    "\n"
   ]
  },
  {
   "cell_type": "code",
   "execution_count": 147,
   "metadata": {},
   "outputs": [
    {
     "name": "stdout",
     "output_type": "stream",
     "text": [
      "1080.0\n",
      "1166.4\n",
      "1259.7120000000002\n",
      "1360.4889600000004\n",
      "1469.3280768000004\n",
      "1586.8743229440006\n",
      "1713.8242687795207\n",
      "1850.9302102818824\n",
      "1999.0046271044332\n",
      "2158.924997272788\n",
      "2331.638997054611\n",
      "2518.17011681898\n",
      "2719.6237261644987\n",
      "2937.193624257659\n",
      "3172.169114198272\n",
      "15\n"
     ]
    }
   ],
   "source": [
    "p=8\n",
    "money = 1000\n",
    "target_money = 3000\n",
    "year_count=0\n",
    "## year_count = 15\n",
    "while money<target_money:\n",
    "    money =money*1.08\n",
    "    print(money)\n",
    "    year_count+=1\n",
    "print (year_count)\n"
   ]
  },
  {
   "cell_type": "code",
   "execution_count": 141,
   "metadata": {},
   "outputs": [
    {
     "name": "stdout",
     "output_type": "stream",
     "text": [
      "1080.0\n",
      "1166.4\n",
      "1259.7120000000002\n",
      "1360.4889600000004\n",
      "1469.3280768000004\n",
      "1586.8743229440006\n",
      "1713.8242687795207\n",
      "1850.9302102818824\n",
      "1999.0046271044332\n",
      "2158.924997272788\n",
      "2331.638997054611\n",
      "2518.17011681898\n",
      "2719.6237261644987\n",
      "2937.193624257659\n",
      "3172.169114198272\n"
     ]
    },
    {
     "data": {
      "text/plain": [
       "15"
      ]
     },
     "execution_count": 141,
     "metadata": {},
     "output_type": "execute_result"
    }
   ],
   "source": [
    "p=8\n",
    "money = 1000\n",
    "target_money = 3000\n",
    "year_count=0\n",
    "while money < target_money:\n",
    "    money =money*(1 + p / 100)\n",
    "    print(money)\n",
    "    year_count += 1\n",
    "year_count"
   ]
  },
  {
   "cell_type": "markdown",
   "metadata": {},
   "source": [
    "Задание 3.12 (External resource)\n",
    "\n",
    "Вы играете в компьютерную игру, дошли до схватки с финальным боссом, но вот незадача: ваш компьютер «заглючил», и вы не можете управлять вашим персонажем. Босс атакует и каждую секунду наносит один удар, который отнимает у персонажа damage единиц здоровья. На схватку с боссом ваш персонаж вышел с health единиц здоровья.\n",
    "\n",
    "Создайте цикл, позволяющий понять, через сколько секунд босс убьёт вашего персонажа. В результате работы вашей программы в переменной seconds_num должно быть сохранено количество секунд, в течение которых будет длиться схватка.\n",
    "\n",
    "Примеры работы программы:\n",
    "\n",
    "\n",
    "health = 500\n",
    "damage = 80\n",
    "` seconds_num = 7\n",
    "\n",
    "health = 3014\n",
    "damage = 174\n",
    "` seconds_num = 18"
   ]
  },
  {
   "cell_type": "code",
   "execution_count": 150,
   "metadata": {},
   "outputs": [
    {
     "name": "stdout",
     "output_type": "stream",
     "text": [
      "18\n"
     ]
    }
   ],
   "source": [
    "health = 3014\n",
    "damage = 174\n",
    "## seconds_num = 18\n",
    "second_num=0\n",
    "## seconds_num = 7\n",
    "while damage*second_num<health:\n",
    "    second_num+=1\n",
    "\n",
    "print(second_num)"
   ]
  },
  {
   "cell_type": "markdown",
   "metadata": {},
   "source": [
    "4. Работа с вложенными циклами"
   ]
  },
  {
   "cell_type": "code",
   "execution_count": 159,
   "metadata": {},
   "outputs": [
    {
     "data": {
      "text/plain": [
       "10"
      ]
     },
     "execution_count": 159,
     "metadata": {},
     "output_type": "execute_result"
    }
   ],
   "source": [
    "temperature = [\n",
    "    [13, 15, 10],\n",
    "    [14, 13, 9],\n",
    "    [8, 9, 6]\n",
    "]\n",
    "temperature[0][2]"
   ]
  },
  {
   "cell_type": "code",
   "execution_count": null,
   "metadata": {},
   "outputs": [
    {
     "name": "stdout",
     "output_type": "stream",
     "text": [
      "Current row [1, 2]\n",
      "Current elem 1\n",
      "Current elem 2\n",
      "\n",
      "Current row [3, 4]\n",
      "Current elem 3\n",
      "Current elem 4\n",
      "\n",
      "Current row [5, 6]\n",
      "Current elem 5\n",
      "Current elem 6\n",
      "\n"
     ]
    }
   ],
   "source": [
    "matrix = [\n",
    "    [1, 2], \n",
    "    [3, 4], \n",
    "    [5, 6]\n",
    "]\n",
    "for row in matrix:\n",
    "    print(\"Current row\", row)\n",
    "    for elem in row:\n",
    "        print('Current elem',elem)\n",
    "    print()"
   ]
  },
  {
   "cell_type": "code",
   "execution_count": 166,
   "metadata": {},
   "outputs": [
    {
     "name": "stdout",
     "output_type": "stream",
     "text": [
      "Current i 0\n",
      "Current row [1, 2]\n",
      "Current i 1\n",
      "Current row [3, 4]\n",
      "Current i 2\n",
      "Current row [5, 6]\n"
     ]
    }
   ],
   "source": [
    "matrix = [\n",
    "    [1, 2], \n",
    "    [3, 4], \n",
    "    [5, 6]\n",
    "]\n",
    "N=len(matrix)\n",
    "for i in range(N):\n",
    "    print('Current i',i)\n",
    "    print('Current row',matrix[i])"
   ]
  },
  {
   "cell_type": "code",
   "execution_count": 169,
   "metadata": {},
   "outputs": [
    {
     "name": "stdout",
     "output_type": "stream",
     "text": [
      "Current i 0\n",
      "Current row [1, 2]\n",
      "Current j 0\n",
      "Current elem 1\n",
      "Current j 1\n",
      "Current elem 2\n",
      "\n",
      "Current i 1\n",
      "Current row [3, 4]\n",
      "Current j 0\n",
      "Current elem 3\n",
      "Current j 1\n",
      "Current elem 4\n",
      "\n",
      "Current i 2\n",
      "Current row [5, 6]\n",
      "Current j 0\n",
      "Current elem 5\n",
      "Current j 1\n",
      "Current elem 6\n",
      "\n"
     ]
    }
   ],
   "source": [
    "matrix = [\n",
    "    [1, 2], \n",
    "    [3, 4], \n",
    "    [5, 6]\n",
    "]\n",
    "N=len(matrix)\n",
    "M=len(matrix[0])\n",
    "for i in range(N):\n",
    "    print('Current i',i)\n",
    "    print('Current row',matrix[i])\n",
    "    for j in range(M):\n",
    "        print('Current j',j)\n",
    "        print('Current elem',matrix[i][j])\n",
    "    print()"
   ]
  },
  {
   "cell_type": "markdown",
   "metadata": {},
   "source": [
    "ЗАДАЧА №1"
   ]
  },
  {
   "cell_type": "code",
   "execution_count": 13,
   "metadata": {},
   "outputs": [
    {
     "name": "stdout",
     "output_type": "stream",
     "text": [
      "Alarm is set 10:00\n",
      "Alarm is set 10:30\n",
      "Alarm is set 15:00\n",
      "Alarm is set 15:30\n",
      "Alarm is set 20:00\n",
      "Alarm is set 20:30\n"
     ]
    }
   ],
   "source": [
    "hours=list(range(10,24,5))\n",
    "minutes=list(range(0,60,30))\n",
    "for hour in hours:\n",
    "    for minute in minutes:\n",
    "        if minute == 0:\n",
    "            print('Alarm is set {}:{}0'.format(hour,minute))  \n",
    "        else:\n",
    "            print('Alarm is set {}:{}'.format(hour,minute))\n"
   ]
  },
  {
   "cell_type": "markdown",
   "metadata": {},
   "source": [
    "Задание 4.2 (на самопроверку)\n",
    "\n",
    "Пусть пользователь заводит будильники на каждые два часа, начиная с 9 часов утра. Причём будильники должны звонить четырежды в указанный час (интервал 15 минут), например в 11:00, 11:15, 11:30 и 11:45.\n",
    "\n",
    "Напишите вложенный цикл, который будет выводить на экран время, в которое прозвенят будильники."
   ]
  },
  {
   "cell_type": "code",
   "execution_count": 14,
   "metadata": {},
   "outputs": [
    {
     "name": "stdout",
     "output_type": "stream",
     "text": [
      "Alarm is set 9:00\n",
      "Alarm is set 9:15\n",
      "Alarm is set 9:30\n",
      "Alarm is set 9:45\n",
      "Alarm is set 11:00\n",
      "Alarm is set 11:15\n",
      "Alarm is set 11:30\n",
      "Alarm is set 11:45\n",
      "Alarm is set 13:00\n",
      "Alarm is set 13:15\n",
      "Alarm is set 13:30\n",
      "Alarm is set 13:45\n",
      "Alarm is set 15:00\n",
      "Alarm is set 15:15\n",
      "Alarm is set 15:30\n",
      "Alarm is set 15:45\n",
      "Alarm is set 17:00\n",
      "Alarm is set 17:15\n",
      "Alarm is set 17:30\n",
      "Alarm is set 17:45\n",
      "Alarm is set 19:00\n",
      "Alarm is set 19:15\n",
      "Alarm is set 19:30\n",
      "Alarm is set 19:45\n",
      "Alarm is set 21:00\n",
      "Alarm is set 21:15\n",
      "Alarm is set 21:30\n",
      "Alarm is set 21:45\n",
      "Alarm is set 23:00\n",
      "Alarm is set 23:15\n",
      "Alarm is set 23:30\n",
      "Alarm is set 23:45\n"
     ]
    }
   ],
   "source": [
    "hours=list(range(9,24,2))\n",
    "minutes=list(range(0,60,15))\n",
    "for hour in hours:\n",
    "    for minute in minutes:\n",
    "        if minute==0:\n",
    "            print('Alarm is set {}:{}0'.format(hour,minute))  \n",
    "        else:\n",
    "            print('Alarm is set {}:{}'.format(hour,minute))\n"
   ]
  },
  {
   "cell_type": "code",
   "execution_count": 15,
   "metadata": {},
   "outputs": [
    {
     "name": "stdout",
     "output_type": "stream",
     "text": [
      "s\n",
      "i\n",
      "m\n",
      "p\n",
      "l\n",
      "e\n",
      " \n",
      "s\n",
      "t\n",
      "r\n",
      "i\n",
      "n\n",
      "g\n"
     ]
    }
   ],
   "source": [
    "simple_string='simple string'\n",
    "for s in simple_string:\n",
    "    print (s)"
   ]
  },
  {
   "cell_type": "code",
   "execution_count": 19,
   "metadata": {},
   "outputs": [
    {
     "name": "stdout",
     "output_type": "stream",
     "text": [
      "5\n"
     ]
    }
   ],
   "source": [
    "str_list = ['text', 'morning', 'notepad', 'television', 'ornament']\n",
    "count=0\n",
    "for simbol in str_list:\n",
    "    for i in simbol:\n",
    "        if i =='e':\n",
    "            count+=1\n",
    "print(count)"
   ]
  },
  {
   "cell_type": "code",
   "execution_count": 29,
   "metadata": {},
   "outputs": [
    {
     "name": "stdout",
     "output_type": "stream",
     "text": [
      "5\n"
     ]
    }
   ],
   "source": [
    "str_list = ['text', 'morning', 'notepad', 'television', 'ornament']\n",
    "count=0\n",
    "for simbol in str_list:\n",
    "    count+=simbol.count('e')\n",
    "print(count)"
   ]
  },
  {
   "cell_type": "code",
   "execution_count": 22,
   "metadata": {},
   "outputs": [
    {
     "name": "stdout",
     "output_type": "stream",
     "text": [
      "10\n"
     ]
    }
   ],
   "source": [
    "text_list = [\n",
    "    'afbaad',\n",
    "    'faaf',\n",
    "    'afaga',\n",
    "    'agag'\n",
    "]\n",
    "count=0\n",
    "for simbol in text_list:\n",
    "    for i in simbol:\n",
    "        if i=='a':\n",
    "            count+=1\n",
    "print(count)"
   ]
  },
  {
   "cell_type": "code",
   "execution_count": null,
   "metadata": {},
   "outputs": [],
   "source": [
    "str_list = ['text', 'morning', 'notepad', 'television', 'ornament']\n",
    "count=0\n",
    "for simbol in str_list:\n",
    "    count+=simbol.count('e')\n",
    "print(count)"
   ]
  },
  {
   "cell_type": "code",
   "execution_count": 30,
   "metadata": {},
   "outputs": [
    {
     "name": "stdout",
     "output_type": "stream",
     "text": [
      "10\n"
     ]
    }
   ],
   "source": [
    "text_list = [\n",
    "    'afbaad',\n",
    "    'faaf',\n",
    "    'afaga',\n",
    "    'agag'\n",
    "]\n",
    "count=0\n",
    "for simbol in text_list:\n",
    "    count+=simbol.count('a')\n",
    "print(count)"
   ]
  },
  {
   "cell_type": "code",
   "execution_count": 39,
   "metadata": {},
   "outputs": [
    {
     "name": "stdout",
     "output_type": "stream",
     "text": [
      "Minimal elements: [1, 2, 4]\n"
     ]
    }
   ],
   "source": [
    "random_matrix = [\n",
    "    [9, 2, 1],\n",
    "    [2, 5, 3],\n",
    "    [4, 8, 5]\n",
    "]\n",
    "min_value_rows=[]\n",
    "for row in random_matrix:\n",
    "    min_value=row[0]\n",
    "    for elem in row:\n",
    "        if elem < min_value:\n",
    "            min_value=elem\n",
    "    min_value_rows.append(min_value)\n",
    "print('Minimal elements:',min_value_rows)\n"
   ]
  },
  {
   "cell_type": "markdown",
   "metadata": {},
   "source": [
    "Задание 4.4 (External resource)\n",
    "\n",
    "Дана двумерная матрица random_matrix размера n x n (список списков). Напишите программу, которая определяет максимумы в каждой строке исходной матрицы.\n",
    "\n",
    "Максимумы должны быть представлены в виде списка. Запишите результат в переменную max_value_rows.\n",
    "\n",
    "Примеры работы программы:\n",
    "\n",
    "\n",
    "random_matrix = [\n",
    "    [9, 2, 1],\n",
    "    [2, 5, 3],\n",
    "    [4, 8, 5]\n",
    "]\n",
    "` max_value_rows = [9, 5, 8]\n",
    "\n",
    "random_matrix = [\n",
    "    [9, 121, 1, 10, 42],\n",
    "    [91, 5, 3, 34, -1],\n",
    "    [-8, 98, 5, 24, -420]\n",
    "]\n",
    "` max_value_rows = [121, 91, 98]\n",
    "\n"
   ]
  },
  {
   "cell_type": "code",
   "execution_count": 47,
   "metadata": {},
   "outputs": [
    {
     "name": "stdout",
     "output_type": "stream",
     "text": [
      "Max elements: [121, 91, 98]\n"
     ]
    },
    {
     "data": {
      "text/plain": [
       "98"
      ]
     },
     "execution_count": 47,
     "metadata": {},
     "output_type": "execute_result"
    }
   ],
   "source": [
    "random_matrix = [\n",
    "    [9, 121, 1, 10, 42],\n",
    "    [91, 5, 3, 34, -1],\n",
    "    [-8, 98, 5, 24, -420]\n",
    "]\n",
    "\n",
    "max_value_rows=[]\n",
    "for str in random_matrix:\n",
    "    max_value=str[0]\n",
    "    for i in str:\n",
    "        if i>max_value:\n",
    "            max_value=i\n",
    "    max_value_rows.append(max_value)\n",
    "print('Max elements:',max_value_rows)\n",
    "max_value"
   ]
  },
  {
   "cell_type": "code",
   "execution_count": 62,
   "metadata": {},
   "outputs": [
    {
     "name": "stdout",
     "output_type": "stream",
     "text": [
      "56\n",
      "90\n",
      "80\n",
      "\n",
      "136\n",
      "176\n",
      "172\n",
      "\n",
      "227\n",
      "252\n",
      "261\n",
      "\n",
      "318\n",
      "294\n",
      "321\n",
      "\n",
      "383\n",
      "324\n",
      "411\n",
      "\n",
      "Average math score 76.6\n",
      "Average info score 64.8\n",
      "Average rus score 82.2\n",
      "Average score 74.53333333333333\n"
     ]
    }
   ],
   "source": [
    "student_scores = [\n",
    "    [56, 90, 80],\n",
    "    [80, 86, 92],\n",
    "    [91, 76, 89],\n",
    "    [91, 42, 60],\n",
    "    [65, 30, 90]\n",
    "]\n",
    "summa=0\n",
    "math_sum=0\n",
    "info_sum=0\n",
    "rus_sum=0\n",
    "N=len(list(student_scores))\n",
    "M=len(list(student_scores[0]))\n",
    "for i in range(N):\n",
    "    math_sum+=student_scores[i][0]\n",
    "    print(math_sum)\n",
    "    info_sum+=student_scores[i][1]\n",
    "    print(info_sum)\n",
    "    rus_sum+=student_scores[i][2]\n",
    "    print(rus_sum)\n",
    "    print()\n",
    "    for j in range(M):\n",
    "        summa += student_scores[i][j]\n",
    "print('Average math score',math_sum/N)\n",
    "print('Average info score',info_sum/N)\n",
    "print('Average rus score',rus_sum/N)\n",
    "print('Average score',summa/(N*M))\n"
   ]
  },
  {
   "cell_type": "markdown",
   "metadata": {},
   "source": [
    "Вариант 1. С использованием вложенного цикла (плохо!)\n",
    "\n",
    "То есть нам нужно посчитать сумму чисел элементов внутренних списков под индексом 0."
   ]
  },
  {
   "cell_type": "code",
   "execution_count": 68,
   "metadata": {},
   "outputs": [
    {
     "name": "stdout",
     "output_type": "stream",
     "text": [
      "Summa 15\n",
      "Count iteration 9\n"
     ]
    }
   ],
   "source": [
    "table = [\n",
    "    [1, 3, 6],\n",
    "    [4, 6, 8],\n",
    "    [10, 33, 53]\n",
    "]\n",
    "N=len(table)\n",
    "N\n",
    "M=len(table[0])\n",
    "M\n",
    "S=0\n",
    "count=0\n",
    "for i in range(N):\n",
    "    for j in range(M):\n",
    "        if j==0:\n",
    "            S+=table[i][j]\n",
    "        count+=1\n",
    "print('Summa',S)\n",
    "print('Count iteration',count)"
   ]
  },
  {
   "cell_type": "code",
   "execution_count": 69,
   "metadata": {},
   "outputs": [
    {
     "name": "stdout",
     "output_type": "stream",
     "text": [
      "Summa 15\n",
      "Count iteration 3\n"
     ]
    }
   ],
   "source": [
    "table = [\n",
    "    [1, 3, 6],\n",
    "    [4, 6, 8],\n",
    "    [10, 33, 53]\n",
    "]\n",
    "N=len(table)\n",
    "N\n",
    "M=len(table[0])\n",
    "M\n",
    "S=0\n",
    "count=0\n",
    "for i in range(N):\n",
    "    S+=table[i][0]\n",
    "    count+=1\n",
    "print('Summa',S)\n",
    "print('Count iteration',count)"
   ]
  },
  {
   "cell_type": "markdown",
   "metadata": {},
   "source": [
    "Задание 4.5\n",
    "\n",
    "Дан вложенный список:"
   ]
  },
  {
   "cell_type": "code",
   "execution_count": 70,
   "metadata": {},
   "outputs": [
    {
     "data": {
      "text/plain": [
       "0.9"
      ]
     },
     "execution_count": 70,
     "metadata": {},
     "output_type": "execute_result"
    }
   ],
   "source": [
    "scores = [\n",
    "    [0.5, 0.6, 0.6, 0.65, 0.3],\n",
    "    [0.55, 0.7, 0.9, 0.5, 0.5]\n",
    "]\n",
    "scores[1][2]"
   ]
  },
  {
   "cell_type": "markdown",
   "metadata": {},
   "source": [
    "Задание 4.6\n",
    "\n",
    "Чему равно значение переменной count в результате выполнения следующего кода?"
   ]
  },
  {
   "cell_type": "code",
   "execution_count": 71,
   "metadata": {},
   "outputs": [
    {
     "name": "stdout",
     "output_type": "stream",
     "text": [
      "20\n"
     ]
    }
   ],
   "source": [
    "count = 0\n",
    "for i in range(5):\n",
    "    for j in range(4):\n",
    "        count += 1\n",
    "print(count)"
   ]
  },
  {
   "cell_type": "markdown",
   "metadata": {},
   "source": [
    "Задание 4.7\n",
    "\n",
    "Чему будет равно значение переменной scores_lst после выполнения следующего кода?\n"
   ]
  },
  {
   "cell_type": "code",
   "execution_count": 72,
   "metadata": {},
   "outputs": [
    {
     "name": "stdout",
     "output_type": "stream",
     "text": [
      "0.5\n",
      "0.6\n",
      "0.6\n",
      "0.65\n",
      "0.3\n",
      "0.55\n",
      "0.7\n",
      "0.9\n",
      "0.5\n",
      "0.5\n",
      "[0.5, 0.6, 0.6, 0.65, 0.3, 0.55, 0.7, 0.9, 0.5, 0.5]\n"
     ]
    }
   ],
   "source": [
    "scores = [\n",
    "    [0.5, 0.6, 0.6, 0.65, 0.3],\n",
    "    [0.55, 0.7, 0.9, 0.5, 0.5]\n",
    "]\n",
    "scores_lst = []\n",
    "for row in scores:\n",
    "    for score in row:\n",
    "        print(score)\n",
    "        scores_lst.append(score)\n",
    "print(scores_lst)"
   ]
  },
  {
   "attachments": {
    "image.png": {
     "image/png": "[encoded data removed]"
    }
   },
   "cell_type": "markdown",
   "metadata": {},
   "source": [
    "Задание 4.8 (External resource)\n",
    "\n",
    "Напишите код, который определяет, является ли вложенный список test_matrix квадратной матрицей (то есть матрицей, у которой количество строк равно количеству столбцов).\n",
    "\n",
    "Примеры квадратной и неквадратной (прямоугольной) матрицы: слева — квадратная, справа — неквадратная.\n",
    "\n",
    "![image.png](attachment:image.png)\n",
    "\n",
    "В результате работы программы в переменной is_square должно лежать булево значение — True или False — в зависимости от заданного вложенного списка.\n",
    "\n",
    "Примеры работы программы:\n",
    "\n",
    "\n",
    "test_matrix = [\n",
    "    [1, 2, 3],\n",
    "    [7, -1, 2],\n",
    "    [123, 2, -1]\n",
    "]\n",
    "` is_square = True\n",
    "\n",
    "test_matrix = [\n",
    "    [1, 2, 3],\n",
    "    [7, -1, 2],\n",
    "    [123, 2, -1],\n",
    "    [123, 5, 1]\n",
    "]\n",
    "` is_square = False\n",
    "\n",
    "test_matrix = [\n",
    "    [1, 2, 3,  4],\n",
    "    [7, -1, 2, 5],\n",
    "    [123, 2, -1, 3],\n",
    "    [123, 5, 1]\n",
    "]\n",
    "` is_square = False\n"
   ]
  },
  {
   "cell_type": "markdown",
   "metadata": {},
   "source": [
    "МОЕ РЕШЕНИЕ"
   ]
  },
  {
   "cell_type": "code",
   "execution_count": 78,
   "metadata": {},
   "outputs": [
    {
     "name": "stdout",
     "output_type": "stream",
     "text": [
      "False\n"
     ]
    }
   ],
   "source": [
    "test_matrix = [\n",
    "    [1, 2, 3,  4],\n",
    "    [7, -1, 2, 5],\n",
    "    [123, 2, -1, 3],\n",
    "    [123, 5, 1]\n",
    "]\n",
    "N=len(test_matrix)\n",
    "M=len(test_matrix[0])\n",
    "for line in test_matrix:\n",
    "    if len(line)==M:\n",
    "        if M==N:\n",
    "            is_square=True\n",
    "        else:\n",
    "            is_square=False\n",
    "    else:\n",
    "        is_square=False\n",
    "print(is_square)\n",
    "\n",
    "# Время выполнения: 0.858739 сек"
   ]
  },
  {
   "cell_type": "markdown",
   "metadata": {},
   "source": [
    "ЭТАЛОННОЕ РЕШЕНИЕ"
   ]
  },
  {
   "cell_type": "code",
   "execution_count": 77,
   "metadata": {},
   "outputs": [],
   "source": [
    "# Вычисляем число строк в матрице\n",
    "num_lines = len(test_matrix)\n",
    "# Задаём начальное количество строк, длина которых совпадает с числом строк в матрице.\n",
    "count = 0\n",
    "# Создаём цикл по строкам матрицы\n",
    "for line in test_matrix: #line — текущая строка матрицы\n",
    "    # Проверяем, что длина текущей строки равна количеству строк.\n",
    "    if len(line) == num_lines:\n",
    "        # Если условие выполняется, увеличиваем количество строк,\n",
    "        # длина которых совпадает с числом строк в матрице.\n",
    "        count += 1\n",
    "# Cравниваем полученное число с числом строк в матрице\n",
    "is_square = num_lines == count\n",
    "# Время выполнения: 1.307909 сек"
   ]
  },
  {
   "cell_type": "markdown",
   "metadata": {},
   "source": [
    "Задание 4.9 (External resource)\n",
    "\n",
    "При формировании данных о температуре за три летних месяца допустили ошибку: некоторые значения оказались отрицательными. Вам необходимо заменить все отрицательные значения на положительные.\n",
    "\n",
    "Список со значениями температуры задан в переменной temp. Необходимо перезаписать значения этого списка.\n",
    "\n",
    "Пример работы программы:\n",
    "\n",
    "temp = [[25, 27, 28, 26, 27, -26, -25, -2, 26], [21, 22, 28, 27, 28, 26, 25, 19, 26], [-19, 21, 25, -27, 28, 25, 21, 20, 26]]\n",
    "\n",
    "` После обработки\n",
    "` temp = [[25, 27, 28, 26, 27, 26, 25, 2, 26], [21, 22, 28, 27, 28, 26, 25, 19, 26], [19, 21, 25, 27, 28, 25, 21, 20, 26]]"
   ]
  },
  {
   "cell_type": "code",
   "execution_count": 128,
   "metadata": {},
   "outputs": [
    {
     "name": "stdout",
     "output_type": "stream",
     "text": [
      "25272826272625226212228272826251926192125272825212026"
     ]
    }
   ],
   "source": [
    "temp = [[25, 27, 28, 26, 27, -26, -25, -2, 26], \n",
    "        [21, 22, 28, 27, 28, 26, 25, 19, 26], \n",
    "        [-19, 21, 25, -27, 28, 25, 21, 20, 26]\n",
    "        ]\n",
    "for line in temp:\n",
    "    for i in line:\n",
    "        if i<0:\n",
    "            i*=(-1)\n",
    "            print(i, end='')\n",
    "        else:\n",
    "            i=i\n",
    "            print(i, end='')\n",
    "# После обработки\n",
    "## temp = [[25, 27, 28, 26, 27, 26, 25, 2, 26], [21, 22, 28, 27, 28, 26, 25, 19, 26], [19, 21, 25, 27, 28, 25, 21, 20, 26]]\n"
   ]
  },
  {
   "cell_type": "code",
   "execution_count": 107,
   "metadata": {},
   "outputs": [
    {
     "name": "stdout",
     "output_type": "stream",
     "text": [
      "[25, 27, 28, 26, 27, -26, -25, -2, 26]\n",
      "26\n",
      "25\n",
      "2\n",
      "[21, 22, 28, 27, 28, 26, 25, 19, 26]\n",
      "[-19, 21, 25, -27, 28, 25, 21, 20, 26]\n",
      "19\n",
      "27\n",
      "[[25, 27, 28, 26, 27, 26, 25, 2, 26], [21, 22, 28, 27, 28, 26, 25, 19, 26], [19, 21, 25, 27, 28, 25, 21, 20, 26]]\n"
     ]
    }
   ],
   "source": [
    "temp = [[25, 27, 28, 26, 27, -26, -25, -2, 26], \n",
    "        [21, 22, 28, 27, 28, 26, 25, 19, 26], \n",
    "        [-19, 21, 25, -27, 28, 25, 21, 20, 26]\n",
    "        ]\n",
    "N=range(len(temp))\n",
    "for i in N:\n",
    "    row=temp[i]\n",
    "    M=range(len(row))\n",
    "    print(row)\n",
    "    for j in M:\n",
    "        if temp[i][j]<0:\n",
    "            temp[i][j]*=-1\n",
    "            print(temp[i][j])\n",
    "print(temp)"
   ]
  },
  {
   "cell_type": "markdown",
   "metadata": {},
   "source": [
    "Задание 4.10 (External resource)\n",
    "\n",
    "Дан список customer_satisfaction, состоящий из вложенных списков с показателями удовлетворённости клиентов компании по месяцам. Удовлетворённость измеряется от 0 до 1.\n",
    "\n",
    "Пример такого списка:\n",
    "\n",
    "\n",
    "customer_satisfaction = [\n",
    "    [0.87, 0.56, 0.77],\n",
    "    [0.22, 0.46, 0.56, 0.89, 0.95],\n",
    "    [0.45, 0.44, 0.68],\n",
    "    [0.73, 0.88, 0.95, 0.49]\n",
    "]\n",
    "Напишите программу, которая вычисляет средние значения удовлетворённости клиентов за каждый месяц (среднее значение в каждом из вложенных списков), округлённые до двух знаков после точки-разделителя, а также максимальное из этих средних значений.\n",
    "\n",
    "Средняя удовлетворённость по месяцам должна быть представлена в виде списка month_satisfaction. Максимальная удовлетворённость должна быть представлена в виде float-числа и записана в переменную max_satisfaction.\n",
    "\n",
    "Пример работы программы:\n",
    "\n",
    "\n",
    "customer_satisfaction = [\n",
    "    [0.87, 0.56, 0.77],\n",
    "    [0.22, 0.46, 0.56, 0.89, 0.95],\n",
    "    [0.45, 0.44, 0.68],\n",
    "    [0.73, 0.88, 0.95, 0.49]\n",
    "]\n",
    "\n",
    "` month_satisfaction = [0.73, 0.62, 0.52, 0.76]\n",
    "` max_satisfaction = 0.76\n",
    "При решении задачи постарайтесь обойтись без использования встроенных функций для вычисления суммы списка (sum), длины списка (len), а также максимального значения в списке (max). Решите задачу, используя вложенные циклы, и опишите весь алгоритм самостоятельно."
   ]
  },
  {
   "cell_type": "code",
   "execution_count": 119,
   "metadata": {},
   "outputs": [
    {
     "name": "stdout",
     "output_type": "stream",
     "text": [
      "[0.73, 0.62, 0.52, 0.76]\n",
      "0.76\n"
     ]
    }
   ],
   "source": [
    "customer_satisfaction = [\n",
    "    [0.87, 0.56, 0.77],\n",
    "    [0.22, 0.46, 0.56, 0.89, 0.95],\n",
    "    [0.45, 0.44, 0.68],\n",
    "    [0.73, 0.88, 0.95, 0.49]\n",
    "]\n",
    "month_satisfaction =[]\n",
    "max_satisfaction=0\n",
    "for row in customer_satisfaction:\n",
    "    sum=0\n",
    "    count=0\n",
    "    for value in row:\n",
    "        sum+=value\n",
    "        count+=1\n",
    "    mean=round((sum/count),2)\n",
    "    month_satisfaction.append(mean)\n",
    "print(month_satisfaction)\n",
    "for i in month_satisfaction:\n",
    "    if i > max_satisfaction:\n",
    "        max_satisfaction=i \n",
    "print(max_satisfaction)\n",
    "\n",
    "\n",
    "\n",
    "## month_satisfaction = [0.73, 0.62, 0.52, 0.76]\n",
    "## max_satisfaction = 0.76"
   ]
  },
  {
   "cell_type": "code",
   "execution_count": 123,
   "metadata": {},
   "outputs": [
    {
     "name": "stdout",
     "output_type": "stream",
     "text": [
      "Day 1 : -5\n",
      "Day 2 : 2\n",
      "Day 3 : 4\n",
      "Day 4 : 8\n",
      "Day 5 : 12\n",
      "Day 6 : -7\n",
      "Day 7 : 5\n"
     ]
    }
   ],
   "source": [
    "user_dynamics = [-5, 2, 4, 8, 12, -7, 5]\n",
    "number=1\n",
    "for dynamic in user_dynamics:\n",
    "    print('Day {} : {}'.format(number,dynamic))\n",
    "    number+=1"
   ]
  },
  {
   "cell_type": "code",
   "execution_count": 126,
   "metadata": {},
   "outputs": [
    {
     "name": "stdout",
     "output_type": "stream",
     "text": [
      "Day 1 : -5\n",
      "Day 2 : 2\n",
      "Day 3 : 4\n",
      "Day 4 : 8\n",
      "Day 5 : 12\n",
      "Day 6 : -7\n",
      "Day 7 : 5\n"
     ]
    }
   ],
   "source": [
    "user_dynamics = [-5, 2, 4, 8, 12, -7, 5]\n",
    "N=len(user_dynamics)\n",
    "for i in range(N):\n",
    "    print('Day {} : {}'.format(i+1,user_dynamics[i]))"
   ]
  },
  {
   "cell_type": "code",
   "execution_count": 129,
   "metadata": {},
   "outputs": [
    {
     "name": "stdout",
     "output_type": "stream",
     "text": [
      "0 5\n",
      "1 9\n",
      "2 13\n"
     ]
    }
   ],
   "source": [
    "my_list=[5,9,13]\n",
    "for index, value in enumerate(my_list):\n",
    "    print (index, value)"
   ]
  },
  {
   "cell_type": "code",
   "execution_count": 131,
   "metadata": {},
   "outputs": [
    {
     "name": "stdout",
     "output_type": "stream",
     "text": [
      "Day 1 : -5\n",
      "Day 2 : 2\n",
      "Day 3 : 4\n",
      "Day 4 : 8\n",
      "Day 5 : 12\n",
      "Day 6 : -7\n",
      "Day 7 : 5\n"
     ]
    }
   ],
   "source": [
    "user_dynamics = [-5, 2, 4, 8, 12, -7, 5]\n",
    "for index, value in enumerate(user_dynamics):\n",
    "    print('Day {} : {}'.format(index+1,value))"
   ]
  },
  {
   "cell_type": "markdown",
   "metadata": {},
   "source": [
    "Задание 5.4 (External resource)"
   ]
  },
  {
   "cell_type": "markdown",
   "metadata": {},
   "source": [
    "Дан список, состоящий из строк. Список хранится в переменной str_list. Создайте новый список cut_str_list.\n",
    "\n",
    "В цикле добавляйте в список cut_str_list списки, состоящие из порядкового номера строки из списка str_list (номер в рамках данной задачи начинается с 0) и трёх первых символов из каждой строки. Если длина строки меньше трёх символов, то добавляется вся строка целиком.\n",
    "\n",
    "Пример работы программы:\n",
    "\n",
    "\n",
    "str_list = ['Hello', 'my', 'name', 'is', 'Ezeikel', 'I', 'like', 'knitting']\n",
    "\n",
    "` cut_str_list = [[0, 'Hel'], [1, 'my'], [2, 'nam'], [3, 'is'], [4, 'Eze'], [5, 'I'], [6, 'lik'], [7, 'kni']]\n",
    "При решении задачи воспользуйтесь функцией enumerate()."
   ]
  },
  {
   "cell_type": "markdown",
   "metadata": {},
   "source": [
    "мое решение"
   ]
  },
  {
   "cell_type": "code",
   "execution_count": 7,
   "metadata": {},
   "outputs": [
    {
     "name": "stdout",
     "output_type": "stream",
     "text": [
      "[[0, 'Hel'], [1, 'my'], [2, 'nam'], [3, 'is'], [4, 'Eze'], [5, 'I'], [6, 'lik'], [7, 'kni']]\n"
     ]
    }
   ],
   "source": [
    "str_list = ['Hello', 'my', 'name', 'is', 'Ezeikel', 'I', 'like', 'knitting']\n",
    "\n",
    "## cut_str_list = [[0, 'Hel'], [1, 'my'], [2, 'nam'], [3, 'is'], [4, 'Eze'], [5, 'I'], [6, 'lik'], [7, 'kni']]\n",
    "cut_str_list=[]\n",
    "for i,str_ in enumerate(str_list):\n",
    "    # print(i,str_[:3],end=', ')\n",
    "    cut_str_list.append([i,str_[:3]])\n",
    "print(cut_str_list)\n"
   ]
  },
  {
   "cell_type": "markdown",
   "metadata": {},
   "source": [
    "эталонное решение"
   ]
  },
  {
   "cell_type": "code",
   "execution_count": null,
   "metadata": {},
   "outputs": [],
   "source": [
    "cut_str_list= []\n",
    "for number, my_str in enumerate(str_list):\n",
    "    cut_str_list.append([number, my_str[:3]])"
   ]
  },
  {
   "cell_type": "code",
   "execution_count": 13,
   "metadata": {},
   "outputs": [
    {
     "name": "stdout",
     "output_type": "stream",
     "text": [
      "inventory is full\n",
      "['Blood Moon Sword', 'Sunset-colored sword', 'Bow of Stars']\n"
     ]
    }
   ],
   "source": [
    "to_inventory = ['Blood Moon Sword', 'Sunset-colored sword', \n",
    "                'Bow of Stars', 'Gain Stone']\n",
    "inventory=[]\n",
    "for item in to_inventory:\n",
    "    if len(inventory)==3:\n",
    "        print('inventory is full')\n",
    "        break\n",
    "    inventory.append(item)\n",
    "print(inventory)\n"
   ]
  },
  {
   "cell_type": "code",
   "execution_count": 22,
   "metadata": {},
   "outputs": [
    {
     "name": "stdout",
     "output_type": "stream",
     "text": [
      "90\n",
      "30\n",
      "10\n",
      "n- is not power of the number 3!\n"
     ]
    }
   ],
   "source": [
    "n=270\n",
    "while True:\n",
    "    if n%3==0:\n",
    "        n=n//3\n",
    "        print(n)\n",
    "        if n==1:\n",
    "            print('n- is power of the number 3!')\n",
    "            break\n",
    "    else:\n",
    "        print('n- is not power of the number 3!')\n",
    "        break"
   ]
  },
  {
   "cell_type": "code",
   "execution_count": 25,
   "metadata": {},
   "outputs": [
    {
     "name": "stdout",
     "output_type": "stream",
     "text": [
      "1\n",
      "2\n",
      "3\n",
      "4\n",
      "5\n",
      "6\n",
      "7\n",
      "8\n",
      "9\n",
      "10\n",
      "11\n"
     ]
    },
    {
     "data": {
      "text/plain": [
       "11"
      ]
     },
     "execution_count": 25,
     "metadata": {},
     "output_type": "execute_result"
    }
   ],
   "source": [
    "i = 0\n",
    "while True:\n",
    "    if i > 10:\n",
    "        break\n",
    "    else:\n",
    "        i += 1\n",
    "        print(i)\n",
    "i"
   ]
  },
  {
   "cell_type": "markdown",
   "metadata": {},
   "source": [
    "Задание 5.7 (External resource)\n",
    "\n",
    "Допишите программу, которая проверяет гипотезу Сиракуз.\n",
    "\n",
    "Гипотеза Сиракуз заключается в том, что любое натуральное число n можно свести к 1, если повторять над ним следующие действия:\n",
    "\n",
    "если число чётное, разделить его нацело пополам, т. е. n = n // 2;\n",
    "если нечётное — умножить на 3, прибавить 1 и результат нацело разделить на 2, т. е. n = (n * 3 + 1) // 2.\n",
    "Мы тестируем только целые числа!\n",
    "\n",
    "Пример работы программы:\n",
    "\n",
    "\n",
    "n = 19\n",
    "` Syracuse hypothesis holds for number 19\n",
    "\n",
    "n = 25921\n",
    "` Syracuse hypothesis holds for number 25921\n",
    "\n"
   ]
  },
  {
   "cell_type": "code",
   "execution_count": 35,
   "metadata": {},
   "outputs": [
    {
     "name": "stdout",
     "output_type": "stream",
     "text": [
      "Syracuse hypothesis holds for number 1.0\n"
     ]
    }
   ],
   "source": [
    "origin=n\n",
    "while True:\n",
    "    if n % 2 == 0:\n",
    "        n=n//2\n",
    "        # print(n)\n",
    "    else:\n",
    "        n=(n*3+1)//2\n",
    "        # print(n)\n",
    "    if n==1:\n",
    "        print(f'Syracuse hypothesis holds for number {origin}')\n",
    "        break"
   ]
  },
  {
   "cell_type": "markdown",
   "metadata": {},
   "source": [
    "другое решение из семинара"
   ]
  },
  {
   "cell_type": "code",
   "execution_count": 37,
   "metadata": {},
   "outputs": [
    {
     "name": "stdout",
     "output_type": "stream",
     "text": [
      "17\n",
      "26\n",
      "13\n",
      "20\n",
      "10\n",
      "5\n",
      "8\n",
      "4\n",
      "2\n",
      "1\n",
      "получим единицу после 10 итераций\n"
     ]
    }
   ],
   "source": [
    "n=int(input('Введите число'))\n",
    "count=0\n",
    "while n!=1:\n",
    "    if n%2==0:\n",
    "        n=n//2\n",
    "    else:\n",
    "        n=(n*3+1)//2\n",
    "    count += 1    \n",
    "    print(n)\n",
    "print(f'получим единицу после {count} итераций')"
   ]
  },
  {
   "cell_type": "markdown",
   "metadata": {},
   "source": [
    "мое решение"
   ]
  },
  {
   "cell_type": "code",
   "execution_count": 58,
   "metadata": {},
   "outputs": [
    {
     "name": "stdout",
     "output_type": "stream",
     "text": [
      "Send present user 103303\n",
      "Send present user 100423\n"
     ]
    }
   ],
   "source": [
    "client_status = {\n",
    "    103303: 'yes', \n",
    "    103044: 'no',\n",
    "    100423: 'yes',\n",
    "    103032: 'no',\n",
    "    103902: 'no'\n",
    "}\n",
    "for key,value in client_status.items():\n",
    "    if value == 'yes':\n",
    "        print(f'Send present user {key}')\n"
   ]
  },
  {
   "cell_type": "markdown",
   "metadata": {},
   "source": [
    "Эталонное решение"
   ]
  },
  {
   "cell_type": "code",
   "execution_count": 55,
   "metadata": {},
   "outputs": [
    {
     "name": "stdout",
     "output_type": "stream",
     "text": [
      "Send present user 103303\n",
      "no\n",
      "Send present user 100423\n",
      "no\n",
      "no\n"
     ]
    }
   ],
   "source": [
    "# Заданный словарь\n",
    "client_status = {\n",
    "    103303: 'yes', \n",
    "    103044: 'no',\n",
    "    100423: 'yes',\n",
    "    103032: 'no',\n",
    "    103902: 'no'\n",
    "}\n",
    "# Создаём цикл по ключам словаря client_status\n",
    "for user_id in client_status: # user_id — текущий ключ словаря\n",
    "    \n",
    "    if client_status[user_id] == 'no':\n",
    "        print(client_status[user_id])\n",
    "        # Если текущий статус == 'no', переходим на следующую итерацию\n",
    "        continue\n",
    "    else:\n",
    "        # В противном случае выводим сообщение об отправке сертификата\n",
    "        print('Send present user', user_id)\n",
    "\n",
    "\n",
    "# Будет выведено:\n",
    "# Send present user 103303\n",
    "# Send present user 100423"
   ]
  },
  {
   "cell_type": "code",
   "execution_count": 59,
   "metadata": {},
   "outputs": [
    {
     "name": "stdout",
     "output_type": "stream",
     "text": [
      "a b d e "
     ]
    }
   ],
   "source": [
    "lst=['a', 'b', 'c', 'd', 'e']\n",
    "for elem in lst:\n",
    "    if elem == 'c':\n",
    "        continue\n",
    "    print(elem, end=' ')\n"
   ]
  },
  {
   "cell_type": "markdown",
   "metadata": {},
   "source": [
    "Задание 5.10 (External resource)\n",
    "\n",
    "ан словарь mixture_dict. Значения в нём могут быть трёх типов: строки (str) или числа (int и float).\n",
    "\n",
    "Посчитайте, сколько значений в словаре mixture_dict являются числами. Результат занесите в переменную count_numbers. Используйте в своём коде оператор continue.\n",
    "\n",
    "Примеры работы программы:\n",
    "\n",
    "\n",
    "mixture_dict = {'a': 15, 'b': 10.5, 'c': '15', 'd': 50, 'e': 15, 'f': '15'}\n",
    "` count_numbers = 4\n",
    "\n",
    "mixture_dict = {'key1': 24, 'key2': '1.4', 'key3': 14, 'key4': 16.24, 'key6': 124.2414, 'key7': 12.2}\n",
    "` count_numbers = 5\n",
    "\n"
   ]
  },
  {
   "cell_type": "markdown",
   "metadata": {},
   "source": [
    "мое решение"
   ]
  },
  {
   "cell_type": "code",
   "execution_count": 75,
   "metadata": {},
   "outputs": [
    {
     "name": "stdout",
     "output_type": "stream",
     "text": [
      "4\n"
     ]
    }
   ],
   "source": [
    "mixture_dict = {'a': 15, 'b': 10.5, 'c': '15', 'd': 50, 'e': 15, 'f': '15'}\n",
    "## count_numbers = 4\n",
    "count_numbers = 0\n",
    "for key,value in mixture_dict.items():\n",
    "    # print(value)\n",
    "    if type(value) is int or type(value) is float:\n",
    "        count_numbers+=1\n",
    "print(count_numbers)"
   ]
  },
  {
   "cell_type": "markdown",
   "metadata": {},
   "source": [
    "мое решение второе"
   ]
  },
  {
   "cell_type": "code",
   "execution_count": null,
   "metadata": {},
   "outputs": [
    {
     "name": "stdout",
     "output_type": "stream",
     "text": [
      "15\n",
      "10.5\n",
      "15\n",
      "50\n",
      "15\n",
      "15\n",
      "4\n"
     ]
    }
   ],
   "source": [
    "mixture_dict = {'a': 15, 'b': 10.5, 'c': '15', 'd': 50, 'e': 15, 'f': '15'}\n",
    "## count_numbers = 4\n",
    "count_numbers = 0\n",
    "for key,value in mixture_dict.items():\n",
    "    # print(value)\n",
    "    if type(value) is str:\n",
    "        continue    \n",
    "    else:\n",
    "        count_numbers+=1\n",
    "print(count_numbers)"
   ]
  },
  {
   "cell_type": "markdown",
   "metadata": {},
   "source": [
    "эталонное решение"
   ]
  },
  {
   "cell_type": "code",
   "execution_count": 74,
   "metadata": {},
   "outputs": [
    {
     "name": "stdout",
     "output_type": "stream",
     "text": [
      "4\n"
     ]
    }
   ],
   "source": [
    "mixture_dict = {'a': 15, 'b': 10.5, 'c': '15', 'd': 50, 'e': 15, 'f': '15'}\n",
    "## count_numbers = 4\n",
    "count_numbers = 0\n",
    "for i in mixture_dict:\n",
    "    if type(mixture_dict[i]) is str:\n",
    "        # print(mixture_dict[i])\n",
    "        continue\n",
    "    else:\n",
    "        count_numbers+=1\n",
    "print(count_numbers)"
   ]
  },
  {
   "cell_type": "code",
   "execution_count": 79,
   "metadata": {},
   "outputs": [
    {
     "name": "stdout",
     "output_type": "stream",
     "text": [
      "1\n",
      "2\n",
      "3\n"
     ]
    }
   ],
   "source": [
    "# Задан список\n",
    "lst = [1,2,3,4,5]\n",
    "# Создаём цикл по элементам списка\n",
    "for i in lst:\n",
    "    if i > 3:\n",
    "        # Если i больше 3, ничего не делаем\n",
    "        pass\n",
    "    else:\n",
    "        # В противном случае выводим элемент\n",
    "        print(i)"
   ]
  },
  {
   "cell_type": "markdown",
   "metadata": {},
   "source": [
    "## Практическое использование циклов ДЛЯ ЗАДАЧ ОБРАБОТКИ ТЕКСТОВ"
   ]
  },
  {
   "cell_type": "code",
   "execution_count": 99,
   "metadata": {},
   "outputs": [
    {
     "data": {
      "text/plain": [
       "[('!', 4),\n",
       " (\"'\", 5),\n",
       " ('(', 1),\n",
       " (')', 1),\n",
       " (',', 13),\n",
       " ('-', 2),\n",
       " ('.', 5),\n",
       " (':', 1),\n",
       " (';', 3),\n",
       " ('`', 3),\n",
       " ('a', 70),\n",
       " ('b', 15),\n",
       " ('c', 9),\n",
       " ('d', 43),\n",
       " ('e', 112),\n",
       " ('f', 28),\n",
       " ('g', 17),\n",
       " ('h', 63),\n",
       " ('i', 47),\n",
       " ('j', 2),\n",
       " ('k', 14),\n",
       " ('l', 55),\n",
       " ('m', 17),\n",
       " ('n', 57),\n",
       " ('o', 80),\n",
       " ('p', 23),\n",
       " ('r', 39),\n",
       " ('s', 60),\n",
       " ('t', 88),\n",
       " ('u', 22),\n",
       " ('v', 8),\n",
       " ('w', 31),\n",
       " ('x', 1),\n",
       " ('y', 18)]"
      ]
     },
     "execution_count": 99,
     "metadata": {},
     "output_type": "execute_result"
    }
   ],
   "source": [
    "text = \"\"\"\n",
    "The rabbit-hole went straight on like a tunnel for some way, \n",
    "and then dipped suddenly down, so suddenly that Alice had not a moment to \n",
    "think about stopping herself before she found herself falling down a very \n",
    "deep well.\n",
    "\n",
    "Either the well was very deep, or she fell very slowly, for she had plenty \n",
    "of time as she went down to look about her and to wonder what was going to \n",
    "happen next. First, she tried to look down and make out what she was coming \n",
    "to, but it was too dark to see anything; then she looked at the sides of the \n",
    "well, and noticed that they were filled with cupboards and book-shelves;\n",
    " here and there she saw maps and pictures hung upon pegs. She took down a \n",
    " jar from one of the shelves as she passed; it was labelled \n",
    " `ORANGE MARMALADE', but to her great disappointment it was empty: she did \n",
    " not like to drop the jar for fear of killing somebody, so managed to put it\n",
    "   into one of the cupboards as she fell past it.\n",
    "\n",
    "`Well!' thought Alice to herself, `after such a fall as this, I shall think \n",
    "nothing of tumbling down stairs! How brave they'll all think me at home! \n",
    "Why, I wouldn't say anything about it, even if I fell off the top of the \n",
    "house!' (Which was very likely true.)\n",
    "\"\"\"\n",
    "text=text.lower()\n",
    "text=text.replace(' ','')\n",
    "text=text.replace('\\n','')\n",
    "count_dict={}\n",
    "for simbol in text:\n",
    "    if simbol not in count_dict:\n",
    "        count_dict[simbol]=1\n",
    "        # print(count_dict)\n",
    "    else:\n",
    "        count_dict[simbol]+=1\n",
    "        # print(count_dict)\n",
    "sorted(count_dict.items())"
   ]
  },
  {
   "cell_type": "markdown",
   "metadata": {},
   "source": [
    "Задание 5.11 (External resource)\n",
    "\n",
    "Дана переменная text, в которой содержится некоторый текст. В этом тексте могут присутствовать знаки препинания: точки ('.'), запятые(','), точки с запятой (';'), вопросительные ('?') и восклицательные знаки ('!'), а также тире ('—').\n",
    "\n",
    "Напишите программу, формирующую словарь count_punctuation, ключами которого являются знаки препинания, а значениями — их количество в тексте.\n",
    "\n",
    "Обратите внимание, что если какого-то из шести указанных знаков препинания нет в тексте, то в итоговом словаре значение, соответствующее этому знаку препинания, должно быть равно 0. Также имейте в виду, что тире и дефис являются разными символами.\n",
    "\n",
    "Примеры работы программы:\n",
    "\n",
    "\n",
    "text = \"\"\"\n",
    "She sells sea shells on the sea shore;\n",
    "The shells that she sells are sea shells I am sure.\n",
    "So if she sells sea shells on the sea shore,\n",
    "I am sure that the shells are sea shore shells.\n",
    "\"\"\"\n",
    "` count_punctuation = {',': 1, '.': 2, '?': 0, '!': 0, ';': 1, '—': 0}\n",
    "\n",
    "text = \"\"\"\n",
    "Иной раз казалось ему, что он уже с месяц лежит; в другой раз — что всё тот же день идет. Но об том — об том он совершенно забыл; зато ежеминутно помнил, что об чем-то забыл, чего нельзя забывать, — терзался, мучился, припоминая, стонал, впадал в бешенство или в ужасный, невыносимый страх.\n",
    "Тогда он порывался с места, хотел бежать, но всегда кто-нибудь его останавливал силой, и он опять впадал в бессилие и беспамятство. Наконец он совсем пришел в себя!\n",
    "\"\"\"\n",
    "` count_punctuation = {',': 12, '.': 3, '?': 0, '!': 1, ';': 2, '—': 3}\n"
   ]
  },
  {
   "cell_type": "code",
   "execution_count": 104,
   "metadata": {},
   "outputs": [
    {
     "data": {
      "text/plain": [
       "{',': 1, '.': 2, '?': 0, '!': 0, ';': 1, '—': 0}"
      ]
     },
     "execution_count": 104,
     "metadata": {},
     "output_type": "execute_result"
    }
   ],
   "source": [
    "text = \"\"\"\n",
    "She sells sea shells on the sea shore;\n",
    "The shells that she sells are sea shells I am sure.\n",
    "So if she sells sea shells on the sea shore,\n",
    "I am sure that the shells are sea shore shells.\n",
    "\"\"\"\n",
    "count_punctuation = {',': 0, '.': 0, '?': 0, '!': 0, ';': 0, '—': 0}\n",
    "# text=text.replace('\\n','')\n",
    "for simbol in text:\n",
    "    if simbol in count_punctuation:\n",
    "        count_punctuation[simbol]+=1\n",
    "count_punctuation\n"
   ]
  },
  {
   "cell_type": "code",
   "execution_count": 122,
   "metadata": {},
   "outputs": [
    {
     "name": "stdout",
     "output_type": "stream",
     "text": [
      "{'she': 1}\n",
      "{'she': 1, 'sells': 1}\n",
      "{'she': 1, 'sells': 1, 'sea': 1}\n",
      "{'she': 1, 'sells': 1, 'sea': 1, 'shells': 1}\n",
      "{'she': 1, 'sells': 1, 'sea': 1, 'shells': 1, 'on': 1}\n",
      "{'she': 1, 'sells': 1, 'sea': 1, 'shells': 1, 'on': 1, 'the': 1}\n",
      "{'she': 1, 'sells': 1, 'sea': 2, 'shells': 1, 'on': 1, 'the': 1}\n",
      "{'she': 1, 'sells': 1, 'sea': 2, 'shells': 1, 'on': 1, 'the': 1, 'shorethe': 1}\n",
      "{'she': 1, 'sells': 1, 'sea': 2, 'shells': 2, 'on': 1, 'the': 1, 'shorethe': 1}\n",
      "{'she': 1, 'sells': 1, 'sea': 2, 'shells': 2, 'on': 1, 'the': 1, 'shorethe': 1, 'that': 1}\n",
      "{'she': 2, 'sells': 1, 'sea': 2, 'shells': 2, 'on': 1, 'the': 1, 'shorethe': 1, 'that': 1}\n",
      "{'she': 2, 'sells': 2, 'sea': 2, 'shells': 2, 'on': 1, 'the': 1, 'shorethe': 1, 'that': 1}\n",
      "{'she': 2, 'sells': 2, 'sea': 2, 'shells': 2, 'on': 1, 'the': 1, 'shorethe': 1, 'that': 1, 'are': 1}\n",
      "{'she': 2, 'sells': 2, 'sea': 3, 'shells': 2, 'on': 1, 'the': 1, 'shorethe': 1, 'that': 1, 'are': 1}\n",
      "{'she': 2, 'sells': 2, 'sea': 3, 'shells': 3, 'on': 1, 'the': 1, 'shorethe': 1, 'that': 1, 'are': 1}\n",
      "{'she': 2, 'sells': 2, 'sea': 3, 'shells': 3, 'on': 1, 'the': 1, 'shorethe': 1, 'that': 1, 'are': 1, 'i': 1}\n",
      "{'she': 2, 'sells': 2, 'sea': 3, 'shells': 3, 'on': 1, 'the': 1, 'shorethe': 1, 'that': 1, 'are': 1, 'i': 1, 'am': 1}\n",
      "{'she': 2, 'sells': 2, 'sea': 3, 'shells': 3, 'on': 1, 'the': 1, 'shorethe': 1, 'that': 1, 'are': 1, 'i': 1, 'am': 1, 'sureso': 1}\n",
      "{'she': 2, 'sells': 2, 'sea': 3, 'shells': 3, 'on': 1, 'the': 1, 'shorethe': 1, 'that': 1, 'are': 1, 'i': 1, 'am': 1, 'sureso': 1, 'if': 1}\n",
      "{'she': 3, 'sells': 2, 'sea': 3, 'shells': 3, 'on': 1, 'the': 1, 'shorethe': 1, 'that': 1, 'are': 1, 'i': 1, 'am': 1, 'sureso': 1, 'if': 1}\n",
      "{'she': 3, 'sells': 3, 'sea': 3, 'shells': 3, 'on': 1, 'the': 1, 'shorethe': 1, 'that': 1, 'are': 1, 'i': 1, 'am': 1, 'sureso': 1, 'if': 1}\n",
      "{'she': 3, 'sells': 3, 'sea': 4, 'shells': 3, 'on': 1, 'the': 1, 'shorethe': 1, 'that': 1, 'are': 1, 'i': 1, 'am': 1, 'sureso': 1, 'if': 1}\n",
      "{'she': 3, 'sells': 3, 'sea': 4, 'shells': 4, 'on': 1, 'the': 1, 'shorethe': 1, 'that': 1, 'are': 1, 'i': 1, 'am': 1, 'sureso': 1, 'if': 1}\n",
      "{'she': 3, 'sells': 3, 'sea': 4, 'shells': 4, 'on': 2, 'the': 1, 'shorethe': 1, 'that': 1, 'are': 1, 'i': 1, 'am': 1, 'sureso': 1, 'if': 1}\n",
      "{'she': 3, 'sells': 3, 'sea': 4, 'shells': 4, 'on': 2, 'the': 2, 'shorethe': 1, 'that': 1, 'are': 1, 'i': 1, 'am': 1, 'sureso': 1, 'if': 1}\n",
      "{'she': 3, 'sells': 3, 'sea': 5, 'shells': 4, 'on': 2, 'the': 2, 'shorethe': 1, 'that': 1, 'are': 1, 'i': 1, 'am': 1, 'sureso': 1, 'if': 1}\n",
      "{'she': 3, 'sells': 3, 'sea': 5, 'shells': 4, 'on': 2, 'the': 2, 'shorethe': 1, 'that': 1, 'are': 1, 'i': 1, 'am': 1, 'sureso': 1, 'if': 1, 'shorei': 1}\n",
      "{'she': 3, 'sells': 3, 'sea': 5, 'shells': 4, 'on': 2, 'the': 2, 'shorethe': 1, 'that': 1, 'are': 1, 'i': 1, 'am': 2, 'sureso': 1, 'if': 1, 'shorei': 1}\n",
      "{'she': 3, 'sells': 3, 'sea': 5, 'shells': 4, 'on': 2, 'the': 2, 'shorethe': 1, 'that': 1, 'are': 1, 'i': 1, 'am': 2, 'sureso': 1, 'if': 1, 'shorei': 1, 'sure': 1}\n",
      "{'she': 3, 'sells': 3, 'sea': 5, 'shells': 4, 'on': 2, 'the': 2, 'shorethe': 1, 'that': 2, 'are': 1, 'i': 1, 'am': 2, 'sureso': 1, 'if': 1, 'shorei': 1, 'sure': 1}\n",
      "{'she': 3, 'sells': 3, 'sea': 5, 'shells': 4, 'on': 2, 'the': 3, 'shorethe': 1, 'that': 2, 'are': 1, 'i': 1, 'am': 2, 'sureso': 1, 'if': 1, 'shorei': 1, 'sure': 1}\n",
      "{'she': 3, 'sells': 3, 'sea': 5, 'shells': 5, 'on': 2, 'the': 3, 'shorethe': 1, 'that': 2, 'are': 1, 'i': 1, 'am': 2, 'sureso': 1, 'if': 1, 'shorei': 1, 'sure': 1}\n",
      "{'she': 3, 'sells': 3, 'sea': 5, 'shells': 5, 'on': 2, 'the': 3, 'shorethe': 1, 'that': 2, 'are': 2, 'i': 1, 'am': 2, 'sureso': 1, 'if': 1, 'shorei': 1, 'sure': 1}\n",
      "{'she': 3, 'sells': 3, 'sea': 6, 'shells': 5, 'on': 2, 'the': 3, 'shorethe': 1, 'that': 2, 'are': 2, 'i': 1, 'am': 2, 'sureso': 1, 'if': 1, 'shorei': 1, 'sure': 1}\n",
      "{'she': 3, 'sells': 3, 'sea': 6, 'shells': 5, 'on': 2, 'the': 3, 'shorethe': 1, 'that': 2, 'are': 2, 'i': 1, 'am': 2, 'sureso': 1, 'if': 1, 'shorei': 1, 'sure': 1, 'shore': 1}\n",
      "{'she': 3, 'sells': 3, 'sea': 6, 'shells': 6, 'on': 2, 'the': 3, 'shorethe': 1, 'that': 2, 'are': 2, 'i': 1, 'am': 2, 'sureso': 1, 'if': 1, 'shorei': 1, 'sure': 1, 'shore': 1}\n"
     ]
    },
    {
     "data": {
      "text/plain": [
       "{'she': 3,\n",
       " 'sells': 3,\n",
       " 'sea': 6,\n",
       " 'shells': 6,\n",
       " 'on': 2,\n",
       " 'the': 3,\n",
       " 'shorethe': 1,\n",
       " 'that': 2,\n",
       " 'are': 2,\n",
       " 'i': 1,\n",
       " 'am': 2,\n",
       " 'sureso': 1,\n",
       " 'if': 1,\n",
       " 'shorei': 1,\n",
       " 'sure': 1,\n",
       " 'shore': 1}"
      ]
     },
     "execution_count": 122,
     "metadata": {},
     "output_type": "execute_result"
    }
   ],
   "source": [
    "text = \"\"\"\n",
    "She sells sea shells on the sea shore;\n",
    "The shells that she sells are sea shells I am sure.\n",
    "So if she sells sea shells on the sea shore,\n",
    "I am sure that the shells are sea shore shells.\n",
    "\"\"\"\n",
    "punctuation_list=['.', ',', ';', '?', '!', '—']\n",
    "text=text.lower()\n",
    "text=text.replace('\\n','')\n",
    "text=text.replace('.','')\n",
    "text=text.replace(';','')\n",
    "text=text.replace(',','')\n",
    "words=text.split(' ')\n",
    "count_dict={}\n",
    "for word in words:\n",
    "    if word not in count_dict:\n",
    "        count_dict[word] =1\n",
    "        print(count_dict)\n",
    "    else:\n",
    "        count_dict[word]+=1\n",
    "        print(count_dict)\n",
    "count_dict \n",
    "     "
   ]
  },
  {
   "cell_type": "markdown",
   "metadata": {},
   "source": [
    "Задание 5.12 (External resource)\n",
    "\n",
    "Дано предложение, хранящееся в переменной sentence.\n",
    "\n",
    "Выполните следующие действия:\n",
    "\n",
    "Приведите все символы в предложении к нижнему регистру.\n",
    "Исключите знаки препинания (запятые и точки).\n",
    "Разделите строку по пробелам и создайте список слов, которые входят в предложение.\n",
    "Подсчитайте количество повторений каждого слова.\n",
    "Для подсчёта слов используйте словарь. Ключами словаря будут слова, а значениями — число вхождений этих слов в предложение. В результате работы вашей программы в переменной word_dict должен храниться результирующий словарь.\n",
    "\n",
    "Примеры работы программы:\n",
    "\n",
    "sentence = 'A roboT MAY Not injure a humAn BEING or, tHROugh INACtion, allow a human BEING to come to harm.'\n",
    "` word_dict = {'a': 3, 'robot': 1, 'may': 1, 'not': 1, 'injure': 1, 'human': 2, 'being': 2, 'or': 1, 'through': 1, 'inaction': 1, 'allow': 1, 'to': 2, 'come': 1, 'harm': 1}\n",
    "\n",
    "sentence = \"СчастьЕ нЕ в тоМ, чтобы делать всегда, что хочешь, а в Том, чтОБЫ всегдА хотеть того, ЧТО дЕлаешь.\"\n",
    "` word_dict = {'счастье': 1, 'не': 1, 'в': 2, 'том': 2, 'чтобы': 2, 'делать': 1, 'всегда': 2, 'что': 2, 'хочешь': 1, 'а': 1, 'хотеть': 1, 'того': 1, 'делаешь': 1}\n",
    "\n",
    "\n"
   ]
  },
  {
   "cell_type": "code",
   "execution_count": null,
   "metadata": {},
   "outputs": [
    {
     "name": "stdout",
     "output_type": "stream",
     "text": [
      "СчастьЕ нЕ в тоМ, чтобы делать всегда, что хочешь, а в Том, чтОБЫ всегдА хотеть того, ЧТО дЕлаешь.\n",
      "[('а', 1), ('в', 2), ('всегда', 2), ('делаешь', 1), ('делать', 1), ('не', 1), ('счастье', 1), ('того', 1), ('том', 2), ('хотеть', 1), ('хочешь', 1), ('что', 2), ('чтобы', 2)]__"
     ]
    }
   ],
   "source": [
    "# sentence = 'A roboT MAY Not injure a humAn BEING or, tHROugh INACtion, allow a human BEING to come to harm.'\n",
    "## word_dict = {'a': 3, 'robot': 1, 'may': 1, 'not': 1, 'injure': 1, 'human': 2, 'being': 2, 'or': 1, 'through': 1, 'inaction': 1, 'allow': 1, 'to': 2, 'come': 1, 'harm': 1}\n",
    "\n",
    "sentence = \"СчастьЕ нЕ в тоМ, чтобы делать всегда, что хочешь, а в Том, чтОБЫ всегдА хотеть того, ЧТО дЕлаешь.\"\n",
    "## word_dict = {'счастье': 1, 'не': 1, 'в': 2, 'том': 2, 'чтобы': 2, 'делать': 1, 'всегда': 2, 'что': 2, 'хочешь': 1, 'а': 1, 'хотеть': 1, 'того': 1, 'делаешь': 1}\n",
    "print(sentence)\n",
    "sentence=sentence.lower()\n",
    "sentence=sentence.replace('.','')\n",
    "sentence=sentence.replace(',','')\n",
    "sentence=sentence.split(' ')\n",
    "word_dict={}\n",
    "for word in sentence:\n",
    "    if word  not in word_dict:\n",
    "        word_dict[word]=1\n",
    "    else:\n",
    "        word_dict[word]+=1\n",
    "print(sorted(word_dict.items()))\n"
   ]
  },
  {
   "cell_type": "markdown",
   "metadata": {},
   "source": [
    "эталонный код"
   ]
  },
  {
   "cell_type": "code",
   "execution_count": 150,
   "metadata": {},
   "outputs": [
    {
     "data": {
      "text/plain": [
       "{'a': 3,\n",
       " 'robot': 1,\n",
       " 'may': 1,\n",
       " 'not': 1,\n",
       " 'injure': 1,\n",
       " 'human': 2,\n",
       " 'being': 2,\n",
       " 'or': 1,\n",
       " 'through': 1,\n",
       " 'inaction': 1,\n",
       " 'allow': 1,\n",
       " 'to': 2,\n",
       " 'come': 1,\n",
       " 'harm': 1}"
      ]
     },
     "execution_count": 150,
     "metadata": {},
     "output_type": "execute_result"
    }
   ],
   "source": [
    "sentence = 'A roboT MAY Not injure a humAn BEING or, tHROugh INACtion, allow a human BEING to come to harm.'\n",
    "sentence=sentence.lower()\n",
    "#заменяем символы переноса строки на пробелы\n",
    "#text=text.replace(\"\\n\", \" \")\n",
    "#заменяем запятые на пустые строки\n",
    "sentence=sentence.replace(\",\", \"\")\n",
    "#заменяем точки на пустые строки\n",
    "sentence=sentence.replace(\".\",\"\")\n",
    "#заменяем точки с запятыми на пустые строки\n",
    "#text=text.replace(\";\",\"\")\n",
    "#print(text)\n",
    "word_list= sentence.split(' ')\n",
    "#print(word_list)\n",
    "count_dict = {}\n",
    "for word in word_list:\n",
    "    # проверяем условие, что слова еще нет среди ключей словаря\n",
    "    if word not in count_dict:\n",
    "        count_dict[word] = 1 \n",
    "    else:\n",
    "        count_dict[word] += 1 \n",
    "count_dict"
   ]
  },
  {
   "cell_type": "markdown",
   "metadata": {},
   "source": [
    "Задание 5.13 (External resource)\n",
    "\n",
    "Дан список из строк str_list. Например:\n",
    "\n",
    "\n",
    "str_list = [\"text\", \"morning\", \"notepad\", \"television\", \"ornament\"]\n",
    "Напишите программу для подсчёта количества вхождений заданного символа в каждую из строк этого списка. Искомый символ хранится в переменной symbol_to_check.\n",
    "\n",
    "Для подсчёта используйте словарь: в качестве ключа запишите в него строку, в качестве значения — число вхождений искомого символа в эту строку. Для хранения словаря используйте переменную с именем word_dict.\n",
    "\n",
    "Примеры работы программы:\n",
    "\n",
    "\n",
    "str_list = [\"text\", \"morning\", \"notepad\", \"television\", \"ornament\"]\n",
    "symbol_to_check = 't'\n",
    "` word_dict = {'text': 2, 'morning': 0, 'notepad': 1, 'television': 1, 'ornament': 1}\n",
    "\n",
    "str_list = [\"text\", \"morning\", \"notepad\", \"television\", \"ornament\"]\n",
    "symbol_to_check = 'n'\n",
    "` word_dict = {'text': 0, 'morning': 2, 'notepad': 1, 'television': 1, 'ornament': 2}\n",
    "Примечание: Для тренировки рекомендуем использовать вложенные циклы: внешний — по элементам списка, внутренний — по символам в текущей строке.\n"
   ]
  },
  {
   "cell_type": "code",
   "execution_count": 163,
   "metadata": {},
   "outputs": [
    {
     "name": "stdout",
     "output_type": "stream",
     "text": [
      "{'text': 0}\n",
      "{'text': 0, 'morning': 0}\n",
      "{'text': 0, 'morning': 2, 'notepad': 0}\n",
      "{'text': 0, 'morning': 2, 'notepad': 1, 'television': 0}\n",
      "{'text': 0, 'morning': 2, 'notepad': 1, 'television': 1, 'ornament': 0}\n",
      "{'text': 0, 'morning': 2, 'notepad': 1, 'television': 1, 'ornament': 2}\n"
     ]
    }
   ],
   "source": [
    "# str_list = [\"text\", \"morning\", \"notepad\", \"television\", \"ornament\"]\n",
    "# symbol_to_check = 't'\n",
    "## word_dict = {'text': 2, 'morning': 0, 'notepad': 1, 'television': 1, 'ornament': 1}\n",
    "\n",
    "str_list = [\"text\", \"morning\", \"notepad\", \"television\", \"ornament\"]\n",
    "symbol_to_check = 'n'\n",
    "## word_dict = {'text': 0, 'morning': 2, 'notepad': 1, 'television': 1, 'ornament': 2}\n",
    "word_dict={}\n",
    "for word in str_list:\n",
    "    # print(word)\n",
    "    word_dict[word]=0\n",
    "    print(word_dict)\n",
    "    for letter in word:\n",
    "        if letter == symbol_to_check:\n",
    "            word_dict[word]+=1\n",
    "print(word_dict)\n"
   ]
  }
 ],
 "metadata": {
  "kernelspec": {
   "display_name": "Python 3",
   "language": "python",
   "name": "python3"
  },
  "language_info": {
   "codemirror_mode": {
    "name": "ipython",
    "version": 3
   },
   "file_extension": ".py",
   "mimetype": "text/x-python",
   "name": "python",
   "nbconvert_exporter": "python",
   "pygments_lexer": "ipython3",
   "version": "3.11.9"
  }
 },
 "nbformat": 4,
 "nbformat_minor": 2
}
