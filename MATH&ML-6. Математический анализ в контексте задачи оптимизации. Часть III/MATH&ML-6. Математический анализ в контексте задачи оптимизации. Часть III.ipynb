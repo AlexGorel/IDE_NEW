{
 "cells": [
  {
   "cell_type": "markdown",
   "metadata": {},
   "source": [
    "Задание 2.7\n",
    "\n",
    "1 point possible (graded)\n",
    "\n",
    "Давайте потренируемся применять стохастический градиентный спуск для решения задачи линейной регрессии. Мы уже рассмотрели его реализацию «с нуля», однако для решения практических задач можно использовать готовые библиотеки."
   ]
  },
  {
   "cell_type": "code",
   "execution_count": 83,
   "metadata": {},
   "outputs": [
    {
     "name": "stdout",
     "output_type": "stream",
     "text": [
      "{'alpha': 0.001, 'eta0': 0.001, 'l1_ratio': 0.0, 'learning_rate': 'constant', 'loss': 'epsilon_insensitive', 'penalty': 'elasticnet'}\n"
     ]
    },
    {
     "data": {
      "text/plain": [
       "0.044"
      ]
     },
     "execution_count": 83,
     "metadata": {},
     "output_type": "execute_result"
    }
   ],
   "source": [
    "import pandas as pd\n",
    "import numpy as np\n",
    "import seaborn as sns\n",
    "from sklearn.linear_model import SGDRegressor\n",
    "from sklearn.model_selection import GridSearchCV\n",
    "from sklearn.model_selection import train_test_split\n",
    "from sklearn.metrics import mean_squared_error\n",
    "df = sns.load_dataset('diamonds')\n",
    "df.drop(['depth', 'table', 'x', 'y', 'z'], axis=1, inplace=True)\n",
    "df = pd.get_dummies(df, drop_first=True)\n",
    "df['carat'] = np.log(1+df['carat'])\n",
    "df['price'] = np.log(1+df['price'])\n",
    "X_cols = [col for col in df.columns if col!='price']\n",
    "X = df.drop(columns=\"price\")\n",
    "y = df['price']\n",
    "\n",
    "X_train, X_test, y_train, y_test = train_test_split(X, y, test_size=0.33, random_state=42)\n",
    "\n",
    "parameters = {\n",
    "    \"loss\": [\"squared_error\", \"epsilon_insensitive\"],\n",
    "    \"penalty\": [\"elasticnet\"],\n",
    "    \"alpha\": np.logspace(-3, 3, 10),\n",
    "    \"l1_ratio\": np.linspace(0, 1, 10),\n",
    "    \"learning_rate\": [\"constant\"],\n",
    "    \"eta0\": np.logspace(-4, -1, 4)\n",
    "}\n",
    "\n",
    "sgd = SGDRegressor(random_state=42)\n",
    "sgd_cv = GridSearchCV(estimator=sgd, param_grid=parameters, n_jobs=-1)\n",
    "sgd_cv.fit(X_train, y_train)\n",
    "\n",
    "print(sgd_cv.best_params_)\n",
    "\n",
    "sgd = SGDRegressor(**sgd_cv.best_params_, random_state = 42)\n",
    "\n",
    "sgd.fit(X_train, y_train)\n",
    "sgd.score(X_train, y_train) # r2\n",
    "ls = sgd.predict(X_test)\n",
    "\n",
    "round(mean_squared_error(y_test, ls), 3)\n"
   ]
  },
  {
   "cell_type": "markdown",
   "metadata": {},
   "source": [
    "Задание 3.1\n",
    "\n",
    "1 point possible (graded)\n",
    "\n",
    "Найдите третий корень полинома , взяв за точку старта 0.7. Введите получившееся значение с точностью до трёх знаков после точки-разделителя.\n",
    "\n",
    "Попробуйте реализовать алгоритм с использованием Python по аналогии алгоритма градиентного спуска, изученного в предыдущем модуле."
   ]
  },
  {
   "cell_type": "code",
   "execution_count": 84,
   "metadata": {},
   "outputs": [
    {
     "name": "stdout",
     "output_type": "stream",
     "text": [
      "0.6296335078534031\n",
      "0.6286680781673306\n",
      "0.6286669787778999\n",
      "0.6286669787764609\n",
      "4\n"
     ]
    }
   ],
   "source": [
    "def func1(x):\n",
    "    return 6*x**5-5*x**4-4*x**3+3*x**2\n",
    " \n",
    "def func2(x):\n",
    "    return 30*x**4-20*x**3-12*x**2+6*x\n",
    "init_value = 0.7\n",
    "iter_count = 0\n",
    "x_curr = init_value\n",
    "epsilon = 0.000001\n",
    "f = func1(x_curr)\n",
    " \n",
    "while (abs(f) > epsilon):\n",
    "    f = func1(x_curr)\n",
    "    f_prime = func2(x_curr)\n",
    "    x_curr = x_curr - (f)/(f_prime)\n",
    "    iter_count += 1\n",
    "    print(x_curr)\n",
    "print(iter_count)"
   ]
  },
  {
   "cell_type": "code",
   "execution_count": 85,
   "metadata": {},
   "outputs": [
    {
     "name": "stdout",
     "output_type": "stream",
     "text": [
      "21.695121951219512\n",
      "11.734125501243229\n",
      "7.1123493600499685\n",
      "5.365000391507974\n",
      "5.015260627016227\n",
      "5.000029000201801\n",
      "5.000000000105126\n",
      "5.000000000000001\n",
      "8\n"
     ]
    }
   ],
   "source": [
    "def func1(x):\n",
    "    return 3*x**2-6*x-45\n",
    "def func2(x):\n",
    "    return 6*x-6\n",
    "init_value = 42\n",
    "iter_count = 0\n",
    "x_curr = init_value\n",
    "epsilon = 0.0001\n",
    "f = func1(x_curr)\n",
    " \n",
    "while (abs(f) > epsilon):\n",
    "    f = func1(x_curr)\n",
    "    f_prime = func2(x_curr)\n",
    "    x_curr = x_curr - (f)/(f_prime)\n",
    "    iter_count += 1\n",
    "    print(x_curr)\n",
    "print(iter_count)\n"
   ]
  },
  {
   "cell_type": "code",
   "execution_count": 86,
   "metadata": {},
   "outputs": [
    {
     "data": {
      "text/plain": [
       "1.9638181696985917"
      ]
     },
     "execution_count": 86,
     "metadata": {},
     "output_type": "execute_result"
    }
   ],
   "source": [
    "from scipy.optimize import newton\n",
    "def func1(x):\n",
    "    return 30*x**2-36*x-45\n",
    "def func2(x):\n",
    "    return 60*x-36\n",
    "newton(func=func1, fprime=func2, x0=42, tol=0.0001)"
   ]
  },
  {
   "cell_type": "markdown",
   "metadata": {},
   "source": [
    "Задание 3.6\n",
    "\n",
    "1 point possible (graded)\n",
    "\n",
    "Дана функция . Найдите решение уравнения  для поиска корня в окрестностях точки . Ответ округлите до трёх знаков после точки-разделителя."
   ]
  },
  {
   "cell_type": "code",
   "execution_count": 87,
   "metadata": {},
   "outputs": [
    {
     "name": "stdout",
     "output_type": "stream",
     "text": [
      "20.631659056316593\n",
      "14.758857284432832\n",
      "11.435920025203584\n",
      "10.024278330530809\n",
      "9.738591960697274\n",
      "9.727152459098681\n",
      "9.7271344194537\n",
      "9.727134419408875\n",
      "8\n"
     ]
    }
   ],
   "source": [
    "def func1_3_6(x):\n",
    "    return x**3-72*x-220\n",
    " \n",
    "def func2_3_6(x):\n",
    "    return 3*x**2-72\n",
    "init_value = 30\n",
    "iter_count = 0\n",
    "x_curr = init_value\n",
    "epsilon = 0.00001\n",
    "f = func1_3_6(x_curr)\n",
    " \n",
    "while (abs(f) > epsilon):\n",
    "    f = func1_3_6(x_curr)\n",
    "    f_prime = func2_3_6(x_curr)\n",
    "    x_curr = x_curr - (f)/(f_prime)\n",
    "    iter_count += 1\n",
    "    print(x_curr)\n",
    "print(iter_count)"
   ]
  },
  {
   "cell_type": "markdown",
   "metadata": {},
   "source": [
    "Задание 3.7\n",
    "\n",
    "1 point possible (graded)\n",
    "\n",
    "Найдите положительный корень для уравнения .\n",
    "\n",
    "В качестве стартовой точки возьмите .\n",
    "\n",
    "Расчёт произведите поэтапно или с помощью Python.\n",
    "\n",
    "Ответ округлите до двух знаков после точки-разделителя."
   ]
  },
  {
   "cell_type": "code",
   "execution_count": 88,
   "metadata": {},
   "outputs": [
    {
     "name": "stdout",
     "output_type": "stream",
     "text": [
      "0.7343283582089555\n",
      "0.5291259698087832\n",
      "0.5249395544696249\n",
      "0.5249378105607477\n",
      "0.5249378105604451\n",
      "5\n"
     ]
    }
   ],
   "source": [
    "def func1_3_7(x):\n",
    "    return x**2+9*x-5\n",
    " \n",
    "def func2_3_7(x):\n",
    "    return 2*x+9\n",
    "init_value = 2.2\n",
    "iter_count = 0\n",
    "x_curr = init_value\n",
    "epsilon = 0.00001\n",
    "f = func1_3_7(x_curr)\n",
    " \n",
    "while (abs(f) > epsilon):\n",
    "    f = func1_3_7(x_curr)\n",
    "    f_prime = func2_3_7(x_curr)\n",
    "    x_curr = x_curr - (f)/(f_prime)\n",
    "    iter_count += 1\n",
    "    print(x_curr)\n",
    "print(iter_count)"
   ]
  },
  {
   "cell_type": "markdown",
   "metadata": {},
   "source": [
    "Задание 3.9\n",
    "\n",
    "1 point possible (graded)\n",
    "\n",
    "С помощью метода Ньютона найдите точку минимума для функции .\n",
    "\n",
    "Для расчётов используйте Python.\n",
    "\n",
    "В качестве стартовой точки возьмите , точность примите за .\n",
    "\n",
    "Ответ округлите до трёх знаков после точки-разделителя."
   ]
  },
  {
   "cell_type": "code",
   "execution_count": 89,
   "metadata": {},
   "outputs": [
    {
     "data": {
      "text/plain": [
       "0.167"
      ]
     },
     "execution_count": 89,
     "metadata": {},
     "output_type": "execute_result"
    }
   ],
   "source": [
    "from scipy.optimize import newton\n",
    "def func1_3_9(x):\n",
    "    return 24*x**2-4*x\n",
    "def func2_3_9(x):\n",
    "    return 48*x-4\n",
    "round(newton(func=func1_3_9, fprime=func2_3_9, x0=42, tol=0.0001),3)"
   ]
  },
  {
   "cell_type": "code",
   "execution_count": 90,
   "metadata": {},
   "outputs": [
    {
     "name": "stdout",
     "output_type": "stream",
     "text": [
      "Статус оптимизации Optimization terminated successfully.\n",
      "Количество оценок: 3\n",
      "Решение: f([0. 0.]) = 0.00000\n"
     ]
    }
   ],
   "source": [
    "import numpy as np\n",
    "from scipy.optimize import minimize\n",
    "def func(x):\n",
    "    return x[0]**2.0 + x[1]**2.0\n",
    "def grad_func(x):\n",
    "    return np.array([x[0] * 2, x[1] * 2])\n",
    "\n",
    "x_0 = [1.0, 1.0]\n",
    "\n",
    "result = minimize(func, x_0, method='BFGS', jac=grad_func)\n",
    "\n",
    "print('Статус оптимизации %s' % result['message'])\n",
    "print('Количество оценок: %d' % result['nfev'])\n",
    "solution = result['x']\n",
    "evaluation = func(solution)\n",
    "print('Решение: f(%s) = %.5f' % (solution, evaluation))\n",
    " \n",
    "#Статус оптимизации Optimization terminated successfully.\n",
    "#Количество оценок: 3\n",
    "#Решение: f([0. 0.]) = 0.00000"
   ]
  },
  {
   "cell_type": "code",
   "execution_count": 91,
   "metadata": {},
   "outputs": [
    {
     "name": "stdout",
     "output_type": "stream",
     "text": [
      "Статус оптимизации CONVERGENCE: NORM_OF_PROJECTED_GRADIENT_<=_PGTOL\n",
      "Количество оценок: 3\n",
      "Решение: f([0. 0.]) = 0.00000\n"
     ]
    }
   ],
   "source": [
    "import numpy as np\n",
    "from scipy.optimize import minimize\n",
    "def func(x):\n",
    "    return x[0]**2.0 + x[1]**2.0\n",
    "def grad_func(x):\n",
    "    return np.array([x[0] * 2, x[1] * 2])\n",
    "\n",
    "x_0 = [1.0, 1.0]\n",
    "\n",
    "result = minimize(func, x_0, method='L-BFGS-B', jac=grad_func)\n",
    "\n",
    "print('Статус оптимизации %s' % result['message'])\n",
    "print('Количество оценок: %d' % result['nfev'])\n",
    "solution = result['x']\n",
    "evaluation = func(solution)\n",
    "print('Решение: f(%s) = %.5f' % (solution, evaluation))\n",
    " \n",
    "#Статус оптимизации Optimization terminated successfully.\n",
    "#Количество оценок: 3\n",
    "#Решение: f([0. 0.]) = 0.00000"
   ]
  },
  {
   "cell_type": "markdown",
   "metadata": {},
   "source": [
    "Задание 4.1\n",
    "\n",
    "2 points possible (graded)\n",
    "\n",
    "Найдите точку минимума для функции .\n",
    "\n",
    "В качестве стартовой возьмите точку .\n",
    "\n",
    "Значения координат округлите до целого числа."
   ]
  },
  {
   "cell_type": "code",
   "execution_count": 92,
   "metadata": {},
   "outputs": [
    {
     "name": "stdout",
     "output_type": "stream",
     "text": [
      "Статус оптимизации Optimization terminated successfully.\n",
      "Количество оценок: 11\n",
      "Решение: f([-4.  1.]) = -1.00000\n"
     ]
    }
   ],
   "source": [
    "def func_4_1(x):\n",
    "    return x[0]**2-x[0]*x[1]+x[1]**2+9*x[0]-6*x[1]+20\n",
    "def grad_func_4_1(x):\n",
    "    return np.array([2*x[0]-x[1]+9, 2*x[1]-x[0]-6])\n",
    "\n",
    "x_0_4_1 = [-400.0, -400.0]\n",
    "\n",
    "result = minimize(func_4_1, x_0_4_1, method='BFGS', jac=grad_func_4_1)\n",
    "\n",
    "print('Статус оптимизации %s' % result['message'])\n",
    "print('Количество оценок: %d' % result['nfev'])\n",
    "solution = result['x']\n",
    "evaluation = func_4_1(solution)\n",
    "print('Решение: f(%s) = %.5f' % (solution, evaluation))\n"
   ]
  },
  {
   "cell_type": "markdown",
   "metadata": {},
   "source": [
    "Задание 4.4\n",
    "\n",
    "1 point possible (graded)\n",
    "\n",
    "Найдите минимум функции  с помощью квазиньютоновского метода BFGS.\n",
    "\n",
    "В качестве стартовой точки возьмите .\n",
    "\n",
    "В качестве ответа введите минимальное значение функции в достигнутой точке."
   ]
  },
  {
   "cell_type": "code",
   "execution_count": 93,
   "metadata": {},
   "outputs": [
    {
     "name": "stdout",
     "output_type": "stream",
     "text": [
      "Статус оптимизации Optimization terminated successfully.\n",
      "Количество оценок: 5\n",
      "Решение: f([1.5]) = 42.75000\n"
     ]
    },
    {
     "name": "stderr",
     "output_type": "stream",
     "text": [
      "C:\\Users\\molde\\AppData\\Local\\Temp\\ipykernel_33028\\2317834981.py:14: DeprecationWarning: Conversion of an array with ndim > 0 to a scalar is deprecated, and will error in future. Ensure you extract a single element from your array before performing this operation. (Deprecated NumPy 1.25.)\n",
      "  print('Решение: f(%s) = %.5f' % (solution, evaluation))\n"
     ]
    }
   ],
   "source": [
    "def func_4_4(x):\n",
    "    return x**2-3*x+45\n",
    "def grad_func_4_4(x):\n",
    "    return 2*x-3\n",
    "\n",
    "x_0_4_4 = [10]\n",
    "\n",
    "result = minimize(func_4_4, x_0_4_4, method='BFGS', jac=grad_func_4_4)\n",
    "\n",
    "print('Статус оптимизации %s' % result['message'])\n",
    "print('Количество оценок: %d' % result['nfev'])\n",
    "solution = result['x']\n",
    "evaluation = func_4_4(solution)\n",
    "print('Решение: f(%s) = %.5f' % (solution, evaluation))\n"
   ]
  },
  {
   "cell_type": "code",
   "execution_count": 94,
   "metadata": {},
   "outputs": [
    {
     "name": "stdout",
     "output_type": "stream",
     "text": [
      "Статус оптимизации CONVERGENCE: NORM_OF_PROJECTED_GRADIENT_<=_PGTOL\n",
      "Количество оценок: 3\n",
      "Решение: f([1.5]) = 42.75000\n"
     ]
    },
    {
     "name": "stderr",
     "output_type": "stream",
     "text": [
      "C:\\Users\\molde\\AppData\\Local\\Temp\\ipykernel_33028\\625934953.py:14: DeprecationWarning: Conversion of an array with ndim > 0 to a scalar is deprecated, and will error in future. Ensure you extract a single element from your array before performing this operation. (Deprecated NumPy 1.25.)\n",
      "  print('Решение: f(%s) = %.5f' % (solution, evaluation))\n"
     ]
    }
   ],
   "source": [
    "def func_4_4(x):\n",
    "    return x**2-3*x+45\n",
    "def grad_func_4_4(x):\n",
    "    return 2*x-3\n",
    "\n",
    "x_0_4_4 = [10]\n",
    "\n",
    "result = minimize(func_4_4, x_0_4_4, method='L-BFGS-B', jac=grad_func_4_4)\n",
    "\n",
    "print('Статус оптимизации %s' % result['message'])\n",
    "print('Количество оценок: %d' % result['nfev'])\n",
    "solution = result['x']\n",
    "evaluation = func_4_4(solution)\n",
    "print('Решение: f(%s) = %.5f' % (solution, evaluation))"
   ]
  },
  {
   "cell_type": "markdown",
   "metadata": {},
   "source": [
    "Задание 4.7\n",
    "\n",
    "2 points possible (graded)\n",
    "\n",
    "Найдите минимум функции , взяв за стартовую точку .\n",
    "\n",
    "Какой алгоритм сошелся быстрее?"
   ]
  },
  {
   "cell_type": "code",
   "execution_count": 95,
   "metadata": {},
   "outputs": [
    {
     "name": "stdout",
     "output_type": "stream",
     "text": [
      "Статус оптимизации Optimization terminated successfully.\n",
      "Количество оценок: 37\n",
      "Решение: f([1.31617159e-02 6.65344582e-14]) = 10.00000\n"
     ]
    }
   ],
   "source": [
    "def func_4_7(x):\n",
    "    return x[0]**4+6*x[1]**2+10\n",
    "def grad_func_4_7(x):\n",
    "    return np.array([4*x[0]**3, 12*x[1]])\n",
    "\n",
    "x_0_4_7 = [100.0, 100.0]\n",
    "\n",
    "result = minimize(func_4_7, x_0_4_7, method='BFGS', jac=grad_func_4_7)\n",
    "\n",
    "print('Статус оптимизации %s' % result['message'])\n",
    "print('Количество оценок: %d' % result['nfev'])\n",
    "solution = result['x']\n",
    "evaluation = func_4_7(solution)\n",
    "print('Решение: f(%s) = %.5f' % (solution, evaluation))"
   ]
  },
  {
   "cell_type": "code",
   "execution_count": 96,
   "metadata": {},
   "outputs": [
    {
     "data": {
      "text/plain": [
       "        message: Optimization terminated successfully. (HiGHS Status 7: Optimal)\n",
       "        success: True\n",
       "         status: 0\n",
       "            fun: -52.5\n",
       "              x: [ 0.000e+00  0.000e+00  0.000e+00  7.500e+00  0.000e+00\n",
       "                   0.000e+00]\n",
       "            nit: 0\n",
       "          lower:  residual: [ 0.000e+00  0.000e+00  0.000e+00  7.500e+00\n",
       "                              0.000e+00  0.000e+00]\n",
       "                 marginals: [ 1.350e+01  2.950e+01  2.700e+01  0.000e+00\n",
       "                              1.800e+01  1.150e+01]\n",
       "          upper:  residual: [       inf        inf        inf        inf\n",
       "                                    inf        inf]\n",
       "                 marginals: [ 0.000e+00  0.000e+00  0.000e+00  0.000e+00\n",
       "                              0.000e+00  0.000e+00]\n",
       "          eqlin:  residual: []\n",
       "                 marginals: []\n",
       "        ineqlin:  residual: [ 0.000e+00]\n",
       "                 marginals: [-3.500e+00]\n",
       " mip_node_count: 0\n",
       " mip_dual_bound: 0.0\n",
       "        mip_gap: 0.0"
      ]
     },
     "execution_count": 96,
     "metadata": {},
     "output_type": "execute_result"
    }
   ],
   "source": [
    "values = [4, 2, 1, 7, 3, 6] #стоимости товаров\n",
    "weights = [5, 9, 8, 2, 6, 5] #вес товаров\n",
    "C = 15 #вместимость сумки\n",
    "n = 6 #количество товаров\n",
    "\n",
    "c = - np.array(values) #изменяем знак, чтобы перейти от задачи максимизации к задаче минимизации\n",
    "A = np.array(weights)  #конвертируем список с весами в массив\n",
    "A = np.expand_dims(A, 0) #преобразуем размерность массива\n",
    "b = np.array([C]) #конвертируем вместимость в массив\n",
    "\n",
    "c.shape\n",
    "\n",
    "from scipy.optimize import linprog\n",
    "linprog(c=c, A_ub=A, b_ub=b)\n",
    "\n"
   ]
  },
  {
   "cell_type": "code",
   "execution_count": 97,
   "metadata": {},
   "outputs": [
    {
     "name": "stdout",
     "output_type": "stream",
     "text": [
      "Requirement already satisfied: cvxpy in c:\\users\\molde\\appdata\\local\\packages\\pythonsoftwarefoundation.python.3.11_qbz5n2kfra8p0\\localcache\\local-packages\\python311\\site-packages (1.5.3)\n",
      "Requirement already satisfied: osqp>=0.6.2 in c:\\users\\molde\\appdata\\local\\packages\\pythonsoftwarefoundation.python.3.11_qbz5n2kfra8p0\\localcache\\local-packages\\python311\\site-packages (from cvxpy) (0.6.7.post1)\n",
      "Requirement already satisfied: ecos>=2 in c:\\users\\molde\\appdata\\local\\packages\\pythonsoftwarefoundation.python.3.11_qbz5n2kfra8p0\\localcache\\local-packages\\python311\\site-packages (from cvxpy) (2.0.14)\n",
      "Requirement already satisfied: clarabel>=0.5.0 in c:\\users\\molde\\appdata\\local\\packages\\pythonsoftwarefoundation.python.3.11_qbz5n2kfra8p0\\localcache\\local-packages\\python311\\site-packages (from cvxpy) (0.9.0)\n",
      "Requirement already satisfied: scs>=3.2.4.post1 in c:\\users\\molde\\appdata\\local\\packages\\pythonsoftwarefoundation.python.3.11_qbz5n2kfra8p0\\localcache\\local-packages\\python311\\site-packages (from cvxpy) (3.2.7)\n",
      "Requirement already satisfied: numpy>=1.15 in c:\\users\\molde\\appdata\\local\\packages\\pythonsoftwarefoundation.python.3.11_qbz5n2kfra8p0\\localcache\\local-packages\\python311\\site-packages (from cvxpy) (1.26.4)\n",
      "Requirement already satisfied: scipy>=1.1.0 in c:\\users\\molde\\appdata\\local\\packages\\pythonsoftwarefoundation.python.3.11_qbz5n2kfra8p0\\localcache\\local-packages\\python311\\site-packages (from cvxpy) (1.13.0)\n",
      "Requirement already satisfied: qdldl in c:\\users\\molde\\appdata\\local\\packages\\pythonsoftwarefoundation.python.3.11_qbz5n2kfra8p0\\localcache\\local-packages\\python311\\site-packages (from osqp>=0.6.2->cvxpy) (0.1.7.post4)\n",
      "Note: you may need to restart the kernel to use updated packages.\n"
     ]
    },
    {
     "name": "stderr",
     "output_type": "stream",
     "text": [
      "\n",
      "[notice] A new release of pip is available: 24.0 -> 24.2\n",
      "[notice] To update, run: C:\\Users\\molde\\AppData\\Local\\Microsoft\\WindowsApps\\PythonSoftwareFoundation.Python.3.11_qbz5n2kfra8p0\\python.exe -m pip install --upgrade pip\n"
     ]
    }
   ],
   "source": [
    "pip install cvxpy"
   ]
  },
  {
   "cell_type": "code",
   "execution_count": 105,
   "metadata": {},
   "outputs": [
    {
     "data": {
      "text/plain": [
       "-49.0"
      ]
     },
     "execution_count": 105,
     "metadata": {},
     "output_type": "execute_result"
    }
   ],
   "source": [
    "import cvxpy\n",
    "\n",
    "\n",
    "values = [4, 2, 1, 7, 3, 6] #стоимости товаров\n",
    "weights = [5, 9, 8, 2, 6, 5] #вес товаров\n",
    "C = 15 #вместимость сумки\n",
    "n = 6 #количество товаров\n",
    "\n",
    "c = - np.array(values) #изменяем знак, чтобы перейти от задачи максимизации к задаче минимизации\n",
    "A = np.array(weights)  #конвертируем список с весами в массив\n",
    "A = np.expand_dims(A, 0) #преобразуем размерность массива\n",
    "b = np.array([C]) #конвертируем вместимость в массив\n",
    "\n",
    "x = cvxpy.Variable(shape=n, integer = True)\n",
    "\n",
    "A = A.flatten() # Преобразуем размерность массива\n",
    "constraint = cvxpy.sum(cvxpy.multiply(A, x)) <= C\n",
    "x_positive = x >= 0\n",
    "total_value = cvxpy.sum(cvxpy.multiply(x, c))\n",
    "\n",
    "problem = cvxpy.Problem(cvxpy.Minimize(total_value), constraints=[constraint,x_positive])\n",
    "\n",
    "problem.solve()\n"
   ]
  },
  {
   "cell_type": "code",
   "execution_count": 108,
   "metadata": {},
   "outputs": [
    {
     "data": {
      "text/plain": [
       "array([1., 0., 0., 1., 0., 1.])"
      ]
     },
     "execution_count": 108,
     "metadata": {},
     "output_type": "execute_result"
    }
   ],
   "source": [
    "values = [4, 2, 1, 7, 3, 6] #стоимости товаров\n",
    "weights = [5, 9, 8, 2, 6, 5] #вес товаров\n",
    "C = 15 #вместимость сумки\n",
    "n = 6 #количество товаров\n",
    "\n",
    "c = - np.array(values) #изменяем знак, чтобы перейти от задачи максимизации к задаче минимизации\n",
    "A = np.array(weights)  #конвертируем список с весами в массив\n",
    "A = np.expand_dims(A, 0) #преобразуем размерность массива\n",
    "b = np.array([C]) #конвертируем вместимость в массив\n",
    "\n",
    "x = cvxpy.Variable(shape=n, boolean = True)\n",
    "\n",
    "A = A.flatten() # Преобразуем размерность массива\n",
    "constraint = cvxpy.sum(cvxpy.multiply(A, x)) <= C\n",
    "x_positive = x >= 0\n",
    "total_value = cvxpy.sum(cvxpy.multiply(x, c))\n",
    "\n",
    "problem = cvxpy.Problem(cvxpy.Minimize(total_value), constraints=[constraint,x_positive])\n",
    "\n",
    "problem.solve()\n",
    "x.value"
   ]
  },
  {
   "cell_type": "code",
   "execution_count": 110,
   "metadata": {},
   "outputs": [
    {
     "name": "stdout",
     "output_type": "stream",
     "text": [
      "Collecting pulp\n",
      "  Downloading PuLP-2.9.0-py3-none-any.whl.metadata (5.4 kB)\n",
      "Downloading PuLP-2.9.0-py3-none-any.whl (17.7 MB)\n",
      "   ---------------------------------------- 0.0/17.7 MB ? eta -:--:--\n",
      "   ---------------------------------------- 0.0/17.7 MB ? eta -:--:--\n",
      "   ---------------------------------------- 0.0/17.7 MB ? eta -:--:--\n",
      "   ---------------------------------------- 0.1/17.7 MB 751.6 kB/s eta 0:00:24\n",
      "   ---------------------------------------- 0.1/17.7 MB 731.4 kB/s eta 0:00:25\n",
      "   ---------------------------------------- 0.2/17.7 MB 908.0 kB/s eta 0:00:20\n",
      "    --------------------------------------- 0.2/17.7 MB 860.2 kB/s eta 0:00:21\n",
      "    --------------------------------------- 0.2/17.7 MB 860.2 kB/s eta 0:00:21\n",
      "    --------------------------------------- 0.3/17.7 MB 984.6 kB/s eta 0:00:18\n",
      "    --------------------------------------- 0.3/17.7 MB 984.6 kB/s eta 0:00:18\n",
      "    --------------------------------------- 0.4/17.7 MB 1.0 MB/s eta 0:00:18\n",
      "    --------------------------------------- 0.4/17.7 MB 1.0 MB/s eta 0:00:18\n",
      "   - -------------------------------------- 0.5/17.7 MB 994.2 kB/s eta 0:00:18\n",
      "   - -------------------------------------- 0.5/17.7 MB 994.2 kB/s eta 0:00:18\n",
      "   - -------------------------------------- 0.5/17.7 MB 994.2 kB/s eta 0:00:18\n",
      "   - -------------------------------------- 0.5/17.7 MB 994.2 kB/s eta 0:00:18\n",
      "   - -------------------------------------- 0.7/17.7 MB 975.9 kB/s eta 0:00:18\n",
      "   - -------------------------------------- 0.7/17.7 MB 923.6 kB/s eta 0:00:19\n",
      "   - -------------------------------------- 0.8/17.7 MB 945.8 kB/s eta 0:00:18\n",
      "   - -------------------------------------- 0.8/17.7 MB 945.8 kB/s eta 0:00:18\n",
      "   - -------------------------------------- 0.9/17.7 MB 921.8 kB/s eta 0:00:19\n",
      "   - -------------------------------------- 0.9/17.7 MB 921.8 kB/s eta 0:00:19\n",
      "   -- ------------------------------------- 0.9/17.7 MB 895.0 kB/s eta 0:00:19\n",
      "   -- ------------------------------------- 1.0/17.7 MB 923.7 kB/s eta 0:00:19\n",
      "   -- ------------------------------------- 1.0/17.7 MB 892.9 kB/s eta 0:00:19\n",
      "   -- ------------------------------------- 1.0/17.7 MB 919.3 kB/s eta 0:00:19\n",
      "   -- ------------------------------------- 1.1/17.7 MB 908.7 kB/s eta 0:00:19\n",
      "   -- ------------------------------------- 1.2/17.7 MB 940.8 kB/s eta 0:00:18\n",
      "   -- ------------------------------------- 1.2/17.7 MB 940.8 kB/s eta 0:00:18\n",
      "   -- ------------------------------------- 1.3/17.7 MB 940.7 kB/s eta 0:00:18\n",
      "   -- ------------------------------------- 1.3/17.7 MB 940.7 kB/s eta 0:00:18\n",
      "   --- ------------------------------------ 1.4/17.7 MB 943.3 kB/s eta 0:00:18\n",
      "   --- ------------------------------------ 1.4/17.7 MB 943.3 kB/s eta 0:00:18\n",
      "   --- ------------------------------------ 1.4/17.7 MB 943.3 kB/s eta 0:00:18\n",
      "   --- ------------------------------------ 1.5/17.7 MB 933.3 kB/s eta 0:00:18\n",
      "   --- ------------------------------------ 1.5/17.7 MB 933.3 kB/s eta 0:00:18\n",
      "   --- ------------------------------------ 1.5/17.7 MB 917.9 kB/s eta 0:00:18\n",
      "   --- ------------------------------------ 1.5/17.7 MB 917.9 kB/s eta 0:00:18\n",
      "   --- ------------------------------------ 1.6/17.7 MB 915.3 kB/s eta 0:00:18\n",
      "   --- ------------------------------------ 1.6/17.7 MB 915.3 kB/s eta 0:00:18\n",
      "   --- ------------------------------------ 1.7/17.7 MB 899.6 kB/s eta 0:00:18\n",
      "   --- ------------------------------------ 1.7/17.7 MB 890.2 kB/s eta 0:00:18\n",
      "   --- ------------------------------------ 1.8/17.7 MB 904.0 kB/s eta 0:00:18\n",
      "   ---- ----------------------------------- 1.8/17.7 MB 892.9 kB/s eta 0:00:18\n",
      "   ---- ----------------------------------- 1.8/17.7 MB 892.9 kB/s eta 0:00:18\n",
      "   ---- ----------------------------------- 1.8/17.7 MB 895.4 kB/s eta 0:00:18\n",
      "   ---- ----------------------------------- 1.9/17.7 MB 885.1 kB/s eta 0:00:18\n",
      "   ---- ----------------------------------- 1.9/17.7 MB 894.8 kB/s eta 0:00:18\n",
      "   ---- ----------------------------------- 1.9/17.7 MB 884.9 kB/s eta 0:00:18\n",
      "   ---- ----------------------------------- 2.0/17.7 MB 896.6 kB/s eta 0:00:18\n",
      "   ---- ----------------------------------- 2.0/17.7 MB 896.6 kB/s eta 0:00:18\n",
      "   ---- ----------------------------------- 2.1/17.7 MB 886.8 kB/s eta 0:00:18\n",
      "   ---- ----------------------------------- 2.1/17.7 MB 878.3 kB/s eta 0:00:18\n",
      "   ---- ----------------------------------- 2.2/17.7 MB 889.2 kB/s eta 0:00:18\n",
      "   ---- ----------------------------------- 2.2/17.7 MB 889.2 kB/s eta 0:00:18\n",
      "   ----- ---------------------------------- 2.2/17.7 MB 880.6 kB/s eta 0:00:18\n",
      "   ----- ---------------------------------- 2.3/17.7 MB 896.6 kB/s eta 0:00:18\n",
      "   ----- ---------------------------------- 2.3/17.7 MB 879.2 kB/s eta 0:00:18\n",
      "   ----- ---------------------------------- 2.4/17.7 MB 890.6 kB/s eta 0:00:18\n",
      "   ----- ---------------------------------- 2.4/17.7 MB 881.3 kB/s eta 0:00:18\n",
      "   ----- ---------------------------------- 2.5/17.7 MB 888.8 kB/s eta 0:00:18\n",
      "   ----- ---------------------------------- 2.5/17.7 MB 881.3 kB/s eta 0:00:18\n",
      "   ----- ---------------------------------- 2.5/17.7 MB 888.3 kB/s eta 0:00:18\n",
      "   ----- ---------------------------------- 2.6/17.7 MB 884.5 kB/s eta 0:00:18\n",
      "   ------ --------------------------------- 2.7/17.7 MB 894.7 kB/s eta 0:00:17\n",
      "   ------ --------------------------------- 2.7/17.7 MB 894.7 kB/s eta 0:00:17\n",
      "   ------ --------------------------------- 2.7/17.7 MB 879.7 kB/s eta 0:00:18\n",
      "   ------ --------------------------------- 2.7/17.7 MB 888.3 kB/s eta 0:00:17\n",
      "   ------ --------------------------------- 2.7/17.7 MB 888.3 kB/s eta 0:00:17\n",
      "   ------ --------------------------------- 2.8/17.7 MB 880.4 kB/s eta 0:00:17\n",
      "   ------ --------------------------------- 2.8/17.7 MB 881.2 kB/s eta 0:00:17\n",
      "   ------ --------------------------------- 2.9/17.7 MB 887.6 kB/s eta 0:00:17\n",
      "   ------ --------------------------------- 2.9/17.7 MB 881.2 kB/s eta 0:00:17\n",
      "   ------ --------------------------------- 3.0/17.7 MB 889.0 kB/s eta 0:00:17\n",
      "   ------ --------------------------------- 3.0/17.7 MB 882.8 kB/s eta 0:00:17\n",
      "   ------- -------------------------------- 3.1/17.7 MB 894.4 kB/s eta 0:00:17\n",
      "   ------- -------------------------------- 3.1/17.7 MB 885.6 kB/s eta 0:00:17\n",
      "   ------- -------------------------------- 3.1/17.7 MB 885.6 kB/s eta 0:00:17\n",
      "   ------- -------------------------------- 3.2/17.7 MB 892.9 kB/s eta 0:00:17\n",
      "   ------- -------------------------------- 3.2/17.7 MB 887.0 kB/s eta 0:00:17\n",
      "   ------- -------------------------------- 3.3/17.7 MB 894.3 kB/s eta 0:00:17\n",
      "   ------- -------------------------------- 3.3/17.7 MB 889.4 kB/s eta 0:00:17\n",
      "   ------- -------------------------------- 3.4/17.7 MB 896.4 kB/s eta 0:00:16\n",
      "   ------- -------------------------------- 3.4/17.7 MB 896.1 kB/s eta 0:00:16\n",
      "   ------- -------------------------------- 3.5/17.7 MB 902.9 kB/s eta 0:00:16\n",
      "   ------- -------------------------------- 3.5/17.7 MB 894.7 kB/s eta 0:00:16\n",
      "   ------- -------------------------------- 3.5/17.7 MB 894.7 kB/s eta 0:00:16\n",
      "   -------- ------------------------------- 3.6/17.7 MB 901.1 kB/s eta 0:00:16\n",
      "   -------- ------------------------------- 3.6/17.7 MB 895.7 kB/s eta 0:00:16\n",
      "   -------- ------------------------------- 3.7/17.7 MB 905.4 kB/s eta 0:00:16\n",
      "   -------- ------------------------------- 3.7/17.7 MB 897.9 kB/s eta 0:00:16\n",
      "   -------- ------------------------------- 3.8/17.7 MB 912.2 kB/s eta 0:00:16\n",
      "   -------- ------------------------------- 3.9/17.7 MB 906.9 kB/s eta 0:00:16\n",
      "   -------- ------------------------------- 3.9/17.7 MB 912.7 kB/s eta 0:00:16\n",
      "   -------- ------------------------------- 4.0/17.7 MB 909.9 kB/s eta 0:00:16\n",
      "   --------- ------------------------------ 4.0/17.7 MB 919.0 kB/s eta 0:00:15\n",
      "   --------- ------------------------------ 4.0/17.7 MB 919.0 kB/s eta 0:00:15\n",
      "   --------- ------------------------------ 4.1/17.7 MB 908.3 kB/s eta 0:00:15\n",
      "   --------- ------------------------------ 4.1/17.7 MB 914.0 kB/s eta 0:00:15\n",
      "   --------- ------------------------------ 4.2/17.7 MB 912.1 kB/s eta 0:00:15\n",
      "   --------- ------------------------------ 4.3/17.7 MB 915.9 kB/s eta 0:00:15\n",
      "   --------- ------------------------------ 4.3/17.7 MB 918.1 kB/s eta 0:00:15\n",
      "   --------- ------------------------------ 4.4/17.7 MB 927.5 kB/s eta 0:00:15\n",
      "   --------- ------------------------------ 4.4/17.7 MB 920.5 kB/s eta 0:00:15\n",
      "   ---------- ----------------------------- 4.5/17.7 MB 932.8 kB/s eta 0:00:15\n",
      "   ---------- ----------------------------- 4.5/17.7 MB 927.3 kB/s eta 0:00:15\n",
      "   ---------- ----------------------------- 4.6/17.7 MB 935.1 kB/s eta 0:00:14\n",
      "   ---------- ----------------------------- 4.6/17.7 MB 932.4 kB/s eta 0:00:14\n",
      "   ---------- ----------------------------- 4.7/17.7 MB 940.0 kB/s eta 0:00:14\n",
      "   ---------- ----------------------------- 4.7/17.7 MB 941.3 kB/s eta 0:00:14\n",
      "   ---------- ----------------------------- 4.8/17.7 MB 936.6 kB/s eta 0:00:14\n",
      "   ---------- ----------------------------- 4.8/17.7 MB 941.1 kB/s eta 0:00:14\n",
      "   ---------- ----------------------------- 4.8/17.7 MB 937.4 kB/s eta 0:00:14\n",
      "   ----------- ---------------------------- 4.9/17.7 MB 945.7 kB/s eta 0:00:14\n",
      "   ----------- ---------------------------- 5.0/17.7 MB 943.3 kB/s eta 0:00:14\n",
      "   ----------- ---------------------------- 5.1/17.7 MB 950.4 kB/s eta 0:00:14\n",
      "   ----------- ---------------------------- 5.1/17.7 MB 947.8 kB/s eta 0:00:14\n",
      "   ----------- ---------------------------- 5.2/17.7 MB 955.6 kB/s eta 0:00:14\n",
      "   ----------- ---------------------------- 5.2/17.7 MB 953.0 kB/s eta 0:00:14\n",
      "   ------------ --------------------------- 5.3/17.7 MB 959.9 kB/s eta 0:00:13\n",
      "   ------------ --------------------------- 5.3/17.7 MB 955.5 kB/s eta 0:00:13\n",
      "   ------------ --------------------------- 5.3/17.7 MB 954.6 kB/s eta 0:00:13\n",
      "   ------------ --------------------------- 5.4/17.7 MB 964.8 kB/s eta 0:00:13\n",
      "   ------------ --------------------------- 5.5/17.7 MB 962.3 kB/s eta 0:00:13\n",
      "   ------------ --------------------------- 5.6/17.7 MB 972.3 kB/s eta 0:00:13\n",
      "   ------------ --------------------------- 5.6/17.7 MB 967.1 kB/s eta 0:00:13\n",
      "   ------------ --------------------------- 5.7/17.7 MB 975.2 kB/s eta 0:00:13\n",
      "   ------------ --------------------------- 5.7/17.7 MB 974.3 kB/s eta 0:00:13\n",
      "   ------------- -------------------------- 5.8/17.7 MB 982.2 kB/s eta 0:00:13\n",
      "   ------------- -------------------------- 5.9/17.7 MB 977.1 kB/s eta 0:00:13\n",
      "   ------------- -------------------------- 5.9/17.7 MB 977.1 kB/s eta 0:00:13\n",
      "   ------------- -------------------------- 6.0/17.7 MB 983.9 kB/s eta 0:00:12\n",
      "   ------------- -------------------------- 6.0/17.7 MB 983.9 kB/s eta 0:00:12\n",
      "   ------------- -------------------------- 6.0/17.7 MB 976.4 kB/s eta 0:00:12\n",
      "   ------------- -------------------------- 6.0/17.7 MB 976.4 kB/s eta 0:00:12\n",
      "   ------------- -------------------------- 6.1/17.7 MB 969.9 kB/s eta 0:00:12\n",
      "   ------------- -------------------------- 6.1/17.7 MB 968.4 kB/s eta 0:00:12\n",
      "   ------------- -------------------------- 6.2/17.7 MB 971.7 kB/s eta 0:00:12\n",
      "   ------------- -------------------------- 6.2/17.7 MB 966.3 kB/s eta 0:00:12\n",
      "   -------------- ------------------------- 6.3/17.7 MB 972.0 kB/s eta 0:00:12\n",
      "   -------------- ------------------------- 6.3/17.7 MB 968.1 kB/s eta 0:00:12\n",
      "   -------------- ------------------------- 6.4/17.7 MB 971.3 kB/s eta 0:00:12\n",
      "   -------------- ------------------------- 6.4/17.7 MB 967.5 kB/s eta 0:00:12\n",
      "   -------------- ------------------------- 6.4/17.7 MB 969.0 kB/s eta 0:00:12\n",
      "   -------------- ------------------------- 6.5/17.7 MB 974.6 kB/s eta 0:00:12\n",
      "   -------------- ------------------------- 6.5/17.7 MB 970.9 kB/s eta 0:00:12\n",
      "   -------------- ------------------------- 6.6/17.7 MB 975.5 kB/s eta 0:00:12\n",
      "   -------------- ------------------------- 6.6/17.7 MB 971.7 kB/s eta 0:00:12\n",
      "   --------------- ------------------------ 6.7/17.7 MB 977.0 kB/s eta 0:00:12\n",
      "   --------------- ------------------------ 6.7/17.7 MB 972.7 kB/s eta 0:00:12\n",
      "   --------------- ------------------------ 6.8/17.7 MB 977.9 kB/s eta 0:00:12\n",
      "   --------------- ------------------------ 6.9/17.7 MB 977.2 kB/s eta 0:00:12\n",
      "   --------------- ------------------------ 6.9/17.7 MB 982.3 kB/s eta 0:00:11\n",
      "   --------------- ------------------------ 6.9/17.7 MB 977.2 kB/s eta 0:00:11\n",
      "   --------------- ------------------------ 7.0/17.7 MB 978.0 kB/s eta 0:00:11\n",
      "   --------------- ------------------------ 7.1/17.7 MB 984.5 kB/s eta 0:00:11\n",
      "   ---------------- ----------------------- 7.1/17.7 MB 981.6 kB/s eta 0:00:11\n",
      "   ---------------- ----------------------- 7.2/17.7 MB 985.9 kB/s eta 0:00:11\n",
      "   ---------------- ----------------------- 7.2/17.7 MB 984.5 kB/s eta 0:00:11\n",
      "   ---------------- ----------------------- 7.3/17.7 MB 989.4 kB/s eta 0:00:11\n",
      "   ---------------- ----------------------- 7.3/17.7 MB 984.5 kB/s eta 0:00:11\n",
      "   ---------------- ----------------------- 7.4/17.7 MB 989.9 kB/s eta 0:00:11\n",
      "   ---------------- ----------------------- 7.4/17.7 MB 987.9 kB/s eta 0:00:11\n",
      "   ----------------- ---------------------- 7.5/17.7 MB 995.3 kB/s eta 0:00:11\n",
      "   ----------------- ---------------------- 7.5/17.7 MB 995.3 kB/s eta 0:00:11\n",
      "   ----------------- ---------------------- 7.6/17.7 MB 991.1 kB/s eta 0:00:11\n",
      "   ----------------- ---------------------- 7.7/17.7 MB 998.4 kB/s eta 0:00:11\n",
      "   ----------------- ---------------------- 7.7/17.7 MB 993.6 kB/s eta 0:00:11\n",
      "   ----------------- ---------------------- 7.8/17.7 MB 998.9 kB/s eta 0:00:10\n",
      "   ----------------- ---------------------- 7.8/17.7 MB 996.8 kB/s eta 0:00:10\n",
      "   ----------------- ---------------------- 7.9/17.7 MB 999.3 kB/s eta 0:00:10\n",
      "   ----------------- ---------------------- 7.9/17.7 MB 997.9 kB/s eta 0:00:10\n",
      "   ------------------ --------------------- 8.0/17.7 MB 1.0 MB/s eta 0:00:10\n",
      "   ------------------ --------------------- 8.0/17.7 MB 1.0 MB/s eta 0:00:10\n",
      "   ------------------ --------------------- 8.0/17.7 MB 999.6 kB/s eta 0:00:10\n",
      "   ------------------ --------------------- 8.1/17.7 MB 1.0 MB/s eta 0:00:10\n",
      "   ------------------ --------------------- 8.1/17.7 MB 998.8 kB/s eta 0:00:10\n",
      "   ------------------ --------------------- 8.2/17.7 MB 1.0 MB/s eta 0:00:10\n",
      "   ------------------ --------------------- 8.3/17.7 MB 1.0 MB/s eta 0:00:10\n",
      "   ------------------ --------------------- 8.4/17.7 MB 1.0 MB/s eta 0:00:10\n",
      "   ------------------- -------------------- 8.4/17.7 MB 1.0 MB/s eta 0:00:10\n",
      "   ------------------- -------------------- 8.5/17.7 MB 1.0 MB/s eta 0:00:10\n",
      "   ------------------- -------------------- 8.5/17.7 MB 1.0 MB/s eta 0:00:10\n",
      "   ------------------- -------------------- 8.6/17.7 MB 1.0 MB/s eta 0:00:09\n",
      "   ------------------- -------------------- 8.7/17.7 MB 1.0 MB/s eta 0:00:09\n",
      "   ------------------- -------------------- 8.7/17.7 MB 1.0 MB/s eta 0:00:09\n",
      "   ------------------- -------------------- 8.8/17.7 MB 1.0 MB/s eta 0:00:09\n",
      "   ------------------- -------------------- 8.8/17.7 MB 1.0 MB/s eta 0:00:09\n",
      "   -------------------- ------------------- 8.9/17.7 MB 1.0 MB/s eta 0:00:09\n",
      "   -------------------- ------------------- 8.9/17.7 MB 1.0 MB/s eta 0:00:09\n",
      "   -------------------- ------------------- 9.0/17.7 MB 1.0 MB/s eta 0:00:09\n",
      "   -------------------- ------------------- 9.1/17.7 MB 1.0 MB/s eta 0:00:09\n",
      "   -------------------- ------------------- 9.2/17.7 MB 1.0 MB/s eta 0:00:09\n",
      "   -------------------- ------------------- 9.2/17.7 MB 1.0 MB/s eta 0:00:09\n",
      "   -------------------- ------------------- 9.2/17.7 MB 1.0 MB/s eta 0:00:09\n",
      "   --------------------- ------------------ 9.3/17.7 MB 1.0 MB/s eta 0:00:09\n",
      "   --------------------- ------------------ 9.4/17.7 MB 1.0 MB/s eta 0:00:09\n",
      "   --------------------- ------------------ 9.4/17.7 MB 1.0 MB/s eta 0:00:09\n",
      "   --------------------- ------------------ 9.4/17.7 MB 1.0 MB/s eta 0:00:09\n",
      "   --------------------- ------------------ 9.5/17.7 MB 1.0 MB/s eta 0:00:08\n",
      "   --------------------- ------------------ 9.5/17.7 MB 1.0 MB/s eta 0:00:09\n",
      "   --------------------- ------------------ 9.6/17.7 MB 1.0 MB/s eta 0:00:08\n",
      "   --------------------- ------------------ 9.6/17.7 MB 1.0 MB/s eta 0:00:08\n",
      "   --------------------- ------------------ 9.7/17.7 MB 1.0 MB/s eta 0:00:08\n",
      "   --------------------- ------------------ 9.7/17.7 MB 1.0 MB/s eta 0:00:08\n",
      "   ---------------------- ----------------- 9.8/17.7 MB 1.0 MB/s eta 0:00:08\n",
      "   ---------------------- ----------------- 9.8/17.7 MB 1.0 MB/s eta 0:00:08\n",
      "   ---------------------- ----------------- 9.8/17.7 MB 1.0 MB/s eta 0:00:08\n",
      "   ---------------------- ----------------- 9.9/17.7 MB 1.0 MB/s eta 0:00:08\n",
      "   ---------------------- ----------------- 9.9/17.7 MB 1.0 MB/s eta 0:00:08\n",
      "   ---------------------- ----------------- 10.0/17.7 MB 1.0 MB/s eta 0:00:08\n",
      "   ---------------------- ----------------- 10.0/17.7 MB 1.0 MB/s eta 0:00:08\n",
      "   ---------------------- ----------------- 10.1/17.7 MB 1.0 MB/s eta 0:00:08\n",
      "   ---------------------- ----------------- 10.1/17.7 MB 1.0 MB/s eta 0:00:08\n",
      "   ----------------------- ---------------- 10.2/17.7 MB 1.0 MB/s eta 0:00:08\n",
      "   ----------------------- ---------------- 10.3/17.7 MB 1.0 MB/s eta 0:00:08\n",
      "   ----------------------- ---------------- 10.3/17.7 MB 1.0 MB/s eta 0:00:08\n",
      "   ----------------------- ---------------- 10.4/17.7 MB 1.0 MB/s eta 0:00:08\n",
      "   ----------------------- ---------------- 10.5/17.7 MB 1.0 MB/s eta 0:00:07\n",
      "   ----------------------- ---------------- 10.5/17.7 MB 1.0 MB/s eta 0:00:07\n",
      "   ----------------------- ---------------- 10.5/17.7 MB 1.0 MB/s eta 0:00:07\n",
      "   ----------------------- ---------------- 10.6/17.7 MB 1.0 MB/s eta 0:00:07\n",
      "   ------------------------ --------------- 10.6/17.7 MB 1.0 MB/s eta 0:00:07\n",
      "   ------------------------ --------------- 10.7/17.7 MB 1.0 MB/s eta 0:00:07\n",
      "   ------------------------ --------------- 10.7/17.7 MB 1.0 MB/s eta 0:00:07\n",
      "   ------------------------ --------------- 10.8/17.7 MB 1.1 MB/s eta 0:00:07\n",
      "   ------------------------ --------------- 10.9/17.7 MB 1.0 MB/s eta 0:00:07\n",
      "   ------------------------ --------------- 11.0/17.7 MB 1.1 MB/s eta 0:00:07\n",
      "   ------------------------ --------------- 11.0/17.7 MB 1.0 MB/s eta 0:00:07\n",
      "   ------------------------- -------------- 11.1/17.7 MB 1.1 MB/s eta 0:00:07\n",
      "   ------------------------- -------------- 11.1/17.7 MB 1.1 MB/s eta 0:00:07\n",
      "   ------------------------- -------------- 11.2/17.7 MB 1.1 MB/s eta 0:00:07\n",
      "   ------------------------- -------------- 11.2/17.7 MB 1.1 MB/s eta 0:00:07\n",
      "   ------------------------- -------------- 11.3/17.7 MB 1.1 MB/s eta 0:00:07\n",
      "   ------------------------- -------------- 11.4/17.7 MB 1.1 MB/s eta 0:00:06\n",
      "   ------------------------- -------------- 11.4/17.7 MB 1.1 MB/s eta 0:00:06\n",
      "   ------------------------- -------------- 11.5/17.7 MB 1.1 MB/s eta 0:00:06\n",
      "   ------------------------- -------------- 11.5/17.7 MB 1.1 MB/s eta 0:00:06\n",
      "   ------------------------- -------------- 11.5/17.7 MB 1.1 MB/s eta 0:00:06\n",
      "   -------------------------- ------------- 11.6/17.7 MB 1.1 MB/s eta 0:00:06\n",
      "   -------------------------- ------------- 11.6/17.7 MB 1.1 MB/s eta 0:00:06\n",
      "   -------------------------- ------------- 11.6/17.7 MB 1.1 MB/s eta 0:00:06\n",
      "   -------------------------- ------------- 11.7/17.7 MB 1.1 MB/s eta 0:00:06\n",
      "   -------------------------- ------------- 11.7/17.7 MB 1.1 MB/s eta 0:00:06\n",
      "   -------------------------- ------------- 11.7/17.7 MB 1.1 MB/s eta 0:00:06\n",
      "   -------------------------- ------------- 11.8/17.7 MB 1.1 MB/s eta 0:00:06\n",
      "   -------------------------- ------------- 11.8/17.7 MB 1.1 MB/s eta 0:00:06\n",
      "   -------------------------- ------------- 11.9/17.7 MB 1.1 MB/s eta 0:00:06\n",
      "   -------------------------- ------------- 11.9/17.7 MB 1.1 MB/s eta 0:00:06\n",
      "   --------------------------- ------------ 12.0/17.7 MB 1.1 MB/s eta 0:00:06\n",
      "   --------------------------- ------------ 12.0/17.7 MB 1.1 MB/s eta 0:00:06\n",
      "   --------------------------- ------------ 12.1/17.7 MB 1.1 MB/s eta 0:00:06\n",
      "   --------------------------- ------------ 12.1/17.7 MB 1.1 MB/s eta 0:00:06\n",
      "   --------------------------- ------------ 12.2/17.7 MB 1.1 MB/s eta 0:00:06\n",
      "   --------------------------- ------------ 12.2/17.7 MB 1.1 MB/s eta 0:00:06\n",
      "   --------------------------- ------------ 12.2/17.7 MB 1.1 MB/s eta 0:00:06\n",
      "   --------------------------- ------------ 12.2/17.7 MB 1.1 MB/s eta 0:00:06\n",
      "   --------------------------- ------------ 12.2/17.7 MB 1.1 MB/s eta 0:00:06\n",
      "   --------------------------- ------------ 12.3/17.7 MB 1.1 MB/s eta 0:00:06\n",
      "   --------------------------- ------------ 12.3/17.7 MB 1.1 MB/s eta 0:00:05\n",
      "   ---------------------------- ----------- 12.4/17.7 MB 1.1 MB/s eta 0:00:05\n",
      "   ---------------------------- ----------- 12.4/17.7 MB 1.1 MB/s eta 0:00:05\n",
      "   ---------------------------- ----------- 12.5/17.7 MB 1.1 MB/s eta 0:00:05\n",
      "   ---------------------------- ----------- 12.5/17.7 MB 1.1 MB/s eta 0:00:05\n",
      "   ---------------------------- ----------- 12.6/17.7 MB 1.1 MB/s eta 0:00:05\n",
      "   ---------------------------- ----------- 12.6/17.7 MB 1.1 MB/s eta 0:00:05\n",
      "   ---------------------------- ----------- 12.6/17.7 MB 1.1 MB/s eta 0:00:05\n",
      "   ---------------------------- ----------- 12.7/17.7 MB 1.1 MB/s eta 0:00:05\n",
      "   ---------------------------- ----------- 12.7/17.7 MB 1.1 MB/s eta 0:00:05\n",
      "   ---------------------------- ----------- 12.8/17.7 MB 1.1 MB/s eta 0:00:05\n",
      "   ----------------------------- ---------- 12.8/17.7 MB 1.1 MB/s eta 0:00:05\n",
      "   ----------------------------- ---------- 12.9/17.7 MB 1.1 MB/s eta 0:00:05\n",
      "   ----------------------------- ---------- 12.9/17.7 MB 1.1 MB/s eta 0:00:05\n",
      "   ----------------------------- ---------- 13.0/17.7 MB 1.1 MB/s eta 0:00:05\n",
      "   ----------------------------- ---------- 13.0/17.7 MB 1.1 MB/s eta 0:00:05\n",
      "   ----------------------------- ---------- 13.1/17.7 MB 1.1 MB/s eta 0:00:05\n",
      "   ----------------------------- ---------- 13.1/17.7 MB 1.1 MB/s eta 0:00:05\n",
      "   ----------------------------- ---------- 13.1/17.7 MB 1.1 MB/s eta 0:00:05\n",
      "   ----------------------------- ---------- 13.2/17.7 MB 1.1 MB/s eta 0:00:05\n",
      "   ----------------------------- ---------- 13.2/17.7 MB 1.1 MB/s eta 0:00:05\n",
      "   ------------------------------ --------- 13.3/17.7 MB 1.1 MB/s eta 0:00:05\n",
      "   ------------------------------ --------- 13.3/17.7 MB 1.1 MB/s eta 0:00:05\n",
      "   ------------------------------ --------- 13.4/17.7 MB 1.1 MB/s eta 0:00:04\n",
      "   ------------------------------ --------- 13.4/17.7 MB 1.1 MB/s eta 0:00:05\n",
      "   ------------------------------ --------- 13.5/17.7 MB 1.1 MB/s eta 0:00:04\n",
      "   ------------------------------ --------- 13.5/17.7 MB 1.1 MB/s eta 0:00:04\n",
      "   ------------------------------ --------- 13.6/17.7 MB 1.1 MB/s eta 0:00:04\n",
      "   ------------------------------ --------- 13.6/17.7 MB 1.1 MB/s eta 0:00:04\n",
      "   ------------------------------ --------- 13.7/17.7 MB 1.1 MB/s eta 0:00:04\n",
      "   ------------------------------ --------- 13.7/17.7 MB 1.1 MB/s eta 0:00:04\n",
      "   ------------------------------- -------- 13.7/17.7 MB 1.1 MB/s eta 0:00:04\n",
      "   ------------------------------- -------- 13.8/17.7 MB 1.1 MB/s eta 0:00:04\n",
      "   ------------------------------- -------- 13.8/17.7 MB 1.1 MB/s eta 0:00:04\n",
      "   ------------------------------- -------- 13.9/17.7 MB 1.1 MB/s eta 0:00:04\n",
      "   ------------------------------- -------- 13.9/17.7 MB 1.1 MB/s eta 0:00:04\n",
      "   ------------------------------- -------- 14.0/17.7 MB 1.1 MB/s eta 0:00:04\n",
      "   ------------------------------- -------- 14.0/17.7 MB 1.1 MB/s eta 0:00:04\n",
      "   ------------------------------- -------- 14.1/17.7 MB 1.1 MB/s eta 0:00:04\n",
      "   ------------------------------- -------- 14.1/17.7 MB 1.1 MB/s eta 0:00:04\n",
      "   -------------------------------- ------- 14.2/17.7 MB 1.1 MB/s eta 0:00:04\n",
      "   -------------------------------- ------- 14.2/17.7 MB 1.1 MB/s eta 0:00:04\n",
      "   -------------------------------- ------- 14.3/17.7 MB 1.1 MB/s eta 0:00:04\n",
      "   -------------------------------- ------- 14.3/17.7 MB 1.1 MB/s eta 0:00:04\n",
      "   -------------------------------- ------- 14.3/17.7 MB 1.1 MB/s eta 0:00:04\n",
      "   -------------------------------- ------- 14.4/17.7 MB 1.1 MB/s eta 0:00:04\n",
      "   -------------------------------- ------- 14.4/17.7 MB 1.1 MB/s eta 0:00:04\n",
      "   -------------------------------- ------- 14.5/17.7 MB 1.1 MB/s eta 0:00:03\n",
      "   -------------------------------- ------- 14.5/17.7 MB 1.1 MB/s eta 0:00:03\n",
      "   --------------------------------- ------ 14.6/17.7 MB 1.1 MB/s eta 0:00:03\n",
      "   --------------------------------- ------ 14.6/17.7 MB 1.1 MB/s eta 0:00:03\n",
      "   --------------------------------- ------ 14.7/17.7 MB 1.1 MB/s eta 0:00:03\n",
      "   --------------------------------- ------ 14.7/17.7 MB 1.1 MB/s eta 0:00:03\n",
      "   --------------------------------- ------ 14.8/17.7 MB 1.1 MB/s eta 0:00:03\n",
      "   --------------------------------- ------ 14.8/17.7 MB 1.1 MB/s eta 0:00:03\n",
      "   --------------------------------- ------ 14.8/17.7 MB 1.1 MB/s eta 0:00:03\n",
      "   --------------------------------- ------ 14.9/17.7 MB 1.1 MB/s eta 0:00:03\n",
      "   --------------------------------- ------ 14.9/17.7 MB 1.1 MB/s eta 0:00:03\n",
      "   --------------------------------- ------ 15.0/17.7 MB 1.1 MB/s eta 0:00:03\n",
      "   --------------------------------- ------ 15.0/17.7 MB 1.1 MB/s eta 0:00:03\n",
      "   ---------------------------------- ----- 15.0/17.7 MB 1.1 MB/s eta 0:00:03\n",
      "   ---------------------------------- ----- 15.1/17.7 MB 1.1 MB/s eta 0:00:03\n",
      "   ---------------------------------- ----- 15.1/17.7 MB 1.1 MB/s eta 0:00:03\n",
      "   ---------------------------------- ----- 15.1/17.7 MB 1.1 MB/s eta 0:00:03\n",
      "   ---------------------------------- ----- 15.2/17.7 MB 1.0 MB/s eta 0:00:03\n",
      "   ---------------------------------- ----- 15.2/17.7 MB 1.0 MB/s eta 0:00:03\n",
      "   ---------------------------------- ----- 15.2/17.7 MB 1.0 MB/s eta 0:00:03\n",
      "   ---------------------------------- ----- 15.3/17.7 MB 1.0 MB/s eta 0:00:03\n",
      "   ---------------------------------- ----- 15.3/17.7 MB 1.0 MB/s eta 0:00:03\n",
      "   ---------------------------------- ----- 15.4/17.7 MB 1.0 MB/s eta 0:00:03\n",
      "   ---------------------------------- ----- 15.4/17.7 MB 1.0 MB/s eta 0:00:03\n",
      "   ----------------------------------- ---- 15.5/17.7 MB 1.0 MB/s eta 0:00:03\n",
      "   ----------------------------------- ---- 15.5/17.7 MB 1.0 MB/s eta 0:00:03\n",
      "   ----------------------------------- ---- 15.6/17.7 MB 1.0 MB/s eta 0:00:02\n",
      "   ----------------------------------- ---- 15.7/17.7 MB 1.0 MB/s eta 0:00:02\n",
      "   ----------------------------------- ---- 15.7/17.7 MB 1.0 MB/s eta 0:00:02\n",
      "   ----------------------------------- ---- 15.8/17.7 MB 1.0 MB/s eta 0:00:02\n",
      "   ----------------------------------- ---- 15.8/17.7 MB 1.0 MB/s eta 0:00:02\n",
      "   ----------------------------------- ---- 15.9/17.7 MB 1.0 MB/s eta 0:00:02\n",
      "   ----------------------------------- ---- 15.9/17.7 MB 1.0 MB/s eta 0:00:02\n",
      "   ------------------------------------ --- 16.0/17.7 MB 1.0 MB/s eta 0:00:02\n",
      "   ------------------------------------ --- 16.0/17.7 MB 1.0 MB/s eta 0:00:02\n",
      "   ------------------------------------ --- 16.1/17.7 MB 1.0 MB/s eta 0:00:02\n",
      "   ------------------------------------ --- 16.1/17.7 MB 1.0 MB/s eta 0:00:02\n",
      "   ------------------------------------ --- 16.2/17.7 MB 1.0 MB/s eta 0:00:02\n",
      "   ------------------------------------ --- 16.2/17.7 MB 1.0 MB/s eta 0:00:02\n",
      "   ------------------------------------ --- 16.2/17.7 MB 1.0 MB/s eta 0:00:02\n",
      "   ------------------------------------ --- 16.3/17.7 MB 1.0 MB/s eta 0:00:02\n",
      "   ------------------------------------ --- 16.3/17.7 MB 1.0 MB/s eta 0:00:02\n",
      "   ------------------------------------- -- 16.4/17.7 MB 1.1 MB/s eta 0:00:02\n",
      "   ------------------------------------- -- 16.4/17.7 MB 1.0 MB/s eta 0:00:02\n",
      "   ------------------------------------- -- 16.5/17.7 MB 1.1 MB/s eta 0:00:02\n",
      "   ------------------------------------- -- 16.6/17.7 MB 1.0 MB/s eta 0:00:02\n",
      "   ------------------------------------- -- 16.7/17.7 MB 1.1 MB/s eta 0:00:01\n",
      "   ------------------------------------- -- 16.7/17.7 MB 1.0 MB/s eta 0:00:01\n",
      "   ------------------------------------- -- 16.8/17.7 MB 1.1 MB/s eta 0:00:01\n",
      "   -------------------------------------- - 16.8/17.7 MB 1.0 MB/s eta 0:00:01\n",
      "   -------------------------------------- - 16.9/17.7 MB 1.1 MB/s eta 0:00:01\n",
      "   -------------------------------------- - 16.9/17.7 MB 1.0 MB/s eta 0:00:01\n",
      "   -------------------------------------- - 17.0/17.7 MB 1.0 MB/s eta 0:00:01\n",
      "   -------------------------------------- - 17.0/17.7 MB 1.0 MB/s eta 0:00:01\n",
      "   -------------------------------------- - 17.0/17.7 MB 1.1 MB/s eta 0:00:01\n",
      "   -------------------------------------- - 17.1/17.7 MB 1.1 MB/s eta 0:00:01\n",
      "   -------------------------------------- - 17.2/17.7 MB 1.0 MB/s eta 0:00:01\n",
      "   ---------------------------------------  17.2/17.7 MB 1.1 MB/s eta 0:00:01\n",
      "   ---------------------------------------  17.2/17.7 MB 1.1 MB/s eta 0:00:01\n",
      "   ---------------------------------------  17.2/17.7 MB 1.1 MB/s eta 0:00:01\n",
      "   ---------------------------------------  17.3/17.7 MB 1.0 MB/s eta 0:00:01\n",
      "   ---------------------------------------  17.3/17.7 MB 1.0 MB/s eta 0:00:01\n",
      "   ---------------------------------------  17.3/17.7 MB 1.0 MB/s eta 0:00:01\n",
      "   ---------------------------------------  17.3/17.7 MB 1.0 MB/s eta 0:00:01\n",
      "   ---------------------------------------  17.5/17.7 MB 1.0 MB/s eta 0:00:01\n",
      "   ---------------------------------------  17.5/17.7 MB 1.0 MB/s eta 0:00:01\n",
      "   ---------------------------------------  17.6/17.7 MB 1.0 MB/s eta 0:00:01\n",
      "   ---------------------------------------  17.6/17.7 MB 1.0 MB/s eta 0:00:01\n",
      "   ---------------------------------------  17.7/17.7 MB 1.0 MB/s eta 0:00:01\n",
      "   ---------------------------------------  17.7/17.7 MB 1.0 MB/s eta 0:00:01\n",
      "   ---------------------------------------  17.7/17.7 MB 1.0 MB/s eta 0:00:01\n",
      "   ---------------------------------------- 17.7/17.7 MB 1.0 MB/s eta 0:00:00\n",
      "Installing collected packages: pulp\n",
      "Successfully installed pulp-2.9.0\n",
      "Note: you may need to restart the kernel to use updated packages.\n"
     ]
    },
    {
     "name": "stderr",
     "output_type": "stream",
     "text": [
      "\n",
      "[notice] A new release of pip is available: 24.0 -> 24.2\n",
      "[notice] To update, run: C:\\Users\\molde\\AppData\\Local\\Microsoft\\WindowsApps\\PythonSoftwareFoundation.Python.3.11_qbz5n2kfra8p0\\python.exe -m pip install --upgrade pip\n"
     ]
    }
   ],
   "source": [
    "pip install pulp"
   ]
  },
  {
   "cell_type": "code",
   "execution_count": 114,
   "metadata": {},
   "outputs": [
    {
     "name": "stdout",
     "output_type": "stream",
     "text": [
      "Количество автомобилей модели А:  1.0\n",
      "Количество автомобилей модели В:  4.0\n",
      "Суммарный доход:  200000.0\n"
     ]
    }
   ],
   "source": [
    "from pulp import*\n",
    "problem = LpProblem('Производство машин', LpMaximize)\n",
    "A = LpVariable('Автомобиль A', lowBound=0 , cat=LpInteger)\n",
    "B = LpVariable('Автомобиль B', lowBound=0 , cat=LpInteger)\n",
    "#Целевая функция\n",
    "problem += 20000*A + 45000*B \n",
    "#Ограничения\n",
    "problem += 4*A + 5*B <= 30 \n",
    "problem += 3*A + 6*B <=30\n",
    "problem += 2*A + 7*B <=30\n",
    "problem.solve()\n",
    "print(\"Количество автомобилей модели А: \", A.varValue)\n",
    "print(\"Количество автомобилей модели В: \", B.varValue)\n",
    "print(\"Суммарный доход: \", value(problem.objective))\n",
    "#Количество автомобилей модели А:  1.0\n",
    "#Количество автомобилей модели В:  4.0\n",
    "#Суммарный доход:  200000.0"
   ]
  },
  {
   "cell_type": "code",
   "execution_count": null,
   "metadata": {},
   "outputs": [],
   "source": [
    "from pulp import*\n",
    "problem_6_1 = LpProblem('Доставка товаров', LpMaximize)\n",
    "A_6_1 = LpVariable('Склад 1', lowBound=0 , cat=LpInteger)\n",
    "B_6_1 = LpVariable('Склад 2', lowBound=0 , cat=LpInteger)\n",
    "#Целевая функция\n",
    "problem += 20000*A + 45000*B \n",
    "#Ограничения\n",
    "problem += 4*A + 5*B <= 30 \n",
    "problem += 3*A + 6*B <=30\n",
    "problem += 2*A + 7*B <=30\n",
    "problem.solve()\n",
    "print(\"Количество автомобилей модели А: \", A.varValue)\n",
    "print(\"Количество автомобилей модели В: \", B.varValue)\n",
    "print(\"Суммарный доход: \", value(problem.objective))\n",
    "#Количество автомобилей модели А:  1.0\n",
    "#Количество автомобилей модели В:  4.0\n",
    "#Суммарный доход:  200000.0"
   ]
  },
  {
   "cell_type": "code",
   "execution_count": 128,
   "metadata": {},
   "outputs": [
    {
     "name": "stdout",
     "output_type": "stream",
     "text": [
      "Количество A1, B1, C1:  110.0 -70.0 140.0\n",
      "Количество A2, B2, C2:  -70.0 150.0 140.0\n",
      "Суммарный доход:  1690.0\n"
     ]
    }
   ],
   "source": [
    "problem = LpProblem('transportation', LpMaximize)\n",
    "A1 = LpVariable('m1', lowBound=0 , cat=LpInteger)\n",
    "B1 = LpVariable('m2', lowBound=0 , cat=LpInteger)\n",
    "C1 = LpVariable('m3', lowBound=0 , cat=LpInteger)\n",
    "A2 = LpVariable('m12', lowBound=0 , cat=LpInteger)\n",
    "B2 = LpVariable('m22', lowBound=0 , cat=LpInteger)\n",
    "C2 = LpVariable('m32', lowBound=0 , cat=LpInteger)\n",
    "#Целевая функция\n",
    "problem += (2*A1+5*B1+3*C1) + (7*A2+7*B2+6*C2)\n",
    "#Ограничения\n",
    "problem += A1 + B1 + C1 <= 180\n",
    "problem += A1 == 110\n",
    "problem += B1 == 150\n",
    "problem += C1 == 140\n",
    "\n",
    "problem += A2 + B2 + C2 <= 220\n",
    "problem += A2 == 110\n",
    "problem += B2 == 150\n",
    "problem += C2 == 140\n",
    "\n",
    "problem.solve()\n",
    "print(\"Количество A1, B1, C1: \", A1.varValue, B1.varValue, C1.varValue)\n",
    "print(\"Количество A2, B2, C2: \", A2.varValue, B2.varValue, C2.varValue)\n",
    "print(\"Суммарный доход: \", value(problem.objective))"
   ]
  }
 ],
 "metadata": {
  "kernelspec": {
   "display_name": "Python 3",
   "language": "python",
   "name": "python3"
  },
  "language_info": {
   "codemirror_mode": {
    "name": "ipython",
    "version": 3
   },
   "file_extension": ".py",
   "mimetype": "text/x-python",
   "name": "python",
   "nbconvert_exporter": "python",
   "pygments_lexer": "ipython3",
   "version": "3.11.9"
  }
 },
 "nbformat": 4,
 "nbformat_minor": 2
}
