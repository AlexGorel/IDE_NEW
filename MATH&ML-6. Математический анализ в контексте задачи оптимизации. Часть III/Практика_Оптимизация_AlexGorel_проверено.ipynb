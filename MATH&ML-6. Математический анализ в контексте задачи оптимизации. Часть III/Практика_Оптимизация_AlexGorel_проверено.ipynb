{
  "cells": [
    {
      "cell_type": "markdown",
      "metadata": {
        "id": "NyHIGVhfa_Wf"
      },
      "source": [
        "# Стохастический градиентный и координатный спуски"
      ]
    },
    {
      "cell_type": "markdown",
      "metadata": {
        "id": "gn6lluIADUKa"
      },
      "source": [
        "Для каждого задания указано количество баллов (если они оцениваются отдельно) + 1 балл за аккуратное и полное выполнение всего задания"
      ]
    },
    {
      "cell_type": "markdown",
      "metadata": {
        "id": "txCccYvha_Wv"
      },
      "source": [
        "## Загрузка и подготовка данных"
      ]
    },
    {
      "cell_type": "markdown",
      "metadata": {
        "id": "NbyOzeZ6a_Wx"
      },
      "source": [
        "**Загрузите уже знакомый вам файл *Advertising.csv* как объект DataFrame.** "
      ]
    },
    {
      "cell_type": "code",
      "execution_count": 1,
      "metadata": {},
      "outputs": [],
      "source": [
        "import numpy as np\n",
        "import pandas as pd\n",
        "from sklearn.linear_model import LinearRegression, SGDRegressor\n",
        "from sklearn import metrics\n",
        "import seaborn as sns\n",
        "import warnings\n",
        "warnings.filterwarnings('ignore')\n",
        "warnings.simplefilter('ignore')"
      ]
    },
    {
      "cell_type": "code",
      "execution_count": 2,
      "metadata": {
        "id": "E1L4_xeDa_Wz"
      },
      "outputs": [
        {
          "data": {
            "text/html": [
              "<div>\n",
              "<style scoped>\n",
              "    .dataframe tbody tr th:only-of-type {\n",
              "        vertical-align: middle;\n",
              "    }\n",
              "\n",
              "    .dataframe tbody tr th {\n",
              "        vertical-align: top;\n",
              "    }\n",
              "\n",
              "    .dataframe thead th {\n",
              "        text-align: right;\n",
              "    }\n",
              "</style>\n",
              "<table border=\"1\" class=\"dataframe\">\n",
              "  <thead>\n",
              "    <tr style=\"text-align: right;\">\n",
              "      <th></th>\n",
              "      <th>Unnamed: 0</th>\n",
              "      <th>TV</th>\n",
              "      <th>radio</th>\n",
              "      <th>newspaper</th>\n",
              "      <th>sales</th>\n",
              "    </tr>\n",
              "  </thead>\n",
              "  <tbody>\n",
              "    <tr>\n",
              "      <th>0</th>\n",
              "      <td>1</td>\n",
              "      <td>230.1</td>\n",
              "      <td>37.8</td>\n",
              "      <td>69.2</td>\n",
              "      <td>22.1</td>\n",
              "    </tr>\n",
              "    <tr>\n",
              "      <th>1</th>\n",
              "      <td>2</td>\n",
              "      <td>44.5</td>\n",
              "      <td>39.3</td>\n",
              "      <td>45.1</td>\n",
              "      <td>10.4</td>\n",
              "    </tr>\n",
              "    <tr>\n",
              "      <th>2</th>\n",
              "      <td>3</td>\n",
              "      <td>17.2</td>\n",
              "      <td>45.9</td>\n",
              "      <td>69.3</td>\n",
              "      <td>9.3</td>\n",
              "    </tr>\n",
              "    <tr>\n",
              "      <th>3</th>\n",
              "      <td>4</td>\n",
              "      <td>151.5</td>\n",
              "      <td>41.3</td>\n",
              "      <td>58.5</td>\n",
              "      <td>18.5</td>\n",
              "    </tr>\n",
              "    <tr>\n",
              "      <th>4</th>\n",
              "      <td>5</td>\n",
              "      <td>180.8</td>\n",
              "      <td>10.8</td>\n",
              "      <td>58.4</td>\n",
              "      <td>12.9</td>\n",
              "    </tr>\n",
              "  </tbody>\n",
              "</table>\n",
              "</div>"
            ],
            "text/plain": [
              "   Unnamed: 0     TV  radio  newspaper  sales\n",
              "0           1  230.1   37.8       69.2   22.1\n",
              "1           2   44.5   39.3       45.1   10.4\n",
              "2           3   17.2   45.9       69.3    9.3\n",
              "3           4  151.5   41.3       58.5   18.5\n",
              "4           5  180.8   10.8       58.4   12.9"
            ]
          },
          "execution_count": 2,
          "metadata": {},
          "output_type": "execute_result"
        }
      ],
      "source": [
        "#ваш код \n",
        "df = pd.read_csv('Advertising.zip')\n",
        "df.head()\n"
      ]
    },
    {
      "cell_type": "markdown",
      "metadata": {
        "id": "bf4aVFndDUKf"
      },
      "source": [
        "**Проверьте, есть ли в данных пропуски и, если они есть - удалите их**"
      ]
    },
    {
      "cell_type": "code",
      "execution_count": 3,
      "metadata": {
        "id": "tiVeFnR5DUKg"
      },
      "outputs": [
        {
          "data": {
            "text/plain": [
              "Unnamed: 0    0\n",
              "TV            0\n",
              "radio         0\n",
              "newspaper     0\n",
              "sales         0\n",
              "dtype: int64"
            ]
          },
          "execution_count": 3,
          "metadata": {},
          "output_type": "execute_result"
        }
      ],
      "source": [
        "#ваш код \n",
        "df.isnull().sum()"
      ]
    },
    {
      "cell_type": "code",
      "execution_count": 4,
      "metadata": {},
      "outputs": [],
      "source": [
        "#ваш код = ПРОПУСКОВ НЕТ"
      ]
    },
    {
      "cell_type": "markdown",
      "metadata": {
        "id": "rTkiqPr_DUKh"
      },
      "source": [
        "**Преобразуйте ваши признаки в массивы NumPy и разделите их на переменные X (предикторы) и y(целевая переменная)** "
      ]
    },
    {
      "cell_type": "code",
      "execution_count": 5,
      "metadata": {
        "id": "R9OHIRB3a_Xa"
      },
      "outputs": [],
      "source": [
        "#ваш код \n",
        "# признак unnamed:0 игнорируем, он дублирует индексы со сдвигом на 1\n",
        "\n",
        "X = df[['TV', 'radio', 'newspaper']].values\n",
        "y = df['sales'].values"
      ]
    },
    {
      "cell_type": "markdown",
      "metadata": {
        "id": "KCvjSoHEDUKo"
      },
      "source": [
        "## Координатный спуск (3 балла)"
      ]
    },
    {
      "cell_type": "markdown",
      "metadata": {
        "id": "yjNm8dATDUKq"
      },
      "source": [
        "**Добавим единичный столбец для того, чтобы у нас был свободный коэффициент в уравнении регрессии:**"
      ]
    },
    {
      "cell_type": "code",
      "execution_count": 6,
      "metadata": {
        "id": "LMgq0fmKDUKr"
      },
      "outputs": [
        {
          "name": "stdout",
          "output_type": "stream",
          "text": [
            "(200, 4) (200, 1)\n"
          ]
        }
      ],
      "source": [
        "import numpy as np\n",
        "\n",
        "X = np.hstack([np.ones(X.shape[0]).reshape(-1, 1), X])# добавляем в матрицу наблюдений единичный столбец\n",
        "y = y.reshape(-1, 1)# преобразуем вектор y в массив\n",
        "print(X.shape, y.shape)# проверим размерность данных"
      ]
    },
    {
      "cell_type": "markdown",
      "metadata": {
        "id": "R008OQwcDUKt"
      },
      "source": [
        "**Нормализуем данные: обычно это необходимо для корректной работы алгоритма**"
      ]
    },
    {
      "cell_type": "code",
      "execution_count": 7,
      "metadata": {
        "id": "2Sk7Wx-SDUKt"
      },
      "outputs": [],
      "source": [
        "X = X / np.sqrt(np.sum(np.square(X), axis=0))"
      ]
    },
    {
      "cell_type": "markdown",
      "metadata": {
        "id": "F_pHHbAdDUKu"
      },
      "source": [
        "**Реализуйте алгоритм координатного спуска:** (3 балла)\n",
        "\n",
        "Ниже приведен алгоритм координатного спуска для случая нормализованных данных:"
      ]
    },
    {
      "cell_type": "markdown",
      "metadata": {},
      "source": [
        "**Задано:**\n",
        "\n",
        "* $X=(x_{ij})$ - матрица наблюдений, размерностью $dim(X)=(m, n)$\n",
        "* $N=1000$ - количество итераций\n",
        "\n",
        "**Примечание:** *1000 итераций здесь указаны для этого задания, на самом деле их может быть намного больше, нет детерменированного значения.*\n",
        "\n",
        "**Алгоритм (математическая запись):**\n",
        "* Создать нулевой вектор параметров $w_0=(0, 0,..., 0)^T$\n",
        "* Для всех $t=1, 2, ..., N$ итераций:\n",
        "    * Для всех $k = 1, 2,..., n$:\n",
        "        * Фиксируем значение всех признаков, кроме $k$-ого и вычисляем прогноз модели линейной регрессии.Для этого исключаем признак $k$-ый из данных и $w_j$ из параметров при построении прогноза.\n",
        "        Математически это можно записать следующим образом:\n",
        "\n",
        "        $$h_i = \\sum_{j=1}^{k-1} x_{ij}w_{j} + \\sum_{j=k+1}^{n} x_{ij}w_j $$\n",
        "\n",
        "        **Примечание:**\n",
        "        \n",
        "        *Обратите, что в данной записи текущий признак под номером $k$ не участвует в сумме.Сравните эту запись с классической записью прогноза линейной регрессии в случае нормированных данных (когда участвуют все признаки):*\n",
        "\n",
        "        $$h_i = \\sum_{j=1}^{n} x_{ij}w_{j}$$ \n",
        "        \n",
        "        * Вычисляем новое значение параметра $k$-ого коэффициента: \n",
        "        $$w_k = \\sum_{i=1}^{m} x_{ik} (y_i - h_i) = x_k^T(y-h) $$\n",
        "\n",
        "    * Вычисляем значение функции потерь и сохраняем в историю изменения функции потерь (В оценке функции потерь участвуют все признаки):\n",
        "        $$\\hat{y_i} = \\sum_{j=1}^{n}x_{ij}w_j$$\n",
        "        $$Loss_t = \\frac{1}{n} \\sum_{i=1}^{m}(y_i-\\hat{y_i})^2$$\n",
        "        \n",
        "        или в векторном виде:\n",
        "        \n",
        "        $$\\hat{y} = Xw$$\n",
        "        $$Loss_t = \\frac{1}{n}(y-\\hat{y})^T(y-\\hat{y})$$\n",
        "    \n",
        "\n"
      ]
    },
    {
      "cell_type": "markdown",
      "metadata": {},
      "source": [
        "**Алгоритм (псевдокод):**\n",
        "```python\n",
        "\n",
        "num_iters = #количество итераций\n",
        "m = # количество строк в матрице X\n",
        "n = # количество столбцов в матрице X\n",
        "w = #вектор размера nx1, состояющий из нулей\n",
        "\n",
        "for i in range(num_iters):\n",
        "    for k in range(n):\n",
        "        # Вычисляем прогноз без k-ого фактора\n",
        "        h = (X[:,0:k] @ w[0:k]) + (X[:,k+1:] @ w[k+1:])\n",
        "        # Обновляем новое значение k-ого коэффициента\n",
        "        w[k] =  (X[:,k].T @ (y - h))\n",
        "        # Вычисляем функцию потерь\n",
        "        cost = sum((X @ w) - y) ** 2)/(len(y))\n",
        "\n",
        "```"
      ]
    },
    {
      "cell_type": "markdown",
      "metadata": {
        "id": "y3IdiHm9DUKv"
      },
      "source": [
        "Вам необходимо реализовать координатный спуск, и вывести веса в модели линейной регрессии."
      ]
    },
    {
      "cell_type": "code",
      "execution_count": 8,
      "metadata": {},
      "outputs": [
        {
          "name": "stdout",
          "output_type": "stream",
          "text": [
            "Коэффициенты линейной регрессии: \n",
            " [[ 41.56217205]\n",
            " [110.13144155]\n",
            " [ 73.52860638]\n",
            " [ -0.55006384]]\n",
            "MSE: [2.78412631]\n",
            "MAE: [1.25201123]\n"
          ]
        }
      ],
      "source": [
        "# ваш код\n",
        "# задаем функцию для решения задания\n",
        "def coordinate_descent(X,y, w, num_iters = 1000):\n",
        "    mse = []\n",
        "    mae = []\n",
        "    for i in range(num_iters):\n",
        "        for k in range(m):\n",
        "            h = (X[:,0:k] @ w[0:k]) + (X[:,k+1:] @ w[k+1:])     # Вычисляем прогноз\n",
        "            w[k] =  (X[:,k].T @ (y - h))                        # Обновляем k-й коэффициент\n",
        "            mse = sum((y - (X @ w)) ** 2)/(len(y))              # Вычисляем MSE\n",
        "            mae = sum(abs(y - (X @ w)))/(len(y))                # Вычисляем MAE\n",
        "    return w, mse, mae\n",
        "\n",
        "m = X.shape[1]\n",
        "n = len(y)\n",
        "w = np.zeros((4,1))\n",
        "\n",
        "w, mse, mae = coordinate_descent(X,y, w)\n",
        "\n",
        "print(f'Коэффициенты линейной регрессии: \\n {w}')\n",
        "print(f'MSE: {mse}')\n",
        "print(f'MAE: {mae}') "
      ]
    },
    {
      "cell_type": "markdown",
      "metadata": {
        "id": "a3jG-7UADUKx"
      },
      "source": [
        "Сравните результаты с реализацией линейной регрессии из библиотеки sklearn:"
      ]
    },
    {
      "cell_type": "code",
      "execution_count": 9,
      "metadata": {
        "id": "SBl-1Yb5DUKy"
      },
      "outputs": [
        {
          "name": "stdout",
          "output_type": "stream",
          "text": [
            "[[ 41.56217205 110.13144155  73.52860638  -0.55006384]]\n"
          ]
        }
      ],
      "source": [
        "from sklearn.linear_model import LinearRegression\n",
        " \n",
        "model = LinearRegression(fit_intercept=False)\n",
        "model.fit(X, y)\n",
        " \n",
        "print(model.coef_)"
      ]
    },
    {
      "cell_type": "markdown",
      "metadata": {
        "id": "hIl0AGLyDUKy"
      },
      "source": [
        "Если вы все сделали верно, они должны практически совпасть!"
      ]
    },
    {
      "cell_type": "markdown",
      "metadata": {},
      "source": [
        "Коэффициенты и метрики в обоих случаях совпадают"
      ]
    },
    {
      "cell_type": "markdown",
      "metadata": {
        "id": "VCGwFnPdDUKz"
      },
      "source": [
        "## Стохастический градиентный спуск (6 баллов)"
      ]
    },
    {
      "cell_type": "markdown",
      "metadata": {
        "id": "5u7Q2YJla_Xk"
      },
      "source": [
        "**Отмасштабируйте столбцы исходной матрицы *X* (которую мы не нормализовали еще!). Для того, чтобы это сделать, надо вычесть из каждого значения среднее и разделить на стандартное отклонение** (0.5 баллов)"
      ]
    },
    {
      "cell_type": "code",
      "execution_count": 10,
      "metadata": {
        "id": "9cEpV_5La_Xo"
      },
      "outputs": [],
      "source": [
        "#ваш код\n",
        "# вернём Х к исходному виду\n",
        "X = np.array(df[['TV', 'radio', 'newspaper']])\n",
        "\n",
        "# зарание вычислим стандартные отклонения столбцов для удобства\n",
        "std = np.array([df['TV'].std(), df['radio'].std(), df['newspaper'].std()])\n",
        "\n",
        "# масштабируем\n",
        "for i in range(X.shape[1]):\n",
        "    X[:,i] = (X[:,i] - X[:,i].mean())/std[i]"
      ]
    },
    {
      "cell_type": "markdown",
      "metadata": {
        "id": "8WkNYILHDUK1"
      },
      "source": [
        "**Добавим единичный столбец**"
      ]
    },
    {
      "cell_type": "code",
      "execution_count": 11,
      "metadata": {
        "id": "EVl5tEGtDUK1"
      },
      "outputs": [],
      "source": [
        "X = np.hstack([np.ones(X.shape[0]).reshape(-1, 1), X])"
      ]
    },
    {
      "cell_type": "markdown",
      "metadata": {
        "id": "m53tZA5fDUK1"
      },
      "source": [
        "**Создайте функцию mse_error для вычисления среднеквадратичной ошибки, принимающую два аргумента: реальные значения и предсказывающие, и возвращающую значение mse** (0.5 балла)"
      ]
    },
    {
      "cell_type": "code",
      "execution_count": 12,
      "metadata": {
        "id": "0cvtC08Aa_YK"
      },
      "outputs": [],
      "source": [
        "#ваш код\n",
        "def mse_error(y, y_hat):\n",
        "    # return np.sum((y-y_hat)**2)/m - не согласен с вашим кодом\n",
        "    # m = len(y) = X.shape[0]\n",
        "    return np.square(np.subtract(y, y_hat)).mean()"
      ]
    },
    {
      "cell_type": "markdown",
      "metadata": {
        "id": "lpOLhdvBDUK2"
      },
      "source": [
        "**Сделайте наивный прогноз: предскажите продажи средним значением. После этого рассчитайте среднеквадратичную ошибку для этого прогноза** (0.5 балла)"
      ]
    },
    {
      "cell_type": "code",
      "execution_count": 13,
      "metadata": {
        "id": "kLV_XljVa_YZ"
      },
      "outputs": [
        {
          "name": "stdout",
          "output_type": "stream",
          "text": [
            "27.085743750000002\n"
          ]
        }
      ],
      "source": [
        "#ваш код\n",
        "mean_value = np.ones(m) * y.mean()\n",
        "\n",
        "print(mse_error(y, mean_value))"
      ]
    },
    {
      "cell_type": "markdown",
      "metadata": {
        "id": "BbybL2ola_ZM"
      },
      "source": [
        "**Создайте функцию *lin_pred*, которая может по матрице предикторов *X* и вектору весов линейной модели *w* получить вектор прогнозов** (0.5 балла)"
      ]
    },
    {
      "cell_type": "code",
      "execution_count": 14,
      "metadata": {
        "id": "1Cyz-Luaa_ZO"
      },
      "outputs": [],
      "source": [
        "#ваш код\n",
        "def lin_pred(predictor, weights):\n",
        "    return predictor @ weights"
      ]
    },
    {
      "cell_type": "markdown",
      "metadata": {
        "id": "BU4adBrya_Zm"
      },
      "source": [
        "**Создайте функцию *stoch_grad_step* для реализации шага стохастического градиентного спуска. (1.5 балла) \n",
        "Функция должна принимать на вход следующие аргументы:**\n",
        "* матрицу *X*\n",
        "* вектора *y* и *w*\n",
        "* число *train_ind* - индекс объекта обучающей выборки (строки матрицы *X*), по которому считается изменение весов\n",
        "* число *$\\eta$* (eta) - шаг градиентного спуска\n",
        "\n",
        "Результатом будет вектор обновленных весов"
      ]
    },
    {
      "cell_type": "markdown",
      "metadata": {
        "id": "dyLY-P02DUK5"
      },
      "source": [
        "Шаг для стохастического градиентного спуска выглядит следующим образом:"
      ]
    },
    {
      "cell_type": "markdown",
      "metadata": {
        "id": "ORsAyIKNDUK5"
      },
      "source": [
        "$$\\Large w_j \\leftarrow w_j - \\frac{2\\eta}{\\ell} \\sum_{i=1}^\\ell{{x_{ij}((w_0 + w_1x_{i1} + w_2x_{i2} +  w_3x_{i3}) - y_i)}}$$"
      ]
    },
    {
      "cell_type": "markdown",
      "metadata": {
        "id": "CQl2FrpuDUK6"
      },
      "source": [
        "Для того, чтобы написать функцию, нужно сделать следующее:\n",
        "    \n",
        "*  посчитать направление изменения: умножить объект обучающей выборки на 2 и на разницу между предсказанным значением и реальным, а потом поделить на количество элементов в выборке.\n",
        "* вернуть разницу между вектором весов и направлением изменения, умноженным на шаг градиентного спуска"
      ]
    },
    {
      "cell_type": "code",
      "execution_count": 15,
      "metadata": {
        "id": "YUhVQGsja_Zn"
      },
      "outputs": [],
      "source": [
        "#ваш код\n",
        "def stoch_grad_step(X, y, w, train_ind, eta):\n",
        "    dx = (2 * X[train_ind,:] * (lin_pred(X[train_ind,:], w) - y[train_ind]))/m  # шаг 1\n",
        "    return w - dx * eta   # шаг 2"
      ]
    },
    {
      "cell_type": "markdown",
      "metadata": {
        "id": "pXwIFd0Ma_Zx"
      },
      "source": [
        "**Создайте функцию *stochastic_gradient_descent*, для реализации стохастического градиентного спуска (2.5 балла)**\n",
        "\n",
        "**Функция принимает на вход следующие аргументы:**\n",
        "- Матрицу признаков X\n",
        "- Целевую переменнную\n",
        "- Изначальную точку (веса модели)\n",
        "- Параметр, определяющий темп обучения\n",
        "- Максимальное число итераций\n",
        "- Евклидово расстояние между векторами весов на соседних итерациях градиентного спуска,при котором алгоритм прекращает работу \n",
        "\n",
        "**На каждой итерации в вектор (список) должно записываться текущее значение среднеквадратичной ошибки. Функция должна возвращать вектор весов $w$, а также вектор (список) ошибок.**"
      ]
    },
    {
      "cell_type": "markdown",
      "metadata": {
        "id": "ZVeoNF1JDUK7"
      },
      "source": [
        "Алгоритм сследующий:\n",
        "    \n",
        "* Инициализируйте расстояние между векторами весов на соседних итерациях большим числом (можно бесконечностью)\n",
        "* Создайте пустой список для фиксации ошибок\n",
        "* Создайте счетчик итераций\n",
        "* Реализуйте оновной цикл обучения пока расстояние между векторами весов больше того, при котором надо прекратить работу (когда расстояния станут слишком маленькими - значит, мы застряли в одном месте) и количество итераций меньше максимально разрешенного: сгенерируйте случайный индекс, запишите текущую ошибку в вектор ошибок, запишите в переменную текущий шаг стохастического спуска с использованием функции, написанной ранее. Далее рассчитайте текущее расстояние между векторами весов и прибавьте к счетчику итераций 1.\n",
        "* Верните вектор весов и вектор ошибок"
      ]
    },
    {
      "cell_type": "code",
      "execution_count": 16,
      "metadata": {},
      "outputs": [],
      "source": [
        "def stochastic_gradient_descent(X, y, w, eta, max_iter, end_point):\n",
        "    dist = 10000\n",
        "    error_list = []\n",
        "    i = 0\n",
        "    np.random.seed(42)\n",
        "    \n",
        "    while i < max_iter:\n",
        "        if dist < end_point: \n",
        "            return w, np.array(error_list)\n",
        "        index = np.random.randint(1,m)\n",
        "        w = stoch_grad_step(X, y, w, index, eta)\n",
        "        dist = np.linalg.norm(w)\n",
        "        error_list.append(mse_error(y, lin_pred(X, w)))\n",
        "        i += 1\n",
        "    \n",
        "    return w, np.array(error_list)"
      ]
    },
    {
      "cell_type": "markdown",
      "metadata": {
        "id": "0OqHO1Rta_Z7"
      },
      "source": [
        " **Запустите $10^5$ итераций стохастического градиентного спуска. Укажите вектор начальных весов, состоящий из нулей. Можете поэкспериментировать с параметром, отвечающим за темп обучения.**"
      ]
    },
    {
      "cell_type": "markdown",
      "metadata": {
        "id": "N6fHHT6vDUK8"
      },
      "source": [
        "**Постройте график зависимости ошибки от номера итерации**"
      ]
    },
    {
      "cell_type": "code",
      "execution_count": 17,
      "metadata": {
        "id": "zsSfHDzLDUK9"
      },
      "outputs": [],
      "source": [
        "# ваш код\n",
        "vect_w, error_list = stochastic_gradient_descent(X, y, np.zeros(4), 0.1, 100000, 0.01)"
      ]
    },
    {
      "cell_type": "code",
      "execution_count": 18,
      "metadata": {},
      "outputs": [],
      "source": [
        "import seaborn as sns \n",
        "import matplotlib.pyplot as plt"
      ]
    },
    {
      "cell_type": "code",
      "execution_count": 19,
      "metadata": {},
      "outputs": [
        {
          "data": {
            "image/png": "[encoded data removed]",
            "text/plain": [
              "<Figure size 640x480 with 1 Axes>"
            ]
          },
          "metadata": {},
          "output_type": "display_data"
        }
      ],
      "source": [
        "import seaborn as sns \n",
        "import matplotlib.pyplot as plt\n",
        "\n",
        "sns.lineplot(x=range(len(error_list)), y=error_list) \n",
        "plt.show()"
      ]
    },
    {
      "cell_type": "markdown",
      "metadata": {
        "id": "O-MVOcJ6a_aY"
      },
      "source": [
        "**Выведите вектор весов, к которому сошелся метод.**"
      ]
    },
    {
      "cell_type": "code",
      "execution_count": 20,
      "metadata": {
        "id": "MPjVkXe4DUK9"
      },
      "outputs": [
        {
          "data": {
            "text/plain": [
              "array([11.79192686,  6.70041053,  7.37048269, -2.0211569 ])"
            ]
          },
          "execution_count": 20,
          "metadata": {},
          "output_type": "execute_result"
        }
      ],
      "source": [
        "# ваш код\n",
        "vect_w"
      ]
    },
    {
      "cell_type": "markdown",
      "metadata": {
        "id": "qabzMc3Qa_a5"
      },
      "source": [
        "**Выведите среднеквадратичную ошибку на последней итерации.**"
      ]
    },
    {
      "cell_type": "code",
      "execution_count": 21,
      "metadata": {
        "id": "7tPWleMIa_a7"
      },
      "outputs": [
        {
          "data": {
            "text/plain": [
              "128.21168925301708"
            ]
          },
          "execution_count": 21,
          "metadata": {},
          "output_type": "execute_result"
        }
      ],
      "source": [
        "# ваш код\n",
        "error_list[-1]"
      ]
    },
    {
      "cell_type": "code",
      "execution_count": 22,
      "metadata": {},
      "outputs": [
        {
          "name": "stdout",
          "output_type": "stream",
          "text": [
            "Среднее масштабированного массива:: 0\n",
            "Стандартные отклонения масштабированного массива: 1\n"
          ]
        },
        {
          "data": {
            "text/plain": [
              "Text(0.5, 1.0, 'График зависимости ошибок (MSE/MAE) от номера итерации')"
            ]
          },
          "execution_count": 22,
          "metadata": {},
          "output_type": "execute_result"
        },
        {
          "data": {
            "image/png": "[encoded data removed]",
            "text/plain": [
              "<Figure size 500x500 with 1 Axes>"
            ]
          },
          "metadata": {},
          "output_type": "display_data"
        }
      ],
      "source": [
        "# Вернём изначальную (ненормализованную матрицу)\n",
        "X = np.array(df[['TV','radio','newspaper']])\n",
        "X = (X - X.mean(axis=0)) / X.std(axis=0) \n",
        "     \n",
        "print('Среднее масштабированного массива:: %.0f'%(abs(X.mean())))\n",
        "print('Стандартные отклонения масштабированного массива: %.0f'%(X.std()))\n",
        "\n",
        "X = np.hstack([np.ones(X.shape[0]).reshape(-1, 1), X])\n",
        "\n",
        "def mse_error(y_real, y_pred):\n",
        "    return np.square(np.subtract(y_real, y_pred)).mean()\n",
        "\n",
        "def mae_error(y_real, y_pred):\n",
        "    return np.mean(np.abs(y_real - y_pred))\n",
        "\n",
        "def lin_reg(X, y):\n",
        "    a = np.dot(X.T, X)\n",
        "    b = np.dot(X.T, y)\n",
        "    return np.linalg.solve(a, b)\n",
        "\n",
        "w = lin_reg(X, y).T\n",
        "\n",
        "def lin_pred(X,w):\n",
        "    res = np.zeros([len(X),1])\n",
        "    for i in range(len(X)):\n",
        "        res[i] = (np.dot(w,X[i]))\n",
        "    return res\n",
        "\n",
        "def stoch_grad_step(X, y, w, train_ind, eta=0.01):\n",
        "    w_new = 2 * eta * X[train_ind] * (np.dot(w, X[train_ind]) - y[train_ind]) / y[train_ind].size\n",
        "    return (w - w_new)\n",
        "\n",
        "def stochastic_gradient_descent(X, y, w, eta=0.1, max_iter=10000, min_distance=0.000001):\n",
        "    distance = np.inf\n",
        "    w_init = w \n",
        "    mse_errors = []\n",
        "    mae_errors = []\n",
        "    w_value = []\n",
        "    iter_count = 0\n",
        "    np.random.seed(42)\n",
        "    while distance > min_distance and iter_count < max_iter:\n",
        "        random_ind = np.random.randint(X.shape[0])\n",
        "        distance = np.linalg.norm(w-stoch_grad_step(X, y, w, random_ind, eta))\n",
        "        w_new = stoch_grad_step(X, y, w, random_ind, eta)\n",
        "        mse_errors.append(mse_error(y, lin_pred(X, w_new)))\n",
        "        mae_errors.append(mae_error(y, lin_pred(X, w_new)))\n",
        "        w_value.append(w)\n",
        "        w = w_new\n",
        "        iter_count += 1   \n",
        "    return w, w_value, mse_errors, mae_errors, iter_count\n",
        "\n",
        "w, w_value, mse_errors, mae_errors, iter_count = stochastic_gradient_descent(X, y, np.zeros(4), 0.01, 10000, 0.0001)\n",
        "\n",
        "import matplotlib.pyplot as plt\n",
        "\n",
        "fig = plt.figure(figsize=(5, 5))\n",
        "ax = fig.add_axes([0.3,0.3,1,1])\n",
        "ax.plot(mse_errors, c='k', linewidth=4)\n",
        "ax.plot(mae_errors, c='r', linewidth=4)\n",
        "ax.set_xlim(0,150)\n",
        "ax.hlines(np.array(mse_errors).min(),0,200, color='g', linestyle='--')\n",
        "ax.text(5, 5, f'MSE: {round(np.array(mse_errors).min(),3)}', fontsize = 16, color='g')\n",
        "ax.hlines(np.array(mae_errors).min(),0,200, color='b', linestyle='--')\n",
        "ax.text(5, -4.2, f'MAE: {round(np.array(mae_errors).min(),3)}', fontsize = 16, color='b')\n",
        "ax.text(5, 15, f'MAE', fontsize = 22, color='r')\n",
        "ax.text(5.5, 190, f'MSE', fontsize = 22, color='k')\n",
        "ax.set_title('График зависимости ошибок (MSE/MAE) от номера итерации',fontsize = 18)"
      ]
    }
  ],
  "metadata": {
    "colab": {
      "collapsed_sections": [],
      "name": "Практика_Оптимизация.ipynb",
      "provenance": [],
      "toc_visible": true
    },
    "kernelspec": {
      "display_name": "Python 3.10.8 ('base')",
      "language": "python",
      "name": "python3"
    },
    "language_info": {
      "codemirror_mode": {
        "name": "ipython",
        "version": 3
      },
      "file_extension": ".py",
      "mimetype": "text/x-python",
      "name": "python",
      "nbconvert_exporter": "python",
      "pygments_lexer": "ipython3",
      "version": "3.11.9"
    },
    "vscode": {
      "interpreter": {
        "hash": "86c56a74836ad344b00594bf6f38fa6a676a207ceefe20d101fbc465800ccb8d"
      }
    }
  },
  "nbformat": 4,
  "nbformat_minor": 0
}
