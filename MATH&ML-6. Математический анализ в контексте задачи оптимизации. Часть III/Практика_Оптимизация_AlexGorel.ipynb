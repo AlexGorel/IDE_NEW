{
  "cells": [
    {
      "cell_type": "markdown",
      "metadata": {
        "id": "NyHIGVhfa_Wf"
      },
      "source": [
        "# Стохастический градиентный и координатный спуски"
      ]
    },
    {
      "cell_type": "markdown",
      "metadata": {
        "id": "gn6lluIADUKa"
      },
      "source": [
        "Для каждого задания указано количество баллов (если они оцениваются отдельно) + 1 балл за аккуратное и полное выполнение всего задания"
      ]
    },
    {
      "cell_type": "markdown",
      "metadata": {
        "id": "txCccYvha_Wv"
      },
      "source": [
        "## Загрузка и подготовка данных"
      ]
    },
    {
      "cell_type": "markdown",
      "metadata": {
        "id": "NbyOzeZ6a_Wx"
      },
      "source": [
        "**Загрузите уже знакомый вам файл *Advertising.csv* как объект DataFrame.** "
      ]
    },
    {
      "cell_type": "code",
      "execution_count": 23,
      "metadata": {},
      "outputs": [],
      "source": [
        "import numpy as np\n",
        "import pandas as pd\n",
        "from sklearn.linear_model import LinearRegression, SGDRegressor\n",
        "from sklearn import metrics\n",
        "import seaborn as sns\n",
        "import warnings\n",
        "warnings.filterwarnings('ignore')\n",
        "warnings.simplefilter('ignore')"
      ]
    },
    {
      "cell_type": "code",
      "execution_count": 24,
      "metadata": {
        "id": "E1L4_xeDa_Wz"
      },
      "outputs": [
        {
          "data": {
            "text/html": [
              "<div>\n",
              "<style scoped>\n",
              "    .dataframe tbody tr th:only-of-type {\n",
              "        vertical-align: middle;\n",
              "    }\n",
              "\n",
              "    .dataframe tbody tr th {\n",
              "        vertical-align: top;\n",
              "    }\n",
              "\n",
              "    .dataframe thead th {\n",
              "        text-align: right;\n",
              "    }\n",
              "</style>\n",
              "<table border=\"1\" class=\"dataframe\">\n",
              "  <thead>\n",
              "    <tr style=\"text-align: right;\">\n",
              "      <th></th>\n",
              "      <th>Unnamed: 0</th>\n",
              "      <th>TV</th>\n",
              "      <th>radio</th>\n",
              "      <th>newspaper</th>\n",
              "      <th>sales</th>\n",
              "    </tr>\n",
              "  </thead>\n",
              "  <tbody>\n",
              "    <tr>\n",
              "      <th>0</th>\n",
              "      <td>1</td>\n",
              "      <td>230.1</td>\n",
              "      <td>37.8</td>\n",
              "      <td>69.2</td>\n",
              "      <td>22.1</td>\n",
              "    </tr>\n",
              "    <tr>\n",
              "      <th>1</th>\n",
              "      <td>2</td>\n",
              "      <td>44.5</td>\n",
              "      <td>39.3</td>\n",
              "      <td>45.1</td>\n",
              "      <td>10.4</td>\n",
              "    </tr>\n",
              "    <tr>\n",
              "      <th>2</th>\n",
              "      <td>3</td>\n",
              "      <td>17.2</td>\n",
              "      <td>45.9</td>\n",
              "      <td>69.3</td>\n",
              "      <td>9.3</td>\n",
              "    </tr>\n",
              "    <tr>\n",
              "      <th>3</th>\n",
              "      <td>4</td>\n",
              "      <td>151.5</td>\n",
              "      <td>41.3</td>\n",
              "      <td>58.5</td>\n",
              "      <td>18.5</td>\n",
              "    </tr>\n",
              "    <tr>\n",
              "      <th>4</th>\n",
              "      <td>5</td>\n",
              "      <td>180.8</td>\n",
              "      <td>10.8</td>\n",
              "      <td>58.4</td>\n",
              "      <td>12.9</td>\n",
              "    </tr>\n",
              "  </tbody>\n",
              "</table>\n",
              "</div>"
            ],
            "text/plain": [
              "   Unnamed: 0     TV  radio  newspaper  sales\n",
              "0           1  230.1   37.8       69.2   22.1\n",
              "1           2   44.5   39.3       45.1   10.4\n",
              "2           3   17.2   45.9       69.3    9.3\n",
              "3           4  151.5   41.3       58.5   18.5\n",
              "4           5  180.8   10.8       58.4   12.9"
            ]
          },
          "execution_count": 24,
          "metadata": {},
          "output_type": "execute_result"
        }
      ],
      "source": [
        "#ваш код \n",
        "df = pd.read_csv('C:\\скил\\DST-156\\IDE_NEW\\MATH&ML-6. Математический анализ в контексте задачи оптимизации. Часть III/Advertising.zip')\n",
        "df.head()\n"
      ]
    },
    {
      "cell_type": "markdown",
      "metadata": {
        "id": "bf4aVFndDUKf"
      },
      "source": [
        "**Проверьте, есть ли в данных пропуски и, если они есть - удалите их**"
      ]
    },
    {
      "cell_type": "code",
      "execution_count": 25,
      "metadata": {
        "id": "tiVeFnR5DUKg"
      },
      "outputs": [
        {
          "data": {
            "text/plain": [
              "Unnamed: 0    0\n",
              "TV            0\n",
              "radio         0\n",
              "newspaper     0\n",
              "sales         0\n",
              "dtype: int64"
            ]
          },
          "execution_count": 25,
          "metadata": {},
          "output_type": "execute_result"
        }
      ],
      "source": [
        "#ваш код \n",
        "df.isnull().sum()"
      ]
    },
    {
      "cell_type": "code",
      "execution_count": 26,
      "metadata": {},
      "outputs": [],
      "source": [
        "#ваш код = ПРОПУСКОВ НЕТ"
      ]
    },
    {
      "cell_type": "markdown",
      "metadata": {
        "id": "rTkiqPr_DUKh"
      },
      "source": [
        "**Преобразуйте ваши признаки в массивы NumPy и разделите их на переменные X (предикторы) и y(целевая переменная)** "
      ]
    },
    {
      "cell_type": "code",
      "execution_count": 27,
      "metadata": {
        "id": "R9OHIRB3a_Xa"
      },
      "outputs": [],
      "source": [
        "#ваш код \n",
        "# признак unnamed:0 игнорируем, он дублирует индексы со сдвигом на 1\n",
        "\n",
        "X = df[['TV', 'radio', 'newspaper']].values\n",
        "y = df['sales'].values"
      ]
    },
    {
      "cell_type": "markdown",
      "metadata": {
        "id": "KCvjSoHEDUKo"
      },
      "source": [
        "## Координатный спуск (3 балла)"
      ]
    },
    {
      "cell_type": "markdown",
      "metadata": {
        "id": "yjNm8dATDUKq"
      },
      "source": [
        "**Добавим единичный столбец для того, чтобы у нас был свободный коэффициент в уравнении регрессии:**"
      ]
    },
    {
      "cell_type": "code",
      "execution_count": 28,
      "metadata": {
        "id": "LMgq0fmKDUKr"
      },
      "outputs": [
        {
          "name": "stdout",
          "output_type": "stream",
          "text": [
            "(200, 4) (200, 1)\n"
          ]
        }
      ],
      "source": [
        "import numpy as np\n",
        "\n",
        "X = np.hstack([np.ones(X.shape[0]).reshape(-1, 1), X])# добавляем в матрицу наблюдений единичный столбец\n",
        "y = y.reshape(-1, 1)# преобразуем вектор y в массив\n",
        "print(X.shape, y.shape)# проверим размерность данных"
      ]
    },
    {
      "cell_type": "markdown",
      "metadata": {
        "id": "R008OQwcDUKt"
      },
      "source": [
        "**Нормализуем данные: обычно это необходимо для корректной работы алгоритма**"
      ]
    },
    {
      "cell_type": "code",
      "execution_count": 29,
      "metadata": {
        "id": "2Sk7Wx-SDUKt"
      },
      "outputs": [],
      "source": [
        "X = X / np.sqrt(np.sum(np.square(X), axis=0))"
      ]
    },
    {
      "cell_type": "markdown",
      "metadata": {
        "id": "F_pHHbAdDUKu"
      },
      "source": [
        "**Реализуйте алгоритм координатного спуска:** (3 балла)\n",
        "\n",
        "Ниже приведен алгоритм координатного спуска для случая нормализованных данных:"
      ]
    },
    {
      "cell_type": "markdown",
      "metadata": {},
      "source": [
        "**Задано:**\n",
        "\n",
        "* $X=(x_{ij})$ - матрица наблюдений, размерностью $dim(X)=(m, n)$\n",
        "* $N=1000$ - количество итераций\n",
        "\n",
        "**Примечание:** *1000 итераций здесь указаны для этого задания, на самом деле их может быть намного больше, нет детерменированного значения.*\n",
        "\n",
        "**Алгоритм (математическая запись):**\n",
        "* Создать нулевой вектор параметров $w_0=(0, 0,..., 0)^T$\n",
        "* Для всех $t=1, 2, ..., N$ итераций:\n",
        "    * Для всех $k = 1, 2,..., n$:\n",
        "        * Фиксируем значение всех признаков, кроме $k$-ого и вычисляем прогноз модели линейной регрессии.Для этого исключаем признак $k$-ый из данных и $w_j$ из параметров при построении прогноза.\n",
        "        Математически это можно записать следующим образом:\n",
        "\n",
        "        $$h_i = \\sum_{j=1}^{k-1} x_{ij}w_{j} + \\sum_{j=k+1}^{n} x_{ij}w_j $$\n",
        "\n",
        "        **Примечание:**\n",
        "        \n",
        "        *Обратите, что в данной записи текущий признак под номером $k$ не участвует в сумме.Сравните эту запись с классической записью прогноза линейной регрессии в случае нормированных данных (когда участвуют все признаки):*\n",
        "\n",
        "        $$h_i = \\sum_{j=1}^{n} x_{ij}w_{j}$$ \n",
        "        \n",
        "        * Вычисляем новое значение параметра $k$-ого коэффициента: \n",
        "        $$w_k = \\sum_{i=1}^{m} x_{ik} (y_i - h_i) = x_k^T(y-h) $$\n",
        "\n",
        "    * Вычисляем значение функции потерь и сохраняем в историю изменения функции потерь (В оценке функции потерь участвуют все признаки):\n",
        "        $$\\hat{y_i} = \\sum_{j=1}^{n}x_{ij}w_j$$\n",
        "        $$Loss_t = \\frac{1}{n} \\sum_{i=1}^{m}(y_i-\\hat{y_i})^2$$\n",
        "        \n",
        "        или в векторном виде:\n",
        "        \n",
        "        $$\\hat{y} = Xw$$\n",
        "        $$Loss_t = \\frac{1}{n}(y-\\hat{y})^T(y-\\hat{y})$$\n",
        "    \n",
        "\n"
      ]
    },
    {
      "cell_type": "markdown",
      "metadata": {},
      "source": [
        "**Алгоритм (псевдокод):**\n",
        "```python\n",
        "\n",
        "num_iters = #количество итераций\n",
        "m = # количество строк в матрице X\n",
        "n = # количество столбцов в матрице X\n",
        "w = #вектор размера nx1, состояющий из нулей\n",
        "\n",
        "for i in range(num_iters):\n",
        "    for k in range(n):\n",
        "        # Вычисляем прогноз без k-ого фактора\n",
        "        h = (X[:,0:k] @ w[0:k]) + (X[:,k+1:] @ w[k+1:])\n",
        "        # Обновляем новое значение k-ого коэффициента\n",
        "        w[k] =  (X[:,k].T @ (y - h))\n",
        "        # Вычисляем функцию потерь\n",
        "        cost = sum((X @ w) - y) ** 2)/(len(y))\n",
        "\n",
        "```"
      ]
    },
    {
      "cell_type": "markdown",
      "metadata": {
        "id": "y3IdiHm9DUKv"
      },
      "source": [
        "Вам необходимо реализовать координатный спуск, и вывести веса в модели линейной регрессии."
      ]
    },
    {
      "cell_type": "code",
      "execution_count": 30,
      "metadata": {},
      "outputs": [
        {
          "name": "stdout",
          "output_type": "stream",
          "text": [
            "Коэффициенты линейной регрессии: \n",
            " [[ 41.56217205]\n",
            " [110.13144155]\n",
            " [ 73.52860638]\n",
            " [ -0.55006384]]\n",
            "MSE: [2.78412631]\n",
            "MAE: [1.25201123]\n"
          ]
        }
      ],
      "source": [
        "# ваш код\n",
        "# задаем функцию для решения задания\n",
        "def coordinate_descent(X,y, w, num_iters = 1000):\n",
        "    mse = []\n",
        "    mae = []\n",
        "    for i in range(num_iters):\n",
        "        for k in range(m):\n",
        "            h = (X[:,0:k] @ w[0:k]) + (X[:,k+1:] @ w[k+1:])     # Вычисляем прогноз\n",
        "            w[k] =  (X[:,k].T @ (y - h))                        # Обновляем k-й коэффициент\n",
        "            mse = sum((y - (X @ w)) ** 2)/(len(y))              # Вычисляем MSE\n",
        "            mae = sum(abs(y - (X @ w)))/(len(y))                # Вычисляем MAE\n",
        "    return w, mse, mae\n",
        "\n",
        "m = X.shape[1]\n",
        "n = len(y)\n",
        "w = np.zeros((4,1))\n",
        "\n",
        "w, mse, mae = coordinate_descent(X,y, w)\n",
        "\n",
        "print(f'Коэффициенты линейной регрессии: \\n {w}')\n",
        "print(f'MSE: {mse}')\n",
        "print(f'MAE: {mae}') "
      ]
    },
    {
      "cell_type": "markdown",
      "metadata": {
        "id": "a3jG-7UADUKx"
      },
      "source": [
        "Сравните результаты с реализацией линейной регрессии из библиотеки sklearn:"
      ]
    },
    {
      "cell_type": "code",
      "execution_count": 31,
      "metadata": {
        "id": "SBl-1Yb5DUKy"
      },
      "outputs": [
        {
          "name": "stdout",
          "output_type": "stream",
          "text": [
            "[[ 41.56217205 110.13144155  73.52860638  -0.55006384]]\n"
          ]
        }
      ],
      "source": [
        "from sklearn.linear_model import LinearRegression\n",
        " \n",
        "model = LinearRegression(fit_intercept=False)\n",
        "model.fit(X, y)\n",
        " \n",
        "print(model.coef_)"
      ]
    },
    {
      "cell_type": "markdown",
      "metadata": {
        "id": "hIl0AGLyDUKy"
      },
      "source": [
        "Если вы все сделали верно, они должны практически совпасть!"
      ]
    },
    {
      "cell_type": "markdown",
      "metadata": {},
      "source": [
        "Коэффициенты и метрики в обоих случаях совпадают"
      ]
    },
    {
      "cell_type": "markdown",
      "metadata": {
        "id": "VCGwFnPdDUKz"
      },
      "source": [
        "## Стохастический градиентный спуск (6 баллов)"
      ]
    },
    {
      "cell_type": "markdown",
      "metadata": {
        "id": "5u7Q2YJla_Xk"
      },
      "source": [
        "**Отмасштабируйте столбцы исходной матрицы *X* (которую мы не нормализовали еще!). Для того, чтобы это сделать, надо вычесть из каждого значения среднее и разделить на стандартное отклонение** (0.5 баллов)"
      ]
    },
    {
      "cell_type": "code",
      "execution_count": 32,
      "metadata": {
        "id": "9cEpV_5La_Xo"
      },
      "outputs": [
        {
          "name": "stdout",
          "output_type": "stream",
          "text": [
            "Среднее масштабированного массива:: 0\n",
            "Стандартные отклонения масштабированного массива: 1\n"
          ]
        }
      ],
      "source": [
        "# Вернём изначальную (ненормализованную матрицу)\n",
        "X = np.array(df[['TV','radio','newspaper']])\n",
        "X = (X - X.mean(axis=0)) / X.std(axis=0) \n",
        "     \n",
        "print('Среднее масштабированного массива:: %.0f'%(abs(X.mean())))\n",
        "print('Стандартные отклонения масштабированного массива: %.0f'%(X.std()))"
      ]
    },
    {
      "cell_type": "markdown",
      "metadata": {
        "id": "8WkNYILHDUK1"
      },
      "source": [
        "**Добавим единичный столбец**"
      ]
    },
    {
      "cell_type": "code",
      "execution_count": 33,
      "metadata": {
        "id": "EVl5tEGtDUK1"
      },
      "outputs": [],
      "source": [
        "X = np.hstack([np.ones(X.shape[0]).reshape(-1, 1), X])"
      ]
    },
    {
      "cell_type": "markdown",
      "metadata": {
        "id": "m53tZA5fDUK1"
      },
      "source": [
        "**Создайте функцию mse_error для вычисления среднеквадратичной ошибки, принимающую два аргумента: реальные значения и предсказывающие, и возвращающую значение mse** (0.5 балла)"
      ]
    },
    {
      "cell_type": "code",
      "execution_count": 34,
      "metadata": {
        "id": "0cvtC08Aa_YK"
      },
      "outputs": [],
      "source": [
        "def mse_error(y_real, y_pred):\n",
        "    return np.square(np.subtract(y_real, y_pred)).mean()"
      ]
    },
    {
      "cell_type": "markdown",
      "metadata": {
        "id": "lpOLhdvBDUK2"
      },
      "source": [
        "**Сделайте наивный прогноз: предскажите продажи средним значением. После этого рассчитайте среднеквадратичную ошибку для этого прогноза** (0.5 балла)"
      ]
    },
    {
      "cell_type": "code",
      "execution_count": 35,
      "metadata": {
        "id": "kLV_XljVa_YZ"
      },
      "outputs": [],
      "source": [
        "#ваш код\n",
        "def mae_error(y_real, y_pred):\n",
        "    return np.mean(np.abs(y_real - y_pred))"
      ]
    },
    {
      "cell_type": "markdown",
      "metadata": {
        "id": "BbybL2ola_ZM"
      },
      "source": [
        "**Создайте функцию *lin_pred*, которая может по матрице предикторов *X* и вектору весов линейной модели *w* получить вектор прогнозов** (0.5 балла)"
      ]
    },
    {
      "cell_type": "code",
      "execution_count": 36,
      "metadata": {
        "id": "1Cyz-Luaa_ZO"
      },
      "outputs": [],
      "source": [
        "#ваш код\n",
        "def lin_reg(X, y):\n",
        "    a = np.dot(X.T, X)\n",
        "    b = np.dot(X.T, y)\n",
        "    return np.linalg.solve(a, b)\n",
        "\n",
        "w = lin_reg(X, y).T\n",
        "\n",
        "def lin_pred(X,w):\n",
        "    res = np.zeros([len(X),1])\n",
        "    for i in range(len(X)):\n",
        "        res[i] = (np.dot(w,X[i]))\n",
        "    return res"
      ]
    },
    {
      "cell_type": "markdown",
      "metadata": {
        "id": "BU4adBrya_Zm"
      },
      "source": [
        "**Создайте функцию *stoch_grad_step* для реализации шага стохастического градиентного спуска. (1.5 балла) \n",
        "Функция должна принимать на вход следующие аргументы:**\n",
        "* матрицу *X*\n",
        "* вектора *y* и *w*\n",
        "* число *train_ind* - индекс объекта обучающей выборки (строки матрицы *X*), по которому считается изменение весов\n",
        "* число *$\\eta$* (eta) - шаг градиентного спуска\n",
        "\n",
        "Результатом будет вектор обновленных весов"
      ]
    },
    {
      "cell_type": "markdown",
      "metadata": {
        "id": "dyLY-P02DUK5"
      },
      "source": [
        "Шаг для стохастического градиентного спуска выглядит следующим образом:"
      ]
    },
    {
      "cell_type": "markdown",
      "metadata": {
        "id": "ORsAyIKNDUK5"
      },
      "source": [
        "$$\\Large w_j \\leftarrow w_j - \\frac{2\\eta}{\\ell} \\sum_{i=1}^\\ell{{x_{ij}((w_0 + w_1x_{i1} + w_2x_{i2} +  w_3x_{i3}) - y_i)}}$$"
      ]
    },
    {
      "cell_type": "markdown",
      "metadata": {
        "id": "CQl2FrpuDUK6"
      },
      "source": [
        "Для того, чтобы написать функцию, нужно сделать следующее:\n",
        "    \n",
        "*  посчитать направление изменения: умножить объект обучающей выборки на 2 и на разницу между предсказанным значением и реальным, а потом поделить на количество элементов в выборке.\n",
        "* вернуть разницу между вектором весов и направлением изменения, умноженным на шаг градиентного спуска"
      ]
    },
    {
      "cell_type": "code",
      "execution_count": 37,
      "metadata": {
        "id": "YUhVQGsja_Zn"
      },
      "outputs": [],
      "source": [
        "#ваш код\n",
        "def stoch_grad_step(X, y, w, train_ind, eta=0.01):\n",
        "    w_new = 2 * eta * X[train_ind] * (np.dot(w, X[train_ind]) - y[train_ind]) / y[train_ind].size\n",
        "    return (w - w_new)"
      ]
    },
    {
      "cell_type": "markdown",
      "metadata": {
        "id": "pXwIFd0Ma_Zx"
      },
      "source": [
        "**Создайте функцию *stochastic_gradient_descent*, для реализации стохастического градиентного спуска (2.5 балла)**\n",
        "\n",
        "**Функция принимает на вход следующие аргументы:**\n",
        "- Матрицу признаков X\n",
        "- Целевую переменнную\n",
        "- Изначальную точку (веса модели)\n",
        "- Параметр, определяющий темп обучения\n",
        "- Максимальное число итераций\n",
        "- Евклидово расстояние между векторами весов на соседних итерациях градиентного спуска,при котором алгоритм прекращает работу \n",
        "\n",
        "**На каждой итерации в вектор (список) должно записываться текущее значение среднеквадратичной ошибки. Функция должна возвращать вектор весов $w$, а также вектор (список) ошибок.**"
      ]
    },
    {
      "cell_type": "markdown",
      "metadata": {
        "id": "ZVeoNF1JDUK7"
      },
      "source": [
        "Алгоритм сследующий:\n",
        "    \n",
        "* Инициализируйте расстояние между векторами весов на соседних итерациях большим числом (можно бесконечностью)\n",
        "* Создайте пустой список для фиксации ошибок\n",
        "* Создайте счетчик итераций\n",
        "* Реализуйте оновной цикл обучения пока расстояние между векторами весов больше того, при котором надо прекратить работу (когда расстояния станут слишком маленькими - значит, мы застряли в одном месте) и количество итераций меньше максимально разрешенного: сгенерируйте случайный индекс, запишите текущую ошибку в вектор ошибок, запишите в переменную текущий шаг стохастического спуска с использованием функции, написанной ранее. Далее рассчитайте текущее расстояние между векторами весов и прибавьте к счетчику итераций 1.\n",
        "* Верните вектор весов и вектор ошибок"
      ]
    },
    {
      "cell_type": "code",
      "execution_count": 38,
      "metadata": {},
      "outputs": [],
      "source": [
        "def stochastic_gradient_descent(X, y, w, eta=0.1, max_iter=10000, min_distance=0.000001):\n",
        "    distance = np.inf\n",
        "    w_init = w \n",
        "    mse_errors = []\n",
        "    mae_errors = []\n",
        "    w_value = []\n",
        "    iter_count = 0\n",
        "    np.random.seed(42)\n",
        "    while distance > min_distance and iter_count < max_iter:\n",
        "        random_ind = np.random.randint(X.shape[0])\n",
        "        distance = np.linalg.norm(w-stoch_grad_step(X, y, w, random_ind, eta))\n",
        "        w_new = stoch_grad_step(X, y, w, random_ind, eta)\n",
        "        mse_errors.append(mse_error(y, lin_pred(X, w_new)))\n",
        "        mae_errors.append(mae_error(y, lin_pred(X, w_new)))\n",
        "        w_value.append(w)\n",
        "        w = w_new\n",
        "        iter_count += 1   \n",
        "    return w, w_value, mse_errors, mae_errors, iter_count"
      ]
    },
    {
      "cell_type": "markdown",
      "metadata": {
        "id": "0OqHO1Rta_Z7"
      },
      "source": [
        " **Запустите $10^5$ итераций стохастического градиентного спуска. Укажите вектор начальных весов, состоящий из нулей. Можете поэкспериментировать с параметром, отвечающим за темп обучения.**"
      ]
    },
    {
      "cell_type": "markdown",
      "metadata": {
        "id": "N6fHHT6vDUK8"
      },
      "source": [
        "**Постройте график зависимости ошибки от номера итерации**"
      ]
    },
    {
      "cell_type": "code",
      "execution_count": 39,
      "metadata": {
        "id": "zsSfHDzLDUK9"
      },
      "outputs": [],
      "source": [
        "# ваш код\n",
        "w, w_value, mse_errors, mae_errors, iter_count = stochastic_gradient_descent(X, y, np.zeros(4), 0.01, 10000, 0.0001)"
      ]
    },
    {
      "cell_type": "code",
      "execution_count": 40,
      "metadata": {},
      "outputs": [],
      "source": [
        "import seaborn as sns \n",
        "import matplotlib.pyplot as plt"
      ]
    },
    {
      "cell_type": "code",
      "execution_count": 41,
      "metadata": {},
      "outputs": [
        {
          "data": {
            "text/plain": [
              "Text(0.5, 1.0, 'График зависимости ошибок (MSE/MAE) от номера итерации')"
            ]
          },
          "execution_count": 41,
          "metadata": {},
          "output_type": "execute_result"
        },
        {
          "data": {
            "image/png": "[encoded data removed]",
            "text/plain": [
              "<Figure size 500x500 with 1 Axes>"
            ]
          },
          "metadata": {},
          "output_type": "display_data"
        }
      ],
      "source": [
        "fig = plt.figure(figsize=(5, 5))\n",
        "ax = fig.add_axes([0.3,0.3,1,1])\n",
        "ax.plot(mse_errors, c='k', linewidth=4)\n",
        "ax.plot(mae_errors, c='r', linewidth=4)\n",
        "ax.set_xlim(0,150)\n",
        "ax.hlines(np.array(mse_errors).min(),0,200, color='g', linestyle='--')\n",
        "ax.text(5, 5, f'MSE: {round(np.array(mse_errors).min(),3)}', fontsize = 16, color='g')\n",
        "ax.hlines(np.array(mae_errors).min(),0,200, color='b', linestyle='--')\n",
        "ax.text(5, -4.2, f'MAE: {round(np.array(mae_errors).min(),3)}', fontsize = 16, color='b')\n",
        "ax.text(5, 15, f'MAE', fontsize = 22, color='r')\n",
        "ax.text(5.5, 190, f'MSE', fontsize = 22, color='k')\n",
        "ax.set_title('График зависимости ошибок (MSE/MAE) от номера итерации',fontsize = 18)"
      ]
    },
    {
      "cell_type": "markdown",
      "metadata": {
        "id": "O-MVOcJ6a_aY"
      },
      "source": [
        "**Выведите вектор весов, к которому сошелся метод.**"
      ]
    },
    {
      "cell_type": "code",
      "execution_count": 44,
      "metadata": {
        "id": "MPjVkXe4DUK9"
      },
      "outputs": [
        {
          "data": {
            "text/plain": [
              "[array([0., 0., 0., 0.]),\n",
              " array([ 0.296     ,  0.4602397 , -0.26310852, -0.12472707]),\n",
              " array([ 0.53388492,  0.51178785, -0.47616599, -0.26657692]),\n",
              " array([ 0.91632559,  0.82732396, -0.21183403,  0.23419891]),\n",
              " array([1.26640122, 1.06056305, 0.01594513, 0.48310527]),\n",
              " array([ 1.41594475,  0.84745225, -0.10789321,  0.47722654]),\n",
              " array([ 1.64118698,  0.74949978, -0.24422809,  0.48910862]),\n",
              " array([ 1.91104428,  1.18736747, -0.41485633,  0.15552766]),\n",
              " array([ 2.21225041,  1.43834229, -0.3246347 ,  0.47228892]),\n",
              " array([ 2.41748586,  1.75745548, -0.50706442,  0.38580779]),\n",
              " array([ 2.55365089,  1.55355217, -0.52144438,  0.51020099]),\n",
              " array([ 2.82764164,  1.76585346, -0.49672727,  0.29006606]),\n",
              " array([ 3.10898751,  1.64645958, -0.16738705,  0.71285985]),\n",
              " array([ 3.29504819,  1.62942091, -0.28000608,  0.67043028]),\n",
              " array([3.57515316, 1.59068703, 0.06868661, 0.86829761]),\n",
              " array([ 3.79315006,  1.69469075, -0.02057503,  0.74131734]),\n",
              " array([ 3.94679665,  1.64796758, -0.17478552,  0.8696573 ]),\n",
              " array([ 3.97753557,  1.59544019, -0.1408785 ,  0.83873458]),\n",
              " array([ 4.14628583,  1.39377673, -0.11198175,  0.76141309]),\n",
              " array([4.48923124, 1.67152102, 0.31493877, 0.90421686]),\n",
              " array([4.62854616, 1.50470866, 0.46579005, 0.99749917]),\n",
              " array([4.82786131, 1.4201259 , 0.69910606, 1.29702092]),\n",
              " array([4.96059406, 1.42439976, 0.50225177, 1.25880943]),\n",
              " array([5.14416675, 1.26932957, 0.82622008, 1.38679591]),\n",
              " array([5.25775484, 1.15334984, 0.73982664, 1.45239475]),\n",
              " array([5.41515454, 1.02185923, 0.60735691, 1.27449136]),\n",
              " array([5.65237423, 1.14389786, 0.69443031, 1.13958997]),\n",
              " array([5.85213513, 1.3103452 , 0.75426559, 1.34966708]),\n",
              " array([6.02038077, 1.36035859, 0.69559974, 1.3507978 ]),\n",
              " array([6.18858853, 1.33906238, 0.64944088, 1.24275326]),\n",
              " array([6.31056145, 1.46775521, 0.49984135, 1.20314763]),\n",
              " array([6.41351753, 1.39713465, 0.51538594, 1.40620575]),\n",
              " array([6.53524276, 1.51106816, 0.45403693, 1.5146059 ]),\n",
              " array([6.83192577, 1.73194526, 0.98162848, 1.6121978 ]),\n",
              " array([6.99240882, 1.98915771, 0.84439647, 1.43376433]),\n",
              " array([7.18820217, 2.08988439, 0.916264  , 1.32242115]),\n",
              " array([7.36586177, 2.20825071, 1.03185947, 1.44873845]),\n",
              " array([7.4438307 , 2.09140338, 0.97308392, 1.42306237]),\n",
              " array([7.51568276, 1.98372303, 0.91891946, 1.39940066]),\n",
              " array([7.60759533, 2.06460061, 0.79563823, 1.32555449]),\n",
              " array([7.67205125, 1.96800441, 0.74704923, 1.30432841]),\n",
              " array([7.73784706, 2.00853745, 0.65746527, 1.31658253]),\n",
              " array([7.81296255, 1.9588555 , 0.54099036, 1.29115459]),\n",
              " array([8.02116831, 2.24004122, 0.61881984, 1.15070936]),\n",
              " array([8.18211662, 2.15670508, 0.68767825, 0.98657607]),\n",
              " array([8.12886128, 2.24770906, 0.62893415, 1.04014983]),\n",
              " array([8.17984235, 2.27911558, 0.55952113, 1.04964479]),\n",
              " array([8.24541531, 2.19478085, 0.62742464, 1.15542912]),\n",
              " array([8.37587106, 2.30348085, 0.66650064, 1.29262197]),\n",
              " array([8.45366738, 2.19425039, 0.71764467, 1.25232021]),\n",
              " array([8.50720129, 2.11352226, 0.76946645, 1.2302552 ]),\n",
              " array([8.71317068, 2.43666272, 0.99666405, 1.46961617]),\n",
              " array([8.73623952, 2.46849103, 0.96494325, 1.48283259]),\n",
              " array([8.79197393, 2.43026119, 0.97335819, 1.5927564 ]),\n",
              " array([8.97097379, 2.56331551, 1.0487309 , 1.41763007]),\n",
              " array([9.0678764 , 2.50725719, 0.94623807, 1.31345715]),\n",
              " array([9.12636427, 2.41270708, 0.86265488, 1.23388883]),\n",
              " array([9.24655707, 2.36043811, 1.06178527, 1.34922334]),\n",
              " array([9.43772054, 2.51525739, 1.29975785, 1.42882453]),\n",
              " array([9.49759865, 2.45411852, 1.25421544, 1.46340504]),\n",
              " array([9.58195152, 2.37665738, 1.37517157, 1.48299823]),\n",
              " array([9.6391317 , 2.29757498, 1.29114056, 1.48943637]),\n",
              " array([9.66277856, 2.31932161, 1.26708757, 1.51767879]),\n",
              " array([9.79961879, 2.38971962, 1.31731588, 1.43986089]),\n",
              " array([9.95683193, 2.64040623, 1.51620959, 1.69782408]),\n",
              " array([10.0154393 ,  2.65235329,  1.50685435,  1.74327128]),\n",
              " array([10.13363314,  2.61530701,  1.47761244,  1.64014869]),\n",
              " array([10.18092747,  2.6569232 ,  1.41417713,  1.60215057]),\n",
              " array([10.27507459,  2.60048011,  1.27518443,  1.50180663]),\n",
              " array([10.35396997,  2.53540059,  1.29348902,  1.4718306 ]),\n",
              " array([10.5048751 ,  2.56440036,  1.43141615,  1.31099281]),\n",
              " array([10.55158925,  2.52068459,  1.39493975,  1.32442382]),\n",
              " array([10.6373584 ,  2.56160402,  1.35982047,  1.27446444]),\n",
              " array([10.63071908,  2.55244369,  1.36894986,  1.2706607 ]),\n",
              " array([10.64056707,  2.54065194,  1.37961334,  1.2772547 ]),\n",
              " array([10.74041053,  2.625477  ,  1.44862226,  1.34410776]),\n",
              " array([10.84810129,  2.67019026,  1.61540512,  1.48363313]),\n",
              " array([10.9315139 ,  2.66128547,  1.74571439,  1.59285535]),\n",
              " array([10.99661156,  2.66467379,  1.8249939 ,  1.67659731]),\n",
              " array([11.07857937,  2.69870687,  1.95193912,  1.78279574]),\n",
              " array([11.13439891,  2.62861089,  2.01916539,  1.71919096]),\n",
              " array([11.21422048,  2.62232643,  1.90401692,  1.63999442]),\n",
              " array([11.2557706 ,  2.65136783,  1.8623143 ,  1.63204936]),\n",
              " array([11.27494372,  2.63763434,  1.87854387,  1.64859408]),\n",
              " array([11.30168231,  2.59756284,  1.85838744,  1.63978876]),\n",
              " array([11.37427082,  2.55557026,  1.78161137,  1.56175415]),\n",
              " array([11.45099289,  2.52005556,  1.73361878,  1.49234298]),\n",
              " array([11.60519072,  2.68725006,  1.92349176,  1.40678362]),\n",
              " array([11.67224377,  2.73192439,  1.9671203 ,  1.45445884]),\n",
              " array([11.72075022,  2.78010129,  1.91909089,  1.40566235]),\n",
              " array([11.74185412,  2.74847415,  1.90318207,  1.3987126 ]),\n",
              " array([11.84608737,  2.84700905,  2.00478553,  1.40565057]),\n",
              " array([11.83716509,  2.83734517,  2.01633115,  1.40304421]),\n",
              " array([11.82373992,  2.82499882,  2.0299869 ,  1.38700998]),\n",
              " array([11.93141468,  2.91220236,  2.16402737,  1.43184616]),\n",
              " array([11.97186046,  2.95057868,  2.14664702,  1.42373991]),\n",
              " array([12.0386938 ,  2.96950935,  2.22081981,  1.44572429]),\n",
              " array([12.11350601,  3.00799679,  2.24828023,  1.40318031]),\n",
              " array([12.18108791,  2.98910268,  2.3000106 ,  1.34670472]),\n",
              " array([12.23245048,  3.02236356,  2.29666727,  1.34917779]),\n",
              " array([12.24377273,  3.01533767,  2.31213807,  1.35957331]),\n",
              " array([12.28929618,  3.04566783,  2.34175822,  1.39194083]),\n",
              " array([12.27620783,  3.06430444,  2.33960535,  1.38426161]),\n",
              " array([12.34247511,  3.05196821,  2.42702119,  1.37921624]),\n",
              " array([12.33376153,  3.05794511,  2.42570559,  1.36203062]),\n",
              " array([12.38166354,  3.08706326,  2.44943399,  1.37999268]),\n",
              " array([12.43739542,  2.99696843,  2.36978931,  1.30417368]),\n",
              " array([12.43940578,  2.9961153 ,  2.37214261,  1.30719476]),\n",
              " array([12.58383264,  3.11966077,  2.62312565,  1.12533906]),\n",
              " array([12.57486046,  3.13000574,  2.60874558,  1.13444749]),\n",
              " array([12.6006768 ,  3.15781715,  2.59521128,  1.13058053]),\n",
              " array([12.61861757,  3.13602106,  2.5984046 ,  1.12227747]),\n",
              " array([12.65045322,  3.10976035,  2.60579082,  1.11018162]),\n",
              " array([12.64016823,  3.12161898,  2.58930666,  1.1206228 ]),\n",
              " array([12.67838298,  3.1400739 ,  2.5759815 ,  1.11190824]),\n",
              " array([12.71552252,  3.15800957,  2.56303125,  1.10343888]),\n",
              " array([12.76586612,  3.12870935,  2.48904716,  1.10215504]),\n",
              " array([12.77162373,  3.13388327,  2.48093578,  1.09819174]),\n",
              " array([12.76309134,  3.13051995,  2.48811675,  1.0872549 ]),\n",
              " array([12.80147702,  3.15537738,  2.48561812,  1.08910315]),\n",
              " array([12.82458165,  3.18048337,  2.47537758,  1.08096275]),\n",
              " array([12.77975575,  3.23813488,  2.42895851,  1.00864821]),\n",
              " array([12.82866427,  3.21686573,  2.3993551 ,  1.01122826]),\n",
              " array([12.89159892,  3.26658589,  2.40248278,  0.93430143]),\n",
              " array([12.88976607,  3.26789874,  2.40093132,  0.93271984]),\n",
              " array([12.93305246,  3.24270585,  2.33731838,  0.93161596]),\n",
              " array([13.0208479 ,  3.33790119,  2.44542614,  0.88290113]),\n",
              " array([13.00392644,  3.31149182,  2.45612542,  0.87788018]),\n",
              " array([13.05550321,  3.38030404,  2.52381415,  0.93520694]),\n",
              " array([13.15978227,  3.52624899,  2.66841416,  0.81254379]),\n",
              " array([13.20306369,  3.59834692,  2.72404716,  0.85367728]),\n",
              " array([13.20978887,  3.59971784,  2.72297365,  0.85889233]),\n",
              " array([13.23755044,  3.61296256,  2.71160632,  0.84272158]),\n",
              " array([13.3041489 ,  3.57303545,  2.61328468,  0.77173958]),\n",
              " array([13.33130119,  3.53186837,  2.57814903,  0.77304694]),\n",
              " array([13.28884848,  3.49451251,  2.63251044,  0.73543688]),\n",
              " array([13.27400893,  3.4814546 ,  2.65241455,  0.74735956]),\n",
              " array([13.11603344,  3.75140683,  2.47815733,  0.90627963]),\n",
              " array([13.14205478,  3.77664369,  2.50369786,  0.95257017]),\n",
              " array([13.12516277,  3.76998516,  2.5179144 ,  0.93091796]),\n",
              " array([13.12570772,  3.77028206,  2.51836097,  0.93204795]),\n",
              " array([13.09457332,  3.72187231,  2.54603572,  0.94516722]),\n",
              " array([13.1311514 ,  3.72010297,  2.56094393,  0.91493707]),\n",
              " array([13.12751575,  3.72525858,  2.55708086,  0.91849405]),\n",
              " array([13.14898933,  3.73956543,  2.5710528 ,  0.93376193]),\n",
              " array([13.14942188,  3.73937733,  2.57176943,  0.93417699]),\n",
              " array([13.16006279,  3.74309963,  2.57905227,  0.93816707]),\n",
              " array([13.19798822,  3.73249668,  2.60808218,  0.90647425]),\n",
              " array([13.13656688,  3.63950508,  2.69502801,  0.92585281]),\n",
              " array([13.1404514 ,  3.6436898 ,  2.69299154,  0.92527096]),\n",
              " array([13.15245664,  3.64596884,  2.69974901,  0.93761987]),\n",
              " array([13.21620714,  3.61124785,  2.64093012,  0.85852199]),\n",
              " array([13.22877972,  3.61363459,  2.64800693,  0.87145448]),\n",
              " array([13.18132621,  3.54816248,  2.71325786,  0.8442678 ]),\n",
              " array([13.15824829,  3.51214472,  2.72784982,  0.83742009]),\n",
              " array([13.19456566,  3.54329609,  2.75221565,  0.8497008 ]),\n",
              " array([13.23183658,  3.50106243,  2.72286127,  0.82884882]),\n",
              " array([13.2537349 ,  3.52708223,  2.72853338,  0.82113344]),\n",
              " array([13.21361631,  3.45978446,  2.7804477 ,  0.86186125]),\n",
              " array([13.16043381,  3.53631874,  2.73794378,  0.77533117]),\n",
              " array([13.18299262,  3.53227727,  2.73053468,  0.77953263]),\n",
              " array([13.20949186,  3.54838533,  2.74366115,  0.78946919]),\n",
              " array([13.23884378,  3.54580023,  2.70171525,  0.78412685]),\n",
              " array([13.2322199 ,  3.54223012,  2.70389076,  0.77341052]),\n",
              " array([13.23801277,  3.54852477,  2.70132322,  0.77136954]),\n",
              " array([13.29592772,  3.4957473 ,  2.64671527,  0.69231404]),\n",
              " array([13.27861387,  3.46799771,  2.66152066,  0.71156449]),\n",
              " array([13.26469822,  3.4878123 ,  2.65923172,  0.70339988]),\n",
              " array([13.30490228,  3.54145139,  2.71199503,  0.74808606]),\n",
              " array([13.31008382,  3.54791066,  2.71130788,  0.74795392]),\n",
              " array([13.3281016 ,  3.56321821,  2.72376125,  0.76001824]),\n",
              " array([13.33160247,  3.56702234,  2.72220957,  0.75878478]),\n",
              " array([13.33492822,  3.57063616,  2.72073552,  0.75761303]),\n",
              " array([13.37896793,  3.54150796,  2.65244706,  0.7427048 ]),\n",
              " array([13.37596591,  3.5394097 ,  2.6554601 ,  0.74327884]),\n",
              " array([13.36584349,  3.54870511,  2.64094525,  0.74092763]),\n",
              " array([13.39079694,  3.52643141,  2.6287058 ,  0.75269673]),\n",
              " array([13.40726755,  3.50174791,  2.61628972,  0.74727277]),\n",
              " array([13.4321431 ,  3.5210227 ,  2.61853378,  0.72728678]),\n",
              " array([13.49102957,  3.47506111,  2.52603089,  0.66940353]),\n",
              " array([13.53606867,  3.41277031,  2.45984221,  0.67447465]),\n",
              " array([13.54316601,  3.40213395,  2.454492  ,  0.67213742]),\n",
              " array([13.63971653,  3.4847251 ,  2.62227619,  0.55056541]),\n",
              " array([13.66114297,  3.48328836,  2.62739204,  0.56599703]),\n",
              " array([13.67922833,  3.48241354,  2.63476313,  0.55105029]),\n",
              " array([13.6873742 ,  3.47020582,  2.62862251,  0.54836776]),\n",
              " array([13.70782936,  3.46883421,  2.63350645,  0.56309984]),\n",
              " array([13.69073411,  3.48319531,  2.61995921,  0.5456726 ]),\n",
              " array([13.60898581,  3.60713841,  2.49500992,  0.39987052]),\n",
              " array([13.56835912,  3.54396944,  2.53112218,  0.4169896 ]),\n",
              " array([13.58520208,  3.54986127,  2.51524097,  0.39826271]),\n",
              " array([13.56880614,  3.53357673,  2.53147566,  0.41475668]),\n",
              " array([13.59123329,  3.54425027,  2.52819858,  0.39302132]),\n",
              " array([13.56389201,  3.58302209,  2.49914708,  0.41977094]),\n",
              " array([13.60607852,  3.6393061 ,  2.55451214,  0.46666057]),\n",
              " array([13.63767135,  3.62829703,  2.5362429 ,  0.43007973]),\n",
              " array([13.61567637,  3.61474718,  2.56619005,  0.42598328]),\n",
              " array([13.62021159,  3.61567168,  2.56546612,  0.42950013]),\n",
              " array([13.64611998,  3.60779307,  2.53946263,  0.45114124]),\n",
              " array([13.70219182,  3.64953791,  2.63917521,  0.46958569]),\n",
              " array([13.76323223,  3.59918666,  2.54658611,  0.42532009]),\n",
              " array([13.77400712,  3.59725631,  2.54304726,  0.42732686]),\n",
              " array([13.78544952,  3.5994285 ,  2.54948792,  0.43909682]),\n",
              " array([13.79704578,  3.60194134,  2.53910193,  0.43218201]),\n",
              " array([13.81716602,  3.60867417,  2.52841798,  0.40610659]),\n",
              " array([13.85313801,  3.65666696,  2.57562719,  0.4460889 ]),\n",
              " array([13.90712761,  3.6932051 ,  2.65523185,  0.41886559]),\n",
              " array([13.94260495,  3.67388277,  2.62249896,  0.37484738]),\n",
              " array([13.96026053,  3.68783117,  2.6233764 ,  0.35326646]),\n",
              " array([13.95892396,  3.68945341,  2.6230663 ,  0.35298676]),\n",
              " array([13.98491242,  3.66291775,  2.60329986,  0.36799549]),\n",
              " array([13.81237151,  3.9577597 ,  2.41297604,  0.54156807]),\n",
              " array([13.83129965,  3.96409363,  2.4029251 ,  0.51703758]),\n",
              " array([13.7712889 ,  3.91128775,  2.47976988,  0.46387235]),\n",
              " array([13.79004523,  3.91756418,  2.46981017,  0.43956453]),\n",
              " array([13.8271295 ,  3.97842959,  2.51923034,  0.50997378]),\n",
              " array([13.84440723,  3.96417747,  2.52323896,  0.50340917]),\n",
              " array([13.85445196,  3.9632928 ,  2.50888436,  0.50158093]),\n",
              " array([13.87248357,  3.96932672,  2.49930948,  0.47821233]),\n",
              " array([13.83755999,  4.01114338,  2.46149396,  0.45482825]),\n",
              " array([13.8689109 ,  3.97913236,  2.43764892,  0.47293387]),\n",
              " array([13.89473042,  3.98985264,  2.47763613,  0.50638594]),\n",
              " array([13.91536377,  3.97280843,  2.48353788,  0.49256269]),\n",
              " array([13.98917527,  4.03594819,  2.6118065 ,  0.39962262]),\n",
              " array([13.95002882,  3.99341082,  2.65400427,  0.43900315]),\n",
              " array([13.98180778,  3.97120453,  2.6294045 ,  0.43219507]),\n",
              " array([14.01227377,  3.94009707,  2.60623251,  0.44978964]),\n",
              " array([14.05157425,  3.9719257 ,  2.65515628,  0.46615451]),\n",
              " array([14.04559631,  3.97070711,  2.65611051,  0.46151891]),\n",
              " array([14.05263969,  3.96944527,  2.65379722,  0.4628307 ]),\n",
              " array([14.0601531 ,  3.97207353,  2.64671284,  0.45447689]),\n",
              " array([14.06687474,  3.97086934,  2.64450522,  0.45572876]),\n",
              " array([14.10055608,  3.96782427,  2.62457339,  0.42417165]),\n",
              " array([14.13931041,  3.92671535,  2.57861138,  0.42264817]),\n",
              " array([14.16685148,  3.97191775,  2.61531385,  0.47493843]),\n",
              " array([14.12435755,  3.93373172,  2.67517979,  0.50418954]),\n",
              " array([14.14328243,  3.92249637,  2.66436386,  0.51146012]),\n",
              " array([14.1195132 ,  3.94257505,  2.62241603,  0.49488827]),\n",
              " array([14.09682778,  3.92105036,  2.6321644 ,  0.49943494]),\n",
              " array([14.10408307,  3.92870537,  2.63423963,  0.49290441]),\n",
              " array([14.08820873,  3.94204083,  2.6216599 ,  0.47672177]),\n",
              " array([14.09336227,  3.94431899,  2.62087207,  0.47469254]),\n",
              " array([14.09987989,  3.94659892,  2.61472661,  0.46744591]),\n",
              " array([14.10079479,  3.94548742,  2.61488945,  0.46702249]),\n",
              " array([14.12625695,  3.93286848,  2.58469174,  0.47153027]),\n",
              " array([14.1109859 ,  3.92385316,  2.6050715 ,  0.4888609 ]),\n",
              " array([14.12299586,  3.92049549,  2.61426449,  0.47882464]),\n",
              " array([14.12990401,  3.91988707,  2.60439227,  0.47756729]),\n",
              " array([14.15834165,  3.94305095,  2.64401775,  0.47317678]),\n",
              " array([14.1491687 ,  3.93548272,  2.63767767,  0.46116552]),\n",
              " array([14.07443927,  4.04878412,  2.52345647,  0.32788194]),\n",
              " array([14.11817549,  4.097892  ,  2.59946067,  0.35555618]),\n",
              " array([14.12462069,  4.09732435,  2.59025004,  0.35438309]),\n",
              " array([14.1465849 ,  4.10154526,  2.61032531,  0.33097318]),\n",
              " array([14.10145153,  4.0525024 ,  2.65897664,  0.37637641]),\n",
              " array([14.09334035,  4.05602976,  2.64553838,  0.36859309]),\n",
              " array([14.11921531,  4.05683269,  2.66709146,  0.33934753]),\n",
              " array([14.07699336,  4.01095343,  2.71260445,  0.38182193]),\n",
              " array([14.11427145,  4.05280999,  2.7773858 ,  0.40540977]),\n",
              " array([14.11499176,  4.05294673,  2.77779124,  0.4061507 ]),\n",
              " array([14.12982465,  4.07659875,  2.79655666,  0.43048926]),\n",
              " array([14.16792056,  4.05585024,  2.76140778,  0.38322208]),\n",
              " array([14.16765506,  4.05577132,  2.76150035,  0.3832203 ]),\n",
              " array([14.14300292,  4.03856952,  2.7915697 ,  0.39587767]),\n",
              " array([14.1946723 ,  3.99824096,  2.71040392,  0.34508856]),\n",
              " array([14.19581292,  3.99685656,  2.71066856,  0.34532725]),\n",
              " array([14.13945106,  3.93581002,  2.78360202,  0.32886294]),\n",
              " array([14.13973428,  3.93594514,  2.78348605,  0.32869797]),\n",
              " array([14.19513751,  3.9833381 ,  2.87976502,  0.25893676]),\n",
              " array([14.22796515,  3.95231087,  2.84105364,  0.24933513]),\n",
              " array([14.20452985,  3.92309657,  2.84416154,  0.24993277]),\n",
              " array([14.19155012,  3.91958675,  2.85771477,  0.24715688]),\n",
              " array([14.14204435,  3.84232299,  2.8890168 ,  0.23246747]),\n",
              " array([14.07031408,  3.95568392,  2.82297106,  0.18410822]),\n",
              " array([14.06321043,  3.95319899,  2.81810919,  0.18144453]),\n",
              " array([14.08234637,  3.98507552,  2.84270611,  0.1996308 ]),\n",
              " array([14.08472129,  3.98259235,  2.84423534,  0.19885964]),\n",
              " array([14.11726222,  3.9664652 ,  2.80564232,  0.20462063]),\n",
              " array([14.10652299,  3.97113544,  2.78785002,  0.19431549]),\n",
              " array([14.11844214,  3.98430973,  2.7997099 ,  0.19028064]),\n",
              " array([14.12498629,  3.98917412,  2.80246549,  0.18387812]),\n",
              " array([14.13231713,  3.99162725,  2.79857277,  0.17437749]),\n",
              " array([14.09031886,  4.04191497,  2.75309672,  0.14625634]),\n",
              " array([14.14135918,  4.08557583,  2.84179389,  0.0819887 ]),\n",
              " array([14.16485783,  4.11105507,  2.87072917,  0.06895007]),\n",
              " array([14.1810434 ,  4.11821003,  2.89328242,  0.04745235]),\n",
              " array([1.42149787e+01, 4.09727077e+00, 2.85120262e+00, 1.23769318e-02]),\n",
              " array([14.24520943,  4.1395806 ,  2.89312254, -0.02318344]),\n",
              " array([14.25222796,  4.13832322,  2.89081742, -0.02187628]),\n",
              " array([14.27901   ,  4.09502801,  2.85254404, -0.05831121]),\n",
              " array([14.29277669,  4.11796049,  2.87023946, -0.04522772]),\n",
              " array([1.42423972e+01, 4.06321709e+00, 2.92454582e+00, 5.45298901e-03]),\n",
              " array([ 1.42614727e+01,  4.08390033e+00,  2.94803457e+00, -5.13136021e-03]),\n",
              " array([14.0826758 ,  4.38943261,  2.75081002,  0.17473458]),\n",
              " array([14.11263381,  4.42307004,  2.80287063,  0.19369061]),\n",
              " array([14.14230919,  4.4140459 ,  2.77308633,  0.21847826]),\n",
              " array([14.15525276,  4.41942008,  2.79313229,  0.23524809]),\n",
              " array([14.16507536,  4.40477982,  2.78831439,  0.23151602]),\n",
              " array([14.16300032,  4.40416298,  2.78903794,  0.23150207]),\n",
              " array([14.19064404,  4.39575666,  2.76129276,  0.25459269]),\n",
              " array([14.18373065,  4.40156435,  2.7558142 ,  0.24754504]),\n",
              " array([14.17085076,  4.39158439,  2.75465229,  0.25789325]),\n",
              " array([14.1759818 ,  4.39330139,  2.75192768,  0.25124352]),\n",
              " array([14.13274529,  4.35035863,  2.79473898,  0.29473855]),\n",
              " array([14.14856503,  4.35339874,  2.8091982 ,  0.27787756]),\n",
              " array([14.07615869,  4.27945518,  2.90631595,  0.09707591]),\n",
              " array([14.07273346,  4.27782104,  2.90771845,  0.09907107]),\n",
              " array([14.0579956 ,  4.2913548 ,  2.88658539,  0.09564781]),\n",
              " array([14.0611736 ,  4.29486746,  2.88974759,  0.094572  ]),\n",
              " array([14.06877687,  4.30753293,  2.89952066,  0.10179793]),\n",
              " array([14.06993368,  4.30821586,  2.89952347,  0.10092708]),\n",
              " array([14.0627199 ,  4.30226407,  2.89453752,  0.09148121]),\n",
              " array([14.07956691,  4.30093768,  2.87023446,  0.07476611]),\n",
              " array([14.13275926,  4.25942043,  2.7866763 ,  0.02247998]),\n",
              " array([14.12515218,  4.24979536,  2.78480865,  0.03125308]),\n",
              " array([14.06847799,  4.18841053,  2.85814626,  0.01469754]),\n",
              " array([ 1.40878293e+01,  4.19287499e+00,  2.88262800e+00, -9.31241352e-03]),\n",
              " array([14.10620863,  4.2005061 ,  2.91109246,  0.01450007]),\n",
              " array([14.10188135,  4.19841635,  2.91260135,  0.01548687]),\n",
              " array([14.03881267,  4.09608175,  2.95247908,  0.09344849]),\n",
              " array([14.03097985,  4.08982958,  2.95230137,  0.08369682]),\n",
              " array([14.03462267,  4.09091246,  2.95103115,  0.0837213 ]),\n",
              " array([14.0658231 ,  4.08809168,  2.93256747,  0.05448864]),\n",
              " array([14.11031322,  4.06219822,  2.86718556,  0.05335407]),\n",
              " array([14.11864025,  4.0667349 ,  2.87400928,  0.07062057]),\n",
              " array([14.10979406,  4.05936396,  2.87135954,  0.06131753]),\n",
              " array([14.13353491,  4.08510583,  2.90059306,  0.04814451]),\n",
              " array([14.165706  ,  4.12122815,  2.95649955,  0.06850087]),\n",
              " array([14.21695731,  4.08122591,  2.8759905 ,  0.01812271]),\n",
              " array([14.16691027,  4.13893035,  2.79577814,  0.06892975]),\n",
              " array([14.14590846,  4.16594121,  2.7740299 ,  0.03504898]),\n",
              " array([14.16098338,  4.166409  ,  2.78658687,  0.01801032]),\n",
              " array([14.18694751,  4.15099458,  2.77174787,  0.02798526]),\n",
              " array([14.23163773,  4.11611333,  2.70154542, -0.01594359]),\n",
              " array([14.26631169,  4.09593293,  2.65058917, -0.01682784]),\n",
              " array([1.43051788e+01, 4.15486822e+00, 2.71786938e+00, 3.29262310e-03]),\n",
              " array([1.43100862e+01, 4.15443601e+00, 2.71085627e+00, 2.39941555e-03]),\n",
              " array([ 1.42965042e+01,  4.16535412e+00,  2.68927126e+00, -6.76427976e-05]),\n",
              " array([1.42998154e+01, 4.16452892e+00, 2.69232007e+00, 7.34704771e-03]),\n",
              " array([14.24202998,  4.10355988,  2.76319379,  0.02611047]),\n",
              " array([14.23865827,  4.10345132,  2.76819433,  0.02708112]),\n",
              " array([1.42191281e+01, 4.11994915e+00, 2.73372753e+00, 1.34647136e-02]),\n",
              " array([1.42540912e+01, 4.06526576e+00, 2.67974940e+00, 5.49166650e-03]),\n",
              " array([ 1.42198734e+01,  4.04418610e+00,  2.72633854e+00, -8.81226981e-04]),\n",
              " array([1.41777563e+01, 4.00904364e+00, 2.77714182e+00, 5.23350516e-03]),\n",
              " array([ 1.41971658e+01,  4.00296000e+00,  2.77233979e+00, -1.17010006e-02]),\n",
              " array([ 1.41943031e+01,  4.00309848e+00,  2.77117303e+00, -9.33509477e-03]),\n",
              " array([ 1.41915464e+01,  4.00323182e+00,  2.77004947e+00, -7.05679764e-03]),\n",
              " array([14.18455688,  3.99740795,  2.76795588, -0.01440725]),\n",
              " array([ 1.42095173e+01,  3.97512803e+00,  2.75571301e+00, -2.63486340e-03]),\n",
              " array([14.18588446,  3.96117629,  2.78725188,  0.0241853 ]),\n",
              " array([14.15895882,  3.93191833,  2.79918599,  0.03367194]),\n",
              " array([ 1.41276014e+01,  3.90308077e+00,  2.83108192e+00, -3.77947309e-03]),\n",
              " array([14.15582965,  3.87949913,  2.80732468, -0.03568483]),\n",
              " array([14.18347295,  3.86244223,  2.77304691, -0.0642569 ]),\n",
              " array([14.22527165,  3.81678617,  2.71303147, -0.08186984]),\n",
              " array([14.2542736 ,  3.84823257,  2.7487433 , -0.09796207]),\n",
              " array([14.2068457 ,  3.79669642,  2.79986801, -0.0502506 ]),\n",
              " array([14.22185264,  3.79747753,  2.81814429, -0.03094559]),\n",
              " array([14.25549973,  3.77730542,  2.76846991, -0.06680735]),\n",
              " array([14.27658987,  3.75968687,  2.75072016, -0.0906448 ]),\n",
              " array([14.24601901,  3.73107287,  2.76612775, -0.11786911]),\n",
              " array([14.2393837 ,  3.73721255,  2.7601527 , -0.14335646]),\n",
              " array([14.24039462,  3.73741863,  2.75999133, -0.14257253]),\n",
              " array([14.2362252 ,  3.73728437,  2.76617495, -0.14137223]),\n",
              " array([14.22798937,  3.73458612,  2.76659982, -0.14173087]),\n",
              " array([14.22711455,  3.73466623,  2.76712933, -0.14153137]),\n",
              " array([14.11722385,  3.91218459,  2.5769048 , -0.36636004]),\n",
              " array([14.1532591 ,  3.9722119 ,  2.62322374, -0.33211312]),\n",
              " array([14.15069497,  3.97292876,  2.62126103, -0.32997038]),\n",
              " array([14.1840149 ,  4.01956204,  2.66746457, -0.36916451]),\n",
              " array([14.15550214,  3.99250818,  2.67971707, -0.36344991]),\n",
              " array([14.16698632,  4.0019833 ,  2.6876546 , -0.34841228]),\n",
              " array([14.15850013,  3.99920302,  2.68809239, -0.34878183]),\n",
              " array([14.14427226,  3.99761517,  2.70794464, -0.3342069 ]),\n",
              " array([14.15622804,  3.99208083,  2.70046584, -0.34502341]),\n",
              " array([14.18523939,  4.04040775,  2.7377564 , -0.31745182]),\n",
              " array([14.18225365,  4.03887173,  2.73666046, -0.3157539 ]),\n",
              " array([14.18153081,  4.03947897,  2.73608764, -0.31649078]),\n",
              " array([14.14223577,  4.08882413,  2.68876264, -0.2717152 ]),\n",
              " array([14.15071527,  4.08730501,  2.68597768, -0.27013594]),\n",
              " array([14.15016866,  4.08714252,  2.68616828, -0.27013961]),\n",
              " array([14.15555263,  4.07987859,  2.68665397, -0.2771667 ]),\n",
              " array([14.19108813,  4.05214272,  2.6308324 , -0.31209679]),\n",
              " array([14.21733446,  4.09331997,  2.65978381, -0.28159542]),\n",
              " array([14.24312472,  4.0677998 ,  2.64121299, -0.29614302]),\n",
              " array([14.27434689,  4.08076326,  2.6895674 , -0.25569123]),\n",
              " array([14.27466941,  4.08072243,  2.68947889, -0.2558984 ]),\n",
              " array([14.27775591,  4.0765582 ,  2.68975733, -0.25992685]),\n",
              " array([14.26630229,  4.07109381,  2.69444716, -0.25325527]),\n",
              " array([14.24934821,  4.06686565,  2.71295171, -0.23939957]),\n",
              " array([14.21954222,  4.03858471,  2.72575994, -0.23342578]),\n",
              " array([14.19968928,  4.02408261,  2.72933114, -0.21528187]),\n",
              " array([14.20899045,  4.02037444,  2.72564827, -0.21183698]),\n",
              " array([14.15377047,  3.97178416,  2.79971416, -0.16747108]),\n",
              " array([14.15569045,  3.97281898,  2.79908357, -0.16436488]),\n",
              " array([14.10694098,  3.89673558,  2.8299074 , -0.17882988]),\n",
              " array([14.122781  ,  3.90038996,  2.84994695, -0.19848325]),\n",
              " array([14.04264327,  4.03068731,  2.76533766, -0.27243063]),\n",
              " array([14.03822562,  4.02858486,  2.76598318, -0.26814925]),\n",
              " array([14.0789018 ,  3.98705222,  2.73504547, -0.24465814]),\n",
              " array([14.09064617,  3.9761851 ,  2.7456212 , -0.199546  ]),\n",
              " array([14.08505339,  3.97351684,  2.74791124, -0.19628828]),\n",
              " array([14.0869185 ,  3.97407128,  2.74726089, -0.19627574]),\n",
              " array([14.04566764,  4.03256785,  2.70342977, -0.15591755]),\n",
              " array([14.02041002,  3.98934363,  2.69586424, -0.1224866 ]),\n",
              " array([14.06695409,  4.0599198 ,  2.7764336 , -0.09839195]),\n",
              " array([14.07369597,  4.05173702,  2.77799779, -0.09698114]),\n",
              " array([14.00769828,  3.94595994,  2.83443364, -0.02360144]),\n",
              " array([1.39361910e+01, 3.84922109e+00, 2.92986259e+00, 1.27839906e-02]),\n",
              " array([13.96166438,  3.89165443,  2.96260548,  0.03699316]),\n",
              " array([13.99532224,  3.86015693,  2.93632399,  0.04667029]),\n",
              " array([14.00239855,  3.86433446,  2.93634119,  0.04134321]),\n",
              " array([14.03610477,  3.85408456,  2.90251126,  0.06949779]),\n",
              " array([1.40016542e+01, 3.90366193e+00, 2.87497807e+00, 1.34453397e-02]),\n",
              " array([1.40076390e+01, 3.90811056e+00, 2.87749813e+00, 7.59004989e-03]),\n",
              " array([13.984172  ,  3.93829196,  2.85319707, -0.03026766]),\n",
              " array([13.92468354,  4.03536262,  2.83377148, -0.05996793]),\n",
              " array([13.83892744,  3.89150925,  2.94474171,  0.02709043]),\n",
              " array([13.84289097,  3.88561101,  2.94389492,  0.02461752]),\n",
              " array([13.85553056,  3.88564901,  2.94443773,  0.01795332]),\n",
              " array([13.8752317 ,  3.88198147,  2.9704263 ,  0.01645334]),\n",
              " array([ 1.39010473e+01,  3.87388991e+00,  2.96403935e+00, -6.07045375e-03]),\n",
              " array([1.39397516e+01, 3.85470823e+00, 2.91813670e+00, 7.81688154e-04]),\n",
              " array([13.9550959 ,  3.86306802,  2.93071084,  0.03259886]),\n",
              " array([13.93683156,  3.8777501 ,  2.90168452,  0.02928129]),\n",
              " array([13.95443815,  3.89285222,  2.91349702,  0.03523496]),\n",
              " array([14.01458184,  3.80967118,  2.82511089,  0.04200676]),\n",
              " array([14.01957683,  3.81187925,  2.82434729,  0.04003996]),\n",
              " array([ 1.40490146e+01,  3.78505278e+00,  2.79659041e+00, -1.43471246e-04]),\n",
              " array([1.40583624e+01, 3.78132604e+00, 2.79288909e+00, 3.31867541e-03]),\n",
              " array([14.02096726,  3.82828539,  2.74785224,  0.04592938]),\n",
              " array([14.01984454,  3.82768027,  2.74822097,  0.04411301]),\n",
              " array([13.99495957,  3.81235006,  2.78210299,  0.03947832]),\n",
              " array([14.00250681,  3.8168056 ,  2.78212134,  0.03379673]),\n",
              " array([14.0410944 ,  3.84292024,  2.8390166 ,  0.01433961]),\n",
              " array([14.02128474,  3.8215797 ,  2.84940188,  0.01730685]),\n",
              " array([1.40324759e+01, 3.80480816e+00, 2.84096560e+00, 1.36214629e-02]),\n",
              " array([14.03734226,  3.8094937 ,  2.84393477,  0.02339846]),\n",
              " array([14.04011996,  3.80617424,  2.84441042,  0.02212572]),\n",
              " array([14.04885055,  3.80506889,  2.84201461,  0.01651782]),\n",
              " array([1.40573185e+01, 3.80399679e+00, 2.83969086e+00, 1.10785898e-02]),\n",
              " array([1.40574615e+01, 3.80407386e+00, 2.83964389e+00, 1.13099357e-02]),\n",
              " array([ 1.40295228e+01,  3.77792349e+00,  2.85372490e+00, -1.35703941e-02]),\n",
              " array([14.03551523,  3.77922202,  2.84835788, -0.01714366]),\n",
              " array([13.98199523,  3.69344343,  2.89412381,  0.04236268]),\n",
              " array([14.00766189,  3.71435019,  2.92988814,  0.03839999]),\n",
              " array([14.01934158,  3.72213183,  2.93748761,  0.04670433]),\n",
              " array([14.03984897,  3.73064651,  2.96924783,  0.07327394]),\n",
              " array([14.04570272,  3.73365799,  2.9713965 ,  0.06994505]),\n",
              " array([14.00793988,  3.70042895,  3.01975245,  0.03648988]),\n",
              " array([14.03055694,  3.69333994,  3.01415685,  0.01675679]),\n",
              " array([14.06693874,  3.7228048 ,  3.05944726,  0.03190631]),\n",
              " array([14.07311427,  3.72739519,  3.06204763,  0.02586443]),\n",
              " array([1.41100945e+01, 3.70293616e+00, 3.00470562e+00, 1.33459448e-02]),\n",
              " array([1.41069339e+01, 3.70169030e+00, 3.00736565e+00, 9.29464000e-03]),\n",
              " array([14.05922482,  3.62750917,  3.04977331,  0.02939807]),\n",
              " array([ 1.41032776e+01,  3.57152066e+00,  2.99157817e+00, -4.57621665e-03]),\n",
              " array([13.97721816,  3.7751582 ,  2.77336493, -0.26248508]),\n",
              " array([14.00619955,  3.72983044,  2.72862177, -0.26909404]),\n",
              " array([14.00298158,  3.73253374,  2.72607167, -0.2723745 ]),\n",
              " array([14.03813079,  3.77516028,  2.75748599, -0.20483023]),\n",
              " array([14.07066039,  3.75337907,  2.72813177, -0.19712463]),\n",
              " array([14.10581324,  3.81193649,  2.77331649, -0.16371632]),\n",
              " array([14.10179257,  3.8065065 ,  2.77181353, -0.16100418]),\n",
              " array([14.07659939,  3.78892718,  2.8025428 , -0.14806902]),\n",
              " array([14.0983799 ,  3.77706467,  2.78244719, -0.175093  ]),\n",
              " array([14.12846896,  3.76215265,  2.74676204, -0.16976608]),\n",
              " array([14.09980052,  3.80340905,  2.72384997, -0.21641079]),\n",
              " array([14.08608236,  3.79338826,  2.72631763, -0.20387355]),\n",
              " array([14.08442692,  3.79385108,  2.72505048, -0.20249016]),\n",
              " array([14.11499875,  3.79058735,  2.77281056, -0.16245876]),\n",
              " array([14.11356874,  3.79054131,  2.77493138, -0.16204709]),\n",
              " array([14.06948394,  3.74263783,  2.82245243, -0.11769869]),\n",
              " array([14.09369905,  3.72826177,  2.80861302, -0.10839569]),\n",
              " array([14.08169031,  3.74616038,  2.8145032 , -0.10383301]),\n",
              " array([14.06254244,  3.72553277,  2.82454153, -0.1009649 ]),\n",
              " array([14.08442274,  3.70564451,  2.8204579 , -0.113307  ]),\n",
              " array([14.13438835,  3.63654014,  2.7470293 , -0.10768119]),\n",
              " array([14.138602  ,  3.63600667,  2.745873  , -0.11038774]),\n",
              " array([14.17201277,  3.60056598,  2.70624838, -0.11170115]),\n",
              " array([14.16636026,  3.60302412,  2.69688354, -0.11712518]),\n",
              " array([14.16574533,  3.60308043,  2.69725575, -0.11698495]),\n",
              " array([14.20209155,  3.65157249,  2.74495608, -0.07658671]),\n",
              " array([14.17282897,  3.69730588,  2.75950671, -0.10224185]),\n",
              " array([14.08521991,  3.83975099,  2.66700921, -0.18308344]),\n",
              " array([14.04215708,  3.90081706,  2.62125277, -0.14095248]),\n",
              " array([14.06403205,  3.91048705,  2.65173371, -0.17000686]),\n",
              " array([14.11340509,  3.95272169,  2.73753351, -0.23217513]),\n",
              " array([14.11718759,  3.9522428 ,  2.73649553, -0.23460474]),\n",
              " array([14.1032776 ,  3.97307262,  2.73796452, -0.24731217]),\n",
              " array([14.1411978 ,  4.00984961,  2.77518405, -0.1798542 ]),\n",
              " array([14.102574  ,  3.95637953,  2.78369662, -0.12606489]),\n",
              " array([14.11475712,  3.95869233,  2.79055421, -0.113533  ]),\n",
              " array([14.14250292,  3.9393043 ,  2.76907645, -0.11947704]),\n",
              " array([14.1949148 ,  3.89607058,  2.68957553, -0.15748536]),\n",
              " array([14.22254307,  3.92602752,  2.72359586, -0.17281539]),\n",
              " array([14.24854422,  3.90819258,  2.72752159, -0.12153387]),\n",
              " array([14.24719532,  3.9083161 ,  2.72833805, -0.12122627]),\n",
              " array([14.29150824,  3.94622221,  2.80534445, -0.17702307]),\n",
              " array([14.32017736,  3.96241065,  2.85264866, -0.14753324]),\n",
              " array([14.25561311,  3.85764936,  2.89347203, -0.06772289]),\n",
              " array([14.28012673,  3.83717085,  2.87284103, -0.09542978]),\n",
              " array([14.23552263,  3.89318292,  2.81912208, -0.04460468]),\n",
              " array([14.2297287 ,  3.88706979,  2.81746484, -0.03938953]),\n",
              " array([14.18196618,  3.83667586,  2.87604547, -0.02388064]),\n",
              " array([14.18388578,  3.83825965,  2.87737225, -0.02136708]),\n",
              " array([14.1954076 ,  3.83861719,  2.88696958, -0.03438979]),\n",
              " array([14.124355  ,  3.94659284,  2.78892329, -0.22685622]),\n",
              " array([14.13909886,  3.95076906,  2.80528628, -0.22200633]),\n",
              " array([14.17080314,  3.93505656,  2.76768552, -0.21639345]),\n",
              " array([14.08122524,  3.79943608,  2.89448876, -0.18813144]),\n",
              " array([14.08774499,  3.80295007,  2.89234745, -0.17758357]),\n",
              " array([14.07075625,  3.781772  ,  2.89460043, -0.17715032]),\n",
              " array([14.06122684,  3.77044906,  2.89213212, -0.17379285]),\n",
              " array([14.05876542,  3.76785203,  2.89142808, -0.17157731]),\n",
              " array([14.09304426,  3.74489956,  2.86049537, -0.16345735]),\n",
              " array([14.11950348,  3.77698749,  2.88414309, -0.11261214]),\n",
              " array([14.12706184,  3.76566024,  2.87844535, -0.11510119]),\n",
              " array([14.15399774,  3.74903983,  2.84504476, -0.1429421 ]),\n",
              " array([14.18406763,  3.73413732,  2.80938236, -0.13761858]),\n",
              " array([14.23130468,  3.80576429,  2.8911513 , -0.1131652 ]),\n",
              " array([14.24489251,  3.81630867,  2.90925906, -0.11113491]),\n",
              " array([14.24159909,  3.82030598,  2.90849495, -0.1118241 ]),\n",
              " array([14.24049903,  3.8204581 ,  2.90712553, -0.11260118]),\n",
              " array([14.27754735,  3.7988958 ,  2.85267996, -0.11354597]),\n",
              " array([14.23421033,  3.76076182,  2.90817373, -0.15193946]),\n",
              " array([14.21066278,  3.7975634 ,  2.9198826 , -0.17258411]),\n",
              " array([14.1716567 ,  3.77353398,  2.97430805, -0.15578881]),\n",
              " array([14.1667756 ,  3.76838397,  2.97291191, -0.15139531]),\n",
              " array([14.16598368,  3.76849348,  2.97192607, -0.15195473]),\n",
              " array([14.13519104,  3.72586472,  2.97871267, -0.10907147]),\n",
              " array([14.14039565,  3.72699253,  2.97405125, -0.11217496]),\n",
              " array([14.14371968,  3.73190865,  2.97531625, -0.10771529]),\n",
              " array([14.1057193 ,  3.69061664,  3.01627861, -0.0694877 ]),\n",
              " array([14.13600402,  3.71111221,  3.06093175, -0.08475824]),\n",
              " array([14.144479  ,  3.71272107,  3.06570211, -0.07604066]),\n",
              " array([14.17409793,  3.74144706,  3.09477376, -0.02335019]),\n",
              " array([14.17154014,  3.73874835,  3.09404216, -0.02104791]),\n",
              " array([ 1.41793970e+01,  3.73915730e+00,  3.10361062e+00, -1.09408567e-02]),\n",
              " array([1.41993872e+01, 3.75044508e+00, 3.13659463e+00, 9.62164259e-03]),\n",
              " array([1.41812242e+01, 3.73321139e+00, 3.14439964e+00, 1.32619205e-02]),\n",
              " array([1.42108463e+01, 3.72247400e+00, 3.11326872e+00, 3.09796054e-03]),\n",
              " array([14.15631045,  3.78777388,  3.05421692, -0.03341806]),\n",
              " array([14.20361074,  3.75085545,  2.9799144 , -0.07991251]),\n",
              " array([14.21084983,  3.74955855,  2.97753683, -0.07856427]),\n",
              " array([14.1824705 ,  3.77561925,  2.93684286, -0.08515612]),\n",
              " array([14.21415908,  3.76598291,  2.90503798, -0.05868687]),\n",
              " array([14.22806279,  3.77212914,  2.92441163, -0.0771538 ]),\n",
              " array([14.21850381,  3.76954433,  2.93439296, -0.07919812]),\n",
              " array([14.21582824,  3.76825222,  2.93532591, -0.07858797]),\n",
              " array([14.21033156,  3.76978895,  2.9311185 , -0.07399461]),\n",
              " array([14.24811832,  3.74779688,  2.87558773, -0.07495824]),\n",
              " array([14.24893819,  3.74804059,  2.87530185, -0.07495273]),\n",
              " array([ 1.41948363e+01,  3.66025538e+00,  2.90950998e+00, -8.07527193e-03]),\n",
              " array([14.11842839,  3.54457424,  3.01767023,  0.01603157]),\n",
              " array([1.41321042e+01, 3.52907749e+00, 3.00689926e+00, 8.38037909e-03]),\n",
              " array([14.09821373,  3.49925595,  3.05029651, -0.0216441 ]),\n",
              " array([14.10539828,  3.50493194,  3.05065357, -0.03042597]),\n",
              " array([14.10156738,  3.51010049,  3.05030798, -0.02542594]),\n",
              " array([14.11209034,  3.50814155,  3.06418924, -0.02622712]),\n",
              " array([14.11836431,  3.51000658,  3.06200156, -0.02618496]),\n",
              " array([14.10544108,  3.50098899,  3.07776462, -0.01954966]),\n",
              " array([14.13077399,  3.49577018,  3.04772019, -0.01867974]),\n",
              " array([ 1.41237575e+01,  3.48376256e+00,  3.04561850e+00, -9.39267622e-03]),\n",
              " array([ 1.41116829e+01,  3.47532306e+00,  3.05773738e+00, -7.08382418e-03]),\n",
              " array([ 1.41089707e+01,  3.47210044e+00,  3.05703488e+00, -6.12825419e-03]),\n",
              " array([14.13026644,  3.45378795,  3.04802749, -0.02343412]),\n",
              " array([14.13748684,  3.45949228,  3.04838632, -0.03225982]),\n",
              " array([14.15431906,  3.45170063,  3.03785713, -0.04748808]),\n",
              " array([14.14979117,  3.45021719,  3.03809071, -0.04768525]),\n",
              " array([14.17801793,  3.42139611,  3.01662185, -0.03138387]),\n",
              " array([14.21388339,  3.39989404,  2.96367241, -0.06961002]),\n",
              " array([14.20741503,  3.40522969,  2.96217168, -0.06715239]),\n",
              " array([14.19002051,  3.41279415,  2.93335318, -0.0838438 ]),\n",
              " array([14.20466554,  3.40820386,  2.9297299 , -0.0966214 ]),\n",
              " array([14.21436431,  3.41620592,  2.93643341, -0.08392163]),\n",
              " array([14.22609811,  3.41952954,  2.94945579, -0.08006187]),\n",
              " array([14.20912341,  3.42691144,  2.9213328 , -0.09635045]),\n",
              " array([14.19224022,  3.43900467,  2.90704161, -0.11091915]),\n",
              " array([14.16368889,  3.4619561 ,  2.86166685, -0.11610526]),\n",
              " array([14.17536544,  3.47438503,  2.87036809, -0.1296791 ]),\n",
              " array([14.14196404,  3.51734326,  2.83577956, -0.18356328]),\n",
              " array([14.17262315,  3.47837735,  2.79527793, -0.20720811]),\n",
              " array([14.17465785,  3.47811974,  2.79471958, -0.20851505]),\n",
              " array([14.16459415,  3.47076845,  2.79652986, -0.19931768]),\n",
              " array([14.1592675 ,  3.4666411 ,  2.79604934, -0.19503804]),\n",
              " array([14.15227651,  3.47097928,  2.78649679, -0.20145683]),\n",
              " array([14.13050268,  3.50343243,  2.79717666, -0.19318393]),\n",
              " array([14.13917707,  3.5050994 ,  2.80510504, -0.20242927]),\n",
              " array([14.1454354 ,  3.51031405,  2.80697963, -0.19584774]),\n",
              " array([14.1535487 ,  3.5118732 ,  2.81439517, -0.20449506]),\n",
              " array([14.16666514,  3.53127195,  2.8193868 , -0.18689747]),\n",
              " array([14.13070266,  3.49962712,  2.86543735, -0.21875765]),\n",
              " array([14.16254662,  3.48994353,  2.83347653, -0.19215861]),\n",
              " array([14.17895522,  3.4762359 ,  2.81966682, -0.21070468]),\n",
              " array([14.18869035,  3.4877578 ,  2.82422621, -0.21529976]),\n",
              " array([14.22820712,  3.5535846 ,  2.87502021, -0.1777441 ]),\n",
              " array([14.15122016,  3.42444122,  2.97464298, -0.09958805]),\n",
              " array([14.16175571,  3.42644125,  2.9805732 , -0.0887509 ]),\n",
              " array([14.19267279,  3.41703952,  2.94954265, -0.06292608]),\n",
              " array([14.1618325 ,  3.36890701,  2.96904267, -0.07207704]),\n",
              " array([14.15785993,  3.37486045,  2.97203732, -0.07076883]),\n",
              " array([14.20414701,  3.43964206,  3.03622194, -0.12521618]),\n",
              " array([14.20763683,  3.44239911,  3.03639538, -0.12948188]),\n",
              " array([14.2113362 ,  3.44363704,  3.03443099, -0.1342762 ]),\n",
              " array([14.24603685,  3.40682809,  2.99327658, -0.13564032]),\n",
              " array([14.19973938,  3.47345421,  2.95627523, -0.21096818]),\n",
              " array([14.1694142 ,  3.52084829,  2.97135423, -0.23755493]),\n",
              " array([14.20485476,  3.57988498,  3.01690876, -0.20387319]),\n",
              " array([14.20884317,  3.58413037,  3.01988088, -0.20850965]),\n",
              " array([14.23024223,  3.56502936,  3.00938483, -0.19841696]),\n",
              " array([14.22265657,  3.57204841,  3.00255399, -0.22755477]),\n",
              " array([14.22228645,  3.57192456,  3.00275052, -0.22707511]),\n",
              " array([14.25276191,  3.61258402,  3.04274614, -0.19320212]),\n",
              " array([14.21969111,  3.6429529 ,  2.99532493, -0.20088369]),\n",
              " array([14.22979723,  3.65412323,  3.00538079, -0.20430479]),\n",
              " array([14.23616367,  3.65755458,  3.00328983, -0.19400494]),\n",
              " array([14.25459682,  3.64170365,  2.9954932 , -0.20898456]),\n",
              " array([14.26677415,  3.64063116,  2.97809096, -0.21120095]),\n",
              " array([14.28235591,  3.62646801,  2.97518286, -0.21999021]),\n",
              " array([14.28492255,  3.62950574,  2.97638493, -0.22120169]),\n",
              " array([14.28228336,  3.6298707 ,  2.97309949, -0.22306603]),\n",
              " array([14.28976463,  3.63317785,  2.98352402, -0.23300268]),\n",
              " array([14.23603481,  3.5459964 ,  3.01749688, -0.16658519]),\n",
              " array([14.19995339,  3.50678956,  3.05639071, -0.13028802]),\n",
              " array([14.11924422,  3.6294399 ,  2.94501921, -0.34891206]),\n",
              " array([14.12488398,  3.6203228 ,  2.93695961, -0.35658452]),\n",
              " array([14.17431931,  3.69915065,  2.9995013 , -0.27546856]),\n",
              " array([14.15308938,  3.67608177,  3.00891093, -0.26798867]),\n",
              " array([14.19267567,  3.6451842 ,  2.94672608, -0.30690054]),\n",
              " array([14.2092881 ,  3.63613643,  2.93139876, -0.32751228]),\n",
              " array([14.22434479,  3.62352301,  2.92838531, -0.32616354]),\n",
              " array([14.20857565,  3.60902106,  2.94442529, -0.34499727]),\n",
              " array([14.23923882,  3.59382451,  2.90805926, -0.33956871]),\n",
              " array([14.23869136,  3.59387465,  2.90839063, -0.33944387]),\n",
              " array([14.23333162,  3.58821962,  2.90685758, -0.33461954]),\n",
              " array([14.2687523 ,  3.64722319,  2.95238656, -0.30095668]),\n",
              " array([14.27485893,  3.64992267,  2.96089563, -0.30906751]),\n",
              " array([14.29475013,  3.63023977,  2.94657255, -0.32028762]),\n",
              " array([14.29408332,  3.63009528,  2.94716976, -0.31989   ]),\n",
              " array([14.25359604,  3.59371247,  3.00420872, -0.29202019]),\n",
              " array([14.28994999,  3.62315477,  3.04946445, -0.27688227]),\n",
              " array([14.25326376,  3.56589849,  3.07266081, -0.28776784]),\n",
              " array([14.28544482,  3.54994969,  3.0344946 , -0.28207056]),\n",
              " array([14.20858758,  3.67536195,  3.00939733, -0.32044239]),\n",
              " array([14.20301018,  3.68213138,  3.00810332, -0.32160952]),\n",
              " array([14.23154419,  3.63750333,  2.96405084, -0.32811646]),\n",
              " array([14.22478708,  3.63674923,  2.97347907, -0.32119453]),\n",
              " array([14.21855461,  3.63456904,  2.96921345, -0.32353155]),\n",
              " array([14.2461672 ,  3.65325621,  3.00992668, -0.33745472]),\n",
              " array([14.17036967,  3.76755746,  2.93655333, -0.30621334]),\n",
              " array([14.19448078,  3.78069353,  2.95631156, -0.25621776]),\n",
              " array([14.17474629,  3.81024537,  2.95839566, -0.27424615]),\n",
              " array([14.10571106,  3.9220073 ,  2.94004798, -0.18382455]),\n",
              " array([14.10338103,  3.92088207,  2.94086044, -0.1832932 ]),\n",
              " array([14.09230033,  3.91229621,  2.93986083, -0.17439054]),\n",
              " array([14.10397353,  3.91137717,  2.92302139, -0.18597233]),\n",
              " array([14.04417815,  4.00224569,  2.84050906, -0.34794534]),\n",
              " array([14.06041187,  3.97600265,  2.81730997, -0.37003008]),\n",
              " array([14.08266532,  3.97141824,  2.79091774, -0.3692659 ]),\n",
              " array([14.11323288,  3.99210522,  2.83598791, -0.38467906]),\n",
              " array([14.14174119,  3.97518036,  2.81969486, -0.37372669]),\n",
              " array([14.13929416,  3.97773892,  2.8181192 , -0.37293212]),\n",
              " array([14.1260894 ,  3.9744458 ,  2.83253155, -0.36214055]),\n",
              " array([14.14799682,  3.95560729,  2.82326542, -0.37994352]),\n",
              " array([14.11880569,  3.93523827,  2.85887117, -0.36495566]),\n",
              " array([14.0510643 ,  3.82666651,  2.91679808, -0.28963723]),\n",
              " array([14.00092027,  3.89777422,  2.86351749, -0.24057831]),\n",
              " array([13.99465195,  3.89607923,  2.87006277, -0.24191887]),\n",
              " array([13.99113424,  3.89624938,  2.86862905, -0.23901164]),\n",
              " array([13.97842794,  3.9152767 ,  2.86997092, -0.25061944]),\n",
              " array([13.99395752,  3.91885947,  2.88961772, -0.26988763]),\n",
              " array([13.99674116,  3.91995673,  2.88727497, -0.26631955]),\n",
              " array([13.98481782,  3.90578929,  2.88418658, -0.26211863]),\n",
              " array([13.99762907,  3.90132499,  2.8767782 , -0.27695257]),\n",
              " array([13.96699645,  3.87004202,  2.91786537, -0.35344351]),\n",
              " array([13.99081023,  3.85009254,  2.91309928, -0.35131032]),\n",
              " array([13.93126581,  3.91874751,  2.81766509, -0.29086167]),\n",
              " array([13.96689624,  3.86302043,  2.76265673, -0.29898689]),\n",
              " array([13.98859909,  3.85898026,  2.79128584, -0.30063927]),\n",
              " array([13.99929198,  3.86474346,  2.78777392, -0.28333995]),\n",
              " array([14.02723711,  3.84815296,  2.77180274, -0.27260395]),\n",
              " array([14.04049289,  3.85621074,  2.77836903, -0.26763336]),\n",
              " array([14.03350118,  3.86616628,  2.77721899, -0.27173555]),\n",
              " array([13.97963724,  3.79184962,  2.85128459, -0.30259484]),\n",
              " array([13.89647881,  3.65235376,  2.95889339, -0.2181736 ]),\n",
              " array([13.92191567,  3.67307336,  2.99433753, -0.22210081]),\n",
              " array([13.85342816,  3.78130951,  2.93127756, -0.26827386]),\n",
              " array([13.87901564,  3.75805158,  2.92650204, -0.28270709]),\n",
              " array([13.8274985 ,  3.6744604 ,  2.95907584, -0.21902478]),\n",
              " array([13.86383949,  3.6504242 ,  2.90272511, -0.23132686]),\n",
              " array([13.8390004 ,  3.62969845,  2.93268704, -0.22772061]),\n",
              " array([13.77303568,  3.72917201,  2.86883202, -0.20053201]),\n",
              " array([13.79989576,  3.72517542,  2.83552544, -0.22681085]),\n",
              " array([13.80069491,  3.72482789,  2.83684943, -0.226044  ]),\n",
              " array([13.82643421,  3.70143197,  2.83204557, -0.24056287]),\n",
              " array([13.82962135,  3.69756366,  2.83278503, -0.23989593]),\n",
              " array([13.85953286,  3.67666229,  2.80963082, -0.24630393]),\n",
              " array([13.8736858 ,  3.67710147,  2.8214198 , -0.2623005 ]),\n",
              " array([13.86643477,  3.68789195,  2.82296894, -0.25777648]),\n",
              " array([13.89022238,  3.66743664,  2.81290755, -0.27710737]),\n",
              " array([13.91803366,  3.64800285,  2.79137912, -0.28306544]),\n",
              " array([13.92459375,  3.6471723 ,  2.78957892, -0.28727917]),\n",
              " array([13.97888126,  3.70812736,  2.88391901, -0.25292857]),\n",
              " array([13.94566727,  3.67513903,  2.91680636, -0.21951599]),\n",
              " array([13.99095012,  3.62567728,  2.85178828, -0.23859706]),\n",
              " array([13.90521723,  3.7650719 ,  2.76127163, -0.31770741]),\n",
              " array([13.91241934,  3.77273808,  2.76663858, -0.32607977]),\n",
              " array([13.85170421,  3.86429536,  2.70786525, -0.30105489]),\n",
              " array([13.89926881,  3.91042599,  2.75455097, -0.21644006]),\n",
              " array([13.72180433,  4.21368145,  2.55879614, -0.03791448]),\n",
              " array([13.78521456,  4.12598266,  2.46560957, -0.03077488]),\n",
              " array([13.80414796,  4.09760831,  2.45133694, -0.03700987]),\n",
              " array([13.78708851,  4.1190309 ,  2.43079138, -0.01757111]),\n",
              " array([13.79113953,  4.12038649,  2.42864027, -0.02282115]),\n",
              " array([13.79820535,  4.12455783,  2.42865745, -0.02814033]),\n",
              " array([13.86133124,  4.16278268,  2.54006175,  0.05742383]),\n",
              " array([13.86506195,  4.16389169,  2.53876088,  0.0574489 ]),\n",
              " array([13.80594999,  4.10352475,  2.61804705, -0.09015613]),\n",
              " array([13.81262857,  4.10291315,  2.61400462, -0.09167913]),\n",
              " array([13.82375414,  4.11236522,  2.6216943 , -0.08422969]),\n",
              " array([13.83499873,  4.11094158,  2.61860861, -0.0914524 ]),\n",
              " array([13.81104666,  4.09420031,  2.64264859, -0.08687237]),\n",
              " array([13.81888754,  4.08253205,  2.64097343, -0.09176442]),\n",
              " array([13.83282726,  4.08003472,  2.63639514, -0.08916822]),\n",
              " array([13.83975555,  4.06972451,  2.63491495, -0.09349089]),\n",
              " array([13.8887438 ,  4.01621542,  2.5645766 , -0.11413332]),\n",
              " array([13.923578  ,  3.99289108,  2.53314274, -0.1058818 ]),\n",
              " array([13.90469004,  4.01694066,  2.51141534, -0.08966314]),\n",
              " array([13.92788888,  4.00853156,  2.48703483, -0.09762315]),\n",
              " array([13.9774958 ,  3.96761161,  2.41178861, -0.13359736]),\n",
              " array([13.99576133,  3.97112174,  2.42848328, -0.15306514]),\n",
              " array([13.94281989,  3.91359446,  2.4855513 , -0.09980715]),\n",
              " array([13.95254084,  3.91362369,  2.48596877, -0.1049325 ]),\n",
              " array([13.93445609,  3.89107934,  2.4883671 , -0.10447131]),\n",
              " array([13.93761394,  3.89083071,  2.48381167, -0.10760444]),\n",
              " array([13.96830308,  3.87028184,  2.45611825, -0.1003348 ]),\n",
              " array([13.93903066,  3.84288317,  2.47087143, -0.12640281]),\n",
              " array([13.94826289,  3.83754231,  2.46110661, -0.1363277 ]),\n",
              " array([13.97336243,  3.85907155,  2.47794624, -0.1278403 ]),\n",
              " array([13.91796331,  3.94662309,  2.42693744, -0.16518938]),\n",
              " array([13.9632866 ,  3.99057998,  2.47142327, -0.08456171]),\n",
              " array([13.96486214,  3.9904357 ,  2.47046962, -0.084921  ]),\n",
              " array([14.00210743,  4.00589997,  2.52815217, -0.03666558]),\n",
              " array([14.05231805,  3.96448204,  2.45199022, -0.07307758]),\n",
              " array([14.00513828,  4.03601388,  2.37987767, -0.15722499]),\n",
              " array([14.03004678,  4.02366933,  2.3503366 , -0.15281523]),\n",
              " array([14.0072841 ,  3.99529351,  2.3533553 , -0.15223475]),\n",
              " array([14.00594978,  3.99423936,  2.35328899, -0.15060378]),\n",
              " array([14.01821048,  3.99171354,  2.338748  , -0.15018275]),\n",
              " array([14.06667738,  4.01908108,  2.41871865, -0.1003284 ]),\n",
              " array([14.01938839,  3.97211337,  2.46554257, -0.05275666]),\n",
              " array([1.40364624e+01, 4.00189099e+00, 2.48057177e+00, 2.53169644e-03]),\n",
              " array([14.06182351,  3.99417881,  2.45511761,  0.02371564]),\n",
              " array([14.01713788,  4.06876457,  2.49031177,  0.07483933]),\n",
              " array([14.01873525,  4.06861829,  2.48934491,  0.07447506]),\n",
              " array([14.04148279,  4.06148838,  2.48371703,  0.05462813]),\n",
              " array([14.02654027,  4.08386437,  2.48529506,  0.04097744]),\n",
              " array([14.07792697,  4.01279459,  2.40977806,  0.04676327]),\n",
              " array([14.09789161,  4.01663124,  2.42802572,  0.02548454]),\n",
              " array([14.10392641,  4.01400685,  2.43802392,  0.0312754 ]),\n",
              " array([14.06889588,  4.05439719,  2.38187912,  0.06683789]),\n",
              " array([14.11507574,  4.08564999,  2.44996876,  0.0435525 ]),\n",
              " array([14.12025494,  4.0894998 ,  2.4521496 ,  0.03848538]),\n",
              " array([14.10077854,  4.08423324,  2.47248655,  0.03432008]),\n",
              " array([14.07016187,  4.05096453,  2.48605661,  0.04510717]),\n",
              " array([ 1.40143360e+01,  4.00184110e+00,  2.55754257e+00, -4.35054066e-03]),\n",
              " array([ 1.40175535e+01,  4.00392468e+00,  2.55733313e+00, -4.19561859e-03]),\n",
              " array([14.04505037,  3.98095402,  2.53419143, -0.03527433]),\n",
              " array([14.04497927,  3.98092018,  2.53420182, -0.03520542]),\n",
              " array([ 1.40182177e+01,  4.01452631e+00,  2.50197151e+00, -4.71137066e-03]),\n",
              " array([1.40421551e+01, 4.00031513e+00, 2.48829084e+00, 4.48492232e-03]),\n",
              " array([1.40428813e+01, 4.00053101e+00, 2.48803762e+00, 4.48980298e-03]),\n",
              " array([1.40495975e+01, 3.99636337e+00, 2.49721463e+00, 1.06562557e-02]),\n",
              " array([ 1.40766341e+01,  3.97311414e+00,  2.48577900e+00, -1.13149812e-02]),\n",
              " array([ 1.40696423e+01,  3.97082345e+00,  2.48613969e+00, -1.16194490e-02]),\n",
              " array([14.09902102,  3.9532103 ,  2.44276682, -0.04293192]),\n",
              " array([14.10867673,  3.96141359,  2.44944056, -0.03646667]),\n",
              " array([14.05029525,  3.89817957,  2.52498744, -0.05352094]),\n",
              " array([14.04390007,  3.90332043,  2.51482401, -0.05468257]),\n",
              " array([14.06642918,  3.88941918,  2.48688785, -0.07796862]),\n",
              " array([14.09443823,  3.87066484,  2.46161291, -0.07133384]),\n",
              " array([14.09765456,  3.87256361,  2.46162073, -0.0737551 ]),\n",
              " array([14.12571779,  3.87903796,  2.49712413, -0.10857433]),\n",
              " array([14.07616045,  3.84850851,  2.56627183, -0.08723585]),\n",
              " array([ 1.41338152e+01,  3.88342039e+00,  2.66802065e+00, -9.08758958e-03]),\n",
              " array([1.41567250e+01, 3.86297088e+00, 2.65678360e+00, 1.71763530e-03]),\n",
              " array([ 1.41824683e+01,  3.82270748e+00,  2.61703948e+00, -4.15292270e-03]),\n",
              " array([14.1708393 ,  3.81812352,  2.62682664, -0.01905905]),\n",
              " array([ 1.41769336e+01,  3.81660474e+00,  2.63243796e+00, -5.41235805e-03]),\n",
              " array([ 1.42071895e+01,  3.79899565e+00,  2.58797438e+00, -6.18393319e-03]),\n",
              " array([14.25214196,  3.76191509,  2.51978827, -0.03878279]),\n",
              " array([14.27456724,  3.75774043,  2.54937036, -0.04049018]),\n",
              " array([14.27374255,  3.75780536,  2.55056004, -0.03967194]),\n",
              " array([14.27905223,  3.76408958,  2.5530468 , -0.04217817]),\n",
              " array([14.29659013,  3.74751354,  2.53236555, -0.04730776]),\n",
              " array([14.3191422 ,  3.7650143 ,  2.56241946, -0.04393805]),\n",
              " array([ 1.42388347e+01,  3.65637004e+00,  2.66959264e+00, -3.07474106e-03]),\n",
              " array([1.42172610e+01, 3.63312910e+00, 2.68090272e+00, 1.56733540e-04]),\n",
              " array([ 1.42153574e+01,  3.63210310e+00,  2.68152794e+00, -2.92300389e-03]),\n",
              " array([1.42576170e+01, 3.66356493e+00, 2.75667830e+00, 1.09780271e-02]),\n",
              " array([1.42537195e+01, 3.66375346e+00, 2.75508976e+00, 1.41991801e-02]),\n",
              " array([1.42602487e+01, 3.67148100e+00, 2.75814766e+00, 1.11173409e-02]),\n",
              " array([1.42604491e+01, 3.67154057e+00, 2.75807778e+00, 1.11186878e-02]),\n",
              " array([1.42612998e+01, 3.67191662e+00, 2.75794774e+00, 1.07837282e-02]),\n",
              " array([ 1.42710502e+01,  3.68229538e+00,  2.76521371e+00, -5.51096485e-04]),\n",
              " array([14.29987386,  3.7303096 ,  2.80226297,  0.02684209]),\n",
              " array([14.34733812,  3.77091143,  2.88474571, -0.03292273]),\n",
              " array([1.43074859e+01, 3.82165429e+00, 2.83890245e+00, 1.29746848e-03]),\n",
              " array([1.43009052e+01, 3.81276689e+00, 2.83644251e+00, 5.73650506e-03]),\n",
              " array([14.18363629,  4.00220404,  2.63344608, -0.23418742]),\n",
              " array([14.20382208,  3.98974869,  2.60841564, -0.25505143]),\n",
              " array([14.21470111,  3.98471278,  2.60161039, -0.26489378]),\n",
              " array([14.15265719,  4.08515639,  2.58512081, -0.18362933]),\n",
              " array([14.16949342,  4.11451926,  2.59994068, -0.12911104]),\n",
              " array([14.12199577,  4.18653306,  2.52734226, -0.21382541]),\n",
              " array([14.1063589 ,  4.18478796,  2.54916049, -0.19780714]),\n",
              " array([14.09585619,  4.20120225,  2.55438289, -0.20701509]),\n",
              " array([14.13601659,  4.23372731,  2.60437714, -0.19029215]),\n",
              " array([14.14651659,  4.2300684 ,  2.59830528, -0.20244994]),\n",
              " array([14.17122242,  4.20937163,  2.59336066, -0.20023684]),\n",
              " array([14.19696017,  4.1940916 ,  2.57865104, -0.19034887]),\n",
              " array([14.21376762,  4.20713446,  2.60104941, -0.18783751]),\n",
              " array([14.21835061,  4.20571403,  2.60266974, -0.19128761]),\n",
              " array([14.20636362,  4.19054716,  2.59972675, -0.17746324]),\n",
              " array([14.23823226,  4.22145504,  2.63100653, -0.12077067]),\n",
              " array([14.20155021,  4.19885732,  2.6809508 , -0.12760251]),\n",
              " array([14.2043513 ,  4.19468892,  2.68035236, -0.12935016]),\n",
              " array([14.22393996,  4.19570851,  2.7042085 , -0.10415121]),\n",
              " array([14.23930273,  4.17268524,  2.69262754, -0.10921035]),\n",
              " array([14.26883696,  4.12790678,  2.65440962, -0.1077883 ]),\n",
              " array([14.26323006,  4.12603055,  2.65738691, -0.10052187]),\n",
              " array([14.27065348,  4.12307099,  2.65444754, -0.09777245]),\n",
              " array([14.22805975,  4.06410502,  2.66383507, -0.03845443]),\n",
              " array([14.28029595,  3.99186033,  2.58706965, -0.03257295]),\n",
              " array([14.29342356,  3.98578355,  2.57885782, -0.04444963]),\n",
              " array([14.32148711,  3.97357938,  2.56187148, -0.04296921]),\n",
              " array([14.32180612,  3.97319219,  2.5619455 , -0.04290245]),\n",
              " array([14.33627814,  3.97729142,  2.57800679, -0.03814198]),\n",
              " array([14.32954425,  3.98211483,  2.57230672, -0.04395274]),\n",
              " array([14.2824286 ,  3.94280151,  2.62913954, -0.03711228]),\n",
              " array([14.329049  ,  3.9043451 ,  2.55842343, -0.0709207 ]),\n",
              " array([14.27118054,  3.99208264,  2.46997363, -0.1741319 ]),\n",
              " array([14.2132066 ,  3.93998591,  2.55164799, -0.13422497]),\n",
              " array([14.2373049 ,  3.91743438,  2.53283102, -0.12729636]),\n",
              " array([14.23303166,  3.9140584 ,  2.53261865, -0.12207305]),\n",
              " array([14.25072022,  3.88723979,  2.50972927, -0.12122136]),\n",
              " array([14.28282987,  3.90057174,  2.55945813, -0.07961973]),\n",
              " array([1.42217765e+01, 3.99941175e+00, 2.54323181e+00, 3.47321031e-04]),\n",
              " array([14.16124925,  4.09817745,  2.52346701, -0.02987158]),\n",
              " array([14.18375825,  4.08481427,  2.51060268, -0.02122403]),\n",
              " array([14.1956778 ,  4.09798899,  2.52246295, -0.02525902]),\n",
              " array([14.2242873 ,  4.07883261,  2.49664617, -0.01848201]),\n",
              " array([14.16616648,  3.98812332,  2.53339542, -0.03572768]),\n",
              " array([14.18753063,  4.00470224,  2.56186624, -0.03253546]),\n",
              " array([1.42035057e+01, 4.01340568e+00, 2.57495727e+00, 5.89636222e-04]),\n",
              " array([14.22715793,  3.99185159,  2.55265561, -0.0316963 ]),\n",
              " array([14.21563827,  3.9829256 ,  2.5516164 , -0.02244096]),\n",
              " array([1.41188209e+01, 3.83634454e+00, 2.68866765e+00, 8.10513796e-03]),\n",
              " array([14.06101094,  3.746458  ,  2.74005373,  0.0324648 ]),\n",
              " array([14.01315348,  3.6975845 ,  2.80424437, -0.08703727]),\n",
              " array([14.03790344,  3.67690855,  2.78341446, -0.11501129]),\n",
              " array([14.01662616,  3.69488221,  2.7458644 , -0.12984577]),\n",
              " array([14.0430765 ,  3.67012961,  2.72521085, -0.12224091]),\n",
              " array([14.04713639,  3.67192431,  2.7245902 , -0.12383951]),\n",
              " array([14.0038882 ,  3.62508142,  2.78055429, -0.13647308]),\n",
              " array([14.02709016,  3.60437112,  2.76917393, -0.12553006]),\n",
              " array([13.94451549,  3.74094485,  2.73217335, -0.0451224 ]),\n",
              " array([13.96763281,  3.73750516,  2.70350782, -0.06773946]),\n",
              " array([13.88722121,  3.61576243,  2.81733557, -0.04236943]),\n",
              " array([1.38474607e+01, 3.66569214e+00, 2.76944997e+00, 2.93656231e-03]),\n",
              " array([13.87561811,  3.65035651,  2.74347074, -0.03199953]),\n",
              " array([13.8367424 ,  3.61065546,  2.79561425, -0.12907378]),\n",
              " array([13.7578766 ,  3.74109493,  2.76027556, -0.05227765]),\n",
              " array([13.78707676,  3.71503058,  2.74595314, -0.03850563]),\n",
              " array([1.38184797e+01, 3.71167814e+00, 2.79501162e+00, 2.61405663e-03]),\n",
              " array([ 1.38004800e+01,  3.70058955e+00,  2.81951903e+00, -7.38292947e-04]),\n",
              " array([ 1.38084327e+01,  3.69402947e+00,  2.82136415e+00, -3.75990678e-03]),\n",
              " array([13.7507749 ,  3.78737242,  2.80604027,  0.07175972]),\n",
              " array([13.74972476,  3.78612463,  2.80576826,  0.07212971]),\n",
              " array([13.70059008,  3.71833298,  2.8733309 ,  0.04397986]),\n",
              " array([13.70954289,  3.73157387,  2.87673801,  0.05599134]),\n",
              " array([13.75806188,  3.81120677,  2.94139659,  0.14811086]),\n",
              " array([13.78863679,  3.793055  ,  2.92392244,  0.15985718]),\n",
              " array([13.81773685,  3.78706012,  2.88941024,  0.16085647]),\n",
              " array([13.79707034,  3.80618295,  2.87080016,  0.08147287]),\n",
              " array([13.78032417,  3.82156094,  2.84678732,  0.07758313]),\n",
              " array([13.78718695,  3.82880181,  2.84875028,  0.0714059 ]),\n",
              " array([13.76797874,  3.80221033,  2.85298371,  0.09815613]),\n",
              " array([13.65667298,  3.98201461,  2.66030964, -0.12956767]),\n",
              " array([13.70588507,  4.02187045,  2.72157202, -0.10907557]),\n",
              " array([13.73364091,  4.02827389,  2.75668653, -0.14351339]),\n",
              " array([13.76932869,  4.00333621,  2.72906097, -0.15115886]),\n",
              " array([13.75057077,  3.97123515,  2.72344233, -0.12633091]),\n",
              " array([13.7453013 ,  3.9754711 ,  2.7150679 , -0.12728806]),\n",
              " array([13.72354958,  3.95546731,  2.7371932 , -0.15326704]),\n",
              " array([13.68313604,  3.8923938 ,  2.76274631, -0.16525859]),\n",
              " array([13.73145249,  3.84114179,  2.70544377, -0.16715797]),\n",
              " array([13.76038804,  3.83065325,  2.67503435, -0.17708637]),\n",
              " array([13.78090701,  3.82115501,  2.66219895, -0.19565007]),\n",
              " array([13.83425449,  3.77714954,  2.58127886, -0.23433687]),\n",
              " array([13.86506502,  3.76187996,  2.54473806, -0.22888222]),\n",
              " array([13.88394369,  3.7559627 ,  2.54006736, -0.24535361]),\n",
              " array([13.82928768,  3.68055322,  2.6152221 , -0.27666669]),\n",
              " array([13.8297766 ,  3.68078648,  2.6150219 , -0.27695149]),\n",
              " array([13.78070175,  3.61307737,  2.68250227, -0.30506706]),\n",
              " array([13.85057452,  3.72775765,  2.77561787, -0.17240464]),\n",
              " array([13.8793653 ,  3.69926837,  2.75488646, -0.18864477]),\n",
              " array([13.89532297,  3.69976356,  2.76817873, -0.20668117]),\n",
              " array([13.91445859,  3.7033962 ,  2.77894972, -0.18699775]),\n",
              " array([13.92934818,  3.70385825,  2.79135231, -0.20382694]),\n",
              " array([13.9317131 ,  3.70498376,  2.79100675, -0.20611891]),\n",
              " array([13.94675889,  3.71739743,  2.80140597, -0.18641763]),\n",
              " array([13.95823929,  3.71534069,  2.79763541, -0.18427946]),\n",
              " array([13.95219456,  3.71370615,  2.80394722, -0.18557221]),\n",
              " array([13.99523454,  3.66669425,  2.74214951, -0.2037082 ]),\n",
              " array([13.97465903,  3.6975055 ,  2.74432243, -0.22250491]),\n",
              " array([13.95316859,  3.68426647,  2.77358263, -0.22650739]),\n",
              " array([13.9132754 ,  3.6409177 ,  2.81658533, -0.18637567]),\n",
              " array([13.92138198,  3.64767236,  2.81901353, -0.17785045]),\n",
              " array([13.92420718,  3.648786  ,  2.8166358 , -0.17422911]),\n",
              " array([13.9758292 ,  3.57739075,  2.74077297, -0.16841679]),\n",
              " array([13.92476875,  3.49555418,  2.78443569, -0.11164511]),\n",
              " array([13.96365429,  3.45308012,  2.72860302, -0.12803051]),\n",
              " array([13.92761583,  3.41505617,  2.77280412, -0.11632852]),\n",
              " array([13.88823904,  3.46519368,  2.72750777, -0.08251656]),\n",
              " array([13.92375694,  3.49412478,  2.77699898, -0.08800019]),\n",
              " array([ 1.39681233e+01,  3.53715361e+00,  2.82054558e+00, -9.07482827e-03]),\n",
              " array([13.90205742,  3.64410845,  2.80298706,  0.07745757]),\n",
              " array([13.91354485,  3.65318384,  2.80355796,  0.06341616]),\n",
              " array([13.9069342 ,  3.65605866,  2.79260571,  0.05707272]),\n",
              " array([13.90567085,  3.65564475,  2.79267088,  0.05701771]),\n",
              " array([13.88823933,  3.63151288,  2.79651273,  0.08129365]),\n",
              " array([13.90308666,  3.64908527,  2.80346638,  0.07428556]),\n",
              " array([13.91293935,  3.64603159,  2.80694983,  0.06686841]),\n",
              " array([13.89849399,  3.66660045,  2.80457375,  0.05839301]),\n",
              " array([13.90695189,  3.67062574,  2.80333788,  0.050196  ]),\n",
              " array([13.87154947,  3.72033276,  2.78006399,  0.06853594]),\n",
              " array([13.80835651,  3.63484192,  2.86439725,  0.10069078]),\n",
              " array([13.84408457,  3.61091908,  2.83215679,  0.10915403]),\n",
              " array([13.86694886,  3.60938593,  2.83761594,  0.1256212 ]),\n",
              " array([13.91633606,  3.63929154,  2.92477427,  0.19256322]),\n",
              " array([13.93405906,  3.66078478,  2.94061405,  0.22662052]),\n",
              " array([13.95259691,  3.63436694,  2.92526269,  0.22589178]),\n",
              " array([13.94058865,  3.62143069,  2.93155806,  0.22769046]),\n",
              " array([13.97757429,  3.66153369,  2.97710067,  0.20716834]),\n",
              " array([14.0272491 ,  3.60727466,  2.90577653,  0.1862366 ]),\n",
              " array([14.03014753,  3.6048838 ,  2.906449  ,  0.18513535]),\n",
              " array([13.97146623,  3.52549657,  2.98476129,  0.21499449]),\n",
              " array([13.91137063,  3.42468794,  3.06252629,  0.27600268]),\n",
              " array([13.93877575,  3.45126685,  3.08942503,  0.32475489]),\n",
              " array([13.96658905,  3.44254915,  3.08254384,  0.30048815]),\n",
              " array([13.98674313,  3.44929331,  3.07184192,  0.27436887]),\n",
              " array([14.01590737,  3.49787493,  3.109329  ,  0.30208577]),\n",
              " array([14.03172885,  3.50130334,  3.09515877,  0.29265148]),\n",
              " array([14.06445644,  3.47938955,  3.06562588,  0.30040399]),\n",
              " array([13.9580337 ,  3.65242417,  2.95326492,  0.202202  ]),\n",
              " array([13.99892001,  3.67718222,  3.02542091,  0.25762147]),\n",
              " array([14.02502483,  3.66208053,  2.99781014,  0.22955809]),\n",
              " array([14.01113012,  3.64698225,  3.00396862,  0.23445358]),\n",
              " array([14.01980264,  3.64429434,  3.00703482,  0.22792486]),\n",
              " array([14.05093665,  3.6125048 ,  2.98335475,  0.24590522]),\n",
              " array([14.08215834,  3.56367313,  2.93515287,  0.23878538]),\n",
              " array([14.09360623,  3.56691576,  2.94785793,  0.24255108]),\n",
              " array([14.11457677,  3.55478427,  2.92567763,  0.22000719]),\n",
              " array([14.12896758,  3.55351683,  2.90511216,  0.21738793]),\n",
              " array([14.16892097,  3.57770996,  2.97562174,  0.27154286]),\n",
              " array([14.13949682,  3.60136302,  2.92885986,  0.26619821]),\n",
              " array([14.13202752,  3.60917274,  2.92405034,  0.26862356]),\n",
              " array([14.04586014,  3.73981585,  2.79234666,  0.11493984]),\n",
              " array([14.01821767,  3.71439469,  2.82046388,  0.0819253 ]),\n",
              " array([13.97909291,  3.65333258,  2.8452021 ,  0.07031616]),\n",
              " array([13.99481457,  3.63092804,  2.83218285,  0.06969812]),\n",
              " array([14.02488718,  3.67810823,  2.86535489,  0.10464607]),\n",
              " array([13.99793543,  3.7008753 ,  2.81779056,  0.08585537]),\n",
              " array([13.97960234,  3.71561264,  2.78865498,  0.08252532]),\n",
              " array([13.99303681,  3.72456341,  2.79739621,  0.09207733]),\n",
              " array([14.02257354,  3.69988864,  2.77253771,  0.05869301]),\n",
              " array([14.02487839,  3.69931424,  2.77465991,  0.06385419]),\n",
              " array([14.00703168,  3.67992162,  2.78257001,  0.07014208]),\n",
              " array([14.00501392,  3.68237061,  2.78210187,  0.06971984]),\n",
              " array([13.9925198 ,  3.66679551,  2.78375879,  0.07003846]),\n",
              " array([1.39750117e+01, 3.68299583e+00, 2.76799287e+00, 2.78693911e-03]),\n",
              " array([1.39779025e+01, 3.68455389e+00, 2.76704343e+00, 7.46376264e-03]),\n",
              " array([1.40047086e+01, 3.66582248e+00, 2.74629308e+00, 1.72103153e-03]),\n",
              " array([1.39865041e+01, 3.65309842e+00, 2.76456447e+00, 5.20204092e-03]),\n",
              " array([ 1.40129432e+01,  3.62693617e+00,  2.74552642e+00, -9.71157646e-03]),\n",
              " array([ 1.40352063e+01,  3.61371898e+00,  2.73280263e+00, -1.15850545e-03]),\n",
              " array([13.99886742,  3.66601379,  2.70376028, -0.06028331]),\n",
              " array([14.02370044,  3.64144082,  2.68587874, -0.07429097]),\n",
              " array([14.04820744,  3.63922519,  2.67137607, -0.09725235]),\n",
              " array([14.05787465,  3.65352265,  2.67505505, -0.0842824 ]),\n",
              " array([14.05827554,  3.65298179,  2.67509122, -0.08480563]),\n",
              " array([14.07958997,  3.61964537,  2.64218474, -0.08966621]),\n",
              " array([14.08414939,  3.6192864 ,  2.63560745, -0.09418992]),\n",
              " array([14.05976484,  3.59686135,  2.6604108 , -0.12331339]),\n",
              " array([14.0374807 ,  3.57636792,  2.68307767, -0.14992827]),\n",
              " array([14.01336084,  3.54297684,  2.68839361, -0.11633783]),\n",
              " array([13.99339851,  3.52461865,  2.70869879, -0.14017966]),\n",
              " ...]"
            ]
          },
          "execution_count": 44,
          "metadata": {},
          "output_type": "execute_result"
        }
      ],
      "source": [
        "# ваш код\n",
        "w_value"
      ]
    },
    {
      "cell_type": "markdown",
      "metadata": {
        "id": "qabzMc3Qa_a5"
      },
      "source": [
        "**Выведите среднеквадратичную ошибку на последней итерации.**"
      ]
    },
    {
      "cell_type": "code",
      "execution_count": 45,
      "metadata": {
        "id": "7tPWleMIa_a7"
      },
      "outputs": [
        {
          "data": {
            "text/plain": [
              "3.113944644221084"
            ]
          },
          "execution_count": 45,
          "metadata": {},
          "output_type": "execute_result"
        },
        {
          "ename": "",
          "evalue": "",
          "output_type": "error",
          "traceback": [
            "\u001b[1;31mПри выполнении кода в текущей ячейке или предыдущей ячейке ядро аварийно завершило работу. \n",
            "\u001b[1;31mПроверьте код в ячейках, чтобы определить возможную причину сбоя. \n",
            "\u001b[1;31mЩелкните <a href='https://aka.ms/vscodeJupyterKernelCrash'>здесь</a>, чтобы получить дополнительные сведения. \n",
            "\u001b[1;31mПодробнее см. в <a href='command:jupyter.viewOutput'>журнале Jupyter</a>."
          ]
        }
      ],
      "source": [
        "# ваш код\n",
        "mse_errors[-1]"
      ]
    }
  ],
  "metadata": {
    "colab": {
      "collapsed_sections": [],
      "name": "Практика_Оптимизация.ipynb",
      "provenance": [],
      "toc_visible": true
    },
    "kernelspec": {
      "display_name": "Python 3.10.8 ('base')",
      "language": "python",
      "name": "python3"
    },
    "language_info": {
      "codemirror_mode": {
        "name": "ipython",
        "version": 3
      },
      "file_extension": ".py",
      "mimetype": "text/x-python",
      "name": "python",
      "nbconvert_exporter": "python",
      "pygments_lexer": "ipython3",
      "version": "3.11.9"
    },
    "vscode": {
      "interpreter": {
        "hash": "86c56a74836ad344b00594bf6f38fa6a676a207ceefe20d101fbc465800ccb8d"
      }
    }
  },
  "nbformat": 4,
  "nbformat_minor": 0
}
