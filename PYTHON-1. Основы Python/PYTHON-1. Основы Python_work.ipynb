{
 "cells": [
  {
   "cell_type": "code",
   "execution_count": 38,
   "metadata": {},
   "outputs": [
    {
     "data": {
      "text/plain": [
       "'JohnLennon'"
      ]
     },
     "execution_count": 38,
     "metadata": {},
     "output_type": "execute_result"
    }
   ],
   "source": [
    "name, surname =\"John\",\"Lennon\"\n",
    "a= name+surname\n",
    "a"
   ]
  },
  {
   "cell_type": "code",
   "execution_count": 39,
   "metadata": {},
   "outputs": [
    {
     "name": "stdout",
     "output_type": "stream",
     "text": [
      "Hello, 1\n"
     ]
    }
   ],
   "source": [
    "name = input(\"Please enter your first name:\")\n",
    "print(\"Hello,\", name)"
   ]
  },
  {
   "cell_type": "code",
   "execution_count": 40,
   "metadata": {},
   "outputs": [
    {
     "name": "stdout",
     "output_type": "stream",
     "text": [
      "Answer to the Ultimate Question of Life, the Universe, and Everything — 42\n"
     ]
    }
   ],
   "source": [
    "print(\"Answer to the Ultimate Question of Life, the Universe, and Everything —\", 42)"
   ]
  },
  {
   "cell_type": "code",
   "execution_count": 41,
   "metadata": {},
   "outputs": [
    {
     "name": "stdout",
     "output_type": "stream",
     "text": [
      "The current month is - 1\n"
     ]
    }
   ],
   "source": [
    "month = input (\"Which month is it now?\") # Какой сейчас месяц?\n",
    "print (\"The current month is -\", month)"
   ]
  },
  {
   "cell_type": "code",
   "execution_count": 42,
   "metadata": {},
   "outputs": [],
   "source": [
    "first_name = input(\"Enter your firstname:\")\n",
    "last_name = input(\"Enter your lastname:\")\n",
    "age = input(\"Enter your age:\")\n",
    "city = input(\"Enter your city of residence:\")"
   ]
  },
  {
   "cell_type": "code",
   "execution_count": 43,
   "metadata": {},
   "outputs": [
    {
     "name": "stdout",
     "output_type": "stream",
     "text": [
      "\n",
      "Hello, 1 1 !\n",
      "\n",
      "Your profile:\n",
      "Age: 1\n",
      "City: 1\n"
     ]
    }
   ],
   "source": [
    "first_name = input(\"Enter your first name:\")\n",
    "last_name = input(\"Enter your last name:\")\n",
    "age = input(\"Enter your age:\")\n",
    "city = input(\"Enter your city of residence:\")\n",
    "\n",
    "print(\"\")\n",
    "print(\"Hello,\", first_name, last_name, \"!\")\n",
    "print(\"\")\n",
    "print(\"Your profile:\")\n",
    "print(\"Age:\", age)\n",
    "print(\"City:\", city)"
   ]
  },
  {
   "cell_type": "code",
   "execution_count": 44,
   "metadata": {},
   "outputs": [
    {
     "name": "stdout",
     "output_type": "stream",
     "text": [
      "\n",
      "Hello, 1 1 !\n",
      "\n",
      "Your profile:\n",
      "Age: 1 years\n",
      "City: 1\n"
     ]
    }
   ],
   "source": [
    "first_name = input(\"Enter your first name:\")\n",
    "last_name = input(\"Enter your last name:\")\n",
    "age = input(\"Enter your age:\")\n",
    "city = input(\"Enter your city of residence:\")\n",
    "\n",
    "\n",
    "print(\"\")\n",
    "print(\"Hello,\", first_name, last_name, \"!\")\n",
    "print(\"\")\n",
    "print(\"Your profile:\")\n",
    "print(\"Age:\", age, \"years\")\n",
    "print(\"City:\", city)"
   ]
  },
  {
   "cell_type": "code",
   "execution_count": 45,
   "metadata": {},
   "outputs": [
    {
     "name": "stdout",
     "output_type": "stream",
     "text": [
      "-1\n"
     ]
    }
   ],
   "source": [
    "print(7%-2)"
   ]
  },
  {
   "cell_type": "code",
   "execution_count": 46,
   "metadata": {},
   "outputs": [
    {
     "name": "stdout",
     "output_type": "stream",
     "text": [
      "512\n"
     ]
    }
   ],
   "source": [
    "print (2**3**2)"
   ]
  },
  {
   "cell_type": "code",
   "execution_count": 47,
   "metadata": {},
   "outputs": [
    {
     "name": "stdout",
     "output_type": "stream",
     "text": [
      "2 1\n"
     ]
    }
   ],
   "source": [
    "a=5\n",
    "b=2\n",
    "q=a//b\n",
    "r=a%b\n",
    "print(q,r)"
   ]
  },
  {
   "cell_type": "code",
   "execution_count": 48,
   "metadata": {},
   "outputs": [
    {
     "name": "stdout",
     "output_type": "stream",
     "text": [
      "-3 1\n"
     ]
    }
   ],
   "source": [
    "a=-5\n",
    "b=2\n",
    "q=a//b\n",
    "r=a%b\n",
    "print(q,r)"
   ]
  },
  {
   "cell_type": "code",
   "execution_count": 49,
   "metadata": {},
   "outputs": [
    {
     "name": "stdout",
     "output_type": "stream",
     "text": [
      "5.4321\n",
      "3.138886636534116e+73\n"
     ]
    }
   ],
   "source": [
    "a=5.4321\n",
    "print(a)\n",
    "print(a**100)"
   ]
  },
  {
   "cell_type": "code",
   "execution_count": 52,
   "metadata": {},
   "outputs": [
    {
     "data": {
      "text/plain": [
       "Fraction(1, 7)"
      ]
     },
     "execution_count": 52,
     "metadata": {},
     "output_type": "execute_result"
    }
   ],
   "source": [
    "from fractions import Fraction\n",
    "a=Fraction(1,7)\n",
    "b=Fraction(1,3)\n",
    "a+b\n",
    "a-b\n",
    "a*b\n",
    "a/b\n",
    "a%b\n"
   ]
  },
  {
   "cell_type": "code",
   "execution_count": null,
   "metadata": {},
   "outputs": [
    {
     "name": "stdout",
     "output_type": "stream",
     "text": [
      "0.3\n"
     ]
    }
   ],
   "source": [
    "from decimal import Decimal\n",
    "#number=0.1+0.1+0.1\n",
    "number=Decimal(\"0.1\")\n",
    "number= number+number+number\n",
    "print(number)"
   ]
  },
  {
   "cell_type": "code",
   "execution_count": null,
   "metadata": {},
   "outputs": [
    {
     "name": "stdout",
     "output_type": "stream",
     "text": [
      "5.1\n"
     ]
    }
   ],
   "source": [
    "number=Decimal(\"0.1\")\n",
    "number= number+5\n",
    "print(number)"
   ]
  },
  {
   "cell_type": "code",
   "execution_count": 64,
   "metadata": {},
   "outputs": [
    {
     "name": "stdout",
     "output_type": "stream",
     "text": [
      "5.10000\n"
     ]
    }
   ],
   "source": [
    "number=Decimal(\"0.10000\")\n",
    "number= number+5\n",
    "print(number)"
   ]
  },
  {
   "cell_type": "code",
   "execution_count": 65,
   "metadata": {},
   "outputs": [
    {
     "name": "stdout",
     "output_type": "stream",
     "text": [
      "1\n"
     ]
    }
   ],
   "source": [
    "print(-31%2)"
   ]
  },
  {
   "cell_type": "code",
   "execution_count": 67,
   "metadata": {},
   "outputs": [
    {
     "name": "stdout",
     "output_type": "stream",
     "text": [
      "-1.9999999999999998\n"
     ]
    }
   ],
   "source": [
    "print(1.00+0.01-3.01)"
   ]
  },
  {
   "cell_type": "code",
   "execution_count": 81,
   "metadata": {},
   "outputs": [
    {
     "name": "stdout",
     "output_type": "stream",
     "text": [
      "-2\n"
     ]
    }
   ],
   "source": [
    "print(round(1.00+0.01-3.01))"
   ]
  },
  {
   "cell_type": "code",
   "execution_count": 82,
   "metadata": {},
   "outputs": [
    {
     "name": "stdout",
     "output_type": "stream",
     "text": [
      "-1.9999999999999998\n"
     ]
    }
   ],
   "source": [
    "from decimal import Decimal\n",
    " \n",
    "number = Decimal(\"1.00\")\n",
    "number=(1.00+0.01-3.01)\n",
    "print(number)"
   ]
  },
  {
   "cell_type": "code",
   "execution_count": 85,
   "metadata": {},
   "outputs": [
    {
     "name": "stdout",
     "output_type": "stream",
     "text": [
      "-2.0\n"
     ]
    }
   ],
   "source": [
    "from decimal import Decimal\n",
    "number = Decimal(1.00+0.01-3.01)\n",
    "print(number.quantize(Decimal(\"0.1\")))"
   ]
  },
  {
   "cell_type": "code",
   "execution_count": 92,
   "metadata": {},
   "outputs": [
    {
     "name": "stdout",
     "output_type": "stream",
     "text": [
      "0.7\n"
     ]
    }
   ],
   "source": [
    "number = 0.1 + 0.1 + 0.5\n",
    "print(number)       # 0.30000000000000004"
   ]
  },
  {
   "cell_type": "code",
   "execution_count": 93,
   "metadata": {},
   "outputs": [],
   "source": [
    "from decimal import Decimal\n",
    " \n",
    "number = Decimal(\"0.1\")"
   ]
  },
  {
   "cell_type": "code",
   "execution_count": 100,
   "metadata": {},
   "outputs": [
    {
     "name": "stdout",
     "output_type": "stream",
     "text": [
      "0.3\n"
     ]
    }
   ],
   "source": [
    "from decimal import Decimal\n",
    " \n",
    "number = Decimal(\"0.1\")\n",
    "number = number + number + number\n",
    "print(number)       # 0.3"
   ]
  },
  {
   "cell_type": "code",
   "execution_count": 104,
   "metadata": {},
   "outputs": [
    {
     "name": "stdout",
     "output_type": "stream",
     "text": [
      "2.5\n"
     ]
    }
   ],
   "source": [
    "number = Decimal(\"0.5\")\n",
    "number = number + 2\n",
    "print(number)"
   ]
  },
  {
   "cell_type": "code",
   "execution_count": 107,
   "metadata": {},
   "outputs": [
    {
     "name": "stdout",
     "output_type": "stream",
     "text": [
      "2.4000\n"
     ]
    }
   ],
   "source": [
    "number = Decimal(\"0.8000\")\n",
    "number = 3 * number\n",
    "print(number)       # 0.30"
   ]
  },
  {
   "cell_type": "code",
   "execution_count": 117,
   "metadata": {},
   "outputs": [
    {
     "name": "stdout",
     "output_type": "stream",
     "text": [
      "0.875\n",
      "0.56\n",
      "1.0\n"
     ]
    }
   ],
   "source": [
    "from decimal import Decimal\n",
    " \n",
    "number = Decimal(\"0.8754\")\n",
    "number = number.quantize(Decimal(\"1.000\"))\n",
    "print(number)       # 0.44\n",
    " \n",
    "number = Decimal(\"0.555678\")\n",
    "print(number.quantize(Decimal(\"1.00\")))       # 0.56\n",
    " \n",
    "number = Decimal(\"0.999\")\n",
    "print(number.quantize(Decimal(\"1.0\")))       # 1.00"
   ]
  },
  {
   "cell_type": "code",
   "execution_count": 123,
   "metadata": {},
   "outputs": [
    {
     "name": "stdout",
     "output_type": "stream",
     "text": [
      "10.0253\n",
      "10.01\n"
     ]
    }
   ],
   "source": [
    "from decimal import Decimal, ROUND_HALF_EVEN\n",
    " \n",
    " \n",
    "number = Decimal(\"10.025333\")      # 2 - ближайшее четное число\n",
    "print(number.quantize(Decimal(\"1.0000\"), ROUND_HALF_EVEN))       # 10.02\n",
    " \n",
    "number = Decimal(\"10.014\")      # 4 - ближайшее четное число\n",
    "print(number.quantize(Decimal(\"1.00\"), ROUND_HALF_EVEN))       # 10.04"
   ]
  },
  {
   "cell_type": "code",
   "execution_count": 134,
   "metadata": {},
   "outputs": [
    {
     "name": "stdout",
     "output_type": "stream",
     "text": [
      "10.02\n",
      "10.03\n"
     ]
    }
   ],
   "source": [
    "from decimal import Decimal, ROUND_HALF_DOWN , ROUND_05UP, ROUND_CEILING, ROUND_FLOOR \n",
    "number = Decimal(\"10.024\")\n",
    "print(number.quantize(Decimal(\"1.00\"), ROUND_HALF_DOWN))       # 10.03\n",
    " \n",
    "number = Decimal(\"10.026\")\n",
    "print(number.quantize(Decimal(\"1.00\"), ROUND_HALF_DOWN))       # 10.02"
   ]
  },
  {
   "cell_type": "code",
   "execution_count": 136,
   "metadata": {},
   "outputs": [
    {
     "name": "stdout",
     "output_type": "stream",
     "text": [
      "10.01\n",
      "10.02\n"
     ]
    }
   ],
   "source": [
    "number = Decimal(\"10.005\")\n",
    "print(number.quantize(Decimal(\"1.00\"), ROUND_05UP))       # 10.01\n",
    " \n",
    "number = Decimal(\"10.025\")\n",
    "print(number.quantize(Decimal(\"1.00\"), ROUND_05UP))       # 10.02"
   ]
  },
  {
   "cell_type": "code",
   "execution_count": 139,
   "metadata": {},
   "outputs": [
    {
     "name": "stdout",
     "output_type": "stream",
     "text": [
      "10.0012\n",
      "10.03\n"
     ]
    }
   ],
   "source": [
    "number = Decimal(\"10.001111\")\n",
    "print(number.quantize(Decimal(\"1.0000\"), ROUND_CEILING))       # 10.03\n",
    " \n",
    "number = Decimal(\"10.025\")\n",
    "print(number.quantize(Decimal(\"1.00\"), ROUND_CEILING))       # 10.03"
   ]
  },
  {
   "cell_type": "code",
   "execution_count": 140,
   "metadata": {},
   "outputs": [
    {
     "name": "stdout",
     "output_type": "stream",
     "text": [
      "10.02\n",
      "10.02\n"
     ]
    }
   ],
   "source": [
    "number = Decimal(\"10.021\")\n",
    "print(number.quantize(Decimal(\"1.00\"), ROUND_FLOOR))       # 10.02\n",
    " \n",
    "number = Decimal(\"10.025\")\n",
    "print(number.quantize(Decimal(\"1.00\"), ROUND_FLOOR))       # 10.02"
   ]
  },
  {
   "cell_type": "code",
   "execution_count": 141,
   "metadata": {},
   "outputs": [
    {
     "name": "stdout",
     "output_type": "stream",
     "text": [
      "2\n"
     ]
    }
   ],
   "source": [
    "print ((31 % 2) + (-31 % 2))"
   ]
  },
  {
   "cell_type": "code",
   "execution_count": 143,
   "metadata": {},
   "outputs": [
    {
     "name": "stdout",
     "output_type": "stream",
     "text": [
      "9\n"
     ]
    }
   ],
   "source": [
    "print (3**2)"
   ]
  },
  {
   "cell_type": "code",
   "execution_count": 144,
   "metadata": {},
   "outputs": [
    {
     "name": "stdout",
     "output_type": "stream",
     "text": [
      "-2\n"
     ]
    }
   ],
   "source": [
    "print (13 % -3)"
   ]
  },
  {
   "cell_type": "code",
   "execution_count": 145,
   "metadata": {},
   "outputs": [
    {
     "name": "stdout",
     "output_type": "stream",
     "text": [
      "-6\n"
     ]
    }
   ],
   "source": [
    "print (13 % -3 * 3)"
   ]
  },
  {
   "cell_type": "code",
   "execution_count": 142,
   "metadata": {},
   "outputs": [
    {
     "name": "stdout",
     "output_type": "stream",
     "text": [
      "-15\n"
     ]
    }
   ],
   "source": [
    "print (13 % -3 * 3 - 3**2)"
   ]
  },
  {
   "cell_type": "markdown",
   "metadata": {},
   "source": [
    "Задание 7.9"
   ]
  },
  {
   "cell_type": "code",
   "execution_count": null,
   "metadata": {},
   "outputs": [
    {
     "name": "stdout",
     "output_type": "stream",
     "text": [
      "9.17\n",
      "9.17\n"
     ]
    }
   ],
   "source": [
    "from decimal import Decimal\n",
    " \n",
    "number = Decimal(11*2.5/3)\n",
    "number = number.quantize(Decimal(\"1.00\"))\n",
    "print(number) \n",
    "\n",
    "print(round((11*2.5/3),2))"
   ]
  },
  {
   "cell_type": "markdown",
   "metadata": {},
   "source": [
    "Задание 7.10"
   ]
  },
  {
   "cell_type": "code",
   "execution_count": 153,
   "metadata": {},
   "outputs": [
    {
     "name": "stdout",
     "output_type": "stream",
     "text": [
      "5\n",
      "5\n"
     ]
    }
   ],
   "source": [
    "from decimal import Decimal\n",
    " \n",
    "number = Decimal(3.14159**2/2)\n",
    "number = number.quantize(Decimal(\"1.\"))\n",
    "print(number) \n",
    "\n",
    "print(round((3.14159**2/2)))"
   ]
  },
  {
   "cell_type": "code",
   "execution_count": 154,
   "metadata": {},
   "outputs": [
    {
     "name": "stdout",
     "output_type": "stream",
     "text": [
      "False\n",
      "True\n",
      "False\n"
     ]
    }
   ],
   "source": [
    "print(3 > 10)\n",
    "# False\n",
    "\n",
    "print(3 < 10)\n",
    "# True\n",
    "\n",
    "print(3 == 10) # равны ли объекты?\n",
    "# False"
   ]
  },
  {
   "cell_type": "code",
   "execution_count": 159,
   "metadata": {},
   "outputs": [
    {
     "name": "stdout",
     "output_type": "stream",
     "text": [
      "True\n",
      "False\n",
      "False\n"
     ]
    }
   ],
   "source": [
    "print((2*2)==4)\n",
    "# False\n",
    "\n",
    "print((1,57*3/1,5) == 3.14)\n",
    "# True\n",
    "\n",
    "print(  (3**3-3*(6*3-4.5*2))  == 1 ) # равны ли объекты?"
   ]
  },
  {
   "cell_type": "markdown",
   "metadata": {},
   "source": [
    "## 8. Типы данных: строки"
   ]
  },
  {
   "cell_type": "markdown",
   "metadata": {},
   "source": [
    "**Строки — это неизменяемый тип данных, предназначенный для хранения текстовой информации. Строки представляют собой последовательности символов.**"
   ]
  },
  {
   "cell_type": "code",
   "execution_count": 161,
   "metadata": {},
   "outputs": [
    {
     "name": "stdout",
     "output_type": "stream",
     "text": [
      "hello hello Hello!\n",
      "        Have a nice day!\n"
     ]
    }
   ],
   "source": [
    "s1 = 'hello' # используя апострофы\n",
    "s2 = \"hello\" # используя кавычки\n",
    "s3 = '''Hello!\n",
    "        Have a nice day!''' # используя тройные \"апострофы\" или тройные кавычки\n",
    "print(s1,s2,s3)"
   ]
  },
  {
   "cell_type": "code",
   "execution_count": 165,
   "metadata": {},
   "outputs": [
    {
     "name": "stdout",
     "output_type": "stream",
     "text": [
      "! o l l e H\n",
      "o\n"
     ]
    }
   ],
   "source": [
    "s = \"Hello!\"\n",
    "print(s[-1],s[-2],s[-3],s[-4],s[-5],s[-6])\n",
    "# H\n",
    "print(s[4])\n",
    "# o"
   ]
  },
  {
   "cell_type": "code",
   "execution_count": 166,
   "metadata": {},
   "outputs": [
    {
     "name": "stdout",
     "output_type": "stream",
     "text": [
      "ell\n"
     ]
    }
   ],
   "source": [
    "print(s[1:4])"
   ]
  },
  {
   "cell_type": "markdown",
   "metadata": {},
   "source": [
    "Рассмотрим подробно эту конструкцию. Выражение, находящееся внутри квадратных скобок, называется срезом. В общем случае срезы определяются по шаблону:\n",
    "\n",
    "[начало:конец:шаг],\n",
    "\n",
    "где начало — это индекс первого символа подстроки;\n",
    "\n",
    "конец — индекс символа, следующего сразу после подстроки (важно запомнить: символ с указанным индексом сам не включается в подстроку, то есть если вам надо сделать срез по пятый символ включительно, то здесь надо указать значение 6);\n",
    "\n",
    "шаг — позволяет извлекать не все элементы, а, например, следующие через один друг за другом, через два и т.д."
   ]
  },
  {
   "cell_type": "code",
   "execution_count": 167,
   "metadata": {},
   "outputs": [
    {
     "name": "stdout",
     "output_type": "stream",
     "text": [
      "llo!\n"
     ]
    }
   ],
   "source": [
    "s = \"Hello!\"\n",
    "print(s[2:])\n",
    "# llo!"
   ]
  },
  {
   "cell_type": "code",
   "execution_count": 168,
   "metadata": {},
   "outputs": [
    {
     "name": "stdout",
     "output_type": "stream",
     "text": [
      "Hell\n"
     ]
    }
   ],
   "source": [
    "print(s[:4])\n",
    "# Hell"
   ]
  },
  {
   "cell_type": "markdown",
   "metadata": {},
   "source": [
    "Img Если мы не указываем начало среза, то по умолчанию срезаем с первого символа в строке.\n",
    "\n",
    "Img Если не указываем конец среза, то по умолчанию срезаем до конца строки.\n",
    "\n",
    "Img Если не указываем значение для шага, то по умолчанию он равен 1.\n",
    "\n",
    "Рекомендуем не писать 0, если срез начинается с первого символа в строке — просто пропускайте это значение."
   ]
  },
  {
   "cell_type": "markdown",
   "metadata": {},
   "source": [
    "Можно извлекать символы, используя только шаг. Например, для извлечения каждого второго символа нужно использовать:"
   ]
  },
  {
   "cell_type": "code",
   "execution_count": 169,
   "metadata": {},
   "outputs": [
    {
     "name": "stdout",
     "output_type": "stream",
     "text": [
      "Hlo\n"
     ]
    }
   ],
   "source": [
    "print(s[::2])\n",
    "# Hlo"
   ]
  },
  {
   "cell_type": "markdown",
   "metadata": {},
   "source": [
    "Отрицательный шаг позволяет развернуть строку:"
   ]
  },
  {
   "cell_type": "code",
   "execution_count": 170,
   "metadata": {},
   "outputs": [
    {
     "name": "stdout",
     "output_type": "stream",
     "text": [
      "!olleH\n"
     ]
    }
   ],
   "source": [
    "print(s[::-1])\n",
    "# !olleH"
   ]
  },
  {
   "cell_type": "markdown",
   "metadata": {},
   "source": [
    "Отрицательным может быть не только шаг, но и сам индекс. Отрицательные индексы нумеруются от последнего символа к первому:"
   ]
  },
  {
   "cell_type": "code",
   "execution_count": 171,
   "metadata": {},
   "outputs": [
    {
     "name": "stdout",
     "output_type": "stream",
     "text": [
      "!\n",
      "lo!\n"
     ]
    }
   ],
   "source": [
    "print(s[-1])\n",
    "# !\n",
    "\n",
    "print(s[-3:])\n",
    "# lo"
   ]
  },
  {
   "cell_type": "markdown",
   "metadata": {},
   "source": [
    "Задание 8.2"
   ]
  },
  {
   "cell_type": "code",
   "execution_count": 174,
   "metadata": {},
   "outputs": [
    {
     "name": "stdout",
     "output_type": "stream",
     "text": [
      "erfect\n",
      "Pret\n",
      "t\n"
     ]
    }
   ],
   "source": [
    "new_string = \"Perfect\"\n",
    "print(new_string[1:])# Все элементы строки new_string, начиная со второго символа (должно получиться \"erfect\"):\n",
    "print(new_string[::2])# Каждый второй элемент строки new_string (\"Pret\"):\n",
    "print(new_string[-1])#Последний символ в строке new_string (\"t\", воспользуйтесь отрицательной индексацией):"
   ]
  },
  {
   "cell_type": "markdown",
   "metadata": {},
   "source": [
    "Операции и функции для работы со строками\n",
    "\n",
    "Сложение и дублирование строк, определение длины строки"
   ]
  },
  {
   "cell_type": "markdown",
   "metadata": {},
   "source": [
    "Строки можно складывать друг с другом:"
   ]
  },
  {
   "cell_type": "code",
   "execution_count": 176,
   "metadata": {},
   "outputs": [
    {
     "name": "stdout",
     "output_type": "stream",
     "text": [
      "Hello!`14``4`243\n"
     ]
    }
   ],
   "source": [
    "s = \"Hel\" + \"lo!\"+'`14``4`243'\n",
    "print(s)\n",
    "# Hello!"
   ]
  },
  {
   "cell_type": "markdown",
   "metadata": {},
   "source": [
    "Также можно умножать строку на целое число. Оператор умножения строки на целое число указывает Python дублировать строку заданное числом количество раз:"
   ]
  },
  {
   "cell_type": "code",
   "execution_count": 177,
   "metadata": {},
   "outputs": [
    {
     "name": "stdout",
     "output_type": "stream",
     "text": [
      "Hello!Hello!Hello!\n"
     ]
    }
   ],
   "source": [
    "s = \"Hello!\"\n",
    "print(s*3)\n",
    "# Hello!Hello!Hello!"
   ]
  },
  {
   "cell_type": "markdown",
   "metadata": {},
   "source": [
    "Встроенная функция len() позволяет узнать длину строки (то есть количество символов в ней):"
   ]
  },
  {
   "cell_type": "code",
   "execution_count": 178,
   "metadata": {},
   "outputs": [
    {
     "name": "stdout",
     "output_type": "stream",
     "text": [
      "6\n"
     ]
    }
   ],
   "source": [
    "s = \"Hello!\"\n",
    "print(len(s))\n",
    "# 6"
   ]
  },
  {
   "cell_type": "markdown",
   "metadata": {},
   "source": [
    "Задание 8.3\n",
    "\n",
    "Соберите из четырёх предоставленных переменных слово \"Perfect\". В окошко ниже впишите выражение, которое должно стоять на месте знаков вопроса, чтобы получилась нужная нам строка:"
   ]
  },
  {
   "cell_type": "code",
   "execution_count": 179,
   "metadata": {},
   "outputs": [
    {
     "name": "stdout",
     "output_type": "stream",
     "text": [
      "Perfect\n"
     ]
    }
   ],
   "source": [
    "s1 = \"fec\"\n",
    "s2 = \"Per\"\n",
    "s3 = \"ct\"\n",
    "s4 = \"fe\"\n",
    "new_string=s2+s4+s3\n",
    "print(new_string)\n",
    "#Perfect"
   ]
  },
  {
   "cell_type": "markdown",
   "metadata": {},
   "source": [
    "Задание 8.4\n",
    "\n",
    "Что должно стоять вместо знаков вопроса, чтобы print вывел длину строки new_string?"
   ]
  },
  {
   "cell_type": "code",
   "execution_count": 180,
   "metadata": {},
   "outputs": [
    {
     "name": "stdout",
     "output_type": "stream",
     "text": [
      "7\n"
     ]
    }
   ],
   "source": [
    "new_string = \"Perfect\"\n",
    "print(len(new_string))"
   ]
  },
  {
   "cell_type": "markdown",
   "metadata": {},
   "source": [
    "Примечание. Строки как объекты имеют свои встроенные функции — методы. Это функции, которые определены внутри всего типа строк и принадлежат только ему. Методы вызываются по шаблону my_str.<имя_метода>(<аргументы>). То есть метод вызывается от имени объекта строки. Подробнее о том, чем метод отличается от функции, мы поговорим в модуле по объектно-ориентированному программированию. А пока давайте рассмотрим несколько методов строк на примерах ↓\n",
    "\n",
    "Метод find(substr), определённый для строк, позволяет находить символы и подстроки:"
   ]
  },
  {
   "cell_type": "code",
   "execution_count": 181,
   "metadata": {},
   "outputs": [
    {
     "name": "stdout",
     "output_type": "stream",
     "text": [
      "1\n",
      "4\n"
     ]
    }
   ],
   "source": [
    "print(s.find('e')) # возвращает индекс\n",
    "# 1\n",
    "\n",
    "print(s.find('o!')) # в случае подстроки возвращает индекс первого символа\n",
    "# 4"
   ]
  },
  {
   "cell_type": "markdown",
   "metadata": {},
   "source": [
    "Если символ или подстрока встречаются несколько раз, то возвращается индекс первого вхождения:"
   ]
  },
  {
   "cell_type": "code",
   "execution_count": 182,
   "metadata": {},
   "outputs": [
    {
     "name": "stdout",
     "output_type": "stream",
     "text": [
      "2\n"
     ]
    }
   ],
   "source": [
    "print(s.find('l')) # встречается в индексах 2 и 3\n",
    "# 2"
   ]
  },
  {
   "cell_type": "markdown",
   "metadata": {},
   "source": [
    "Ряд методов позволяет определить, состоит ли строка из цифр, букв или одновременно из букв и цифр:"
   ]
  },
  {
   "cell_type": "code",
   "execution_count": 183,
   "metadata": {},
   "outputs": [
    {
     "name": "stdout",
     "output_type": "stream",
     "text": [
      "False\n",
      "False\n",
      "False\n"
     ]
    }
   ],
   "source": [
    "s = \"Hello!\"\n",
    "\n",
    "print(s.isdigit()) # строка состоит только из цифр?\n",
    "# False\n",
    "\n",
    "print(s.isalpha()) # строка состоит только из букв?\n",
    "# False\n",
    "\n",
    "print(s.isalnum()) # строка состоит только из цифр и букв?\n",
    "# False"
   ]
  },
  {
   "cell_type": "markdown",
   "metadata": {},
   "source": [
    "Приведённые ниже методы позволяют привести все буквы к верхнему регистру (заглавным буквам) или к нижнему регистру (строчным буквам). Обратите внимание, что исходная строка не изменяется:"
   ]
  },
  {
   "cell_type": "code",
   "execution_count": 184,
   "metadata": {},
   "outputs": [
    {
     "name": "stdout",
     "output_type": "stream",
     "text": [
      "HELLO!\n",
      "hello!\n",
      "Hello!\n"
     ]
    }
   ],
   "source": [
    "print(s.upper())\n",
    "# HELLO!\n",
    "\n",
    "print(s.lower())\n",
    "# hello!\n",
    "\n",
    "print(s)\n",
    "# Hello!"
   ]
  },
  {
   "cell_type": "code",
   "execution_count": 186,
   "metadata": {},
   "outputs": [
    {
     "name": "stdout",
     "output_type": "stream",
     "text": [
      "me\n",
      "ameg\n",
      "spameg\n",
      "pameggs\n",
      "spameggs\n",
      "sggemaps\n",
      "\n",
      "aeg\n"
     ]
    }
   ],
   "source": [
    "s = 'spameggs'\n",
    "print(s[3:5])\n",
    "#'me'\n",
    "print(s[2:-2])\n",
    "#'ameg'\n",
    "print(s[:6])\n",
    "#'spameg'\n",
    "print(s[1:])\n",
    "#'pameggs'\n",
    "print(s[:])\n",
    "#'spameggs'\n",
    "print(s[::-1])\n",
    "#'sggemaps'\n",
    "print(s[3:5:-1])\n",
    "#''\n",
    "print(s[2::2])\n",
    "#'aeg'"
   ]
  },
  {
   "cell_type": "code",
   "execution_count": 189,
   "metadata": {},
   "outputs": [
    {
     "name": "stdout",
     "output_type": "stream",
     "text": [
      "\n"
     ]
    }
   ],
   "source": [
    "print(s[3:5:-1])"
   ]
  },
  {
   "cell_type": "code",
   "execution_count": 192,
   "metadata": {},
   "outputs": [
    {
     "name": "stdout",
     "output_type": "stream",
     "text": [
      "sbam\n"
     ]
    }
   ],
   "source": [
    "s = 'spam'\n",
    "s = s[0] + 'b' + s[2:]\n",
    "print(s)\n",
    "#'sbam'"
   ]
  },
  {
   "cell_type": "code",
   "execution_count": null,
   "metadata": {},
   "outputs": [
    {
     "data": {
      "text/plain": [
       "'s \\np \\t a \\nbbb'"
      ]
     },
     "execution_count": 280,
     "metadata": {},
     "output_type": "execute_result"
    }
   ],
   "source": [
    "S = \"s \\n p \\t a \\n bbb\"\n",
    "S"
   ]
  },
  {
   "cell_type": "markdown",
   "metadata": {},
   "source": [
    "Практический пример\n",
    "\n",
    "При работе со строками часто возникает необходимость разделить строку на несколько подстрок. Допустим, у нас есть строка, в которой записаны цвета через пробел:"
   ]
  },
  {
   "cell_type": "code",
   "execution_count": 195,
   "metadata": {},
   "outputs": [],
   "source": [
    "colors = 'red blue green'"
   ]
  },
  {
   "cell_type": "code",
   "execution_count": 198,
   "metadata": {},
   "outputs": [
    {
     "name": "stdout",
     "output_type": "stream",
     "text": [
      "3\n",
      "red \n"
     ]
    }
   ],
   "source": [
    "print(colors.find(' '))\n",
    "print(colors[:4])"
   ]
  },
  {
   "cell_type": "code",
   "execution_count": 199,
   "metadata": {},
   "outputs": [
    {
     "name": "stdout",
     "output_type": "stream",
     "text": [
      "['red', 'blue', 'green']\n"
     ]
    }
   ],
   "source": [
    "print(colors.split())"
   ]
  },
  {
   "cell_type": "code",
   "execution_count": 202,
   "metadata": {},
   "outputs": [
    {
     "name": "stdout",
     "output_type": "stream",
     "text": [
      "red green\n"
     ]
    }
   ],
   "source": [
    "print(colors.split()[0], colors.split()[2])"
   ]
  },
  {
   "cell_type": "code",
   "execution_count": 204,
   "metadata": {},
   "outputs": [
    {
     "name": "stdout",
     "output_type": "stream",
     "text": [
      "['bear', '1', '0', '0', '1', '0', '0', '1', '1', '1', '1', '0', '0', '4', '0', '0', '1', '1']\n"
     ]
    }
   ],
   "source": [
    "animal = 'bear,1,0,0,1,0,0,1,1,1,1,0,0,4,0,0,1,1'\n",
    "print(animal.split(','))"
   ]
  },
  {
   "cell_type": "code",
   "execution_count": 214,
   "metadata": {},
   "outputs": [],
   "source": [
    "poem = '''Two roads diverged in a yellow wood,\n",
    "And sorry I could not travel both\n",
    "And be one traveler, long I stood\n",
    "And looked down one as far as I could\n",
    "To where it bent in the undergrowth.'''"
   ]
  },
  {
   "cell_type": "code",
   "execution_count": 215,
   "metadata": {},
   "outputs": [
    {
     "name": "stdout",
     "output_type": "stream",
     "text": [
      "Two roads diverged in a yellow wood,\n",
      "And sorry I could not travel both\n",
      "And be one traveler, long I stood\n",
      "And looked down one as far as I could\n",
      "To where it bent in the undergrowth.\n"
     ]
    }
   ],
   "source": [
    "print(poem)"
   ]
  },
  {
   "cell_type": "code",
   "execution_count": 216,
   "metadata": {},
   "outputs": [
    {
     "name": "stdout",
     "output_type": "stream",
     "text": [
      "['Two roads diverged in a yellow wood,', 'And sorry I could not travel both', 'And be one traveler, long I stood', 'And looked down one as far as I could', 'To where it bent in the undergrowth.']\n"
     ]
    }
   ],
   "source": [
    "print(poem.split('\\n'))"
   ]
  },
  {
   "cell_type": "code",
   "execution_count": 220,
   "metadata": {},
   "outputs": [
    {
     "name": "stdout",
     "output_type": "stream",
     "text": [
      "red and green and blue\n"
     ]
    }
   ],
   "source": [
    "colors = 'red green blue'\n",
    "colors_split = colors.split() # список цветов по отдельности\n",
    "colors_joined = ' and '.join(colors_split) # объединение строк\n",
    "print(colors_joined)\n",
    "# red and green and blue"
   ]
  },
  {
   "cell_type": "markdown",
   "metadata": {},
   "source": [
    "Задание 8.6 (External resource)\n",
    "\n",
    "Задана переменная numbers, которая ссылается на некоторую строку, состоящую из чисел и пробелов. Пример такой строки:\n",
    "\n",
    "numbers = '1 2 3 4 5 6 7'\n",
    "\n",
    "Напишите программу, которая выводит построчно каждое число из строки numbers."
   ]
  },
  {
   "cell_type": "code",
   "execution_count": 281,
   "metadata": {},
   "outputs": [
    {
     "data": {
      "text/plain": [
       "'1\\n2\\n3\\n4\\n5\\n6\\n7'"
      ]
     },
     "execution_count": 281,
     "metadata": {},
     "output_type": "execute_result"
    }
   ],
   "source": [
    "numbers = '1 2 3 4 5 6 7'\n",
    "numbers_split= numbers.split()\n",
    "numbers_final= \"\\n\".join(numbers_split)\n",
    "numbers_final"
   ]
  },
  {
   "cell_type": "code",
   "execution_count": 230,
   "metadata": {},
   "outputs": [
    {
     "data": {
      "text/plain": [
       "'1\\n2\\n3\\n4\\n5\\n6\\n7'"
      ]
     },
     "execution_count": 230,
     "metadata": {},
     "output_type": "execute_result"
    }
   ],
   "source": [
    "numbers = '1 2 3 4 5 6 7'\n",
    "numbers_split= numbers.split()\n",
    "numbers_final= \"\\n\".join(numbers_split)\n",
    "numbers_final"
   ]
  },
  {
   "cell_type": "code",
   "execution_count": 239,
   "metadata": {},
   "outputs": [
    {
     "name": "stdout",
     "output_type": "stream",
     "text": [
      "The EUR currency rate on the date 19022025 is 86.37\n"
     ]
    }
   ],
   "source": [
    "cur_date = input('Enter date: ')\n",
    "currency = input('Enter currency: ')\n",
    "rate = 86.37\n",
    "print('The', currency, 'currency rate on the date', cur_date,'is', rate)"
   ]
  },
  {
   "cell_type": "code",
   "execution_count": 240,
   "metadata": {},
   "outputs": [
    {
     "name": "stdout",
     "output_type": "stream",
     "text": [
      "The EUR currency rate on the date 19022025 is 86.37\n"
     ]
    }
   ],
   "source": [
    "print('The {} currency rate on the date {} is {}'.format(currency, cur_date, rate))"
   ]
  },
  {
   "cell_type": "code",
   "execution_count": 242,
   "metadata": {},
   "outputs": [
    {
     "name": "stdout",
     "output_type": "stream",
     "text": [
      "Курс EUR на дату 19022025 равен 86.37\n"
     ]
    }
   ],
   "source": [
    "print ('Курс {} на дату {} равен {}'.format(currency, cur_date, rate))"
   ]
  },
  {
   "cell_type": "code",
   "execution_count": 244,
   "metadata": {},
   "outputs": [
    {
     "name": "stdout",
     "output_type": "stream",
     "text": [
      "Курс EUR на дату 86.37000 равен 19022025\n"
     ]
    }
   ],
   "source": [
    "print ('Курс {0} на дату {2:.5f} равен {1}'.format(currency, cur_date, rate))"
   ]
  },
  {
   "cell_type": "markdown",
   "metadata": {},
   "source": [
    "Задание 8.7\n",
    "\n",
    "Вы реализуете сервис для рассылки уведомлений о скидках в вашем интернет-магазине. Для оповещения клиентов вы используете один и тот же скрипт следующего вида:\n",
    "\n",
    "script = '''Hello {}! \n",
    "Our store is happy to inform you that we have a personal offer for you. \n",
    "We give you a coupon for a {} % discount on your favorite products. \n",
    "You can learn more about the offer following the link attached below.\n",
    "'''\n",
    "У вас есть данные об именах клиентов и их скидочном лимите. Эти данные представлены в переменных client_name и discount. Например:\n",
    "\n",
    "client_name = 'Andrey'\n",
    "discount = 15\n",
    "Какой код из предложенный вариантов подставит имя клиента и его персональную скидку в скрипт рассылки?"
   ]
  },
  {
   "cell_type": "code",
   "execution_count": 245,
   "metadata": {},
   "outputs": [
    {
     "name": "stdout",
     "output_type": "stream",
     "text": [
      "Hello Andrey! Our store is happy to inform you that we have a personal offer for you. We give you a coupon for a 15 % discount on your favorite products. You can learn more about the offer following the link attached below.\n"
     ]
    }
   ],
   "source": [
    "client_name = 'Andrey'\n",
    "discount = 15\n",
    "print ('Hello {}! Our store is happy to inform you that we have a personal offer for you. We give you a coupon for a {} % discount on your favorite products. You can learn more about the offer following the link attached below.'.format(client_name, discount))\n"
   ]
  },
  {
   "cell_type": "code",
   "execution_count": 250,
   "metadata": {},
   "outputs": [
    {
     "name": "stdout",
     "output_type": "stream",
     "text": [
      "Hello Andrey! \n",
      "Our store is happy to inform you that we have a personal offer for you. \n",
      "We give you a coupon for a 15.00000 % discount on your favorite products. \n",
      "You can learn more about the offer following the link attached below.\n",
      "\n"
     ]
    }
   ],
   "source": [
    "script = '''Hello {}! \n",
    "Our store is happy to inform you that we have a personal offer for you. \n",
    "We give you a coupon for a {:.5f} % discount on your favorite products. \n",
    "You can learn more about the offer following the link attached below.\n",
    "'''\n",
    "client_name = 'Andrey'\n",
    "discount = 15\n",
    "print(script.format(client_name,discount))"
   ]
  },
  {
   "cell_type": "markdown",
   "metadata": {},
   "source": [
    "Задание 8.8\n",
    "\n",
    "\n",
    "Взгляните на код и определите, что будет выведено на экран в результате его выполнения?\n",
    "\n",
    "mean_absolute_error = 42.1838\n",
    "model = 'linear regression'\n",
    "print('Model - {}, MAE - {:.2f}'.format(model, mean_absolute_error))\n",
    "Попробуйте ответить на вопрос самостоятельно, не проверяя в редакторе кода.\n",
    "\n"
   ]
  },
  {
   "cell_type": "code",
   "execution_count": 251,
   "metadata": {},
   "outputs": [
    {
     "name": "stdout",
     "output_type": "stream",
     "text": [
      "Model - linear regression, MAE - 42.18\n"
     ]
    }
   ],
   "source": [
    "mean_absolute_error = 42.1838\n",
    "model = 'linear regression'\n",
    "print('Model - {}, MAE - {:.2f}'.format(model, mean_absolute_error))"
   ]
  },
  {
   "cell_type": "code",
   "execution_count": 252,
   "metadata": {},
   "outputs": [
    {
     "name": "stdout",
     "output_type": "stream",
     "text": [
      "The EUR currency rate on the date 19022025 is 86.37\n",
      "The EUR currency rate on the date 19022025 is 103.644\n"
     ]
    }
   ],
   "source": [
    "print(f'The {currency} currency rate on the date {cur_date} is {rate}')\n",
    "#The EUR currency rate on the date 20.06.2021 is 86.37\n",
    "print(f'The {currency} currency rate on the date {cur_date} is {rate*1.2}')\n",
    "#The EUR currency rate on the date 20.06.2021 is 103.644"
   ]
  },
  {
   "cell_type": "markdown",
   "metadata": {},
   "source": [
    "Задание 8.10\n",
    "\n",
    "\n",
    "Представим, что мы разрабатываем фитнес-приложение, и каждое утро мы хотим показывать пользователю такое сообщение: «Привет, Джон! Вчера ты выполнил свою норму на 45%». Для увеличения охватов аудитории мы перевели этот текст на английский: \"Hello, John! Yesterday you fulfilled the norm by 45.0%\".\n",
    "\n",
    "Какой код поможет нам отформатировать нашу строку так, чтобы вместо John мы могли вывести любое имя, хранящееся в переменной name, а вместо 45.0 — любое число из переменной percent, но обязательно с одним знаком после запятой:"
   ]
  },
  {
   "cell_type": "code",
   "execution_count": 254,
   "metadata": {},
   "outputs": [
    {
     "name": "stdout",
     "output_type": "stream",
     "text": [
      "Hello, John! Yesterday you fulfilled the norm by 45.0%\n"
     ]
    }
   ],
   "source": [
    "name = 'John'\n",
    "percent= 45\n",
    "print(f'Hello, {name}! Yesterday you fulfilled the norm by {percent:.1f}%')"
   ]
  },
  {
   "cell_type": "code",
   "execution_count": 256,
   "metadata": {},
   "outputs": [
    {
     "name": "stdout",
     "output_type": "stream",
     "text": [
      "130\n"
     ]
    }
   ],
   "source": [
    "a = int(input())\n",
    "print(a + 10)"
   ]
  },
  {
   "cell_type": "code",
   "execution_count": 257,
   "metadata": {},
   "outputs": [
    {
     "name": "stdout",
     "output_type": "stream",
     "text": [
      "144.03\n"
     ]
    }
   ],
   "source": [
    "b = float('125.13')\n",
    "c = 18.9\n",
    "print(b + c)\n",
    "# 144.03 "
   ]
  },
  {
   "cell_type": "code",
   "execution_count": 258,
   "metadata": {},
   "outputs": [
    {
     "name": "stdout",
     "output_type": "stream",
     "text": [
      "['12942021', '2491']\n"
     ]
    }
   ],
   "source": [
    "d = 12942021.24910\n",
    "d_str = str(d)\n",
    "print(d_str.split('.'))\n",
    "# ['12942021', '2491']"
   ]
  },
  {
   "cell_type": "code",
   "execution_count": 260,
   "metadata": {},
   "outputs": [
    {
     "data": {
      "text/plain": [
       "['Refrigerator', 'service', 'life:', '9', 'years', '3', 'months']"
      ]
     },
     "execution_count": 260,
     "metadata": {},
     "output_type": "execute_result"
    }
   ],
   "source": [
    "advertisement = 'Refrigerator service life: 9 years 3 months'\n",
    "advertisement_spited=advertisement.split()\n",
    "advertisement_spited"
   ]
  },
  {
   "cell_type": "markdown",
   "metadata": {},
   "source": [
    "Задание 10.6 (External resource)\n",
    "\n",
    "В резюме соискатели указывают желаемую заработную плату. Пусть информация о ней находится в переменной salary в формате: '<заработная плата>  руб.'\n",
    "\n",
    "Гарантируется, что структура текста не изменяется. Примеры возможных значений переменной:\n",
    "\n",
    "\n",
    "salary = '29000 руб.'\n",
    "salary = '35000 руб.'\n",
    "salary = '128500 руб.'\n",
    "Ваша задача — превратить строку с заработной платой и указанием валюты в численное представление заработной платы. Напишите программу, которая выполняет следующие действия:\n",
    "\n",
    "разделяет строку salary на части (символ по которому стоит производить разбиение выберите самостоятельно);\n",
    "сохраняет в переменную salary_number значение заработной платы, выраженной в тысячах рублей.\n",
    "Например, если переменная salary задана следующим образом: salary = '128500 руб.', то в переменной salary_number должно содержаться число 128.5.\n",
    "\n",
    "Примеры работы программы:\n",
    "\n",
    "\n",
    "` Входные данные\n",
    "salary = '29000 руб.'\n",
    "\n",
    "` Значение переменной:\n",
    "` salary_number = 29.0\n",
    "\n",
    "` Входные данные\n",
    "salary = '128500 руб.'\n",
    "\n",
    "` Значение переменной:\n",
    "` salary_number = 128.5\n",
    "При решении обратите внимание на имена переменных и их типы данных: они должны соответствовать условию задачи, чтобы тестирование кода произошло корректным образом. Прежде чем отправить решение на проверку, самостоятельно проверьте работу вашей программы, сравнив результат с ожидаемым для приведённого в задании примера. Протестируйте программу при других значениях переменной salary, приведённых в описании задания.\n",
    "\n",
    "Примечание №1. Обратите внимание, что для отправки кода на проверку переменную salary объявлять не нужно. Не забудьте удалить строку кода с ее объявлением перед тем как отправить код на тестирование.\n",
    "\n",
    "Примечание №2. Важно, что при отправке на проверку программа не должна ничего выводить на экран! Удалите или закомментируйте вызовы функции print(), чтобы не нарушить работу проверочных тестов."
   ]
  },
  {
   "cell_type": "code",
   "execution_count": 273,
   "metadata": {},
   "outputs": [
    {
     "name": "stdout",
     "output_type": "stream",
     "text": [
      "salary_number = 128.5\n"
     ]
    }
   ],
   "source": [
    "# Входные данные\n",
    "salary = '128500 руб.'\n",
    "salary_splited=(salary.split())\n",
    "salary_num=(float(salary_splited[0]))/1000\n",
    "salary_num\n",
    "print(f'salary_number = {salary_num}')\n",
    "\n",
    "# Значение переменной:\n",
    "# salary_number = 128.5"
   ]
  },
  {
   "cell_type": "markdown",
   "metadata": {},
   "source": [
    "Задание 10.7 (External resource)"
   ]
  },
  {
   "cell_type": "markdown",
   "metadata": {},
   "source": [
    "Теперь разберёмся с опытом работы.\n",
    "\n",
    "Пусть текст с описанием опыта работы хранится в переменной experience и строится по такому шаблону: 'Work experience <количество месяцев> months'\n",
    "\n",
    "Гарантируется, что структура текста не изменяется. Примеры возможных значений переменной:\n",
    "\n",
    "\n",
    "experience = 'Work experience 202 months'\n",
    "experience = 'Work experience 60 months'\n",
    "experience = 'Work experience 3 months'\n",
    "Ваша задача — разделить информацию об опыте работы на составляющие: количество полных лет опыта работы и количество месяцев опыта работы.\n",
    "\n",
    "Напишите программу, которая выполняет следующие действия:\n",
    "\n",
    "разделяет строку experience на части (символ, по которому стоит производить разбиение выберите самостоятельно);\n",
    "сохраняет в переменную experience_year информацию о количестве полных лет опыта работы;\n",
    "сохраняет в переменную experience_month информацию о количестве месяцев работы (в неполном году).\n",
    "Например, если переменная experience задана следующим образом: experience = 'Work experience 202 months', то в переменных experience_year и experience_month должны содержаться целые числа 16 и 10 (из расчёта 16 * 12 + 10 = 202).\n",
    "\n",
    "Примеры работы программы:\n",
    "\n",
    "\n",
    "` Входные данные\n",
    "experience = 'Work experience 202 months'\n",
    "\n",
    "` Значения переменных:\n",
    "` experience_year = 16\n",
    "` experience_month = 10\n",
    "\n",
    "` Входные данные\n",
    "experience = 'Work experience 60 months'\n",
    "\n",
    "` Значения переменных:\n",
    "` experience_year = 5\n",
    "` experience_month = 0\n",
    "При решении обратите внимание на имена переменных и их типы данных: они должны соответствовать условию задачи, чтобы тестирование кода произошло корректным образом. Прежде чем отправить решение на проверку, самостоятельно проверьте работу вашей программы, сравнив результат с ожидаемым для приведённого в задании примера. Протестируйте программу при других значениях переменной experience, приведённых в описании задания.\n",
    "\n",
    "Примечание №1. Обратите внимание, что для отправки кода на проверку переменную experience объявлять не нужно. Не забудьте удалить строку кода с ее объявлением перед тем как отправить код на тестирование.\n",
    "\n",
    "Примечание №2. Важно, что при отправке на проверку программа не должна ничего выводить на экран! Удалите или закомментируйте вызовы функции print(), чтобы не нарушить работу проверочных тестов."
   ]
  },
  {
   "cell_type": "code",
   "execution_count": 279,
   "metadata": {},
   "outputs": [
    {
     "name": "stdout",
     "output_type": "stream",
     "text": [
      "experience_year=16 \n",
      "experience_month=10\n"
     ]
    }
   ],
   "source": [
    "experience = 'Work experience 202 months'\n",
    "experience_split=experience.split()\n",
    "\n",
    "experience_year=int(experience_split[2])//12\n",
    "experience_year\n",
    "experience_month=int(experience_split[2])%12\n",
    "experience_month\n",
    "print(f'experience_year={experience_year} \\nexperience_month={experience_month}')"
   ]
  },
  {
   "cell_type": "markdown",
   "metadata": {},
   "source": [
    "Задание 10.8 (External resource)"
   ]
  },
  {
   "cell_type": "code",
   "execution_count": 291,
   "metadata": {},
   "outputs": [
    {
     "name": "stdout",
     "output_type": "stream",
     "text": [
      "Male 38 1980\n"
     ]
    }
   ],
   "source": [
    "description = 'Male , 38 years old , born on June 25 , 1980'\n",
    "description_split=description.split(' , ')\n",
    "description_split\n",
    "gender=description_split[0]\n",
    "gender\n",
    "age=int((description_split[1].split())[0])\n",
    "age\n",
    "year_of_birth=description_split[-1]\n",
    "year_of_birth\n",
    "print(gender, age, year_of_birth)"
   ]
  }
 ],
 "metadata": {
  "kernelspec": {
   "display_name": "Python 3",
   "language": "python",
   "name": "python3"
  },
  "language_info": {
   "codemirror_mode": {
    "name": "ipython",
    "version": 3
   },
   "file_extension": ".py",
   "mimetype": "text/x-python",
   "name": "python",
   "nbconvert_exporter": "python",
   "pygments_lexer": "ipython3",
   "version": "3.11.9"
  }
 },
 "nbformat": 4,
 "nbformat_minor": 2
}
