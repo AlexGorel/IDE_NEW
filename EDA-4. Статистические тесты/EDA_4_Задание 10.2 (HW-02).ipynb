{
  "cells": [
    {
      "cell_type": "markdown",
      "metadata": {
        "id": "yMG_XPwziMUN"
      },
      "source": [
        "# <center> Практика. "
      ]
    },
    {
      "cell_type": "markdown",
      "metadata": {
        "id": "EMd2vwh8ihnl"
      },
      "source": [
        "## Постановка задачи\n",
        "\n",
        "HR-агентство изучает тренды на рынке труда в IT. Компания хочет провести исследование на основе данных о зарплатах в сфере Data Science за 2020–2022 годы и получить некоторые выводы."
      ]
    },
    {
      "cell_type": "markdown",
      "metadata": {},
      "source": [
        "Данные содержат следующие столбцы:\n",
        "*   work_year - Год, в котором была выплачена зарплата.\n",
        "* experience_level - Опыт работы на этой должности в течение года со следующими возможными значениями:\n",
        "    * EN — Entry-level/Junior;\n",
        "    * MI — Mid-level/Intermediate;\n",
        "    * SE — Senior-level/Expert;\n",
        "    * EX — Executive-level/Director.\n",
        "* employment_type - Тип трудоустройства для этой роли:\n",
        "    * PT — неполный рабочий день;\n",
        "    * FT — полный рабочий день;\n",
        "    * CT — контракт;\n",
        "    * FL — фриланс.\n",
        "* job_title - Роль, в которой соискатель работал в течение года.\n",
        "* salary - Общая выплаченная валовая сумма заработной платы.\n",
        "* salary_currency - Валюта выплачиваемой заработной платы в виде кода валюты ISO 4217.\n",
        "* salary_in_usd - Зарплата в долларах США (валютный курс, делённый на среднее значение курса доллара США за соответствующий год через fxdata.foorilla.com).\n",
        "* employee_residence - Основная страна проживания сотрудника в течение рабочего года в виде кода страны ISO 3166.\n",
        "* remote_ratio -Общий объём работы, выполняемой удалённо. Возможные значения:\n",
        "    - 0 — удалённой работы нет (менее 20 %);\n",
        "    - 50 — частично удалённая работа;\n",
        "    - 100 — полностью удалённая работа (более 80 %).\n",
        "* company_location - Страна главного офиса работодателя или филиала по контракту в виде кода страны ISO 3166.\n",
        "* company_size - Среднее количество людей, работавших в компании в течение года:\n",
        "    - S — менее 50 сотрудников (небольшая компания);\n",
        "    - M — от 50 до 250 сотрудников (средняя компания);\n",
        "    - L — более 250 сотрудников (крупная компания).\n"
      ]
    },
    {
      "cell_type": "markdown",
      "metadata": {},
      "source": [
        "Оригинальный датасет: “Data Science Job Salaries” (kaggle.com)\n",
        "\n",
        "Исследуйте данные и сделайте выводы по полученным результатам. Подкрепите свои рассуждения и выводы визуализациями и с помощью статистического тестирования проверьте, являются ли выводы статистически значимыми.\n",
        "\n",
        "В процессе своего анализа вы должны:\n",
        "\n",
        "- Выяснить, какие факторы влияют на зарплату специалиста Data Scientist.\n",
        "А также ответить на ключевые вопросы HR-агентства:\n",
        "    - Наблюдается ли ежегодный рост зарплат у специалистов Data Scientist?\n",
        "    - Как соотносятся зарплаты Data Scientist и Data Engineer в 2022 году?\n",
        "    - Как соотносятся зарплаты специалистов Data Scientist в компаниях различных размеров?\n",
        "    - Есть ли связь между наличием должностей Data Scientist и Data Engineer и размером компании?"
      ]
    },
    {
      "cell_type": "markdown",
      "metadata": {
        "id": "_XMyOg3cgcN1"
      },
      "source": [
        "## Загрузка данных"
      ]
    },
    {
      "cell_type": "code",
      "execution_count": 612,
      "metadata": {
        "id": "2JjaPf35gyCK"
      },
      "outputs": [],
      "source": [
        "# загружаем необходимые библиотеки\n",
        "import pandas as pd\n",
        "import numpy as np\n",
        "\n",
        "from scipy import stats\n",
        "import statsmodels.api as sm\n",
        "from statsmodels import stats as sms\n",
        "\n",
        "import matplotlib.pyplot as plt\n",
        "import seaborn as sns\n",
        "from statsmodels.stats.contingency_tables import mcnemar\n",
        "\n",
        "# делаем визуальную настройку графиков\n",
        "sns.set_theme(\"notebook\") \n",
        "sns.set_palette(\"Set2\") "
      ]
    },
    {
      "cell_type": "code",
      "execution_count": 613,
      "metadata": {
        "colab": {
          "base_uri": "https://localhost:8080/"
        },
        "id": "-Op6Oy7hf5ZM",
        "outputId": "9ea91bf5-b019-43e3-aaf4-94408a78c63f"
      },
      "outputs": [
        {
          "data": {
            "text/html": [
              "<div>\n",
              "<style scoped>\n",
              "    .dataframe tbody tr th:only-of-type {\n",
              "        vertical-align: middle;\n",
              "    }\n",
              "\n",
              "    .dataframe tbody tr th {\n",
              "        vertical-align: top;\n",
              "    }\n",
              "\n",
              "    .dataframe thead th {\n",
              "        text-align: right;\n",
              "    }\n",
              "</style>\n",
              "<table border=\"1\" class=\"dataframe\">\n",
              "  <thead>\n",
              "    <tr style=\"text-align: right;\">\n",
              "      <th></th>\n",
              "      <th>work_year</th>\n",
              "      <th>experience_level</th>\n",
              "      <th>employment_type</th>\n",
              "      <th>job_title</th>\n",
              "      <th>salary</th>\n",
              "      <th>salary_currency</th>\n",
              "      <th>salary_in_usd</th>\n",
              "      <th>employee_residence</th>\n",
              "      <th>remote_ratio</th>\n",
              "      <th>company_location</th>\n",
              "      <th>company_size</th>\n",
              "    </tr>\n",
              "  </thead>\n",
              "  <tbody>\n",
              "    <tr>\n",
              "      <th>0</th>\n",
              "      <td>2020</td>\n",
              "      <td>MI</td>\n",
              "      <td>FT</td>\n",
              "      <td>Data Scientist</td>\n",
              "      <td>70000</td>\n",
              "      <td>EUR</td>\n",
              "      <td>79833</td>\n",
              "      <td>DE</td>\n",
              "      <td>0</td>\n",
              "      <td>DE</td>\n",
              "      <td>L</td>\n",
              "    </tr>\n",
              "    <tr>\n",
              "      <th>1</th>\n",
              "      <td>2020</td>\n",
              "      <td>SE</td>\n",
              "      <td>FT</td>\n",
              "      <td>Machine Learning Scientist</td>\n",
              "      <td>260000</td>\n",
              "      <td>USD</td>\n",
              "      <td>260000</td>\n",
              "      <td>JP</td>\n",
              "      <td>0</td>\n",
              "      <td>JP</td>\n",
              "      <td>S</td>\n",
              "    </tr>\n",
              "    <tr>\n",
              "      <th>2</th>\n",
              "      <td>2020</td>\n",
              "      <td>SE</td>\n",
              "      <td>FT</td>\n",
              "      <td>Big Data Engineer</td>\n",
              "      <td>85000</td>\n",
              "      <td>GBP</td>\n",
              "      <td>109024</td>\n",
              "      <td>GB</td>\n",
              "      <td>50</td>\n",
              "      <td>GB</td>\n",
              "      <td>M</td>\n",
              "    </tr>\n",
              "    <tr>\n",
              "      <th>3</th>\n",
              "      <td>2020</td>\n",
              "      <td>MI</td>\n",
              "      <td>FT</td>\n",
              "      <td>Product Data Analyst</td>\n",
              "      <td>20000</td>\n",
              "      <td>USD</td>\n",
              "      <td>20000</td>\n",
              "      <td>HN</td>\n",
              "      <td>0</td>\n",
              "      <td>HN</td>\n",
              "      <td>S</td>\n",
              "    </tr>\n",
              "    <tr>\n",
              "      <th>4</th>\n",
              "      <td>2020</td>\n",
              "      <td>SE</td>\n",
              "      <td>FT</td>\n",
              "      <td>Machine Learning Engineer</td>\n",
              "      <td>150000</td>\n",
              "      <td>USD</td>\n",
              "      <td>150000</td>\n",
              "      <td>US</td>\n",
              "      <td>50</td>\n",
              "      <td>US</td>\n",
              "      <td>L</td>\n",
              "    </tr>\n",
              "  </tbody>\n",
              "</table>\n",
              "</div>"
            ],
            "text/plain": [
              "   work_year experience_level employment_type                   job_title  \\\n",
              "0       2020               MI              FT              Data Scientist   \n",
              "1       2020               SE              FT  Machine Learning Scientist   \n",
              "2       2020               SE              FT           Big Data Engineer   \n",
              "3       2020               MI              FT        Product Data Analyst   \n",
              "4       2020               SE              FT   Machine Learning Engineer   \n",
              "\n",
              "   salary salary_currency  salary_in_usd employee_residence  remote_ratio  \\\n",
              "0   70000             EUR          79833                 DE             0   \n",
              "1  260000             USD         260000                 JP             0   \n",
              "2   85000             GBP         109024                 GB            50   \n",
              "3   20000             USD          20000                 HN             0   \n",
              "4  150000             USD         150000                 US            50   \n",
              "\n",
              "  company_location company_size  \n",
              "0               DE            L  \n",
              "1               JP            S  \n",
              "2               GB            M  \n",
              "3               HN            S  \n",
              "4               US            L  "
            ]
          },
          "execution_count": 613,
          "metadata": {},
          "output_type": "execute_result"
        }
      ],
      "source": [
        "# прочитаем датасет \n",
        "data_10_2 = pd.read_csv('C:\\скил\\DST-156\\IDE_NEW\\EDA-4. Статистические тесты\\ds_salaries.csv', index_col=[0])\n",
        "data_10_2.head()"
      ]
    },
    {
      "cell_type": "code",
      "execution_count": 614,
      "metadata": {
        "colab": {
          "base_uri": "https://localhost:8080/"
        },
        "id": "uLEEV6aLomOU",
        "outputId": "23314b21-aa3f-4537-94cb-be776d9427ae"
      },
      "outputs": [
        {
          "name": "stdout",
          "output_type": "stream",
          "text": [
            "Уровень значимости alpha = 0.05\n"
          ]
        }
      ],
      "source": [
        "# задаём уровень значимости\n",
        "alpha = 0.05 \n",
        "print(\"Уровень значимости alpha = {:.2f}\".format(alpha))"
      ]
    },
    {
      "cell_type": "markdown",
      "metadata": {
        "id": "c9QRWWOVfV13"
      },
      "source": [
        "## Описательный анализ данных"
      ]
    },
    {
      "cell_type": "code",
      "execution_count": 615,
      "metadata": {
        "colab": {
          "base_uri": "https://localhost:8080/"
        },
        "id": "zkiOmlAy2XQU",
        "outputId": "88adbac3-0fd7-460c-a368-c40baff97200"
      },
      "outputs": [
        {
          "name": "stdout",
          "output_type": "stream",
          "text": [
            "<class 'pandas.core.frame.DataFrame'>\n",
            "Index: 607 entries, 0 to 606\n",
            "Data columns (total 11 columns):\n",
            " #   Column              Non-Null Count  Dtype \n",
            "---  ------              --------------  ----- \n",
            " 0   work_year           607 non-null    int64 \n",
            " 1   experience_level    607 non-null    object\n",
            " 2   employment_type     607 non-null    object\n",
            " 3   job_title           607 non-null    object\n",
            " 4   salary              607 non-null    int64 \n",
            " 5   salary_currency     607 non-null    object\n",
            " 6   salary_in_usd       607 non-null    int64 \n",
            " 7   employee_residence  607 non-null    object\n",
            " 8   remote_ratio        607 non-null    int64 \n",
            " 9   company_location    607 non-null    object\n",
            " 10  company_size        607 non-null    object\n",
            "dtypes: int64(4), object(7)\n",
            "memory usage: 56.9+ KB\n"
          ]
        }
      ],
      "source": [
        "data_10_2.info()"
      ]
    },
    {
      "cell_type": "markdown",
      "metadata": {
        "id": "2DSvnZuul7Za"
      },
      "source": [
        "В датасете 607 записей (без пропущенных значений). В датасете 4 столбца (+1 с порядковым индексом строк) с числовыми и 7 с категориальными признаками "
      ]
    },
    {
      "cell_type": "markdown",
      "metadata": {
        "id": "Xug87trzl7Za"
      },
      "source": [
        "Проверка данных на наличие полных дубликатов:"
      ]
    },
    {
      "cell_type": "code",
      "execution_count": 616,
      "metadata": {
        "colab": {
          "base_uri": "https://localhost:8080/"
        },
        "id": "As_X7I6jl7Za",
        "outputId": "3d3795b3-ab7c-4cc6-ab3d-23a4796a7b5c"
      },
      "outputs": [
        {
          "name": "stdout",
          "output_type": "stream",
          "text": [
            "Количество дубликатов: 42\n",
            "Размер таблицы после удаления дубликатов: (565, 11)\n"
          ]
        }
      ],
      "source": [
        "print('Количество дубликатов: {}'.format(data_10_2[data_10_2.duplicated()].shape[0]))\n",
        "\n",
        "# Удаляем дубликаты:\n",
        "data_10_2 = data_10_2.drop_duplicates()\n",
        "print('Размер таблицы после удаления дубликатов: {}'.format(data_10_2.shape))"
      ]
    },
    {
      "cell_type": "markdown",
      "metadata": {},
      "source": [
        "Так в датасете есть обобщающий признак заработной платы в USD (salary_in_usd), то очевидно, что размер зароботной платы в местной валюте и наименования валюты (столбы salary и salary_currency) для дальнейшего анализа нам не нужны. "
      ]
    },
    {
      "cell_type": "code",
      "execution_count": 617,
      "metadata": {},
      "outputs": [
        {
          "name": "stdout",
          "output_type": "stream",
          "text": [
            "<class 'pandas.core.frame.DataFrame'>\n",
            "Index: 565 entries, 0 to 606\n",
            "Data columns (total 9 columns):\n",
            " #   Column              Non-Null Count  Dtype \n",
            "---  ------              --------------  ----- \n",
            " 0   work_year           565 non-null    int64 \n",
            " 1   experience_level    565 non-null    object\n",
            " 2   employment_type     565 non-null    object\n",
            " 3   job_title           565 non-null    object\n",
            " 4   salary_in_usd       565 non-null    int64 \n",
            " 5   employee_residence  565 non-null    object\n",
            " 6   remote_ratio        565 non-null    int64 \n",
            " 7   company_location    565 non-null    object\n",
            " 8   company_size        565 non-null    object\n",
            "dtypes: int64(3), object(6)\n",
            "memory usage: 44.1+ KB\n"
          ]
        }
      ],
      "source": [
        "#удаляем стобцы salary и salary_currency\n",
        "data_10_2 = data_10_2.drop(['salary','salary_currency'], axis= 1)\n",
        "data_10_2.info()\n"
      ]
    },
    {
      "cell_type": "markdown",
      "metadata": {},
      "source": [
        "Поиск выбросов. При использовании метода describe() видно, что значения заробной платы имеют очень большую разбежку (от 2 859 до 600 000 USD). Причем максимальное значение зп \"подозрительно\" круглое. Ищем выбросы.   "
      ]
    },
    {
      "cell_type": "code",
      "execution_count": 618,
      "metadata": {},
      "outputs": [
        {
          "data": {
            "text/html": [
              "<div>\n",
              "<style scoped>\n",
              "    .dataframe tbody tr th:only-of-type {\n",
              "        vertical-align: middle;\n",
              "    }\n",
              "\n",
              "    .dataframe tbody tr th {\n",
              "        vertical-align: top;\n",
              "    }\n",
              "\n",
              "    .dataframe thead th {\n",
              "        text-align: right;\n",
              "    }\n",
              "</style>\n",
              "<table border=\"1\" class=\"dataframe\">\n",
              "  <thead>\n",
              "    <tr style=\"text-align: right;\">\n",
              "      <th></th>\n",
              "      <th>work_year</th>\n",
              "      <th>salary_in_usd</th>\n",
              "      <th>remote_ratio</th>\n",
              "    </tr>\n",
              "  </thead>\n",
              "  <tbody>\n",
              "    <tr>\n",
              "      <th>count</th>\n",
              "      <td>565.000000</td>\n",
              "      <td>565.000000</td>\n",
              "      <td>565.000000</td>\n",
              "    </tr>\n",
              "    <tr>\n",
              "      <th>mean</th>\n",
              "      <td>2021.364602</td>\n",
              "      <td>110610.343363</td>\n",
              "      <td>69.911504</td>\n",
              "    </tr>\n",
              "    <tr>\n",
              "      <th>std</th>\n",
              "      <td>0.698138</td>\n",
              "      <td>72280.702792</td>\n",
              "      <td>40.900666</td>\n",
              "    </tr>\n",
              "    <tr>\n",
              "      <th>min</th>\n",
              "      <td>2020.000000</td>\n",
              "      <td>2859.000000</td>\n",
              "      <td>0.000000</td>\n",
              "    </tr>\n",
              "    <tr>\n",
              "      <th>25%</th>\n",
              "      <td>2021.000000</td>\n",
              "      <td>60757.000000</td>\n",
              "      <td>50.000000</td>\n",
              "    </tr>\n",
              "    <tr>\n",
              "      <th>50%</th>\n",
              "      <td>2021.000000</td>\n",
              "      <td>100000.000000</td>\n",
              "      <td>100.000000</td>\n",
              "    </tr>\n",
              "    <tr>\n",
              "      <th>75%</th>\n",
              "      <td>2022.000000</td>\n",
              "      <td>150000.000000</td>\n",
              "      <td>100.000000</td>\n",
              "    </tr>\n",
              "    <tr>\n",
              "      <th>max</th>\n",
              "      <td>2022.000000</td>\n",
              "      <td>600000.000000</td>\n",
              "      <td>100.000000</td>\n",
              "    </tr>\n",
              "  </tbody>\n",
              "</table>\n",
              "</div>"
            ],
            "text/plain": [
              "         work_year  salary_in_usd  remote_ratio\n",
              "count   565.000000     565.000000    565.000000\n",
              "mean   2021.364602  110610.343363     69.911504\n",
              "std       0.698138   72280.702792     40.900666\n",
              "min    2020.000000    2859.000000      0.000000\n",
              "25%    2021.000000   60757.000000     50.000000\n",
              "50%    2021.000000  100000.000000    100.000000\n",
              "75%    2022.000000  150000.000000    100.000000\n",
              "max    2022.000000  600000.000000    100.000000"
            ]
          },
          "execution_count": 618,
          "metadata": {},
          "output_type": "execute_result"
        }
      ],
      "source": [
        "data_10_2.describe()"
      ]
    },
    {
      "cell_type": "markdown",
      "metadata": {},
      "source": [
        "Строим график для поиска выбросов"
      ]
    },
    {
      "cell_type": "code",
      "execution_count": 619,
      "metadata": {},
      "outputs": [
        {
          "data": {
            "image/png": "[encoded data removed]",
            "text/plain": [
              "<Figure size 1500x500 with 2 Axes>"
            ]
          },
          "metadata": {},
          "output_type": "display_data"
        }
      ],
      "source": [
        "fig, axes = plt.subplots(1, 2, figsize=(15, 5))\n",
        "\n",
        "sns.histplot(data_10_2['salary_in_usd'], kde=True, ax=axes[0])\n",
        "axes[0].set(xlabel='salary_in_usd', ylabel='Frequency')\n",
        "axes[0].set_title('Salary level allocation')\n",
        "axes[0].axvline(data_10_2['salary_in_usd'].mean(), color='red', linestyle='--', linewidth=0.8)\n",
        "\n",
        "sns.boxplot(data = data_10_2, x = 'salary_in_usd', orient='h', medianprops={\"color\": \"red\", \"linestyle\": '--'})\n",
        "\n",
        "plt.show()"
      ]
    },
    {
      "cell_type": "markdown",
      "metadata": {},
      "source": [
        "Распределение признака salary_in_usd не нормальное. Как видно из графика boxplot расброс значений основной заработной платы находится примерно до 300 000 usd. Все что более- удаляем. "
      ]
    },
    {
      "cell_type": "code",
      "execution_count": 620,
      "metadata": {},
      "outputs": [
        {
          "name": "stdout",
          "output_type": "stream",
          "text": [
            "<class 'pandas.core.frame.DataFrame'>\n",
            "Index: 555 entries, 0 to 606\n",
            "Data columns (total 9 columns):\n",
            " #   Column              Non-Null Count  Dtype \n",
            "---  ------              --------------  ----- \n",
            " 0   work_year           555 non-null    int64 \n",
            " 1   experience_level    555 non-null    object\n",
            " 2   employment_type     555 non-null    object\n",
            " 3   job_title           555 non-null    object\n",
            " 4   salary_in_usd       555 non-null    int64 \n",
            " 5   employee_residence  555 non-null    object\n",
            " 6   remote_ratio        555 non-null    int64 \n",
            " 7   company_location    555 non-null    object\n",
            " 8   company_size        555 non-null    object\n",
            "dtypes: int64(3), object(6)\n",
            "memory usage: 43.4+ KB\n"
          ]
        }
      ],
      "source": [
        "#убираем результаты с 3П более 300000\n",
        "outliers = data_10_2[data_10_2['salary_in_usd']>300000]\n",
        "cleaned_data_10_2 = data_10_2.drop(outliers.index, axis =0)\n",
        "cleaned_data_10_2.info()"
      ]
    },
    {
      "cell_type": "code",
      "execution_count": 621,
      "metadata": {
        "colab": {
          "base_uri": "https://localhost:8080/",
          "height": 300
        },
        "id": "h4rqfECm4umv",
        "outputId": "3edbc181-1016-488d-ef8c-6dfc5dbbfee1"
      },
      "outputs": [
        {
          "data": {
            "text/html": [
              "<div>\n",
              "<style scoped>\n",
              "    .dataframe tbody tr th:only-of-type {\n",
              "        vertical-align: middle;\n",
              "    }\n",
              "\n",
              "    .dataframe tbody tr th {\n",
              "        vertical-align: top;\n",
              "    }\n",
              "\n",
              "    .dataframe thead th {\n",
              "        text-align: right;\n",
              "    }\n",
              "</style>\n",
              "<table border=\"1\" class=\"dataframe\">\n",
              "  <thead>\n",
              "    <tr style=\"text-align: right;\">\n",
              "      <th></th>\n",
              "      <th>salary_in_usd</th>\n",
              "    </tr>\n",
              "  </thead>\n",
              "  <tbody>\n",
              "    <tr>\n",
              "      <th>count</th>\n",
              "      <td>555.00</td>\n",
              "    </tr>\n",
              "    <tr>\n",
              "      <th>mean</th>\n",
              "      <td>105062.78</td>\n",
              "    </tr>\n",
              "    <tr>\n",
              "      <th>std</th>\n",
              "      <td>58981.19</td>\n",
              "    </tr>\n",
              "    <tr>\n",
              "      <th>min</th>\n",
              "      <td>2859.00</td>\n",
              "    </tr>\n",
              "    <tr>\n",
              "      <th>25%</th>\n",
              "      <td>60000.00</td>\n",
              "    </tr>\n",
              "    <tr>\n",
              "      <th>50%</th>\n",
              "      <td>100000.00</td>\n",
              "    </tr>\n",
              "    <tr>\n",
              "      <th>75%</th>\n",
              "      <td>145500.00</td>\n",
              "    </tr>\n",
              "    <tr>\n",
              "      <th>max</th>\n",
              "      <td>276000.00</td>\n",
              "    </tr>\n",
              "  </tbody>\n",
              "</table>\n",
              "</div>"
            ],
            "text/plain": [
              "       salary_in_usd\n",
              "count         555.00\n",
              "mean       105062.78\n",
              "std         58981.19\n",
              "min          2859.00\n",
              "25%         60000.00\n",
              "50%        100000.00\n",
              "75%        145500.00\n",
              "max        276000.00"
            ]
          },
          "execution_count": 621,
          "metadata": {},
          "output_type": "execute_result"
        }
      ],
      "source": [
        "data_agg_10_2 = cleaned_data_10_2['salary_in_usd'].describe().round(2).to_frame()\n",
        "data_agg_10_2"
      ]
    },
    {
      "cell_type": "markdown",
      "metadata": {},
      "source": [
        "Рассмотрим графика распределния уровня заработной платы после провеедения очистки от выбросов"
      ]
    },
    {
      "cell_type": "code",
      "execution_count": 622,
      "metadata": {},
      "outputs": [
        {
          "data": {
            "image/png": "[encoded data removed]",
            "text/plain": [
              "<Figure size 1500x500 with 2 Axes>"
            ]
          },
          "metadata": {},
          "output_type": "display_data"
        }
      ],
      "source": [
        "fig, axes = plt.subplots(1, 2, figsize=(15, 5))\n",
        "\n",
        "sns.histplot(cleaned_data_10_2['salary_in_usd'], kde=True, ax=axes[0])\n",
        "axes[0].set(xlabel='salary_in_usd', ylabel='Frequency')\n",
        "axes[0].set_title('Salary level allocation')\n",
        "axes[0].axvline(cleaned_data_10_2['salary_in_usd'].mean(), color='red', linestyle='--', linewidth=0.8)\n",
        "\n",
        "ax = sns.boxplot(cleaned_data_10_2, x='salary_in_usd', orient='h', medianprops={\"color\": \"red\", \"linestyle\": '--'})\n",
        "ax.set(xlabel='salary_in_usd')\n",
        "plt.title('Salary level allocation')\n",
        "plt.show()"
      ]
    },
    {
      "cell_type": "code",
      "execution_count": 623,
      "metadata": {},
      "outputs": [
        {
          "data": {
            "text/html": [
              "<div>\n",
              "<style scoped>\n",
              "    .dataframe tbody tr th:only-of-type {\n",
              "        vertical-align: middle;\n",
              "    }\n",
              "\n",
              "    .dataframe tbody tr th {\n",
              "        vertical-align: top;\n",
              "    }\n",
              "\n",
              "    .dataframe thead th {\n",
              "        text-align: right;\n",
              "    }\n",
              "</style>\n",
              "<table border=\"1\" class=\"dataframe\">\n",
              "  <thead>\n",
              "    <tr style=\"text-align: right;\">\n",
              "      <th></th>\n",
              "      <th>work_year</th>\n",
              "      <th>experience_level</th>\n",
              "      <th>employment_type</th>\n",
              "      <th>job_title</th>\n",
              "      <th>salary_in_usd</th>\n",
              "      <th>employee_residence</th>\n",
              "      <th>remote_ratio</th>\n",
              "      <th>company_location</th>\n",
              "      <th>company_size</th>\n",
              "    </tr>\n",
              "  </thead>\n",
              "  <tbody>\n",
              "    <tr>\n",
              "      <th>0</th>\n",
              "      <td>2020</td>\n",
              "      <td>MI</td>\n",
              "      <td>FT</td>\n",
              "      <td>Data Scientist</td>\n",
              "      <td>79833</td>\n",
              "      <td>DE</td>\n",
              "      <td>0</td>\n",
              "      <td>DE</td>\n",
              "      <td>L</td>\n",
              "    </tr>\n",
              "    <tr>\n",
              "      <th>1</th>\n",
              "      <td>2020</td>\n",
              "      <td>SE</td>\n",
              "      <td>FT</td>\n",
              "      <td>Machine Learning Scientist</td>\n",
              "      <td>260000</td>\n",
              "      <td>JP</td>\n",
              "      <td>0</td>\n",
              "      <td>JP</td>\n",
              "      <td>S</td>\n",
              "    </tr>\n",
              "    <tr>\n",
              "      <th>2</th>\n",
              "      <td>2020</td>\n",
              "      <td>SE</td>\n",
              "      <td>FT</td>\n",
              "      <td>Big Data Engineer</td>\n",
              "      <td>109024</td>\n",
              "      <td>GB</td>\n",
              "      <td>50</td>\n",
              "      <td>GB</td>\n",
              "      <td>M</td>\n",
              "    </tr>\n",
              "    <tr>\n",
              "      <th>3</th>\n",
              "      <td>2020</td>\n",
              "      <td>MI</td>\n",
              "      <td>FT</td>\n",
              "      <td>Product Data Analyst</td>\n",
              "      <td>20000</td>\n",
              "      <td>HN</td>\n",
              "      <td>0</td>\n",
              "      <td>HN</td>\n",
              "      <td>S</td>\n",
              "    </tr>\n",
              "    <tr>\n",
              "      <th>4</th>\n",
              "      <td>2020</td>\n",
              "      <td>SE</td>\n",
              "      <td>FT</td>\n",
              "      <td>Machine Learning Engineer</td>\n",
              "      <td>150000</td>\n",
              "      <td>US</td>\n",
              "      <td>50</td>\n",
              "      <td>US</td>\n",
              "      <td>L</td>\n",
              "    </tr>\n",
              "  </tbody>\n",
              "</table>\n",
              "</div>"
            ],
            "text/plain": [
              "   work_year experience_level employment_type                   job_title  \\\n",
              "0       2020               MI              FT              Data Scientist   \n",
              "1       2020               SE              FT  Machine Learning Scientist   \n",
              "2       2020               SE              FT           Big Data Engineer   \n",
              "3       2020               MI              FT        Product Data Analyst   \n",
              "4       2020               SE              FT   Machine Learning Engineer   \n",
              "\n",
              "   salary_in_usd employee_residence  remote_ratio company_location  \\\n",
              "0          79833                 DE             0               DE   \n",
              "1         260000                 JP             0               JP   \n",
              "2         109024                 GB            50               GB   \n",
              "3          20000                 HN             0               HN   \n",
              "4         150000                 US            50               US   \n",
              "\n",
              "  company_size  \n",
              "0            L  \n",
              "1            S  \n",
              "2            M  \n",
              "3            S  \n",
              "4            L  "
            ]
          },
          "execution_count": 623,
          "metadata": {},
          "output_type": "execute_result"
        }
      ],
      "source": [
        "cleaned_data_10_2.head()"
      ]
    },
    {
      "cell_type": "markdown",
      "metadata": {},
      "source": [
        "Проведем анализ какие факторы влияют на зарплату специалиста Data Scientist:\n",
        "1. год в котором выплачена зароботная плата (work_year)\n",
        "2. размер компании (company_size)\n",
        "3. опыт работы (experience_level)\n",
        "4. тип трудоустройства (employment_type)\n",
        "5. общий объём работы, выполняемой удалённо (remote_ratio)\n"
      ]
    },
    {
      "cell_type": "markdown",
      "metadata": {},
      "source": [
        "### 1. Анализ влияния года, в котором выплачена зароботная плата (work_year), на зарплату специалиста Data Scientist "
      ]
    },
    {
      "cell_type": "code",
      "execution_count": 624,
      "metadata": {},
      "outputs": [],
      "source": [
        "#Создадим таблицу данных для специальности Data Scientist, что нам требуется по условию\n",
        "data_DS = cleaned_data_10_2[cleaned_data_10_2['job_title']=='Data Scientist']\n",
        "#data_DS.head()\n",
        "#data_DS.info()\n",
        "#data_DS.describe()\n"
      ]
    },
    {
      "cell_type": "code",
      "execution_count": 625,
      "metadata": {},
      "outputs": [
        {
          "name": "stdout",
          "output_type": "stream",
          "text": [
            "Заработная плата в зависимости от года работы\n"
          ]
        },
        {
          "data": {
            "text/html": [
              "<div>\n",
              "<style scoped>\n",
              "    .dataframe tbody tr th:only-of-type {\n",
              "        vertical-align: middle;\n",
              "    }\n",
              "\n",
              "    .dataframe tbody tr th {\n",
              "        vertical-align: top;\n",
              "    }\n",
              "\n",
              "    .dataframe thead th {\n",
              "        text-align: right;\n",
              "    }\n",
              "</style>\n",
              "<table border=\"1\" class=\"dataframe\">\n",
              "  <thead>\n",
              "    <tr style=\"text-align: right;\">\n",
              "      <th></th>\n",
              "      <th>count</th>\n",
              "      <th>mean</th>\n",
              "      <th>std</th>\n",
              "      <th>min</th>\n",
              "      <th>25%</th>\n",
              "      <th>50%</th>\n",
              "      <th>75%</th>\n",
              "      <th>max</th>\n",
              "    </tr>\n",
              "    <tr>\n",
              "      <th>work_year</th>\n",
              "      <th></th>\n",
              "      <th></th>\n",
              "      <th></th>\n",
              "      <th></th>\n",
              "      <th></th>\n",
              "      <th></th>\n",
              "      <th></th>\n",
              "      <th></th>\n",
              "    </tr>\n",
              "  </thead>\n",
              "  <tbody>\n",
              "    <tr>\n",
              "      <th>2020</th>\n",
              "      <td>20.0</td>\n",
              "      <td>69669.05</td>\n",
              "      <td>33268.11</td>\n",
              "      <td>21669.0</td>\n",
              "      <td>41768.00</td>\n",
              "      <td>62726.0</td>\n",
              "      <td>94677.75</td>\n",
              "      <td>138350.0</td>\n",
              "    </tr>\n",
              "    <tr>\n",
              "      <th>2021</th>\n",
              "      <td>44.0</td>\n",
              "      <td>70215.77</td>\n",
              "      <td>45843.82</td>\n",
              "      <td>2859.0</td>\n",
              "      <td>32793.75</td>\n",
              "      <td>67233.5</td>\n",
              "      <td>100922.75</td>\n",
              "      <td>165000.0</td>\n",
              "    </tr>\n",
              "    <tr>\n",
              "      <th>2022</th>\n",
              "      <td>65.0</td>\n",
              "      <td>131366.94</td>\n",
              "      <td>55785.24</td>\n",
              "      <td>18442.0</td>\n",
              "      <td>95550.00</td>\n",
              "      <td>135000.0</td>\n",
              "      <td>170000.00</td>\n",
              "      <td>260000.0</td>\n",
              "    </tr>\n",
              "  </tbody>\n",
              "</table>\n",
              "</div>"
            ],
            "text/plain": [
              "           count       mean       std      min       25%       50%        75%  \\\n",
              "work_year                                                                       \n",
              "2020        20.0   69669.05  33268.11  21669.0  41768.00   62726.0   94677.75   \n",
              "2021        44.0   70215.77  45843.82   2859.0  32793.75   67233.5  100922.75   \n",
              "2022        65.0  131366.94  55785.24  18442.0  95550.00  135000.0  170000.00   \n",
              "\n",
              "                max  \n",
              "work_year            \n",
              "2020       138350.0  \n",
              "2021       165000.0  \n",
              "2022       260000.0  "
            ]
          },
          "execution_count": 625,
          "metadata": {},
          "output_type": "execute_result"
        }
      ],
      "source": [
        "data_agg_work_year = data_DS.groupby('work_year')['salary_in_usd'].describe().round(2)\n",
        "data_agg_work_year"
      ]
    },
    {
      "cell_type": "markdown",
      "metadata": {},
      "source": [
        "Можно сделать вывод, что наблюдается рост заработной платы с каждым иследуемым годом (2021 рост незначительный, но все таки есть). Можем обратить внимание , что СРЕДНЯЯ заработная плата в 2020 и 2021 году примернрно равна (разница в 516 USD) Но также мы видим, что в 2021 году есть возможный выброс (минимальная зп = 2859 USD). Этот вопрос подлежит дополнительной проверки. \n",
        "Построим график. "
      ]
    },
    {
      "cell_type": "code",
      "execution_count": 646,
      "metadata": {},
      "outputs": [
        {
          "data": {
            "image/png": "[encoded data removed]",
            "text/plain": [
              "<Figure size 640x480 with 1 Axes>"
            ]
          },
          "metadata": {},
          "output_type": "display_data"
        }
      ],
      "source": [
        "ax = sns.boxplot(data_DS, x='salary_in_usd', y='work_year', orient='h', medianprops={\"color\": \"red\", \"linestyle\": '--'})\n",
        "ax.set(xlabel='salary_in_usd', ylabel='work_year')\n",
        "plt.title('Salary depending on year')\n",
        "plt.show()"
      ]
    },
    {
      "cell_type": "markdown",
      "metadata": {},
      "source": [
        "### 2. Анализ влияния размера компании (company_size) на зарплату специалиста Data Scientist"
      ]
    },
    {
      "cell_type": "code",
      "execution_count": 627,
      "metadata": {
        "colab": {
          "base_uri": "https://localhost:8080/",
          "height": 223
        },
        "id": "xfI208tHwz6T",
        "outputId": "af1e6d3f-7417-4633-814a-353507e9104f"
      },
      "outputs": [
        {
          "data": {
            "text/html": [
              "<div>\n",
              "<style scoped>\n",
              "    .dataframe tbody tr th:only-of-type {\n",
              "        vertical-align: middle;\n",
              "    }\n",
              "\n",
              "    .dataframe tbody tr th {\n",
              "        vertical-align: top;\n",
              "    }\n",
              "\n",
              "    .dataframe thead th {\n",
              "        text-align: right;\n",
              "    }\n",
              "</style>\n",
              "<table border=\"1\" class=\"dataframe\">\n",
              "  <thead>\n",
              "    <tr style=\"text-align: right;\">\n",
              "      <th></th>\n",
              "      <th>count</th>\n",
              "      <th>mean</th>\n",
              "      <th>std</th>\n",
              "      <th>min</th>\n",
              "      <th>25%</th>\n",
              "      <th>50%</th>\n",
              "      <th>75%</th>\n",
              "      <th>max</th>\n",
              "    </tr>\n",
              "    <tr>\n",
              "      <th>company_size</th>\n",
              "      <th></th>\n",
              "      <th></th>\n",
              "      <th></th>\n",
              "      <th></th>\n",
              "      <th></th>\n",
              "      <th></th>\n",
              "      <th></th>\n",
              "      <th></th>\n",
              "    </tr>\n",
              "  </thead>\n",
              "  <tbody>\n",
              "    <tr>\n",
              "      <th>L</th>\n",
              "      <td>42.0</td>\n",
              "      <td>95380.17</td>\n",
              "      <td>55756.89</td>\n",
              "      <td>13400.0</td>\n",
              "      <td>42860.75</td>\n",
              "      <td>89694.0</td>\n",
              "      <td>133750.0</td>\n",
              "      <td>215300.0</td>\n",
              "    </tr>\n",
              "    <tr>\n",
              "      <th>M</th>\n",
              "      <td>66.0</td>\n",
              "      <td>120080.58</td>\n",
              "      <td>56347.79</td>\n",
              "      <td>4000.0</td>\n",
              "      <td>80000.00</td>\n",
              "      <td>119529.5</td>\n",
              "      <td>157500.0</td>\n",
              "      <td>260000.0</td>\n",
              "    </tr>\n",
              "    <tr>\n",
              "      <th>S</th>\n",
              "      <td>21.0</td>\n",
              "      <td>51925.76</td>\n",
              "      <td>33216.29</td>\n",
              "      <td>2859.0</td>\n",
              "      <td>21669.00</td>\n",
              "      <td>49268.0</td>\n",
              "      <td>82500.0</td>\n",
              "      <td>105000.0</td>\n",
              "    </tr>\n",
              "  </tbody>\n",
              "</table>\n",
              "</div>"
            ],
            "text/plain": [
              "              count       mean       std      min       25%       50%  \\\n",
              "company_size                                                            \n",
              "L              42.0   95380.17  55756.89  13400.0  42860.75   89694.0   \n",
              "M              66.0  120080.58  56347.79   4000.0  80000.00  119529.5   \n",
              "S              21.0   51925.76  33216.29   2859.0  21669.00   49268.0   \n",
              "\n",
              "                   75%       max  \n",
              "company_size                      \n",
              "L             133750.0  215300.0  \n",
              "M             157500.0  260000.0  \n",
              "S              82500.0  105000.0  "
            ]
          },
          "execution_count": 627,
          "metadata": {},
          "output_type": "execute_result"
        }
      ],
      "source": [
        "data_agg_company_size = data_DS.groupby('company_size')['salary_in_usd'].describe().round(2)\n",
        "data_agg_company_size"
      ]
    },
    {
      "cell_type": "markdown",
      "metadata": {
        "id": "y_SC_018yS76"
      },
      "source": [
        "Как видно, что средний уровень заработной платы у компании среднего размеры, больше чем у крупной, но их и больше по количеству. Посмотрим график."
      ]
    },
    {
      "cell_type": "code",
      "execution_count": 647,
      "metadata": {},
      "outputs": [
        {
          "data": {
            "image/png": "[encoded data removed]",
            "text/plain": [
              "<Figure size 640x480 with 1 Axes>"
            ]
          },
          "metadata": {},
          "output_type": "display_data"
        }
      ],
      "source": [
        "ax = sns.boxplot(data_DS, x='salary_in_usd', y='company_size', orient='h', medianprops={\"color\": \"red\", \"linestyle\": '--'})\n",
        "ax.set(xlabel='salary_in_usd', ylabel='company_size')\n",
        "plt.title('Salary depending on company size')\n",
        "plt.show()"
      ]
    },
    {
      "cell_type": "markdown",
      "metadata": {},
      "source": [
        "### 3. Анализ влияния опыта работы (experience_level) на зарплату специалиста Data Scientist     "
      ]
    },
    {
      "cell_type": "code",
      "execution_count": 629,
      "metadata": {},
      "outputs": [
        {
          "data": {
            "text/html": [
              "<div>\n",
              "<style scoped>\n",
              "    .dataframe tbody tr th:only-of-type {\n",
              "        vertical-align: middle;\n",
              "    }\n",
              "\n",
              "    .dataframe tbody tr th {\n",
              "        vertical-align: top;\n",
              "    }\n",
              "\n",
              "    .dataframe thead th {\n",
              "        text-align: right;\n",
              "    }\n",
              "</style>\n",
              "<table border=\"1\" class=\"dataframe\">\n",
              "  <thead>\n",
              "    <tr style=\"text-align: right;\">\n",
              "      <th></th>\n",
              "      <th>count</th>\n",
              "      <th>mean</th>\n",
              "      <th>std</th>\n",
              "      <th>min</th>\n",
              "      <th>25%</th>\n",
              "      <th>50%</th>\n",
              "      <th>75%</th>\n",
              "      <th>max</th>\n",
              "    </tr>\n",
              "    <tr>\n",
              "      <th>experience_level</th>\n",
              "      <th></th>\n",
              "      <th></th>\n",
              "      <th></th>\n",
              "      <th></th>\n",
              "      <th></th>\n",
              "      <th></th>\n",
              "      <th></th>\n",
              "      <th></th>\n",
              "    </tr>\n",
              "  </thead>\n",
              "  <tbody>\n",
              "    <tr>\n",
              "      <th>EN</th>\n",
              "      <td>22.0</td>\n",
              "      <td>55330.91</td>\n",
              "      <td>31237.82</td>\n",
              "      <td>4000.0</td>\n",
              "      <td>31474.0</td>\n",
              "      <td>50483.5</td>\n",
              "      <td>85027.25</td>\n",
              "      <td>105000.0</td>\n",
              "    </tr>\n",
              "    <tr>\n",
              "      <th>MI</th>\n",
              "      <td>59.0</td>\n",
              "      <td>81891.76</td>\n",
              "      <td>47257.88</td>\n",
              "      <td>2859.0</td>\n",
              "      <td>41339.0</td>\n",
              "      <td>76958.0</td>\n",
              "      <td>118529.50</td>\n",
              "      <td>200000.0</td>\n",
              "    </tr>\n",
              "    <tr>\n",
              "      <th>SE</th>\n",
              "      <td>48.0</td>\n",
              "      <td>145267.33</td>\n",
              "      <td>50597.67</td>\n",
              "      <td>20171.0</td>\n",
              "      <td>104843.0</td>\n",
              "      <td>142200.0</td>\n",
              "      <td>180000.00</td>\n",
              "      <td>260000.0</td>\n",
              "    </tr>\n",
              "  </tbody>\n",
              "</table>\n",
              "</div>"
            ],
            "text/plain": [
              "                  count       mean       std      min       25%       50%  \\\n",
              "experience_level                                                            \n",
              "EN                 22.0   55330.91  31237.82   4000.0   31474.0   50483.5   \n",
              "MI                 59.0   81891.76  47257.88   2859.0   41339.0   76958.0   \n",
              "SE                 48.0  145267.33  50597.67  20171.0  104843.0  142200.0   \n",
              "\n",
              "                        75%       max  \n",
              "experience_level                       \n",
              "EN                 85027.25  105000.0  \n",
              "MI                118529.50  200000.0  \n",
              "SE                180000.00  260000.0  "
            ]
          },
          "execution_count": 629,
          "metadata": {},
          "output_type": "execute_result"
        }
      ],
      "source": [
        "data_agg_experience_level = data_DS.groupby('experience_level')['salary_in_usd'].describe().round(2)\n",
        "data_agg_experience_level"
      ]
    },
    {
      "cell_type": "code",
      "execution_count": 648,
      "metadata": {},
      "outputs": [
        {
          "data": {
            "image/png": "[encoded data removed]",
            "text/plain": [
              "<Figure size 640x480 with 1 Axes>"
            ]
          },
          "metadata": {},
          "output_type": "display_data"
        }
      ],
      "source": [
        "ax = sns.boxplot(data_DS, x='salary_in_usd', y='experience_level', orient='h', medianprops={\"color\": \"red\", \"linestyle\": '--'})\n",
        "ax.set(xlabel='salary_in_usd', ylabel='experience_level')\n",
        "plt.title('Salary depending on work experience')\n",
        "plt.show()"
      ]
    },
    {
      "cell_type": "markdown",
      "metadata": {},
      "source": [
        "Видно, что с увеличением опыта, уровень заработной платы также увеличивается"
      ]
    },
    {
      "cell_type": "markdown",
      "metadata": {},
      "source": [
        "### 4. Анализ влияния типа трудоустройства (employment_type) на зарплату специалиста Data Scientist"
      ]
    },
    {
      "cell_type": "code",
      "execution_count": 631,
      "metadata": {},
      "outputs": [
        {
          "data": {
            "text/html": [
              "<div>\n",
              "<style scoped>\n",
              "    .dataframe tbody tr th:only-of-type {\n",
              "        vertical-align: middle;\n",
              "    }\n",
              "\n",
              "    .dataframe tbody tr th {\n",
              "        vertical-align: top;\n",
              "    }\n",
              "\n",
              "    .dataframe thead th {\n",
              "        text-align: right;\n",
              "    }\n",
              "</style>\n",
              "<table border=\"1\" class=\"dataframe\">\n",
              "  <thead>\n",
              "    <tr style=\"text-align: right;\">\n",
              "      <th></th>\n",
              "      <th>count</th>\n",
              "      <th>mean</th>\n",
              "      <th>std</th>\n",
              "      <th>min</th>\n",
              "      <th>25%</th>\n",
              "      <th>50%</th>\n",
              "      <th>75%</th>\n",
              "      <th>max</th>\n",
              "    </tr>\n",
              "    <tr>\n",
              "      <th>employment_type</th>\n",
              "      <th></th>\n",
              "      <th></th>\n",
              "      <th></th>\n",
              "      <th></th>\n",
              "      <th></th>\n",
              "      <th></th>\n",
              "      <th></th>\n",
              "      <th></th>\n",
              "    </tr>\n",
              "  </thead>\n",
              "  <tbody>\n",
              "    <tr>\n",
              "      <th>FL</th>\n",
              "      <td>1.0</td>\n",
              "      <td>100000.00</td>\n",
              "      <td>NaN</td>\n",
              "      <td>100000.0</td>\n",
              "      <td>100000.00</td>\n",
              "      <td>100000.0</td>\n",
              "      <td>100000.00</td>\n",
              "      <td>100000.0</td>\n",
              "    </tr>\n",
              "    <tr>\n",
              "      <th>FT</th>\n",
              "      <td>126.0</td>\n",
              "      <td>101587.75</td>\n",
              "      <td>58343.68</td>\n",
              "      <td>2859.0</td>\n",
              "      <td>50330.25</td>\n",
              "      <td>99680.0</td>\n",
              "      <td>140400.00</td>\n",
              "      <td>260000.0</td>\n",
              "    </tr>\n",
              "    <tr>\n",
              "      <th>PT</th>\n",
              "      <td>2.0</td>\n",
              "      <td>60834.50</td>\n",
              "      <td>55388.38</td>\n",
              "      <td>21669.0</td>\n",
              "      <td>41251.75</td>\n",
              "      <td>60834.5</td>\n",
              "      <td>80417.25</td>\n",
              "      <td>100000.0</td>\n",
              "    </tr>\n",
              "  </tbody>\n",
              "</table>\n",
              "</div>"
            ],
            "text/plain": [
              "                 count       mean       std       min        25%       50%  \\\n",
              "employment_type                                                              \n",
              "FL                 1.0  100000.00       NaN  100000.0  100000.00  100000.0   \n",
              "FT               126.0  101587.75  58343.68    2859.0   50330.25   99680.0   \n",
              "PT                 2.0   60834.50  55388.38   21669.0   41251.75   60834.5   \n",
              "\n",
              "                       75%       max  \n",
              "employment_type                       \n",
              "FL               100000.00  100000.0  \n",
              "FT               140400.00  260000.0  \n",
              "PT                80417.25  100000.0  "
            ]
          },
          "execution_count": 631,
          "metadata": {},
          "output_type": "execute_result"
        }
      ],
      "source": [
        "data_agg_employment_type = data_DS.groupby('employment_type')['salary_in_usd'].describe().round(2)\n",
        "data_agg_employment_type"
      ]
    },
    {
      "cell_type": "markdown",
      "metadata": {},
      "source": [
        "Как видно из полученного анализа, для специалиста Data Scientist для сстатистического анализа имеем только тип трудоустройства FT (полный рабочий день). Имеющимися значениями для FL (фриланс) и  PT (неполный рабочий день) следует пренебречь ввиду абсолютнго малого количества такиих данных. Посмотрим график. "
      ]
    },
    {
      "cell_type": "code",
      "execution_count": 649,
      "metadata": {},
      "outputs": [
        {
          "data": {
            "image/png": "[encoded data removed]",
            "text/plain": [
              "<Figure size 640x480 with 1 Axes>"
            ]
          },
          "metadata": {},
          "output_type": "display_data"
        }
      ],
      "source": [
        "ax = sns.boxplot(data_DS, x='salary_in_usd', y='employment_type', orient='h', medianprops={\"color\": \"red\", \"linestyle\": '--'})\n",
        "ax.set(xlabel='salary_in_usd', ylabel='employment_type')\n",
        "plt.title('Salary depending on type of employment')\n",
        "plt.show()"
      ]
    },
    {
      "cell_type": "markdown",
      "metadata": {},
      "source": [
        "### 5. Анализ влияния общего объёма работы, выполняемой удалённо (remote_ratio) на зарплату специалиста Data Scientist"
      ]
    },
    {
      "cell_type": "code",
      "execution_count": 633,
      "metadata": {},
      "outputs": [
        {
          "data": {
            "text/html": [
              "<div>\n",
              "<style scoped>\n",
              "    .dataframe tbody tr th:only-of-type {\n",
              "        vertical-align: middle;\n",
              "    }\n",
              "\n",
              "    .dataframe tbody tr th {\n",
              "        vertical-align: top;\n",
              "    }\n",
              "\n",
              "    .dataframe thead th {\n",
              "        text-align: right;\n",
              "    }\n",
              "</style>\n",
              "<table border=\"1\" class=\"dataframe\">\n",
              "  <thead>\n",
              "    <tr style=\"text-align: right;\">\n",
              "      <th></th>\n",
              "      <th>count</th>\n",
              "      <th>mean</th>\n",
              "      <th>std</th>\n",
              "      <th>min</th>\n",
              "      <th>25%</th>\n",
              "      <th>50%</th>\n",
              "      <th>75%</th>\n",
              "      <th>max</th>\n",
              "    </tr>\n",
              "    <tr>\n",
              "      <th>remote_ratio</th>\n",
              "      <th></th>\n",
              "      <th></th>\n",
              "      <th></th>\n",
              "      <th></th>\n",
              "      <th></th>\n",
              "      <th></th>\n",
              "      <th></th>\n",
              "      <th></th>\n",
              "    </tr>\n",
              "  </thead>\n",
              "  <tbody>\n",
              "    <tr>\n",
              "      <th>0</th>\n",
              "      <td>38.0</td>\n",
              "      <td>98444.97</td>\n",
              "      <td>58647.60</td>\n",
              "      <td>2859.0</td>\n",
              "      <td>49781.25</td>\n",
              "      <td>93582.0</td>\n",
              "      <td>139050.0</td>\n",
              "      <td>215300.0</td>\n",
              "    </tr>\n",
              "    <tr>\n",
              "      <th>50</th>\n",
              "      <td>24.0</td>\n",
              "      <td>73827.83</td>\n",
              "      <td>36204.18</td>\n",
              "      <td>20171.0</td>\n",
              "      <td>47783.75</td>\n",
              "      <td>62726.0</td>\n",
              "      <td>102250.0</td>\n",
              "      <td>147000.0</td>\n",
              "    </tr>\n",
              "    <tr>\n",
              "      <th>100</th>\n",
              "      <td>67.0</td>\n",
              "      <td>112073.87</td>\n",
              "      <td>61329.08</td>\n",
              "      <td>5679.0</td>\n",
              "      <td>60412.00</td>\n",
              "      <td>105000.0</td>\n",
              "      <td>159100.0</td>\n",
              "      <td>260000.0</td>\n",
              "    </tr>\n",
              "  </tbody>\n",
              "</table>\n",
              "</div>"
            ],
            "text/plain": [
              "              count       mean       std      min       25%       50%  \\\n",
              "remote_ratio                                                            \n",
              "0              38.0   98444.97  58647.60   2859.0  49781.25   93582.0   \n",
              "50             24.0   73827.83  36204.18  20171.0  47783.75   62726.0   \n",
              "100            67.0  112073.87  61329.08   5679.0  60412.00  105000.0   \n",
              "\n",
              "                   75%       max  \n",
              "remote_ratio                      \n",
              "0             139050.0  215300.0  \n",
              "50            102250.0  147000.0  \n",
              "100           159100.0  260000.0  "
            ]
          },
          "execution_count": 633,
          "metadata": {},
          "output_type": "execute_result"
        }
      ],
      "source": [
        "data_agg_remote_ratio = data_DS.groupby('remote_ratio')['salary_in_usd'].describe().round(2)\n",
        "data_agg_remote_ratio"
      ]
    },
    {
      "cell_type": "markdown",
      "metadata": {},
      "source": [
        "Видно, что самый высокий уровень заработной платы у тех, у кого объем работы, выполняемой удаленно, составляет более 80%. Немного ниже уровень заработной платы у тех, у кого объем работы выполняемой удаленно составляет менее 20%. Те же сотруднику у кого объем работы, выполняемой удаленно составляет примерно 50% иммет в среднем меньшую заработную плату.Посмотрим график."
      ]
    },
    {
      "cell_type": "code",
      "execution_count": 650,
      "metadata": {},
      "outputs": [
        {
          "data": {
            "image/png": "[encoded data removed]",
            "text/plain": [
              "<Figure size 640x480 with 1 Axes>"
            ]
          },
          "metadata": {},
          "output_type": "display_data"
        }
      ],
      "source": [
        "ax = sns.boxplot(data_DS, x='salary_in_usd', y='remote_ratio', orient='h', medianprops={\"color\": \"red\", \"linestyle\": '--'})\n",
        "ax.set(xlabel='salary_in_usd', ylabel='remote_ratio')\n",
        "plt.title('Salary depending on remote_ratio')\n",
        "plt.show()"
      ]
    },
    {
      "cell_type": "markdown",
      "metadata": {
        "id": "-UcttLBPfd8-"
      },
      "source": [
        "## Статистический анализ данных\n",
        "\n"
      ]
    },
    {
      "cell_type": "code",
      "execution_count": 635,
      "metadata": {
        "id": "sn3PGE23l7Ze"
      },
      "outputs": [],
      "source": [
        "# функция для принятия решения о нормальности\n",
        "def decision_normality(p):\n",
        "    print('p-value = {:.3f}'.format(p))\n",
        "    if p <= alpha:\n",
        "        print('p-значение меньше, чем заданный уровень значимости {:.2f}. Распределение отлично от нормального'.format(alpha))\n",
        "    else:\n",
        "        print('p-значение больше, чем заданный уровень значимости {:.2f}. Распределение является нормальным'.format(alpha))\n",
        "\n",
        "\n",
        "# функция для принятия решения об отклонении нулевой гипотезы\n",
        "def decision_hypothesis(p):\n",
        "    print('p-value = {:.3f}'.format(p))\n",
        "    if p <= alpha:\n",
        "        print('p-значение меньше, чем заданный уровень значимости {:.2f}. Отвергаем нулевую гипотезу в пользу альтернативной.'.format(alpha))\n",
        "    else:\n",
        "        print('p-значение больше, чем заданный уровень значимости {:.2f}. У нас нет оснований отвергнуть нулевую гипотезу.'.format(alpha))\n",
        "      "
      ]
    },
    {
      "cell_type": "markdown",
      "metadata": {
        "id": "zxbl3BYLGKIW"
      },
      "source": [
        "### 1. Наблюдается ли ежегодный рост зарплат у специалистов Data Scientist?"
      ]
    },
    {
      "cell_type": "markdown",
      "metadata": {},
      "source": [
        "\n",
        "**Сформулируем нулевую и альтернативные гипотезы**\n",
        "\n",
        "*Нулевая гипотеза* ($H_0$): размер зарплаты года ($μ_1$) статистически меньше либо равен размеру зарплаты предыдущего года ($μ_2$).\n",
        "\n",
        "$$ H_0 : μ_1 <= μ_2$$\n",
        "\n",
        "*Альтернативная гипотеза* ($H_1$): размер зарплаты года ($μ_1$) статистически больше, чем размер зарплаты предыдущего года ($μ_2$).\n",
        "\n",
        "$$ H_1 : μ_1 > μ_2$$"
      ]
    },
    {
      "cell_type": "markdown",
      "metadata": {
        "id": "Yi8l7ZWSl7Ze"
      },
      "source": [
        "**Проверка на нормальность**\n",
        "\n",
        "С помощью теста Шапиро-Уилка проверим, распределён ли признак нормально. Напомним гипотезы теста Шапиро-Уилка:\n",
        "\n",
        "*Нулевая гипотеза* ($H_0$): распределение данные является нормальным.\n",
        "\n",
        "*Альтернативная гипотеза* ($H_1$): распределение данных отлично от нормального."
      ]
    },
    {
      "cell_type": "code",
      "execution_count": 636,
      "metadata": {
        "colab": {
          "base_uri": "https://localhost:8080/"
        },
        "id": "bCxAGItPTHRe",
        "outputId": "334716f4-96c7-4a21-ca5f-c7d352adde2b"
      },
      "outputs": [
        {
          "name": "stdout",
          "output_type": "stream",
          "text": [
            "Для 2020:\n",
            "p-value = 0.145\n",
            "p-значение больше, чем заданный уровень значимости 0.05. Распределение является нормальным\n",
            "Для 2021:\n",
            "p-value = 0.107\n",
            "p-значение больше, чем заданный уровень значимости 0.05. Распределение является нормальным\n",
            "Для 2022:\n",
            "p-value = 0.676\n",
            "p-значение больше, чем заданный уровень значимости 0.05. Распределение является нормальным\n"
          ]
        }
      ],
      "source": [
        "# значения salary_in_usd Data Scientist от года\n",
        "salary_DS_2020 = data_DS[data_DS['work_year']==2020]['salary_in_usd']\n",
        "salary_DS_2021 = data_DS[data_DS['work_year']==2021]['salary_in_usd']\n",
        "salary_DS_2022 = data_DS[data_DS['work_year']==2022]['salary_in_usd']\n",
        "\n",
        "# проводим тест Шапиро-Уилка\n",
        "print('Для 2020:')\n",
        "result = stats.shapiro(salary_DS_2020)\n",
        "decision_normality(result[1])\n",
        "\n",
        "print('Для 2021:')\n",
        "result = stats.shapiro(salary_DS_2021)\n",
        "decision_normality(result[1])\n",
        "\n",
        "print('Для 2022:')\n",
        "result = stats.shapiro(salary_DS_2022)\n",
        "decision_normality(result[1])\n",
        "\n"
      ]
    },
    {
      "cell_type": "markdown",
      "metadata": {},
      "source": [
        "**Выберем подходящий статистический тест**\n",
        "\n",
        "Для выбора нужного теста воспользуемся алгоритмом выбора теста. Для этого ответим на следующие вопросы:\n",
        "* Какой тип у признака «Размер заработной платы»? — Количественный.\n",
        "* Сколько сравниваемых групп? — Три.\n",
        "* Группы зависимы? — Нет.\n",
        "* Признак распределён по нормальному закону? — Да.\n",
        "\n",
        "Чтобы проверить нашу гипотезу, можно использовать однофакторный дисперсионный анализ ANOVA.\n",
        "\n",
        "**Проведём тест**"
      ]
    },
    {
      "cell_type": "code",
      "execution_count": 637,
      "metadata": {},
      "outputs": [
        {
          "name": "stdout",
          "output_type": "stream",
          "text": [
            "p-value = 0.000\n",
            "p-значение меньше, чем заданный уровень значимости 0.05. Отвергаем нулевую гипотезу в пользу альтернативной.\n"
          ]
        }
      ],
      "source": [
        "# проводим тест\n",
        "_, p = stats.f_oneway(salary_DS_2020, salary_DS_2021, salary_DS_2022)\n",
        "decision_hypothesis(p)"
      ]
    },
    {
      "cell_type": "markdown",
      "metadata": {},
      "source": [
        "### Вывод\n",
        "Зарплаты года увеличиваются по сравнению с предыдущим годом."
      ]
    },
    {
      "cell_type": "markdown",
      "metadata": {},
      "source": [
        "### 2. Как соотносятся зарплаты Data Scientist и Data Engineer в 2022 году?\n",
        "\n",
        "**Сформулируем нулевую и альтернативные гипотезы**\n",
        "\n",
        "*Нулевая гипотеза* ($H_0$): размер зарплаты DE ($μ_1$) статистически больше либо равен размеру зарплаты DS в 2022 году ($μ_2$).\n",
        "\n",
        "$$ H_0 : μ_1 >= μ_2$$\n",
        "\n",
        "*Альтернативная гипотеза* ($H_1$): размер зарплаты DE в 2022 году ($μ_1$) статистически меньше, чем размер зарплаты DS в 2022 году ($μ_2$).\n",
        "\n",
        "$$ H_1 : μ_1 < μ_2$$"
      ]
    },
    {
      "cell_type": "markdown",
      "metadata": {},
      "source": [
        "**Проверка на нормальность**\n",
        "\n",
        "С помощью теста Шапиро-Уилка проверим, распределён ли признак нормально. "
      ]
    },
    {
      "cell_type": "code",
      "execution_count": 638,
      "metadata": {},
      "outputs": [
        {
          "name": "stdout",
          "output_type": "stream",
          "text": [
            "Для DS:\n",
            "p-value = 0.676\n",
            "p-значение больше, чем заданный уровень значимости 0.05. Распределение является нормальным\n",
            "Для DE:\n",
            "p-value = 0.021\n",
            "p-значение меньше, чем заданный уровень значимости 0.05. Распределение отлично от нормального\n"
          ]
        }
      ],
      "source": [
        "data_DE = cleaned_data_10_2[cleaned_data_10_2['job_title']=='Data Engineer']\n",
        "\n",
        "# значения salary_in_usd по DS и DE на 2022 \n",
        "salary_DS_2022 = data_DS[data_DS['work_year']==2022]['salary_in_usd']\n",
        "salary_DE_2022 = data_DE[data_DE['work_year']==2022]['salary_in_usd']\n",
        "\n",
        "# проводим тест Шапиро-Уилка\n",
        "print('Для DS:')\n",
        "result = stats.shapiro(salary_DS_2022)\n",
        "decision_normality(result[1])\n",
        "\n",
        "print('Для DE:')\n",
        "result = stats.shapiro(salary_DE_2022)\n",
        "decision_normality(result[1])\n"
      ]
    },
    {
      "cell_type": "markdown",
      "metadata": {},
      "source": [
        "**Выберем подходящий статистический тест**\n",
        "\n",
        "Для выбора нужного теста воспользуемся алгоритмом выбора теста. Для этого ответим на следующие вопросы:\n",
        "* Какой тип у признака «Размер заработной платы»? — Количественный.\n",
        "* Сколько сравниваемых групп? — Две.\n",
        "* Группы зависимы? — Нет.\n",
        "* Признак распределён по нормальному закону? — Нет.\n",
        "\n",
        "Чтобы проверить нашу гипотезу, можно использовать U-критерий Манна — Уитни.\n",
        "\n",
        "**Проведём тест**"
      ]
    },
    {
      "cell_type": "code",
      "execution_count": 639,
      "metadata": {},
      "outputs": [
        {
          "name": "stdout",
          "output_type": "stream",
          "text": [
            "p-value = 0.873\n",
            "p-значение больше, чем заданный уровень значимости 0.05. У нас нет оснований отвергнуть нулевую гипотезу.\n"
          ]
        }
      ],
      "source": [
        "_, p = stats.mannwhitneyu(salary_DS_2022, salary_DE_2022, alternative='less')\n",
        "decision_hypothesis(p)"
      ]
    },
    {
      "cell_type": "markdown",
      "metadata": {},
      "source": [
        "## Вывод\n",
        "Заработная плата у Data Engineer больше либо равна заработной плате Data Scientist"
      ]
    },
    {
      "cell_type": "markdown",
      "metadata": {},
      "source": [
        "### 3. Как соотносятся зарплаты специалистов Data Scientist в компаниях различных размеров?\n"
      ]
    },
    {
      "cell_type": "markdown",
      "metadata": {},
      "source": [
        "**Сформулируем нулевую и альтернативные гипотезы**\n",
        "\n",
        "*Нулевая гипотеза* ($H_0$): размер зарплаты Data Scientist не отличается  в компаниях различных размеров: небольшая компания ($μ_1$), средняя компания ($μ_2$), крупная компания ($μ_3$)\n",
        "$$ H_0 : μ_1 = μ_2 = μ_3$$\n",
        "\n",
        "*Альтернативная гипотеза* ($H_1$): размер зарплаты Data Scientist отличается  в компаниях различных размеров: небольшая компания ($μ_1$), средняя компания ($μ_2$), крупная компания ($μ_3$)\n",
        "\n",
        "$$ H_1 : μ_1 \\neq μ_2 \\neq μ_3$$"
      ]
    },
    {
      "cell_type": "markdown",
      "metadata": {},
      "source": [
        "**Проверка на нормальность**\n",
        "\n",
        "С помощью теста Шапиро-Уилка проверим, распределён ли признак нормально. "
      ]
    },
    {
      "cell_type": "code",
      "execution_count": 640,
      "metadata": {},
      "outputs": [
        {
          "name": "stdout",
          "output_type": "stream",
          "text": [
            "Для S:\n",
            "p-value = 0.189\n",
            "p-значение больше, чем заданный уровень значимости 0.05. Распределение является нормальным\n",
            "Для M:\n",
            "p-value = 0.897\n",
            "p-значение больше, чем заданный уровень значимости 0.05. Распределение является нормальным\n",
            "Для L:\n",
            "p-value = 0.030\n",
            "p-значение меньше, чем заданный уровень значимости 0.05. Распределение отлично от нормального\n"
          ]
        }
      ],
      "source": [
        "# значения з.п. по размеру компании \n",
        "salary_DS_S = data_DS[data_DS['company_size']=='S']['salary_in_usd']\n",
        "salary_DS_M = data_DS[data_DS['company_size']=='M']['salary_in_usd']\n",
        "salary_DS_L = data_DS[data_DS['company_size']=='L']['salary_in_usd']\n",
        "\n",
        "# проводим тест Шапиро-Уилка\n",
        "print('Для S:')\n",
        "result = stats.shapiro(salary_DS_S)\n",
        "decision_normality(result[1])\n",
        "\n",
        "print('Для M:')\n",
        "result = stats.shapiro(salary_DS_M)\n",
        "decision_normality(result[1])\n",
        "\n",
        "print('Для L:')\n",
        "result = stats.shapiro(salary_DS_L)\n",
        "decision_normality(result[1])"
      ]
    },
    {
      "cell_type": "markdown",
      "metadata": {},
      "source": [
        "**Выберем подходящий статистический тест**\n",
        "\n",
        "Для выбора нужного теста воспользуемся алгоритмом выбора теста. Для этого ответим на следующие вопросы:\n",
        "* Какой тип у признака «Размер заработной платы»? — Количественный.\n",
        "* Сколько сравниваемых групп? — Три.\n",
        "* Группы зависимы? — Нет.\n",
        "* Признак распределён по нормальному закону? — Нет.\n",
        "\n",
        "Чтобы проверить нашу гипотезу, можно использовать критерий Краскела — Уоллиса.\n",
        "\n",
        "**Проведём тест**"
      ]
    },
    {
      "cell_type": "code",
      "execution_count": 641,
      "metadata": {},
      "outputs": [
        {
          "name": "stdout",
          "output_type": "stream",
          "text": [
            "p-value = 0.000\n",
            "p-значение меньше, чем заданный уровень значимости 0.05. Отвергаем нулевую гипотезу в пользу альтернативной.\n"
          ]
        }
      ],
      "source": [
        "_, p = stats.kruskal(salary_DS_S, salary_DS_M, salary_DS_L)\n",
        "decision_hypothesis(p)"
      ]
    },
    {
      "cell_type": "markdown",
      "metadata": {},
      "source": [
        "### Вывод \n",
        "Размер заработной платы Data Scientist отличается в компаниях различного размера"
      ]
    },
    {
      "cell_type": "markdown",
      "metadata": {},
      "source": [
        "### 4. Есть ли связь между наличием должностей Data Scientist и Data Engineer и размером компании?\n",
        "**Сформулируем нулевую и альтернативные гипотезы**\n",
        "\n",
        "*Нулевая гипотеза*: между наличием должностей Data Scientist и Data Engineer и размером компании нет взаимосвязи (признаки независимы).\n",
        "\n",
        "*Альтернативная гипотеза*: между наличием должностей Data Scientist и Data Engineer и размером компании есть взаимосвязь (признаки зависимы)."
      ]
    },
    {
      "cell_type": "markdown",
      "metadata": {},
      "source": [
        "**Выберем подходящий статистический тест**\n",
        "\n",
        "Для выбора нужного теста воспользуемся алгоритмом выбора теста. Для этого ответим на следующие вопросы:\n",
        "* Какой тип у признака Data Scientist и Data Engineer? — Категориальный.\n",
        "* Сколько сравниваемых групп? — Две.\n",
        "* Проверяется независимость групп? — Да.\n",
        "\n",
        "Для проверки нашей гипотезы можно использовать критерий ${\\chi}^2$ (хи-квадрат).\n",
        "\n",
        "**Проведём тест**"
      ]
    },
    {
      "cell_type": "code",
      "execution_count": 642,
      "metadata": {},
      "outputs": [],
      "source": [
        "#Создадим DF по интересующим вакансиям\n",
        "DS_DE = cleaned_data_10_2.loc[(cleaned_data_10_2['job_title']=='Data Scientist') | (cleaned_data_10_2['job_title']=='Data Engineer')]"
      ]
    },
    {
      "cell_type": "code",
      "execution_count": 643,
      "metadata": {},
      "outputs": [
        {
          "data": {
            "text/html": [
              "<div>\n",
              "<style scoped>\n",
              "    .dataframe tbody tr th:only-of-type {\n",
              "        vertical-align: middle;\n",
              "    }\n",
              "\n",
              "    .dataframe tbody tr th {\n",
              "        vertical-align: top;\n",
              "    }\n",
              "\n",
              "    .dataframe thead th {\n",
              "        text-align: right;\n",
              "    }\n",
              "</style>\n",
              "<table border=\"1\" class=\"dataframe\">\n",
              "  <thead>\n",
              "    <tr style=\"text-align: right;\">\n",
              "      <th>company_size</th>\n",
              "      <th>L</th>\n",
              "      <th>M</th>\n",
              "      <th>S</th>\n",
              "    </tr>\n",
              "    <tr>\n",
              "      <th>job_title</th>\n",
              "      <th></th>\n",
              "      <th></th>\n",
              "      <th></th>\n",
              "    </tr>\n",
              "  </thead>\n",
              "  <tbody>\n",
              "    <tr>\n",
              "      <th>Data Engineer</th>\n",
              "      <td>34</td>\n",
              "      <td>80</td>\n",
              "      <td>6</td>\n",
              "    </tr>\n",
              "    <tr>\n",
              "      <th>Data Scientist</th>\n",
              "      <td>42</td>\n",
              "      <td>66</td>\n",
              "      <td>21</td>\n",
              "    </tr>\n",
              "  </tbody>\n",
              "</table>\n",
              "</div>"
            ],
            "text/plain": [
              "company_size     L   M   S\n",
              "job_title                 \n",
              "Data Engineer   34  80   6\n",
              "Data Scientist  42  66  21"
            ]
          },
          "execution_count": 643,
          "metadata": {},
          "output_type": "execute_result"
        }
      ],
      "source": [
        "# составляем таблицу сопряжённости\n",
        "cross_table = pd.crosstab(DS_DE['job_title'], DS_DE['company_size'])\n",
        "cross_table"
      ]
    },
    {
      "cell_type": "code",
      "execution_count": 644,
      "metadata": {},
      "outputs": [
        {
          "name": "stdout",
          "output_type": "stream",
          "text": [
            "p-value = 0.030\n",
            "p-значение меньше, чем заданный уровень значимости 0.05. Отвергаем нулевую гипотезу в пользу альтернативной.\n"
          ]
        }
      ],
      "source": [
        "# проводим тест\n",
        "_, p, _, _ = stats.chi2_contingency(table)\n",
        "decision_hypothesis(result[1])\n"
      ]
    },
    {
      "cell_type": "markdown",
      "metadata": {},
      "source": [
        "## Вывод\n",
        "Существует статистически значимая взаимосвязь между наличием должностей Data Scientist и Data Engineer и размером компании."
      ]
    },
    {
      "cell_type": "markdown",
      "metadata": {},
      "source": [
        "# Итог\n"
      ]
    },
    {
      "cell_type": "markdown",
      "metadata": {},
      "source": [
        "При анализе имеющихся данных, а также после проведения статистических тестов, было установлено следующее:\n",
        "1. На заработную плату влияют следующие факторы:\n",
        "    - наблюдается ежегодный рост заработной платы в аналиируемом периоде;\n",
        "    - У средних компаний, з.п. оказалась выше чем у крупных;\n",
        "    - Увеличение опыта работы также ведет к увеличениию з.п.;\n",
        "    - По типу занятости ответить затруднительно, т.к. по FL и PT всего 2 сотрудника, и сделать вывод будет нецелесообразно.;\n",
        "    - У сотрудников, которые имели более 80% работы удаленно, самая высокая ср. з.п., в то время как у сотрудников с 50%, мин. з.п. выше всех.\n",
        "2. После проведения статистических тестов были подтверждены выводы полученные в ходе анализа, а также получены ответы на другие вопросы.\n",
        "### В целом, можно сказать, что почти все факторы, указаные в выборке оказывают влияние на рост з.п. и могут быть рассмотрены. "
      ]
    }
  ],
  "metadata": {
    "colab": {
      "provenance": []
    },
    "kernelspec": {
      "display_name": "Python 3.10.8 ('base')",
      "language": "python",
      "name": "python3"
    },
    "language_info": {
      "codemirror_mode": {
        "name": "ipython",
        "version": 3
      },
      "file_extension": ".py",
      "mimetype": "text/x-python",
      "name": "python",
      "nbconvert_exporter": "python",
      "pygments_lexer": "ipython3",
      "version": "3.11.9"
    },
    "vscode": {
      "interpreter": {
        "hash": "86c56a74836ad344b00594bf6f38fa6a676a207ceefe20d101fbc465800ccb8d"
      }
    }
  },
  "nbformat": 4,
  "nbformat_minor": 0
}
