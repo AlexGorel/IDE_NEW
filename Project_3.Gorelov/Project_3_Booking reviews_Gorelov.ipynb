{
 "cells": [
  {
   "cell_type": "markdown",
   "metadata": {
    "collapsed": false,
    "pycharm": {
     "name": "#%% md\n"
    }
   },
   "source": [
    "# Project 3 Booking reviews"
   ]
  },
  {
   "cell_type": "markdown",
   "metadata": {
    "collapsed": false,
    "pycharm": {
     "name": "#%% md\n"
    }
   },
   "source": [
    "### Какой кейс решаем?\n",
    "Представим, что работаем дата-сайентистом в компании Booking. Одна из проблем компании — это нечестные отели, которые накручивают себе рейтинг. Одним из способов обнаружения таких отелей является построение модели, которая предсказывает рейтинг отеля. Если предсказания модели сильно отличаются от фактического результата, то, возможно, отель ведёт себя нечестно, и его стоит проверить.\n",
    "\n",
    "### Признаки:\n",
    "\n",
    "* hotel_address — адрес отеля;\n",
    "* review_date — дата, когда рецензент разместил соответствующий отзыв;\n",
    "* average_score — средний балл отеля, рассчитанный на основе последнего комментария за последний год;\n",
    "* hotel_name — название отеля;\n",
    "* reviewer_nationality — страна рецензента;\n",
    "* negative_review — отрицательный отзыв, который рецензент дал отелю;\n",
    "* review_total_negative_word_counts — общее количество слов в отрицательном отзыв;\n",
    "* positive_review — положительный отзыв, который рецензент дал отелю;\n",
    "* review_total_positive_word_counts — общее количество слов в положительном отзыве.\n",
    "* reviewer_score — оценка, которую рецензент поставил отелю на основе своего опыта;\n",
    "* total_number_of_reviews_reviewer_has_given — количество отзывов, которые рецензенты дали в прошлом;\n",
    "* total_number_of_reviews — общее количество действительных отзывов об отеле;\n",
    "* tags — теги, которые рецензент дал отелю;\n",
    "* days_since_review — количество дней между датой проверки и датой очистки;\n",
    "* additional_number_of_scoring — есть также некоторые гости, которые просто поставили оценку сервису, но не оставили отзыв. Это число указывает, сколько там действительных оценок без проверки.\n",
    "* lat — географическая широта отеля;\n",
    "* lng — географическая долгота отеля.\n",
    "\n",
    "### Файлы для соревнования\n",
    "\n",
    "* hotels_train.csv - набор данных для обучения [источник данных](https://www.kaggle.com/competitions/sf-booking/data)\n",
    "* hotels_test.csv - набор данных для оценки качества [источник данных](https://www.kaggle.com/competitions/sf-booking/data)\n",
    "* submission.csv - файл сабмишна в нужном формате [источник данных](https://www.kaggle.com/competitions/sf-booking/data)\n"
   ]
  },
  {
   "cell_type": "markdown",
   "metadata": {
    "collapsed": false,
    "pycharm": {
     "name": "#%% md\n"
    }
   },
   "source": [
    "## 1. Исходные данные"
   ]
  },
  {
   "cell_type": "code",
   "execution_count": 413,
   "metadata": {
    "collapsed": false,
    "pycharm": {
     "name": "#%%\n"
    }
   },
   "outputs": [
    {
     "name": "stderr",
     "output_type": "stream",
     "text": [
      "[nltk_data] Downloading package vader_lexicon to ....\n",
      "[nltk_data]   Package vader_lexicon is already up-to-date!\n"
     ]
    }
   ],
   "source": [
    "import numpy as np\n",
    "import pandas as pd\n",
    "import category_encoders as ce\n",
    "\n",
    "pd.set_option('display.max_colwidth', None)\n",
    "pd.set_option('display.float_format', '{:.3f}'.format)\n",
    "pd.set_option('display.max_rows', 200)\n",
    "\n",
    "import matplotlib.pyplot as plt\n",
    "import seaborn as sns\n",
    "%matplotlib inline\n",
    "\n",
    "import os\n",
    "import re\n",
    "import string\n",
    "import spacy\n",
    "import nltk\n",
    "from nltk.corpus import stopwords\n",
    "from nltk.sentiment.vader import SentimentIntensityAnalyzer\n",
    "# from textblob import TextBlob, Blobber\n",
    "# from textblob.sentiments import NaiveBayesAnalyzer\n",
    "from afinn import Afinn\n",
    "\n",
    "nltk.download('vader_lexicon', download_dir='.')\n",
    "\n",
    "from sklearn.model_selection import train_test_split\n",
    "from sklearn.preprocessing import MinMaxScaler\n",
    "from sklearn.feature_selection import f_classif\n",
    "from sklearn.ensemble import RandomForestRegressor\n",
    "\n",
    "# for dirname, _, filenames in os.walk('/kaggle/input'):\n",
    "#     for filename in filenames:\n",
    "#         print(os.path.join(dirname, filename))"
   ]
  },
  {
   "cell_type": "code",
   "execution_count": 414,
   "metadata": {
    "collapsed": false,
    "pycharm": {
     "name": "#%%\n"
    }
   },
   "outputs": [],
   "source": [
    "RANDOM_SEED = 42"
   ]
  },
  {
   "cell_type": "code",
   "execution_count": 415,
   "metadata": {
    "collapsed": false,
    "pycharm": {
     "name": "#%%\n"
    }
   },
   "outputs": [],
   "source": [
    "# DATA_DIR = '/kaggle/input/sf-booking/'\n",
    "# df_train = pd.read_csv(DATA_DIR + 'hotels_train.csv')\n",
    "# df_test = pd.read_csv(DATA_DIR + 'hotels_test.csv')\n",
    "# sample_submission = pd.read_csv(DATA_DIR + 'submission.csv')\n",
    "# local test only\n",
    "df_train = pd.read_csv('C:\\скил\\DST-156\\IDE_NEW\\Project_3.Gorelov\\hotels_train.csv')\n",
    "df_test = pd.read_csv('C:\\скил\\DST-156\\IDE_NEW\\Project_3.Gorelov\\hotels_test.csv')\n",
    "sample_submission = pd.read_csv('C:\\скил\\DST-156\\IDE_NEW\\Project_3.Gorelov\\submission.csv')"
   ]
  },
  {
   "cell_type": "code",
   "execution_count": 416,
   "metadata": {
    "collapsed": false,
    "pycharm": {
     "name": "#%%\n"
    }
   },
   "outputs": [
    {
     "name": "stdout",
     "output_type": "stream",
     "text": [
      "<class 'pandas.core.frame.DataFrame'>\n",
      "RangeIndex: 386803 entries, 0 to 386802\n",
      "Data columns (total 17 columns):\n",
      " #   Column                                      Non-Null Count   Dtype  \n",
      "---  ------                                      --------------   -----  \n",
      " 0   hotel_address                               386803 non-null  object \n",
      " 1   additional_number_of_scoring                386803 non-null  int64  \n",
      " 2   review_date                                 386803 non-null  object \n",
      " 3   average_score                               386803 non-null  float64\n",
      " 4   hotel_name                                  386803 non-null  object \n",
      " 5   reviewer_nationality                        386803 non-null  object \n",
      " 6   negative_review                             386803 non-null  object \n",
      " 7   review_total_negative_word_counts           386803 non-null  int64  \n",
      " 8   total_number_of_reviews                     386803 non-null  int64  \n",
      " 9   positive_review                             386803 non-null  object \n",
      " 10  review_total_positive_word_counts           386803 non-null  int64  \n",
      " 11  total_number_of_reviews_reviewer_has_given  386803 non-null  int64  \n",
      " 12  reviewer_score                              386803 non-null  float64\n",
      " 13  tags                                        386803 non-null  object \n",
      " 14  days_since_review                           386803 non-null  object \n",
      " 15  lat                                         384355 non-null  float64\n",
      " 16  lng                                         384355 non-null  float64\n",
      "dtypes: float64(4), int64(5), object(8)\n",
      "memory usage: 50.2+ MB\n"
     ]
    }
   ],
   "source": [
    "df_train.info()"
   ]
  },
  {
   "cell_type": "markdown",
   "metadata": {},
   "source": [
    "Проведем проверку на дубликаты"
   ]
  },
  {
   "cell_type": "code",
   "execution_count": 417,
   "metadata": {},
   "outputs": [
    {
     "name": "stdout",
     "output_type": "stream",
     "text": [
      "<class 'pandas.core.frame.DataFrame'>\n",
      "Index: 386496 entries, 0 to 386802\n",
      "Data columns (total 17 columns):\n",
      " #   Column                                      Non-Null Count   Dtype  \n",
      "---  ------                                      --------------   -----  \n",
      " 0   hotel_address                               386496 non-null  object \n",
      " 1   additional_number_of_scoring                386496 non-null  int64  \n",
      " 2   review_date                                 386496 non-null  object \n",
      " 3   average_score                               386496 non-null  float64\n",
      " 4   hotel_name                                  386496 non-null  object \n",
      " 5   reviewer_nationality                        386496 non-null  object \n",
      " 6   negative_review                             386496 non-null  object \n",
      " 7   review_total_negative_word_counts           386496 non-null  int64  \n",
      " 8   total_number_of_reviews                     386496 non-null  int64  \n",
      " 9   positive_review                             386496 non-null  object \n",
      " 10  review_total_positive_word_counts           386496 non-null  int64  \n",
      " 11  total_number_of_reviews_reviewer_has_given  386496 non-null  int64  \n",
      " 12  reviewer_score                              386496 non-null  float64\n",
      " 13  tags                                        386496 non-null  object \n",
      " 14  days_since_review                           386496 non-null  object \n",
      " 15  lat                                         384048 non-null  float64\n",
      " 16  lng                                         384048 non-null  float64\n",
      "dtypes: float64(4), int64(5), object(8)\n",
      "memory usage: 53.1+ MB\n"
     ]
    }
   ],
   "source": [
    "dupl_columns = list(df_train.columns)\n",
    "\n",
    "###mask_d = df_train.duplicated(subset=dupl_columns)\n",
    "###df_train_duplicates = df_train[mask_d]\n",
    "\n",
    "df_train = df_train.drop_duplicates(subset=dupl_columns)\n",
    "\n",
    "df_train.info()"
   ]
  },
  {
   "cell_type": "code",
   "execution_count": 418,
   "metadata": {
    "collapsed": false,
    "pycharm": {
     "name": "#%%\n"
    }
   },
   "outputs": [
    {
     "data": {
      "text/html": [
       "<div>\n",
       "<style scoped>\n",
       "    .dataframe tbody tr th:only-of-type {\n",
       "        vertical-align: middle;\n",
       "    }\n",
       "\n",
       "    .dataframe tbody tr th {\n",
       "        vertical-align: top;\n",
       "    }\n",
       "\n",
       "    .dataframe thead th {\n",
       "        text-align: right;\n",
       "    }\n",
       "</style>\n",
       "<table border=\"1\" class=\"dataframe\">\n",
       "  <thead>\n",
       "    <tr style=\"text-align: right;\">\n",
       "      <th></th>\n",
       "      <th>hotel_address</th>\n",
       "      <th>additional_number_of_scoring</th>\n",
       "      <th>review_date</th>\n",
       "      <th>average_score</th>\n",
       "      <th>hotel_name</th>\n",
       "      <th>reviewer_nationality</th>\n",
       "      <th>negative_review</th>\n",
       "      <th>review_total_negative_word_counts</th>\n",
       "      <th>total_number_of_reviews</th>\n",
       "      <th>positive_review</th>\n",
       "      <th>review_total_positive_word_counts</th>\n",
       "      <th>total_number_of_reviews_reviewer_has_given</th>\n",
       "      <th>reviewer_score</th>\n",
       "      <th>tags</th>\n",
       "      <th>days_since_review</th>\n",
       "      <th>lat</th>\n",
       "      <th>lng</th>\n",
       "    </tr>\n",
       "  </thead>\n",
       "  <tbody>\n",
       "    <tr>\n",
       "      <th>0</th>\n",
       "      <td>Stratton Street Mayfair Westminster Borough London W1J 8LT United Kingdom</td>\n",
       "      <td>581</td>\n",
       "      <td>2/19/2016</td>\n",
       "      <td>8.400</td>\n",
       "      <td>The May Fair Hotel</td>\n",
       "      <td>United Kingdom</td>\n",
       "      <td>Leaving</td>\n",
       "      <td>3</td>\n",
       "      <td>1994</td>\n",
       "      <td>Staff were amazing</td>\n",
       "      <td>4</td>\n",
       "      <td>7</td>\n",
       "      <td>10.000</td>\n",
       "      <td>[' Leisure trip ', ' Couple ', ' Studio Suite ', ' Stayed 2 nights ', ' Submitted from a mobile device ']</td>\n",
       "      <td>531 day</td>\n",
       "      <td>51.508</td>\n",
       "      <td>-0.144</td>\n",
       "    </tr>\n",
       "    <tr>\n",
       "      <th>1</th>\n",
       "      <td>130 134 Southampton Row Camden London WC1B 5AF United Kingdom</td>\n",
       "      <td>299</td>\n",
       "      <td>1/12/2017</td>\n",
       "      <td>8.300</td>\n",
       "      <td>Mercure London Bloomsbury Hotel</td>\n",
       "      <td>United Kingdom</td>\n",
       "      <td>poor breakfast</td>\n",
       "      <td>3</td>\n",
       "      <td>1361</td>\n",
       "      <td>location</td>\n",
       "      <td>2</td>\n",
       "      <td>14</td>\n",
       "      <td>6.300</td>\n",
       "      <td>[' Business trip ', ' Couple ', ' Standard Double Room ', ' Stayed 1 night ']</td>\n",
       "      <td>203 day</td>\n",
       "      <td>51.521</td>\n",
       "      <td>-0.123</td>\n",
       "    </tr>\n",
       "    <tr>\n",
       "      <th>2</th>\n",
       "      <td>151 bis Rue de Rennes 6th arr 75006 Paris France</td>\n",
       "      <td>32</td>\n",
       "      <td>10/18/2016</td>\n",
       "      <td>8.900</td>\n",
       "      <td>Legend Saint Germain by Elegancia</td>\n",
       "      <td>China</td>\n",
       "      <td>No kettle in room</td>\n",
       "      <td>6</td>\n",
       "      <td>406</td>\n",
       "      <td>No Positive</td>\n",
       "      <td>0</td>\n",
       "      <td>14</td>\n",
       "      <td>7.500</td>\n",
       "      <td>[' Leisure trip ', ' Solo traveler ', ' Modern Double Room Echo ', ' Stayed 3 nights ', ' Submitted from a mobile device ']</td>\n",
       "      <td>289 day</td>\n",
       "      <td>48.845</td>\n",
       "      <td>2.326</td>\n",
       "    </tr>\n",
       "  </tbody>\n",
       "</table>\n",
       "</div>"
      ],
      "text/plain": [
       "                                                               hotel_address  \\\n",
       "0  Stratton Street Mayfair Westminster Borough London W1J 8LT United Kingdom   \n",
       "1              130 134 Southampton Row Camden London WC1B 5AF United Kingdom   \n",
       "2                           151 bis Rue de Rennes 6th arr 75006 Paris France   \n",
       "\n",
       "   additional_number_of_scoring review_date  average_score  \\\n",
       "0                           581   2/19/2016          8.400   \n",
       "1                           299   1/12/2017          8.300   \n",
       "2                            32  10/18/2016          8.900   \n",
       "\n",
       "                          hotel_name reviewer_nationality  \\\n",
       "0                 The May Fair Hotel      United Kingdom    \n",
       "1    Mercure London Bloomsbury Hotel      United Kingdom    \n",
       "2  Legend Saint Germain by Elegancia               China    \n",
       "\n",
       "       negative_review  review_total_negative_word_counts  \\\n",
       "0             Leaving                                   3   \n",
       "1       poor breakfast                                  3   \n",
       "2   No kettle in room                                   6   \n",
       "\n",
       "   total_number_of_reviews      positive_review  \\\n",
       "0                     1994   Staff were amazing   \n",
       "1                     1361             location   \n",
       "2                      406          No Positive   \n",
       "\n",
       "   review_total_positive_word_counts  \\\n",
       "0                                  4   \n",
       "1                                  2   \n",
       "2                                  0   \n",
       "\n",
       "   total_number_of_reviews_reviewer_has_given  reviewer_score  \\\n",
       "0                                           7          10.000   \n",
       "1                                          14           6.300   \n",
       "2                                          14           7.500   \n",
       "\n",
       "                                                                                                                          tags  \\\n",
       "0                    [' Leisure trip ', ' Couple ', ' Studio Suite ', ' Stayed 2 nights ', ' Submitted from a mobile device ']   \n",
       "1                                                [' Business trip ', ' Couple ', ' Standard Double Room ', ' Stayed 1 night ']   \n",
       "2  [' Leisure trip ', ' Solo traveler ', ' Modern Double Room Echo ', ' Stayed 3 nights ', ' Submitted from a mobile device ']   \n",
       "\n",
       "  days_since_review    lat    lng  \n",
       "0           531 day 51.508 -0.144  \n",
       "1           203 day 51.521 -0.123  \n",
       "2           289 day 48.845  2.326  "
      ]
     },
     "execution_count": 418,
     "metadata": {},
     "output_type": "execute_result"
    }
   ],
   "source": [
    "df_train.head(3)"
   ]
  },
  {
   "cell_type": "code",
   "execution_count": 419,
   "metadata": {
    "collapsed": false,
    "pycharm": {
     "name": "#%%\n"
    }
   },
   "outputs": [
    {
     "name": "stdout",
     "output_type": "stream",
     "text": [
      "<class 'pandas.core.frame.DataFrame'>\n",
      "RangeIndex: 128935 entries, 0 to 128934\n",
      "Data columns (total 16 columns):\n",
      " #   Column                                      Non-Null Count   Dtype  \n",
      "---  ------                                      --------------   -----  \n",
      " 0   hotel_address                               128935 non-null  object \n",
      " 1   additional_number_of_scoring                128935 non-null  int64  \n",
      " 2   review_date                                 128935 non-null  object \n",
      " 3   average_score                               128935 non-null  float64\n",
      " 4   hotel_name                                  128935 non-null  object \n",
      " 5   reviewer_nationality                        128935 non-null  object \n",
      " 6   negative_review                             128935 non-null  object \n",
      " 7   review_total_negative_word_counts           128935 non-null  int64  \n",
      " 8   total_number_of_reviews                     128935 non-null  int64  \n",
      " 9   positive_review                             128935 non-null  object \n",
      " 10  review_total_positive_word_counts           128935 non-null  int64  \n",
      " 11  total_number_of_reviews_reviewer_has_given  128935 non-null  int64  \n",
      " 12  tags                                        128935 non-null  object \n",
      " 13  days_since_review                           128935 non-null  object \n",
      " 14  lat                                         128115 non-null  float64\n",
      " 15  lng                                         128115 non-null  float64\n",
      "dtypes: float64(3), int64(5), object(8)\n",
      "memory usage: 15.7+ MB\n"
     ]
    }
   ],
   "source": [
    "df_test.info()"
   ]
  },
  {
   "cell_type": "code",
   "execution_count": 420,
   "metadata": {
    "collapsed": false,
    "pycharm": {
     "name": "#%%\n"
    }
   },
   "outputs": [
    {
     "data": {
      "text/html": [
       "<div>\n",
       "<style scoped>\n",
       "    .dataframe tbody tr th:only-of-type {\n",
       "        vertical-align: middle;\n",
       "    }\n",
       "\n",
       "    .dataframe tbody tr th {\n",
       "        vertical-align: top;\n",
       "    }\n",
       "\n",
       "    .dataframe thead th {\n",
       "        text-align: right;\n",
       "    }\n",
       "</style>\n",
       "<table border=\"1\" class=\"dataframe\">\n",
       "  <thead>\n",
       "    <tr style=\"text-align: right;\">\n",
       "      <th></th>\n",
       "      <th>hotel_address</th>\n",
       "      <th>additional_number_of_scoring</th>\n",
       "      <th>review_date</th>\n",
       "      <th>average_score</th>\n",
       "      <th>hotel_name</th>\n",
       "      <th>reviewer_nationality</th>\n",
       "      <th>negative_review</th>\n",
       "      <th>review_total_negative_word_counts</th>\n",
       "      <th>total_number_of_reviews</th>\n",
       "      <th>positive_review</th>\n",
       "      <th>review_total_positive_word_counts</th>\n",
       "      <th>total_number_of_reviews_reviewer_has_given</th>\n",
       "      <th>tags</th>\n",
       "      <th>days_since_review</th>\n",
       "      <th>lat</th>\n",
       "      <th>lng</th>\n",
       "    </tr>\n",
       "  </thead>\n",
       "  <tbody>\n",
       "    <tr>\n",
       "      <th>0</th>\n",
       "      <td>Via Senigallia 6 20161 Milan Italy</td>\n",
       "      <td>904</td>\n",
       "      <td>7/21/2017</td>\n",
       "      <td>8.100</td>\n",
       "      <td>Hotel Da Vinci</td>\n",
       "      <td>United Kingdom</td>\n",
       "      <td>Would have appreciated a shop in the hotel that sold drinking water etc but not necessity Would recommend if like us you arrive late at night to bring drinks from plane airport as there s no shop nearby There is a minibar though if you want to pay those prices</td>\n",
       "      <td>52</td>\n",
       "      <td>16670</td>\n",
       "      <td>Hotel was great clean friendly staff free breakfast every morning with good selection good wifi connection nice sized room with bath fridge in room Personally loved the fact that the hotel isn t in the city centre but is literally next to a train station that you can easily get to and from the airport city Would definitely stay again</td>\n",
       "      <td>62</td>\n",
       "      <td>1</td>\n",
       "      <td>[' Leisure trip ', ' Couple ', ' Double Room ', ' Stayed 2 nights ']</td>\n",
       "      <td>13 days</td>\n",
       "      <td>45.533</td>\n",
       "      <td>9.171</td>\n",
       "    </tr>\n",
       "    <tr>\n",
       "      <th>1</th>\n",
       "      <td>Arlandaweg 10 Westpoort 1043 EW Amsterdam Netherlands</td>\n",
       "      <td>612</td>\n",
       "      <td>12/12/2016</td>\n",
       "      <td>8.600</td>\n",
       "      <td>Urban Lodge Hotel</td>\n",
       "      <td>Belgium</td>\n",
       "      <td>No tissue paper box was present at the room</td>\n",
       "      <td>10</td>\n",
       "      <td>5018</td>\n",
       "      <td>No Positive</td>\n",
       "      <td>0</td>\n",
       "      <td>7</td>\n",
       "      <td>[' Leisure trip ', ' Group ', ' Triple Room ', ' Stayed 1 night ']</td>\n",
       "      <td>234 day</td>\n",
       "      <td>52.386</td>\n",
       "      <td>4.834</td>\n",
       "    </tr>\n",
       "    <tr>\n",
       "      <th>2</th>\n",
       "      <td>Mallorca 251 Eixample 08008 Barcelona Spain</td>\n",
       "      <td>46</td>\n",
       "      <td>11/26/2015</td>\n",
       "      <td>8.300</td>\n",
       "      <td>Alexandra Barcelona A DoubleTree by Hilton</td>\n",
       "      <td>Sweden</td>\n",
       "      <td>Pillows</td>\n",
       "      <td>3</td>\n",
       "      <td>351</td>\n",
       "      <td>Nice welcoming and service</td>\n",
       "      <td>5</td>\n",
       "      <td>15</td>\n",
       "      <td>[' Business trip ', ' Solo traveler ', ' Twin Room ', ' Stayed 1 night ', ' Submitted from a mobile device ']</td>\n",
       "      <td>616 day</td>\n",
       "      <td>41.393</td>\n",
       "      <td>2.162</td>\n",
       "    </tr>\n",
       "  </tbody>\n",
       "</table>\n",
       "</div>"
      ],
      "text/plain": [
       "                                           hotel_address  \\\n",
       "0                     Via Senigallia 6 20161 Milan Italy   \n",
       "1  Arlandaweg 10 Westpoort 1043 EW Amsterdam Netherlands   \n",
       "2            Mallorca 251 Eixample 08008 Barcelona Spain   \n",
       "\n",
       "   additional_number_of_scoring review_date  average_score  \\\n",
       "0                           904   7/21/2017          8.100   \n",
       "1                           612  12/12/2016          8.600   \n",
       "2                            46  11/26/2015          8.300   \n",
       "\n",
       "                                   hotel_name reviewer_nationality  \\\n",
       "0                              Hotel Da Vinci      United Kingdom    \n",
       "1                           Urban Lodge Hotel             Belgium    \n",
       "2  Alexandra Barcelona A DoubleTree by Hilton              Sweden    \n",
       "\n",
       "                                                                                                                                                                                                                                                          negative_review  \\\n",
       "0   Would have appreciated a shop in the hotel that sold drinking water etc but not necessity Would recommend if like us you arrive late at night to bring drinks from plane airport as there s no shop nearby There is a minibar though if you want to pay those prices    \n",
       "1                                                                                                                                                                                                                             No tissue paper box was present at the room   \n",
       "2                                                                                                                                                                                                                                                                Pillows    \n",
       "\n",
       "   review_total_negative_word_counts  total_number_of_reviews  \\\n",
       "0                                 52                    16670   \n",
       "1                                 10                     5018   \n",
       "2                                  3                      351   \n",
       "\n",
       "                                                                                                                                                                                                                                                                                                                                     positive_review  \\\n",
       "0   Hotel was great clean friendly staff free breakfast every morning with good selection good wifi connection nice sized room with bath fridge in room Personally loved the fact that the hotel isn t in the city centre but is literally next to a train station that you can easily get to and from the airport city Would definitely stay again    \n",
       "1                                                                                                                                                                                                                                                                                                                                        No Positive   \n",
       "2                                                                                                                                                                                                                                                                                                                         Nice welcoming and service   \n",
       "\n",
       "   review_total_positive_word_counts  \\\n",
       "0                                 62   \n",
       "1                                  0   \n",
       "2                                  5   \n",
       "\n",
       "   total_number_of_reviews_reviewer_has_given  \\\n",
       "0                                           1   \n",
       "1                                           7   \n",
       "2                                          15   \n",
       "\n",
       "                                                                                                            tags  \\\n",
       "0                                           [' Leisure trip ', ' Couple ', ' Double Room ', ' Stayed 2 nights ']   \n",
       "1                                             [' Leisure trip ', ' Group ', ' Triple Room ', ' Stayed 1 night ']   \n",
       "2  [' Business trip ', ' Solo traveler ', ' Twin Room ', ' Stayed 1 night ', ' Submitted from a mobile device ']   \n",
       "\n",
       "  days_since_review    lat   lng  \n",
       "0           13 days 45.533 9.171  \n",
       "1           234 day 52.386 4.834  \n",
       "2           616 day 41.393 2.162  "
      ]
     },
     "execution_count": 420,
     "metadata": {},
     "output_type": "execute_result"
    }
   ],
   "source": [
    "df_test.head(3)"
   ]
  },
  {
   "cell_type": "code",
   "execution_count": 421,
   "metadata": {
    "collapsed": false,
    "pycharm": {
     "name": "#%%\n"
    }
   },
   "outputs": [
    {
     "name": "stdout",
     "output_type": "stream",
     "text": [
      "<class 'pandas.core.frame.DataFrame'>\n",
      "RangeIndex: 128935 entries, 0 to 128934\n",
      "Data columns (total 2 columns):\n",
      " #   Column          Non-Null Count   Dtype\n",
      "---  ------          --------------   -----\n",
      " 0   reviewer_score  128935 non-null  int64\n",
      " 1   id              128935 non-null  int64\n",
      "dtypes: int64(2)\n",
      "memory usage: 2.0 MB\n"
     ]
    }
   ],
   "source": [
    "sample_submission.info()"
   ]
  },
  {
   "cell_type": "code",
   "execution_count": 422,
   "metadata": {
    "collapsed": false,
    "pycharm": {
     "name": "#%%\n"
    }
   },
   "outputs": [
    {
     "data": {
      "text/html": [
       "<div>\n",
       "<style scoped>\n",
       "    .dataframe tbody tr th:only-of-type {\n",
       "        vertical-align: middle;\n",
       "    }\n",
       "\n",
       "    .dataframe tbody tr th {\n",
       "        vertical-align: top;\n",
       "    }\n",
       "\n",
       "    .dataframe thead th {\n",
       "        text-align: right;\n",
       "    }\n",
       "</style>\n",
       "<table border=\"1\" class=\"dataframe\">\n",
       "  <thead>\n",
       "    <tr style=\"text-align: right;\">\n",
       "      <th></th>\n",
       "      <th>reviewer_score</th>\n",
       "      <th>id</th>\n",
       "    </tr>\n",
       "  </thead>\n",
       "  <tbody>\n",
       "    <tr>\n",
       "      <th>0</th>\n",
       "      <td>1</td>\n",
       "      <td>488440</td>\n",
       "    </tr>\n",
       "    <tr>\n",
       "      <th>1</th>\n",
       "      <td>10</td>\n",
       "      <td>274649</td>\n",
       "    </tr>\n",
       "    <tr>\n",
       "      <th>2</th>\n",
       "      <td>3</td>\n",
       "      <td>374688</td>\n",
       "    </tr>\n",
       "  </tbody>\n",
       "</table>\n",
       "</div>"
      ],
      "text/plain": [
       "   reviewer_score      id\n",
       "0               1  488440\n",
       "1              10  274649\n",
       "2               3  374688"
      ]
     },
     "execution_count": 422,
     "metadata": {},
     "output_type": "execute_result"
    }
   ],
   "source": [
    "sample_submission.head(3)"
   ]
  },
  {
   "cell_type": "markdown",
   "metadata": {
    "collapsed": false,
    "pycharm": {
     "name": "#%% md\n"
    }
   },
   "source": [
    "Для обработки признаков объединим тренировочный и тестовый датасет в один. Для разделения добавим общий признак sample, который будет равен 1 для тренировочных данных и 0 для тестовых. Так же в тестовом датасете создадим целевой признак reviewer_score и заполним его нулями."
   ]
  },
  {
   "cell_type": "code",
   "execution_count": 423,
   "metadata": {
    "collapsed": false,
    "pycharm": {
     "name": "#%%\n"
    }
   },
   "outputs": [],
   "source": [
    "df_train['sample'] = 1\n",
    "df_test['sample'] = 0\n",
    "df_test['reviewer_score'] = 0\n",
    "\n",
    "hotels = pd.concat([df_train, df_test], sort=False).reset_index(drop=True)"
   ]
  },
  {
   "cell_type": "code",
   "execution_count": 424,
   "metadata": {
    "collapsed": false,
    "pycharm": {
     "name": "#%%\n"
    }
   },
   "outputs": [
    {
     "name": "stdout",
     "output_type": "stream",
     "text": [
      "<class 'pandas.core.frame.DataFrame'>\n",
      "RangeIndex: 515431 entries, 0 to 515430\n",
      "Data columns (total 18 columns):\n",
      " #   Column                                      Non-Null Count   Dtype  \n",
      "---  ------                                      --------------   -----  \n",
      " 0   hotel_address                               515431 non-null  object \n",
      " 1   additional_number_of_scoring                515431 non-null  int64  \n",
      " 2   review_date                                 515431 non-null  object \n",
      " 3   average_score                               515431 non-null  float64\n",
      " 4   hotel_name                                  515431 non-null  object \n",
      " 5   reviewer_nationality                        515431 non-null  object \n",
      " 6   negative_review                             515431 non-null  object \n",
      " 7   review_total_negative_word_counts           515431 non-null  int64  \n",
      " 8   total_number_of_reviews                     515431 non-null  int64  \n",
      " 9   positive_review                             515431 non-null  object \n",
      " 10  review_total_positive_word_counts           515431 non-null  int64  \n",
      " 11  total_number_of_reviews_reviewer_has_given  515431 non-null  int64  \n",
      " 12  reviewer_score                              515431 non-null  float64\n",
      " 13  tags                                        515431 non-null  object \n",
      " 14  days_since_review                           515431 non-null  object \n",
      " 15  lat                                         512163 non-null  float64\n",
      " 16  lng                                         512163 non-null  float64\n",
      " 17  sample                                      515431 non-null  int64  \n",
      "dtypes: float64(4), int64(6), object(8)\n",
      "memory usage: 70.8+ MB\n"
     ]
    }
   ],
   "source": [
    "hotels.info()"
   ]
  },
  {
   "cell_type": "code",
   "execution_count": 425,
   "metadata": {
    "collapsed": false,
    "pycharm": {
     "name": "#%%\n"
    }
   },
   "outputs": [
    {
     "data": {
      "text/html": [
       "<div>\n",
       "<style scoped>\n",
       "    .dataframe tbody tr th:only-of-type {\n",
       "        vertical-align: middle;\n",
       "    }\n",
       "\n",
       "    .dataframe tbody tr th {\n",
       "        vertical-align: top;\n",
       "    }\n",
       "\n",
       "    .dataframe thead th {\n",
       "        text-align: right;\n",
       "    }\n",
       "</style>\n",
       "<table border=\"1\" class=\"dataframe\">\n",
       "  <thead>\n",
       "    <tr style=\"text-align: right;\">\n",
       "      <th></th>\n",
       "      <th>hotel_address</th>\n",
       "      <th>additional_number_of_scoring</th>\n",
       "      <th>review_date</th>\n",
       "      <th>average_score</th>\n",
       "      <th>hotel_name</th>\n",
       "      <th>reviewer_nationality</th>\n",
       "      <th>negative_review</th>\n",
       "      <th>review_total_negative_word_counts</th>\n",
       "      <th>total_number_of_reviews</th>\n",
       "      <th>positive_review</th>\n",
       "      <th>review_total_positive_word_counts</th>\n",
       "      <th>total_number_of_reviews_reviewer_has_given</th>\n",
       "      <th>reviewer_score</th>\n",
       "      <th>tags</th>\n",
       "      <th>days_since_review</th>\n",
       "      <th>lat</th>\n",
       "      <th>lng</th>\n",
       "      <th>sample</th>\n",
       "    </tr>\n",
       "  </thead>\n",
       "  <tbody>\n",
       "    <tr>\n",
       "      <th>0</th>\n",
       "      <td>Stratton Street Mayfair Westminster Borough London W1J 8LT United Kingdom</td>\n",
       "      <td>581</td>\n",
       "      <td>2/19/2016</td>\n",
       "      <td>8.400</td>\n",
       "      <td>The May Fair Hotel</td>\n",
       "      <td>United Kingdom</td>\n",
       "      <td>Leaving</td>\n",
       "      <td>3</td>\n",
       "      <td>1994</td>\n",
       "      <td>Staff were amazing</td>\n",
       "      <td>4</td>\n",
       "      <td>7</td>\n",
       "      <td>10.000</td>\n",
       "      <td>[' Leisure trip ', ' Couple ', ' Studio Suite ', ' Stayed 2 nights ', ' Submitted from a mobile device ']</td>\n",
       "      <td>531 day</td>\n",
       "      <td>51.508</td>\n",
       "      <td>-0.144</td>\n",
       "      <td>1</td>\n",
       "    </tr>\n",
       "    <tr>\n",
       "      <th>1</th>\n",
       "      <td>130 134 Southampton Row Camden London WC1B 5AF United Kingdom</td>\n",
       "      <td>299</td>\n",
       "      <td>1/12/2017</td>\n",
       "      <td>8.300</td>\n",
       "      <td>Mercure London Bloomsbury Hotel</td>\n",
       "      <td>United Kingdom</td>\n",
       "      <td>poor breakfast</td>\n",
       "      <td>3</td>\n",
       "      <td>1361</td>\n",
       "      <td>location</td>\n",
       "      <td>2</td>\n",
       "      <td>14</td>\n",
       "      <td>6.300</td>\n",
       "      <td>[' Business trip ', ' Couple ', ' Standard Double Room ', ' Stayed 1 night ']</td>\n",
       "      <td>203 day</td>\n",
       "      <td>51.521</td>\n",
       "      <td>-0.123</td>\n",
       "      <td>1</td>\n",
       "    </tr>\n",
       "    <tr>\n",
       "      <th>2</th>\n",
       "      <td>151 bis Rue de Rennes 6th arr 75006 Paris France</td>\n",
       "      <td>32</td>\n",
       "      <td>10/18/2016</td>\n",
       "      <td>8.900</td>\n",
       "      <td>Legend Saint Germain by Elegancia</td>\n",
       "      <td>China</td>\n",
       "      <td>No kettle in room</td>\n",
       "      <td>6</td>\n",
       "      <td>406</td>\n",
       "      <td>No Positive</td>\n",
       "      <td>0</td>\n",
       "      <td>14</td>\n",
       "      <td>7.500</td>\n",
       "      <td>[' Leisure trip ', ' Solo traveler ', ' Modern Double Room Echo ', ' Stayed 3 nights ', ' Submitted from a mobile device ']</td>\n",
       "      <td>289 day</td>\n",
       "      <td>48.845</td>\n",
       "      <td>2.326</td>\n",
       "      <td>1</td>\n",
       "    </tr>\n",
       "  </tbody>\n",
       "</table>\n",
       "</div>"
      ],
      "text/plain": [
       "                                                               hotel_address  \\\n",
       "0  Stratton Street Mayfair Westminster Borough London W1J 8LT United Kingdom   \n",
       "1              130 134 Southampton Row Camden London WC1B 5AF United Kingdom   \n",
       "2                           151 bis Rue de Rennes 6th arr 75006 Paris France   \n",
       "\n",
       "   additional_number_of_scoring review_date  average_score  \\\n",
       "0                           581   2/19/2016          8.400   \n",
       "1                           299   1/12/2017          8.300   \n",
       "2                            32  10/18/2016          8.900   \n",
       "\n",
       "                          hotel_name reviewer_nationality  \\\n",
       "0                 The May Fair Hotel      United Kingdom    \n",
       "1    Mercure London Bloomsbury Hotel      United Kingdom    \n",
       "2  Legend Saint Germain by Elegancia               China    \n",
       "\n",
       "       negative_review  review_total_negative_word_counts  \\\n",
       "0             Leaving                                   3   \n",
       "1       poor breakfast                                  3   \n",
       "2   No kettle in room                                   6   \n",
       "\n",
       "   total_number_of_reviews      positive_review  \\\n",
       "0                     1994   Staff were amazing   \n",
       "1                     1361             location   \n",
       "2                      406          No Positive   \n",
       "\n",
       "   review_total_positive_word_counts  \\\n",
       "0                                  4   \n",
       "1                                  2   \n",
       "2                                  0   \n",
       "\n",
       "   total_number_of_reviews_reviewer_has_given  reviewer_score  \\\n",
       "0                                           7          10.000   \n",
       "1                                          14           6.300   \n",
       "2                                          14           7.500   \n",
       "\n",
       "                                                                                                                          tags  \\\n",
       "0                    [' Leisure trip ', ' Couple ', ' Studio Suite ', ' Stayed 2 nights ', ' Submitted from a mobile device ']   \n",
       "1                                                [' Business trip ', ' Couple ', ' Standard Double Room ', ' Stayed 1 night ']   \n",
       "2  [' Leisure trip ', ' Solo traveler ', ' Modern Double Room Echo ', ' Stayed 3 nights ', ' Submitted from a mobile device ']   \n",
       "\n",
       "  days_since_review    lat    lng  sample  \n",
       "0           531 day 51.508 -0.144       1  \n",
       "1           203 day 51.521 -0.123       1  \n",
       "2           289 day 48.845  2.326       1  "
      ]
     },
     "execution_count": 425,
     "metadata": {},
     "output_type": "execute_result"
    }
   ],
   "source": [
    "hotels.head(3)"
   ]
  },
  {
   "cell_type": "code",
   "execution_count": 426,
   "metadata": {
    "collapsed": false,
    "pycharm": {
     "name": "#%%\n"
    }
   },
   "outputs": [
    {
     "data": {
      "text/plain": [
       "hotel_address                                   1493\n",
       "additional_number_of_scoring                     480\n",
       "review_date                                      731\n",
       "average_score                                     34\n",
       "hotel_name                                      1492\n",
       "reviewer_nationality                             227\n",
       "negative_review                               330011\n",
       "review_total_negative_word_counts                402\n",
       "total_number_of_reviews                         1142\n",
       "positive_review                               412601\n",
       "review_total_positive_word_counts                365\n",
       "total_number_of_reviews_reviewer_has_given       198\n",
       "reviewer_score                                    38\n",
       "tags                                           55242\n",
       "days_since_review                                731\n",
       "lat                                             1473\n",
       "lng                                             1473\n",
       "sample                                             2\n",
       "dtype: int64"
      ]
     },
     "execution_count": 426,
     "metadata": {},
     "output_type": "execute_result"
    }
   ],
   "source": [
    "hotels.nunique(dropna=False)"
   ]
  },
  {
   "cell_type": "markdown",
   "metadata": {
    "collapsed": false,
    "pycharm": {
     "name": "#%% md\n"
    }
   },
   "source": [
    "## 2. Проектирование признаков"
   ]
  },
  {
   "cell_type": "markdown",
   "metadata": {
    "collapsed": false,
    "pycharm": {
     "name": "#%% md\n"
    }
   },
   "source": [
    "Выделим признаки с пропусками в данных"
   ]
  },
  {
   "cell_type": "code",
   "execution_count": 427,
   "metadata": {
    "collapsed": false,
    "pycharm": {
     "name": "#%%\n"
    }
   },
   "outputs": [
    {
     "data": {
      "text/plain": [
       "lat    3268\n",
       "lng    3268\n",
       "dtype: int64"
      ]
     },
     "metadata": {},
     "output_type": "display_data"
    }
   ],
   "source": [
    "hotels_nulls = hotels.isnull().sum()\n",
    "display(hotels_nulls[hotels_nulls > 0])"
   ]
  },
  {
   "cell_type": "markdown",
   "metadata": {
    "collapsed": false,
    "pycharm": {
     "name": "#%% md\n"
    }
   },
   "source": [
    "В признаках lat и lng есть пропуски в данных. Т.к. это географические координаты, нет смысла подбирать какие то осознанные замены для этих данных, по этому заполним пропуски нулями."
   ]
  },
  {
   "cell_type": "code",
   "execution_count": 428,
   "metadata": {},
   "outputs": [
    {
     "name": "stderr",
     "output_type": "stream",
     "text": [
      "C:\\Users\\molde\\AppData\\Local\\Temp\\ipykernel_12592\\1713032929.py:1: FutureWarning: A value is trying to be set on a copy of a DataFrame or Series through chained assignment using an inplace method.\n",
      "The behavior will change in pandas 3.0. This inplace method will never work because the intermediate object on which we are setting values always behaves as a copy.\n",
      "\n",
      "For example, when doing 'df[col].method(value, inplace=True)', try using 'df.method({col: value}, inplace=True)' or df[col] = df[col].method(value) instead, to perform the operation inplace on the original object.\n",
      "\n",
      "\n",
      "  hotels['lat'].fillna(0, inplace=True)\n",
      "C:\\Users\\molde\\AppData\\Local\\Temp\\ipykernel_12592\\1713032929.py:2: FutureWarning: A value is trying to be set on a copy of a DataFrame or Series through chained assignment using an inplace method.\n",
      "The behavior will change in pandas 3.0. This inplace method will never work because the intermediate object on which we are setting values always behaves as a copy.\n",
      "\n",
      "For example, when doing 'df[col].method(value, inplace=True)', try using 'df.method({col: value}, inplace=True)' or df[col] = df[col].method(value) instead, to perform the operation inplace on the original object.\n",
      "\n",
      "\n",
      "  hotels['lng'].fillna(0, inplace=True)\n"
     ]
    }
   ],
   "source": [
    "hotels['lat'].fillna(0, inplace=True)\n",
    "hotels['lng'].fillna(0, inplace=True)"
   ]
  },
  {
   "cell_type": "code",
   "execution_count": 429,
   "metadata": {
    "collapsed": false,
    "pycharm": {
     "name": "#%%\n"
    }
   },
   "outputs": [],
   "source": [
    "###hotels['lat'] = hotels['lat'].fillna(0, inplace=True)\n",
    "###hotels['lng'] = hotels['lng'].fillna(0, inplace=True)"
   ]
  },
  {
   "cell_type": "code",
   "execution_count": 430,
   "metadata": {},
   "outputs": [
    {
     "name": "stdout",
     "output_type": "stream",
     "text": [
      "<class 'pandas.core.frame.DataFrame'>\n",
      "RangeIndex: 515431 entries, 0 to 515430\n",
      "Data columns (total 18 columns):\n",
      " #   Column                                      Non-Null Count   Dtype  \n",
      "---  ------                                      --------------   -----  \n",
      " 0   hotel_address                               515431 non-null  object \n",
      " 1   additional_number_of_scoring                515431 non-null  int64  \n",
      " 2   review_date                                 515431 non-null  object \n",
      " 3   average_score                               515431 non-null  float64\n",
      " 4   hotel_name                                  515431 non-null  object \n",
      " 5   reviewer_nationality                        515431 non-null  object \n",
      " 6   negative_review                             515431 non-null  object \n",
      " 7   review_total_negative_word_counts           515431 non-null  int64  \n",
      " 8   total_number_of_reviews                     515431 non-null  int64  \n",
      " 9   positive_review                             515431 non-null  object \n",
      " 10  review_total_positive_word_counts           515431 non-null  int64  \n",
      " 11  total_number_of_reviews_reviewer_has_given  515431 non-null  int64  \n",
      " 12  reviewer_score                              515431 non-null  float64\n",
      " 13  tags                                        515431 non-null  object \n",
      " 14  days_since_review                           515431 non-null  object \n",
      " 15  lat                                         515431 non-null  float64\n",
      " 16  lng                                         515431 non-null  float64\n",
      " 17  sample                                      515431 non-null  int64  \n",
      "dtypes: float64(4), int64(6), object(8)\n",
      "memory usage: 70.8+ MB\n"
     ]
    }
   ],
   "source": [
    "hotels.info()"
   ]
  },
  {
   "cell_type": "code",
   "execution_count": 431,
   "metadata": {},
   "outputs": [],
   "source": [
    "###hotels_nulls = hotels.isnull().sum()\n",
    "###display(hotels_nulls[hotels_nulls > 0])"
   ]
  },
  {
   "cell_type": "markdown",
   "metadata": {
    "collapsed": false,
    "pycharm": {
     "name": "#%% md\n"
    }
   },
   "source": [
    "### 2.1 Название отеля"
   ]
  },
  {
   "cell_type": "markdown",
   "metadata": {
    "collapsed": false,
    "pycharm": {
     "name": "#%% md\n"
    }
   },
   "source": [
    "Найдем количество уникальных отелей по названиям."
   ]
  },
  {
   "cell_type": "code",
   "execution_count": 432,
   "metadata": {
    "collapsed": false,
    "pycharm": {
     "name": "#%%\n"
    }
   },
   "outputs": [
    {
     "data": {
      "text/plain": [
       "1492"
      ]
     },
     "execution_count": 432,
     "metadata": {},
     "output_type": "execute_result"
    }
   ],
   "source": [
    "hotels['hotel_name'].nunique()"
   ]
  },
  {
   "cell_type": "markdown",
   "metadata": {
    "collapsed": false,
    "pycharm": {
     "name": "#%% md\n"
    }
   },
   "source": [
    "Выделим отели под одинаковым названием, но с различным адресом и добавим, для уникальности, к названию часть адреса."
   ]
  },
  {
   "cell_type": "code",
   "execution_count": 433,
   "metadata": {
    "collapsed": false,
    "pycharm": {
     "name": "#%%\n"
    }
   },
   "outputs": [
    {
     "data": {
      "text/html": [
       "<div>\n",
       "<style scoped>\n",
       "    .dataframe tbody tr th:only-of-type {\n",
       "        vertical-align: middle;\n",
       "    }\n",
       "\n",
       "    .dataframe tbody tr th {\n",
       "        vertical-align: top;\n",
       "    }\n",
       "\n",
       "    .dataframe thead th {\n",
       "        text-align: right;\n",
       "    }\n",
       "</style>\n",
       "<table border=\"1\" class=\"dataframe\">\n",
       "  <thead>\n",
       "    <tr style=\"text-align: right;\">\n",
       "      <th></th>\n",
       "      <th>hotel_address</th>\n",
       "    </tr>\n",
       "    <tr>\n",
       "      <th>hotel_name</th>\n",
       "      <th></th>\n",
       "    </tr>\n",
       "  </thead>\n",
       "  <tbody>\n",
       "    <tr>\n",
       "      <th>Hotel Regina</th>\n",
       "      <td>3</td>\n",
       "    </tr>\n",
       "  </tbody>\n",
       "</table>\n",
       "</div>"
      ],
      "text/plain": [
       "              hotel_address\n",
       "hotel_name                 \n",
       "Hotel Regina              3"
      ]
     },
     "metadata": {},
     "output_type": "display_data"
    },
    {
     "data": {
      "text/plain": [
       "1494"
      ]
     },
     "metadata": {},
     "output_type": "display_data"
    }
   ],
   "source": [
    "address_list = hotels.pivot_table(\n",
    "    values = 'hotel_address',\n",
    "    index = 'hotel_name',\n",
    "    aggfunc = 'nunique'\n",
    ")\n",
    "dupl_hotel = address_list[address_list['hotel_address'] > 1]\n",
    "display(dupl_hotel)\n",
    "mask_1 = dupl_hotel[dupl_hotel['hotel_address'] > 1].index.to_list() # через временную переменную быстрее обрабатывается\n",
    "hotels['hotel_name'] = hotels.apply(lambda x: (x['hotel_name'] + ' in ' + x['hotel_address'].split()[-1])\n",
    "    if (x['hotel_name'] in mask_1) else x['hotel_name'], axis=1)\n",
    "display(hotels['hotel_name'].nunique())"
   ]
  },
  {
   "cell_type": "markdown",
   "metadata": {
    "collapsed": false,
    "pycharm": {
     "name": "#%% md\n"
    }
   },
   "source": [
    "Окончательно получили 1494 уникальных отеля."
   ]
  },
  {
   "cell_type": "markdown",
   "metadata": {
    "collapsed": false,
    "pycharm": {
     "name": "#%% md\n"
    }
   },
   "source": [
    "### 2.2 Адрес отеля"
   ]
  },
  {
   "cell_type": "markdown",
   "metadata": {
    "collapsed": false,
    "pycharm": {
     "name": "#%% md\n"
    }
   },
   "source": [
    "Из признака hotel_address, извлечём: страну и город."
   ]
  },
  {
   "cell_type": "code",
   "execution_count": 434,
   "metadata": {
    "collapsed": false,
    "pycharm": {
     "name": "#%%\n"
    }
   },
   "outputs": [
    {
     "data": {
      "text/plain": [
       "0    Stratton Street Mayfair Westminster Borough London W1J 8LT United Kingdom\n",
       "1                130 134 Southampton Row Camden London WC1B 5AF United Kingdom\n",
       "2                             151 bis Rue de Rennes 6th arr 75006 Paris France\n",
       "3                           216 Avenue Jean Jaures 19th arr 75019 Paris France\n",
       "4                                    Molenwerf 1 1014 AG Amsterdam Netherlands\n",
       "5                                           Via Mecenate 121 20138 Milan Italy\n",
       "6        97 Cromwell Road Kensington and Chelsea London SW7 4DN United Kingdom\n",
       "7                            Josefsgasse 4 6 08 Josefstadt 1080 Vienna Austria\n",
       "8        190 Queen s Gate Kensington and Chelsea London SW7 5EX United Kingdom\n",
       "9     Holland Park Avenue Kensington and Chelsea London W11 4UL United Kingdom\n",
       "Name: hotel_address, dtype: object"
      ]
     },
     "execution_count": 434,
     "metadata": {},
     "output_type": "execute_result"
    }
   ],
   "source": [
    "hotels['hotel_address'].head(10)"
   ]
  },
  {
   "cell_type": "code",
   "execution_count": 435,
   "metadata": {
    "collapsed": false,
    "pycharm": {
     "name": "#%%\n"
    }
   },
   "outputs": [
    {
     "data": {
      "text/plain": [
       "['United Kingdom', 'France', 'Netherlands', 'Italy', 'Austria', 'Spain']"
      ]
     },
     "metadata": {},
     "output_type": "display_data"
    }
   ],
   "source": [
    "hotels['hotel_country'] = hotels['hotel_address'].apply(lambda x: x.split()[-1])\n",
    "hotels['hotel_country'] = hotels['hotel_country'].apply(lambda x:'United Kingdom' if x == 'Kingdom' else x)\n",
    "country_list = list(hotels['hotel_country'].unique())\n",
    "display(country_list)"
   ]
  },
  {
   "cell_type": "markdown",
   "metadata": {
    "collapsed": false,
    "pycharm": {
     "name": "#%% md\n"
    }
   },
   "source": [
    "Выделено 6 уникальных стран."
   ]
  },
  {
   "cell_type": "code",
   "execution_count": 436,
   "metadata": {
    "collapsed": false,
    "pycharm": {
     "name": "#%%\n"
    }
   },
   "outputs": [
    {
     "data": {
      "text/plain": [
       "['London', 'Paris', 'Amsterdam', 'Milan', 'Vienna', 'Barcelona']"
      ]
     },
     "metadata": {},
     "output_type": "display_data"
    }
   ],
   "source": [
    "hotels['hotel_city'] = hotels['hotel_address'].apply(lambda x: x.split()[-2])\n",
    "hotels['hotel_city'] = hotels['hotel_city'].apply(lambda x: 'London' if x == 'United' else x)\n",
    "city_list = list(hotels['hotel_city'].unique())\n",
    "display(city_list)"
   ]
  },
  {
   "cell_type": "markdown",
   "metadata": {
    "collapsed": false,
    "pycharm": {
     "name": "#%% md\n"
    }
   },
   "source": [
    "Так же получено 6 унимальных городов.\n",
    "В каждой стране представлен только один город, по этому кодировать признак города не имеет смысла, кодируем страну и создаем новый признак."
   ]
  },
  {
   "cell_type": "code",
   "execution_count": 437,
   "metadata": {
    "collapsed": false,
    "pycharm": {
     "name": "#%%\n"
    }
   },
   "outputs": [
    {
     "data": {
      "text/html": [
       "<div>\n",
       "<style scoped>\n",
       "    .dataframe tbody tr th:only-of-type {\n",
       "        vertical-align: middle;\n",
       "    }\n",
       "\n",
       "    .dataframe tbody tr th {\n",
       "        vertical-align: top;\n",
       "    }\n",
       "\n",
       "    .dataframe thead th {\n",
       "        text-align: right;\n",
       "    }\n",
       "</style>\n",
       "<table border=\"1\" class=\"dataframe\">\n",
       "  <thead>\n",
       "    <tr style=\"text-align: right;\">\n",
       "      <th></th>\n",
       "      <th>hotel_address</th>\n",
       "      <th>additional_number_of_scoring</th>\n",
       "      <th>review_date</th>\n",
       "      <th>average_score</th>\n",
       "      <th>hotel_name</th>\n",
       "      <th>reviewer_nationality</th>\n",
       "      <th>negative_review</th>\n",
       "      <th>review_total_negative_word_counts</th>\n",
       "      <th>total_number_of_reviews</th>\n",
       "      <th>positive_review</th>\n",
       "      <th>...</th>\n",
       "      <th>total_number_of_reviews_reviewer_has_given</th>\n",
       "      <th>reviewer_score</th>\n",
       "      <th>tags</th>\n",
       "      <th>days_since_review</th>\n",
       "      <th>lat</th>\n",
       "      <th>lng</th>\n",
       "      <th>sample</th>\n",
       "      <th>hotel_country</th>\n",
       "      <th>hotel_city</th>\n",
       "      <th>hotel_country_code</th>\n",
       "    </tr>\n",
       "  </thead>\n",
       "  <tbody>\n",
       "    <tr>\n",
       "      <th>0</th>\n",
       "      <td>Stratton Street Mayfair Westminster Borough London W1J 8LT United Kingdom</td>\n",
       "      <td>581</td>\n",
       "      <td>2/19/2016</td>\n",
       "      <td>8.400</td>\n",
       "      <td>The May Fair Hotel</td>\n",
       "      <td>United Kingdom</td>\n",
       "      <td>Leaving</td>\n",
       "      <td>3</td>\n",
       "      <td>1994</td>\n",
       "      <td>Staff were amazing</td>\n",
       "      <td>...</td>\n",
       "      <td>7</td>\n",
       "      <td>10.000</td>\n",
       "      <td>[' Leisure trip ', ' Couple ', ' Studio Suite ', ' Stayed 2 nights ', ' Submitted from a mobile device ']</td>\n",
       "      <td>531 day</td>\n",
       "      <td>51.508</td>\n",
       "      <td>-0.144</td>\n",
       "      <td>1</td>\n",
       "      <td>United Kingdom</td>\n",
       "      <td>London</td>\n",
       "      <td>5</td>\n",
       "    </tr>\n",
       "    <tr>\n",
       "      <th>1</th>\n",
       "      <td>130 134 Southampton Row Camden London WC1B 5AF United Kingdom</td>\n",
       "      <td>299</td>\n",
       "      <td>1/12/2017</td>\n",
       "      <td>8.300</td>\n",
       "      <td>Mercure London Bloomsbury Hotel</td>\n",
       "      <td>United Kingdom</td>\n",
       "      <td>poor breakfast</td>\n",
       "      <td>3</td>\n",
       "      <td>1361</td>\n",
       "      <td>location</td>\n",
       "      <td>...</td>\n",
       "      <td>14</td>\n",
       "      <td>6.300</td>\n",
       "      <td>[' Business trip ', ' Couple ', ' Standard Double Room ', ' Stayed 1 night ']</td>\n",
       "      <td>203 day</td>\n",
       "      <td>51.521</td>\n",
       "      <td>-0.123</td>\n",
       "      <td>1</td>\n",
       "      <td>United Kingdom</td>\n",
       "      <td>London</td>\n",
       "      <td>5</td>\n",
       "    </tr>\n",
       "    <tr>\n",
       "      <th>2</th>\n",
       "      <td>151 bis Rue de Rennes 6th arr 75006 Paris France</td>\n",
       "      <td>32</td>\n",
       "      <td>10/18/2016</td>\n",
       "      <td>8.900</td>\n",
       "      <td>Legend Saint Germain by Elegancia</td>\n",
       "      <td>China</td>\n",
       "      <td>No kettle in room</td>\n",
       "      <td>6</td>\n",
       "      <td>406</td>\n",
       "      <td>No Positive</td>\n",
       "      <td>...</td>\n",
       "      <td>14</td>\n",
       "      <td>7.500</td>\n",
       "      <td>[' Leisure trip ', ' Solo traveler ', ' Modern Double Room Echo ', ' Stayed 3 nights ', ' Submitted from a mobile device ']</td>\n",
       "      <td>289 day</td>\n",
       "      <td>48.845</td>\n",
       "      <td>2.326</td>\n",
       "      <td>1</td>\n",
       "      <td>France</td>\n",
       "      <td>Paris</td>\n",
       "      <td>1</td>\n",
       "    </tr>\n",
       "  </tbody>\n",
       "</table>\n",
       "<p>3 rows × 21 columns</p>\n",
       "</div>"
      ],
      "text/plain": [
       "                                                               hotel_address  \\\n",
       "0  Stratton Street Mayfair Westminster Borough London W1J 8LT United Kingdom   \n",
       "1              130 134 Southampton Row Camden London WC1B 5AF United Kingdom   \n",
       "2                           151 bis Rue de Rennes 6th arr 75006 Paris France   \n",
       "\n",
       "   additional_number_of_scoring review_date  average_score  \\\n",
       "0                           581   2/19/2016          8.400   \n",
       "1                           299   1/12/2017          8.300   \n",
       "2                            32  10/18/2016          8.900   \n",
       "\n",
       "                          hotel_name reviewer_nationality  \\\n",
       "0                 The May Fair Hotel      United Kingdom    \n",
       "1    Mercure London Bloomsbury Hotel      United Kingdom    \n",
       "2  Legend Saint Germain by Elegancia               China    \n",
       "\n",
       "       negative_review  review_total_negative_word_counts  \\\n",
       "0             Leaving                                   3   \n",
       "1       poor breakfast                                  3   \n",
       "2   No kettle in room                                   6   \n",
       "\n",
       "   total_number_of_reviews      positive_review  ...  \\\n",
       "0                     1994   Staff were amazing  ...   \n",
       "1                     1361             location  ...   \n",
       "2                      406          No Positive  ...   \n",
       "\n",
       "   total_number_of_reviews_reviewer_has_given  reviewer_score  \\\n",
       "0                                           7          10.000   \n",
       "1                                          14           6.300   \n",
       "2                                          14           7.500   \n",
       "\n",
       "                                                                                                                          tags  \\\n",
       "0                    [' Leisure trip ', ' Couple ', ' Studio Suite ', ' Stayed 2 nights ', ' Submitted from a mobile device ']   \n",
       "1                                                [' Business trip ', ' Couple ', ' Standard Double Room ', ' Stayed 1 night ']   \n",
       "2  [' Leisure trip ', ' Solo traveler ', ' Modern Double Room Echo ', ' Stayed 3 nights ', ' Submitted from a mobile device ']   \n",
       "\n",
       "  days_since_review    lat    lng  sample   hotel_country hotel_city  \\\n",
       "0           531 day 51.508 -0.144       1  United Kingdom     London   \n",
       "1           203 day 51.521 -0.123       1  United Kingdom     London   \n",
       "2           289 day 48.845  2.326       1          France      Paris   \n",
       "\n",
       "  hotel_country_code  \n",
       "0                  5  \n",
       "1                  5  \n",
       "2                  1  \n",
       "\n",
       "[3 rows x 21 columns]"
      ]
     },
     "execution_count": 437,
     "metadata": {},
     "output_type": "execute_result"
    }
   ],
   "source": [
    "hotels['hotel_country_code'] = hotels['hotel_country'].astype('category').cat.codes\n",
    "hotels.head(3)"
   ]
  },
  {
   "cell_type": "code",
   "execution_count": 438,
   "metadata": {},
   "outputs": [],
   "source": [
    "#hotels['hotel_country_code'].unique()"
   ]
  },
  {
   "cell_type": "markdown",
   "metadata": {
    "collapsed": false,
    "pycharm": {
     "name": "#%% md\n"
    }
   },
   "source": [
    "### 2.3 Географические координаты."
   ]
  },
  {
   "cell_type": "markdown",
   "metadata": {
    "collapsed": false,
    "pycharm": {
     "name": "#%% md\n"
    }
   },
   "source": [
    "Несмотря на то, что данные представлены в числовом виде правильнее их рассматривать как категориальные. Можно постараться сделать расчеты до центра города, или до ближайших станций метро или же до каких то достопримечательностей, но по моему проще избавиться от этих признаков. Если результат нас не удовлетворит, то вернемся к этому моменту."
   ]
  },
  {
   "cell_type": "code",
   "execution_count": 439,
   "metadata": {},
   "outputs": [
    {
     "name": "stdout",
     "output_type": "stream",
     "text": [
      "<class 'pandas.core.frame.DataFrame'>\n",
      "RangeIndex: 515431 entries, 0 to 515430\n",
      "Data columns (total 21 columns):\n",
      " #   Column                                      Non-Null Count   Dtype  \n",
      "---  ------                                      --------------   -----  \n",
      " 0   hotel_address                               515431 non-null  object \n",
      " 1   additional_number_of_scoring                515431 non-null  int64  \n",
      " 2   review_date                                 515431 non-null  object \n",
      " 3   average_score                               515431 non-null  float64\n",
      " 4   hotel_name                                  515431 non-null  object \n",
      " 5   reviewer_nationality                        515431 non-null  object \n",
      " 6   negative_review                             515431 non-null  object \n",
      " 7   review_total_negative_word_counts           515431 non-null  int64  \n",
      " 8   total_number_of_reviews                     515431 non-null  int64  \n",
      " 9   positive_review                             515431 non-null  object \n",
      " 10  review_total_positive_word_counts           515431 non-null  int64  \n",
      " 11  total_number_of_reviews_reviewer_has_given  515431 non-null  int64  \n",
      " 12  reviewer_score                              515431 non-null  float64\n",
      " 13  tags                                        515431 non-null  object \n",
      " 14  days_since_review                           515431 non-null  object \n",
      " 15  lat                                         515431 non-null  float64\n",
      " 16  lng                                         515431 non-null  float64\n",
      " 17  sample                                      515431 non-null  int64  \n",
      " 18  hotel_country                               515431 non-null  object \n",
      " 19  hotel_city                                  515431 non-null  object \n",
      " 20  hotel_country_code                          515431 non-null  int8   \n",
      "dtypes: float64(4), int64(6), int8(1), object(10)\n",
      "memory usage: 79.1+ MB\n"
     ]
    }
   ],
   "source": [
    "hotels.info()"
   ]
  },
  {
   "cell_type": "code",
   "execution_count": 440,
   "metadata": {
    "collapsed": false,
    "pycharm": {
     "name": "#%%\n"
    }
   },
   "outputs": [
    {
     "data": {
      "text/html": [
       "<div>\n",
       "<style scoped>\n",
       "    .dataframe tbody tr th:only-of-type {\n",
       "        vertical-align: middle;\n",
       "    }\n",
       "\n",
       "    .dataframe tbody tr th {\n",
       "        vertical-align: top;\n",
       "    }\n",
       "\n",
       "    .dataframe thead th {\n",
       "        text-align: right;\n",
       "    }\n",
       "</style>\n",
       "<table border=\"1\" class=\"dataframe\">\n",
       "  <thead>\n",
       "    <tr style=\"text-align: right;\">\n",
       "      <th></th>\n",
       "      <th>hotel_address</th>\n",
       "      <th>additional_number_of_scoring</th>\n",
       "      <th>review_date</th>\n",
       "      <th>average_score</th>\n",
       "      <th>hotel_name</th>\n",
       "      <th>reviewer_nationality</th>\n",
       "      <th>negative_review</th>\n",
       "      <th>review_total_negative_word_counts</th>\n",
       "      <th>total_number_of_reviews</th>\n",
       "      <th>positive_review</th>\n",
       "      <th>review_total_positive_word_counts</th>\n",
       "      <th>total_number_of_reviews_reviewer_has_given</th>\n",
       "      <th>reviewer_score</th>\n",
       "      <th>tags</th>\n",
       "      <th>days_since_review</th>\n",
       "      <th>sample</th>\n",
       "      <th>hotel_country</th>\n",
       "      <th>hotel_city</th>\n",
       "      <th>hotel_country_code</th>\n",
       "    </tr>\n",
       "  </thead>\n",
       "  <tbody>\n",
       "    <tr>\n",
       "      <th>0</th>\n",
       "      <td>Stratton Street Mayfair Westminster Borough London W1J 8LT United Kingdom</td>\n",
       "      <td>581</td>\n",
       "      <td>2/19/2016</td>\n",
       "      <td>8.400</td>\n",
       "      <td>The May Fair Hotel</td>\n",
       "      <td>United Kingdom</td>\n",
       "      <td>Leaving</td>\n",
       "      <td>3</td>\n",
       "      <td>1994</td>\n",
       "      <td>Staff were amazing</td>\n",
       "      <td>4</td>\n",
       "      <td>7</td>\n",
       "      <td>10.000</td>\n",
       "      <td>[' Leisure trip ', ' Couple ', ' Studio Suite ', ' Stayed 2 nights ', ' Submitted from a mobile device ']</td>\n",
       "      <td>531 day</td>\n",
       "      <td>1</td>\n",
       "      <td>United Kingdom</td>\n",
       "      <td>London</td>\n",
       "      <td>5</td>\n",
       "    </tr>\n",
       "    <tr>\n",
       "      <th>1</th>\n",
       "      <td>130 134 Southampton Row Camden London WC1B 5AF United Kingdom</td>\n",
       "      <td>299</td>\n",
       "      <td>1/12/2017</td>\n",
       "      <td>8.300</td>\n",
       "      <td>Mercure London Bloomsbury Hotel</td>\n",
       "      <td>United Kingdom</td>\n",
       "      <td>poor breakfast</td>\n",
       "      <td>3</td>\n",
       "      <td>1361</td>\n",
       "      <td>location</td>\n",
       "      <td>2</td>\n",
       "      <td>14</td>\n",
       "      <td>6.300</td>\n",
       "      <td>[' Business trip ', ' Couple ', ' Standard Double Room ', ' Stayed 1 night ']</td>\n",
       "      <td>203 day</td>\n",
       "      <td>1</td>\n",
       "      <td>United Kingdom</td>\n",
       "      <td>London</td>\n",
       "      <td>5</td>\n",
       "    </tr>\n",
       "    <tr>\n",
       "      <th>2</th>\n",
       "      <td>151 bis Rue de Rennes 6th arr 75006 Paris France</td>\n",
       "      <td>32</td>\n",
       "      <td>10/18/2016</td>\n",
       "      <td>8.900</td>\n",
       "      <td>Legend Saint Germain by Elegancia</td>\n",
       "      <td>China</td>\n",
       "      <td>No kettle in room</td>\n",
       "      <td>6</td>\n",
       "      <td>406</td>\n",
       "      <td>No Positive</td>\n",
       "      <td>0</td>\n",
       "      <td>14</td>\n",
       "      <td>7.500</td>\n",
       "      <td>[' Leisure trip ', ' Solo traveler ', ' Modern Double Room Echo ', ' Stayed 3 nights ', ' Submitted from a mobile device ']</td>\n",
       "      <td>289 day</td>\n",
       "      <td>1</td>\n",
       "      <td>France</td>\n",
       "      <td>Paris</td>\n",
       "      <td>1</td>\n",
       "    </tr>\n",
       "    <tr>\n",
       "      <th>3</th>\n",
       "      <td>216 Avenue Jean Jaures 19th arr 75019 Paris France</td>\n",
       "      <td>34</td>\n",
       "      <td>9/22/2015</td>\n",
       "      <td>7.500</td>\n",
       "      <td>Mercure Paris 19 Philharmonie La Villette</td>\n",
       "      <td>United Kingdom</td>\n",
       "      <td>No Negative</td>\n",
       "      <td>0</td>\n",
       "      <td>607</td>\n",
       "      <td>Friendly staff quiet comfortable room spotlessly clean excellent location</td>\n",
       "      <td>11</td>\n",
       "      <td>8</td>\n",
       "      <td>10.000</td>\n",
       "      <td>[' Leisure trip ', ' Solo traveler ', ' Standard Room with 1 Double Bed ', ' Stayed 1 night ']</td>\n",
       "      <td>681 day</td>\n",
       "      <td>1</td>\n",
       "      <td>France</td>\n",
       "      <td>Paris</td>\n",
       "      <td>1</td>\n",
       "    </tr>\n",
       "    <tr>\n",
       "      <th>4</th>\n",
       "      <td>Molenwerf 1 1014 AG Amsterdam Netherlands</td>\n",
       "      <td>914</td>\n",
       "      <td>3/5/2016</td>\n",
       "      <td>8.500</td>\n",
       "      <td>Golden Tulip Amsterdam West</td>\n",
       "      <td>Poland</td>\n",
       "      <td>Torn sheets</td>\n",
       "      <td>4</td>\n",
       "      <td>7586</td>\n",
       "      <td>The staff was very friendly and helpful Breakfasts were just extraordinary Room was clean quiet and very spacious</td>\n",
       "      <td>20</td>\n",
       "      <td>10</td>\n",
       "      <td>9.600</td>\n",
       "      <td>[' Business trip ', ' Couple ', ' Standard Double or Twin Room ', ' Stayed 6 nights ']</td>\n",
       "      <td>516 day</td>\n",
       "      <td>1</td>\n",
       "      <td>Netherlands</td>\n",
       "      <td>Amsterdam</td>\n",
       "      <td>3</td>\n",
       "    </tr>\n",
       "  </tbody>\n",
       "</table>\n",
       "</div>"
      ],
      "text/plain": [
       "                                                               hotel_address  \\\n",
       "0  Stratton Street Mayfair Westminster Borough London W1J 8LT United Kingdom   \n",
       "1              130 134 Southampton Row Camden London WC1B 5AF United Kingdom   \n",
       "2                           151 bis Rue de Rennes 6th arr 75006 Paris France   \n",
       "3                         216 Avenue Jean Jaures 19th arr 75019 Paris France   \n",
       "4                                  Molenwerf 1 1014 AG Amsterdam Netherlands   \n",
       "\n",
       "   additional_number_of_scoring review_date  average_score  \\\n",
       "0                           581   2/19/2016          8.400   \n",
       "1                           299   1/12/2017          8.300   \n",
       "2                            32  10/18/2016          8.900   \n",
       "3                            34   9/22/2015          7.500   \n",
       "4                           914    3/5/2016          8.500   \n",
       "\n",
       "                                  hotel_name reviewer_nationality  \\\n",
       "0                         The May Fair Hotel      United Kingdom    \n",
       "1            Mercure London Bloomsbury Hotel      United Kingdom    \n",
       "2          Legend Saint Germain by Elegancia               China    \n",
       "3  Mercure Paris 19 Philharmonie La Villette      United Kingdom    \n",
       "4                Golden Tulip Amsterdam West              Poland    \n",
       "\n",
       "       negative_review  review_total_negative_word_counts  \\\n",
       "0             Leaving                                   3   \n",
       "1       poor breakfast                                  3   \n",
       "2   No kettle in room                                   6   \n",
       "3          No Negative                                  0   \n",
       "4         Torn sheets                                   4   \n",
       "\n",
       "   total_number_of_reviews  \\\n",
       "0                     1994   \n",
       "1                     1361   \n",
       "2                      406   \n",
       "3                      607   \n",
       "4                     7586   \n",
       "\n",
       "                                                                                                       positive_review  \\\n",
       "0                                                                                                   Staff were amazing   \n",
       "1                                                                                                             location   \n",
       "2                                                                                                          No Positive   \n",
       "3                                           Friendly staff quiet comfortable room spotlessly clean excellent location    \n",
       "4   The staff was very friendly and helpful Breakfasts were just extraordinary Room was clean quiet and very spacious    \n",
       "\n",
       "   review_total_positive_word_counts  \\\n",
       "0                                  4   \n",
       "1                                  2   \n",
       "2                                  0   \n",
       "3                                 11   \n",
       "4                                 20   \n",
       "\n",
       "   total_number_of_reviews_reviewer_has_given  reviewer_score  \\\n",
       "0                                           7          10.000   \n",
       "1                                          14           6.300   \n",
       "2                                          14           7.500   \n",
       "3                                           8          10.000   \n",
       "4                                          10           9.600   \n",
       "\n",
       "                                                                                                                          tags  \\\n",
       "0                    [' Leisure trip ', ' Couple ', ' Studio Suite ', ' Stayed 2 nights ', ' Submitted from a mobile device ']   \n",
       "1                                                [' Business trip ', ' Couple ', ' Standard Double Room ', ' Stayed 1 night ']   \n",
       "2  [' Leisure trip ', ' Solo traveler ', ' Modern Double Room Echo ', ' Stayed 3 nights ', ' Submitted from a mobile device ']   \n",
       "3                               [' Leisure trip ', ' Solo traveler ', ' Standard Room with 1 Double Bed ', ' Stayed 1 night ']   \n",
       "4                                       [' Business trip ', ' Couple ', ' Standard Double or Twin Room ', ' Stayed 6 nights ']   \n",
       "\n",
       "  days_since_review  sample   hotel_country hotel_city  hotel_country_code  \n",
       "0           531 day       1  United Kingdom     London                   5  \n",
       "1           203 day       1  United Kingdom     London                   5  \n",
       "2           289 day       1          France      Paris                   1  \n",
       "3           681 day       1          France      Paris                   1  \n",
       "4           516 day       1     Netherlands  Amsterdam                   3  "
      ]
     },
     "execution_count": 440,
     "metadata": {},
     "output_type": "execute_result"
    }
   ],
   "source": [
    "hotels = hotels.drop(['lat', 'lng'], axis=1)\n",
    "hotels.head()"
   ]
  },
  {
   "cell_type": "markdown",
   "metadata": {
    "collapsed": false,
    "pycharm": {
     "name": "#%% md\n"
    }
   },
   "source": [
    "### 2.4 Национальность рецензента."
   ]
  },
  {
   "cell_type": "code",
   "execution_count": 441,
   "metadata": {
    "collapsed": false,
    "pycharm": {
     "name": "#%%\n"
    }
   },
   "outputs": [],
   "source": [
    "hotels['reviewer_nationality'] = hotels['reviewer_nationality'].apply(lambda x: x.strip())"
   ]
  },
  {
   "cell_type": "markdown",
   "metadata": {
    "collapsed": false,
    "pycharm": {
     "name": "#%% md\n"
    }
   },
   "source": [
    "Сделаем признак того, что рецензент является гражданином страны, в котором расположен отель"
   ]
  },
  {
   "cell_type": "code",
   "execution_count": 442,
   "metadata": {
    "collapsed": false,
    "pycharm": {
     "name": "#%%\n"
    }
   },
   "outputs": [],
   "source": [
    "hotels['is_citizen'] = hotels['reviewer_nationality'] == hotels['hotel_country']\n",
    "hotels['is_citizen'] = hotels['is_citizen'].astype('int')"
   ]
  },
  {
   "cell_type": "markdown",
   "metadata": {
    "collapsed": false,
    "pycharm": {
     "name": "#%% md\n"
    }
   },
   "source": [
    "В наборе данных 227 уникальных значений для признака национальности рецензента. Закодируем топ 10, остальных отметим как other."
   ]
  },
  {
   "cell_type": "code",
   "execution_count": 443,
   "metadata": {
    "collapsed": false,
    "pycharm": {
     "name": "#%%\n"
    }
   },
   "outputs": [],
   "source": [
    "top_nations = list(hotels['reviewer_nationality'].value_counts()[:10].index)\n",
    "hotels['reviewer_nationality'] = hotels['reviewer_nationality'].apply(lambda x: x if x in top_nations else 'other')\n",
    "hotels['reviewer_nationality_code'] = hotels['reviewer_nationality'].astype('category').cat.codes"
   ]
  },
  {
   "cell_type": "markdown",
   "metadata": {
    "collapsed": false,
    "pycharm": {
     "name": "#%% md\n"
    }
   },
   "source": [
    "Европейские страны по большей части христиане, выделим возможных рецензентов-мусульман."
   ]
  },
  {
   "cell_type": "code",
   "execution_count": 444,
   "metadata": {
    "collapsed": false,
    "pycharm": {
     "name": "#%%\n"
    }
   },
   "outputs": [],
   "source": [
    "muslim_countries = ['Turkey', 'United Arab Emirates', 'Saudi Arabia', 'Qatar', 'Kuwait', 'Oman']\n",
    "hotels['possible_muslim'] = hotels['reviewer_nationality'].apply(lambda x: 1 if x in muslim_countries else 0)"
   ]
  },
  {
   "cell_type": "code",
   "execution_count": 445,
   "metadata": {
    "collapsed": false,
    "pycharm": {
     "name": "#%%\n"
    }
   },
   "outputs": [
    {
     "data": {
      "text/html": [
       "<div>\n",
       "<style scoped>\n",
       "    .dataframe tbody tr th:only-of-type {\n",
       "        vertical-align: middle;\n",
       "    }\n",
       "\n",
       "    .dataframe tbody tr th {\n",
       "        vertical-align: top;\n",
       "    }\n",
       "\n",
       "    .dataframe thead th {\n",
       "        text-align: right;\n",
       "    }\n",
       "</style>\n",
       "<table border=\"1\" class=\"dataframe\">\n",
       "  <thead>\n",
       "    <tr style=\"text-align: right;\">\n",
       "      <th></th>\n",
       "      <th>hotel_address</th>\n",
       "      <th>additional_number_of_scoring</th>\n",
       "      <th>review_date</th>\n",
       "      <th>average_score</th>\n",
       "      <th>hotel_name</th>\n",
       "      <th>reviewer_nationality</th>\n",
       "      <th>negative_review</th>\n",
       "      <th>review_total_negative_word_counts</th>\n",
       "      <th>total_number_of_reviews</th>\n",
       "      <th>positive_review</th>\n",
       "      <th>...</th>\n",
       "      <th>reviewer_score</th>\n",
       "      <th>tags</th>\n",
       "      <th>days_since_review</th>\n",
       "      <th>sample</th>\n",
       "      <th>hotel_country</th>\n",
       "      <th>hotel_city</th>\n",
       "      <th>hotel_country_code</th>\n",
       "      <th>is_citizen</th>\n",
       "      <th>reviewer_nationality_code</th>\n",
       "      <th>possible_muslim</th>\n",
       "    </tr>\n",
       "  </thead>\n",
       "  <tbody>\n",
       "    <tr>\n",
       "      <th>0</th>\n",
       "      <td>Stratton Street Mayfair Westminster Borough London W1J 8LT United Kingdom</td>\n",
       "      <td>581</td>\n",
       "      <td>2/19/2016</td>\n",
       "      <td>8.400</td>\n",
       "      <td>The May Fair Hotel</td>\n",
       "      <td>United Kingdom</td>\n",
       "      <td>Leaving</td>\n",
       "      <td>3</td>\n",
       "      <td>1994</td>\n",
       "      <td>Staff were amazing</td>\n",
       "      <td>...</td>\n",
       "      <td>10.000</td>\n",
       "      <td>[' Leisure trip ', ' Couple ', ' Studio Suite ', ' Stayed 2 nights ', ' Submitted from a mobile device ']</td>\n",
       "      <td>531 day</td>\n",
       "      <td>1</td>\n",
       "      <td>United Kingdom</td>\n",
       "      <td>London</td>\n",
       "      <td>5</td>\n",
       "      <td>1</td>\n",
       "      <td>8</td>\n",
       "      <td>0</td>\n",
       "    </tr>\n",
       "    <tr>\n",
       "      <th>1</th>\n",
       "      <td>130 134 Southampton Row Camden London WC1B 5AF United Kingdom</td>\n",
       "      <td>299</td>\n",
       "      <td>1/12/2017</td>\n",
       "      <td>8.300</td>\n",
       "      <td>Mercure London Bloomsbury Hotel</td>\n",
       "      <td>United Kingdom</td>\n",
       "      <td>poor breakfast</td>\n",
       "      <td>3</td>\n",
       "      <td>1361</td>\n",
       "      <td>location</td>\n",
       "      <td>...</td>\n",
       "      <td>6.300</td>\n",
       "      <td>[' Business trip ', ' Couple ', ' Standard Double Room ', ' Stayed 1 night ']</td>\n",
       "      <td>203 day</td>\n",
       "      <td>1</td>\n",
       "      <td>United Kingdom</td>\n",
       "      <td>London</td>\n",
       "      <td>5</td>\n",
       "      <td>1</td>\n",
       "      <td>8</td>\n",
       "      <td>0</td>\n",
       "    </tr>\n",
       "    <tr>\n",
       "      <th>2</th>\n",
       "      <td>151 bis Rue de Rennes 6th arr 75006 Paris France</td>\n",
       "      <td>32</td>\n",
       "      <td>10/18/2016</td>\n",
       "      <td>8.900</td>\n",
       "      <td>Legend Saint Germain by Elegancia</td>\n",
       "      <td>other</td>\n",
       "      <td>No kettle in room</td>\n",
       "      <td>6</td>\n",
       "      <td>406</td>\n",
       "      <td>No Positive</td>\n",
       "      <td>...</td>\n",
       "      <td>7.500</td>\n",
       "      <td>[' Leisure trip ', ' Solo traveler ', ' Modern Double Room Echo ', ' Stayed 3 nights ', ' Submitted from a mobile device ']</td>\n",
       "      <td>289 day</td>\n",
       "      <td>1</td>\n",
       "      <td>France</td>\n",
       "      <td>Paris</td>\n",
       "      <td>1</td>\n",
       "      <td>0</td>\n",
       "      <td>10</td>\n",
       "      <td>0</td>\n",
       "    </tr>\n",
       "    <tr>\n",
       "      <th>3</th>\n",
       "      <td>216 Avenue Jean Jaures 19th arr 75019 Paris France</td>\n",
       "      <td>34</td>\n",
       "      <td>9/22/2015</td>\n",
       "      <td>7.500</td>\n",
       "      <td>Mercure Paris 19 Philharmonie La Villette</td>\n",
       "      <td>United Kingdom</td>\n",
       "      <td>No Negative</td>\n",
       "      <td>0</td>\n",
       "      <td>607</td>\n",
       "      <td>Friendly staff quiet comfortable room spotlessly clean excellent location</td>\n",
       "      <td>...</td>\n",
       "      <td>10.000</td>\n",
       "      <td>[' Leisure trip ', ' Solo traveler ', ' Standard Room with 1 Double Bed ', ' Stayed 1 night ']</td>\n",
       "      <td>681 day</td>\n",
       "      <td>1</td>\n",
       "      <td>France</td>\n",
       "      <td>Paris</td>\n",
       "      <td>1</td>\n",
       "      <td>0</td>\n",
       "      <td>8</td>\n",
       "      <td>0</td>\n",
       "    </tr>\n",
       "    <tr>\n",
       "      <th>4</th>\n",
       "      <td>Molenwerf 1 1014 AG Amsterdam Netherlands</td>\n",
       "      <td>914</td>\n",
       "      <td>3/5/2016</td>\n",
       "      <td>8.500</td>\n",
       "      <td>Golden Tulip Amsterdam West</td>\n",
       "      <td>other</td>\n",
       "      <td>Torn sheets</td>\n",
       "      <td>4</td>\n",
       "      <td>7586</td>\n",
       "      <td>The staff was very friendly and helpful Breakfasts were just extraordinary Room was clean quiet and very spacious</td>\n",
       "      <td>...</td>\n",
       "      <td>9.600</td>\n",
       "      <td>[' Business trip ', ' Couple ', ' Standard Double or Twin Room ', ' Stayed 6 nights ']</td>\n",
       "      <td>516 day</td>\n",
       "      <td>1</td>\n",
       "      <td>Netherlands</td>\n",
       "      <td>Amsterdam</td>\n",
       "      <td>3</td>\n",
       "      <td>0</td>\n",
       "      <td>10</td>\n",
       "      <td>0</td>\n",
       "    </tr>\n",
       "  </tbody>\n",
       "</table>\n",
       "<p>5 rows × 22 columns</p>\n",
       "</div>"
      ],
      "text/plain": [
       "                                                               hotel_address  \\\n",
       "0  Stratton Street Mayfair Westminster Borough London W1J 8LT United Kingdom   \n",
       "1              130 134 Southampton Row Camden London WC1B 5AF United Kingdom   \n",
       "2                           151 bis Rue de Rennes 6th arr 75006 Paris France   \n",
       "3                         216 Avenue Jean Jaures 19th arr 75019 Paris France   \n",
       "4                                  Molenwerf 1 1014 AG Amsterdam Netherlands   \n",
       "\n",
       "   additional_number_of_scoring review_date  average_score  \\\n",
       "0                           581   2/19/2016          8.400   \n",
       "1                           299   1/12/2017          8.300   \n",
       "2                            32  10/18/2016          8.900   \n",
       "3                            34   9/22/2015          7.500   \n",
       "4                           914    3/5/2016          8.500   \n",
       "\n",
       "                                  hotel_name reviewer_nationality  \\\n",
       "0                         The May Fair Hotel       United Kingdom   \n",
       "1            Mercure London Bloomsbury Hotel       United Kingdom   \n",
       "2          Legend Saint Germain by Elegancia                other   \n",
       "3  Mercure Paris 19 Philharmonie La Villette       United Kingdom   \n",
       "4                Golden Tulip Amsterdam West                other   \n",
       "\n",
       "       negative_review  review_total_negative_word_counts  \\\n",
       "0             Leaving                                   3   \n",
       "1       poor breakfast                                  3   \n",
       "2   No kettle in room                                   6   \n",
       "3          No Negative                                  0   \n",
       "4         Torn sheets                                   4   \n",
       "\n",
       "   total_number_of_reviews  \\\n",
       "0                     1994   \n",
       "1                     1361   \n",
       "2                      406   \n",
       "3                      607   \n",
       "4                     7586   \n",
       "\n",
       "                                                                                                       positive_review  \\\n",
       "0                                                                                                   Staff were amazing   \n",
       "1                                                                                                             location   \n",
       "2                                                                                                          No Positive   \n",
       "3                                           Friendly staff quiet comfortable room spotlessly clean excellent location    \n",
       "4   The staff was very friendly and helpful Breakfasts were just extraordinary Room was clean quiet and very spacious    \n",
       "\n",
       "   ...  reviewer_score  \\\n",
       "0  ...          10.000   \n",
       "1  ...           6.300   \n",
       "2  ...           7.500   \n",
       "3  ...          10.000   \n",
       "4  ...           9.600   \n",
       "\n",
       "                                                                                                                          tags  \\\n",
       "0                    [' Leisure trip ', ' Couple ', ' Studio Suite ', ' Stayed 2 nights ', ' Submitted from a mobile device ']   \n",
       "1                                                [' Business trip ', ' Couple ', ' Standard Double Room ', ' Stayed 1 night ']   \n",
       "2  [' Leisure trip ', ' Solo traveler ', ' Modern Double Room Echo ', ' Stayed 3 nights ', ' Submitted from a mobile device ']   \n",
       "3                               [' Leisure trip ', ' Solo traveler ', ' Standard Room with 1 Double Bed ', ' Stayed 1 night ']   \n",
       "4                                       [' Business trip ', ' Couple ', ' Standard Double or Twin Room ', ' Stayed 6 nights ']   \n",
       "\n",
       "   days_since_review sample   hotel_country  hotel_city hotel_country_code  \\\n",
       "0            531 day      1  United Kingdom      London                  5   \n",
       "1            203 day      1  United Kingdom      London                  5   \n",
       "2            289 day      1          France       Paris                  1   \n",
       "3            681 day      1          France       Paris                  1   \n",
       "4            516 day      1     Netherlands   Amsterdam                  3   \n",
       "\n",
       "  is_citizen  reviewer_nationality_code  possible_muslim  \n",
       "0          1                          8                0  \n",
       "1          1                          8                0  \n",
       "2          0                         10                0  \n",
       "3          0                          8                0  \n",
       "4          0                         10                0  \n",
       "\n",
       "[5 rows x 22 columns]"
      ]
     },
     "execution_count": 445,
     "metadata": {},
     "output_type": "execute_result"
    }
   ],
   "source": [
    "hotels.head()"
   ]
  },
  {
   "cell_type": "markdown",
   "metadata": {
    "collapsed": false,
    "pycharm": {
     "name": "#%% md\n"
    }
   },
   "source": [
    "### 2.5 Тэги"
   ]
  },
  {
   "cell_type": "markdown",
   "metadata": {
    "collapsed": false,
    "pycharm": {
     "name": "#%% md\n"
    }
   },
   "source": [
    "Количество тэгов."
   ]
  },
  {
   "cell_type": "code",
   "execution_count": 446,
   "metadata": {
    "collapsed": false,
    "pycharm": {
     "name": "#%%\n"
    }
   },
   "outputs": [],
   "source": [
    "hotels['tags_count'] = hotels['tags'].apply(lambda x: len(re.findall(\"'[^\\'](.+?)[^\\']'\", x)))"
   ]
  },
  {
   "cell_type": "markdown",
   "metadata": {
    "collapsed": false,
    "pycharm": {
     "name": "#%% md\n"
    }
   },
   "source": [
    "Создадим новые признаки на основании тегов."
   ]
  },
  {
   "cell_type": "code",
   "execution_count": 447,
   "metadata": {
    "collapsed": false,
    "pycharm": {
     "name": "#%%\n"
    }
   },
   "outputs": [],
   "source": [
    "def get_tags(tags_string):\n",
    "    tags_string = tags_string.replace('[', '').replace(']', '')\n",
    "    tags_string = tags_string.replace(\"' \", '').replace(\" '\", '')\n",
    "    tags_list = tags_string.split(',')\n",
    "    tags_list = list(map(lambda x: x.strip(), tags_list))\n",
    "\n",
    "    reviewer_types = {\n",
    "        'Solo traveler': 1,\n",
    "        'Couple': 2,\n",
    "        'Travelers with friends': 3,\n",
    "        'Family with young children': 4,\n",
    "        'Family with older children': 5,\n",
    "        'Group': 6\n",
    "    }\n",
    "\n",
    "    room_types = {\n",
    "            'without Window': 0,\n",
    "            'Guestroom': 1,\n",
    "            'Classic': 2,\n",
    "            'Single': 3,\n",
    "            'Standard': 4,\n",
    "            'Superior': 5,\n",
    "            'Comfort': 6,\n",
    "            'Club': 7,\n",
    "            'Suite': 8,\n",
    "            'Deluxe': 9,\n",
    "            'King': 10,\n",
    "            'Premier': 11\n",
    "            # 'Double'        # 12\n",
    "            # 'Other'         # 13\n",
    "        }\n",
    "\n",
    "\n",
    "    tag_from_mobile = 0\n",
    "    tag_with_pet = 0\n",
    "    tag_leisure_trip = 1\n",
    "    tag_reviewer_type = 0\n",
    "    tag_count_nights = 0\n",
    "    tag_view_room = 0\n",
    "    tag_room_type = -1\n",
    "\n",
    "    for _tag in list(tags_list):\n",
    "        if _tag == 'Submitted from a mobile device':\n",
    "            tag_from_mobile = 1\n",
    "            tags_list.remove(_tag)\n",
    "\n",
    "        if _tag == 'With a pet':\n",
    "            tag_with_pet = 1\n",
    "            tags_list.remove(_tag)\n",
    "\n",
    "        if _tag == 'Business trip':\n",
    "            tag_leisure_trip = 0\n",
    "            tags_list.remove(_tag)\n",
    "\n",
    "        if _tag == 'Leisure trip':\n",
    "            tag_leisure_trip = 1\n",
    "            tags_list.remove(_tag)\n",
    "\n",
    "        if _tag in reviewer_types.keys():\n",
    "            tag_reviewer_type = reviewer_types[_tag]\n",
    "            tags_list.remove(_tag)\n",
    "\n",
    "        if re.fullmatch(r'Stayed\\s\\d+\\snight\\w?', _tag):\n",
    "            tag_count_nights = [float(s) for s in re.findall(r'-?\\d+\\.?\\d*', _tag)][0]\n",
    "            tags_list.remove(_tag)\n",
    "\n",
    "        if len(tags_list) > 0:\n",
    "            if ('View' in tags_list[0]) | ('Panoramic' in tags_list[0]):\n",
    "                tag_view_room = 1\n",
    "\n",
    "            for rt in room_types.keys():\n",
    "                if rt in tags_list[0]:\n",
    "                    tag_room_type = room_types[rt]\n",
    "\n",
    "            if 'Double' in tags_list[0] or 'Twin' in tags_list[0]:\n",
    "                tag_room_type = 12\n",
    "            if tag_room_type == -1:\n",
    "                tag_room_type = 13\n",
    "\n",
    "    return tag_from_mobile, tag_with_pet, tag_leisure_trip, tag_reviewer_type, tag_count_nights, tag_view_room, tag_room_type\n",
    "\n",
    "hotels[['tag_from_mobile',    # отправлено с мобильного\n",
    "        'tag_with_pet',       # путешествие с домашними животными\n",
    "        'tag_leisure_trip',   # путешествие по работе / отдых\n",
    "        'tag_reviewer_type',  # тип путешествия\n",
    "        'tag_count_nights',   # количество ночей\n",
    "        'tag_view_room',      # номер с видом на ...\n",
    "        'tag_room_type'       # тип номера\n",
    "        ]\n",
    "] = pd.DataFrame(hotels['tags'].apply(get_tags).to_list(), index=hotels.index)"
   ]
  },
  {
   "cell_type": "code",
   "execution_count": 448,
   "metadata": {
    "collapsed": false,
    "pycharm": {
     "name": "#%%\n"
    }
   },
   "outputs": [
    {
     "data": {
      "text/html": [
       "<div>\n",
       "<style scoped>\n",
       "    .dataframe tbody tr th:only-of-type {\n",
       "        vertical-align: middle;\n",
       "    }\n",
       "\n",
       "    .dataframe tbody tr th {\n",
       "        vertical-align: top;\n",
       "    }\n",
       "\n",
       "    .dataframe thead th {\n",
       "        text-align: right;\n",
       "    }\n",
       "</style>\n",
       "<table border=\"1\" class=\"dataframe\">\n",
       "  <thead>\n",
       "    <tr style=\"text-align: right;\">\n",
       "      <th></th>\n",
       "      <th>hotel_address</th>\n",
       "      <th>additional_number_of_scoring</th>\n",
       "      <th>review_date</th>\n",
       "      <th>average_score</th>\n",
       "      <th>hotel_name</th>\n",
       "      <th>reviewer_nationality</th>\n",
       "      <th>negative_review</th>\n",
       "      <th>review_total_negative_word_counts</th>\n",
       "      <th>total_number_of_reviews</th>\n",
       "      <th>positive_review</th>\n",
       "      <th>...</th>\n",
       "      <th>reviewer_nationality_code</th>\n",
       "      <th>possible_muslim</th>\n",
       "      <th>tags_count</th>\n",
       "      <th>tag_from_mobile</th>\n",
       "      <th>tag_with_pet</th>\n",
       "      <th>tag_leisure_trip</th>\n",
       "      <th>tag_reviewer_type</th>\n",
       "      <th>tag_count_nights</th>\n",
       "      <th>tag_view_room</th>\n",
       "      <th>tag_room_type</th>\n",
       "    </tr>\n",
       "  </thead>\n",
       "  <tbody>\n",
       "    <tr>\n",
       "      <th>0</th>\n",
       "      <td>Stratton Street Mayfair Westminster Borough London W1J 8LT United Kingdom</td>\n",
       "      <td>581</td>\n",
       "      <td>2/19/2016</td>\n",
       "      <td>8.400</td>\n",
       "      <td>The May Fair Hotel</td>\n",
       "      <td>United Kingdom</td>\n",
       "      <td>Leaving</td>\n",
       "      <td>3</td>\n",
       "      <td>1994</td>\n",
       "      <td>Staff were amazing</td>\n",
       "      <td>...</td>\n",
       "      <td>8</td>\n",
       "      <td>0</td>\n",
       "      <td>5</td>\n",
       "      <td>1</td>\n",
       "      <td>0</td>\n",
       "      <td>1</td>\n",
       "      <td>2</td>\n",
       "      <td>2.000</td>\n",
       "      <td>0</td>\n",
       "      <td>8</td>\n",
       "    </tr>\n",
       "    <tr>\n",
       "      <th>1</th>\n",
       "      <td>130 134 Southampton Row Camden London WC1B 5AF United Kingdom</td>\n",
       "      <td>299</td>\n",
       "      <td>1/12/2017</td>\n",
       "      <td>8.300</td>\n",
       "      <td>Mercure London Bloomsbury Hotel</td>\n",
       "      <td>United Kingdom</td>\n",
       "      <td>poor breakfast</td>\n",
       "      <td>3</td>\n",
       "      <td>1361</td>\n",
       "      <td>location</td>\n",
       "      <td>...</td>\n",
       "      <td>8</td>\n",
       "      <td>0</td>\n",
       "      <td>4</td>\n",
       "      <td>0</td>\n",
       "      <td>0</td>\n",
       "      <td>0</td>\n",
       "      <td>2</td>\n",
       "      <td>1.000</td>\n",
       "      <td>0</td>\n",
       "      <td>12</td>\n",
       "    </tr>\n",
       "    <tr>\n",
       "      <th>2</th>\n",
       "      <td>151 bis Rue de Rennes 6th arr 75006 Paris France</td>\n",
       "      <td>32</td>\n",
       "      <td>10/18/2016</td>\n",
       "      <td>8.900</td>\n",
       "      <td>Legend Saint Germain by Elegancia</td>\n",
       "      <td>other</td>\n",
       "      <td>No kettle in room</td>\n",
       "      <td>6</td>\n",
       "      <td>406</td>\n",
       "      <td>No Positive</td>\n",
       "      <td>...</td>\n",
       "      <td>10</td>\n",
       "      <td>0</td>\n",
       "      <td>5</td>\n",
       "      <td>1</td>\n",
       "      <td>0</td>\n",
       "      <td>1</td>\n",
       "      <td>1</td>\n",
       "      <td>3.000</td>\n",
       "      <td>0</td>\n",
       "      <td>12</td>\n",
       "    </tr>\n",
       "    <tr>\n",
       "      <th>3</th>\n",
       "      <td>216 Avenue Jean Jaures 19th arr 75019 Paris France</td>\n",
       "      <td>34</td>\n",
       "      <td>9/22/2015</td>\n",
       "      <td>7.500</td>\n",
       "      <td>Mercure Paris 19 Philharmonie La Villette</td>\n",
       "      <td>United Kingdom</td>\n",
       "      <td>No Negative</td>\n",
       "      <td>0</td>\n",
       "      <td>607</td>\n",
       "      <td>Friendly staff quiet comfortable room spotlessly clean excellent location</td>\n",
       "      <td>...</td>\n",
       "      <td>8</td>\n",
       "      <td>0</td>\n",
       "      <td>4</td>\n",
       "      <td>0</td>\n",
       "      <td>0</td>\n",
       "      <td>1</td>\n",
       "      <td>1</td>\n",
       "      <td>1.000</td>\n",
       "      <td>0</td>\n",
       "      <td>12</td>\n",
       "    </tr>\n",
       "    <tr>\n",
       "      <th>4</th>\n",
       "      <td>Molenwerf 1 1014 AG Amsterdam Netherlands</td>\n",
       "      <td>914</td>\n",
       "      <td>3/5/2016</td>\n",
       "      <td>8.500</td>\n",
       "      <td>Golden Tulip Amsterdam West</td>\n",
       "      <td>other</td>\n",
       "      <td>Torn sheets</td>\n",
       "      <td>4</td>\n",
       "      <td>7586</td>\n",
       "      <td>The staff was very friendly and helpful Breakfasts were just extraordinary Room was clean quiet and very spacious</td>\n",
       "      <td>...</td>\n",
       "      <td>10</td>\n",
       "      <td>0</td>\n",
       "      <td>4</td>\n",
       "      <td>0</td>\n",
       "      <td>0</td>\n",
       "      <td>0</td>\n",
       "      <td>2</td>\n",
       "      <td>6.000</td>\n",
       "      <td>0</td>\n",
       "      <td>12</td>\n",
       "    </tr>\n",
       "  </tbody>\n",
       "</table>\n",
       "<p>5 rows × 30 columns</p>\n",
       "</div>"
      ],
      "text/plain": [
       "                                                               hotel_address  \\\n",
       "0  Stratton Street Mayfair Westminster Borough London W1J 8LT United Kingdom   \n",
       "1              130 134 Southampton Row Camden London WC1B 5AF United Kingdom   \n",
       "2                           151 bis Rue de Rennes 6th arr 75006 Paris France   \n",
       "3                         216 Avenue Jean Jaures 19th arr 75019 Paris France   \n",
       "4                                  Molenwerf 1 1014 AG Amsterdam Netherlands   \n",
       "\n",
       "   additional_number_of_scoring review_date  average_score  \\\n",
       "0                           581   2/19/2016          8.400   \n",
       "1                           299   1/12/2017          8.300   \n",
       "2                            32  10/18/2016          8.900   \n",
       "3                            34   9/22/2015          7.500   \n",
       "4                           914    3/5/2016          8.500   \n",
       "\n",
       "                                  hotel_name reviewer_nationality  \\\n",
       "0                         The May Fair Hotel       United Kingdom   \n",
       "1            Mercure London Bloomsbury Hotel       United Kingdom   \n",
       "2          Legend Saint Germain by Elegancia                other   \n",
       "3  Mercure Paris 19 Philharmonie La Villette       United Kingdom   \n",
       "4                Golden Tulip Amsterdam West                other   \n",
       "\n",
       "       negative_review  review_total_negative_word_counts  \\\n",
       "0             Leaving                                   3   \n",
       "1       poor breakfast                                  3   \n",
       "2   No kettle in room                                   6   \n",
       "3          No Negative                                  0   \n",
       "4         Torn sheets                                   4   \n",
       "\n",
       "   total_number_of_reviews  \\\n",
       "0                     1994   \n",
       "1                     1361   \n",
       "2                      406   \n",
       "3                      607   \n",
       "4                     7586   \n",
       "\n",
       "                                                                                                       positive_review  \\\n",
       "0                                                                                                   Staff were amazing   \n",
       "1                                                                                                             location   \n",
       "2                                                                                                          No Positive   \n",
       "3                                           Friendly staff quiet comfortable room spotlessly clean excellent location    \n",
       "4   The staff was very friendly and helpful Breakfasts were just extraordinary Room was clean quiet and very spacious    \n",
       "\n",
       "   ...  reviewer_nationality_code  possible_muslim  tags_count  \\\n",
       "0  ...                          8                0           5   \n",
       "1  ...                          8                0           4   \n",
       "2  ...                         10                0           5   \n",
       "3  ...                          8                0           4   \n",
       "4  ...                         10                0           4   \n",
       "\n",
       "  tag_from_mobile tag_with_pet  tag_leisure_trip tag_reviewer_type  \\\n",
       "0               1            0                 1                 2   \n",
       "1               0            0                 0                 2   \n",
       "2               1            0                 1                 1   \n",
       "3               0            0                 1                 1   \n",
       "4               0            0                 0                 2   \n",
       "\n",
       "  tag_count_nights  tag_view_room  tag_room_type  \n",
       "0            2.000              0              8  \n",
       "1            1.000              0             12  \n",
       "2            3.000              0             12  \n",
       "3            1.000              0             12  \n",
       "4            6.000              0             12  \n",
       "\n",
       "[5 rows x 30 columns]"
      ]
     },
     "execution_count": 448,
     "metadata": {},
     "output_type": "execute_result"
    }
   ],
   "source": [
    "hotels.head()"
   ]
  },
  {
   "cell_type": "markdown",
   "metadata": {
    "collapsed": false,
    "pycharm": {
     "name": "#%% md\n"
    }
   },
   "source": [
    "### 2.6 Дата отзыва"
   ]
  },
  {
   "cell_type": "markdown",
   "metadata": {
    "collapsed": false,
    "pycharm": {
     "name": "#%% md\n"
    }
   },
   "source": [
    "Выделим из даты отзыва месяц."
   ]
  },
  {
   "cell_type": "code",
   "execution_count": 449,
   "metadata": {
    "collapsed": false,
    "pycharm": {
     "name": "#%%\n"
    }
   },
   "outputs": [],
   "source": [
    "hotels['review_date'] = pd.to_datetime(hotels['review_date'])\n",
    "hotels['review_month'] = hotels['review_date'].dt.month"
   ]
  },
  {
   "cell_type": "markdown",
   "metadata": {
    "collapsed": false,
    "pycharm": {
     "name": "#%% md\n"
    }
   },
   "source": [
    "Выделим день недели"
   ]
  },
  {
   "cell_type": "code",
   "execution_count": 450,
   "metadata": {
    "collapsed": false,
    "pycharm": {
     "name": "#%%\n"
    }
   },
   "outputs": [],
   "source": [
    "hotels['day_of_week'] = hotels['review_date'].dt.dayofweek"
   ]
  },
  {
   "cell_type": "markdown",
   "metadata": {
    "collapsed": false,
    "pycharm": {
     "name": "#%% md\n"
    }
   },
   "source": [
    "Выделим месяцы \"высокого\" сезона."
   ]
  },
  {
   "cell_type": "code",
   "execution_count": 451,
   "metadata": {
    "collapsed": false,
    "pycharm": {
     "name": "#%%\n"
    }
   },
   "outputs": [
    {
     "data": {
      "text/plain": [
       "review_month\n",
       "8     50632\n",
       "7     49291\n",
       "5     46470\n",
       "10    43803\n",
       "6     42877\n",
       "4     42872\n",
       "9     42369\n",
       "1     42133\n",
       "3     41090\n",
       "12    39591\n",
       "2     38352\n",
       "11    35951\n",
       "Name: count, dtype: int64"
      ]
     },
     "metadata": {},
     "output_type": "display_data"
    }
   ],
   "source": [
    "display(hotels['review_month'].value_counts())"
   ]
  },
  {
   "cell_type": "markdown",
   "metadata": {
    "collapsed": false,
    "pycharm": {
     "name": "#%% md\n"
    }
   },
   "source": [
    "Выделим топ 4, дальше разброс не сильно большой."
   ]
  },
  {
   "cell_type": "code",
   "execution_count": 452,
   "metadata": {
    "collapsed": false,
    "pycharm": {
     "name": "#%%\n"
    }
   },
   "outputs": [],
   "source": [
    "hotels['high_season'] = hotels['review_month'].apply(lambda x: 1 if x in [8,7,5,10] else 0)"
   ]
  },
  {
   "cell_type": "markdown",
   "metadata": {
    "collapsed": false,
    "pycharm": {
     "name": "#%% md\n"
    }
   },
   "source": [
    "Заменим признак days_since_review на числовой."
   ]
  },
  {
   "cell_type": "code",
   "execution_count": 453,
   "metadata": {
    "collapsed": false,
    "pycharm": {
     "name": "#%%\n"
    }
   },
   "outputs": [],
   "source": [
    "hotels['days_since_review'] = hotels['days_since_review'].apply(lambda x: np.float64(re.findall(r'\\d+', x)[0])).convert_dtypes()"
   ]
  },
  {
   "cell_type": "markdown",
   "metadata": {
    "collapsed": false,
    "pycharm": {
     "name": "#%% md\n"
    }
   },
   "source": [
    "Общее количество отзывов"
   ]
  },
  {
   "cell_type": "code",
   "execution_count": 454,
   "metadata": {
    "collapsed": false,
    "pycharm": {
     "name": "#%%\n"
    }
   },
   "outputs": [
    {
     "name": "stderr",
     "output_type": "stream",
     "text": [
      "C:\\Users\\molde\\AppData\\Local\\Temp\\ipykernel_12592\\3971553849.py:1: FutureWarning: The default of observed=False is deprecated and will be changed to True in a future version of pandas. Pass observed=False to retain current behavior or observed=True to adopt the future default and silence this warning.\n",
      "  hotels['total_number_of_reviews_reviewer_has_given'].groupby(pd.cut(hotels['total_number_of_reviews_reviewer_has_given'], np.arange(0, 500, 50))).agg('count')\n"
     ]
    }
   ],
   "source": [
    "hotels['total_number_of_reviews_reviewer_has_given'].groupby(pd.cut(hotels['total_number_of_reviews_reviewer_has_given'], np.arange(0, 500, 50))).agg('count')\n",
    "hotels['total_number_of_reviews_reviewer_has_given'] = hotels['total_number_of_reviews_reviewer_has_given'].apply(lambda x: np.log(x+1))"
   ]
  },
  {
   "cell_type": "code",
   "execution_count": 455,
   "metadata": {
    "collapsed": false,
    "pycharm": {
     "name": "#%%\n"
    }
   },
   "outputs": [
    {
     "data": {
      "text/html": [
       "<div>\n",
       "<style scoped>\n",
       "    .dataframe tbody tr th:only-of-type {\n",
       "        vertical-align: middle;\n",
       "    }\n",
       "\n",
       "    .dataframe tbody tr th {\n",
       "        vertical-align: top;\n",
       "    }\n",
       "\n",
       "    .dataframe thead th {\n",
       "        text-align: right;\n",
       "    }\n",
       "</style>\n",
       "<table border=\"1\" class=\"dataframe\">\n",
       "  <thead>\n",
       "    <tr style=\"text-align: right;\">\n",
       "      <th></th>\n",
       "      <th>hotel_address</th>\n",
       "      <th>additional_number_of_scoring</th>\n",
       "      <th>review_date</th>\n",
       "      <th>average_score</th>\n",
       "      <th>hotel_name</th>\n",
       "      <th>reviewer_nationality</th>\n",
       "      <th>negative_review</th>\n",
       "      <th>review_total_negative_word_counts</th>\n",
       "      <th>total_number_of_reviews</th>\n",
       "      <th>positive_review</th>\n",
       "      <th>...</th>\n",
       "      <th>tag_from_mobile</th>\n",
       "      <th>tag_with_pet</th>\n",
       "      <th>tag_leisure_trip</th>\n",
       "      <th>tag_reviewer_type</th>\n",
       "      <th>tag_count_nights</th>\n",
       "      <th>tag_view_room</th>\n",
       "      <th>tag_room_type</th>\n",
       "      <th>review_month</th>\n",
       "      <th>day_of_week</th>\n",
       "      <th>high_season</th>\n",
       "    </tr>\n",
       "  </thead>\n",
       "  <tbody>\n",
       "    <tr>\n",
       "      <th>0</th>\n",
       "      <td>Stratton Street Mayfair Westminster Borough London W1J 8LT United Kingdom</td>\n",
       "      <td>581</td>\n",
       "      <td>2016-02-19</td>\n",
       "      <td>8.400</td>\n",
       "      <td>The May Fair Hotel</td>\n",
       "      <td>United Kingdom</td>\n",
       "      <td>Leaving</td>\n",
       "      <td>3</td>\n",
       "      <td>1994</td>\n",
       "      <td>Staff were amazing</td>\n",
       "      <td>...</td>\n",
       "      <td>1</td>\n",
       "      <td>0</td>\n",
       "      <td>1</td>\n",
       "      <td>2</td>\n",
       "      <td>2.000</td>\n",
       "      <td>0</td>\n",
       "      <td>8</td>\n",
       "      <td>2</td>\n",
       "      <td>4</td>\n",
       "      <td>0</td>\n",
       "    </tr>\n",
       "    <tr>\n",
       "      <th>1</th>\n",
       "      <td>130 134 Southampton Row Camden London WC1B 5AF United Kingdom</td>\n",
       "      <td>299</td>\n",
       "      <td>2017-01-12</td>\n",
       "      <td>8.300</td>\n",
       "      <td>Mercure London Bloomsbury Hotel</td>\n",
       "      <td>United Kingdom</td>\n",
       "      <td>poor breakfast</td>\n",
       "      <td>3</td>\n",
       "      <td>1361</td>\n",
       "      <td>location</td>\n",
       "      <td>...</td>\n",
       "      <td>0</td>\n",
       "      <td>0</td>\n",
       "      <td>0</td>\n",
       "      <td>2</td>\n",
       "      <td>1.000</td>\n",
       "      <td>0</td>\n",
       "      <td>12</td>\n",
       "      <td>1</td>\n",
       "      <td>3</td>\n",
       "      <td>0</td>\n",
       "    </tr>\n",
       "    <tr>\n",
       "      <th>2</th>\n",
       "      <td>151 bis Rue de Rennes 6th arr 75006 Paris France</td>\n",
       "      <td>32</td>\n",
       "      <td>2016-10-18</td>\n",
       "      <td>8.900</td>\n",
       "      <td>Legend Saint Germain by Elegancia</td>\n",
       "      <td>other</td>\n",
       "      <td>No kettle in room</td>\n",
       "      <td>6</td>\n",
       "      <td>406</td>\n",
       "      <td>No Positive</td>\n",
       "      <td>...</td>\n",
       "      <td>1</td>\n",
       "      <td>0</td>\n",
       "      <td>1</td>\n",
       "      <td>1</td>\n",
       "      <td>3.000</td>\n",
       "      <td>0</td>\n",
       "      <td>12</td>\n",
       "      <td>10</td>\n",
       "      <td>1</td>\n",
       "      <td>1</td>\n",
       "    </tr>\n",
       "    <tr>\n",
       "      <th>3</th>\n",
       "      <td>216 Avenue Jean Jaures 19th arr 75019 Paris France</td>\n",
       "      <td>34</td>\n",
       "      <td>2015-09-22</td>\n",
       "      <td>7.500</td>\n",
       "      <td>Mercure Paris 19 Philharmonie La Villette</td>\n",
       "      <td>United Kingdom</td>\n",
       "      <td>No Negative</td>\n",
       "      <td>0</td>\n",
       "      <td>607</td>\n",
       "      <td>Friendly staff quiet comfortable room spotlessly clean excellent location</td>\n",
       "      <td>...</td>\n",
       "      <td>0</td>\n",
       "      <td>0</td>\n",
       "      <td>1</td>\n",
       "      <td>1</td>\n",
       "      <td>1.000</td>\n",
       "      <td>0</td>\n",
       "      <td>12</td>\n",
       "      <td>9</td>\n",
       "      <td>1</td>\n",
       "      <td>0</td>\n",
       "    </tr>\n",
       "    <tr>\n",
       "      <th>4</th>\n",
       "      <td>Molenwerf 1 1014 AG Amsterdam Netherlands</td>\n",
       "      <td>914</td>\n",
       "      <td>2016-03-05</td>\n",
       "      <td>8.500</td>\n",
       "      <td>Golden Tulip Amsterdam West</td>\n",
       "      <td>other</td>\n",
       "      <td>Torn sheets</td>\n",
       "      <td>4</td>\n",
       "      <td>7586</td>\n",
       "      <td>The staff was very friendly and helpful Breakfasts were just extraordinary Room was clean quiet and very spacious</td>\n",
       "      <td>...</td>\n",
       "      <td>0</td>\n",
       "      <td>0</td>\n",
       "      <td>0</td>\n",
       "      <td>2</td>\n",
       "      <td>6.000</td>\n",
       "      <td>0</td>\n",
       "      <td>12</td>\n",
       "      <td>3</td>\n",
       "      <td>5</td>\n",
       "      <td>0</td>\n",
       "    </tr>\n",
       "  </tbody>\n",
       "</table>\n",
       "<p>5 rows × 33 columns</p>\n",
       "</div>"
      ],
      "text/plain": [
       "                                                               hotel_address  \\\n",
       "0  Stratton Street Mayfair Westminster Borough London W1J 8LT United Kingdom   \n",
       "1              130 134 Southampton Row Camden London WC1B 5AF United Kingdom   \n",
       "2                           151 bis Rue de Rennes 6th arr 75006 Paris France   \n",
       "3                         216 Avenue Jean Jaures 19th arr 75019 Paris France   \n",
       "4                                  Molenwerf 1 1014 AG Amsterdam Netherlands   \n",
       "\n",
       "   additional_number_of_scoring review_date  average_score  \\\n",
       "0                           581  2016-02-19          8.400   \n",
       "1                           299  2017-01-12          8.300   \n",
       "2                            32  2016-10-18          8.900   \n",
       "3                            34  2015-09-22          7.500   \n",
       "4                           914  2016-03-05          8.500   \n",
       "\n",
       "                                  hotel_name reviewer_nationality  \\\n",
       "0                         The May Fair Hotel       United Kingdom   \n",
       "1            Mercure London Bloomsbury Hotel       United Kingdom   \n",
       "2          Legend Saint Germain by Elegancia                other   \n",
       "3  Mercure Paris 19 Philharmonie La Villette       United Kingdom   \n",
       "4                Golden Tulip Amsterdam West                other   \n",
       "\n",
       "       negative_review  review_total_negative_word_counts  \\\n",
       "0             Leaving                                   3   \n",
       "1       poor breakfast                                  3   \n",
       "2   No kettle in room                                   6   \n",
       "3          No Negative                                  0   \n",
       "4         Torn sheets                                   4   \n",
       "\n",
       "   total_number_of_reviews  \\\n",
       "0                     1994   \n",
       "1                     1361   \n",
       "2                      406   \n",
       "3                      607   \n",
       "4                     7586   \n",
       "\n",
       "                                                                                                       positive_review  \\\n",
       "0                                                                                                   Staff were amazing   \n",
       "1                                                                                                             location   \n",
       "2                                                                                                          No Positive   \n",
       "3                                           Friendly staff quiet comfortable room spotlessly clean excellent location    \n",
       "4   The staff was very friendly and helpful Breakfasts were just extraordinary Room was clean quiet and very spacious    \n",
       "\n",
       "   ...  tag_from_mobile  tag_with_pet  tag_leisure_trip tag_reviewer_type  \\\n",
       "0  ...                1             0                 1                 2   \n",
       "1  ...                0             0                 0                 2   \n",
       "2  ...                1             0                 1                 1   \n",
       "3  ...                0             0                 1                 1   \n",
       "4  ...                0             0                 0                 2   \n",
       "\n",
       "   tag_count_nights  tag_view_room tag_room_type review_month  day_of_week  \\\n",
       "0             2.000              0             8            2            4   \n",
       "1             1.000              0            12            1            3   \n",
       "2             3.000              0            12           10            1   \n",
       "3             1.000              0            12            9            1   \n",
       "4             6.000              0            12            3            5   \n",
       "\n",
       "   high_season  \n",
       "0            0  \n",
       "1            0  \n",
       "2            1  \n",
       "3            0  \n",
       "4            0  \n",
       "\n",
       "[5 rows x 33 columns]"
      ]
     },
     "execution_count": 455,
     "metadata": {},
     "output_type": "execute_result"
    }
   ],
   "source": [
    "hotels.head()"
   ]
  },
  {
   "cell_type": "markdown",
   "metadata": {
    "collapsed": false,
    "pycharm": {
     "name": "#%% md\n"
    }
   },
   "source": [
    "### 2.7 Отзывы"
   ]
  },
  {
   "cell_type": "markdown",
   "metadata": {
    "collapsed": false,
    "pycharm": {
     "name": "#%% md\n"
    }
   },
   "source": [
    " Отзывы и их структура поможет разобраться в поставленной задаче лучше всего. Для этого надо изучить отзывы, выделить эмоциональную окраску: негативная, нейтральная, позитивная.\n",
    "\n",
    "Применяем библиотеку VADER, класс SentimentIntensityAnalyzer."
   ]
  },
  {
   "cell_type": "code",
   "execution_count": 456,
   "metadata": {
    "collapsed": false,
    "pycharm": {
     "name": "#%%\n"
    }
   },
   "outputs": [
    {
     "name": "stdout",
     "output_type": "stream",
     "text": [
      "Словарь оценок слова \"nothing\" до преобразований:\n",
      "{'neg': 0.0, 'neu': 1.0, 'pos': 0.0, 'compound': 0.0} \n",
      "\n",
      " - после преобразований (для негативного контекста):\n",
      "{'neg': 0.0, 'neu': 0.0, 'pos': 1.0, 'compound': 0.9325}\n",
      " - после преобразований (для позитивного контекста):\n",
      "{'neg': 1.0, 'neu': 0.0, 'pos': 0.0, 'compound': -0.9325}\n",
      "\n",
      "Словарь оценок фразы \"No Negative\":\n",
      "{'neg': 1.0, 'neu': 0.0, 'pos': 0.0, 'compound': -0.7096}\n",
      "Словарь оценок фразы \"Positive\":\n",
      "{'neg': 0.0, 'neu': 0.0, 'pos': 1.0, 'compound': 0.5574}\n"
     ]
    }
   ],
   "source": [
    "# Создаём объекты SentimentIntensityAnalyzer\n",
    "positive = SentimentIntensityAnalyzer()\n",
    "negative = SentimentIntensityAnalyzer()\n",
    "\n",
    "# посмотрим как изменится характеристика слова 'nothing':\n",
    "example = 'nothing'\n",
    "print(f'Словарь оценок слова \"{example}\" до преобразований:')\n",
    "print(negative.polarity_scores(example), '\\n')\n",
    "\n",
    "# добавим контекст:\n",
    "negative_words = {'small': -1, 'nothing': 10}\n",
    "positive_words = {'nothing': -10, 'everything': 10}\n",
    "negative.lexicon.update(negative_words)\n",
    "positive.lexicon.update(positive_words)\n",
    "\n",
    "print(f' - после преобразований (для негативного контекста):')\n",
    "print(negative.polarity_scores(example))\n",
    "print(f' - после преобразований (для позитивного контекста):')\n",
    "print(positive.polarity_scores(example))\n",
    "\n",
    "# фразы \"No Negative\" тонально будет нести негативную окраску:\n",
    "example = 'No Negative'\n",
    "print(f'\\nСловарь оценок фразы \"{example}\":')\n",
    "print(negative.polarity_scores(example))\n",
    "example = 'Positive'\n",
    "print(f'Словарь оценок фразы \"{example}\":')\n",
    "print(negative.polarity_scores(example))\n",
    "\n",
    "# меняем метки отсутствия частей отзыва:\n",
    "hotels['negative_review_temp'] = hotels['negative_review'].apply(lambda x: x.replace('No Negative', 'Positive'))\n",
    "hotels['positive_review_temp'] = hotels['negative_review'].apply(lambda x: x.replace('N A', 'Positive'))\n",
    "hotels['positive_review_temp'] = hotels['negative_review'].apply(lambda x: x.replace('All good', 'Positive'))\n",
    "hotels['positive_review_temp'] = hotels['negative_review'].apply(lambda x: x.replace('No complaints', 'Positive'))\n",
    "hotels['positive_review_temp'] = hotels['negative_review'].apply(lambda x: x.replace('Nothing to dislike', 'Positive'))\n",
    "hotels['positive_review_temp'] = hotels['positive_review'].apply(lambda x: x.replace('No Positive', 'Negative'))"
   ]
  },
  {
   "cell_type": "code",
   "execution_count": 457,
   "metadata": {
    "collapsed": false,
    "pycharm": {
     "name": "#%%\n"
    }
   },
   "outputs": [
    {
     "name": "stdout",
     "output_type": "stream",
     "text": [
      "CPU times: total: 1min 28s\n",
      "Wall time: 4min 55s\n"
     ]
    }
   ],
   "source": [
    "%%time\n",
    "\n",
    "hotels['negative_review_sentiments'] = hotels['negative_review_temp'].apply(lambda x: negative.polarity_scores(x))\n",
    "\n",
    "hotels['positive_review_sentiments'] = hotels['positive_review_temp'].apply(lambda x: positive.polarity_scores(x))\n",
    "\n",
    "# формируем новые признаки:\n",
    "hotels['neg_review_sentiments_neg'] = hotels['negative_review_sentiments'].apply(lambda x: x['neg'])\n",
    "hotels['neg_review_sentiments_neu'] = hotels['negative_review_sentiments'].apply(lambda x: x['neu'])\n",
    "hotels['neg_review_sentiments_pos'] = hotels['negative_review_sentiments'].apply(lambda x: x['pos'])\n",
    "hotels['neg_review_sentiments_compound'] = hotels['negative_review_sentiments'].apply(lambda x: x['compound'])\n",
    "\n",
    "hotels['pos_review_sentiments_neg'] = hotels['positive_review_sentiments'].apply(lambda x: x['neg'])\n",
    "hotels['pos_review_sentiments_neu'] = hotels['positive_review_sentiments'].apply(lambda x: x['neu'])\n",
    "hotels['pos_review_sentiments_pos'] = hotels['positive_review_sentiments'].apply(lambda x: x['pos'])\n",
    "hotels['pos_review_sentiments_compound'] = hotels['positive_review_sentiments'].apply(lambda x: x['compound'])"
   ]
  },
  {
   "cell_type": "markdown",
   "metadata": {
    "collapsed": false,
    "pycharm": {
     "name": "#%% md\n"
    }
   },
   "source": [
    "## 3. Отбор призаков"
   ]
  },
  {
   "cell_type": "markdown",
   "metadata": {
    "collapsed": false,
    "pycharm": {
     "name": "#%% md\n"
    }
   },
   "source": [
    "### 3.1 Очистка дата-сета от ненужных вспомогательных признаков"
   ]
  },
  {
   "cell_type": "code",
   "execution_count": 458,
   "metadata": {
    "collapsed": false,
    "pycharm": {
     "name": "#%%\n"
    }
   },
   "outputs": [
    {
     "name": "stdout",
     "output_type": "stream",
     "text": [
      "<class 'pandas.core.frame.DataFrame'>\n",
      "RangeIndex: 515431 entries, 0 to 515430\n",
      "Data columns (total 45 columns):\n",
      " #   Column                                      Non-Null Count   Dtype         \n",
      "---  ------                                      --------------   -----         \n",
      " 0   hotel_address                               515431 non-null  object        \n",
      " 1   additional_number_of_scoring                515431 non-null  int64         \n",
      " 2   review_date                                 515431 non-null  datetime64[ns]\n",
      " 3   average_score                               515431 non-null  float64       \n",
      " 4   hotel_name                                  515431 non-null  object        \n",
      " 5   reviewer_nationality                        515431 non-null  object        \n",
      " 6   negative_review                             515431 non-null  object        \n",
      " 7   review_total_negative_word_counts           515431 non-null  int64         \n",
      " 8   total_number_of_reviews                     515431 non-null  int64         \n",
      " 9   positive_review                             515431 non-null  object        \n",
      " 10  review_total_positive_word_counts           515431 non-null  int64         \n",
      " 11  total_number_of_reviews_reviewer_has_given  515431 non-null  float64       \n",
      " 12  reviewer_score                              515431 non-null  float64       \n",
      " 13  tags                                        515431 non-null  object        \n",
      " 14  days_since_review                           515431 non-null  Int64         \n",
      " 15  sample                                      515431 non-null  int64         \n",
      " 16  hotel_country                               515431 non-null  object        \n",
      " 17  hotel_city                                  515431 non-null  object        \n",
      " 18  hotel_country_code                          515431 non-null  int8          \n",
      " 19  is_citizen                                  515431 non-null  int32         \n",
      " 20  reviewer_nationality_code                   515431 non-null  int8          \n",
      " 21  possible_muslim                             515431 non-null  int64         \n",
      " 22  tags_count                                  515431 non-null  int64         \n",
      " 23  tag_from_mobile                             515431 non-null  int64         \n",
      " 24  tag_with_pet                                515431 non-null  int64         \n",
      " 25  tag_leisure_trip                            515431 non-null  int64         \n",
      " 26  tag_reviewer_type                           515431 non-null  int64         \n",
      " 27  tag_count_nights                            515431 non-null  float64       \n",
      " 28  tag_view_room                               515431 non-null  int64         \n",
      " 29  tag_room_type                               515431 non-null  int64         \n",
      " 30  review_month                                515431 non-null  int32         \n",
      " 31  day_of_week                                 515431 non-null  int32         \n",
      " 32  high_season                                 515431 non-null  int64         \n",
      " 33  negative_review_temp                        515431 non-null  object        \n",
      " 34  positive_review_temp                        515431 non-null  object        \n",
      " 35  negative_review_sentiments                  515431 non-null  object        \n",
      " 36  positive_review_sentiments                  515431 non-null  object        \n",
      " 37  neg_review_sentiments_neg                   515431 non-null  float64       \n",
      " 38  neg_review_sentiments_neu                   515431 non-null  float64       \n",
      " 39  neg_review_sentiments_pos                   515431 non-null  float64       \n",
      " 40  neg_review_sentiments_compound              515431 non-null  float64       \n",
      " 41  pos_review_sentiments_neg                   515431 non-null  float64       \n",
      " 42  pos_review_sentiments_neu                   515431 non-null  float64       \n",
      " 43  pos_review_sentiments_pos                   515431 non-null  float64       \n",
      " 44  pos_review_sentiments_compound              515431 non-null  float64       \n",
      "dtypes: Int64(1), datetime64[ns](1), float64(12), int32(3), int64(14), int8(2), object(12)\n",
      "memory usage: 164.7+ MB\n"
     ]
    }
   ],
   "source": [
    "hotels.info()"
   ]
  },
  {
   "cell_type": "code",
   "execution_count": 459,
   "metadata": {
    "collapsed": false,
    "pycharm": {
     "name": "#%%\n"
    }
   },
   "outputs": [],
   "source": [
    "hotels_copy = hotels.copy()"
   ]
  },
  {
   "cell_type": "markdown",
   "metadata": {},
   "source": [
    "Удаляем колонки с типом object"
   ]
  },
  {
   "cell_type": "code",
   "execution_count": 460,
   "metadata": {
    "collapsed": false,
    "pycharm": {
     "name": "#%%\n"
    }
   },
   "outputs": [],
   "source": [
    "object_columns = [s for s in hotels_copy.columns if hotels_copy[s].dtypes == 'object']\n",
    "hotels_copy.drop(object_columns, axis = 1, inplace=True)"
   ]
  },
  {
   "cell_type": "code",
   "execution_count": 461,
   "metadata": {
    "collapsed": false,
    "pycharm": {
     "name": "#%%\n"
    }
   },
   "outputs": [
    {
     "name": "stdout",
     "output_type": "stream",
     "text": [
      "<class 'pandas.core.frame.DataFrame'>\n",
      "RangeIndex: 515431 entries, 0 to 515430\n",
      "Data columns (total 33 columns):\n",
      " #   Column                                      Non-Null Count   Dtype         \n",
      "---  ------                                      --------------   -----         \n",
      " 0   additional_number_of_scoring                515431 non-null  int64         \n",
      " 1   review_date                                 515431 non-null  datetime64[ns]\n",
      " 2   average_score                               515431 non-null  float64       \n",
      " 3   review_total_negative_word_counts           515431 non-null  int64         \n",
      " 4   total_number_of_reviews                     515431 non-null  int64         \n",
      " 5   review_total_positive_word_counts           515431 non-null  int64         \n",
      " 6   total_number_of_reviews_reviewer_has_given  515431 non-null  float64       \n",
      " 7   reviewer_score                              515431 non-null  float64       \n",
      " 8   days_since_review                           515431 non-null  Int64         \n",
      " 9   sample                                      515431 non-null  int64         \n",
      " 10  hotel_country_code                          515431 non-null  int8          \n",
      " 11  is_citizen                                  515431 non-null  int32         \n",
      " 12  reviewer_nationality_code                   515431 non-null  int8          \n",
      " 13  possible_muslim                             515431 non-null  int64         \n",
      " 14  tags_count                                  515431 non-null  int64         \n",
      " 15  tag_from_mobile                             515431 non-null  int64         \n",
      " 16  tag_with_pet                                515431 non-null  int64         \n",
      " 17  tag_leisure_trip                            515431 non-null  int64         \n",
      " 18  tag_reviewer_type                           515431 non-null  int64         \n",
      " 19  tag_count_nights                            515431 non-null  float64       \n",
      " 20  tag_view_room                               515431 non-null  int64         \n",
      " 21  tag_room_type                               515431 non-null  int64         \n",
      " 22  review_month                                515431 non-null  int32         \n",
      " 23  day_of_week                                 515431 non-null  int32         \n",
      " 24  high_season                                 515431 non-null  int64         \n",
      " 25  neg_review_sentiments_neg                   515431 non-null  float64       \n",
      " 26  neg_review_sentiments_neu                   515431 non-null  float64       \n",
      " 27  neg_review_sentiments_pos                   515431 non-null  float64       \n",
      " 28  neg_review_sentiments_compound              515431 non-null  float64       \n",
      " 29  pos_review_sentiments_neg                   515431 non-null  float64       \n",
      " 30  pos_review_sentiments_neu                   515431 non-null  float64       \n",
      " 31  pos_review_sentiments_pos                   515431 non-null  float64       \n",
      " 32  pos_review_sentiments_compound              515431 non-null  float64       \n",
      "dtypes: Int64(1), datetime64[ns](1), float64(12), int32(3), int64(14), int8(2)\n",
      "memory usage: 117.5 MB\n"
     ]
    }
   ],
   "source": [
    "hotels_copy.info()"
   ]
  },
  {
   "cell_type": "markdown",
   "metadata": {},
   "source": [
    "Удаляем колонки с типом category"
   ]
  },
  {
   "cell_type": "code",
   "execution_count": 462,
   "metadata": {
    "collapsed": false,
    "pycharm": {
     "name": "#%%\n"
    }
   },
   "outputs": [],
   "source": [
    "cat_date_columns = [cd for cd in hotels_copy.columns if ((hotels_copy[cd].dtypes.name == 'category') or (hotels_copy[cd].dtypes == 'datetime64[ns]'))]\n",
    "hotels_copy.drop(cat_date_columns, axis = 1, inplace=True)"
   ]
  },
  {
   "cell_type": "code",
   "execution_count": 463,
   "metadata": {
    "collapsed": false,
    "pycharm": {
     "name": "#%%\n"
    }
   },
   "outputs": [
    {
     "name": "stdout",
     "output_type": "stream",
     "text": [
      "<class 'pandas.core.frame.DataFrame'>\n",
      "RangeIndex: 515431 entries, 0 to 515430\n",
      "Data columns (total 32 columns):\n",
      " #   Column                                      Non-Null Count   Dtype  \n",
      "---  ------                                      --------------   -----  \n",
      " 0   additional_number_of_scoring                515431 non-null  int64  \n",
      " 1   average_score                               515431 non-null  float64\n",
      " 2   review_total_negative_word_counts           515431 non-null  int64  \n",
      " 3   total_number_of_reviews                     515431 non-null  int64  \n",
      " 4   review_total_positive_word_counts           515431 non-null  int64  \n",
      " 5   total_number_of_reviews_reviewer_has_given  515431 non-null  float64\n",
      " 6   reviewer_score                              515431 non-null  float64\n",
      " 7   days_since_review                           515431 non-null  Int64  \n",
      " 8   sample                                      515431 non-null  int64  \n",
      " 9   hotel_country_code                          515431 non-null  int8   \n",
      " 10  is_citizen                                  515431 non-null  int32  \n",
      " 11  reviewer_nationality_code                   515431 non-null  int8   \n",
      " 12  possible_muslim                             515431 non-null  int64  \n",
      " 13  tags_count                                  515431 non-null  int64  \n",
      " 14  tag_from_mobile                             515431 non-null  int64  \n",
      " 15  tag_with_pet                                515431 non-null  int64  \n",
      " 16  tag_leisure_trip                            515431 non-null  int64  \n",
      " 17  tag_reviewer_type                           515431 non-null  int64  \n",
      " 18  tag_count_nights                            515431 non-null  float64\n",
      " 19  tag_view_room                               515431 non-null  int64  \n",
      " 20  tag_room_type                               515431 non-null  int64  \n",
      " 21  review_month                                515431 non-null  int32  \n",
      " 22  day_of_week                                 515431 non-null  int32  \n",
      " 23  high_season                                 515431 non-null  int64  \n",
      " 24  neg_review_sentiments_neg                   515431 non-null  float64\n",
      " 25  neg_review_sentiments_neu                   515431 non-null  float64\n",
      " 26  neg_review_sentiments_pos                   515431 non-null  float64\n",
      " 27  neg_review_sentiments_compound              515431 non-null  float64\n",
      " 28  pos_review_sentiments_neg                   515431 non-null  float64\n",
      " 29  pos_review_sentiments_neu                   515431 non-null  float64\n",
      " 30  pos_review_sentiments_pos                   515431 non-null  float64\n",
      " 31  pos_review_sentiments_compound              515431 non-null  float64\n",
      "dtypes: Int64(1), float64(12), int32(3), int64(14), int8(2)\n",
      "memory usage: 113.5 MB\n"
     ]
    }
   ],
   "source": [
    "hotels_copy.info()"
   ]
  },
  {
   "cell_type": "markdown",
   "metadata": {
    "collapsed": false,
    "pycharm": {
     "name": "#%% md\n"
    }
   },
   "source": [
    "### 3.2 Анализ мультиколлинеарности"
   ]
  },
  {
   "cell_type": "code",
   "execution_count": 464,
   "metadata": {
    "collapsed": false,
    "pycharm": {
     "name": "#%%\n"
    }
   },
   "outputs": [],
   "source": [
    "cols_num = [\n",
    "    'review_total_negative_word_counts',\n",
    "    'review_total_positive_word_counts',\n",
    "    'total_number_of_reviews_reviewer_has_given',\n",
    "    'tags_count',\n",
    "    'tag_count_nights',\n",
    "    'neg_review_sentiments_neg',\n",
    "    'neg_review_sentiments_neu',\n",
    "    'neg_review_sentiments_pos',\n",
    "    'neg_review_sentiments_compound',\n",
    "    'pos_review_sentiments_neg',\n",
    "    'pos_review_sentiments_neu',\n",
    "    'pos_review_sentiments_pos',\n",
    "    'pos_review_sentiments_compound'\n",
    "]\n",
    "\n",
    "cols_cat = [\n",
    "    'additional_number_of_scoring',\n",
    "    'average_score',\n",
    "    'total_number_of_reviews',\n",
    "    'days_since_review',\n",
    "    'hotel_country_code',\n",
    "    'reviewer_nationality_code',\n",
    "    'is_citizen',\n",
    "    'possible_muslim',\n",
    "    'reviewer_score',\n",
    "    'is_citizen',\n",
    "    'possible_muslim',\n",
    "    'tag_from_mobile',\n",
    "    'tag_with_pet',\n",
    "    'tag_leisure_trip',\n",
    "    'tag_reviewer_type',\n",
    "    'tag_view_room',\n",
    "    'tag_room_type',\n",
    "    'review_month',\n",
    "    'day_of_week',\n",
    "    'high_season',\n",
    "    'review_month',\n",
    "]"
   ]
  },
  {
   "cell_type": "code",
   "execution_count": 465,
   "metadata": {
    "collapsed": false,
    "pycharm": {
     "name": "#%%\n"
    }
   },
   "outputs": [],
   "source": [
    "def show_corr_heatmap(columns_list, title, method):\n",
    "    fig_, ax_ = plt.subplots(figsize=(15, 12))\n",
    "    corr = hotels_copy[columns_list].corr(method=method)\n",
    "    mask = np.triu(np.ones_like(corr, dtype=bool))\n",
    "    sns.heatmap(corr,\n",
    "                annot=True,\n",
    "                linewidths=0.1,\n",
    "                ax=ax_,\n",
    "                mask=mask,\n",
    "                cmap='viridis',\n",
    "                fmt='.1g')\n",
    "    ax_.set_title(title, fontsize=18)\n",
    "    plt.show()"
   ]
  },
  {
   "cell_type": "code",
   "execution_count": 466,
   "metadata": {
    "collapsed": false,
    "pycharm": {
     "name": "#%%\n"
    }
   },
   "outputs": [
    {
     "data": {
      "image/png": "[encoded data removed]",
      "text/plain": [
       "<Figure size 1500x1200 with 2 Axes>"
      ]
     },
     "metadata": {},
     "output_type": "display_data"
    }
   ],
   "source": [
    "show_corr_heatmap(cols_num, 'КОРРЕЛЯЦИЯ НЕПРЕРЫВНЫХ ПРИЗНАКОВ', method='pearson')"
   ]
  },
  {
   "cell_type": "code",
   "execution_count": 467,
   "metadata": {
    "collapsed": false,
    "pycharm": {
     "name": "#%%\n"
    }
   },
   "outputs": [],
   "source": [
    "drop_columns = ['neg_review_sentiments_pos']"
   ]
  },
  {
   "cell_type": "code",
   "execution_count": 468,
   "metadata": {
    "collapsed": false,
    "pycharm": {
     "name": "#%%\n"
    }
   },
   "outputs": [
    {
     "data": {
      "image/png": "[encoded data removed]",
      "text/plain": [
       "<Figure size 1500x1200 with 2 Axes>"
      ]
     },
     "metadata": {},
     "output_type": "display_data"
    }
   ],
   "source": [
    "show_corr_heatmap(cols_cat, 'КОРРЕЛЯЦИЯ КАТЕГОРИАЛЬНЫХ ПРИЗНАКОВ', method='spearman');"
   ]
  },
  {
   "cell_type": "code",
   "execution_count": 469,
   "metadata": {
    "collapsed": false,
    "pycharm": {
     "name": "#%%\n"
    }
   },
   "outputs": [],
   "source": [
    "drop_columns += ['review_month', 'is_citizen', 'possible_muslim', 'additional_number_of_scoring']"
   ]
  },
  {
   "cell_type": "code",
   "execution_count": 470,
   "metadata": {
    "collapsed": false,
    "pycharm": {
     "name": "#%%\n"
    }
   },
   "outputs": [],
   "source": [
    "hotels_copy.drop(drop_columns, axis = 1, inplace=True)"
   ]
  },
  {
   "cell_type": "code",
   "execution_count": 471,
   "metadata": {
    "collapsed": false,
    "pycharm": {
     "name": "#%%\n"
    }
   },
   "outputs": [
    {
     "name": "stdout",
     "output_type": "stream",
     "text": [
      "<class 'pandas.core.frame.DataFrame'>\n",
      "RangeIndex: 515431 entries, 0 to 515430\n",
      "Data columns (total 27 columns):\n",
      " #   Column                                      Non-Null Count   Dtype  \n",
      "---  ------                                      --------------   -----  \n",
      " 0   average_score                               515431 non-null  float64\n",
      " 1   review_total_negative_word_counts           515431 non-null  int64  \n",
      " 2   total_number_of_reviews                     515431 non-null  int64  \n",
      " 3   review_total_positive_word_counts           515431 non-null  int64  \n",
      " 4   total_number_of_reviews_reviewer_has_given  515431 non-null  float64\n",
      " 5   reviewer_score                              515431 non-null  float64\n",
      " 6   days_since_review                           515431 non-null  Int64  \n",
      " 7   sample                                      515431 non-null  int64  \n",
      " 8   hotel_country_code                          515431 non-null  int8   \n",
      " 9   reviewer_nationality_code                   515431 non-null  int8   \n",
      " 10  tags_count                                  515431 non-null  int64  \n",
      " 11  tag_from_mobile                             515431 non-null  int64  \n",
      " 12  tag_with_pet                                515431 non-null  int64  \n",
      " 13  tag_leisure_trip                            515431 non-null  int64  \n",
      " 14  tag_reviewer_type                           515431 non-null  int64  \n",
      " 15  tag_count_nights                            515431 non-null  float64\n",
      " 16  tag_view_room                               515431 non-null  int64  \n",
      " 17  tag_room_type                               515431 non-null  int64  \n",
      " 18  day_of_week                                 515431 non-null  int32  \n",
      " 19  high_season                                 515431 non-null  int64  \n",
      " 20  neg_review_sentiments_neg                   515431 non-null  float64\n",
      " 21  neg_review_sentiments_neu                   515431 non-null  float64\n",
      " 22  neg_review_sentiments_compound              515431 non-null  float64\n",
      " 23  pos_review_sentiments_neg                   515431 non-null  float64\n",
      " 24  pos_review_sentiments_neu                   515431 non-null  float64\n",
      " 25  pos_review_sentiments_pos                   515431 non-null  float64\n",
      " 26  pos_review_sentiments_compound              515431 non-null  float64\n",
      "dtypes: Int64(1), float64(11), int32(1), int64(12), int8(2)\n",
      "memory usage: 97.8 MB\n"
     ]
    }
   ],
   "source": [
    "hotels_copy.info()"
   ]
  },
  {
   "cell_type": "markdown",
   "metadata": {
    "collapsed": false,
    "pycharm": {
     "name": "#%% md\n"
    }
   },
   "source": [
    "### 3.3 Оценка значимости признаков"
   ]
  },
  {
   "cell_type": "markdown",
   "metadata": {
    "collapsed": false,
    "pycharm": {
     "name": "#%% md\n"
    }
   },
   "source": [
    "Для оценки значимости категориальных признаков будем использовать тест хи-квадрат, для непрерывных признаков — тест ANOVA."
   ]
  },
  {
   "cell_type": "code",
   "execution_count": 472,
   "metadata": {
    "collapsed": false,
    "pycharm": {
     "name": "#%%\n"
    }
   },
   "outputs": [
    {
     "data": {
      "text/plain": [
       "<Axes: >"
      ]
     },
     "execution_count": 472,
     "metadata": {},
     "output_type": "execute_result"
    },
    {
     "data": {
      "image/png": "[encoded data removed]",
      "text/plain": [
       "<Figure size 1500x2000 with 1 Axes>"
      ]
     },
     "metadata": {},
     "output_type": "display_data"
    }
   ],
   "source": [
    "y = hotels_copy.query('sample == 1').drop(['sample'], axis=1)['reviewer_score'].values\n",
    "X = hotels_copy.query('sample == 1').drop(['sample', 'reviewer_score'], axis=1)\n",
    "\n",
    "# визуализируем результат анализа значимости:\n",
    "imp_num = pd.Series(f_classif(X[X.columns], y)[0], index = X.columns)\n",
    "imp_num.sort_values(inplace = True)\n",
    "\n",
    "fig5, ax5 = plt.subplots(figsize=(15, 20))\n",
    "imp_num.plot(kind = 'barh', color='blue')"
   ]
  },
  {
   "cell_type": "code",
   "execution_count": 473,
   "metadata": {
    "collapsed": false,
    "pycharm": {
     "name": "#%%\n"
    }
   },
   "outputs": [
    {
     "data": {
      "text/plain": [
       "day_of_week                                     1.831\n",
       "tag_with_pet                                    1.987\n",
       "tag_room_type                                   3.422\n",
       "high_season                                     5.900\n",
       "reviewer_nationality_code                       5.909\n",
       "days_since_review                               7.372\n",
       "tag_reviewer_type                               9.781\n",
       "tag_count_nights                               12.899\n",
       "tag_view_room                                  14.957\n",
       "hotel_country_code                             23.687\n",
       "tags_count                                     43.290\n",
       "tag_from_mobile                                46.030\n",
       "total_number_of_reviews                        63.455\n",
       "total_number_of_reviews_reviewer_has_given     95.539\n",
       "pos_review_sentiments_neu                      97.318\n",
       "tag_leisure_trip                              145.655\n",
       "review_total_positive_word_counts             581.651\n",
       "neg_review_sentiments_neg                     821.749\n",
       "pos_review_sentiments_pos                     994.684\n",
       "pos_review_sentiments_neg                    1271.818\n",
       "average_score                                1728.895\n",
       "review_total_negative_word_counts            1904.245\n",
       "neg_review_sentiments_neu                    2601.371\n",
       "neg_review_sentiments_compound               2703.320\n",
       "pos_review_sentiments_compound               2774.399\n",
       "dtype: float64"
      ]
     },
     "execution_count": 473,
     "metadata": {},
     "output_type": "execute_result"
    }
   ],
   "source": [
    "imp_num"
   ]
  },
  {
   "cell_type": "code",
   "execution_count": 474,
   "metadata": {
    "collapsed": false,
    "pycharm": {
     "name": "#%%\n"
    }
   },
   "outputs": [
    {
     "data": {
      "text/plain": [
       "['day_of_week', 'tag_with_pet', 'tag_room_type']"
      ]
     },
     "execution_count": 474,
     "metadata": {},
     "output_type": "execute_result"
    }
   ],
   "source": [
    "drop_columns = imp_num[imp_num < 5].index.tolist()\n",
    "drop_columns"
   ]
  },
  {
   "cell_type": "code",
   "execution_count": 475,
   "metadata": {
    "collapsed": false,
    "pycharm": {
     "name": "#%%\n"
    }
   },
   "outputs": [],
   "source": [
    "hotels_copy.drop(drop_columns, axis = 1, inplace=True)"
   ]
  },
  {
   "cell_type": "markdown",
   "metadata": {
    "collapsed": false,
    "pycharm": {
     "name": "#%% md\n"
    }
   },
   "source": [
    "## 4. Обучение модели и получение предсказания"
   ]
  },
  {
   "cell_type": "markdown",
   "metadata": {
    "collapsed": false,
    "pycharm": {
     "name": "#%% md\n"
    }
   },
   "source": [
    "Разбиваем датафрейм на части, необходимые для обучения и тестирования модели"
   ]
  },
  {
   "cell_type": "code",
   "execution_count": 476,
   "metadata": {
    "collapsed": false,
    "pycharm": {
     "name": "#%%\n"
    }
   },
   "outputs": [
    {
     "data": {
      "text/plain": [
       "((128935, 23), (386496, 23), (386496, 22), (309196, 22), (77300, 22))"
      ]
     },
     "execution_count": 476,
     "metadata": {},
     "output_type": "execute_result"
    }
   ],
   "source": [
    "train_data = hotels_copy.query('sample == 1').drop(['sample'], axis=1)\n",
    "test_data = hotels_copy.query('sample == 0').drop(['sample'], axis=1)\n",
    "\n",
    "y = train_data.reviewer_score.values\n",
    "X = train_data.drop(['reviewer_score'], axis=1)\n",
    "\n",
    "X_train, X_test, y_train, y_test = train_test_split(X, y, test_size=0.2, random_state=RANDOM_SEED)\n",
    "\n",
    "test_data.shape, train_data.shape, X.shape, X_train.shape, X_test.shape"
   ]
  },
  {
   "cell_type": "code",
   "execution_count": 477,
   "metadata": {
    "collapsed": false,
    "pycharm": {
     "name": "#%%\n"
    }
   },
   "outputs": [],
   "source": [
    "model = RandomForestRegressor(\n",
    "    n_estimators=100,\n",
    "    verbose=1,\n",
    "    n_jobs=-1,\n",
    "    random_state=RANDOM_SEED)"
   ]
  },
  {
   "cell_type": "code",
   "execution_count": 478,
   "metadata": {
    "collapsed": false,
    "pycharm": {
     "name": "#%%\n"
    }
   },
   "outputs": [
    {
     "name": "stderr",
     "output_type": "stream",
     "text": [
      "[Parallel(n_jobs=-1)]: Using backend ThreadingBackend with 16 concurrent workers.\n",
      "[Parallel(n_jobs=-1)]: Done  18 tasks      | elapsed:   22.0s\n",
      "[Parallel(n_jobs=-1)]: Done 100 out of 100 | elapsed:  1.3min finished\n",
      "[Parallel(n_jobs=16)]: Using backend ThreadingBackend with 16 concurrent workers.\n",
      "[Parallel(n_jobs=16)]: Done  18 tasks      | elapsed:    0.3s\n"
     ]
    },
    {
     "name": "stdout",
     "output_type": "stream",
     "text": [
      "CPU times: total: 16min 53s\n",
      "Wall time: 1min 18s\n"
     ]
    },
    {
     "name": "stderr",
     "output_type": "stream",
     "text": [
      "[Parallel(n_jobs=16)]: Done 100 out of 100 | elapsed:    1.0s finished\n"
     ]
    }
   ],
   "source": [
    "%%time\n",
    "\n",
    "# обучаем модель на тестовом наборе данных\n",
    "model.fit(X_train, y_train)\n",
    "\n",
    "# предсказанные значения записываем в переменную y_pred\n",
    "y_pred = model.predict(X_test)"
   ]
  },
  {
   "cell_type": "code",
   "execution_count": 479,
   "metadata": {
    "collapsed": false,
    "pycharm": {
     "name": "#%%\n"
    }
   },
   "outputs": [
    {
     "name": "stdout",
     "output_type": "stream",
     "text": [
      "MAPE: 12.06\n"
     ]
    }
   ],
   "source": [
    "# сравниваем предсказанные значения (y_pred) с реальными (y_test),\n",
    "# метрика Mean Absolute Percentage Error (MAPE) показывает среднюю абсолютную\n",
    "# процентную ошибку предсказанных значений от фактических:\n",
    "\n",
    "def mean_absolute_percentage_error(y_tr, y_pr):\n",
    "    \"\"\"Получение средней абсолютной ошибки\"\"\"\n",
    "    y_tr, y_pr = np.array(y_tr), np.array(y_pr)\n",
    "    return np.mean(np.abs((y_tr - y_pr) / y_tr)) * 100\n",
    "\n",
    "print('MAPE:', round(mean_absolute_percentage_error(y_test, y_pred), 2))"
   ]
  },
  {
   "cell_type": "code",
   "execution_count": 482,
   "metadata": {
    "collapsed": false,
    "pycharm": {
     "name": "#%%\n"
    }
   },
   "outputs": [
    {
     "data": {
      "image/png": "[encoded data removed]",
      "text/plain": [
       "<Figure size 1000x1000 with 1 Axes>"
      ]
     },
     "metadata": {},
     "output_type": "display_data"
    }
   ],
   "source": [
    "# в RandomForestRegressor есть возможность вывести самые важные признаки\n",
    "plt.rcParams['figure.figsize'] = (10,10)\n",
    "feat_importances = pd.Series(model.feature_importances_, index=X.columns)\n",
    "feat_importances.nlargest(15).plot(kind='barh', color='green');"
   ]
  },
  {
   "cell_type": "markdown",
   "metadata": {
    "collapsed": false,
    "pycharm": {
     "name": "#%% md\n"
    }
   },
   "source": [
    "Получаем предсказание целевой переменной"
   ]
  },
  {
   "cell_type": "code",
   "execution_count": 484,
   "metadata": {
    "collapsed": false,
    "pycharm": {
     "name": "#%%\n"
    }
   },
   "outputs": [
    {
     "ename": "KeyError",
     "evalue": "\"['reviewer_score'] not found in axis\"",
     "output_type": "error",
     "traceback": [
      "\u001b[1;31m---------------------------------------------------------------------------\u001b[0m",
      "\u001b[1;31mKeyError\u001b[0m                                  Traceback (most recent call last)",
      "Cell \u001b[1;32mIn[484], line 1\u001b[0m\n\u001b[1;32m----> 1\u001b[0m test_data \u001b[38;5;241m=\u001b[39m \u001b[43mtest_data\u001b[49m\u001b[38;5;241;43m.\u001b[39;49m\u001b[43mdrop\u001b[49m\u001b[43m(\u001b[49m\u001b[43m[\u001b[49m\u001b[38;5;124;43m'\u001b[39;49m\u001b[38;5;124;43mreviewer_score\u001b[39;49m\u001b[38;5;124;43m'\u001b[39;49m\u001b[43m]\u001b[49m\u001b[43m,\u001b[49m\u001b[43m \u001b[49m\u001b[43maxis\u001b[49m\u001b[38;5;241;43m=\u001b[39;49m\u001b[38;5;241;43m1\u001b[39;49m\u001b[43m)\u001b[49m\n\u001b[0;32m      2\u001b[0m predict_submission \u001b[38;5;241m=\u001b[39m model\u001b[38;5;241m.\u001b[39mpredict(test_data)\n\u001b[0;32m      3\u001b[0m sample_submission[\u001b[38;5;124m'\u001b[39m\u001b[38;5;124mreviewer_score\u001b[39m\u001b[38;5;124m'\u001b[39m] \u001b[38;5;241m=\u001b[39m predict_submission\n",
      "File \u001b[1;32m~\\AppData\\Local\\Packages\\PythonSoftwareFoundation.Python.3.11_qbz5n2kfra8p0\\LocalCache\\local-packages\\Python311\\site-packages\\pandas\\core\\frame.py:5581\u001b[0m, in \u001b[0;36mDataFrame.drop\u001b[1;34m(self, labels, axis, index, columns, level, inplace, errors)\u001b[0m\n\u001b[0;32m   5433\u001b[0m \u001b[38;5;28;01mdef\u001b[39;00m \u001b[38;5;21mdrop\u001b[39m(\n\u001b[0;32m   5434\u001b[0m     \u001b[38;5;28mself\u001b[39m,\n\u001b[0;32m   5435\u001b[0m     labels: IndexLabel \u001b[38;5;241m|\u001b[39m \u001b[38;5;28;01mNone\u001b[39;00m \u001b[38;5;241m=\u001b[39m \u001b[38;5;28;01mNone\u001b[39;00m,\n\u001b[1;32m   (...)\u001b[0m\n\u001b[0;32m   5442\u001b[0m     errors: IgnoreRaise \u001b[38;5;241m=\u001b[39m \u001b[38;5;124m\"\u001b[39m\u001b[38;5;124mraise\u001b[39m\u001b[38;5;124m\"\u001b[39m,\n\u001b[0;32m   5443\u001b[0m ) \u001b[38;5;241m-\u001b[39m\u001b[38;5;241m>\u001b[39m DataFrame \u001b[38;5;241m|\u001b[39m \u001b[38;5;28;01mNone\u001b[39;00m:\n\u001b[0;32m   5444\u001b[0m \u001b[38;5;250m    \u001b[39m\u001b[38;5;124;03m\"\"\"\u001b[39;00m\n\u001b[0;32m   5445\u001b[0m \u001b[38;5;124;03m    Drop specified labels from rows or columns.\u001b[39;00m\n\u001b[0;32m   5446\u001b[0m \n\u001b[1;32m   (...)\u001b[0m\n\u001b[0;32m   5579\u001b[0m \u001b[38;5;124;03m            weight  1.0     0.8\u001b[39;00m\n\u001b[0;32m   5580\u001b[0m \u001b[38;5;124;03m    \"\"\"\u001b[39;00m\n\u001b[1;32m-> 5581\u001b[0m     \u001b[38;5;28;01mreturn\u001b[39;00m \u001b[38;5;28;43msuper\u001b[39;49m\u001b[43m(\u001b[49m\u001b[43m)\u001b[49m\u001b[38;5;241;43m.\u001b[39;49m\u001b[43mdrop\u001b[49m\u001b[43m(\u001b[49m\n\u001b[0;32m   5582\u001b[0m \u001b[43m        \u001b[49m\u001b[43mlabels\u001b[49m\u001b[38;5;241;43m=\u001b[39;49m\u001b[43mlabels\u001b[49m\u001b[43m,\u001b[49m\n\u001b[0;32m   5583\u001b[0m \u001b[43m        \u001b[49m\u001b[43maxis\u001b[49m\u001b[38;5;241;43m=\u001b[39;49m\u001b[43maxis\u001b[49m\u001b[43m,\u001b[49m\n\u001b[0;32m   5584\u001b[0m \u001b[43m        \u001b[49m\u001b[43mindex\u001b[49m\u001b[38;5;241;43m=\u001b[39;49m\u001b[43mindex\u001b[49m\u001b[43m,\u001b[49m\n\u001b[0;32m   5585\u001b[0m \u001b[43m        \u001b[49m\u001b[43mcolumns\u001b[49m\u001b[38;5;241;43m=\u001b[39;49m\u001b[43mcolumns\u001b[49m\u001b[43m,\u001b[49m\n\u001b[0;32m   5586\u001b[0m \u001b[43m        \u001b[49m\u001b[43mlevel\u001b[49m\u001b[38;5;241;43m=\u001b[39;49m\u001b[43mlevel\u001b[49m\u001b[43m,\u001b[49m\n\u001b[0;32m   5587\u001b[0m \u001b[43m        \u001b[49m\u001b[43minplace\u001b[49m\u001b[38;5;241;43m=\u001b[39;49m\u001b[43minplace\u001b[49m\u001b[43m,\u001b[49m\n\u001b[0;32m   5588\u001b[0m \u001b[43m        \u001b[49m\u001b[43merrors\u001b[49m\u001b[38;5;241;43m=\u001b[39;49m\u001b[43merrors\u001b[49m\u001b[43m,\u001b[49m\n\u001b[0;32m   5589\u001b[0m \u001b[43m    \u001b[49m\u001b[43m)\u001b[49m\n",
      "File \u001b[1;32m~\\AppData\\Local\\Packages\\PythonSoftwareFoundation.Python.3.11_qbz5n2kfra8p0\\LocalCache\\local-packages\\Python311\\site-packages\\pandas\\core\\generic.py:4788\u001b[0m, in \u001b[0;36mNDFrame.drop\u001b[1;34m(self, labels, axis, index, columns, level, inplace, errors)\u001b[0m\n\u001b[0;32m   4786\u001b[0m \u001b[38;5;28;01mfor\u001b[39;00m axis, labels \u001b[38;5;129;01min\u001b[39;00m axes\u001b[38;5;241m.\u001b[39mitems():\n\u001b[0;32m   4787\u001b[0m     \u001b[38;5;28;01mif\u001b[39;00m labels \u001b[38;5;129;01mis\u001b[39;00m \u001b[38;5;129;01mnot\u001b[39;00m \u001b[38;5;28;01mNone\u001b[39;00m:\n\u001b[1;32m-> 4788\u001b[0m         obj \u001b[38;5;241m=\u001b[39m \u001b[43mobj\u001b[49m\u001b[38;5;241;43m.\u001b[39;49m\u001b[43m_drop_axis\u001b[49m\u001b[43m(\u001b[49m\u001b[43mlabels\u001b[49m\u001b[43m,\u001b[49m\u001b[43m \u001b[49m\u001b[43maxis\u001b[49m\u001b[43m,\u001b[49m\u001b[43m \u001b[49m\u001b[43mlevel\u001b[49m\u001b[38;5;241;43m=\u001b[39;49m\u001b[43mlevel\u001b[49m\u001b[43m,\u001b[49m\u001b[43m \u001b[49m\u001b[43merrors\u001b[49m\u001b[38;5;241;43m=\u001b[39;49m\u001b[43merrors\u001b[49m\u001b[43m)\u001b[49m\n\u001b[0;32m   4790\u001b[0m \u001b[38;5;28;01mif\u001b[39;00m inplace:\n\u001b[0;32m   4791\u001b[0m     \u001b[38;5;28mself\u001b[39m\u001b[38;5;241m.\u001b[39m_update_inplace(obj)\n",
      "File \u001b[1;32m~\\AppData\\Local\\Packages\\PythonSoftwareFoundation.Python.3.11_qbz5n2kfra8p0\\LocalCache\\local-packages\\Python311\\site-packages\\pandas\\core\\generic.py:4830\u001b[0m, in \u001b[0;36mNDFrame._drop_axis\u001b[1;34m(self, labels, axis, level, errors, only_slice)\u001b[0m\n\u001b[0;32m   4828\u001b[0m         new_axis \u001b[38;5;241m=\u001b[39m axis\u001b[38;5;241m.\u001b[39mdrop(labels, level\u001b[38;5;241m=\u001b[39mlevel, errors\u001b[38;5;241m=\u001b[39merrors)\n\u001b[0;32m   4829\u001b[0m     \u001b[38;5;28;01melse\u001b[39;00m:\n\u001b[1;32m-> 4830\u001b[0m         new_axis \u001b[38;5;241m=\u001b[39m \u001b[43maxis\u001b[49m\u001b[38;5;241;43m.\u001b[39;49m\u001b[43mdrop\u001b[49m\u001b[43m(\u001b[49m\u001b[43mlabels\u001b[49m\u001b[43m,\u001b[49m\u001b[43m \u001b[49m\u001b[43merrors\u001b[49m\u001b[38;5;241;43m=\u001b[39;49m\u001b[43merrors\u001b[49m\u001b[43m)\u001b[49m\n\u001b[0;32m   4831\u001b[0m     indexer \u001b[38;5;241m=\u001b[39m axis\u001b[38;5;241m.\u001b[39mget_indexer(new_axis)\n\u001b[0;32m   4833\u001b[0m \u001b[38;5;66;03m# Case for non-unique axis\u001b[39;00m\n\u001b[0;32m   4834\u001b[0m \u001b[38;5;28;01melse\u001b[39;00m:\n",
      "File \u001b[1;32m~\\AppData\\Local\\Packages\\PythonSoftwareFoundation.Python.3.11_qbz5n2kfra8p0\\LocalCache\\local-packages\\Python311\\site-packages\\pandas\\core\\indexes\\base.py:7070\u001b[0m, in \u001b[0;36mIndex.drop\u001b[1;34m(self, labels, errors)\u001b[0m\n\u001b[0;32m   7068\u001b[0m \u001b[38;5;28;01mif\u001b[39;00m mask\u001b[38;5;241m.\u001b[39many():\n\u001b[0;32m   7069\u001b[0m     \u001b[38;5;28;01mif\u001b[39;00m errors \u001b[38;5;241m!=\u001b[39m \u001b[38;5;124m\"\u001b[39m\u001b[38;5;124mignore\u001b[39m\u001b[38;5;124m\"\u001b[39m:\n\u001b[1;32m-> 7070\u001b[0m         \u001b[38;5;28;01mraise\u001b[39;00m \u001b[38;5;167;01mKeyError\u001b[39;00m(\u001b[38;5;124mf\u001b[39m\u001b[38;5;124m\"\u001b[39m\u001b[38;5;132;01m{\u001b[39;00mlabels[mask]\u001b[38;5;241m.\u001b[39mtolist()\u001b[38;5;132;01m}\u001b[39;00m\u001b[38;5;124m not found in axis\u001b[39m\u001b[38;5;124m\"\u001b[39m)\n\u001b[0;32m   7071\u001b[0m     indexer \u001b[38;5;241m=\u001b[39m indexer[\u001b[38;5;241m~\u001b[39mmask]\n\u001b[0;32m   7072\u001b[0m \u001b[38;5;28;01mreturn\u001b[39;00m \u001b[38;5;28mself\u001b[39m\u001b[38;5;241m.\u001b[39mdelete(indexer)\n",
      "\u001b[1;31mKeyError\u001b[0m: \"['reviewer_score'] not found in axis\""
     ]
    }
   ],
   "source": [
    "test_data = test_data.drop(['reviewer_score'], axis=1)\n",
    "predict_submission = model.predict(test_data)\n",
    "sample_submission['reviewer_score'] = predict_submission\n",
    "\n",
    "#  сохраняем результат:\n",
    "sample_submission.to_csv('submission.csv', index=False)\n",
    "sample_submission.head(10)"
   ]
  }
 ],
 "metadata": {
  "kernelspec": {
   "display_name": "Python 3",
   "language": "python",
   "name": "python3"
  },
  "language_info": {
   "codemirror_mode": {
    "name": "ipython",
    "version": 3
   },
   "file_extension": ".py",
   "mimetype": "text/x-python",
   "name": "python",
   "nbconvert_exporter": "python",
   "pygments_lexer": "ipython3",
   "version": "3.11.9"
  }
 },
 "nbformat": 4,
 "nbformat_minor": 0
}
