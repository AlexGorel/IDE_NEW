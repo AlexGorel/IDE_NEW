{
  "cells": [
    {
      "cell_type": "markdown",
      "id": "00009cca",
      "metadata": {
        "id": "00009cca"
      },
      "source": [
        "# Классификация текстов с использованием Наивного Байесовского Классификатора"
      ]
    },
    {
      "cell_type": "markdown",
      "id": "a52414b8",
      "metadata": {
        "id": "a52414b8"
      },
      "source": [
        "## Задание 1 (1 балл)"
      ]
    },
    {
      "cell_type": "markdown",
      "id": "f5f27b43",
      "metadata": {
        "id": "f5f27b43"
      },
      "source": [
        "Откройте данные. Узнайте, сколько в них спам- и не спам-писем. Визуализируйте полученные соотношение подходящим образом."
      ]
    },
    {
      "cell_type": "code",
      "execution_count": 22,
      "id": "d898b6c5",
      "metadata": {},
      "outputs": [
        {
          "name": "stdout",
          "output_type": "stream",
          "text": [
            "2.2.3\n",
            "2.1.1\n",
            "1.5.2\n"
          ]
        }
      ],
      "source": [
        "import pandas as pd\n",
        "import numpy as np\n",
        "import sklearn\n",
        "\n",
        "print(pd.__version__)\n",
        "print(np.__version__)\n",
        "print(sklearn.__version__)"
      ]
    },
    {
      "cell_type": "code",
      "execution_count": 23,
      "id": "2c9d1783",
      "metadata": {},
      "outputs": [],
      "source": [
        "import pandas as pd\n",
        "import numpy as np\n",
        "import seaborn as sns"
      ]
    },
    {
      "cell_type": "code",
      "execution_count": 24,
      "id": "ac369274",
      "metadata": {
        "id": "ac369274"
      },
      "outputs": [
        {
          "data": {
            "text/html": [
              "<div>\n",
              "<style scoped>\n",
              "    .dataframe tbody tr th:only-of-type {\n",
              "        vertical-align: middle;\n",
              "    }\n",
              "\n",
              "    .dataframe tbody tr th {\n",
              "        vertical-align: top;\n",
              "    }\n",
              "\n",
              "    .dataframe thead th {\n",
              "        text-align: right;\n",
              "    }\n",
              "</style>\n",
              "<table border=\"1\" class=\"dataframe\">\n",
              "  <thead>\n",
              "    <tr style=\"text-align: right;\">\n",
              "      <th></th>\n",
              "      <th>email</th>\n",
              "      <th>label</th>\n",
              "    </tr>\n",
              "  </thead>\n",
              "  <tbody>\n",
              "    <tr>\n",
              "      <th>0</th>\n",
              "      <td>date wed NUMBER aug NUMBER NUMBER NUMBER NUMB...</td>\n",
              "      <td>0</td>\n",
              "    </tr>\n",
              "    <tr>\n",
              "      <th>1</th>\n",
              "      <td>martin a posted tassos papadopoulos the greek ...</td>\n",
              "      <td>0</td>\n",
              "    </tr>\n",
              "    <tr>\n",
              "      <th>2</th>\n",
              "      <td>man threatens explosion in moscow thursday aug...</td>\n",
              "      <td>0</td>\n",
              "    </tr>\n",
              "    <tr>\n",
              "      <th>3</th>\n",
              "      <td>klez the virus that won t die already the most...</td>\n",
              "      <td>0</td>\n",
              "    </tr>\n",
              "    <tr>\n",
              "      <th>4</th>\n",
              "      <td>in adding cream to spaghetti carbonara which ...</td>\n",
              "      <td>0</td>\n",
              "    </tr>\n",
              "  </tbody>\n",
              "</table>\n",
              "</div>"
            ],
            "text/plain": [
              "                                               email  label\n",
              "0   date wed NUMBER aug NUMBER NUMBER NUMBER NUMB...      0\n",
              "1  martin a posted tassos papadopoulos the greek ...      0\n",
              "2  man threatens explosion in moscow thursday aug...      0\n",
              "3  klez the virus that won t die already the most...      0\n",
              "4   in adding cream to spaghetti carbonara which ...      0"
            ]
          },
          "execution_count": 24,
          "metadata": {},
          "output_type": "execute_result"
        }
      ],
      "source": [
        "# откройте данные: ваш код здесь\n",
        "data = pd.read_csv('C:\\скил\\DST-156\\IDE_NEW\\MATH&ML-7. Теория вероятностей в контексте наивного байесовского классификатора/spam_or_not_spam.csv')\n",
        "data.head()\n",
        "#data.info()"
      ]
    },
    {
      "cell_type": "code",
      "execution_count": 25,
      "id": "f4231781",
      "metadata": {
        "id": "f4231781"
      },
      "outputs": [
        {
          "name": "stdout",
          "output_type": "stream",
          "text": [
            "spam 500\n",
            "ham 2500\n"
          ]
        }
      ],
      "source": [
        "# рассчитайте частоты для классов : ваш код здесь\n",
        "print('spam', data[data['label'] == 1]['label'].count())\n",
        "print('ham', data[data['label'] == 0]['label'].count())"
      ]
    },
    {
      "cell_type": "code",
      "execution_count": 26,
      "id": "9b871636",
      "metadata": {
        "id": "9b871636"
      },
      "outputs": [
        {
          "data": {
            "image/png": "[encoded data removed]",
            "text/plain": [
              "<Figure size 640x480 with 1 Axes>"
            ]
          },
          "metadata": {},
          "output_type": "display_data"
        }
      ],
      "source": [
        "# визуализируйте результат: ваш код здесь\n",
        "sns.countplot(data=data, x='label');"
      ]
    },
    {
      "cell_type": "markdown",
      "id": "b161614b",
      "metadata": {
        "id": "b161614b"
      },
      "source": [
        "## Задание 2 (2 балла)"
      ]
    },
    {
      "cell_type": "markdown",
      "id": "dd29763b",
      "metadata": {
        "id": "dd29763b"
      },
      "source": [
        "Вам необходимо предобработать ваши данные и перевести их в векторный вид. Подгрузим необходимый модуль:"
      ]
    },
    {
      "cell_type": "code",
      "execution_count": 27,
      "id": "382eac9c",
      "metadata": {
        "id": "382eac9c"
      },
      "outputs": [],
      "source": [
        "from sklearn.feature_extraction.text import CountVectorizer"
      ]
    },
    {
      "cell_type": "markdown",
      "id": "89546b95",
      "metadata": {
        "id": "89546b95"
      },
      "source": [
        "Замените в данных все пустые строки и строки, состоящие из пробелов, на пропуски (NaN). После этого удалите из данных все строки, в которых наблюдаются пропущенные значения."
      ]
    },
    {
      "cell_type": "code",
      "execution_count": 28,
      "id": "45180f82",
      "metadata": {
        "id": "45180f82"
      },
      "outputs": [
        {
          "name": "stdout",
          "output_type": "stream",
          "text": [
            "<class 'pandas.core.frame.DataFrame'>\n",
            "Index: 2999 entries, 0 to 2999\n",
            "Data columns (total 2 columns):\n",
            " #   Column  Non-Null Count  Dtype \n",
            "---  ------  --------------  ----- \n",
            " 0   email   2999 non-null   object\n",
            " 1   label   2999 non-null   int64 \n",
            "dtypes: int64(1), object(1)\n",
            "memory usage: 70.3+ KB\n",
            "None\n"
          ]
        }
      ],
      "source": [
        "#ваш код здесь\n",
        "data = data.fillna(np.nan)\n",
        "data = data.dropna()\n",
        "\n",
        "print(data.info())"
      ]
    },
    {
      "cell_type": "markdown",
      "id": "2ca2fe88",
      "metadata": {
        "id": "2ca2fe88"
      },
      "source": [
        "Переводим данные в векторный вид:"
      ]
    },
    {
      "cell_type": "code",
      "execution_count": 29,
      "id": "29e9a37b",
      "metadata": {
        "id": "29e9a37b"
      },
      "outputs": [
        {
          "data": {
            "text/plain": [
              "<2999x34116 sparse matrix of type '<class 'numpy.int64'>'\n",
              "\twith 348376 stored elements in Compressed Sparse Row format>"
            ]
          },
          "execution_count": 29,
          "metadata": {},
          "output_type": "execute_result"
        }
      ],
      "source": [
        "vectorizer = CountVectorizer()\n",
        "X = vectorizer.fit_transform(data[\"email\"])\n",
        "X"
      ]
    },
    {
      "cell_type": "markdown",
      "id": "88c8b726",
      "metadata": {
        "id": "88c8b726"
      },
      "source": [
        "Определите, сколько теперь признаков в нашем наборе данных:"
      ]
    },
    {
      "cell_type": "code",
      "execution_count": 41,
      "id": "f19c2a02",
      "metadata": {
        "id": "f19c2a02"
      },
      "outputs": [
        {
          "name": "stdout",
          "output_type": "stream",
          "text": [
            "Количество признаков после преобразования данных в векторный вид 34116\n"
          ]
        }
      ],
      "source": [
        "#ваш код здесь\n",
        "#X.shape\n",
        "print('Количество признаков после преобразования данных в векторный вид', X.shape[1])"
      ]
    },
    {
      "cell_type": "markdown",
      "id": "1803f282",
      "metadata": {
        "id": "1803f282"
      },
      "source": [
        "## Задание 3 (2 балла)"
      ]
    },
    {
      "cell_type": "markdown",
      "id": "39f400b7",
      "metadata": {
        "id": "39f400b7"
      },
      "source": [
        "Определите целевую переменную и признаки:"
      ]
    },
    {
      "cell_type": "code",
      "execution_count": 31,
      "id": "31f1acb6",
      "metadata": {
        "id": "31f1acb6"
      },
      "outputs": [],
      "source": [
        "#ваш код здесь\n",
        "from sklearn import model_selection\n",
        "y = data['label']\n"
      ]
    },
    {
      "cell_type": "markdown",
      "id": "b20f273e",
      "metadata": {
        "id": "b20f273e"
      },
      "source": [
        "Разделите выборку на обучающую и тестовую, используя стратифицированное разбиение (параметр `stratify` установите в значение вектора ответов y) размер тестовой выборки (`test_size`) возьмите как 0.25, параметр `random_state` определите со значением 42:"
      ]
    },
    {
      "cell_type": "code",
      "execution_count": 32,
      "id": "96538fb6",
      "metadata": {
        "id": "96538fb6"
      },
      "outputs": [],
      "source": [
        "#ваш код здесь\n",
        "from sklearn.model_selection import train_test_split\n",
        "X_train, X_test, y_train, y_test = model_selection.train_test_split(X, y, stratify=y, test_size=0.25, random_state=42) # среднее значение целевой переменной на тестовой выборке получается 0,167, а в ответе 0,165\n",
        "#X_train, X_test, y_train, y_test = model_selection.train_test_split(X, y, test_size=0.25, random_state=42) ## среднее значение целевой переменной на тестовой выборке получается 0,164, а в ответе 0,165"
      ]
    },
    {
      "cell_type": "markdown",
      "id": "139dac3d",
      "metadata": {
        "id": "139dac3d"
      },
      "source": [
        "Рассчитайте среднее значение целевой переменной по тестовой выборке:"
      ]
    },
    {
      "cell_type": "code",
      "execution_count": 33,
      "id": "e9baf72d",
      "metadata": {
        "id": "e9baf72d"
      },
      "outputs": [
        {
          "name": "stdout",
          "output_type": "stream",
          "text": [
            "Среднее значение целевой переменной по тестовой выборке 0.167\n"
          ]
        }
      ],
      "source": [
        "#ваш код здесь\n",
        "print('Среднее значение целевой переменной по тестовой выборке', round(y_test.mean(),3))"
      ]
    },
    {
      "cell_type": "markdown",
      "id": "710e0e94",
      "metadata": {
        "id": "710e0e94"
      },
      "source": [
        "## Задание 4 (3 балла)"
      ]
    },
    {
      "cell_type": "markdown",
      "id": "26cf6885",
      "metadata": {
        "id": "26cf6885"
      },
      "source": [
        "Определите и обучите подходящий алгоритм с параметром alpha = 0.01"
      ]
    },
    {
      "cell_type": "code",
      "execution_count": 34,
      "id": "4865dd78",
      "metadata": {
        "id": "4865dd78"
      },
      "outputs": [],
      "source": [
        "#ваш код здесь\n",
        "from sklearn.naive_bayes import MultinomialNB\n",
        "multinomial_nb = MultinomialNB(alpha=0.01)\n",
        "multinomial_nb.fit(X_train, y_train)\n",
        "y_test_pred_MultinomialNB = multinomial_nb.predict(X_test)"
      ]
    },
    {
      "cell_type": "code",
      "execution_count": 35,
      "id": "d7c85630",
      "metadata": {},
      "outputs": [],
      "source": [
        "from sklearn.naive_bayes import ComplementNB\n",
        "complement_nb = ComplementNB(alpha=0.01)\n",
        "complement_nb.fit(X_train, y_train)\n",
        "y_test_pred_ComplementNB = complement_nb.predict(X_test)"
      ]
    },
    {
      "cell_type": "markdown",
      "id": "d803fbe3",
      "metadata": {
        "id": "d803fbe3"
      },
      "source": [
        "Оцените результат с точки зрения всех известных вам метрик (не менее трёх):"
      ]
    },
    {
      "cell_type": "code",
      "execution_count": 36,
      "id": "b0bbc4d2",
      "metadata": {
        "id": "b0bbc4d2"
      },
      "outputs": [
        {
          "name": "stdout",
          "output_type": "stream",
          "text": [
            "Accuracy на тестовой выборке (Multinomial) 0.988\n",
            "Precision на тестовой выборке (Multinomial) 0.992\n",
            "Recall на тестовой выборке (Multinomial) 0.936\n",
            "F1-score на тестовой выборке (Multinomial) 0.963\n",
            "Accuracy на тестовой выборке (ComplementNB) 0.989\n",
            "Precision на тестовой выборке (ComplementNB) 0.992\n",
            "Recall на тестовой выборке (ComplementNB) 0.944\n",
            "F1-score на тестовой выборке (ComplementNB) 0.967\n"
          ]
        }
      ],
      "source": [
        "#ваш код здесь\n",
        "from sklearn import metrics\n",
        "#Метрики для метода MultinomialNB\n",
        "print('Accuracy на тестовой выборке (Multinomial)', round(metrics.accuracy_score(y_test, y_test_pred_MultinomialNB), 3))\n",
        "print('Precision на тестовой выборке (Multinomial)', round(metrics.precision_score(y_test, y_test_pred_MultinomialNB), 3))\n",
        "print('Recall на тестовой выборке (Multinomial)', round(metrics.recall_score(y_test, y_test_pred_MultinomialNB), 3))\n",
        "print('F1-score на тестовой выборке (Multinomial)', round(metrics.f1_score(y_test, y_test_pred_MultinomialNB), 3))\n",
        "\n",
        "#Метрики для метода ComplementNB\n",
        "print('Accuracy на тестовой выборке (ComplementNB)', round(metrics.accuracy_score(y_test, y_test_pred_ComplementNB), 3))\n",
        "print('Precision на тестовой выборке (ComplementNB)', round(metrics.precision_score(y_test, y_test_pred_ComplementNB), 3))\n",
        "print('Recall на тестовой выборке (ComplementNB)', round(metrics.recall_score(y_test, y_test_pred_ComplementNB), 3))\n",
        "print('F1-score на тестовой выборке (ComplementNB)', round(metrics.f1_score(y_test, y_test_pred_ComplementNB), 3))"
      ]
    },
    {
      "cell_type": "code",
      "execution_count": 37,
      "id": "68ab9079",
      "metadata": {},
      "outputs": [
        {
          "name": "stdout",
          "output_type": "stream",
          "text": [
            "              precision    recall  f1-score   support\n",
            "\n",
            "           0       0.99      1.00      0.99       625\n",
            "           1       0.99      0.94      0.97       125\n",
            "\n",
            "    accuracy                           0.99       750\n",
            "   macro avg       0.99      0.97      0.98       750\n",
            "weighted avg       0.99      0.99      0.99       750\n",
            "\n"
          ]
        },
        {
          "data": {
            "image/png": "[encoded data removed]",
            "text/plain": [
              "<Figure size 640x480 with 2 Axes>"
            ]
          },
          "metadata": {},
          "output_type": "display_data"
        }
      ],
      "source": [
        "from sklearn.metrics import confusion_matrix, classification_report\n",
        "import seaborn as sns\n",
        "cm_ComplementNB = confusion_matrix(y_test, y_test_pred_ComplementNB)\n",
        "sns.heatmap(cm_ComplementNB, annot=True, fmt='', cmap='Blues')\n",
        "print(classification_report(y_test, y_test_pred_ComplementNB))"
      ]
    },
    {
      "cell_type": "code",
      "execution_count": 38,
      "id": "51495d5d",
      "metadata": {},
      "outputs": [
        {
          "name": "stdout",
          "output_type": "stream",
          "text": [
            "              precision    recall  f1-score   support\n",
            "\n",
            "           0       0.99      1.00      0.99       625\n",
            "           1       0.99      0.94      0.96       125\n",
            "\n",
            "    accuracy                           0.99       750\n",
            "   macro avg       0.99      0.97      0.98       750\n",
            "weighted avg       0.99      0.99      0.99       750\n",
            "\n"
          ]
        },
        {
          "data": {
            "image/png": "[encoded data removed]",
            "text/plain": [
              "<Figure size 640x480 with 2 Axes>"
            ]
          },
          "metadata": {},
          "output_type": "display_data"
        }
      ],
      "source": [
        "from sklearn.metrics import confusion_matrix, classification_report\n",
        "import seaborn as sns\n",
        "cm_MultinomialNB = confusion_matrix(y_test, y_test_pred_MultinomialNB)\n",
        "sns.heatmap(cm_MultinomialNB, annot=True, fmt='', cmap='Blues')\n",
        "print(classification_report(y_test, y_test_pred_MultinomialNB))"
      ]
    },
    {
      "cell_type": "markdown",
      "id": "c85976d1",
      "metadata": {
        "id": "c85976d1"
      },
      "source": [
        "Нарисуйте ROC-кривую:"
      ]
    },
    {
      "cell_type": "code",
      "execution_count": 42,
      "id": "73433d29",
      "metadata": {},
      "outputs": [
        {
          "ename": "NameError",
          "evalue": "name 'plt' is not defined",
          "output_type": "error",
          "traceback": [
            "\u001b[1;31m---------------------------------------------------------------------------\u001b[0m",
            "\u001b[1;31mNameError\u001b[0m                                 Traceback (most recent call last)",
            "Cell \u001b[1;32mIn[42], line 5\u001b[0m\n\u001b[0;32m      2\u001b[0m fpr, tpr, _ \u001b[38;5;241m=\u001b[39m metrics\u001b[38;5;241m.\u001b[39mroc_curve(y_test,  y_test_pred_ComplementNB)\n\u001b[0;32m      3\u001b[0m auc \u001b[38;5;241m=\u001b[39m metrics\u001b[38;5;241m.\u001b[39mroc_auc_score(y_test, y_test_pred_ComplementNB)\n\u001b[1;32m----> 5\u001b[0m \u001b[43mplt\u001b[49m\u001b[38;5;241m.\u001b[39mplot(fpr,tpr,label\u001b[38;5;241m=\u001b[39m\u001b[38;5;124m\"\u001b[39m\u001b[38;5;124mAUC=\u001b[39m\u001b[38;5;124m\"\u001b[39m\u001b[38;5;241m+\u001b[39m\u001b[38;5;28mstr\u001b[39m(auc))\n\u001b[0;32m      6\u001b[0m plt\u001b[38;5;241m.\u001b[39mylabel(\u001b[38;5;124m'\u001b[39m\u001b[38;5;124mTrue Positive Rate\u001b[39m\u001b[38;5;124m'\u001b[39m)\n\u001b[0;32m      7\u001b[0m plt\u001b[38;5;241m.\u001b[39mxlabel(\u001b[38;5;124m'\u001b[39m\u001b[38;5;124mFalse Positive Rate\u001b[39m\u001b[38;5;124m'\u001b[39m)\n",
            "\u001b[1;31mNameError\u001b[0m: name 'plt' is not defined"
          ]
        }
      ],
      "source": [
        "from sklearn import metrics\n",
        "fpr, tpr, _ = metrics.roc_curve(y_test,  y_test_pred_ComplementNB)\n",
        "auc = metrics.roc_auc_score(y_test, y_test_pred_ComplementNB)\n",
        "\n",
        "plt.plot(fpr,tpr,label=\"AUC=\"+str(auc))\n",
        "plt.ylabel('True Positive Rate')\n",
        "plt.xlabel('False Positive Rate')\n",
        "plt.legend(loc=4)\n",
        "plt.show()"
      ]
    },
    {
      "cell_type": "code",
      "execution_count": 435,
      "id": "fa8bd1a5",
      "metadata": {},
      "outputs": [
        {
          "data": {
            "image/png": "[encoded data removed]",
            "text/plain": [
              "<Figure size 640x480 with 1 Axes>"
            ]
          },
          "metadata": {},
          "output_type": "display_data"
        }
      ],
      "source": [
        "from sklearn import metrics\n",
        "fpr, tpr, _ = metrics.roc_curve(y_test,  y_test_pred_MultinomialNB)\n",
        "auc = metrics.roc_auc_score(y_test, y_test_pred_MultinomialNB)\n",
        "\n",
        "plt.plot(fpr,tpr,label=\"AUC=\"+str(auc))\n",
        "plt.ylabel('True Positive Rate')\n",
        "plt.xlabel('False Positive Rate')\n",
        "plt.legend(loc=4)\n",
        "plt.show()"
      ]
    },
    {
      "cell_type": "markdown",
      "id": "cf0bb49b",
      "metadata": {
        "id": "cf0bb49b"
      },
      "source": [
        "## Задание 5 (3 балла)"
      ]
    },
    {
      "cell_type": "markdown",
      "id": "30b7a0ae",
      "metadata": {
        "id": "30b7a0ae"
      },
      "source": [
        "Переберите несколько значений alpha с помощью кросс-валидации. Оцените, зависит ли от этого параметра качество классификации."
      ]
    },
    {
      "cell_type": "code",
      "execution_count": 436,
      "id": "3513d907",
      "metadata": {
        "id": "3513d907"
      },
      "outputs": [
        {
          "name": "stdout",
          "output_type": "stream",
          "text": [
            "Наилучшие значения параметров (ComplementNB): {'alpha': 0.04}\n",
            "F1-score на тестовой выборке (ComplementNB) 0.9838709677419355\n"
          ]
        },
        {
          "data": {
            "image/png": "[encoded data removed]",
            "text/plain": [
              "<Figure size 1000x500 with 1 Axes>"
            ]
          },
          "metadata": {},
          "output_type": "display_data"
        }
      ],
      "source": [
        "#ваш код здесь\n",
        "from sklearn.model_selection import GridSearchCV\n",
        "\n",
        "param_grid = {'alpha': list(np.linspace(0.001, 1, 1000, dtype=float)) }\n",
        "\n",
        "grid_search = GridSearchCV(\n",
        "    estimator=ComplementNB(),\n",
        "    param_grid=param_grid,\n",
        "    cv=5,\n",
        "    n_jobs = -1\n",
        ")\n",
        "grid_search.fit(X_train, y_train)\n",
        "print(\"Наилучшие значения параметров (ComplementNB): {}\".format(grid_search.best_params_))\n",
        "\n",
        "y_test_pred = grid_search.predict(X_test)\n",
        "y_test_pred_proba = grid_search.predict_proba(X_test)\n",
        "print('F1-score на тестовой выборке (ComplementNB)', metrics.f1_score(y_test, y_test_pred))\n",
        "\n",
        "fig, ax = plt.subplots(figsize=(10, 5))\n",
        "sns.lineplot(x=param_grid['alpha'], y=grid_search.cv_results_['mean_test_score'])\n",
        "ax.set_xlabel('alpha')\n",
        "ax.set_ylabel('mean_test_score')\n",
        "ax.grid()"
      ]
    },
    {
      "cell_type": "code",
      "execution_count": 437,
      "id": "a6430286",
      "metadata": {},
      "outputs": [
        {
          "name": "stdout",
          "output_type": "stream",
          "text": [
            "Наилучшие значения параметров (MultinomialNB): {'alpha': 0.041}\n",
            "F1-score на тестовой выборке (MultinomialNB) 0.979757085020243\n"
          ]
        },
        {
          "data": {
            "image/png": "[encoded data removed]",
            "text/plain": [
              "<Figure size 1000x500 with 1 Axes>"
            ]
          },
          "metadata": {},
          "output_type": "display_data"
        }
      ],
      "source": [
        "grid_search = GridSearchCV(\n",
        "    estimator=MultinomialNB(),\n",
        "    param_grid=param_grid,\n",
        "    cv=5,\n",
        "    n_jobs = -1\n",
        ")\n",
        "grid_search.fit(X_train, y_train)\n",
        "print(\"Наилучшие значения параметров (MultinomialNB): {}\".format(grid_search.best_params_))\n",
        "\n",
        "y_test_pred = grid_search.predict(X_test)\n",
        "y_test_pred_proba = grid_search.predict_proba(X_test)\n",
        "print('F1-score на тестовой выборке (MultinomialNB)', metrics.f1_score(y_test, y_test_pred))\n",
        "\n",
        "fig, ax = plt.subplots(figsize=(10, 5))\n",
        "sns.lineplot(x=param_grid['alpha'], y=grid_search.cv_results_['mean_test_score'])\n",
        "ax.set_xlabel('alpha')\n",
        "ax.set_ylabel('mean_test_score')\n",
        "ax.grid()"
      ]
    }
  ],
  "metadata": {
    "colab": {
      "name": "SGA_unit6_NBC.ipynb",
      "provenance": []
    },
    "kernelspec": {
      "display_name": "Python 3 (ipykernel)",
      "language": "python",
      "name": "python3"
    },
    "language_info": {
      "codemirror_mode": {
        "name": "ipython",
        "version": 3
      },
      "file_extension": ".py",
      "mimetype": "text/x-python",
      "name": "python",
      "nbconvert_exporter": "python",
      "pygments_lexer": "ipython3",
      "version": "3.11.9"
    }
  },
  "nbformat": 4,
  "nbformat_minor": 5
}
