{
  "cells": [
    {
      "cell_type": "markdown",
      "metadata": {
        "id": "5QfJvqqOM0jq"
      },
      "source": [
        "# **Семинар 4. Группировка**"
      ]
    },
    {
      "cell_type": "code",
      "execution_count": 23,
      "metadata": {
        "colab": {
          "base_uri": "https://localhost:8080/",
          "height": 206
        },
        "id": "rNsFoClWM3TL",
        "outputId": "1a7d0740-3a2b-44a5-dc9f-865e128c25d7"
      },
      "outputs": [
        {
          "data": {
            "text/html": [
              "<div>\n",
              "<style scoped>\n",
              "    .dataframe tbody tr th:only-of-type {\n",
              "        vertical-align: middle;\n",
              "    }\n",
              "\n",
              "    .dataframe tbody tr th {\n",
              "        vertical-align: top;\n",
              "    }\n",
              "\n",
              "    .dataframe thead th {\n",
              "        text-align: right;\n",
              "    }\n",
              "</style>\n",
              "<table border=\"1\" class=\"dataframe\">\n",
              "  <thead>\n",
              "    <tr style=\"text-align: right;\">\n",
              "      <th></th>\n",
              "      <th>PassengerId</th>\n",
              "      <th>Survived</th>\n",
              "      <th>Pclass</th>\n",
              "      <th>Name</th>\n",
              "      <th>Sex</th>\n",
              "      <th>Age</th>\n",
              "      <th>SibSp</th>\n",
              "      <th>Parch</th>\n",
              "      <th>Ticket</th>\n",
              "      <th>Fare</th>\n",
              "      <th>Cabin</th>\n",
              "      <th>Embarked</th>\n",
              "    </tr>\n",
              "  </thead>\n",
              "  <tbody>\n",
              "    <tr>\n",
              "      <th>0</th>\n",
              "      <td>1</td>\n",
              "      <td>0</td>\n",
              "      <td>3</td>\n",
              "      <td>Braund, Mr. Owen Harris</td>\n",
              "      <td>male</td>\n",
              "      <td>22.0</td>\n",
              "      <td>1</td>\n",
              "      <td>0</td>\n",
              "      <td>A/5 21171</td>\n",
              "      <td>7.2500</td>\n",
              "      <td>NaN</td>\n",
              "      <td>S</td>\n",
              "    </tr>\n",
              "    <tr>\n",
              "      <th>1</th>\n",
              "      <td>2</td>\n",
              "      <td>1</td>\n",
              "      <td>1</td>\n",
              "      <td>Cumings, Mrs. John Bradley (Florence Briggs Th...</td>\n",
              "      <td>female</td>\n",
              "      <td>38.0</td>\n",
              "      <td>1</td>\n",
              "      <td>0</td>\n",
              "      <td>PC 17599</td>\n",
              "      <td>71.2833</td>\n",
              "      <td>C85</td>\n",
              "      <td>C</td>\n",
              "    </tr>\n",
              "    <tr>\n",
              "      <th>2</th>\n",
              "      <td>3</td>\n",
              "      <td>1</td>\n",
              "      <td>3</td>\n",
              "      <td>Heikkinen, Miss. Laina</td>\n",
              "      <td>female</td>\n",
              "      <td>26.0</td>\n",
              "      <td>0</td>\n",
              "      <td>0</td>\n",
              "      <td>STON/O2. 3101282</td>\n",
              "      <td>7.9250</td>\n",
              "      <td>NaN</td>\n",
              "      <td>S</td>\n",
              "    </tr>\n",
              "    <tr>\n",
              "      <th>3</th>\n",
              "      <td>4</td>\n",
              "      <td>1</td>\n",
              "      <td>1</td>\n",
              "      <td>Futrelle, Mrs. Jacques Heath (Lily May Peel)</td>\n",
              "      <td>female</td>\n",
              "      <td>35.0</td>\n",
              "      <td>1</td>\n",
              "      <td>0</td>\n",
              "      <td>113803</td>\n",
              "      <td>53.1000</td>\n",
              "      <td>C123</td>\n",
              "      <td>S</td>\n",
              "    </tr>\n",
              "    <tr>\n",
              "      <th>4</th>\n",
              "      <td>5</td>\n",
              "      <td>0</td>\n",
              "      <td>3</td>\n",
              "      <td>Allen, Mr. William Henry</td>\n",
              "      <td>male</td>\n",
              "      <td>35.0</td>\n",
              "      <td>0</td>\n",
              "      <td>0</td>\n",
              "      <td>373450</td>\n",
              "      <td>8.0500</td>\n",
              "      <td>NaN</td>\n",
              "      <td>S</td>\n",
              "    </tr>\n",
              "  </tbody>\n",
              "</table>\n",
              "</div>"
            ],
            "text/plain": [
              "   PassengerId  Survived  Pclass  \\\n",
              "0            1         0       3   \n",
              "1            2         1       1   \n",
              "2            3         1       3   \n",
              "3            4         1       1   \n",
              "4            5         0       3   \n",
              "\n",
              "                                                Name     Sex   Age  SibSp  \\\n",
              "0                            Braund, Mr. Owen Harris    male  22.0      1   \n",
              "1  Cumings, Mrs. John Bradley (Florence Briggs Th...  female  38.0      1   \n",
              "2                             Heikkinen, Miss. Laina  female  26.0      0   \n",
              "3       Futrelle, Mrs. Jacques Heath (Lily May Peel)  female  35.0      1   \n",
              "4                           Allen, Mr. William Henry    male  35.0      0   \n",
              "\n",
              "   Parch            Ticket     Fare Cabin Embarked  \n",
              "0      0         A/5 21171   7.2500   NaN        S  \n",
              "1      0          PC 17599  71.2833   C85        C  \n",
              "2      0  STON/O2. 3101282   7.9250   NaN        S  \n",
              "3      0            113803  53.1000  C123        S  \n",
              "4      0            373450   8.0500   NaN        S  "
            ]
          },
          "execution_count": 23,
          "metadata": {},
          "output_type": "execute_result"
        }
      ],
      "source": [
        "import pandas as pd\n",
        "import numpy as np\n",
        "\n",
        "df = pd.read_csv('https://raw.githubusercontent.com/aaparshina/FCI_22-23_data_analysis/main/data/titanic.csv')\n",
        "df.head()"
      ]
    },
    {
      "cell_type": "markdown",
      "metadata": {
        "id": "7a336fb3"
      },
      "source": [
        "## **Методы агрегирования данных**"
      ]
    },
    {
      "cell_type": "markdown",
      "metadata": {
        "id": "6c6766b6"
      },
      "source": [
        "**Функция агрегирования** - это метод, который принимает несколько отдельных значений и возвращает сводные данные."
      ]
    },
    {
      "cell_type": "markdown",
      "metadata": {
        "id": "017c15e6"
      },
      "source": [
        "### `.mean()`"
      ]
    },
    {
      "cell_type": "code",
      "execution_count": 24,
      "metadata": {
        "colab": {
          "base_uri": "https://localhost:8080/"
        },
        "id": "4ad7d717",
        "outputId": "0e20bb29-c247-444e-8bcc-e50ff8d3a0f7"
      },
      "outputs": [
        {
          "data": {
            "text/plain": [
              "np.float64(32.204207968574636)"
            ]
          },
          "execution_count": 24,
          "metadata": {},
          "output_type": "execute_result"
        }
      ],
      "source": [
        "df['Fare'].mean() #среднее"
      ]
    },
    {
      "cell_type": "markdown",
      "metadata": {
        "id": "f069583e"
      },
      "source": [
        "### `.sum()`"
      ]
    },
    {
      "cell_type": "code",
      "execution_count": 25,
      "metadata": {
        "colab": {
          "base_uri": "https://localhost:8080/"
        },
        "id": "51501079",
        "outputId": "c3651523-6aff-49b9-d845-4c8596235b63"
      },
      "outputs": [
        {
          "data": {
            "text/plain": [
              "np.float64(28693.9493)"
            ]
          },
          "execution_count": 25,
          "metadata": {},
          "output_type": "execute_result"
        }
      ],
      "source": [
        "df['Fare'].sum() #сумма"
      ]
    },
    {
      "cell_type": "markdown",
      "metadata": {
        "id": "d43af7d0"
      },
      "source": [
        "### `.min()` and `.max()`"
      ]
    },
    {
      "cell_type": "code",
      "execution_count": 26,
      "metadata": {
        "colab": {
          "base_uri": "https://localhost:8080/"
        },
        "id": "4d7061b8",
        "outputId": "9549fb89-6c81-4d98-e1a9-0002843f2511"
      },
      "outputs": [
        {
          "data": {
            "text/plain": [
              "np.float64(0.0)"
            ]
          },
          "execution_count": 26,
          "metadata": {},
          "output_type": "execute_result"
        }
      ],
      "source": [
        "df['Fare'].min()"
      ]
    },
    {
      "cell_type": "code",
      "execution_count": 27,
      "metadata": {
        "colab": {
          "base_uri": "https://localhost:8080/"
        },
        "id": "71980495",
        "outputId": "10b9a90a-f40f-46ad-b56c-ad542424cec2"
      },
      "outputs": [
        {
          "data": {
            "text/plain": [
              "np.float64(512.3292)"
            ]
          },
          "execution_count": 27,
          "metadata": {},
          "output_type": "execute_result"
        }
      ],
      "source": [
        "df['Fare'].max()"
      ]
    },
    {
      "cell_type": "markdown",
      "metadata": {
        "id": "9810be78"
      },
      "source": [
        "### `.count()`"
      ]
    },
    {
      "cell_type": "code",
      "execution_count": 28,
      "metadata": {
        "colab": {
          "base_uri": "https://localhost:8080/"
        },
        "id": "3f8d643e",
        "outputId": "8acfab62-7a26-4790-9203-cac6aafb04bf"
      },
      "outputs": [
        {
          "data": {
            "text/plain": [
              "np.int64(204)"
            ]
          },
          "execution_count": 28,
          "metadata": {},
          "output_type": "execute_result"
        }
      ],
      "source": [
        "df['Cabin'].count() #количество не пропущенных значения в столбце"
      ]
    },
    {
      "cell_type": "markdown",
      "metadata": {
        "id": "bFYnBSZKnb7f"
      },
      "source": [
        "### `.unique()`"
      ]
    },
    {
      "cell_type": "code",
      "execution_count": 29,
      "metadata": {
        "colab": {
          "base_uri": "https://localhost:8080/"
        },
        "id": "ELssm1FDnPqN",
        "outputId": "97eb04f1-1bb2-4b51-c9d3-fd9351523f3f"
      },
      "outputs": [
        {
          "data": {
            "text/plain": [
              "array([3, 1, 2])"
            ]
          },
          "execution_count": 29,
          "metadata": {},
          "output_type": "execute_result"
        }
      ],
      "source": [
        "df['Pclass'].unique() #массив уникальных значений из столбца"
      ]
    },
    {
      "cell_type": "markdown",
      "metadata": {
        "id": "7dI9vBweOFGA"
      },
      "source": [
        "### `.nunique()`"
      ]
    },
    {
      "cell_type": "code",
      "execution_count": 30,
      "metadata": {
        "colab": {
          "base_uri": "https://localhost:8080/"
        },
        "id": "7K5wD89-ODTV",
        "outputId": "c802cd4b-dec8-4808-8463-c4d1ee56d615"
      },
      "outputs": [
        {
          "data": {
            "text/plain": [
              "3"
            ]
          },
          "execution_count": 30,
          "metadata": {},
          "output_type": "execute_result"
        }
      ],
      "source": [
        "df['Pclass'].nunique() #количество уникальных значений в столбце"
      ]
    },
    {
      "cell_type": "code",
      "execution_count": 31,
      "metadata": {
        "id": "Th-uhkVUqysd"
      },
      "outputs": [
        {
          "data": {
            "text/plain": [
              "4"
            ]
          },
          "execution_count": 31,
          "metadata": {},
          "output_type": "execute_result"
        }
      ],
      "source": [
        "#Cabin\n",
        "#123\n",
        "#234\n",
        "#123\n",
        "##123\n",
        "#456\n",
        "#111\n",
        "\n",
        "#array([123, 234, 456, 111])\n",
        "4"
      ]
    },
    {
      "cell_type": "markdown",
      "metadata": {
        "id": "2DO9mFddOjf0"
      },
      "source": [
        "## **Группировка данных** `.groupby()`"
      ]
    },
    {
      "cell_type": "markdown",
      "metadata": {
        "id": "EBfY5y2hOxWy"
      },
      "source": [
        "### Простейшая группировка\n"
      ]
    },
    {
      "cell_type": "markdown",
      "metadata": {
        "id": "ZaUsJdDQO2-q"
      },
      "source": [
        "``` python\n",
        "датафрейм.groupby(\"столбец группировки\")[\"столбец интереса\"].метод агрегирования()\n",
        "```"
      ]
    },
    {
      "cell_type": "markdown",
      "metadata": {
        "id": "ZFD0G_xnQ36B"
      },
      "source": [
        "Столбец группировки:\n",
        "- Категориальные переменные\n",
        "\n",
        "Столбец интереса:\n",
        "- Количественные переменные\n",
        "- Категориальные переменные"
      ]
    },
    {
      "cell_type": "markdown",
      "metadata": {
        "id": "TBup21kfPIHD"
      },
      "source": [
        "Найдем среднюю цену за билет в разных портах:"
      ]
    },
    {
      "cell_type": "code",
      "execution_count": 32,
      "metadata": {
        "colab": {
          "base_uri": "https://localhost:8080/"
        },
        "id": "wrS7kxyfOfVR",
        "outputId": "9efb777d-00f1-42ba-f0c7-5b2dcdf5569a"
      },
      "outputs": [
        {
          "data": {
            "text/plain": [
              "Embarked\n",
              "C    59.954144\n",
              "Q    13.276030\n",
              "S    27.079812\n",
              "Name: Fare, dtype: float64"
            ]
          },
          "execution_count": 32,
          "metadata": {},
          "output_type": "execute_result"
        }
      ],
      "source": [
        "df.groupby(\"Embarked\")[\"Fare\"].mean()"
      ]
    },
    {
      "cell_type": "markdown",
      "metadata": {
        "id": "Gic8Zz6YPpL1"
      },
      "source": [
        "### Несколько столбцов интереса"
      ]
    },
    {
      "cell_type": "markdown",
      "metadata": {
        "id": "hN_dh8iVPpL2"
      },
      "source": [
        "``` python\n",
        "датафрейм.groupby(\"столбец группировки\")[[\"ст. интереса 1\", \"ст. интереса 2\", ...]].метод агрегирования()\n",
        "```"
      ]
    },
    {
      "cell_type": "markdown",
      "metadata": {
        "id": "K6jCPKbvPpL3"
      },
      "source": [
        "Найдем среднюю цену за билет и среднй возраст людей в разных портах:"
      ]
    },
    {
      "cell_type": "code",
      "execution_count": 33,
      "metadata": {
        "colab": {
          "base_uri": "https://localhost:8080/",
          "height": 175
        },
        "id": "oC0UmWdoPpL3",
        "outputId": "08fd95b9-9dd6-4aef-cc4c-d1b5c7c1efd4"
      },
      "outputs": [
        {
          "data": {
            "text/html": [
              "<div>\n",
              "<style scoped>\n",
              "    .dataframe tbody tr th:only-of-type {\n",
              "        vertical-align: middle;\n",
              "    }\n",
              "\n",
              "    .dataframe tbody tr th {\n",
              "        vertical-align: top;\n",
              "    }\n",
              "\n",
              "    .dataframe thead th {\n",
              "        text-align: right;\n",
              "    }\n",
              "</style>\n",
              "<table border=\"1\" class=\"dataframe\">\n",
              "  <thead>\n",
              "    <tr style=\"text-align: right;\">\n",
              "      <th></th>\n",
              "      <th>Fare</th>\n",
              "      <th>Age</th>\n",
              "    </tr>\n",
              "    <tr>\n",
              "      <th>Embarked</th>\n",
              "      <th></th>\n",
              "      <th></th>\n",
              "    </tr>\n",
              "  </thead>\n",
              "  <tbody>\n",
              "    <tr>\n",
              "      <th>C</th>\n",
              "      <td>59.954144</td>\n",
              "      <td>30.814769</td>\n",
              "    </tr>\n",
              "    <tr>\n",
              "      <th>Q</th>\n",
              "      <td>13.276030</td>\n",
              "      <td>28.089286</td>\n",
              "    </tr>\n",
              "    <tr>\n",
              "      <th>S</th>\n",
              "      <td>27.079812</td>\n",
              "      <td>29.445397</td>\n",
              "    </tr>\n",
              "  </tbody>\n",
              "</table>\n",
              "</div>"
            ],
            "text/plain": [
              "               Fare        Age\n",
              "Embarked                      \n",
              "C         59.954144  30.814769\n",
              "Q         13.276030  28.089286\n",
              "S         27.079812  29.445397"
            ]
          },
          "execution_count": 33,
          "metadata": {},
          "output_type": "execute_result"
        }
      ],
      "source": [
        "df.groupby('Embarked')[['Fare', 'Age']].mean()"
      ]
    },
    {
      "cell_type": "markdown",
      "metadata": {
        "id": "YcGttcCRSXe7"
      },
      "source": [
        "### Несколько методов агрегирования"
      ]
    },
    {
      "cell_type": "markdown",
      "metadata": {
        "id": "TU5uJclYAd_x"
      },
      "source": [
        "``` python\n",
        "датафрейм.groupby(\"ст. группировки\")[\"ст. интереса\"].agg([\"метод 1\", \"метод 2\", ...])\n",
        "```"
      ]
    },
    {
      "cell_type": "code",
      "execution_count": 34,
      "metadata": {
        "colab": {
          "base_uri": "https://localhost:8080/",
          "height": 175
        },
        "id": "ij4vU6TQRqQY",
        "outputId": "95dcb9b0-4b99-4870-f281-6ce82c827ac7"
      },
      "outputs": [
        {
          "data": {
            "text/html": [
              "<div>\n",
              "<style scoped>\n",
              "    .dataframe tbody tr th:only-of-type {\n",
              "        vertical-align: middle;\n",
              "    }\n",
              "\n",
              "    .dataframe tbody tr th {\n",
              "        vertical-align: top;\n",
              "    }\n",
              "\n",
              "    .dataframe thead th {\n",
              "        text-align: right;\n",
              "    }\n",
              "</style>\n",
              "<table border=\"1\" class=\"dataframe\">\n",
              "  <thead>\n",
              "    <tr style=\"text-align: right;\">\n",
              "      <th></th>\n",
              "      <th>mean</th>\n",
              "      <th>sum</th>\n",
              "    </tr>\n",
              "    <tr>\n",
              "      <th>Embarked</th>\n",
              "      <th></th>\n",
              "      <th></th>\n",
              "    </tr>\n",
              "  </thead>\n",
              "  <tbody>\n",
              "    <tr>\n",
              "      <th>C</th>\n",
              "      <td>59.954144</td>\n",
              "      <td>10072.2962</td>\n",
              "    </tr>\n",
              "    <tr>\n",
              "      <th>Q</th>\n",
              "      <td>13.276030</td>\n",
              "      <td>1022.2543</td>\n",
              "    </tr>\n",
              "    <tr>\n",
              "      <th>S</th>\n",
              "      <td>27.079812</td>\n",
              "      <td>17439.3988</td>\n",
              "    </tr>\n",
              "  </tbody>\n",
              "</table>\n",
              "</div>"
            ],
            "text/plain": [
              "               mean         sum\n",
              "Embarked                       \n",
              "C         59.954144  10072.2962\n",
              "Q         13.276030   1022.2543\n",
              "S         27.079812  17439.3988"
            ]
          },
          "execution_count": 34,
          "metadata": {},
          "output_type": "execute_result"
        }
      ],
      "source": [
        "df.groupby(\"Embarked\")[\"Fare\"].agg(['mean', 'sum'])"
      ]
    }
  ],
  "metadata": {
    "colab": {
      "provenance": []
    },
    "kernelspec": {
      "display_name": "Python 3",
      "name": "python3"
    },
    "language_info": {
      "codemirror_mode": {
        "name": "ipython",
        "version": 3
      },
      "file_extension": ".py",
      "mimetype": "text/x-python",
      "name": "python",
      "nbconvert_exporter": "python",
      "pygments_lexer": "ipython3",
      "version": "3.11.9"
    }
  },
  "nbformat": 4,
  "nbformat_minor": 0
}
