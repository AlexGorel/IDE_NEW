{
 "cells": [
  {
   "cell_type": "code",
   "execution_count": 43,
   "metadata": {},
   "outputs": [
    {
     "name": "stdout",
     "output_type": "stream",
     "text": [
      "2\n"
     ]
    }
   ],
   "source": [
    "a = int(input())\n",
    "a += 1\n",
    "a = int(input())\n",
    "a += 1\n",
    "a = int(input())\n",
    "a += 1\n",
    "print(a)"
   ]
  },
  {
   "cell_type": "code",
   "execution_count": 44,
   "metadata": {},
   "outputs": [],
   "source": [
    "my_list=list()\n",
    "my_list=[]"
   ]
  },
  {
   "cell_type": "code",
   "execution_count": 45,
   "metadata": {},
   "outputs": [
    {
     "name": "stdout",
     "output_type": "stream",
     "text": [
      "[]\n"
     ]
    }
   ],
   "source": [
    "empty_list=[]\n",
    "print(empty_list)"
   ]
  },
  {
   "cell_type": "code",
   "execution_count": 46,
   "metadata": {},
   "outputs": [
    {
     "name": "stdout",
     "output_type": "stream",
     "text": [
      "[1, 2, 3, 4, 5, 6, 7, 8, 9]\n"
     ]
    }
   ],
   "source": [
    "a = list(range(1, 10))\n",
    "print(a)"
   ]
  },
  {
   "cell_type": "code",
   "execution_count": 47,
   "metadata": {},
   "outputs": [
    {
     "name": "stdout",
     "output_type": "stream",
     "text": [
      "[]\n"
     ]
    }
   ],
   "source": [
    "a = list(range(0, 10, -1))\n",
    "print(a)"
   ]
  },
  {
   "cell_type": "code",
   "execution_count": 48,
   "metadata": {},
   "outputs": [
    {
     "data": {
      "text/plain": [
       "[-10,\n",
       " -9,\n",
       " -8,\n",
       " -7,\n",
       " -6,\n",
       " -5,\n",
       " -4,\n",
       " -3,\n",
       " -2,\n",
       " -1,\n",
       " 0,\n",
       " 1,\n",
       " 2,\n",
       " 3,\n",
       " 4,\n",
       " 5,\n",
       " 6,\n",
       " 7,\n",
       " 8,\n",
       " 9,\n",
       " 10,\n",
       " 11,\n",
       " 12,\n",
       " 13,\n",
       " 14,\n",
       " 15,\n",
       " 16,\n",
       " 17,\n",
       " 18,\n",
       " 19,\n",
       " 20,\n",
       " 21,\n",
       " 22,\n",
       " 23,\n",
       " 24,\n",
       " 25,\n",
       " 26,\n",
       " 27,\n",
       " 28,\n",
       " 29,\n",
       " 30,\n",
       " 31,\n",
       " 32,\n",
       " 33,\n",
       " 34,\n",
       " 35,\n",
       " 36,\n",
       " 37,\n",
       " 38,\n",
       " 39,\n",
       " 40,\n",
       " 41,\n",
       " 42,\n",
       " 43,\n",
       " 44,\n",
       " 45,\n",
       " 46,\n",
       " 47,\n",
       " 48,\n",
       " 49,\n",
       " 50,\n",
       " 51,\n",
       " 52,\n",
       " 53,\n",
       " 54,\n",
       " 55,\n",
       " 56,\n",
       " 57,\n",
       " 58,\n",
       " 59,\n",
       " 60,\n",
       " 61,\n",
       " 62,\n",
       " 63,\n",
       " 64,\n",
       " 65,\n",
       " 66,\n",
       " 67,\n",
       " 68,\n",
       " 69,\n",
       " 70,\n",
       " 71,\n",
       " 72,\n",
       " 73,\n",
       " 74,\n",
       " 75,\n",
       " 76,\n",
       " 77,\n",
       " 78,\n",
       " 79,\n",
       " 80,\n",
       " 81,\n",
       " 82,\n",
       " 83,\n",
       " 84,\n",
       " 85,\n",
       " 86,\n",
       " 87,\n",
       " 88,\n",
       " 89,\n",
       " 90,\n",
       " 91,\n",
       " 92,\n",
       " 93,\n",
       " 94,\n",
       " 95,\n",
       " 96,\n",
       " 97,\n",
       " 98,\n",
       " 99]"
      ]
     },
     "execution_count": 48,
     "metadata": {},
     "output_type": "execute_result"
    }
   ],
   "source": [
    "a=list(range(-10,100))\n",
    "a"
   ]
  },
  {
   "cell_type": "code",
   "execution_count": 49,
   "metadata": {},
   "outputs": [
    {
     "data": {
      "text/plain": [
       "'c'"
      ]
     },
     "execution_count": 49,
     "metadata": {},
     "output_type": "execute_result"
    }
   ],
   "source": [
    "a = [\"a\", \"b\", \"c\"]\n",
    "a[0] \n",
    "# получим первый элемент \"a\"\n",
    "a[2]  \n",
    "# получим третий (последний элемент) \"c\""
   ]
  },
  {
   "cell_type": "code",
   "execution_count": 50,
   "metadata": {},
   "outputs": [
    {
     "data": {
      "text/plain": [
       "['a', 'c']"
      ]
     },
     "execution_count": 50,
     "metadata": {},
     "output_type": "execute_result"
    }
   ],
   "source": [
    "a = [\"a\", \"b\", \"c\", \"d\", \"e\"]\n",
    "a[:2] \n",
    "# получим элементы [\"a\", \"b\"]\n",
    "a[2:4] \n",
    "# получим элементы [\"c\", \"d\"]\n",
    "a[0:4:2] \n",
    "# возьмём только элементы на чётных индексах (0, 2)"
   ]
  },
  {
   "cell_type": "code",
   "execution_count": 51,
   "metadata": {},
   "outputs": [
    {
     "data": {
      "text/plain": [
       "[1, 2]"
      ]
     },
     "execution_count": 51,
     "metadata": {},
     "output_type": "execute_result"
    }
   ],
   "source": [
    "a=list(range(1,11))\n",
    "a_slice=a[:2]\n",
    "a_slice"
   ]
  },
  {
   "cell_type": "code",
   "execution_count": 52,
   "metadata": {},
   "outputs": [
    {
     "data": {
      "text/plain": [
       "[-1, 0, 1, 2, 3]"
      ]
     },
     "execution_count": 52,
     "metadata": {},
     "output_type": "execute_result"
    }
   ],
   "source": [
    "a=list(range(-5,5))\n",
    "a[4:9]"
   ]
  },
  {
   "cell_type": "code",
   "execution_count": 13,
   "metadata": {},
   "outputs": [
    {
     "data": {
      "text/plain": [
       "[-5, -4, -3, -2, -1, 0, 1, 2, 3, 4]"
      ]
     },
     "execution_count": 13,
     "metadata": {},
     "output_type": "execute_result"
    }
   ],
   "source": [
    "a=list(range(-5,5))\n",
    "a[:]"
   ]
  },
  {
   "cell_type": "code",
   "execution_count": 53,
   "metadata": {},
   "outputs": [
    {
     "data": {
      "text/plain": [
       "[6, 5, 4, 3, 2, 1, 0, -1, -2, -3]"
      ]
     },
     "execution_count": 53,
     "metadata": {},
     "output_type": "execute_result"
    }
   ],
   "source": [
    "a=list(range(-3,7))\n",
    "a[::-1]"
   ]
  },
  {
   "cell_type": "code",
   "execution_count": 54,
   "metadata": {},
   "outputs": [
    {
     "data": {
      "text/plain": [
       "['hello', 'kitty']"
      ]
     },
     "execution_count": 54,
     "metadata": {},
     "output_type": "execute_result"
    }
   ],
   "source": [
    "a='hello kitty'\n",
    "a_split=a.split()\n",
    "a_split[:2]"
   ]
  },
  {
   "cell_type": "code",
   "execution_count": 55,
   "metadata": {},
   "outputs": [
    {
     "data": {
      "text/plain": [
       "['order1']"
      ]
     },
     "execution_count": 55,
     "metadata": {},
     "output_type": "execute_result"
    }
   ],
   "source": [
    "orders_daily=[]\n",
    "orders_daily\n",
    "orders_daily.append(\"order1\")\n",
    "orders_daily"
   ]
  },
  {
   "cell_type": "markdown",
   "metadata": {},
   "source": [
    "Задание 2.12\n",
    "\n",
    "Старайтесь выполнить задание самостоятельно. Но также у вас есть возможность увидеть решение, введя в поле ниже «хочу увидеть ответ» (без кавычек). В этом случае задание будет зачтено как выполненное некорректно.\n",
    "\n",
    "Создайте три переменные: a, b, c.\n",
    "Положите в них следующие строковые значения: 'order1', 'order2', 'order3'.\n",
    "Создайте пустой список orders, используя квадратные скобки.\n",
    "Последовательно положите все три созданные переменные в список.\n",
    "Выведите значение получившегося списка на экран с помощью фукнции print(). В качестве ответа запишите результат вывода."
   ]
  },
  {
   "cell_type": "code",
   "execution_count": 3,
   "metadata": {},
   "outputs": [
    {
     "data": {
      "text/plain": [
       "['order1', 'order2', 'order3']"
      ]
     },
     "execution_count": 3,
     "metadata": {},
     "output_type": "execute_result"
    }
   ],
   "source": [
    "a='order1'\n",
    "b='order2'\n",
    "c='order3'\n",
    "orders=[]\n",
    "orders.append(a)\n",
    "orders.append(b)\n",
    "orders.append(c)\n",
    "orders\n"
   ]
  },
  {
   "cell_type": "code",
   "execution_count": 9,
   "metadata": {},
   "outputs": [
    {
     "data": {
      "text/plain": [
       "['all books', 'my book', 'your book']"
      ]
     },
     "execution_count": 9,
     "metadata": {},
     "output_type": "execute_result"
    }
   ],
   "source": [
    "book1='my book'\n",
    "book2='your book'\n",
    "books=['all books']\n",
    "books.append(book1)\n",
    "books.append(book2)\n",
    "books"
   ]
  },
  {
   "cell_type": "code",
   "execution_count": 12,
   "metadata": {},
   "outputs": [
    {
     "data": {
      "text/plain": [
       "1"
      ]
     },
     "execution_count": 12,
     "metadata": {},
     "output_type": "execute_result"
    }
   ],
   "source": [
    "a = [\"a\", \"b\", \"c\", \"d\", \"b\", \"b\", \"g\", \"b\", \"r\"]\n",
    "a.count('c') "
   ]
  },
  {
   "cell_type": "code",
   "execution_count": 14,
   "metadata": {},
   "outputs": [
    {
     "name": "stdout",
     "output_type": "stream",
     "text": [
      "['book1', 'book2', 'book3', 'book4', 'book5'] ['book1', 'book2', 'book3', 'book4', 'book5']\n"
     ]
    }
   ],
   "source": [
    "my_books=['book1','book2','book3','book4','book5']\n",
    "tom_books=my_books.copy()\n",
    "print(my_books,tom_books)"
   ]
  },
  {
   "cell_type": "code",
   "execution_count": 15,
   "metadata": {},
   "outputs": [
    {
     "data": {
      "text/plain": [
       "['order1', 'order2', 'order3', 'book1', 'book2']"
      ]
     },
     "execution_count": 15,
     "metadata": {},
     "output_type": "execute_result"
    }
   ],
   "source": [
    "all_things=['order1','order2','order3']\n",
    "only_books=['book1','book2']\n",
    "all_things.extend(only_books)\n",
    "all_things"
   ]
  },
  {
   "cell_type": "code",
   "execution_count": 16,
   "metadata": {},
   "outputs": [
    {
     "data": {
      "text/plain": [
       "[5, 4, 3, 2, 1]"
      ]
     },
     "execution_count": 16,
     "metadata": {},
     "output_type": "execute_result"
    }
   ],
   "source": [
    "a=[1,2,3,4,5]\n",
    "a.reverse()\n",
    "a"
   ]
  },
  {
   "cell_type": "code",
   "execution_count": 20,
   "metadata": {},
   "outputs": [
    {
     "data": {
      "text/plain": [
       "[10, 9, 8, 7, 6, 5, 4, 3, 2, 1]"
      ]
     },
     "execution_count": 20,
     "metadata": {},
     "output_type": "execute_result"
    }
   ],
   "source": [
    "num=list(range(1,11))\n",
    "num\n",
    "nums=num[::-1]\n",
    "nums"
   ]
  },
  {
   "cell_type": "code",
   "execution_count": 21,
   "metadata": {},
   "outputs": [
    {
     "data": {
      "text/plain": [
       "[0, 1, 2, 3, 4, 5, 10]"
      ]
     },
     "execution_count": 21,
     "metadata": {},
     "output_type": "execute_result"
    }
   ],
   "source": [
    "a = [3,4,1,5,10,0, 2]\n",
    "a.sort()\n",
    "a"
   ]
  },
  {
   "cell_type": "code",
   "execution_count": 22,
   "metadata": {},
   "outputs": [],
   "source": [
    "list1 = [[1,2,3], [4,5,6], [7,8,9]]\n",
    "list2 = [[3,2,4], (3,4), \"5.6\", 7]"
   ]
  },
  {
   "cell_type": "code",
   "execution_count": 24,
   "metadata": {},
   "outputs": [
    {
     "data": {
      "text/plain": [
       "()"
      ]
     },
     "execution_count": 24,
     "metadata": {},
     "output_type": "execute_result"
    }
   ],
   "source": [
    "tpl1=tuple()\n",
    "tpl1"
   ]
  },
  {
   "cell_type": "code",
   "execution_count": 28,
   "metadata": {},
   "outputs": [
    {
     "data": {
      "text/plain": [
       "'Ekaterina Dmitrieva'"
      ]
     },
     "execution_count": 28,
     "metadata": {},
     "output_type": "execute_result"
    }
   ],
   "source": [
    "phones = {'+79033923029': 'Ivan Ivanov', \n",
    "        '+78125849204': 'Kirill Smirnov',\n",
    "         '+79053049385': 'Mark Parkhomenko',\n",
    "         '+79265748370': 'Ekaterina Dmitrieva',\n",
    "         '+79030598495': 'Ruslan Belyi'}\n",
    "phones[\"+79265748370\"]\n"
   ]
  },
  {
   "cell_type": "code",
   "execution_count": null,
   "metadata": {},
   "outputs": [],
   "source": [
    "friends = {\"Kolya\": 180, \"Marina\": 176, \"Misha\": 158, \"Dima\": 201, \"Yana\": 183, \"Nina\": 156}\n",
    "friends_keys = list(friends.keys())\n",
    "friends_keys.sort()\n",
    "friends_keys\n",
    "#['Dima', 'Kolya', 'Marina', 'Misha', 'Nina', 'Yana']"
   ]
  },
  {
   "cell_type": "code",
   "execution_count": 31,
   "metadata": {},
   "outputs": [
    {
     "data": {
      "text/plain": [
       "{}"
      ]
     },
     "execution_count": 31,
     "metadata": {},
     "output_type": "execute_result"
    }
   ],
   "source": [
    "d = {}\n",
    "d"
   ]
  },
  {
   "cell_type": "code",
   "execution_count": 34,
   "metadata": {},
   "outputs": [
    {
     "data": {
      "text/plain": [
       "{'dict': 1, 'dictionary': 2}"
      ]
     },
     "execution_count": 34,
     "metadata": {},
     "output_type": "execute_result"
    }
   ],
   "source": [
    "d = {'dict': 1, 'dictionary': 2}\n",
    "d"
   ]
  },
  {
   "cell_type": "code",
   "execution_count": 36,
   "metadata": {},
   "outputs": [
    {
     "data": {
      "text/plain": [
       "{'short': 'dict', 'long': 'dictionary'}"
      ]
     },
     "execution_count": 36,
     "metadata": {},
     "output_type": "execute_result"
    }
   ],
   "source": [
    "d = dict(short='dict', long='dictionary')\n",
    "d"
   ]
  },
  {
   "cell_type": "code",
   "execution_count": 35,
   "metadata": {},
   "outputs": [
    {
     "data": {
      "text/plain": [
       "{1: 1, 2: 4}"
      ]
     },
     "execution_count": 35,
     "metadata": {},
     "output_type": "execute_result"
    }
   ],
   "source": [
    "\n",
    "d = dict([(1, 1), (2, 4)])\n",
    "d\n"
   ]
  },
  {
   "cell_type": "code",
   "execution_count": 41,
   "metadata": {},
   "outputs": [
    {
     "data": {
      "text/plain": [
       "{'a': 100, 'b': 100}"
      ]
     },
     "execution_count": 41,
     "metadata": {},
     "output_type": "execute_result"
    }
   ],
   "source": [
    "d = dict.fromkeys(['a', 'b'],100)\n",
    "d"
   ]
  },
  {
   "cell_type": "code",
   "execution_count": 42,
   "metadata": {},
   "outputs": [
    {
     "data": {
      "text/plain": [
       "{0: 0, 1: 1, 2: 4, 3: 9, 4: 16, 5: 25, 6: 36}"
      ]
     },
     "execution_count": 42,
     "metadata": {},
     "output_type": "execute_result"
    }
   ],
   "source": [
    "d = {a: a ** 2 for a in range(7)}\n",
    "d"
   ]
  },
  {
   "cell_type": "code",
   "execution_count": 44,
   "metadata": {},
   "outputs": [
    {
     "data": {
      "text/plain": [
       "{0: 0.0, 1: 0.5, 2: 1.0, 3: 1.5, 4: 2.0, 5: 2.5, 6: 3.0}"
      ]
     },
     "execution_count": 44,
     "metadata": {},
     "output_type": "execute_result"
    }
   ],
   "source": [
    "d = {a: a/2 for a in range(7)}\n",
    "d"
   ]
  },
  {
   "cell_type": "markdown",
   "metadata": {},
   "source": [
    "Теперь попробуем добавить записей в словарь и извлечь значения ключей:"
   ]
  },
  {
   "cell_type": "code",
   "execution_count": 54,
   "metadata": {},
   "outputs": [
    {
     "data": {
      "text/plain": [
       "2"
      ]
     },
     "execution_count": 54,
     "metadata": {},
     "output_type": "execute_result"
    }
   ],
   "source": [
    "d = {1: 2, 2: 4, 3: 9}\n",
    "d[1]"
   ]
  },
  {
   "cell_type": "code",
   "execution_count": 55,
   "metadata": {},
   "outputs": [
    {
     "data": {
      "text/plain": [
       "{1: 2, 2: 4, 3: 9, 4: 6}"
      ]
     },
     "execution_count": 55,
     "metadata": {},
     "output_type": "execute_result"
    }
   ],
   "source": [
    "d[4] = 4 + 2\n",
    "d"
   ]
  },
  {
   "cell_type": "code",
   "execution_count": 56,
   "metadata": {},
   "outputs": [
    {
     "data": {
      "text/plain": [
       "{1: 2, 2: 4, 3: 9, 4: 6, 5: 25}"
      ]
     },
     "execution_count": 56,
     "metadata": {},
     "output_type": "execute_result"
    }
   ],
   "source": [
    "d[5] = 5 ** 2\n",
    "d"
   ]
  },
  {
   "cell_type": "code",
   "execution_count": 57,
   "metadata": {},
   "outputs": [
    {
     "data": {
      "text/plain": [
       "dict_items([(1, 2), (2, 4), (3, 9), (4, 6), (5, 25)])"
      ]
     },
     "execution_count": 57,
     "metadata": {},
     "output_type": "execute_result"
    }
   ],
   "source": [
    "d.items()"
   ]
  },
  {
   "cell_type": "code",
   "execution_count": 58,
   "metadata": {},
   "outputs": [
    {
     "data": {
      "text/plain": [
       "{1: 2, 2: 4, 3: 9, 4: 6, 5: 25}"
      ]
     },
     "execution_count": 58,
     "metadata": {},
     "output_type": "execute_result"
    }
   ],
   "source": [
    "d.keys()\n",
    "d"
   ]
  },
  {
   "cell_type": "code",
   "execution_count": 59,
   "metadata": {},
   "outputs": [
    {
     "data": {
      "text/plain": [
       "{}"
      ]
     },
     "execution_count": 59,
     "metadata": {},
     "output_type": "execute_result"
    }
   ],
   "source": [
    "empty_dict={}\n",
    "empty_dict"
   ]
  },
  {
   "cell_type": "code",
   "execution_count": 60,
   "metadata": {},
   "outputs": [
    {
     "name": "stdout",
     "output_type": "stream",
     "text": [
      "{} {}\n"
     ]
    }
   ],
   "source": [
    "empty_dict1={}\n",
    "empty_dict2=dict()\n",
    "print(empty_dict1,empty_dict2)"
   ]
  },
  {
   "cell_type": "code",
   "execution_count": 61,
   "metadata": {},
   "outputs": [
    {
     "data": {
      "text/plain": [
       "'Ekaterina Dmitrieva'"
      ]
     },
     "execution_count": 61,
     "metadata": {},
     "output_type": "execute_result"
    }
   ],
   "source": [
    "phones = {'+79033923029': 'Ivan Ivanov', '+78125849204': 'Kirill Smirnov', '+79053049385': 'Mark Parkhomenko', '+79265748370': 'Ekaterina Dmitrieva', '+79030598495': 'Ruslan Belyi'}\n",
    "phones[\"+79265748370\"] # Ekaterina Dmitrieva"
   ]
  },
  {
   "cell_type": "code",
   "execution_count": 75,
   "metadata": {},
   "outputs": [
    {
     "data": {
      "text/plain": [
       "{1: 1, 2: 4}"
      ]
     },
     "execution_count": 75,
     "metadata": {},
     "output_type": "execute_result"
    }
   ],
   "source": [
    "d = dict([(1, 1), (2, 4)])\n",
    "d"
   ]
  },
  {
   "cell_type": "code",
   "execution_count": 79,
   "metadata": {},
   "outputs": [
    {
     "data": {
      "text/plain": [
       "5"
      ]
     },
     "execution_count": 79,
     "metadata": {},
     "output_type": "execute_result"
    }
   ],
   "source": [
    "alphabet_dict=dict([('a', 1),('b',2),('c',3),('d',4),('c',5)])\n",
    "alphabet_dict = {'a': 1, 'b': 2, 'c': 3, 'd': 4, 'c': 5}\n",
    "alphabet_dict\n",
    "alphabet_dict['c']"
   ]
  },
  {
   "cell_type": "code",
   "execution_count": 81,
   "metadata": {},
   "outputs": [
    {
     "data": {
      "text/plain": [
       "50"
      ]
     },
     "execution_count": 81,
     "metadata": {},
     "output_type": "execute_result"
    }
   ],
   "source": [
    "place_and_many={1:100,2:50,3:10}\n",
    "place_and_many[2]"
   ]
  },
  {
   "cell_type": "code",
   "execution_count": 85,
   "metadata": {},
   "outputs": [
    {
     "data": {
      "text/plain": [
       "{'+79033923029': 'Ivan Ivanov',\n",
       " '+78125849204': 'Kirill Smirnov',\n",
       " '+79053049385': 'Mark Parkhomenko',\n",
       " '+79265748370': 'Ekaterina Ershova',\n",
       " '+79030598495': 'Ruslan Belyi',\n",
       " '+79686581788': 'Artem Pliev'}"
      ]
     },
     "execution_count": 85,
     "metadata": {},
     "output_type": "execute_result"
    }
   ],
   "source": [
    "phones = {'+79033923029': 'Ivan Ivanov', '+78125849204': 'Kirill Smirnov', '+79053049385': 'Mark Parkhomenko', '+79265748370': 'Ekaterina Dmitrieva', '+79030598495': 'Ruslan Belyi'}\n",
    "phones[\"+79265748370\"] # Ekaterina Dmitrieva\n",
    "phones[\"+79265748370\"]  = 'Ekaterina Ershova'\n",
    "phones[\"+79265748370\"] \n",
    "phones[\"+79686581788\"]  = 'Artem Pliev'\n",
    "phones"
   ]
  },
  {
   "cell_type": "code",
   "execution_count": 86,
   "metadata": {},
   "outputs": [
    {
     "data": {
      "text/plain": [
       "{1: 100, 2: 50, 3: 10, 4: 5}"
      ]
     },
     "execution_count": 86,
     "metadata": {},
     "output_type": "execute_result"
    }
   ],
   "source": [
    "place_and_many[4]=5\n",
    "place_and_many"
   ]
  },
  {
   "cell_type": "code",
   "execution_count": 87,
   "metadata": {},
   "outputs": [
    {
     "data": {
      "text/plain": [
       "{1: 100, 2: 50, 3: 25, 4: 5}"
      ]
     },
     "execution_count": 87,
     "metadata": {},
     "output_type": "execute_result"
    }
   ],
   "source": [
    "place_and_many[3]=25\n",
    "place_and_many"
   ]
  },
  {
   "cell_type": "code",
   "execution_count": 89,
   "metadata": {},
   "outputs": [
    {
     "data": {
      "text/plain": [
       "{'Kolya': 180,\n",
       " 'Marina': 176,\n",
       " 'Misha': 158,\n",
       " 'Dima': 201,\n",
       " 'Yana': 183,\n",
       " 'Nina': 156}"
      ]
     },
     "execution_count": 89,
     "metadata": {},
     "output_type": "execute_result"
    }
   ],
   "source": [
    "friends = {\"Kolya\": 180, \"Marina\": 176, \"Misha\": 158, \"Dima\": 201, \"Yana\": 183, \"Nina\": 156}\n",
    "friends"
   ]
  },
  {
   "cell_type": "code",
   "execution_count": 90,
   "metadata": {},
   "outputs": [
    {
     "data": {
      "text/plain": [
       "{}"
      ]
     },
     "execution_count": 90,
     "metadata": {},
     "output_type": "execute_result"
    }
   ],
   "source": [
    "place_and_many={}\n",
    "place_and_many"
   ]
  },
  {
   "cell_type": "code",
   "execution_count": 98,
   "metadata": {},
   "outputs": [
    {
     "data": {
      "text/plain": [
       "['Misha', 'Dima']"
      ]
     },
     "execution_count": 98,
     "metadata": {},
     "output_type": "execute_result"
    }
   ],
   "source": [
    "list(friends.keys())[2:4]\n",
    "# dict_keys([\"Kolya\", \"Marina\", \"Misha\", \"Dima\", \"Yana\", \"Nina\"])"
   ]
  },
  {
   "cell_type": "code",
   "execution_count": 100,
   "metadata": {},
   "outputs": [
    {
     "data": {
      "text/plain": [
       "dict_keys([1, 2, 3])"
      ]
     },
     "execution_count": 100,
     "metadata": {},
     "output_type": "execute_result"
    }
   ],
   "source": [
    "place_and_many={1:100,2:50,3:10}\n",
    "place_and_many.keys()"
   ]
  },
  {
   "cell_type": "code",
   "execution_count": 102,
   "metadata": {},
   "outputs": [
    {
     "data": {
      "text/plain": [
       "[180, 176, 158, 201, 183, 156]"
      ]
     },
     "execution_count": 102,
     "metadata": {},
     "output_type": "execute_result"
    }
   ],
   "source": [
    "list(friends.values())"
   ]
  },
  {
   "cell_type": "code",
   "execution_count": 112,
   "metadata": {},
   "outputs": [
    {
     "name": "stdout",
     "output_type": "stream",
     "text": [
      "I don't have a friend with such a name.\n"
     ]
    }
   ],
   "source": [
    "print(friends.get('Matvey',\"I don't have a friend with such a name.\"))"
   ]
  },
  {
   "cell_type": "code",
   "execution_count": 116,
   "metadata": {},
   "outputs": [
    {
     "name": "stdout",
     "output_type": "stream",
     "text": [
      "без приза\n"
     ]
    }
   ],
   "source": [
    "print(place_and_many.get(20,'без приза'))"
   ]
  },
  {
   "cell_type": "code",
   "execution_count": 118,
   "metadata": {},
   "outputs": [
    {
     "data": {
      "text/plain": [
       "{'Kolya': 180,\n",
       " 'Marina': 176,\n",
       " 'Misha': 158,\n",
       " 'Dima': 201,\n",
       " 'Yana': 183,\n",
       " 'Nina': 156,\n",
       " 'Stas': 171,\n",
       " 'Nastya': 163}"
      ]
     },
     "execution_count": 118,
     "metadata": {},
     "output_type": "execute_result"
    }
   ],
   "source": [
    "friends.update({\"Stas\":171, \"Nastya\": 163})\n",
    "friends"
   ]
  },
  {
   "cell_type": "code",
   "execution_count": 120,
   "metadata": {},
   "outputs": [
    {
     "data": {
      "text/plain": [
       "{1: 100, 2: 50, 3: 10, 4: 5, 5: 1}"
      ]
     },
     "execution_count": 120,
     "metadata": {},
     "output_type": "execute_result"
    }
   ],
   "source": [
    "place_and_many.update({4:5,5:1})\n",
    "place_and_many"
   ]
  },
  {
   "cell_type": "code",
   "execution_count": 122,
   "metadata": {},
   "outputs": [
    {
     "data": {
      "text/plain": [
       "{'Anne': 23, 'Anton': 27, 'Phillip': 29}"
      ]
     },
     "execution_count": 122,
     "metadata": {},
     "output_type": "execute_result"
    }
   ],
   "source": [
    "name_to_age = {'Anne': 22, 'Anton': 27, 'Phillip': 30}\n",
    "name_to_age.update({'Anne': 23, 'Anton': 27, 'Phillip': 29})\n",
    "name_to_age"
   ]
  },
  {
   "cell_type": "code",
   "execution_count": 130,
   "metadata": {},
   "outputs": [
    {
     "data": {
      "text/plain": [
       "{'Kolya': 180,\n",
       " 'Marina': 176,\n",
       " 'Dima': 201,\n",
       " 'Yana': 183,\n",
       " 'Nina': 156,\n",
       " 'Stas': 171,\n",
       " 'Nastya': 163,\n",
       " 'Misha': 158}"
      ]
     },
     "execution_count": 130,
     "metadata": {},
     "output_type": "execute_result"
    }
   ],
   "source": [
    "friends.update({'Misha': 158})\n",
    "friends"
   ]
  },
  {
   "cell_type": "code",
   "execution_count": 131,
   "metadata": {},
   "outputs": [
    {
     "data": {
      "text/plain": [
       "158"
      ]
     },
     "execution_count": 131,
     "metadata": {},
     "output_type": "execute_result"
    }
   ],
   "source": [
    "best_friend_height = friends.pop(\"Misha\")\n",
    "friends \n",
    "# {\"Kolya\": 180, \"Marina\": 176, \"Dima\": 201, \"Yana\": 183, \"Nina\": 156, \"Stas\":183, \"Nastya\": 163}\n",
    "best_friend_height \n",
    "# 158"
   ]
  },
  {
   "cell_type": "code",
   "execution_count": 133,
   "metadata": {},
   "outputs": [
    {
     "data": {
      "text/plain": [
       "10"
      ]
     },
     "execution_count": 133,
     "metadata": {},
     "output_type": "execute_result"
    }
   ],
   "source": [
    "result=place_and_many.pop(3)\n",
    "result"
   ]
  },
  {
   "cell_type": "code",
   "execution_count": 137,
   "metadata": {},
   "outputs": [],
   "source": [
    "name_to_age = {'Anne': 22, 'Anton': 27, 'Phillip': 30}"
   ]
  },
  {
   "cell_type": "code",
   "execution_count": 139,
   "metadata": {},
   "outputs": [
    {
     "data": {
      "text/plain": [
       "27"
      ]
     },
     "execution_count": 139,
     "metadata": {},
     "output_type": "execute_result"
    }
   ],
   "source": [
    "result=name_to_age.pop('Anton')\n",
    "result"
   ]
  },
  {
   "cell_type": "code",
   "execution_count": 140,
   "metadata": {},
   "outputs": [
    {
     "data": {
      "text/plain": [
       "163"
      ]
     },
     "execution_count": 140,
     "metadata": {},
     "output_type": "execute_result"
    }
   ],
   "source": [
    "friends = {\"Kolya\": 180, \"Marina\": 176, \"Dima\": 201, \"Yana\": 183, \"Nina\": 156, \"Stas\": 183, \"Nastya\": 163}\n",
    "friends.setdefault(\"Nastya\", 100)\n",
    "friends[\"Nastya\"] "
   ]
  },
  {
   "cell_type": "code",
   "execution_count": 142,
   "metadata": {},
   "outputs": [
    {
     "data": {
      "text/plain": [
       "dict_keys(['Kolya', 'Marina', 'Dima', 'Yana', 'Nina', 'Stas', 'Nastya', 'Alena'])"
      ]
     },
     "execution_count": 142,
     "metadata": {},
     "output_type": "execute_result"
    }
   ],
   "source": [
    "friends.keys() \n",
    "# dict_keys([\"Kolya\", \"Marina\", \"Dima\", \"Yana\", \"Nina\", \"Stas\", \"Nastya\"])\n",
    "\n",
    "friends.setdefault(\"Alena\", 170)\n",
    "friends[\"Alena\"] \n",
    "# 170\n",
    "\n",
    "friends.keys() \n",
    "# dict_keys([\"Kolya\", \"Marina\", \"Dima\", \"Yana\", \"Nina\", \"Stas\", \"Nastya\", \"Alena\"])"
   ]
  },
  {
   "cell_type": "code",
   "execution_count": 144,
   "metadata": {},
   "outputs": [
    {
     "data": {
      "text/plain": [
       "{1: 100, 2: 50, 4: 5, 5: 1, 10: 1}"
      ]
     },
     "execution_count": 144,
     "metadata": {},
     "output_type": "execute_result"
    }
   ],
   "source": [
    "place_and_many.setdefault(10,1)\n",
    "place_and_many"
   ]
  },
  {
   "cell_type": "code",
   "execution_count": 149,
   "metadata": {},
   "outputs": [
    {
     "data": {
      "text/plain": [
       "{5: [3, 4, 5], (3, 4, 5): 'strong man'}"
      ]
     },
     "execution_count": 149,
     "metadata": {},
     "output_type": "execute_result"
    }
   ],
   "source": [
    "test_dict={}\n",
    "test_dict\n",
    "test_dict.update({5:[3,4,5]})\n",
    "test_dict\n",
    "test_dict.update({(3,4,5):'strong man'})\n",
    "test_dict"
   ]
  },
  {
   "cell_type": "code",
   "execution_count": 152,
   "metadata": {},
   "outputs": [
    {
     "data": {
      "text/plain": [
       "{'name': 'Sancho',\n",
       " 'surname': 'Panso',\n",
       " 'info': {'age': 35, 'country': 'Mexico'}}"
      ]
     },
     "execution_count": 152,
     "metadata": {},
     "output_type": "execute_result"
    }
   ],
   "source": [
    "test_dict2=dict()\n",
    "test_dict2\n",
    "test_dict2.update({'name':\"Sancho\", 'surname':\"Panso\", 'info':{'age':35,'country':\"Mexico\"}})\n",
    "test_dict2"
   ]
  },
  {
   "cell_type": "code",
   "execution_count": 155,
   "metadata": {},
   "outputs": [
    {
     "data": {
      "text/plain": [
       "{'info': [10, 15, 27], 'about': 'dont know'}"
      ]
     },
     "execution_count": 155,
     "metadata": {},
     "output_type": "execute_result"
    }
   ],
   "source": [
    "test_dict3={}\n",
    "test_dict3.update({\"info\":[10,15,27], 'about':{'game':'football','period':5}})\n",
    "test_dict3.update({'about':'dont know'})\n",
    "test_dict3\n"
   ]
  },
  {
   "cell_type": "code",
   "execution_count": 157,
   "metadata": {},
   "outputs": [
    {
     "data": {
      "text/plain": [
       "{'e', 'h', 'l', 'o'}"
      ]
     },
     "execution_count": 157,
     "metadata": {},
     "output_type": "execute_result"
    }
   ],
   "source": [
    "set1=set('hello')\n",
    "set1"
   ]
  },
  {
   "cell_type": "code",
   "execution_count": 160,
   "metadata": {},
   "outputs": [
    {
     "data": {
      "text/plain": [
       "set"
      ]
     },
     "execution_count": 160,
     "metadata": {},
     "output_type": "execute_result"
    }
   ],
   "source": [
    "set2={\"hello\"}\n",
    "set2\n",
    "type(set2)"
   ]
  },
  {
   "cell_type": "code",
   "execution_count": 161,
   "metadata": {},
   "outputs": [
    {
     "data": {
      "text/plain": [
       "set()"
      ]
     },
     "execution_count": 161,
     "metadata": {},
     "output_type": "execute_result"
    }
   ],
   "source": [
    "s1=set()\n",
    "s1"
   ]
  },
  {
   "cell_type": "code",
   "execution_count": 164,
   "metadata": {},
   "outputs": [
    {
     "data": {
      "text/plain": [
       "{2, 3, 5, 10, 11}"
      ]
     },
     "execution_count": 164,
     "metadata": {},
     "output_type": "execute_result"
    }
   ],
   "source": [
    "s2={5,10,3,2,11}\n",
    "s2"
   ]
  },
  {
   "cell_type": "code",
   "execution_count": 165,
   "metadata": {},
   "outputs": [
    {
     "data": {
      "text/plain": [
       "{' ', 'a', 'c', 'h', 'l', 'o', 's', 't', 'w'}"
      ]
     },
     "execution_count": 165,
     "metadata": {},
     "output_type": "execute_result"
    }
   ],
   "source": [
    "s3=set('wow thats cool')\n",
    "s3"
   ]
  },
  {
   "cell_type": "code",
   "execution_count": 170,
   "metadata": {},
   "outputs": [
    {
     "data": {
      "text/plain": [
       "{1, 2, 3, 4, 5}"
      ]
     },
     "execution_count": 170,
     "metadata": {},
     "output_type": "execute_result"
    }
   ],
   "source": [
    "s={1,2,3,4}\n",
    "s.add(5)\n",
    "s"
   ]
  },
  {
   "cell_type": "code",
   "execution_count": 180,
   "metadata": {},
   "outputs": [
    {
     "data": {
      "text/plain": [
       "{'a', 'b', 'c', 'd', 'e', 'h', 'l', 'o'}"
      ]
     },
     "execution_count": 180,
     "metadata": {},
     "output_type": "execute_result"
    }
   ],
   "source": [
    "s1={'a','b','c','d','e',}\n",
    "s1.update('hello')\n",
    "s1"
   ]
  },
  {
   "cell_type": "code",
   "execution_count": 344,
   "metadata": {},
   "outputs": [
    {
     "ename": "KeyError",
     "evalue": "10",
     "output_type": "error",
     "traceback": [
      "\u001b[1;31m---------------------------------------------------------------------------\u001b[0m",
      "\u001b[1;31mKeyError\u001b[0m                                  Traceback (most recent call last)",
      "Cell \u001b[1;32mIn[344], line 2\u001b[0m\n\u001b[0;32m      1\u001b[0m s10 \u001b[38;5;241m=\u001b[39m {\u001b[38;5;241m1\u001b[39m,\u001b[38;5;241m2\u001b[39m,\u001b[38;5;241m3\u001b[39m,\u001b[38;5;241m4\u001b[39m,\u001b[38;5;241m5\u001b[39m}\n\u001b[1;32m----> 2\u001b[0m \u001b[43ms10\u001b[49m\u001b[38;5;241;43m.\u001b[39;49m\u001b[43mremove\u001b[49m\u001b[43m(\u001b[49m\u001b[38;5;241;43m10\u001b[39;49m\u001b[43m)\u001b[49m\n",
      "\u001b[1;31mKeyError\u001b[0m: 10"
     ]
    }
   ],
   "source": [
    "s10 = {1,2,3,4,5}\n",
    "s10.remove(10)"
   ]
  },
  {
   "cell_type": "code",
   "execution_count": 182,
   "metadata": {},
   "outputs": [],
   "source": [
    "# Ошибка KeyError: 10\n",
    "s1.discard(10)\n",
    "# Ничего не произошло"
   ]
  },
  {
   "cell_type": "code",
   "execution_count": 187,
   "metadata": {},
   "outputs": [
    {
     "data": {
      "text/plain": [
       "{'a', 'b', 'c', 'e'}"
      ]
     },
     "execution_count": 187,
     "metadata": {},
     "output_type": "execute_result"
    }
   ],
   "source": [
    "s1={'a','b','c','d','e',}\n",
    "s1.remove('d')\n",
    "s1"
   ]
  },
  {
   "cell_type": "code",
   "execution_count": 192,
   "metadata": {},
   "outputs": [
    {
     "data": {
      "text/plain": [
       "{'item1', 'item2', 'item3', 'item4', 'item5', 'item6'}"
      ]
     },
     "execution_count": 192,
     "metadata": {},
     "output_type": "execute_result"
    }
   ],
   "source": [
    "cluster1 = {\"item1\", \"item2\", \"item3\", \"item4\", \"item5\"}\n",
    "cluster2 = {\"item3\", \"item4\", \"item5\", \"item6\"}\n",
    "cluster1.union(cluster2)\n"
   ]
  },
  {
   "cell_type": "code",
   "execution_count": 193,
   "metadata": {},
   "outputs": [
    {
     "data": {
      "text/plain": [
       "{'item3', 'item4', 'item5'}"
      ]
     },
     "execution_count": 193,
     "metadata": {},
     "output_type": "execute_result"
    }
   ],
   "source": [
    "cluster1.intersection(cluster2)"
   ]
  },
  {
   "cell_type": "code",
   "execution_count": 194,
   "metadata": {},
   "outputs": [
    {
     "data": {
      "text/plain": [
       "{'item1', 'item2'}"
      ]
     },
     "execution_count": 194,
     "metadata": {},
     "output_type": "execute_result"
    }
   ],
   "source": [
    "cluster1.difference(cluster2)"
   ]
  },
  {
   "cell_type": "code",
   "execution_count": 211,
   "metadata": {},
   "outputs": [
    {
     "name": "stdout",
     "output_type": "stream",
     "text": [
      "{0, 2, 3, 5, 6, 7, 10}\n"
     ]
    }
   ],
   "source": [
    "num_set= set(range(0,11))\n",
    "date_num=set([1,9,4,8])\n",
    "print(num_set.difference(date_num))"
   ]
  },
  {
   "cell_type": "code",
   "execution_count": 218,
   "metadata": {},
   "outputs": [
    {
     "name": "stdout",
     "output_type": "stream",
     "text": [
      "Sep\n",
      "Apr\n",
      "Feb\n",
      "May\n",
      "Aug\n",
      "Oct\n",
      "Jan\n",
      "March\n",
      "Dec\n",
      "July\n",
      "Nov\n",
      "June\n"
     ]
    }
   ],
   "source": [
    "months = set([\"Jan\", \"Feb\", \"March\", \"Apr\", \"May\", \"June\", \"July\", \"Aug\", \"Sep\", \"Oct\", \"Nov\", \"Dec\"])\n",
    " \n",
    "for m in months:  \n",
    "    print(m)"
   ]
  },
  {
   "cell_type": "code",
   "execution_count": 219,
   "metadata": {},
   "outputs": [
    {
     "data": {
      "text/plain": [
       "{'Apr',\n",
       " 'Aug',\n",
       " 'Dec',\n",
       " 'Feb',\n",
       " 'Jan',\n",
       " 'July',\n",
       " 'June',\n",
       " 'March',\n",
       " 'May',\n",
       " 'Nov',\n",
       " 'Oct',\n",
       " 'Sep'}"
      ]
     },
     "execution_count": 219,
     "metadata": {},
     "output_type": "execute_result"
    }
   ],
   "source": [
    "months"
   ]
  },
  {
   "cell_type": "code",
   "execution_count": 220,
   "metadata": {},
   "outputs": [
    {
     "name": "stdout",
     "output_type": "stream",
     "text": [
      "True\n"
     ]
    }
   ],
   "source": [
    "months = set([\"Jan\", \"Feb\", \"March\", \"Apr\", \"May\", \"June\", \"July\", \"Aug\", \"Sep\", \"Oct\", \"Nov\", \"Dec\"])\n",
    " \n",
    "print(\"May\" in months)"
   ]
  },
  {
   "cell_type": "code",
   "execution_count": 221,
   "metadata": {},
   "outputs": [
    {
     "name": "stdout",
     "output_type": "stream",
     "text": [
      "{'Sep', 'Apr', 'Feb', 'May', 'Aug', 'Oct', 'Jan', 'March', 'Dec', 'July', 'Nov', 'June'}\n"
     ]
    }
   ],
   "source": [
    "months = set([\"Jan\", \"March\", \"Apr\", \"May\", \"June\", \"July\", \"Aug\", \"Sep\", \"Oct\", \"Nov\", \"Dec\"])\n",
    " \n",
    "months.add(\"Feb\")\n",
    "print(months)"
   ]
  },
  {
   "cell_type": "code",
   "execution_count": 222,
   "metadata": {},
   "outputs": [
    {
     "name": "stdout",
     "output_type": "stream",
     "text": [
      "{2, 3, 4, 5, 6}\n"
     ]
    }
   ],
   "source": [
    "num_set = {1, 2, 3, 4, 5, 6}  \n",
    "num_set.pop()  \n",
    "print(num_set)"
   ]
  },
  {
   "cell_type": "code",
   "execution_count": 223,
   "metadata": {},
   "outputs": [
    {
     "name": "stdout",
     "output_type": "stream",
     "text": [
      "True\n",
      "True\n"
     ]
    }
   ],
   "source": [
    "months_a = set([\"Jan\", \"Feb\", \"March\", \"Apr\", \"May\", \"June\"])  \n",
    "months_b = set([\"Jan\", \"Feb\", \"March\", \"Apr\", \"May\", \"June\", \"July\", \"Aug\", \"Sep\", \"Oct\", \"Nov\", \"Dec\"])\n",
    " \n",
    "subset_check = months_a <= months_b  \n",
    "superset_check = months_b >= months_a\n",
    " \n",
    "print(subset_check)  \n",
    "print(superset_check)"
   ]
  },
  {
   "cell_type": "code",
   "execution_count": 224,
   "metadata": {},
   "outputs": [
    {
     "name": "stdout",
     "output_type": "stream",
     "text": [
      "{'John', 'Nicholas', 'Mercy', 'Michelle'}\n"
     ]
    }
   ],
   "source": [
    "string_set = {\"Nicholas\", \"Michelle\", \"John\", \"Mercy\"}  \n",
    "x = string_set.copy()\n",
    " \n",
    "print(x)"
   ]
  },
  {
   "cell_type": "code",
   "execution_count": 225,
   "metadata": {},
   "outputs": [
    {
     "name": "stdout",
     "output_type": "stream",
     "text": [
      "True\n"
     ]
    }
   ],
   "source": [
    "names_a = {\"Nicholas\", \"Michelle\", \"John\", \"Mercy\"}  \n",
    "names_b = {\"Jeff\", \"Bosco\", \"Teddy\", \"Milly\"}\n",
    " \n",
    "x = names_a.isdisjoint(names_b)  \n",
    "print(x)"
   ]
  },
  {
   "cell_type": "code",
   "execution_count": 294,
   "metadata": {},
   "outputs": [
    {
     "name": "stdout",
     "output_type": "stream",
     "text": [
      "Form  W-9(Rev. March 2024)Request for Taxpayer Identification Number and CertificationDepartment of the Treasury  Internal Revenue Service Go to www.irs.gov/FormW9 for instructions and the latest information.Give form to the  requester. Do not send to the IRS.Before you begin. For guidance related to the purpose of Form W-9, see Purpose of Form, below.Print or type. See Specific Instructions on page 3.1    Name of entity/individual. An entry is required. (For a sole proprietor or disregarded entity, enter the owner’s name on line 1, and enter the business/disregarded entity’s name on line 2.)2    Business name/disregarded entity name, if different from above.3a  Check the appropriate box for federal tax classification of the entity/individual whose name is entered on line 1. Check only one of the following seven boxes. Individual/sole proprietorC corporationS corporationPartnershipTrust/estateLLC. Enter the tax classification (C = C corporation, S = S corporation, P = Partnership) ....Note: Check the “LLC” box above and, in the entry space, enter the appropriate code (C, S, or P) for the tax classification of the LLC, unless it is a disregarded entity. A disregarded entity should instead check the appropriate box for the tax classification of its owner.Other (see instructions) 3b If on line 3a you checked “Partnership” or “Trust/estate,” or checked “LLC” and entered “P” as its tax classification, and you are providing this form to a partnership, trust, or estate in which you have an ownership interest, check this box if you have any foreign partners, owners, or beneficiaries. See instructions .........4  Exemptions (codes apply only to certain entities, not individuals; see instructions on page 3):Exempt payee code (if any)Exemption from Foreign Account Tax Compliance Act (FATCA) reporting  code (if any)(Applies to accounts maintained outside the United States.)5    Address (number, street, and apt. or suite no.). See instructions.6    City, state, and ZIP codeRequester’s name and address (optional)7    List account number(s) here (optional)Part ITaxpayer Identification Number (TIN)Enter your TIN in the appropriate box. The TIN provided must match the name given on line 1 to avoid backup withholding. For individuals, this is generally your social security number (SSN). However, for a resident alien, sole proprietor, or disregarded entity, see the instructions for Part I, later. For other entities, it is your employer identification number (EIN). If you do not have a number, see How to get a TIN, later.Note: If the account is in more than one name, see the instructions for line 1. See also What Name and Number To Give the Requester for guidelines on whose number to enter.Social security number––orEmployer identification number –Part IICertificationUnder penalties of perjury, I certify that:1. The number shown on this form is my correct taxpayer identification number (or I am waiting for a number to be issued to me); and2. I am not subject to backup withholding because (a) I am exempt from backup withholding, or (b) I have not been notified by the Internal Revenue Service (IRS) that I am subject to backup withholding as a result of a failure to report all interest or dividends, or (c) the IRS has notified me that I am no longer subject to backup withholding; and3. I am a U.S. citizen or other U.S. person (defined below); and4. The FATCA code(s) entered on this form (if any) indicating that I am exempt from FATCA reporting is correct.Certification instructions. You must cross out item 2 above if you have been notified by the IRS that you are currently subject to backup withholding because you have failed to report all interest and dividends on your tax return. For real estate transactions, item 2 does not apply. For mortgage interest paid, acquisition or abandonment of secured property, cancellation of debt, contributions to an individual retirement arrangement (IRA), and, generally, payments other than interest and dividends, you are not required to sign the certification, but you must provide your correct TIN. See the instructions for Part II, later.Sign HereSignature of U.S. personDateGeneral InstructionsSection references are to the Internal Revenue Code unless otherwise noted.Future developments. For the latest information about developments related to Form W-9 and its instructions, such as legislation enacted after they were published, go to www.irs.gov/FormW9.What’s NewLine 3a has been modified to clarify how a disregarded entity completes this line. An LLC that is a disregarded entity should check the appropriate box for the tax classification of its owner. Otherwise, it should check the “LLC” box and enter its appropriate tax classification.New line 3b has been added to this form. A flow-through entity is required to complete this line to indicate that it has direct or indirect foreign partners, owners, or beneficiaries when it provides the Form W-9 to another flow-through entity in which it has an ownership interest. This change is intended to provide a flow-through entity with information regarding the status of its indirect foreign partners, owners, or beneficiaries, so that it can satisfy any applicable reporting requirements. For example, a partnership that has any indirect foreign partners may be required to complete Schedules K-2 and K-3. See the Partnership Instructions for Schedules K-2 and K-3 (Form 1065).Purpose of FormAn individual or entity (Form W-9 requester) who is required to file an information return with the IRS is giving you this form because theyCat. No. 10231XForm W-9 (Rev. 3-2024)\fForm W-9 (Rev. 3-2024)Page 2 must obtain your correct taxpayer identification number (TIN), which may be your social security number (SSN), individual taxpayer identification number (ITIN), adoption taxpayer identification number (ATIN), or employer identification number (EIN), to report on an information return the amount paid to you, or other amount reportable on an information return. Examples of information returns include, but are not limited to, the following.• Form 1099-INT (interest earned or paid).• Form 1099-DIV (dividends, including those from stocks or mutual funds).• Form 1099-MISC (various types of income, prizes, awards, or gross proceeds).• Form 1099-NEC (nonemployee compensation).• Form 1099-B (stock or mutual fund sales and certain other transactions by brokers).• Form 1099-S (proceeds from real estate transactions).• Form 1099-K (merchant card and third-party network transactions).• Form 1098 (home mortgage interest), 1098-E (student loan interest), and 1098-T (tuition).• Form 1099-C (canceled debt).• Form 1099-A (acquisition or abandonment of secured property).Use Form W-9 only if you are a U.S. person (including a resident alien), to provide your correct TIN. Caution: If you don’t return Form W-9 to the requester with a TIN, you might be subject to backup withholding. See What is backup withholding, later.By signing the filled-out form, you: 1. Certify that the TIN you are giving is correct (or you are waiting for a number to be issued);2. Certify that you are not subject to backup withholding; or3. Claim exemption from backup withholding if you are a U.S. exempt payee; and4. Certify to your non-foreign status for purposes of withholding under chapter 3 or 4 of the Code (if applicable); and5. Certify that FATCA code(s) entered on this form (if any) indicating that you are exempt from the FATCA reporting is correct. See What Is FATCA Reporting, later, for further information.Note: If you are a U.S. person and a requester gives you a form other than Form W-9 to request your TIN, you must use the requester’s form if it is substantially similar to this Form W-9.Definition of a U.S. person. For federal tax purposes, you are considered a U.S. person if you are:• An individual who is a U.S. citizen or U.S. resident alien;• A partnership, corporation, company, or association created or organized in the United States or under the laws of the United States;• An estate (other than a foreign estate); or• A domestic trust (as defined in Regulations section 301.7701-7).Establishing U.S. status for purposes of chapter 3 and chapter 4 withholding. Payments made to foreign persons, including certain distributions, allocations of income, or transfers of sales proceeds, may be subject to withholding under chapter 3 or chapter 4 of the Code (sections 1441–1474). Under those rules, if a Form W-9 or other certification of non-foreign status has not been received, a withholding agent, transferee, or partnership (payor) generally applies presumption rules that may require the payor to withhold applicable tax from the recipient, owner, transferor, or partner (payee). See Pub. 515, Withholding of Tax on Nonresident Aliens and Foreign Entities.The following persons must provide Form W-9 to the payor for purposes of establishing its non-foreign status.• In the case of a disregarded entity with a U.S. owner, the U.S. owner of the disregarded entity and not the disregarded entity.• In the case of a grantor trust with a U.S. grantor or other U.S. owner, generally, the U.S. grantor or other U.S. owner of the grantor trust and not the grantor trust.• In the case of a U.S. trust (other than a grantor trust), the U.S. trust and not the beneficiaries of the trust.See Pub. 515 for more information on providing a Form W-9 or a certification of non-foreign status to avoid withholding.Foreign person. If you are a foreign person or the U.S. branch of a foreign bank that has elected to be treated as a U.S. person (under Regulations section 1.1441-1(b)(2)(iv) or other applicable section for chapter 3 or 4 purposes), do not use Form W-9. Instead, use the appropriate Form W-8 or Form 8233 (see Pub. 515). If you are a qualified foreign pension fund under Regulations section 1.897(l)-1(d), or a partnership that is wholly owned by qualified foreign pension funds, that is treated as a non-foreign person for purposes of section 1445 withholding, do not use Form W-9. Instead, use Form W-8EXP (or other certification of non-foreign status).Nonresident alien who becomes a resident alien. Generally, only a nonresident alien individual may use the terms of a tax treaty to reduce or eliminate U.S. tax on certain types of income. However, most tax treaties contain a provision known as a saving clause. Exceptions specified in the saving clause may permit an exemption from tax to continue for certain types of income even after the payee has otherwise become a U.S. resident alien for tax purposes.If you are a U.S. resident alien who is relying on an exception contained in the saving clause of a tax treaty to claim an exemption from U.S. tax on certain types of income, you must attach a statement to Form W-9 that specifies the following five items.1. The treaty country. Generally, this must be the same treaty under which you claimed exemption from tax as a nonresident alien.2. The treaty article addressing the income.3. The article number (or location) in the tax treaty that contains the saving clause and its exceptions.4. The type and amount of income that qualifies for the exemption from tax.5. Sufficient facts to justify the exemption from tax under the terms of the treaty article.Example. Article 20 of the U.S.-China income tax treaty allows an exemption from tax for scholarship income received by a Chinese student temporarily present in the United States. Under U.S. law, this student will become a resident alien for tax purposes if their stay in the United States exceeds 5 calendar years. However, paragraph 2 of the first Protocol to the U.S.-China treaty (dated April 30, 1984) allows the provisions of Article 20 to continue to apply even after the Chinese student becomes a resident alien of the United States. A Chinese student who qualifies for this exception (under paragraph 2 of the first Protocol) and is relying on this exception to claim an exemption from tax on their scholarship or fellowship income would attach to Form W-9 a statement that includes the information described above to support that exemption.If you are a nonresident alien or a foreign entity, give the requester the appropriate completed Form W-8 or Form 8233.Backup WithholdingWhat is backup withholding? Persons making certain payments to you must under certain conditions withhold and pay to the IRS 24% of such payments. This is called “backup withholding.” Payments that may be subject to backup withholding include, but are not limited to, interest, tax-exempt interest, dividends, broker and barter exchange transactions, rents, royalties, nonemployee pay, payments made in settlement of payment card and third-party network transactions, and certain payments from fishing boat operators. Real estate transactions are not subject to backup withholding.You will not be subject to backup withholding on payments you receive if you give the requester your correct TIN, make the proper certifications, and report all your taxable interest and dividends on your tax return.Payments you receive will be subject to backup withholding if: 1. You do not furnish your TIN to the requester;2. You do not certify your TIN when required (see the instructions for Part II for details);3. The IRS tells the requester that you furnished an incorrect TIN;4. The IRS tells you that you are subject to backup withholding because you did not report all your interest and dividends on your tax return (for reportable interest and dividends only); or5. You do not certify to the requester that you are not subject to backup withholding, as described in item 4 under “By signing the filled-out form” above (for reportable interest and dividend accounts opened after 1983 only).\fForm W-9 (Rev. 3-2024)Page 3 Certain payees and payments are exempt from backup withholding. See Exempt payee code, later, and the separate Instructions for the Requester of Form W-9 for more information.See also Establishing U.S. status for purposes of chapter 3 and chapter 4 withholding, earlier.What Is FATCA Reporting?The Foreign Account Tax Compliance Act (FATCA) requires a participating foreign financial institution to report all U.S. account holders that are specified U.S. persons. Certain payees are exempt from FATCA reporting. See Exemption from FATCA reporting code, later, and the Instructions for the Requester of Form W-9 for more information.Updating Your InformationYou must provide updated information to any person to whom you claimed to be an exempt payee if you are no longer an exempt payee and anticipate receiving reportable payments in the future from this person. For example, you may need to provide updated information if you are a C corporation that elects to be an S corporation, or if you are no longer tax exempt. In addition, you must furnish a new Form W-9 if the name or TIN changes for the account, for example, if the grantor of a grantor trust dies.PenaltiesFailure to furnish TIN. If you fail to furnish your correct TIN to a requester, you are subject to a penalty of $50 for each such failure unless your failure is due to reasonable cause and not to willful neglect.Civil penalty for false information with respect to withholding. If you make a false statement with no reasonable basis that results in no backup withholding, you are subject to a $500 penalty.Criminal penalty for falsifying information. Willfully falsifying certifications or affirmations may subject you to criminal penalties including fines and/or imprisonment.Misuse of TINs. If the requester discloses or uses TINs in violation of federal law, the requester may be subject to civil and criminal penalties.Specific InstructionsLine 1You must enter one of the following on this line; do not leave this line blank. The name should match the name on your tax return.If this Form W-9 is for a joint account (other than an account maintained by a foreign financial institution (FFI)), list first, and then circle, the name of the person or entity whose number you entered in Part I of Form W-9. If you are providing Form W-9 to an FFI to document a joint account, each holder of the account that is a U.S. person must provide a Form W-9.• Individual. Generally, enter the name shown on your tax return. If you have changed your last name without informing the Social Security Administration (SSA) of the name change, enter your first name, the last name as shown on your social security card, and your new last name.  Note for ITIN applicant: Enter your individual name as it was entered on your Form W-7 application, line 1a. This should also be the same as the name you entered on the Form 1040 you filed with your application.• Sole proprietor. Enter your individual name as shown on your Form 1040 on line 1. Enter your business, trade, or “doing business as” (DBA) name on line 2.• Partnership, C corporation, S corporation, or LLC, other than a disregarded entity. Enter the entity’s name as shown on the entity’s tax return on line 1 and any business, trade, or DBA name on line 2.• Other entities. Enter your name as shown on required U.S. federal tax documents on line 1. This name should match the name shown on the charter or other legal document creating the entity. Enter any business, trade, or DBA name on line 2.• Disregarded entity. In general, a business entity that has a single owner, including an LLC, and is not a corporation, is disregarded as an entity separate from its owner (a disregarded entity). See Regulations section 301.7701-2(c)(2). A disregarded entity should check the appropriate box for the tax classification of its owner. Enter the owner’s name on line 1. The name of the owner entered on line 1 should never be a disregarded entity. The name on line 1 should be the name shown on the income tax return on which the income should be reported. Forexample, if a foreign LLC that is treated as a disregarded entity for U.S. federal tax purposes has a single owner that is a U.S. person, the U.S. owner’s name is required to be provided on line 1. If the direct owner of the entity is also a disregarded entity, enter the first owner that is not disregarded for federal tax purposes. Enter the disregarded entity’s name on line 2. If the owner of the disregarded entity is a foreign person, the owner must complete an appropriate Form W-8 instead of a Form W-9.  This is the case even if the foreign person has a U.S. TIN. Line 2If you have a business name, trade name, DBA name, or disregarded entity name, enter it on line 2.Line 3aCheck the appropriate box on line 3a for the U.S. federal tax classification of the person whose name is entered on line 1. Check only one box on line 3a.IF the entity/individual on line 1 is a(n) . . .THEN check the box for . . .•  CorporationCorporation.•  Individual or •  Sole proprietorshipIndividual/sole proprietor.•  LLC classified as a partnership for U.S. federal tax purposes or •  LLC that has filed Form 8832 or 2553 electing to be taxed as a corporationLimited liability company and enter the appropriate tax classification:  P = Partnership, C = C corporation, or S = S corporation.•  PartnershipPartnership.•  Trust/estateTrust/estate.Line 3bCheck this box if you are a partnership (including an LLC classified as a partnership for U.S. federal tax purposes), trust, or estate that has any foreign partners, owners, or beneficiaries, and you are providing this form to a partnership, trust, or estate, in which you have an ownership interest. You must check the box on line 3b if you receive a Form W-8 (or documentary evidence) from any partner, owner, or beneficiary establishing foreign status or if you receive a Form W-9 from any partner, owner, or beneficiary that has checked the box on line 3b.Note: A partnership that provides a Form W-9 and checks box 3b may be required to complete Schedules K-2 and K-3 (Form 1065). For more information, see the Partnership Instructions for Schedules K-2 and K-3 (Form 1065).If you are required to complete line 3b but fail to do so, you may not receive the information necessary to file a correct information return with the IRS or furnish a correct payee statement to your partners or beneficiaries. See, for example, sections 6698, 6722, and 6724 for penalties that may apply.Line 4 ExemptionsIf you are exempt from backup withholding and/or FATCA reporting, enter in the appropriate space on line 4 any code(s) that may apply to you.Exempt payee code.•  Generally, individuals (including sole proprietors) are not exempt from backup withholding.•  Except as provided below, corporations are exempt from backup withholding for certain payments, including interest and dividends.•  Corporations are not exempt from backup withholding for payments made in settlement of payment card or third-party network transactions.•  Corporations are not exempt from backup withholding with respect to attorneys’ fees or gross proceeds paid to attorneys, and corporations that provide medical or health care services are not exempt with respect to payments reportable on Form 1099-MISC.The following codes identify payees that are exempt from backup withholding. Enter the appropriate code in the space on line 4.1—An organization exempt from tax under section 501(a), any IRA, or a custodial account under section 403(b)(7) if the account satisfies the requirements of section 401(f)(2).\fForm W-9 (Rev. 3-2024)Page 4 2—The United States or any of its agencies or instrumentalities.3—A state, the District of Columbia, a U.S. commonwealth or territory, or any of their political subdivisions or instrumentalities.4—A foreign government or any of its political subdivisions, agencies, or instrumentalities.5—A corporation.6—A dealer in securities or commodities required to register in the United States, the District of Columbia, or a U.S. commonwealth or territory.7—A futures commission merchant registered with the Commodity Futures Trading Commission.8—A real estate investment trust.9—An entity registered at all times during the tax year under the Investment Company Act of 1940.10—A common trust fund operated by a bank under section 584(a).11—A financial institution as defined under section 581.12—A middleman known in the investment community as a nominee or custodian.13—A trust exempt from tax under section 664 or described in section 4947.The following chart shows types of payments that may be exempt from backup withholding. The chart applies to the exempt payees listed above, 1 through 13.IF the payment is for . . .THEN the payment is exempt for . . .•  Interest and dividend paymentsAll exempt payees except for 7.•  Broker transactionsExempt payees 1 through 4 and 6 through 11 and all C corporations. S corporations must not enter an exempt payee code because they are exempt only for sales of noncovered securities acquired prior to 2012.•  Barter exchange transactions and patronage dividendsExempt payees 1 through 4.•  Payments over $600 required to be reported and direct sales over $5,0001Generally, exempt payees 1 through 5.2•  Payments made in settlement of payment card or third-party network transactionsExempt payees 1 through 4.1 See Form 1099-MISC, Miscellaneous Information, and its instructions.2 However, the following payments made to a corporation and  reportable on Form 1099-MISC are not exempt from backup withholding: medical and health care payments, attorneys’ fees, gross proceeds paid to an attorney reportable under section 6045(f), and payments for services paid by a federal executive agency.Exemption from FATCA reporting code. The following codes identify payees that are exempt from reporting under FATCA. These codes apply to persons submitting this form for accounts maintained outside of the United States by certain foreign financial institutions. Therefore, if you are only submitting this form for an account you hold in the United States, you may leave this field blank. Consult with the person requesting this form if you are uncertain if the financial institution is subject to these requirements. A requester may indicate that a code is not required by providing you with a Form W-9 with “Not Applicable” (or any similar indication) entered on the line for a FATCA exemption code.A—An organization exempt from tax under section 501(a) or any individual retirement plan as defined in section 7701(a)(37).B—The United States or any of its agencies or instrumentalities.C—A state, the District of Columbia, a U.S. commonwealth or territory, or any of their political subdivisions or instrumentalities.D—A corporation the stock of which is regularly traded on one or more established securities markets, as described in Regulations section 1.1472-1(c)(1)(i).E—A corporation that is a member of the same expanded affiliated group as a corporation described in Regulations section 1.1472-1(c)(1)(i).F—A dealer in securities, commodities, or derivative financial instruments (including notional principal contracts, futures, forwards, and options) that is registered as such under the laws of the United States or any state.G—A real estate investment trust.H—A regulated investment company as defined in section 851 or an entity registered at all times during the tax year under the Investment Company Act of 1940.I—A common trust fund as defined in section 584(a).J—A bank as defined in section 581.K—A broker.L—A trust exempt from tax under section 664 or described in section 4947(a)(1).M—A tax-exempt trust under a section 403(b) plan or section 457(g) plan.Note: You may wish to consult with the financial institution requesting this form to determine whether the FATCA code and/or exempt payee code should be completed.Line 5Enter your address (number, street, and apartment or suite number). This is where the requester of this Form W-9 will mail your information returns. If this address differs from the one the requester already has on file, enter “NEW” at the top. If a new address is provided, there is still a chance the old address will be used until the payor changes your address in their records.Line 6Enter your city, state, and ZIP code.Part I. Taxpayer Identification Number (TIN)Enter your TIN in the appropriate box. If you are a resident alien and you do not have, and are not eligible to get, an SSN, your TIN is your IRS ITIN. Enter it in the entry space for the Social security number. If you do not have an ITIN, see How to get a TIN below.If you are a sole proprietor and you have an EIN, you may enter either your SSN or EIN. If you are a single-member LLC that is disregarded as an entity separate from its owner, enter the owner’s SSN (or EIN, if the owner has one). If the LLC is classified as a corporation or partnership, enter the entity’s EIN.Note: See What Name and Number To Give the Requester, later, for further clarification of name and TIN combinations.How to get a TIN. If you do not have a TIN, apply for one immediately. To apply for an SSN, get Form SS-5, Application for a Social Security Card, from your local SSA office or get this form online at www.SSA.gov. You may also get this form by calling 800-772-1213. Use Form W-7, Application for IRS Individual Taxpayer Identification Number, to apply for an ITIN, or Form SS-4, Application for Employer Identification Number, to apply for an EIN. You can apply for an EIN online by accessing the IRS website at www.irs.gov/EIN. Go to www.irs.gov/Forms to view, download, or print Form W-7 and/or Form SS-4. Or, you can go to www.irs.gov/OrderForms to place an order and have Form W-7 and/or Form SS-4 mailed to you within 15 business days.If you are asked to complete Form W-9 but do not have a TIN, apply for a TIN and enter “Applied For” in the space for the TIN, sign and date the form, and give it to the requester. For interest and dividend payments, and certain payments made with respect to readily tradable instruments, you will generally have 60 days to get a TIN and give it to the requester before you are subject to backup withholding on payments. The 60-day rule does not apply to other types of payments. You will be subject to backup withholding on all such payments until you provide your TIN to the requester.Note: Entering “Applied For” means that you have already applied for a TIN or that you intend to apply for one soon. See also Establishing U.S. status for purposes of chapter 3 and chapter 4 withholding, earlier, for when you may instead be subject to withholding under chapter 3 or 4 of the Code.Caution: A disregarded U.S. entity that has a foreign owner must use the appropriate Form W-8.\fForm W-9 (Rev. 3-2024)Page 5 Part II. CertificationTo establish to the withholding agent that you are a U.S. person, or resident alien, sign Form W-9. You may be requested to sign by the withholding agent even if item 1, 4, or 5 below indicates otherwise.For a joint account, only the person whose TIN is shown in Part I should sign (when required). In the case of a disregarded entity, the person identified on line 1 must sign. Exempt payees, see Exempt payee code, earlier.Signature requirements. Complete the certification as indicated in items 1 through 5 below.1. Interest, dividend, and barter exchange accounts opened before 1984 and broker accounts considered active during 1983. You must give your correct TIN, but you do not have to sign the certification.2. Interest, dividend, broker, and barter exchange accounts opened after 1983 and broker accounts considered inactive during 1983. You must sign the certification or backup withholding will apply. If you are subject to backup withholding and you are merely providing your correct TIN to the requester, you must cross out item 2 in the certification before signing the form.3. Real estate transactions. You must sign the certification. You may cross out item 2 of the certification.4. Other payments. You must give your correct TIN, but you do not have to sign the certification unless you have been notified that you have previously given an incorrect TIN. “Other payments” include payments made in the course of the requester’s trade or business for rents, royalties, goods (other than bills for merchandise), medical and health care services (including payments to corporations), payments to a nonemployee for services, payments made in settlement of payment card and third-party network transactions, payments to certain fishing boat crew members and fishermen, and gross proceeds paid to attorneys (including payments to corporations).  5. Mortgage interest paid by you, acquisition or abandonment of secured property, cancellation of debt, qualified tuition program payments (under section 529), ABLE accounts (under section 529A), IRA, Coverdell ESA, Archer MSA or HSA contributions or distributions, and pension distributions. You must give your correct TIN, but you do not have to sign the certification.What Name and Number To Give the RequesterFor this type of account:Give name and SSN of:1. IndividualThe individual2. Two or more individuals (joint account) other than an account maintained by an FFIThe actual owner of the account or, if combined funds, the first individual on the account13. Two or more U.S. persons     (joint account maintained by an FFI)Each holder of the account 4. Custodial account of a minor (Uniform Gift to Minors Act)The minor25. a. The usual revocable savings trust (grantor is also trustee)The grantor-trustee1b. So-called trust account that is not  a legal or valid trust under state lawThe actual owner16. Sole proprietorship or disregarded entity owned by an individualThe owner37. Grantor trust filing under Optional Filing Method 1 (see Regulations section 1.671-4(b)(2)(i)(A))**The grantor*For this type of account:Give name and EIN of:8. Disregarded entity not owned by an individualThe owner9. A valid trust, estate, or pension trustLegal entity410. Corporation or LLC electing corporate status on Form 8832 or Form 2553The corporation11. Association, club, religious, charitable, educational, or other tax-exempt organizationThe organization12. Partnership or multi-member LLCThe partnership13. A broker or registered nomineeThe broker or nominee14. Account with the Department of Agriculture in the name of a public entity (such as a state or local government, school district, or prison) that receives agricultural program paymentsThe public entity15. Grantor trust filing Form 1041 or under the Optional Filing Method 2, requiring Form 1099 (see Regulations section 1.671-4(b)(2)(i)(B))**The trust1 List first and circle the name of the person whose number you furnish.  If only one person on a joint account has an SSN, that person’s number must be furnished.2 Circle the minor’s name and furnish the minor’s SSN.3 You must show your individual name on line 1, and enter your business or DBA name, if any, on line 2. You may use either your SSN or EIN (if you have one), but the IRS encourages you to use your SSN.4 List first and circle the name of the trust, estate, or pension trust. (Do  not furnish the TIN of the personal representative or trustee unless the legal entity itself is not designated in the account title.) * Note: The grantor must also provide a Form W-9 to the trustee of the trust.** For more information on optional filing methods for grantor trusts, see the Instructions for Form 1041.Note: If no name is circled when more than one name is listed, the number will be considered to be that of the first name listed.Secure Your Tax Records From Identity TheftIdentity theft occurs when someone uses your personal information, such as your name, SSN, or other identifying information, without your permission to commit fraud or other crimes. An identity thief may use your SSN to get a job or may file a tax return using your SSN to receive a refund.To reduce your risk:• Protect your SSN,• Ensure your employer is protecting your SSN, and• Be careful when choosing a tax return preparer.If your tax records are affected by identity theft and you receive a notice from the IRS, respond right away to the name and phone number printed on the IRS notice or letter.If your tax records are not currently affected by identity theft but you think you are at risk due to a lost or stolen purse or wallet, questionable credit card activity, or a questionable credit report, contact the IRS Identity Theft Hotline at 800-908-4490 or submit Form 14039.For more information, see Pub. 5027, Identity Theft Information for Taxpayers.\fForm W-9 (Rev. 3-2024)Page 6 Victims of identity theft who are experiencing economic harm or a systemic problem, or are seeking help in resolving tax problems that have not been resolved through normal channels, may be eligible for Taxpayer Advocate Service (TAS) assistance. You can reach TAS by calling the TAS toll-free case intake line at 877-777-4778 or TTY/TDD 800-829-4059.Protect yourself from suspicious emails or phishing schemes.  Phishing is the creation and use of email and websites designed to mimic legitimate business emails and websites. The most common act is sending an email to a user falsely claiming to be an established legitimate enterprise in an attempt to scam the user into surrendering private information that will be used for identity theft.The IRS does not initiate contacts with taxpayers via emails. Also, the IRS does not request personal detailed information through email or ask taxpayers for the PIN numbers, passwords, or similar secret access information for their credit card, bank, or other financial accounts.If you receive an unsolicited email claiming to be from the IRS, forward this message to phishing@irs.gov. You may also report misuse of the IRS name, logo, or other IRS property to the Treasury Inspector General for Tax Administration (TIGTA) at 800-366-4484. You can forward suspicious emails to the Federal Trade Commission at spam@uce.gov or report them at www.ftc.gov/complaint. You can contact the FTC at www.ftc.gov/idtheft or 877-IDTHEFT (877-438-4338). If you have been the victim of identity theft, see www.IdentityTheft.gov and Pub. 5027.Go to www.irs.gov/IdentityTheft to learn more about identity theft and how to reduce your risk.Privacy Act NoticeSection 6109 of the Internal Revenue Code requires you to provide your correct TIN to persons (including federal agencies) who are required to file information returns with the IRS to report interest, dividends, or certain other income paid to you; mortgage interest you paid; the acquisition or abandonment of secured property; the cancellation of debt; or contributions you made to an IRA, Archer MSA, or HSA. The person collecting this form uses the information on the form to file information returns with the IRS, reporting the above information. Routine uses of this information include giving it to the Department of Justice for civil and criminal litigation and to cities, states, the District of Columbia, and U.S. commonwealths and territories for use in administering their laws. The information may also be disclosed to other countries under a treaty, to federal and state agencies to enforce civil and criminal laws, or to federal law enforcement and intelligence agencies to combat terrorism. You must provide your TIN whether or not you are required to file a tax return. Under section 3406, payors must generally withhold a percentage of taxable interest, dividends, and certain other payments to a payee who does not give a TIN to the payor. Certain penalties may also apply for providing false or fraudulent information.\f\n"
     ]
    }
   ],
   "source": [
    "import io\n",
    "import sys\n",
    "import pdfminer.high_level\n",
    " \n",
    "from pdfminer.converter import TextConverter\n",
    "from pdfminer.pdfinterp import PDFPageInterpreter\n",
    "from pdfminer.pdfinterp import PDFResourceManager\n",
    "from pdfminer.pdfpage import PDFPage\n",
    " \n",
    "def extract_text_from_pdf(pdf_path):\n",
    "    resource_manager = PDFResourceManager()\n",
    "    fake_file_handle = io.StringIO()\n",
    "    converter = TextConverter(resource_manager, fake_file_handle)\n",
    "    page_interpreter = PDFPageInterpreter(resource_manager, converter)\n",
    " \n",
    "    with open(pdf_path, 'rb') as fh:\n",
    "        for page in PDFPage.get_pages(fh, \n",
    "                                      caching=True,\n",
    "                                      check_extractable=True):\n",
    "            page_interpreter.process_page(page)\n",
    " \n",
    "        text = fake_file_handle.getvalue()\n",
    " \n",
    "    # close open handles\n",
    "    converter.close()\n",
    "    fake_file_handle.close()\n",
    " \n",
    "    if text:\n",
    "        return text\n",
    " \n",
    "if __name__ == '__main__':\n",
    "    print(extract_text_from_pdf(r'C:\\Users\\molde\\Downloads\\fw9.pdf'))"
   ]
  },
  {
   "cell_type": "code",
   "execution_count": 297,
   "metadata": {},
   "outputs": [
    {
     "name": "stdout",
     "output_type": "stream",
     "text": [
      "Form  W-9(Rev. March 2024)Request for Taxpayer Identification Number and CertificationDepartment of the Treasury  Internal Revenue Service Go to www.irs.gov/FormW9 for instructions and the latest information.Give form to the  requester. Do not send to the IRS.Before you begin. For guidance related to the purpose of Form W-9, see Purpose of Form, below.Print or type. See Specific Instructions on page 3.1    Name of entity/individual. An entry is required. (For a sole proprietor or disregarded entity, enter the owner’s name on line 1, and enter the business/disregarded entity’s name on line 2.)2    Business name/disregarded entity name, if different from above.3a  Check the appropriate box for federal tax classification of the entity/individual whose name is entered on line 1. Check only one of the following seven boxes. Individual/sole proprietorC corporationS corporationPartnershipTrust/estateLLC. Enter the tax classification (C = C corporation, S = S corporation, P = Partnership) ....Note: Check the “LLC” box above and, in the entry space, enter the appropriate code (C, S, or P) for the tax classification of the LLC, unless it is a disregarded entity. A disregarded entity should instead check the appropriate box for the tax classification of its owner.Other (see instructions) 3b If on line 3a you checked “Partnership” or “Trust/estate,” or checked “LLC” and entered “P” as its tax classification, and you are providing this form to a partnership, trust, or estate in which you have an ownership interest, check this box if you have any foreign partners, owners, or beneficiaries. See instructions .........4  Exemptions (codes apply only to certain entities, not individuals; see instructions on page 3):Exempt payee code (if any)Exemption from Foreign Account Tax Compliance Act (FATCA) reporting  code (if any)(Applies to accounts maintained outside the United States.)5    Address (number, street, and apt. or suite no.). See instructions.6    City, state, and ZIP codeRequester’s name and address (optional)7    List account number(s) here (optional)Part ITaxpayer Identification Number (TIN)Enter your TIN in the appropriate box. The TIN provided must match the name given on line 1 to avoid backup withholding. For individuals, this is generally your social security number (SSN). However, for a resident alien, sole proprietor, or disregarded entity, see the instructions for Part I, later. For other entities, it is your employer identification number (EIN). If you do not have a number, see How to get a TIN, later.Note: If the account is in more than one name, see the instructions for line 1. See also What Name and Number To Give the Requester for guidelines on whose number to enter.Social security number––orEmployer identification number –Part IICertificationUnder penalties of perjury, I certify that:1. The number shown on this form is my correct taxpayer identification number (or I am waiting for a number to be issued to me); and2. I am not subject to backup withholding because (a) I am exempt from backup withholding, or (b) I have not been notified by the Internal Revenue Service (IRS) that I am subject to backup withholding as a result of a failure to report all interest or dividends, or (c) the IRS has notified me that I am no longer subject to backup withholding; and3. I am a U.S. citizen or other U.S. person (defined below); and4. The FATCA code(s) entered on this form (if any) indicating that I am exempt from FATCA reporting is correct.Certification instructions. You must cross out item 2 above if you have been notified by the IRS that you are currently subject to backup withholding because you have failed to report all interest and dividends on your tax return. For real estate transactions, item 2 does not apply. For mortgage interest paid, acquisition or abandonment of secured property, cancellation of debt, contributions to an individual retirement arrangement (IRA), and, generally, payments other than interest and dividends, you are not required to sign the certification, but you must provide your correct TIN. See the instructions for Part II, later.Sign HereSignature of U.S. personDateGeneral InstructionsSection references are to the Internal Revenue Code unless otherwise noted.Future developments. For the latest information about developments related to Form W-9 and its instructions, such as legislation enacted after they were published, go to www.irs.gov/FormW9.What’s NewLine 3a has been modified to clarify how a disregarded entity completes this line. An LLC that is a disregarded entity should check the appropriate box for the tax classification of its owner. Otherwise, it should check the “LLC” box and enter its appropriate tax classification.New line 3b has been added to this form. A flow-through entity is required to complete this line to indicate that it has direct or indirect foreign partners, owners, or beneficiaries when it provides the Form W-9 to another flow-through entity in which it has an ownership interest. This change is intended to provide a flow-through entity with information regarding the status of its indirect foreign partners, owners, or beneficiaries, so that it can satisfy any applicable reporting requirements. For example, a partnership that has any indirect foreign partners may be required to complete Schedules K-2 and K-3. See the Partnership Instructions for Schedules K-2 and K-3 (Form 1065).Purpose of FormAn individual or entity (Form W-9 requester) who is required to file an information return with the IRS is giving you this form because theyCat. No. 10231XForm W-9 (Rev. 3-2024)\f\n",
      "\n",
      "Form W-9 (Rev. 3-2024)Page 2 must obtain your correct taxpayer identification number (TIN), which may be your social security number (SSN), individual taxpayer identification number (ITIN), adoption taxpayer identification number (ATIN), or employer identification number (EIN), to report on an information return the amount paid to you, or other amount reportable on an information return. Examples of information returns include, but are not limited to, the following.• Form 1099-INT (interest earned or paid).• Form 1099-DIV (dividends, including those from stocks or mutual funds).• Form 1099-MISC (various types of income, prizes, awards, or gross proceeds).• Form 1099-NEC (nonemployee compensation).• Form 1099-B (stock or mutual fund sales and certain other transactions by brokers).• Form 1099-S (proceeds from real estate transactions).• Form 1099-K (merchant card and third-party network transactions).• Form 1098 (home mortgage interest), 1098-E (student loan interest), and 1098-T (tuition).• Form 1099-C (canceled debt).• Form 1099-A (acquisition or abandonment of secured property).Use Form W-9 only if you are a U.S. person (including a resident alien), to provide your correct TIN. Caution: If you don’t return Form W-9 to the requester with a TIN, you might be subject to backup withholding. See What is backup withholding, later.By signing the filled-out form, you: 1. Certify that the TIN you are giving is correct (or you are waiting for a number to be issued);2. Certify that you are not subject to backup withholding; or3. Claim exemption from backup withholding if you are a U.S. exempt payee; and4. Certify to your non-foreign status for purposes of withholding under chapter 3 or 4 of the Code (if applicable); and5. Certify that FATCA code(s) entered on this form (if any) indicating that you are exempt from the FATCA reporting is correct. See What Is FATCA Reporting, later, for further information.Note: If you are a U.S. person and a requester gives you a form other than Form W-9 to request your TIN, you must use the requester’s form if it is substantially similar to this Form W-9.Definition of a U.S. person. For federal tax purposes, you are considered a U.S. person if you are:• An individual who is a U.S. citizen or U.S. resident alien;• A partnership, corporation, company, or association created or organized in the United States or under the laws of the United States;• An estate (other than a foreign estate); or• A domestic trust (as defined in Regulations section 301.7701-7).Establishing U.S. status for purposes of chapter 3 and chapter 4 withholding. Payments made to foreign persons, including certain distributions, allocations of income, or transfers of sales proceeds, may be subject to withholding under chapter 3 or chapter 4 of the Code (sections 1441–1474). Under those rules, if a Form W-9 or other certification of non-foreign status has not been received, a withholding agent, transferee, or partnership (payor) generally applies presumption rules that may require the payor to withhold applicable tax from the recipient, owner, transferor, or partner (payee). See Pub. 515, Withholding of Tax on Nonresident Aliens and Foreign Entities.The following persons must provide Form W-9 to the payor for purposes of establishing its non-foreign status.• In the case of a disregarded entity with a U.S. owner, the U.S. owner of the disregarded entity and not the disregarded entity.• In the case of a grantor trust with a U.S. grantor or other U.S. owner, generally, the U.S. grantor or other U.S. owner of the grantor trust and not the grantor trust.• In the case of a U.S. trust (other than a grantor trust), the U.S. trust and not the beneficiaries of the trust.See Pub. 515 for more information on providing a Form W-9 or a certification of non-foreign status to avoid withholding.Foreign person. If you are a foreign person or the U.S. branch of a foreign bank that has elected to be treated as a U.S. person (under Regulations section 1.1441-1(b)(2)(iv) or other applicable section for chapter 3 or 4 purposes), do not use Form W-9. Instead, use the appropriate Form W-8 or Form 8233 (see Pub. 515). If you are a qualified foreign pension fund under Regulations section 1.897(l)-1(d), or a partnership that is wholly owned by qualified foreign pension funds, that is treated as a non-foreign person for purposes of section 1445 withholding, do not use Form W-9. Instead, use Form W-8EXP (or other certification of non-foreign status).Nonresident alien who becomes a resident alien. Generally, only a nonresident alien individual may use the terms of a tax treaty to reduce or eliminate U.S. tax on certain types of income. However, most tax treaties contain a provision known as a saving clause. Exceptions specified in the saving clause may permit an exemption from tax to continue for certain types of income even after the payee has otherwise become a U.S. resident alien for tax purposes.If you are a U.S. resident alien who is relying on an exception contained in the saving clause of a tax treaty to claim an exemption from U.S. tax on certain types of income, you must attach a statement to Form W-9 that specifies the following five items.1. The treaty country. Generally, this must be the same treaty under which you claimed exemption from tax as a nonresident alien.2. The treaty article addressing the income.3. The article number (or location) in the tax treaty that contains the saving clause and its exceptions.4. The type and amount of income that qualifies for the exemption from tax.5. Sufficient facts to justify the exemption from tax under the terms of the treaty article.Example. Article 20 of the U.S.-China income tax treaty allows an exemption from tax for scholarship income received by a Chinese student temporarily present in the United States. Under U.S. law, this student will become a resident alien for tax purposes if their stay in the United States exceeds 5 calendar years. However, paragraph 2 of the first Protocol to the U.S.-China treaty (dated April 30, 1984) allows the provisions of Article 20 to continue to apply even after the Chinese student becomes a resident alien of the United States. A Chinese student who qualifies for this exception (under paragraph 2 of the first Protocol) and is relying on this exception to claim an exemption from tax on their scholarship or fellowship income would attach to Form W-9 a statement that includes the information described above to support that exemption.If you are a nonresident alien or a foreign entity, give the requester the appropriate completed Form W-8 or Form 8233.Backup WithholdingWhat is backup withholding? Persons making certain payments to you must under certain conditions withhold and pay to the IRS 24% of such payments. This is called “backup withholding.” Payments that may be subject to backup withholding include, but are not limited to, interest, tax-exempt interest, dividends, broker and barter exchange transactions, rents, royalties, nonemployee pay, payments made in settlement of payment card and third-party network transactions, and certain payments from fishing boat operators. Real estate transactions are not subject to backup withholding.You will not be subject to backup withholding on payments you receive if you give the requester your correct TIN, make the proper certifications, and report all your taxable interest and dividends on your tax return.Payments you receive will be subject to backup withholding if: 1. You do not furnish your TIN to the requester;2. You do not certify your TIN when required (see the instructions for Part II for details);3. The IRS tells the requester that you furnished an incorrect TIN;4. The IRS tells you that you are subject to backup withholding because you did not report all your interest and dividends on your tax return (for reportable interest and dividends only); or5. You do not certify to the requester that you are not subject to backup withholding, as described in item 4 under “By signing the filled-out form” above (for reportable interest and dividend accounts opened after 1983 only).\f\n",
      "\n",
      "Form W-9 (Rev. 3-2024)Page 3 Certain payees and payments are exempt from backup withholding. See Exempt payee code, later, and the separate Instructions for the Requester of Form W-9 for more information.See also Establishing U.S. status for purposes of chapter 3 and chapter 4 withholding, earlier.What Is FATCA Reporting?The Foreign Account Tax Compliance Act (FATCA) requires a participating foreign financial institution to report all U.S. account holders that are specified U.S. persons. Certain payees are exempt from FATCA reporting. See Exemption from FATCA reporting code, later, and the Instructions for the Requester of Form W-9 for more information.Updating Your InformationYou must provide updated information to any person to whom you claimed to be an exempt payee if you are no longer an exempt payee and anticipate receiving reportable payments in the future from this person. For example, you may need to provide updated information if you are a C corporation that elects to be an S corporation, or if you are no longer tax exempt. In addition, you must furnish a new Form W-9 if the name or TIN changes for the account, for example, if the grantor of a grantor trust dies.PenaltiesFailure to furnish TIN. If you fail to furnish your correct TIN to a requester, you are subject to a penalty of $50 for each such failure unless your failure is due to reasonable cause and not to willful neglect.Civil penalty for false information with respect to withholding. If you make a false statement with no reasonable basis that results in no backup withholding, you are subject to a $500 penalty.Criminal penalty for falsifying information. Willfully falsifying certifications or affirmations may subject you to criminal penalties including fines and/or imprisonment.Misuse of TINs. If the requester discloses or uses TINs in violation of federal law, the requester may be subject to civil and criminal penalties.Specific InstructionsLine 1You must enter one of the following on this line; do not leave this line blank. The name should match the name on your tax return.If this Form W-9 is for a joint account (other than an account maintained by a foreign financial institution (FFI)), list first, and then circle, the name of the person or entity whose number you entered in Part I of Form W-9. If you are providing Form W-9 to an FFI to document a joint account, each holder of the account that is a U.S. person must provide a Form W-9.• Individual. Generally, enter the name shown on your tax return. If you have changed your last name without informing the Social Security Administration (SSA) of the name change, enter your first name, the last name as shown on your social security card, and your new last name.  Note for ITIN applicant: Enter your individual name as it was entered on your Form W-7 application, line 1a. This should also be the same as the name you entered on the Form 1040 you filed with your application.• Sole proprietor. Enter your individual name as shown on your Form 1040 on line 1. Enter your business, trade, or “doing business as” (DBA) name on line 2.• Partnership, C corporation, S corporation, or LLC, other than a disregarded entity. Enter the entity’s name as shown on the entity’s tax return on line 1 and any business, trade, or DBA name on line 2.• Other entities. Enter your name as shown on required U.S. federal tax documents on line 1. This name should match the name shown on the charter or other legal document creating the entity. Enter any business, trade, or DBA name on line 2.• Disregarded entity. In general, a business entity that has a single owner, including an LLC, and is not a corporation, is disregarded as an entity separate from its owner (a disregarded entity). See Regulations section 301.7701-2(c)(2). A disregarded entity should check the appropriate box for the tax classification of its owner. Enter the owner’s name on line 1. The name of the owner entered on line 1 should never be a disregarded entity. The name on line 1 should be the name shown on the income tax return on which the income should be reported. Forexample, if a foreign LLC that is treated as a disregarded entity for U.S. federal tax purposes has a single owner that is a U.S. person, the U.S. owner’s name is required to be provided on line 1. If the direct owner of the entity is also a disregarded entity, enter the first owner that is not disregarded for federal tax purposes. Enter the disregarded entity’s name on line 2. If the owner of the disregarded entity is a foreign person, the owner must complete an appropriate Form W-8 instead of a Form W-9.  This is the case even if the foreign person has a U.S. TIN. Line 2If you have a business name, trade name, DBA name, or disregarded entity name, enter it on line 2.Line 3aCheck the appropriate box on line 3a for the U.S. federal tax classification of the person whose name is entered on line 1. Check only one box on line 3a.IF the entity/individual on line 1 is a(n) . . .THEN check the box for . . .•  CorporationCorporation.•  Individual or •  Sole proprietorshipIndividual/sole proprietor.•  LLC classified as a partnership for U.S. federal tax purposes or •  LLC that has filed Form 8832 or 2553 electing to be taxed as a corporationLimited liability company and enter the appropriate tax classification:  P = Partnership, C = C corporation, or S = S corporation.•  PartnershipPartnership.•  Trust/estateTrust/estate.Line 3bCheck this box if you are a partnership (including an LLC classified as a partnership for U.S. federal tax purposes), trust, or estate that has any foreign partners, owners, or beneficiaries, and you are providing this form to a partnership, trust, or estate, in which you have an ownership interest. You must check the box on line 3b if you receive a Form W-8 (or documentary evidence) from any partner, owner, or beneficiary establishing foreign status or if you receive a Form W-9 from any partner, owner, or beneficiary that has checked the box on line 3b.Note: A partnership that provides a Form W-9 and checks box 3b may be required to complete Schedules K-2 and K-3 (Form 1065). For more information, see the Partnership Instructions for Schedules K-2 and K-3 (Form 1065).If you are required to complete line 3b but fail to do so, you may not receive the information necessary to file a correct information return with the IRS or furnish a correct payee statement to your partners or beneficiaries. See, for example, sections 6698, 6722, and 6724 for penalties that may apply.Line 4 ExemptionsIf you are exempt from backup withholding and/or FATCA reporting, enter in the appropriate space on line 4 any code(s) that may apply to you.Exempt payee code.•  Generally, individuals (including sole proprietors) are not exempt from backup withholding.•  Except as provided below, corporations are exempt from backup withholding for certain payments, including interest and dividends.•  Corporations are not exempt from backup withholding for payments made in settlement of payment card or third-party network transactions.•  Corporations are not exempt from backup withholding with respect to attorneys’ fees or gross proceeds paid to attorneys, and corporations that provide medical or health care services are not exempt with respect to payments reportable on Form 1099-MISC.The following codes identify payees that are exempt from backup withholding. Enter the appropriate code in the space on line 4.1—An organization exempt from tax under section 501(a), any IRA, or a custodial account under section 403(b)(7) if the account satisfies the requirements of section 401(f)(2).\f\n",
      "\n",
      "Form W-9 (Rev. 3-2024)Page 4 2—The United States or any of its agencies or instrumentalities.3—A state, the District of Columbia, a U.S. commonwealth or territory, or any of their political subdivisions or instrumentalities.4—A foreign government or any of its political subdivisions, agencies, or instrumentalities.5—A corporation.6—A dealer in securities or commodities required to register in the United States, the District of Columbia, or a U.S. commonwealth or territory.7—A futures commission merchant registered with the Commodity Futures Trading Commission.8—A real estate investment trust.9—An entity registered at all times during the tax year under the Investment Company Act of 1940.10—A common trust fund operated by a bank under section 584(a).11—A financial institution as defined under section 581.12—A middleman known in the investment community as a nominee or custodian.13—A trust exempt from tax under section 664 or described in section 4947.The following chart shows types of payments that may be exempt from backup withholding. The chart applies to the exempt payees listed above, 1 through 13.IF the payment is for . . .THEN the payment is exempt for . . .•  Interest and dividend paymentsAll exempt payees except for 7.•  Broker transactionsExempt payees 1 through 4 and 6 through 11 and all C corporations. S corporations must not enter an exempt payee code because they are exempt only for sales of noncovered securities acquired prior to 2012.•  Barter exchange transactions and patronage dividendsExempt payees 1 through 4.•  Payments over $600 required to be reported and direct sales over $5,0001Generally, exempt payees 1 through 5.2•  Payments made in settlement of payment card or third-party network transactionsExempt payees 1 through 4.1 See Form 1099-MISC, Miscellaneous Information, and its instructions.2 However, the following payments made to a corporation and  reportable on Form 1099-MISC are not exempt from backup withholding: medical and health care payments, attorneys’ fees, gross proceeds paid to an attorney reportable under section 6045(f), and payments for services paid by a federal executive agency.Exemption from FATCA reporting code. The following codes identify payees that are exempt from reporting under FATCA. These codes apply to persons submitting this form for accounts maintained outside of the United States by certain foreign financial institutions. Therefore, if you are only submitting this form for an account you hold in the United States, you may leave this field blank. Consult with the person requesting this form if you are uncertain if the financial institution is subject to these requirements. A requester may indicate that a code is not required by providing you with a Form W-9 with “Not Applicable” (or any similar indication) entered on the line for a FATCA exemption code.A—An organization exempt from tax under section 501(a) or any individual retirement plan as defined in section 7701(a)(37).B—The United States or any of its agencies or instrumentalities.C—A state, the District of Columbia, a U.S. commonwealth or territory, or any of their political subdivisions or instrumentalities.D—A corporation the stock of which is regularly traded on one or more established securities markets, as described in Regulations section 1.1472-1(c)(1)(i).E—A corporation that is a member of the same expanded affiliated group as a corporation described in Regulations section 1.1472-1(c)(1)(i).F—A dealer in securities, commodities, or derivative financial instruments (including notional principal contracts, futures, forwards, and options) that is registered as such under the laws of the United States or any state.G—A real estate investment trust.H—A regulated investment company as defined in section 851 or an entity registered at all times during the tax year under the Investment Company Act of 1940.I—A common trust fund as defined in section 584(a).J—A bank as defined in section 581.K—A broker.L—A trust exempt from tax under section 664 or described in section 4947(a)(1).M—A tax-exempt trust under a section 403(b) plan or section 457(g) plan.Note: You may wish to consult with the financial institution requesting this form to determine whether the FATCA code and/or exempt payee code should be completed.Line 5Enter your address (number, street, and apartment or suite number). This is where the requester of this Form W-9 will mail your information returns. If this address differs from the one the requester already has on file, enter “NEW” at the top. If a new address is provided, there is still a chance the old address will be used until the payor changes your address in their records.Line 6Enter your city, state, and ZIP code.Part I. Taxpayer Identification Number (TIN)Enter your TIN in the appropriate box. If you are a resident alien and you do not have, and are not eligible to get, an SSN, your TIN is your IRS ITIN. Enter it in the entry space for the Social security number. If you do not have an ITIN, see How to get a TIN below.If you are a sole proprietor and you have an EIN, you may enter either your SSN or EIN. If you are a single-member LLC that is disregarded as an entity separate from its owner, enter the owner’s SSN (or EIN, if the owner has one). If the LLC is classified as a corporation or partnership, enter the entity’s EIN.Note: See What Name and Number To Give the Requester, later, for further clarification of name and TIN combinations.How to get a TIN. If you do not have a TIN, apply for one immediately. To apply for an SSN, get Form SS-5, Application for a Social Security Card, from your local SSA office or get this form online at www.SSA.gov. You may also get this form by calling 800-772-1213. Use Form W-7, Application for IRS Individual Taxpayer Identification Number, to apply for an ITIN, or Form SS-4, Application for Employer Identification Number, to apply for an EIN. You can apply for an EIN online by accessing the IRS website at www.irs.gov/EIN. Go to www.irs.gov/Forms to view, download, or print Form W-7 and/or Form SS-4. Or, you can go to www.irs.gov/OrderForms to place an order and have Form W-7 and/or Form SS-4 mailed to you within 15 business days.If you are asked to complete Form W-9 but do not have a TIN, apply for a TIN and enter “Applied For” in the space for the TIN, sign and date the form, and give it to the requester. For interest and dividend payments, and certain payments made with respect to readily tradable instruments, you will generally have 60 days to get a TIN and give it to the requester before you are subject to backup withholding on payments. The 60-day rule does not apply to other types of payments. You will be subject to backup withholding on all such payments until you provide your TIN to the requester.Note: Entering “Applied For” means that you have already applied for a TIN or that you intend to apply for one soon. See also Establishing U.S. status for purposes of chapter 3 and chapter 4 withholding, earlier, for when you may instead be subject to withholding under chapter 3 or 4 of the Code.Caution: A disregarded U.S. entity that has a foreign owner must use the appropriate Form W-8.\f\n",
      "\n",
      "Form W-9 (Rev. 3-2024)Page 5 Part II. CertificationTo establish to the withholding agent that you are a U.S. person, or resident alien, sign Form W-9. You may be requested to sign by the withholding agent even if item 1, 4, or 5 below indicates otherwise.For a joint account, only the person whose TIN is shown in Part I should sign (when required). In the case of a disregarded entity, the person identified on line 1 must sign. Exempt payees, see Exempt payee code, earlier.Signature requirements. Complete the certification as indicated in items 1 through 5 below.1. Interest, dividend, and barter exchange accounts opened before 1984 and broker accounts considered active during 1983. You must give your correct TIN, but you do not have to sign the certification.2. Interest, dividend, broker, and barter exchange accounts opened after 1983 and broker accounts considered inactive during 1983. You must sign the certification or backup withholding will apply. If you are subject to backup withholding and you are merely providing your correct TIN to the requester, you must cross out item 2 in the certification before signing the form.3. Real estate transactions. You must sign the certification. You may cross out item 2 of the certification.4. Other payments. You must give your correct TIN, but you do not have to sign the certification unless you have been notified that you have previously given an incorrect TIN. “Other payments” include payments made in the course of the requester’s trade or business for rents, royalties, goods (other than bills for merchandise), medical and health care services (including payments to corporations), payments to a nonemployee for services, payments made in settlement of payment card and third-party network transactions, payments to certain fishing boat crew members and fishermen, and gross proceeds paid to attorneys (including payments to corporations).  5. Mortgage interest paid by you, acquisition or abandonment of secured property, cancellation of debt, qualified tuition program payments (under section 529), ABLE accounts (under section 529A), IRA, Coverdell ESA, Archer MSA or HSA contributions or distributions, and pension distributions. You must give your correct TIN, but you do not have to sign the certification.What Name and Number To Give the RequesterFor this type of account:Give name and SSN of:1. IndividualThe individual2. Two or more individuals (joint account) other than an account maintained by an FFIThe actual owner of the account or, if combined funds, the first individual on the account13. Two or more U.S. persons     (joint account maintained by an FFI)Each holder of the account 4. Custodial account of a minor (Uniform Gift to Minors Act)The minor25. a. The usual revocable savings trust (grantor is also trustee)The grantor-trustee1b. So-called trust account that is not  a legal or valid trust under state lawThe actual owner16. Sole proprietorship or disregarded entity owned by an individualThe owner37. Grantor trust filing under Optional Filing Method 1 (see Regulations section 1.671-4(b)(2)(i)(A))**The grantor*For this type of account:Give name and EIN of:8. Disregarded entity not owned by an individualThe owner9. A valid trust, estate, or pension trustLegal entity410. Corporation or LLC electing corporate status on Form 8832 or Form 2553The corporation11. Association, club, religious, charitable, educational, or other tax-exempt organizationThe organization12. Partnership or multi-member LLCThe partnership13. A broker or registered nomineeThe broker or nominee14. Account with the Department of Agriculture in the name of a public entity (such as a state or local government, school district, or prison) that receives agricultural program paymentsThe public entity15. Grantor trust filing Form 1041 or under the Optional Filing Method 2, requiring Form 1099 (see Regulations section 1.671-4(b)(2)(i)(B))**The trust1 List first and circle the name of the person whose number you furnish.  If only one person on a joint account has an SSN, that person’s number must be furnished.2 Circle the minor’s name and furnish the minor’s SSN.3 You must show your individual name on line 1, and enter your business or DBA name, if any, on line 2. You may use either your SSN or EIN (if you have one), but the IRS encourages you to use your SSN.4 List first and circle the name of the trust, estate, or pension trust. (Do  not furnish the TIN of the personal representative or trustee unless the legal entity itself is not designated in the account title.) * Note: The grantor must also provide a Form W-9 to the trustee of the trust.** For more information on optional filing methods for grantor trusts, see the Instructions for Form 1041.Note: If no name is circled when more than one name is listed, the number will be considered to be that of the first name listed.Secure Your Tax Records From Identity TheftIdentity theft occurs when someone uses your personal information, such as your name, SSN, or other identifying information, without your permission to commit fraud or other crimes. An identity thief may use your SSN to get a job or may file a tax return using your SSN to receive a refund.To reduce your risk:• Protect your SSN,• Ensure your employer is protecting your SSN, and• Be careful when choosing a tax return preparer.If your tax records are affected by identity theft and you receive a notice from the IRS, respond right away to the name and phone number printed on the IRS notice or letter.If your tax records are not currently affected by identity theft but you think you are at risk due to a lost or stolen purse or wallet, questionable credit card activity, or a questionable credit report, contact the IRS Identity Theft Hotline at 800-908-4490 or submit Form 14039.For more information, see Pub. 5027, Identity Theft Information for Taxpayers.\f\n",
      "\n",
      "Form W-9 (Rev. 3-2024)Page 6 Victims of identity theft who are experiencing economic harm or a systemic problem, or are seeking help in resolving tax problems that have not been resolved through normal channels, may be eligible for Taxpayer Advocate Service (TAS) assistance. You can reach TAS by calling the TAS toll-free case intake line at 877-777-4778 or TTY/TDD 800-829-4059.Protect yourself from suspicious emails or phishing schemes.  Phishing is the creation and use of email and websites designed to mimic legitimate business emails and websites. The most common act is sending an email to a user falsely claiming to be an established legitimate enterprise in an attempt to scam the user into surrendering private information that will be used for identity theft.The IRS does not initiate contacts with taxpayers via emails. Also, the IRS does not request personal detailed information through email or ask taxpayers for the PIN numbers, passwords, or similar secret access information for their credit card, bank, or other financial accounts.If you receive an unsolicited email claiming to be from the IRS, forward this message to phishing@irs.gov. You may also report misuse of the IRS name, logo, or other IRS property to the Treasury Inspector General for Tax Administration (TIGTA) at 800-366-4484. You can forward suspicious emails to the Federal Trade Commission at spam@uce.gov or report them at www.ftc.gov/complaint. You can contact the FTC at www.ftc.gov/idtheft or 877-IDTHEFT (877-438-4338). If you have been the victim of identity theft, see www.IdentityTheft.gov and Pub. 5027.Go to www.irs.gov/IdentityTheft to learn more about identity theft and how to reduce your risk.Privacy Act NoticeSection 6109 of the Internal Revenue Code requires you to provide your correct TIN to persons (including federal agencies) who are required to file information returns with the IRS to report interest, dividends, or certain other income paid to you; mortgage interest you paid; the acquisition or abandonment of secured property; the cancellation of debt; or contributions you made to an IRA, Archer MSA, or HSA. The person collecting this form uses the information on the form to file information returns with the IRS, reporting the above information. Routine uses of this information include giving it to the Department of Justice for civil and criminal litigation and to cities, states, the District of Columbia, and U.S. commonwealths and territories for use in administering their laws. The information may also be disclosed to other countries under a treaty, to federal and state agencies to enforce civil and criminal laws, or to federal law enforcement and intelligence agencies to combat terrorism. You must provide your TIN whether or not you are required to file a tax return. Under section 3406, payors must generally withhold a percentage of taxable interest, dividends, and certain other payments to a payee who does not give a TIN to the payor. Certain penalties may also apply for providing false or fraudulent information.\f\n",
      "\n",
      "None\n"
     ]
    }
   ],
   "source": [
    "# miner_text_generator.py\n",
    " \n",
    "import io\n",
    " \n",
    "from pdfminer.converter import TextConverter\n",
    "from pdfminer.pdfinterp import PDFPageInterpreter\n",
    "from pdfminer.pdfinterp import PDFResourceManager\n",
    "from pdfminer.pdfpage import PDFPage\n",
    " \n",
    "def extract_text_by_page(pdf_path):\n",
    "    with open(pdf_path, 'rb') as fh:\n",
    "        for page in PDFPage.get_pages(fh, \n",
    "                                      caching=True,\n",
    "                                      check_extractable=True):\n",
    "            resource_manager = PDFResourceManager()\n",
    "            fake_file_handle = io.StringIO()\n",
    "            converter = TextConverter(resource_manager, fake_file_handle)\n",
    "            page_interpreter = PDFPageInterpreter(resource_manager, converter)\n",
    "            page_interpreter.process_page(page)\n",
    " \n",
    "            text = fake_file_handle.getvalue()\n",
    "            yield text\n",
    " \n",
    "            # close open handles\n",
    "            converter.close()\n",
    "            fake_file_handle.close()\n",
    " \n",
    "def extract_text(pdf_path):\n",
    "    for page in extract_text_by_page(pdf_path):\n",
    "        print(page)\n",
    "        print()\n",
    " \n",
    "if __name__ == '__main__':\n",
    "    print(extract_text(r'C:\\Users\\molde\\Downloads\\fw9.pdf'))"
   ]
  },
  {
   "cell_type": "code",
   "execution_count": 301,
   "metadata": {},
   "outputs": [
    {
     "ename": "ImportError",
     "evalue": "cannot import name 'extract_text_by_page' from 'miner_text_generator' (c:\\скил\\DST-156\\IDE_NEW\\miner_text_generator.py)",
     "output_type": "error",
     "traceback": [
      "\u001b[1;31m---------------------------------------------------------------------------\u001b[0m",
      "\u001b[1;31mImportError\u001b[0m                               Traceback (most recent call last)",
      "Cell \u001b[1;32mIn[301], line 4\u001b[0m\n\u001b[0;32m      1\u001b[0m \u001b[38;5;28;01mimport\u001b[39;00m \u001b[38;5;21;01mcsv\u001b[39;00m\n\u001b[0;32m      2\u001b[0m \u001b[38;5;28;01mimport\u001b[39;00m \u001b[38;5;21;01mos\u001b[39;00m\n\u001b[1;32m----> 4\u001b[0m \u001b[38;5;28;01mfrom\u001b[39;00m \u001b[38;5;21;01mminer_text_generator\u001b[39;00m \u001b[38;5;28;01mimport\u001b[39;00m extract_text_by_page\n\u001b[0;32m      7\u001b[0m \u001b[38;5;28;01mdef\u001b[39;00m \u001b[38;5;21mexport_as_csv\u001b[39m(pdf_path, csv_path):\n\u001b[0;32m      8\u001b[0m     filename \u001b[38;5;241m=\u001b[39m os\u001b[38;5;241m.\u001b[39mpath\u001b[38;5;241m.\u001b[39msplitext(os\u001b[38;5;241m.\u001b[39mpath\u001b[38;5;241m.\u001b[39mbasename(pdf_path))[\u001b[38;5;241m0\u001b[39m]\n",
      "\u001b[1;31mImportError\u001b[0m: cannot import name 'extract_text_by_page' from 'miner_text_generator' (c:\\скил\\DST-156\\IDE_NEW\\miner_text_generator.py)"
     ]
    }
   ],
   "source": [
    "import csv\n",
    "import os\n",
    " \n",
    "from miner_text_generator import extract_text_by_page\n",
    " \n",
    " \n",
    "def export_as_csv(pdf_path, csv_path):\n",
    "    filename = os.path.splitext(os.path.basename(pdf_path))[0]\n",
    " \n",
    "    counter = 1\n",
    "    with open(csv_path, 'w') as csv_file:\n",
    "        writer = csv.writer(csv_file)\n",
    "        for page in extract_text_by_page(pdf_path):\n",
    "            text = page[0:100]\n",
    "            words = text.split()\n",
    "            writer.writerow(words)\n",
    " \n",
    " \n",
    "if __name__ == '__main__':\n",
    "    pdf_path = 'fw9.pdf'\n",
    "    csv_path = 'fw9.csv'\n",
    "    export_as_csv(pdf_path, csv_path)"
   ]
  },
  {
   "cell_type": "code",
   "execution_count": 305,
   "metadata": {},
   "outputs": [
    {
     "name": "stdout",
     "output_type": "stream",
     "text": [
      "Collecting slate\n",
      "  Using cached slate-0.3.zip (20 kB)\n",
      "  Preparing metadata (setup.py): started\n",
      "  Preparing metadata (setup.py): finished with status 'done'\n",
      "Collecting distribute (from slate)\n",
      "  Using cached distribute-0.7.3.zip (145 kB)\n",
      "  Preparing metadata (setup.py): started\n",
      "  Preparing metadata (setup.py): finished with status 'error'\n",
      "Note: you may need to restart the kernel to use updated packages.\n"
     ]
    },
    {
     "name": "stderr",
     "output_type": "stream",
     "text": [
      "  error: subprocess-exited-with-error\n",
      "  \n",
      "  × python setup.py egg_info did not run successfully.\n",
      "  │ exit code: 1\n",
      "  ╰─> [17 lines of output]\n",
      "      Traceback (most recent call last):\n",
      "        File \"<string>\", line 2, in <module>\n",
      "        File \"<pip-setuptools-caller>\", line 14, in <module>\n",
      "        File \"C:\\Users\\molde\\AppData\\Local\\Temp\\pip-install-d8v4kwhb\\distribute_259009c41385444f90ce31d3bc769376\\setuptools\\__init__.py\", line 2, in <module>\n",
      "          from setuptools.extension import Extension, Library\n",
      "        File \"C:\\Users\\molde\\AppData\\Local\\Temp\\pip-install-d8v4kwhb\\distribute_259009c41385444f90ce31d3bc769376\\setuptools\\extension.py\", line 5, in <module>\n",
      "          from setuptools.dist import _get_unpatched\n",
      "        File \"C:\\Users\\molde\\AppData\\Local\\Temp\\pip-install-d8v4kwhb\\distribute_259009c41385444f90ce31d3bc769376\\setuptools\\dist.py\", line 7, in <module>\n",
      "          from setuptools.command.install import install\n",
      "        File \"C:\\Users\\molde\\AppData\\Local\\Temp\\pip-install-d8v4kwhb\\distribute_259009c41385444f90ce31d3bc769376\\setuptools\\command\\__init__.py\", line 8, in <module>\n",
      "          from setuptools.command import install_scripts\n",
      "        File \"C:\\Users\\molde\\AppData\\Local\\Temp\\pip-install-d8v4kwhb\\distribute_259009c41385444f90ce31d3bc769376\\setuptools\\command\\install_scripts.py\", line 3, in <module>\n",
      "          from pkg_resources import Distribution, PathMetadata, ensure_directory\n",
      "        File \"C:\\Users\\molde\\AppData\\Local\\Temp\\pip-install-d8v4kwhb\\distribute_259009c41385444f90ce31d3bc769376\\pkg_resources.py\", line 1518, in <module>\n",
      "          register_loader_type(importlib_bootstrap.SourceFileLoader, DefaultProvider)\n",
      "                               ^^^^^^^^^^^^^^^^^^^^^^^^^^^^^^^^^^^^\n",
      "      AttributeError: module 'importlib._bootstrap' has no attribute 'SourceFileLoader'\n",
      "      [end of output]\n",
      "  \n",
      "  note: This error originates from a subprocess, and is likely not a problem with pip.\n",
      "\n",
      "[notice] A new release of pip is available: 24.2 -> 25.0.1\n",
      "[notice] To update, run: C:\\Users\\molde\\AppData\\Local\\Microsoft\\WindowsApps\\PythonSoftwareFoundation.Python.3.11_qbz5n2kfra8p0\\python.exe -m pip install --upgrade pip\n",
      "error: metadata-generation-failed\n",
      "\n",
      "× Encountered error while generating package metadata.\n",
      "╰─> See above for output.\n",
      "\n",
      "note: This is an issue with the package mentioned above, not pip.\n",
      "hint: See above for details.\n"
     ]
    }
   ],
   "source": [
    "pip install slate"
   ]
  },
  {
   "cell_type": "code",
   "execution_count": 309,
   "metadata": {},
   "outputs": [
    {
     "ename": "ModuleNotFoundError",
     "evalue": "No module named 'slate'",
     "output_type": "error",
     "traceback": [
      "\u001b[1;31m---------------------------------------------------------------------------\u001b[0m",
      "\u001b[1;31mModuleNotFoundError\u001b[0m                       Traceback (most recent call last)",
      "Cell \u001b[1;32mIn[309], line 3\u001b[0m\n\u001b[0;32m      1\u001b[0m \u001b[38;5;66;03m# slate_text_extraction.py\u001b[39;00m\n\u001b[1;32m----> 3\u001b[0m \u001b[38;5;28;01mfrom\u001b[39;00m \u001b[38;5;21;01mslate_text_extraction\u001b[39;00m \u001b[38;5;28;01mimport\u001b[39;00m slate\n\u001b[0;32m      5\u001b[0m \u001b[38;5;28;01mdef\u001b[39;00m \u001b[38;5;21mextract_text_from_pdf\u001b[39m(pdf_path):\n\u001b[0;32m      6\u001b[0m     \u001b[38;5;28;01mwith\u001b[39;00m \u001b[38;5;28mopen\u001b[39m(pdf_path) \u001b[38;5;28;01mas\u001b[39;00m fh:\n",
      "File \u001b[1;32mc:\\скил\\DST-156\\IDE_NEW\\slate_text_extraction.py:3\u001b[0m\n\u001b[0;32m      1\u001b[0m \u001b[38;5;66;03m# slate_text_extraction.py\u001b[39;00m\n\u001b[1;32m----> 3\u001b[0m \u001b[38;5;28;01mimport\u001b[39;00m \u001b[38;5;21;01mslate\u001b[39;00m\n\u001b[0;32m      5\u001b[0m \u001b[38;5;28;01mdef\u001b[39;00m \u001b[38;5;21mextract_text_from_pdf\u001b[39m(pdf_path):\n\u001b[0;32m      6\u001b[0m     \u001b[38;5;28;01mwith\u001b[39;00m \u001b[38;5;28mopen\u001b[39m(pdf_path) \u001b[38;5;28;01mas\u001b[39;00m fh:\n",
      "\u001b[1;31mModuleNotFoundError\u001b[0m: No module named 'slate'"
     ]
    }
   ],
   "source": [
    "# slate_text_extraction.py\n",
    " \n",
    "from slate_text_extraction import slate\n",
    " \n",
    "def extract_text_from_pdf(pdf_path):\n",
    "    with open(pdf_path) as fh:\n",
    "        document = slate.PDF(fh, password='', just_text=1)\n",
    " \n",
    "    for page in document:\n",
    "        print(page)\n",
    " \n",
    "if __name__ == '__main__':\n",
    "    extract_text_from_pdf('w9.pdf')"
   ]
  },
  {
   "cell_type": "code",
   "execution_count": 269,
   "metadata": {},
   "outputs": [
    {
     "name": "stdout",
     "output_type": "stream",
     "text": [
      "10 10.0\n"
     ]
    }
   ],
   "source": [
    "int_var=10 \n",
    "float_var=float(int_var)\n",
    "print(int_var,float_var)"
   ]
  },
  {
   "cell_type": "code",
   "execution_count": 270,
   "metadata": {},
   "outputs": [
    {
     "data": {
      "text/plain": [
       "6.5"
      ]
     },
     "execution_count": 270,
     "metadata": {},
     "output_type": "execute_result"
    }
   ],
   "source": [
    "num1=3\n",
    "num2=3.5\n",
    "sum=num1+num2\n",
    "sum"
   ]
  },
  {
   "cell_type": "code",
   "execution_count": 274,
   "metadata": {},
   "outputs": [
    {
     "data": {
      "text/plain": [
       "'I am 10 years old'"
      ]
     },
     "execution_count": 274,
     "metadata": {},
     "output_type": "execute_result"
    }
   ],
   "source": [
    "str_var1='I am '\n",
    "str_var2=10\n",
    "str_var3=' years old'\n",
    "f=str_var1+str(str_var2)+str_var3\n",
    "f"
   ]
  },
  {
   "cell_type": "code",
   "execution_count": 278,
   "metadata": {},
   "outputs": [
    {
     "data": {
      "text/plain": [
       "33"
      ]
     },
     "execution_count": 278,
     "metadata": {},
     "output_type": "execute_result"
    }
   ],
   "source": [
    "my_date = \"1990\"\n",
    "mom_date = \"1957\"\n",
    "fin= int(my_date)-int(mom_date)\n",
    "fin"
   ]
  },
  {
   "cell_type": "code",
   "execution_count": 280,
   "metadata": {},
   "outputs": [
    {
     "data": {
      "text/plain": [
       "1990.0"
      ]
     },
     "execution_count": 280,
     "metadata": {},
     "output_type": "execute_result"
    }
   ],
   "source": [
    "my_date = \"1990.0\"\n",
    "float(my_date)"
   ]
  },
  {
   "cell_type": "code",
   "execution_count": 283,
   "metadata": {},
   "outputs": [
    {
     "data": {
      "text/plain": [
       "['Anne', 'Sam', 'Marie', 'Tom', 'Curt']"
      ]
     },
     "execution_count": 283,
     "metadata": {},
     "output_type": "execute_result"
    }
   ],
   "source": [
    "dictionary = {\"Anne\": 15, \"Sam\": 30, \"Marie\": 22}\n",
    "only_keys = dictionary.keys()\n",
    "only_keys\n",
    "# dict_keys([\"Anne\", \"Sam\", \"Marie\"])\n",
    "\n",
    "only_keys = list(only_keys) + [\"Tom\", \"Curt\"]\n",
    "# TypeError: unsupported operand type(s) for +: 'dict_keys' and 'list'\n",
    "only_keys"
   ]
  },
  {
   "cell_type": "code",
   "execution_count": 284,
   "metadata": {},
   "outputs": [],
   "source": [
    "d = {(\"Amanda\", 22, \"NY\"): \"3rd place\"}"
   ]
  },
  {
   "cell_type": "markdown",
   "metadata": {},
   "source": [
    "Задание 6.1"
   ]
  },
  {
   "cell_type": "code",
   "execution_count": 315,
   "metadata": {},
   "outputs": [
    {
     "data": {
      "text/plain": [
       "[1, 2, 3]"
      ]
     },
     "execution_count": 315,
     "metadata": {},
     "output_type": "execute_result"
    }
   ],
   "source": [
    "list1=[]\n",
    "list1.append(1)\n",
    "list1.append(2)\n",
    "list1.append(3)\n",
    "list1"
   ]
  },
  {
   "cell_type": "markdown",
   "metadata": {},
   "source": [
    "Задание 6.2"
   ]
  },
  {
   "cell_type": "code",
   "execution_count": 325,
   "metadata": {},
   "outputs": [
    {
     "data": {
      "text/plain": [
       "[1, 2, 3, 4, -5, -3, -1, 1, 3, 5, 7, 9, 11, 13]"
      ]
     },
     "execution_count": 325,
     "metadata": {},
     "output_type": "execute_result"
    }
   ],
   "source": [
    "list2=list(range(-5,15,2))\n",
    "list3=[1,2,3,4]\n",
    "list3.extend(list2)\n",
    "list3"
   ]
  },
  {
   "cell_type": "markdown",
   "metadata": {},
   "source": [
    "Задание 6.3"
   ]
  },
  {
   "cell_type": "code",
   "execution_count": 340,
   "metadata": {},
   "outputs": [
    {
     "name": "stdout",
     "output_type": "stream",
     "text": [
      "[3, 1, -10, 5, 11, 20, 1, -10] [20, 11, 5, 3, 1, 1, -10, -10]\n"
     ]
    }
   ],
   "source": [
    "list6=[3,1,-10,5,11,20,1,-10]\n",
    "list7=list6.copy()\n",
    "list6.sort()\n",
    "list6.reverse()\n",
    "list_result=list6\n",
    "list_result\n",
    "print(list7,list_result)"
   ]
  },
  {
   "cell_type": "markdown",
   "metadata": {},
   "source": [
    "Задание 6.4"
   ]
  },
  {
   "cell_type": "code",
   "execution_count": 346,
   "metadata": {},
   "outputs": [
    {
     "data": {
      "text/plain": [
       "{(10, 15): 'hello'}"
      ]
     },
     "execution_count": 346,
     "metadata": {},
     "output_type": "execute_result"
    }
   ],
   "source": [
    "list1=[10,15]\n",
    "tpl1=tuple(list1)\n",
    "type(tpl1)\n",
    "dict1={tpl1:'hello'}\n",
    "dict1"
   ]
  },
  {
   "cell_type": "markdown",
   "metadata": {},
   "source": [
    "Задание 6.5"
   ]
  },
  {
   "cell_type": "code",
   "execution_count": 348,
   "metadata": {},
   "outputs": [
    {
     "name": "stdout",
     "output_type": "stream",
     "text": [
      "{'name': 'unknown'} {'name': 'Tom'} dict_keys(['name']) dict_values(['unknown'])\n"
     ]
    }
   ],
   "source": [
    "dist1={'name':'unknown'}\n",
    "dist2={'name':'Tom'}\n",
    "print(dist1,dist2,dist1.keys(),dist1.values())\n"
   ]
  },
  {
   "cell_type": "markdown",
   "metadata": {},
   "source": [
    "Задание 6.6"
   ]
  },
  {
   "cell_type": "code",
   "execution_count": 351,
   "metadata": {},
   "outputs": [
    {
     "name": "stdout",
     "output_type": "stream",
     "text": [
      "{'w', 'o', 'h', 'l', 'e'} {'o'} {'e', 'h', 'l'}\n"
     ]
    }
   ],
   "source": [
    "s1=set('hello')\n",
    "s2=set(['w','o','w'])\n",
    "print(s1.union(s2),s1.intersection(s2),s1.difference(s2))\n"
   ]
  },
  {
   "cell_type": "markdown",
   "metadata": {},
   "source": [
    "Задание 6.7"
   ]
  },
  {
   "cell_type": "code",
   "execution_count": 352,
   "metadata": {},
   "outputs": [
    {
     "data": {
      "text/plain": [
       "'age is 15'"
      ]
     },
     "execution_count": 352,
     "metadata": {},
     "output_type": "execute_result"
    }
   ],
   "source": [
    "result='age is '+ str(15)\n",
    "result"
   ]
  },
  {
   "cell_type": "code",
   "execution_count": 353,
   "metadata": {},
   "outputs": [
    {
     "name": "stdout",
     "output_type": "stream",
     "text": [
      "[1, 2, 3, [1, 2, 3]]\n"
     ]
    }
   ],
   "source": [
    "a = [1,2,3]\n",
    "b = [1,2,3]\n",
    "\n",
    "a.append(b)\n",
    "print(a)"
   ]
  },
  {
   "cell_type": "code",
   "execution_count": 357,
   "metadata": {},
   "outputs": [
    {
     "data": {
      "text/plain": [
       "['a', 'b', 'c', 'd']"
      ]
     },
     "execution_count": 357,
     "metadata": {},
     "output_type": "execute_result"
    }
   ],
   "source": [
    "d = {'c':3, 'd':4, 'b':2, 'a':1}\n",
    "\n",
    "sorted(d)"
   ]
  },
  {
   "cell_type": "code",
   "execution_count": 363,
   "metadata": {},
   "outputs": [
    {
     "data": {
      "text/plain": [
       "'A + + + + string + + + + with + + + + white + + + + space'"
      ]
     },
     "execution_count": 363,
     "metadata": {},
     "output_type": "execute_result"
    }
   ],
   "source": [
    "s = 'A string with white space'\n",
    "s_split=s.split()\n",
    "\" + + + + \".join(s_split)"
   ]
  },
  {
   "cell_type": "code",
   "execution_count": 365,
   "metadata": {},
   "outputs": [
    {
     "data": {
      "text/plain": [
       "['id', 'name', 'color', 'speed']"
      ]
     },
     "execution_count": 365,
     "metadata": {},
     "output_type": "execute_result"
    }
   ],
   "source": [
    "d = {'id':7, 'name':'Shiba', 'color':'brown', 'speed':'very slow'}\n",
    "list(d.keys())"
   ]
  }
 ],
 "metadata": {
  "kernelspec": {
   "display_name": "Python 3",
   "language": "python",
   "name": "python3"
  },
  "language_info": {
   "codemirror_mode": {
    "name": "ipython",
    "version": 3
   },
   "file_extension": ".py",
   "mimetype": "text/x-python",
   "name": "python",
   "nbconvert_exporter": "python",
   "pygments_lexer": "ipython3",
   "version": "3.11.9"
  }
 },
 "nbformat": 4,
 "nbformat_minor": 2
}
