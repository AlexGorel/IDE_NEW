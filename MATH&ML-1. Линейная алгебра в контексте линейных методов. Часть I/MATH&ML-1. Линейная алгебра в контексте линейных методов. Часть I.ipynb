{
 "cells": [
  {
   "cell_type": "code",
   "execution_count": 1,
   "metadata": {},
   "outputs": [
    {
     "data": {
      "text/html": [
       "<div>\n",
       "<style scoped>\n",
       "    .dataframe tbody tr th:only-of-type {\n",
       "        vertical-align: middle;\n",
       "    }\n",
       "\n",
       "    .dataframe tbody tr th {\n",
       "        vertical-align: top;\n",
       "    }\n",
       "\n",
       "    .dataframe thead th {\n",
       "        text-align: right;\n",
       "    }\n",
       "</style>\n",
       "<table border=\"1\" class=\"dataframe\">\n",
       "  <thead>\n",
       "    <tr style=\"text-align: right;\">\n",
       "      <th></th>\n",
       "      <th>1.Rent</th>\n",
       "      <th>2.Area</th>\n",
       "      <th>3.Rooms</th>\n",
       "      <th>4.Floor</th>\n",
       "      <th>5.Demo two weeks</th>\n",
       "      <th>6.Liv.Area</th>\n",
       "    </tr>\n",
       "  </thead>\n",
       "  <tbody>\n",
       "    <tr>\n",
       "      <th>0</th>\n",
       "      <td>65</td>\n",
       "      <td>50</td>\n",
       "      <td>3</td>\n",
       "      <td>5</td>\n",
       "      <td>8</td>\n",
       "      <td>37</td>\n",
       "    </tr>\n",
       "    <tr>\n",
       "      <th>1</th>\n",
       "      <td>70</td>\n",
       "      <td>52</td>\n",
       "      <td>2</td>\n",
       "      <td>12</td>\n",
       "      <td>4</td>\n",
       "      <td>40</td>\n",
       "    </tr>\n",
       "    <tr>\n",
       "      <th>2</th>\n",
       "      <td>120</td>\n",
       "      <td>80</td>\n",
       "      <td>1</td>\n",
       "      <td>10</td>\n",
       "      <td>5</td>\n",
       "      <td>65</td>\n",
       "    </tr>\n",
       "    <tr>\n",
       "      <th>3</th>\n",
       "      <td>35</td>\n",
       "      <td>33</td>\n",
       "      <td>1</td>\n",
       "      <td>3</td>\n",
       "      <td>10</td>\n",
       "      <td>20</td>\n",
       "    </tr>\n",
       "    <tr>\n",
       "      <th>4</th>\n",
       "      <td>40</td>\n",
       "      <td>33</td>\n",
       "      <td>1</td>\n",
       "      <td>6</td>\n",
       "      <td>20</td>\n",
       "      <td>16</td>\n",
       "    </tr>\n",
       "    <tr>\n",
       "      <th>5</th>\n",
       "      <td>50</td>\n",
       "      <td>44</td>\n",
       "      <td>2</td>\n",
       "      <td>13</td>\n",
       "      <td>12</td>\n",
       "      <td>35</td>\n",
       "    </tr>\n",
       "    <tr>\n",
       "      <th>6</th>\n",
       "      <td>100</td>\n",
       "      <td>80</td>\n",
       "      <td>4</td>\n",
       "      <td>8</td>\n",
       "      <td>5</td>\n",
       "      <td>60</td>\n",
       "    </tr>\n",
       "    <tr>\n",
       "      <th>7</th>\n",
       "      <td>90</td>\n",
       "      <td>65</td>\n",
       "      <td>3</td>\n",
       "      <td>21</td>\n",
       "      <td>1</td>\n",
       "      <td>50</td>\n",
       "    </tr>\n",
       "    <tr>\n",
       "      <th>8</th>\n",
       "      <td>85</td>\n",
       "      <td>65</td>\n",
       "      <td>2</td>\n",
       "      <td>5</td>\n",
       "      <td>10</td>\n",
       "      <td>40</td>\n",
       "    </tr>\n",
       "  </tbody>\n",
       "</table>\n",
       "</div>"
      ],
      "text/plain": [
       "   1.Rent  2.Area  3.Rooms  4.Floor  5.Demo two weeks  6.Liv.Area\n",
       "0      65      50        3        5                 8          37\n",
       "1      70      52        2       12                 4          40\n",
       "2     120      80        1       10                 5          65\n",
       "3      35      33        1        3                10          20\n",
       "4      40      33        1        6                20          16\n",
       "5      50      44        2       13                12          35\n",
       "6     100      80        4        8                 5          60\n",
       "7      90      65        3       21                 1          50\n",
       "8      85      65        2        5                10          40"
      ]
     },
     "execution_count": 1,
     "metadata": {},
     "output_type": "execute_result"
    }
   ],
   "source": [
    "import pandas as pd\n",
    "\n",
    "Hut_Paradise_DF = pd.DataFrame({\n",
    "    '1.Rent': [65, 70, 120, 35, 40, 50, 100, 90, 85], \n",
    "    '2.Area': [50, 52, 80, 33, 33, 44, 80, 65, 65], \n",
    "    '3.Rooms':[3, 2, 1, 1, 1, 2, 4, 3, 2],\n",
    "    '4.Floor':[5, 12, 10, 3, 6, 13, 8, 21, 5], \n",
    "    '5.Demo two weeks':[8, 4, 5, 10, 20, 12, 5, 1, 10], \n",
    "    '6.Liv.Area': [37, 40, 65, 20, 16, 35, 60, 50, 40]\n",
    "})\n",
    "Hut_Paradise_DF"
   ]
  },
  {
   "cell_type": "markdown",
   "metadata": {},
   "source": [
    "Задание 3.3\n",
    "\n",
    "1/1 point (graded)\n",
    "\n",
    "Найдите вектор параметров квартиры номер 5 (нумерация квартир — с 1). Для преобразования DataFrame в массив numpy можно воспользоваться атрибутом values:\n",
    "\n",
    "Hut_Paradise_values = Hut_Paradise_DF.values\n",
    "  \n",
    "Выберите координаты данного вектора:"
   ]
  },
  {
   "cell_type": "code",
   "execution_count": 2,
   "metadata": {},
   "outputs": [],
   "source": [
    "Hut_Paradise_values = Hut_Paradise_DF.values"
   ]
  },
  {
   "cell_type": "code",
   "execution_count": 3,
   "metadata": {},
   "outputs": [
    {
     "name": "stdout",
     "output_type": "stream",
     "text": [
      "Вектор параметров квартиры номер 5:\n",
      " [40 33  1  6 20 16]\n",
      "type of x_3_3: <class 'numpy.ndarray'>\n"
     ]
    }
   ],
   "source": [
    "x_3_3=Hut_Paradise_values[4] # вторая строка матрицы А\n",
    "print('Вектор параметров квартиры номер 5:\\n',x_3_3)\n",
    "print('type of x_3_3:',type(x_3_3))"
   ]
  },
  {
   "cell_type": "markdown",
   "metadata": {},
   "source": [
    "Задание 3.4\n",
    "\n",
    "1/1 point (graded)\n",
    "\n",
    "Найдите вектор этажей всех квартир. Выберите координаты полученного вектора:"
   ]
  },
  {
   "cell_type": "code",
   "execution_count": 4,
   "metadata": {},
   "outputs": [
    {
     "name": "stdout",
     "output_type": "stream",
     "text": [
      "Вектор этажей всех квартир:\n",
      " [ 5 12 10  3  6 13  8 21  5]\n"
     ]
    }
   ],
   "source": [
    "y_3_4=Hut_Paradise_values[:,3] # четвертый столбец матрицы А\n",
    "print('Вектор этажей всех квартир:\\n',y_3_4)"
   ]
  },
  {
   "cell_type": "markdown",
   "metadata": {},
   "source": [
    "Задание 3.5\n",
    "\n",
    "1 point possible (graded)\n",
    "\n",
    "Вычислите вектор нежилой площади. Выберите координаты полученного вектора:"
   ]
  },
  {
   "cell_type": "code",
   "execution_count": 5,
   "metadata": {},
   "outputs": [
    {
     "name": "stdout",
     "output_type": "stream",
     "text": [
      "Вектор нежилой площади:\n",
      " [13 12 15 13 17  9 20 15 25]\n"
     ]
    }
   ],
   "source": [
    "#Area=Hut_Paradise_values[:,1] \n",
    "#Liv_Area= Hut_Paradise_values[:,5]\n",
    "Non_liv_area=Hut_Paradise_values[:,1]-Hut_Paradise_values[:,5]\n",
    "print('Вектор нежилой площади:\\n',Non_liv_area)\n"
   ]
  },
  {
   "cell_type": "markdown",
   "metadata": {},
   "source": [
    "Задание 3.6\n",
    "\n",
    "1 point possible (graded)\n",
    "\n",
    "Пусть в первой квартире один просмотр занимает 10 минут, во второй — 20 минут, в третьей — полчаса, в четверой — 15 минут, в пятой — 5 минут, в шестой — 40 минут, в седьмой — 20 минут, в восьмой — 8 минут и в девятой — 20 минут.\n",
    "\n",
    "Найдите продолжительность просмотров в минутах во всех квартирах за две недели."
   ]
  },
  {
   "cell_type": "code",
   "execution_count": 6,
   "metadata": {},
   "outputs": [
    {
     "name": "stdout",
     "output_type": "stream",
     "text": [
      "scalar product: 1348\n"
     ]
    }
   ],
   "source": [
    "import numpy as np\n",
    "Viewing_duration=np.array([10,20,30,15,5,40,20,8,20])\n",
    "s_3_6=np.dot(Viewing_duration,Hut_Paradise_values[:,4])\n",
    "print('scalar product:',s_3_6)\n"
   ]
  },
  {
   "cell_type": "markdown",
   "metadata": {},
   "source": [
    "Задание 3.7\n",
    "\n",
    "1 point possible (graded)\n",
    "\n",
    "Составьте линейную комбинацию векторов  и  с коэффициентами 2 и -3. Выберите координаты полученного вектора:"
   ]
  },
  {
   "cell_type": "code",
   "execution_count": 7,
   "metadata": {},
   "outputs": [
    {
     "name": "stdout",
     "output_type": "stream",
     "text": [
      "linear combination: [-3 14  3  4  2]\n"
     ]
    }
   ],
   "source": [
    "u=np.array([3,0,1,1,1])\n",
    "v=np.array([0,1,0,2,-2])\n",
    "w=np.array([1,-4,-1,0,-2])\n",
    "\n",
    "\n",
    "d_3_7=2*v-3*w\n",
    "print('linear combination:',d_3_7)"
   ]
  },
  {
   "cell_type": "markdown",
   "metadata": {},
   "source": [
    "Задание 3.8\n",
    "\n",
    "1 point possible (graded)\n",
    "\n",
    "Будет ли эта комбинация ортогональна вектору ?"
   ]
  },
  {
   "cell_type": "code",
   "execution_count": 8,
   "metadata": {},
   "outputs": [
    {
     "name": "stdout",
     "output_type": "stream",
     "text": [
      "scalar product: 0\n"
     ]
    }
   ],
   "source": [
    "s_3_8=np.dot(d_3_7,u)\n",
    "print('scalar product:',s_3_8)"
   ]
  },
  {
   "cell_type": "code",
   "execution_count": 9,
   "metadata": {},
   "outputs": [
    {
     "name": "stdout",
     "output_type": "stream",
     "text": [
      "a_23= 1 a_32= 3 a_33= 1\n"
     ]
    }
   ],
   "source": [
    "A = np.matrix([\n",
    "    [1, -5, 3], \n",
    "    [2, 2, 1],\n",
    "    [0, 3, 1],\n",
    "    [2, 4, 12]\n",
    "])\n",
    "A\n",
    "A.shape\n",
    "print('a_23=', A[1, 2], 'a_32=', A[2, 1], 'a_33=', A[2,2])"
   ]
  },
  {
   "cell_type": "code",
   "execution_count": 10,
   "metadata": {},
   "outputs": [
    {
     "data": {
      "text/plain": [
       "array([[ 1, -5,  3],\n",
       "       [ 2,  2,  1],\n",
       "       [ 0,  3,  1],\n",
       "       [ 2,  4, 12]])"
      ]
     },
     "execution_count": 10,
     "metadata": {},
     "output_type": "execute_result"
    }
   ],
   "source": [
    "A = np.array([\n",
    "    [1, -5, 3], \n",
    "    [2, 2, 1],\n",
    "    [0, 3, 1],\n",
    "    [2, 4, 12]\n",
    "])\n",
    "A"
   ]
  },
  {
   "cell_type": "code",
   "execution_count": 11,
   "metadata": {},
   "outputs": [],
   "source": [
    "A = np.matrix(\"1, -5; 2, 2; 0, 3\")\n",
    "B = np.matrix(\"3, 1, 0; -1, 0, 2\")"
   ]
  },
  {
   "cell_type": "code",
   "execution_count": 12,
   "metadata": {},
   "outputs": [
    {
     "data": {
      "text/plain": [
       "matrix([[ 1, -5],\n",
       "        [ 2,  2],\n",
       "        [ 0,  3]])"
      ]
     },
     "execution_count": 12,
     "metadata": {},
     "output_type": "execute_result"
    }
   ],
   "source": [
    "A"
   ]
  },
  {
   "cell_type": "code",
   "execution_count": 13,
   "metadata": {},
   "outputs": [
    {
     "data": {
      "text/plain": [
       "matrix([[ 3,  1,  0],\n",
       "        [-1,  0,  2]])"
      ]
     },
     "execution_count": 13,
     "metadata": {},
     "output_type": "execute_result"
    }
   ],
   "source": [
    "B"
   ]
  },
  {
   "cell_type": "code",
   "execution_count": 14,
   "metadata": {},
   "outputs": [
    {
     "name": "stdout",
     "output_type": "stream",
     "text": [
      "[[  8   1 -10]\n",
      " [  4   2   4]\n",
      " [ -3   0   6]]\n",
      "(3, 3)\n"
     ]
    }
   ],
   "source": [
    "C_1=np.dot(A,B)\n",
    "print(C_1)\n",
    "print(C_1.shape)\n"
   ]
  },
  {
   "cell_type": "code",
   "execution_count": 15,
   "metadata": {},
   "outputs": [
    {
     "name": "stdout",
     "output_type": "stream",
     "text": [
      "[[  5 -13]\n",
      " [ -1  11]]\n",
      "(2, 2)\n"
     ]
    }
   ],
   "source": [
    "C_2=np.dot(B,A)\n",
    "print(C_2)\n",
    "print(C_2.shape)\n"
   ]
  },
  {
   "cell_type": "code",
   "execution_count": 16,
   "metadata": {},
   "outputs": [
    {
     "name": "stdout",
     "output_type": "stream",
     "text": [
      "[[2 3]\n",
      " [1 3]]\n",
      "[[4 1]\n",
      " [1 0]]\n"
     ]
    }
   ],
   "source": [
    "A_1 = np.matrix(\"2,3; 1,3\")\n",
    "B_1 = np.matrix(\"4,1; 1,0\")\n",
    "print(A_1)\n",
    "print(B_1)"
   ]
  },
  {
   "cell_type": "code",
   "execution_count": 17,
   "metadata": {},
   "outputs": [
    {
     "name": "stdout",
     "output_type": "stream",
     "text": [
      "[[11  2]\n",
      " [ 7  1]] (2, 2)\n",
      "__________\n",
      "[[ 9 15]\n",
      " [ 2  3]] (2, 2)\n"
     ]
    }
   ],
   "source": [
    "C_3=np.dot(A_1,B_1)\n",
    "C_4=np.dot(B_1,A_1)\n",
    "print(C_3,C_3.shape)\n",
    "print(\"__________\")\n",
    "print(C_4,C_4.shape)\n",
    "\n"
   ]
  },
  {
   "cell_type": "code",
   "execution_count": null,
   "metadata": {},
   "outputs": [],
   "source": []
  },
  {
   "cell_type": "code",
   "execution_count": 18,
   "metadata": {},
   "outputs": [
    {
     "name": "stdout",
     "output_type": "stream",
     "text": [
      "[[1 2 3]\n",
      " [4 1 1]\n",
      " [0 2 1]]\n",
      "[[ 1]\n",
      " [ 2]\n",
      " [-1]]\n"
     ]
    }
   ],
   "source": [
    "A_2 = np.matrix(\"1,2,3; 4,1,1 ; 0,2,1\")\n",
    "B_2 = np.matrix(\"1; 2; -1\")\n",
    "print(A_2)\n",
    "print(B_2)"
   ]
  },
  {
   "cell_type": "code",
   "execution_count": 19,
   "metadata": {},
   "outputs": [
    {
     "name": "stdout",
     "output_type": "stream",
     "text": [
      "[[2]\n",
      " [5]\n",
      " [3]] (3, 1)\n",
      "__________\n"
     ]
    }
   ],
   "source": [
    "C_5=np.dot(A_2,B_2)\n",
    "#C_6=np.dot(B_2,A_2)\n",
    "print(C_5,C_5.shape)\n",
    "print(\"__________\")\n",
    "#print(C_5,C_6.shape)"
   ]
  },
  {
   "cell_type": "code",
   "execution_count": 20,
   "metadata": {},
   "outputs": [
    {
     "name": "stdout",
     "output_type": "stream",
     "text": [
      "[[1 2 3]\n",
      " [4 1 1]\n",
      " [0 2 1]]\n",
      "[[ 1  2 -1]]\n"
     ]
    }
   ],
   "source": [
    "A_3 = np.matrix(\"1,2,3; 4,1,1 ; 0,2,1\")\n",
    "B_3 = np.matrix(\"1, 2, -1\")\n",
    "print(A_3)\n",
    "print(B_3)"
   ]
  },
  {
   "cell_type": "code",
   "execution_count": 21,
   "metadata": {},
   "outputs": [
    {
     "name": "stdout",
     "output_type": "stream",
     "text": [
      "__________\n",
      "[[9 2 4]] (1, 3)\n"
     ]
    }
   ],
   "source": [
    "#C_7=np.dot(A_3,B_3)\n",
    "C_8=np.dot(B_3,A_3)\n",
    "#print(C_7,C_7.shape)\n",
    "print(\"__________\")\n",
    "print(C_8,C_8.shape)"
   ]
  },
  {
   "cell_type": "code",
   "execution_count": 22,
   "metadata": {},
   "outputs": [
    {
     "name": "stdout",
     "output_type": "stream",
     "text": [
      "[[1]\n",
      " [2]\n",
      " [3]]\n",
      "[[4 5 6]]\n"
     ]
    }
   ],
   "source": [
    "A_4 = np.matrix(\"1; 2 ; 3\")\n",
    "B_4 = np.matrix(\"4; 5 ; 6\").T\n",
    "print(A_4)\n",
    "print(B_4)"
   ]
  },
  {
   "cell_type": "code",
   "execution_count": 23,
   "metadata": {},
   "outputs": [
    {
     "name": "stdout",
     "output_type": "stream",
     "text": [
      "[[ 4  5  6]\n",
      " [ 8 10 12]\n",
      " [12 15 18]] (3, 3)\n",
      "__________\n",
      "[[32]] (1, 1)\n"
     ]
    }
   ],
   "source": [
    "C_9=np.dot(A_4,B_4)\n",
    "C_10=np.dot(B_4,A_4)\n",
    "print(C_9,C_9.shape)\n",
    "print(\"__________\")\n",
    "print(C_10,C_10.shape)"
   ]
  },
  {
   "cell_type": "code",
   "execution_count": 24,
   "metadata": {},
   "outputs": [
    {
     "name": "stdout",
     "output_type": "stream",
     "text": [
      "[[ 4  5  6]\n",
      " [ 8 10 12]\n",
      " [12 15 18]]\n"
     ]
    }
   ],
   "source": [
    "C_11=np.dot(A_4,B_4)\n",
    "\n",
    "print(C_11)\n"
   ]
  },
  {
   "cell_type": "markdown",
   "metadata": {},
   "source": [
    "Задание 6.3\n",
    "\n",
    "2 points possible (graded)"
   ]
  },
  {
   "cell_type": "code",
   "execution_count": 25,
   "metadata": {},
   "outputs": [
    {
     "name": "stdout",
     "output_type": "stream",
     "text": [
      "4 0\n"
     ]
    }
   ],
   "source": [
    "A_6_3 = np.matrix(\"1,-1,2,4,0; 8,2,0,5,3 ; 0,1,2,1,2\")\n",
    "B_6_3 = np.matrix(\"1,0,1,0; 0,0,2,-1; 1,0,1,1; 0,1,1,1; 1,1,0,-1\")\n",
    "#print(A_6_3)\n",
    "\n",
    "#print(B_6_3)\n",
    "\n",
    "C=np.dot(A_6_3,B_6_3)\n",
    "print(C[0,1],C[2,3])"
   ]
  },
  {
   "cell_type": "markdown",
   "metadata": {},
   "source": [
    "Задание 6.4\n",
    "\n",
    "1 point possible (graded)\n",
    "\n",
    "Матрица какого размера получится, если умножить матрицу  на матрицу ?"
   ]
  },
  {
   "cell_type": "code",
   "execution_count": 26,
   "metadata": {},
   "outputs": [
    {
     "name": "stdout",
     "output_type": "stream",
     "text": [
      "(2, 4)\n"
     ]
    }
   ],
   "source": [
    "A_6_4 = np.matrix(\"1,2,1; 4,4,4\")\n",
    "B_6_4 = np.matrix(\"1,0,6,1; 0,1,0,1; 6,0,1,1\")\n",
    "#print(A_6_3)\n",
    "\n",
    "#print(B_6_3)\n",
    "\n",
    "C=np.dot(A_6_4,B_6_4)\n",
    "print(C.shape)"
   ]
  },
  {
   "cell_type": "markdown",
   "metadata": {},
   "source": [
    "Задание 6.5\n",
    "\n",
    "4 points possible (graded)\n",
    "\n",
    "Найдите тензорное произведение векторо"
   ]
  },
  {
   "cell_type": "code",
   "execution_count": 27,
   "metadata": {},
   "outputs": [
    {
     "data": {
      "text/plain": [
       "matrix([[-3,  1],\n",
       "        [-9,  3]])"
      ]
     },
     "execution_count": 27,
     "metadata": {},
     "output_type": "execute_result"
    }
   ],
   "source": [
    "A_6_5 = np.matrix(\"1; 3\")\n",
    "B_6_5 = np.matrix(\"-3; 1\").T\n",
    "#print(A_6_5)\n",
    "#print(B_6_5)\n",
    "C_6_5=np.dot(A_6_5,B_6_5)\n",
    "C_6_5"
   ]
  },
  {
   "cell_type": "code",
   "execution_count": 28,
   "metadata": {},
   "outputs": [
    {
     "name": "stdout",
     "output_type": "stream",
     "text": [
      "[[1 2 3]\n",
      " [4 1 1]\n",
      " [0 2 1]]\n",
      "[[1 0 0]\n",
      " [0 2 0]\n",
      " [0 0 3]]\n",
      "************\n",
      "[[1 4 9]\n",
      " [4 2 3]\n",
      " [0 4 3]]\n",
      "_________\n",
      "[[1 2 3]\n",
      " [8 2 2]\n",
      " [0 6 3]]\n"
     ]
    }
   ],
   "source": [
    "A_21 = np.matrix(\"1,2,3; 4,1,1;0,2,1\")\n",
    "B_21 = np.matrix(\"1,0,0; 0,2,0;0,0,3\")\n",
    "print(A_21)\n",
    "print(B_21)\n",
    "C_21_1=np.dot(A_21,B_21)\n",
    "C_21_2=np.dot(B_21,A_21)\n",
    "print('************')\n",
    "print(C_21_1)\n",
    "print('_________')\n",
    "print(C_21_2)"
   ]
  },
  {
   "cell_type": "markdown",
   "metadata": {},
   "source": [
    "Задание 6.7\n",
    "\n",
    "4 points possible (graded)"
   ]
  },
  {
   "cell_type": "code",
   "execution_count": 29,
   "metadata": {},
   "outputs": [
    {
     "data": {
      "text/plain": [
       "matrix([[ 2,  2],\n",
       "        [ 8, 10]])"
      ]
     },
     "execution_count": 29,
     "metadata": {},
     "output_type": "execute_result"
    }
   ],
   "source": [
    "A_6_7 = np.matrix(\"2,0; 0,2\")\n",
    "B_6_7 = np.matrix(\"1,1; 4,5\")\n",
    "C_6_7=np.dot(A_6_7,B_6_7)\n",
    "C_6_7\n"
   ]
  },
  {
   "cell_type": "markdown",
   "metadata": {},
   "source": [
    "Задание 6.9\n",
    "\n",
    "1 point possible (graded)\n",
    "\n",
    "Составьте матрицу  из системы векторов:\n",
    "\n",
    "Найдите матрицу Грама .\n",
    "\n",
    "Выберите верный вариант ответа:"
   ]
  },
  {
   "cell_type": "code",
   "execution_count": 30,
   "metadata": {},
   "outputs": [
    {
     "data": {
      "text/plain": [
       "matrix([[2, 1, 3],\n",
       "        [1, 5, 0],\n",
       "        [3, 0, 5]])"
      ]
     },
     "execution_count": 30,
     "metadata": {},
     "output_type": "execute_result"
    }
   ],
   "source": [
    "A_6_9 = np.matrix(\"1,1; 2,-1; 1,2\").T\n",
    "A_6_9_1=A_6_9.T\n",
    "G=np.dot(A_6_9_1,A_6_9)\n",
    "G\n"
   ]
  },
  {
   "cell_type": "code",
   "execution_count": 35,
   "metadata": {},
   "outputs": [
    {
     "data": {
      "text/plain": [
       "matrix([[ 1.00000000e+00,  0.00000000e+00,  0.00000000e+00,\n",
       "         -2.22044605e-16],\n",
       "        [-1.33226763e-15,  1.00000000e+00,  0.00000000e+00,\n",
       "          2.22044605e-16],\n",
       "        [-3.99680289e-15,  8.88178420e-16,  1.00000000e+00,\n",
       "         -6.66133815e-16],\n",
       "        [-8.88178420e-16,  0.00000000e+00,  0.00000000e+00,\n",
       "          1.00000000e+00]])"
      ]
     },
     "execution_count": 35,
     "metadata": {},
     "output_type": "execute_result"
    }
   ],
   "source": [
    "A = np.matrix('1,2,3,4; 4,5,6,5; 7,8,10,11; 12,13,14,15')\n",
    "A\n",
    "B=np.linalg.inv(A)\n",
    "B\n",
    "C=A*B\n",
    "C"
   ]
  },
  {
   "cell_type": "code",
   "execution_count": 39,
   "metadata": {},
   "outputs": [
    {
     "name": "stdout",
     "output_type": "stream",
     "text": [
      "39.99999999999998\n"
     ]
    }
   ],
   "source": [
    "A = np.matrix('2,0,0; 0,4,0; 0,0,5')\n",
    "A\n",
    "B=np.linalg.inv(A)\n",
    "B\n",
    "#C=A*B\n",
    "#C\n",
    "print(np.linalg.det(A))"
   ]
  },
  {
   "cell_type": "code",
   "execution_count": 38,
   "metadata": {},
   "outputs": [
    {
     "name": "stdout",
     "output_type": "stream",
     "text": [
      "-2.9999999999999996\n"
     ]
    }
   ],
   "source": [
    "import numpy as np\n",
    "A = np.matrix (\"1, 2, 3; 4, 5, 6 ; 7, 8, 10\")\n",
    "print(np.linalg.det(A))\n",
    "# -3.0000000000009"
   ]
  },
  {
   "cell_type": "code",
   "execution_count": 41,
   "metadata": {},
   "outputs": [
    {
     "name": "stdout",
     "output_type": "stream",
     "text": [
      "-1\n",
      "18\n",
      "30\n"
     ]
    }
   ],
   "source": [
    "import numpy as np\n",
    "A = np.matrix (\"1, 2, ; 1, 1\")\n",
    "B = np.matrix (\"5,,-2; -1, 4\")\n",
    "print(round(np.linalg.det(A)))\n",
    "print(round(np.linalg.det(B)))\n",
    "print(round(np.linalg.det(A+B)))"
   ]
  },
  {
   "cell_type": "markdown",
   "metadata": {},
   "source": [
    "Задание 8.8\n",
    "\n",
    "2 points possible (graded)"
   ]
  },
  {
   "cell_type": "code",
   "execution_count": 43,
   "metadata": {},
   "outputs": [
    {
     "name": "stdout",
     "output_type": "stream",
     "text": [
      "8\n",
      "0.125\n"
     ]
    }
   ],
   "source": [
    "import numpy as np\n",
    "A = np.matrix (\"2,0,0; 0,1,0 ;0,0,4\")\n",
    "B=np.linalg.inv(A)\n",
    "print(round(np.linalg.det(A)))\n",
    "print(round((np.linalg.det(B)),3))"
   ]
  }
 ],
 "metadata": {
  "kernelspec": {
   "display_name": "Python 3",
   "language": "python",
   "name": "python3"
  },
  "language_info": {
   "codemirror_mode": {
    "name": "ipython",
    "version": 3
   },
   "file_extension": ".py",
   "mimetype": "text/x-python",
   "name": "python",
   "nbconvert_exporter": "python",
   "pygments_lexer": "ipython3",
   "version": "3.11.9"
  }
 },
 "nbformat": 4,
 "nbformat_minor": 2
}
